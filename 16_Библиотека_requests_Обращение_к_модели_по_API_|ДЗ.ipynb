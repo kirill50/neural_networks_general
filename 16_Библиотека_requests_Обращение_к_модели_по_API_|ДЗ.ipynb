{
  "nbformat": 4,
  "nbformat_minor": 0,
  "metadata": {
    "colab": {
      "provenance": []
    },
    "kernelspec": {
      "name": "python3",
      "display_name": "Python 3"
    },
    "language_info": {
      "name": "python"
    }
  },
  "cells": [
    {
      "cell_type": "markdown",
      "metadata": {
        "id": "EWGNSR35G-DA"
      },
      "source": [
        " Создайте веб-сервис с помощью FastAPI, загрузите на него обученную модель MNIST и протестируйте ее на собственноручно написанных цифрах.\n",
        "\n",
        "\n"
      ]
    },
    {
      "cell_type": "code",
      "metadata": {
        "id": "eGJLXs3jHjbQ",
        "colab": {
          "base_uri": "https://localhost:8080/"
        },
        "outputId": "04a5ab07-bf90-4dbd-a54d-6325dc892fb0"
      },
      "source": [
        "# загрузка всего датасет MNIST\n",
        "\n",
        "from tensorflow.keras.datasets import mnist      \n",
        "(x_train_org, y_train_org), (x_test_org, y_test_org) = mnist.load_data()               "
      ],
      "execution_count": null,
      "outputs": [
        {
          "output_type": "stream",
          "name": "stdout",
          "text": [
            "Downloading data from https://storage.googleapis.com/tensorflow/tf-keras-datasets/mnist.npz\n",
            "11493376/11490434 [==============================] - 0s 0us/step\n",
            "11501568/11490434 [==============================] - 0s 0us/step\n"
          ]
        }
      ]
    },
    {
      "cell_type": "code",
      "metadata": {
        "id": "h2hDB6bs0EpM"
      },
      "source": [
        "# подготовка набора экземпляров класса\n",
        "\n",
        "x_train = x_train_org.reshape(x_train_org.shape[0], -1)   \n",
        "x_test = x_test_org.reshape(x_test_org.shape[0], -1)   \n",
        "\n",
        "x_train = x_train.astype('float32') / 255.\n",
        "x_test  = x_test.astype('float32') / 255."
      ],
      "execution_count": null,
      "outputs": []
    },
    {
      "cell_type": "code",
      "metadata": {
        "id": "XqisNux80LYs"
      },
      "source": [
        "# подготовка набора меток класса\n",
        "\n",
        "from tensorflow.keras import utils              \n",
        "y_train = utils.to_categorical(y_train_org, 10)\n",
        "y_test = utils.to_categorical(y_test_org, 10)"
      ],
      "execution_count": null,
      "outputs": []
    },
    {
      "cell_type": "code",
      "metadata": {
        "colab": {
          "base_uri": "https://localhost:8080/"
        },
        "id": "LGoBZHu10PIM",
        "outputId": "19ab2818-c462-411e-e180-d82c5fc6c161"
      },
      "source": [
        "# проверка размерностей\n",
        "\n",
        "print(x_train.shape)\n",
        "print(y_train.shape)  "
      ],
      "execution_count": null,
      "outputs": [
        {
          "output_type": "stream",
          "name": "stdout",
          "text": [
            "(60000, 784)\n",
            "(60000, 10)\n"
          ]
        }
      ]
    },
    {
      "cell_type": "markdown",
      "metadata": {
        "id": "V04j-Jm978h7"
      },
      "source": [
        "## Решение"
      ]
    },
    {
      "cell_type": "markdown",
      "metadata": {
        "id": "YwhOtJQ30ZvU"
      },
      "source": [
        "Создадим и обучим модель, сохраним ее полностью при помощи `model.save()`: "
      ]
    },
    {
      "cell_type": "code",
      "metadata": {
        "id": "zTwnyRBdz3RF"
      },
      "source": [
        "# загрузка библиотек\n",
        "\n",
        "from tensorflow.keras.models import Sequential \n",
        "from tensorflow.keras.layers import Dense \n",
        "from tensorflow.keras.optimizers import Adam"
      ],
      "execution_count": null,
      "outputs": []
    },
    {
      "cell_type": "code",
      "metadata": {
        "colab": {
          "base_uri": "https://localhost:8080/"
        },
        "id": "Tx-lAuPEWKbw",
        "outputId": "04e64c1a-df7f-4813-86de-194ca513fa3d"
      },
      "source": [
        "# Создание модели\n",
        "model = Sequential()\n",
        "\n",
        "# Добавление слоев\n",
        "model.add(Dense(800, input_dim=784, activation='relu')) \n",
        "model.add(Dense(400, activation='relu')) \n",
        "model.add(Dense(10, activation='softmax')) \n",
        "\n",
        "# Компиляция модели\n",
        "model.compile(loss='categorical_crossentropy', \n",
        "              optimizer=Adam(learning_rate=0.001), \n",
        "              metrics=['accuracy'])\n",
        "\n",
        "# Обучение модели\n",
        "history = model.fit(x_train,              # Обучающая выборка  \n",
        "                    y_train,              # Обучающая выборка меток класса\n",
        "                    batch_size=8,         # Размер батча (пакета)\n",
        "                    epochs=3,             # Количество эпох обучения\n",
        "                    validation_split=0.1, # Доля проверочной выборки\n",
        "                    verbose=1)            # Отображение хода обучения\n",
        "\n",
        "# Сохранение модели\n",
        "from keras.models import save_model\n",
        "model.save('f_mnist.h5')   "
      ],
      "execution_count": null,
      "outputs": [
        {
          "output_type": "stream",
          "name": "stdout",
          "text": [
            "Epoch 1/3\n",
            "6750/6750 [==============================] - 55s 8ms/step - loss: 0.2022 - accuracy: 0.9394 - val_loss: 0.1336 - val_accuracy: 0.9595\n",
            "Epoch 2/3\n",
            "6750/6750 [==============================] - 54s 8ms/step - loss: 0.1018 - accuracy: 0.9706 - val_loss: 0.0957 - val_accuracy: 0.9733\n",
            "Epoch 3/3\n",
            "6750/6750 [==============================] - 51s 8ms/step - loss: 0.0734 - accuracy: 0.9786 - val_loss: 0.1615 - val_accuracy: 0.9653\n"
          ]
        }
      ]
    },
    {
      "cell_type": "code",
      "metadata": {
        "id": "0GRK5hb6DjRX"
      },
      "source": [
        "# Загрузка модели для скрипта\n",
        "\n",
        "from keras.models import load_model\n",
        "model = load_model('f_mnist.h5')"
      ],
      "execution_count": null,
      "outputs": []
    },
    {
      "cell_type": "code",
      "metadata": {
        "colab": {
          "base_uri": "https://localhost:8080/"
        },
        "id": "GrBBPI9LG-DB",
        "outputId": "57e91bbb-3b9d-400e-f594-c56b6d1822b8"
      },
      "source": [
        "# 1. Установка в среду FastAPI и вспомогательных библиотек\n",
        "\n",
        "# фреймворк, предназначенный для организации REST API сервисов\n",
        "!pip install fastapi\n",
        "\n",
        "# ASGI-совместимый веб-сервер для запуска приложения\n",
        "!pip install uvicorn \n",
        "\n",
        "# Отправка динамически сгенерированного файла (или файла из памяти) методом POST на удаленный сервер\n",
        "!pip install python-multipart "
      ],
      "execution_count": null,
      "outputs": [
        {
          "output_type": "stream",
          "name": "stdout",
          "text": [
            "Collecting fastapi\n",
            "  Downloading fastapi-0.71.0-py3-none-any.whl (51 kB)\n",
            "\u001b[K     |████████████████████████████████| 51 kB 595 kB/s \n",
            "\u001b[?25hCollecting starlette==0.17.1\n",
            "  Downloading starlette-0.17.1-py3-none-any.whl (58 kB)\n",
            "\u001b[K     |████████████████████████████████| 58 kB 5.2 MB/s \n",
            "\u001b[?25hCollecting pydantic!=1.7,!=1.7.1,!=1.7.2,!=1.7.3,!=1.8,!=1.8.1,<2.0.0,>=1.6.2\n",
            "  Downloading pydantic-1.9.0-cp37-cp37m-manylinux_2_17_x86_64.manylinux2014_x86_64.whl (10.9 MB)\n",
            "\u001b[K     |████████████████████████████████| 10.9 MB 14.3 MB/s \n",
            "\u001b[?25hCollecting anyio<4,>=3.0.0\n",
            "  Downloading anyio-3.4.0-py3-none-any.whl (78 kB)\n",
            "\u001b[K     |████████████████████████████████| 78 kB 6.4 MB/s \n",
            "\u001b[?25hRequirement already satisfied: typing-extensions in /usr/local/lib/python3.7/dist-packages (from starlette==0.17.1->fastapi) (3.10.0.2)\n",
            "Collecting sniffio>=1.1\n",
            "  Downloading sniffio-1.2.0-py3-none-any.whl (10 kB)\n",
            "Requirement already satisfied: idna>=2.8 in /usr/local/lib/python3.7/dist-packages (from anyio<4,>=3.0.0->starlette==0.17.1->fastapi) (2.10)\n",
            "Installing collected packages: sniffio, anyio, starlette, pydantic, fastapi\n",
            "Successfully installed anyio-3.4.0 fastapi-0.71.0 pydantic-1.9.0 sniffio-1.2.0 starlette-0.17.1\n",
            "Collecting uvicorn\n",
            "  Downloading uvicorn-0.16.0-py3-none-any.whl (54 kB)\n",
            "\u001b[K     |████████████████████████████████| 54 kB 2.0 MB/s \n",
            "\u001b[?25hRequirement already satisfied: typing-extensions in /usr/local/lib/python3.7/dist-packages (from uvicorn) (3.10.0.2)\n",
            "Collecting h11>=0.8\n",
            "  Downloading h11-0.12.0-py3-none-any.whl (54 kB)\n",
            "\u001b[K     |████████████████████████████████| 54 kB 3.0 MB/s \n",
            "\u001b[?25hCollecting asgiref>=3.4.0\n",
            "  Downloading asgiref-3.4.1-py3-none-any.whl (25 kB)\n",
            "Requirement already satisfied: click>=7.0 in /usr/local/lib/python3.7/dist-packages (from uvicorn) (7.1.2)\n",
            "Installing collected packages: h11, asgiref, uvicorn\n",
            "Successfully installed asgiref-3.4.1 h11-0.12.0 uvicorn-0.16.0\n",
            "Collecting python-multipart\n",
            "  Downloading python-multipart-0.0.5.tar.gz (32 kB)\n",
            "Requirement already satisfied: six>=1.4.0 in /usr/local/lib/python3.7/dist-packages (from python-multipart) (1.15.0)\n",
            "Building wheels for collected packages: python-multipart\n",
            "  Building wheel for python-multipart (setup.py) ... \u001b[?25l\u001b[?25hdone\n",
            "  Created wheel for python-multipart: filename=python_multipart-0.0.5-py3-none-any.whl size=31678 sha256=9cbc5e012018df3a2aba1529930d8a5f90727badd7f1e5e12343df761ffca368\n",
            "  Stored in directory: /root/.cache/pip/wheels/2c/41/7c/bfd1c180534ffdcc0972f78c5758f89881602175d48a8bcd2c\n",
            "Successfully built python-multipart\n",
            "Installing collected packages: python-multipart\n",
            "Successfully installed python-multipart-0.0.5\n"
          ]
        }
      ]
    },
    {
      "cell_type": "markdown",
      "metadata": {
        "id": "avvhXPGczKbU"
      },
      "source": [
        "Модель, созданная выше настроена на прием вектора из 784 элементов. Поэтому необходимо предварительно подготовить изображение перед подачей в сеть с учетом того, что обучающий и тестовый набор выглядят по разному. А именно:\n",
        "- перевести в градации серого, \n",
        "- привести исходный размер к 28 * 28, \n",
        "- !!! инвертировать цвета, т.к.  в наборе белые буквы на черном фоне, а у нас наоборот - синие на белом\n",
        "- !!! избавиться от шумов, дотянув цвет до белого или черного\n",
        "- преобразовать в numpy-массив\n",
        "- вытянуть в вектор.\n",
        "\n",
        "Чтобы описанное выше произошло на сервере, когда мы отправим ему изображение для получения предсказания, создадим `predict_file` с описанием логики работы сервера.\n",
        "\n",
        "Дополнительно файл должен содержать импортированные библиотеки, саму модель, запуск предсказания и его возврат:"
      ]
    },
    {
      "cell_type": "code",
      "metadata": {
        "id": "gBbwH4OQG-DF"
      },
      "source": [
        "predict_file = '''\n",
        "\n",
        "from tensorflow.keras.models import load_model\n",
        "import numpy as np\n",
        "from tensorflow.keras.preprocessing.image import load_img \n",
        "from io import BytesIO\n",
        "from PIL import Image \n",
        "\n",
        "INPUT_SHAPE = (28, 28)\n",
        "\n",
        "model = load_model('f_mnist.h5') # Инициализируем модель\n",
        "\n",
        "def process(image_file):\n",
        "    \n",
        "    # Открываем обрабатываемый файл и переводим в градации серого\n",
        "    img = Image.open(BytesIO(image_file)).convert('L')\n",
        "\n",
        "    # Приводим размерность в соответствии с входом сети\n",
        "    resized_image = img.resize((INPUT_SHAPE[1], INPUT_SHAPE[0]))     \n",
        "\n",
        "    # Инвертируем цвета, нормируем и переводим в numpy-массив\n",
        "    resized_image = np.array(1 - np.array(resized_image) / 255)\n",
        "\n",
        "    # Избавляемся от шумов, преобразуя значения пикселей к 0 (фон) или 1 (цифра)\n",
        "    resized_image[resized_image < 0.5] = 0\n",
        "    resized_image[resized_image >= 0.5] = 1\n",
        "\n",
        "    # Вытягиваем в вектор\n",
        "    resized_image = resized_image.reshape(1, 784)    \n",
        "\n",
        "    # Запускаем предсказание\n",
        "    prediction_array = model.predict(resized_image)[0] \n",
        "\n",
        "    # Возвращаем предсказание сети в виде словаря\n",
        "    return str({str(i): r for i, r in enumerate(prediction_array)})\n",
        "'''\n",
        "\n",
        "# Сохраняем код выше в файл\n",
        "with open('predict.py', 'w') as file:\n",
        "  file.write(predict_file)"
      ],
      "execution_count": null,
      "outputs": []
    },
    {
      "cell_type": "markdown",
      "metadata": {
        "id": "45qwXLM54a22"
      },
      "source": [
        "Создадим эндпойнт, т.е. адрес, по которому можно сделать запрос через API. \n",
        "\n",
        "Назовем его `main_file`. Он отправит `predict_file` на сервер. Внутрь него поместим импорт необходимых библиотек, экземпляр класса `FastAPI()` и назовем его `app` и применим к нему метод `post`.\n",
        "\n",
        "Далее определим функцию для работы с путями `create_file`. Т.к. приложению не нужно связываться ни с чем другим, а только ждать ответа, используем `async def`. Асинхронное программирование – это вид параллельного программирования, в котором какая-либо единица работы может выполняться отдельно от основного потока выполнения приложения. Когда работа завершается, основной поток получает уведомление о завершении рабочего потока или произошедшей ошибке. \n",
        "\n",
        "Функция принимает в качестве аргумента файл и возвращает предсказание:"
      ]
    },
    {
      "cell_type": "code",
      "metadata": {
        "id": "xr78NtZ8G-DG"
      },
      "source": [
        "main_file = '''\n",
        "\n",
        "from fastapi import FastAPI, File\n",
        "from predict import process\n",
        "\n",
        "app = FastAPI()\n",
        "\n",
        "@app.post(\"/predict\")\n",
        "async def create_file(file: bytes = File(...)):\n",
        "    return {\"result\": process(file)}'''\n",
        "\n",
        "with open('main.py', 'w') as file:\n",
        "  file.write(main_file)"
      ],
      "execution_count": null,
      "outputs": []
    },
    {
      "cell_type": "code",
      "metadata": {
        "colab": {
          "base_uri": "https://localhost:8080/"
        },
        "id": "H7pyyrfPG-DD",
        "outputId": "121961eb-5d88-44b2-987d-5d5a8e25f58f"
      },
      "source": [
        "# 2. Запуск http-сервера uvicorn с указанием приложения, которое будет запущено (app из файла main.py)\n",
        "\n",
        "!nohup uvicorn main:app --reload &"
      ],
      "execution_count": null,
      "outputs": [
        {
          "output_type": "stream",
          "name": "stdout",
          "text": [
            "nohup: appending output to 'nohup.out'\n"
          ]
        }
      ]
    },
    {
      "cell_type": "code",
      "metadata": {
        "id": "ywtFtamW8sur"
      },
      "source": [
        "# Посмотрим логи сервера\n",
        "\n",
        "!cat nohup.out"
      ],
      "execution_count": null,
      "outputs": []
    },
    {
      "cell_type": "markdown",
      "metadata": {
        "id": "OzZvac-G5EHz"
      },
      "source": [
        "Протестируем работу сети на сервере. \n",
        "\n",
        "Подготовим самописный набор:"
      ]
    },
    {
      "cell_type": "code",
      "metadata": {
        "colab": {
          "base_uri": "https://localhost:8080/",
          "height": 35
        },
        "id": "apaSTHwe_1y3",
        "outputId": "d0a2e7b1-4fee-4ee6-9c9d-e3c7a3c1313e"
      },
      "source": [
        "# Загрузка собственных рукописных цифр из облака\n",
        "\n",
        "import gdown\n",
        "gdown.download('https://storage.yandexcloud.net/aiueducation/Content/base/l3/hw_upro.zip', None, quiet=True)"
      ],
      "execution_count": null,
      "outputs": [
        {
          "output_type": "execute_result",
          "data": {
            "application/vnd.google.colaboratory.intrinsic+json": {
              "type": "string"
            },
            "text/plain": [
              "'hw_upro.zip'"
            ]
          },
          "metadata": {},
          "execution_count": 13
        }
      ]
    },
    {
      "cell_type": "code",
      "metadata": {
        "id": "R_MFOuzUAk7e"
      },
      "source": [
        "!unzip -q hw_upro.zip"
      ],
      "execution_count": null,
      "outputs": []
    },
    {
      "cell_type": "code",
      "metadata": {
        "colab": {
          "base_uri": "https://localhost:8080/",
          "height": 168
        },
        "id": "3MoDjFvnAmR2",
        "outputId": "249d32a1-3711-48c7-bd27-7d233ab4c068"
      },
      "source": [
        "# Метод для загрузки изображений\n",
        "from tensorflow.keras.preprocessing.image import load_img \n",
        "\n",
        "# Вывод для примера картинок по каждому классу\n",
        "\n",
        "# Создание полотна из десяти графиков\n",
        "import matplotlib.pyplot as plt  \n",
        "fig, axs = plt.subplots(1, 10, figsize=(25, 5)) \n",
        "\n",
        "# Проход и отрисовка по всем классам\n",
        "for i in range(10):\n",
        "    img = load_img('digits/' + str(i) + '.png', target_size=(28, 28)) \n",
        "    axs[i].imshow(img, cmap = 'gray')\n",
        "\n",
        "# Вывод изображений\n",
        "plt.show() "
      ],
      "execution_count": null,
      "outputs": [
        {
          "output_type": "display_data",
          "data": {
            "image/png": "[encoded data removed]",
            "text/plain": [
              "<Figure size 1800x360 with 10 Axes>"
            ]
          },
          "metadata": {
            "needs_background": "light"
          }
        }
      ]
    },
    {
      "cell_type": "markdown",
      "metadata": {
        "id": "_AHxkgCJBzzx"
      },
      "source": [
        "Протестируем наши тестовые изображения:"
      ]
    },
    {
      "cell_type": "code",
      "metadata": {
        "colab": {
          "base_uri": "https://localhost:8080/",
          "height": 1000
        },
        "id": "Qob6J8KrBuD8",
        "outputId": "b9146aef-e472-4ef2-9acf-23589d795d88"
      },
      "source": [
        "import os\n",
        "import requests\n",
        "import json\n",
        "import numpy as np\n",
        "\n",
        "# Получаем список файлов в тестовой папке с изображениями\n",
        "files = os.listdir('digits')    \n",
        "\n",
        "# Проходим по всем файлам\n",
        "for f in files:\n",
        "  print('Тестовое изображение:')                                   # Вывод строки\n",
        "  img = load_img('digits/' + f, target_size=(28, 28))              # Открытие изображения и приведение к размеру 28х28\n",
        "  \n",
        "  # Отображение картинки\n",
        "  plt.figure(figsize = (3,3))                                      # Размер полотна\n",
        "  plt.imshow(img)                                                  # Вывод\n",
        "  plt.axis('off')                                                  # Отключение осей\n",
        "  plt.show()\n",
        "\n",
        "  files = {'file': open(f'digits/{f}','rb')}                       # Открытие файла для передачи на сервер\n",
        "  r = requests.post('http://127.0.0.1:8000/predict', files=files)  # Отправка запроса на сервер\n",
        "  result = r.json()['result'].replace(\"'\",\"\\\"\")                    # Парсинг ответа (замена одного апострофа на двойные кавычки Требуется для преобразования строки в словарь)\n",
        "  result = json.loads(result)                                      # Проберазуем строку ответа к типу словарь\n",
        "  print(f'Ответ модели: {np.argmax(list(result.values()))}')       # Печатаем ответ нейронки\n",
        "  print()\n",
        "  print()"
      ],
      "execution_count": null,
      "outputs": [
        {
          "output_type": "stream",
          "name": "stdout",
          "text": [
            "Тестовое изображение:\n"
          ]
        },
        {
          "output_type": "display_data",
          "data": {
            "image/png": "[encoded data removed]",
            "text/plain": [
              "<Figure size 216x216 with 1 Axes>"
            ]
          },
          "metadata": {
            "needs_background": "light"
          }
        },
        {
          "output_type": "stream",
          "name": "stdout",
          "text": [
            "Ответ модели: 3\n",
            "\n",
            "\n",
            "Тестовое изображение:\n"
          ]
        },
        {
          "output_type": "display_data",
          "data": {
            "image/png": "[encoded data removed]",
            "text/plain": [
              "<Figure size 216x216 with 1 Axes>"
            ]
          },
          "metadata": {
            "needs_background": "light"
          }
        },
        {
          "output_type": "stream",
          "name": "stdout",
          "text": [
            "Ответ модели: 8\n",
            "\n",
            "\n",
            "Тестовое изображение:\n"
          ]
        },
        {
          "output_type": "display_data",
          "data": {
            "image/png": "[encoded data removed]",
            "text/plain": [
              "<Figure size 216x216 with 1 Axes>"
            ]
          },
          "metadata": {
            "needs_background": "light"
          }
        },
        {
          "output_type": "stream",
          "name": "stdout",
          "text": [
            "Ответ модели: 0\n",
            "\n",
            "\n",
            "Тестовое изображение:\n"
          ]
        },
        {
          "output_type": "display_data",
          "data": {
            "image/png": "[encoded data removed]",
            "text/plain": [
              "<Figure size 216x216 with 1 Axes>"
            ]
          },
          "metadata": {
            "needs_background": "light"
          }
        },
        {
          "output_type": "stream",
          "name": "stdout",
          "text": [
            "Ответ модели: 9\n",
            "\n",
            "\n",
            "Тестовое изображение:\n"
          ]
        },
        {
          "output_type": "display_data",
          "data": {
            "image/png": "[encoded data removed]",
            "text/plain": [
              "<Figure size 216x216 with 1 Axes>"
            ]
          },
          "metadata": {
            "needs_background": "light"
          }
        },
        {
          "output_type": "stream",
          "name": "stdout",
          "text": [
            "Ответ модели: 3\n",
            "\n",
            "\n",
            "Тестовое изображение:\n"
          ]
        },
        {
          "output_type": "display_data",
          "data": {
            "image/png": "[encoded data removed]",
            "text/plain": [
              "<Figure size 216x216 with 1 Axes>"
            ]
          },
          "metadata": {
            "needs_background": "light"
          }
        },
        {
          "output_type": "stream",
          "name": "stdout",
          "text": [
            "Ответ модели: 8\n",
            "\n",
            "\n",
            "Тестовое изображение:\n"
          ]
        },
        {
          "output_type": "display_data",
          "data": {
            "image/png": "[encoded data removed]",
            "text/plain": [
              "<Figure size 216x216 with 1 Axes>"
            ]
          },
          "metadata": {
            "needs_background": "light"
          }
        },
        {
          "output_type": "stream",
          "name": "stdout",
          "text": [
            "Ответ модели: 4\n",
            "\n",
            "\n",
            "Тестовое изображение:\n"
          ]
        },
        {
          "output_type": "display_data",
          "data": {
            "image/png": "[encoded data removed]",
            "text/plain": [
              "<Figure size 216x216 with 1 Axes>"
            ]
          },
          "metadata": {
            "needs_background": "light"
          }
        },
        {
          "output_type": "stream",
          "name": "stdout",
          "text": [
            "Ответ модели: 7\n",
            "\n",
            "\n",
            "Тестовое изображение:\n"
          ]
        },
        {
          "output_type": "display_data",
          "data": {
            "image/png": "[encoded data removed]",
            "text/plain": [
              "<Figure size 216x216 with 1 Axes>"
            ]
          },
          "metadata": {
            "needs_background": "light"
          }
        },
        {
          "output_type": "stream",
          "name": "stdout",
          "text": [
            "Ответ модели: 2\n",
            "\n",
            "\n",
            "Тестовое изображение:\n"
          ]
        },
        {
          "output_type": "display_data",
          "data": {
            "image/png": "[encoded data removed]",
            "text/plain": [
              "<Figure size 216x216 with 1 Axes>"
            ]
          },
          "metadata": {
            "needs_background": "light"
          }
        },
        {
          "output_type": "stream",
          "name": "stdout",
          "text": [
            "Ответ модели: 5\n",
            "\n",
            "\n"
          ]
        }
      ]
    }
  ]
}