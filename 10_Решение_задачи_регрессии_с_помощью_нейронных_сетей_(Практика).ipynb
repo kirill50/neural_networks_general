{
  "nbformat": 4,
  "nbformat_minor": 0,
  "metadata": {
    "accelerator": "GPU",
    "colab": {
      "name": "Базовый блок | Решение задачи регрессии с помощью нейронных сетей (Практика) | УИИ",
      "provenance": [],
      "collapsed_sections": []
    },
    "kernelspec": {
      "display_name": "Python 3",
      "name": "python3"
    },
    "language_info": {
      "name": "python"
    }
  },
  "cells": [
    {
      "cell_type": "markdown",
      "metadata": {
        "id": "kEr8YjgnvJkv"
      },
      "source": [
        "**Содержание**:\n",
        "\n",
        "1. [Теория](https://colab.research.google.com/drive/16c4XGNRZk8QDmIvK8FLGkcjQSRPY5GX4?usp=sharing)\n",
        "2. Практический ноутбук"
      ]
    },
    {
      "cell_type": "markdown",
      "metadata": {
        "id": "pv0rQTKwrB9Y"
      },
      "source": [
        "В данном ноутбуке мы решим задачу оценки зарплаты пользователя по указанным данным."
      ]
    },
    {
      "cell_type": "markdown",
      "metadata": {
        "id": "w5M0ZDtvzbW0"
      },
      "source": [
        "**Импортируемые модули**"
      ]
    },
    {
      "cell_type": "code",
      "metadata": {
        "id": "EOjQlKFqKLXw"
      },
      "source": [
        "# Работа с массивами данных\n",
        "import numpy as np \n",
        "\n",
        "# Работа с табличными данными\n",
        "import pandas as pd\n",
        "\n",
        "# Функции-утилиты для работы с категориальными данными\n",
        "from tensorflow.keras import utils\n",
        "\n",
        "# Класс для конструирования последовательной модели нейронной сети\n",
        "from tensorflow.keras.models import Sequential, Model\n",
        "\n",
        "# Основные слои\n",
        "from tensorflow.keras.layers import Dense, Dropout, SpatialDropout1D, BatchNormalization, Embedding, Flatten, Activation, Input, concatenate\n",
        "from tensorflow.keras.layers import SimpleRNN, GRU, LSTM, Bidirectional, Conv1D, MaxPooling1D, GlobalMaxPooling1D\n",
        "\n",
        "# Оптимизаторы\n",
        "from tensorflow.keras.optimizers import Adam, Adadelta, SGD, Adagrad, RMSprop\n",
        "\n",
        "# Токенизатор для преобразование текстов в последовательности\n",
        "from tensorflow.keras.preprocessing.text import Tokenizer\n",
        "\n",
        "# Масштабирование данных\n",
        "from sklearn.preprocessing import StandardScaler\n",
        "\n",
        "# Загрузка датасетов из облака google\n",
        "import gdown\n",
        "\n",
        "# Регулярные выражения\n",
        "import re\n",
        "\n",
        "# Отрисовка графиков\n",
        "import matplotlib.pyplot as plt\n",
        "\n",
        "# Метрики для расчета ошибок\n",
        "from sklearn.metrics import mean_squared_error, mean_absolute_error\n",
        "\n",
        "%matplotlib inline"
      ],
      "execution_count": null,
      "outputs": []
    },
    {
      "cell_type": "markdown",
      "metadata": {
        "id": "pTMnNmcU6i_o"
      },
      "source": [
        "## Парсинг (обработка) базы"
      ]
    },
    {
      "cell_type": "markdown",
      "metadata": {
        "id": "y8MhjaTdBQ7Z"
      },
      "source": [
        "Скачаем базу для работы:"
      ]
    },
    {
      "cell_type": "code",
      "metadata": {
        "colab": {
          "base_uri": "https://localhost:8080/",
          "height": 35
        },
        "id": "NvF01xqOCaek",
        "outputId": "26ac8c57-2602-45f7-b3dd-162bdf331bc1"
      },
      "source": [
        "gdown.download('https://storage.yandexcloud.net/aiueducation/Content/base/l10/hh_fixed.csv', None, quiet=True)"
      ],
      "execution_count": null,
      "outputs": [
        {
          "output_type": "execute_result",
          "data": {
            "text/plain": [
              "'hh_fixed.csv'"
            ],
            "application/vnd.google.colaboratory.intrinsic+json": {
              "type": "string"
            }
          },
          "metadata": {},
          "execution_count": 2
        }
      ]
    },
    {
      "cell_type": "markdown",
      "metadata": {
        "id": "aOCPGB8mBMU4"
      },
      "source": [
        "Давайте посмотрим на данные, с которыми нам предстоит работать:"
      ]
    },
    {
      "cell_type": "code",
      "metadata": {
        "colab": {
          "base_uri": "https://localhost:8080/",
          "height": 476
        },
        "id": "6ZWqBAzwB8JK",
        "outputId": "f85f4423-30cf-4c8e-ceb8-67a685c464d6"
      },
      "source": [
        "# Чтение файла базы данных\n",
        "df = pd.read_csv('hh_fixed.csv', index_col=0)\n",
        "\n",
        "# Вывод количества резюме и числа признаков\n",
        "print(df.shape)\n",
        "\n",
        "df.head()"
      ],
      "execution_count": null,
      "outputs": [
        {
          "output_type": "stream",
          "name": "stdout",
          "text": [
            "(62967, 12)\n"
          ]
        },
        {
          "output_type": "execute_result",
          "data": {
            "text/plain": [
              "                                   Пол, возраст           ЗП  \\\n",
              "0       Мужчина ,  29 лет , родился 16 мая 1989   40000 руб.   \n",
              "1       Мужчина ,  38 лет , родился 25 мая 1980   40000 руб.   \n",
              "2      Мужчина ,  35 лет , родился 14 июня 1983  300000 руб.   \n",
              "3   Мужчина ,  33 года , родился 2 августа 1985  180000 руб.   \n",
              "4  Мужчина ,  22 года , родился 1 сентября 1996   40000 руб.   \n",
              "\n",
              "                           Ищет работу на должность:  \\\n",
              "0  Специалист по поддержке чата(support team) дом...   \n",
              "1                            Системный администратор   \n",
              "2                DevOps TeamLead / DevOps архитектор   \n",
              "3                             Руководитель IT отдела   \n",
              "4                                   Junior Developer   \n",
              "\n",
              "                                               Город  \\\n",
              "0  Новороссийск , готов к переезду (Анапа, Геленд...   \n",
              "1  Новосибирск ,  м. Березовая роща , не готов к ...   \n",
              "2  Москва , готов к переезду , готов к редким ком...   \n",
              "3  Москва ,  м. Щукинская , не готов к переезду ,...   \n",
              "4  Москва ,  м. Юго-Западная , не готов к переезд...   \n",
              "\n",
              "                                           Занятость  \\\n",
              "0                                   полная занятость   \n",
              "1                                   полная занятость   \n",
              "2                                   полная занятость   \n",
              "3              частичная занятость, полная занятость   \n",
              "4  стажировка, частичная занятость, проектная работа   \n",
              "\n",
              "                            График  \\\n",
              "0                      полный день   \n",
              "1                      полный день   \n",
              "2                      полный день   \n",
              "3    удаленная работа, полный день   \n",
              "4  гибкий график, удаленная работа   \n",
              "\n",
              "            Опыт (двойное нажатие для полной версии)  \\\n",
              "0  Опыт работы 3 года 9 месяцев  Специалист по по...   \n",
              "1  Опыт работы 11 лет 11 месяцев  Системный админ...   \n",
              "2  Опыт работы 12 лет 11 месяцев  DevOps TeamLead...   \n",
              "3  Опыт работы 15 лет 10 месяцев  Руководитель IT...   \n",
              "4  Опыт работы 1 год 1 месяц  Junior Developer 40...   \n",
              "\n",
              "                    Последенее/нынешнее место работы  \\\n",
              "0                                   ООО \"Гольфстрим\"   \n",
              "1                   ООО «Завод модульных технологий»   \n",
              "2                                     Банк ВТБ (ПАО)   \n",
              "3  \"Ай-Теко\", ведущий российский системный интегр...   \n",
              "4                                    R-Style SoftLab   \n",
              "\n",
              "                       Последеняя/нынешняя должность  \\\n",
              "0                               Генеральный директор   \n",
              "1                            Системный администратор   \n",
              "2  Начальник отдела методологии разработки (DevOp...   \n",
              "3                    Старший системный администратор   \n",
              "4                               Менеджер IT-проектов   \n",
              "\n",
              "                                   Образование и ВУЗ Обновление резюме  \\\n",
              "0  Высшее образование 2011  Международный юридиче...  26.04.2019 08:04   \n",
              "1  Высшее образование 2002 Новосибирский государс...  26.04.2019 04:30   \n",
              "2  DevOps TeamLead / DevOps архитектор 300 000 ру...  09.04.2019 14:40   \n",
              "3  Руководитель IT отдела 180 000 руб. Информацио...  09.04.2019 14:39   \n",
              "4  Junior Developer 40 000 руб. Информационные те...  29.03.2019 12:40   \n",
              "\n",
              "                             Авто  \n",
              "0                      Не указано  \n",
              "1                      Не указано  \n",
              "2                      Не указано  \n",
              "3  Имеется собственный автомобиль  \n",
              "4                      Не указано  "
            ],
            "text/html": [
              "\n",
              "  <div id=\"df-d1186b01-c0f2-4964-81d8-1184b5092b82\">\n",
              "    <div class=\"colab-df-container\">\n",
              "      <div>\n",
              "<style scoped>\n",
              "    .dataframe tbody tr th:only-of-type {\n",
              "        vertical-align: middle;\n",
              "    }\n",
              "\n",
              "    .dataframe tbody tr th {\n",
              "        vertical-align: top;\n",
              "    }\n",
              "\n",
              "    .dataframe thead th {\n",
              "        text-align: right;\n",
              "    }\n",
              "</style>\n",
              "<table border=\"1\" class=\"dataframe\">\n",
              "  <thead>\n",
              "    <tr style=\"text-align: right;\">\n",
              "      <th></th>\n",
              "      <th>Пол, возраст</th>\n",
              "      <th>ЗП</th>\n",
              "      <th>Ищет работу на должность:</th>\n",
              "      <th>Город</th>\n",
              "      <th>Занятость</th>\n",
              "      <th>График</th>\n",
              "      <th>Опыт (двойное нажатие для полной версии)</th>\n",
              "      <th>Последенее/нынешнее место работы</th>\n",
              "      <th>Последеняя/нынешняя должность</th>\n",
              "      <th>Образование и ВУЗ</th>\n",
              "      <th>Обновление резюме</th>\n",
              "      <th>Авто</th>\n",
              "    </tr>\n",
              "  </thead>\n",
              "  <tbody>\n",
              "    <tr>\n",
              "      <th>0</th>\n",
              "      <td>Мужчина ,  29 лет , родился 16 мая 1989</td>\n",
              "      <td>40000 руб.</td>\n",
              "      <td>Специалист по поддержке чата(support team) дом...</td>\n",
              "      <td>Новороссийск , готов к переезду (Анапа, Геленд...</td>\n",
              "      <td>полная занятость</td>\n",
              "      <td>полный день</td>\n",
              "      <td>Опыт работы 3 года 9 месяцев  Специалист по по...</td>\n",
              "      <td>ООО \"Гольфстрим\"</td>\n",
              "      <td>Генеральный директор</td>\n",
              "      <td>Высшее образование 2011  Международный юридиче...</td>\n",
              "      <td>26.04.2019 08:04</td>\n",
              "      <td>Не указано</td>\n",
              "    </tr>\n",
              "    <tr>\n",
              "      <th>1</th>\n",
              "      <td>Мужчина ,  38 лет , родился 25 мая 1980</td>\n",
              "      <td>40000 руб.</td>\n",
              "      <td>Системный администратор</td>\n",
              "      <td>Новосибирск ,  м. Березовая роща , не готов к ...</td>\n",
              "      <td>полная занятость</td>\n",
              "      <td>полный день</td>\n",
              "      <td>Опыт работы 11 лет 11 месяцев  Системный админ...</td>\n",
              "      <td>ООО «Завод модульных технологий»</td>\n",
              "      <td>Системный администратор</td>\n",
              "      <td>Высшее образование 2002 Новосибирский государс...</td>\n",
              "      <td>26.04.2019 04:30</td>\n",
              "      <td>Не указано</td>\n",
              "    </tr>\n",
              "    <tr>\n",
              "      <th>2</th>\n",
              "      <td>Мужчина ,  35 лет , родился 14 июня 1983</td>\n",
              "      <td>300000 руб.</td>\n",
              "      <td>DevOps TeamLead / DevOps архитектор</td>\n",
              "      <td>Москва , готов к переезду , готов к редким ком...</td>\n",
              "      <td>полная занятость</td>\n",
              "      <td>полный день</td>\n",
              "      <td>Опыт работы 12 лет 11 месяцев  DevOps TeamLead...</td>\n",
              "      <td>Банк ВТБ (ПАО)</td>\n",
              "      <td>Начальник отдела методологии разработки (DevOp...</td>\n",
              "      <td>DevOps TeamLead / DevOps архитектор 300 000 ру...</td>\n",
              "      <td>09.04.2019 14:40</td>\n",
              "      <td>Не указано</td>\n",
              "    </tr>\n",
              "    <tr>\n",
              "      <th>3</th>\n",
              "      <td>Мужчина ,  33 года , родился 2 августа 1985</td>\n",
              "      <td>180000 руб.</td>\n",
              "      <td>Руководитель IT отдела</td>\n",
              "      <td>Москва ,  м. Щукинская , не готов к переезду ,...</td>\n",
              "      <td>частичная занятость, полная занятость</td>\n",
              "      <td>удаленная работа, полный день</td>\n",
              "      <td>Опыт работы 15 лет 10 месяцев  Руководитель IT...</td>\n",
              "      <td>\"Ай-Теко\", ведущий российский системный интегр...</td>\n",
              "      <td>Старший системный администратор</td>\n",
              "      <td>Руководитель IT отдела 180 000 руб. Информацио...</td>\n",
              "      <td>09.04.2019 14:39</td>\n",
              "      <td>Имеется собственный автомобиль</td>\n",
              "    </tr>\n",
              "    <tr>\n",
              "      <th>4</th>\n",
              "      <td>Мужчина ,  22 года , родился 1 сентября 1996</td>\n",
              "      <td>40000 руб.</td>\n",
              "      <td>Junior Developer</td>\n",
              "      <td>Москва ,  м. Юго-Западная , не готов к переезд...</td>\n",
              "      <td>стажировка, частичная занятость, проектная работа</td>\n",
              "      <td>гибкий график, удаленная работа</td>\n",
              "      <td>Опыт работы 1 год 1 месяц  Junior Developer 40...</td>\n",
              "      <td>R-Style SoftLab</td>\n",
              "      <td>Менеджер IT-проектов</td>\n",
              "      <td>Junior Developer 40 000 руб. Информационные те...</td>\n",
              "      <td>29.03.2019 12:40</td>\n",
              "      <td>Не указано</td>\n",
              "    </tr>\n",
              "  </tbody>\n",
              "</table>\n",
              "</div>\n",
              "      <button class=\"colab-df-convert\" onclick=\"convertToInteractive('df-d1186b01-c0f2-4964-81d8-1184b5092b82')\"\n",
              "              title=\"Convert this dataframe to an interactive table.\"\n",
              "              style=\"display:none;\">\n",
              "        \n",
              "  <svg xmlns=\"http://www.w3.org/2000/svg\" height=\"24px\"viewBox=\"0 0 24 24\"\n",
              "       width=\"24px\">\n",
              "    <path d=\"M0 0h24v24H0V0z\" fill=\"none\"/>\n",
              "    <path d=\"M18.56 5.44l.94 2.06.94-2.06 2.06-.94-2.06-.94-.94-2.06-.94 2.06-2.06.94zm-11 1L8.5 8.5l.94-2.06 2.06-.94-2.06-.94L8.5 2.5l-.94 2.06-2.06.94zm10 10l.94 2.06.94-2.06 2.06-.94-2.06-.94-.94-2.06-.94 2.06-2.06.94z\"/><path d=\"M17.41 7.96l-1.37-1.37c-.4-.4-.92-.59-1.43-.59-.52 0-1.04.2-1.43.59L10.3 9.45l-7.72 7.72c-.78.78-.78 2.05 0 2.83L4 21.41c.39.39.9.59 1.41.59.51 0 1.02-.2 1.41-.59l7.78-7.78 2.81-2.81c.8-.78.8-2.07 0-2.86zM5.41 20L4 18.59l7.72-7.72 1.47 1.35L5.41 20z\"/>\n",
              "  </svg>\n",
              "      </button>\n",
              "      \n",
              "  <style>\n",
              "    .colab-df-container {\n",
              "      display:flex;\n",
              "      flex-wrap:wrap;\n",
              "      gap: 12px;\n",
              "    }\n",
              "\n",
              "    .colab-df-convert {\n",
              "      background-color: #E8F0FE;\n",
              "      border: none;\n",
              "      border-radius: 50%;\n",
              "      cursor: pointer;\n",
              "      display: none;\n",
              "      fill: #1967D2;\n",
              "      height: 32px;\n",
              "      padding: 0 0 0 0;\n",
              "      width: 32px;\n",
              "    }\n",
              "\n",
              "    .colab-df-convert:hover {\n",
              "      background-color: #E2EBFA;\n",
              "      box-shadow: 0px 1px 2px rgba(60, 64, 67, 0.3), 0px 1px 3px 1px rgba(60, 64, 67, 0.15);\n",
              "      fill: #174EA6;\n",
              "    }\n",
              "\n",
              "    [theme=dark] .colab-df-convert {\n",
              "      background-color: #3B4455;\n",
              "      fill: #D2E3FC;\n",
              "    }\n",
              "\n",
              "    [theme=dark] .colab-df-convert:hover {\n",
              "      background-color: #434B5C;\n",
              "      box-shadow: 0px 1px 3px 1px rgba(0, 0, 0, 0.15);\n",
              "      filter: drop-shadow(0px 1px 2px rgba(0, 0, 0, 0.3));\n",
              "      fill: #FFFFFF;\n",
              "    }\n",
              "  </style>\n",
              "\n",
              "      <script>\n",
              "        const buttonEl =\n",
              "          document.querySelector('#df-d1186b01-c0f2-4964-81d8-1184b5092b82 button.colab-df-convert');\n",
              "        buttonEl.style.display =\n",
              "          google.colab.kernel.accessAllowed ? 'block' : 'none';\n",
              "\n",
              "        async function convertToInteractive(key) {\n",
              "          const element = document.querySelector('#df-d1186b01-c0f2-4964-81d8-1184b5092b82');\n",
              "          const dataTable =\n",
              "            await google.colab.kernel.invokeFunction('convertToInteractive',\n",
              "                                                     [key], {});\n",
              "          if (!dataTable) return;\n",
              "\n",
              "          const docLinkHtml = 'Like what you see? Visit the ' +\n",
              "            '<a target=\"_blank\" href=https://colab.research.google.com/notebooks/data_table.ipynb>data table notebook</a>'\n",
              "            + ' to learn more about interactive tables.';\n",
              "          element.innerHTML = '';\n",
              "          dataTable['output_type'] = 'display_data';\n",
              "          await google.colab.output.renderOutput(dataTable, element);\n",
              "          const docLink = document.createElement('div');\n",
              "          docLink.innerHTML = docLinkHtml;\n",
              "          element.appendChild(docLink);\n",
              "        }\n",
              "      </script>\n",
              "    </div>\n",
              "  </div>\n",
              "  "
            ]
          },
          "metadata": {},
          "execution_count": 3
        }
      ]
    },
    {
      "cell_type": "code",
      "metadata": {
        "colab": {
          "base_uri": "https://localhost:8080/"
        },
        "id": "L8MGwT1YH7Z7",
        "outputId": "ef7eeb1c-e516-4727-a03a-23658cdb9ff3"
      },
      "source": [
        "# Пример данных\n",
        "\n",
        "n = 0                                     # Индекс в таблице резюме\n",
        "for i in range(len(df.values[n])):        # Вывод значения каждого столбца\n",
        "    print('{:>2}  {}'.format(i, df.values[n][i]))"
      ],
      "execution_count": null,
      "outputs": [
        {
          "output_type": "stream",
          "name": "stdout",
          "text": [
            " 0  Мужчина ,  29 лет , родился 16 мая 1989\n",
            " 1  40000 руб.\n",
            " 2  Специалист по поддержке чата(support team) домашний агент\n",
            " 3  Новороссийск , готов к переезду (Анапа, Геленджик) , не готов к командировкам\n",
            " 4  полная занятость\n",
            " 5  полный день\n",
            " 6  Опыт работы 3 года 9 месяцев  Специалист по поддержке чата(support team) домашний агент 40 000 руб. Информационные технологии, интернет, телеком Системный администратор Сотовые, Беспроводные технологии Телекоммуникации Занятость: полная занятость График работы: полный день Опыт работы 3 года 9 месяцев Май 2012 — Январь  2016 3 года 9 месяцев ООО \"Гольфстрим\" Республика Башкортостан Строительство, недвижимость, эксплуатация, проектирование ... Строительство жилищное Управление и эксплуатация недвижимости Генеральный директор Руководство, отладка деловых связей, заключение договоров, развитие организации Ключевые навыки Теперь резюме открыто всему интернету — изменить можно в настройках видимости. Заключение договоров Деловое общение Деловая коммуникация Пользователь ПК Ведение переговоров Управление персоналом Деловая переписка Составление договоров Телефонные переговоры Грамотная речь MS Outlook Водительское удостоверение категории B Работа в команде Возникли неполадки. Попробуйте еще раз. Опыт вождения Права категории B Обо мне Электроника, новые технологии, автомобили, охота, природа, музыка, путешествия. Высшее образование 2011 Кликнув на название учебного заведения вы сможете найти кандидатов из этого вуза. Международный юридический институт при Министерстве юстиции Российской Федерации, Москва Юридический факультет, Юриспруденция Знание языков Русский — Родной Английский — A1 — Начальный Гражданство, время в пути до работы Гражданство: Россия Разрешение на работу: Россия Желательное время в пути до работы: Не имеет значения  Опыт работы 3 года 9 месяцев Май 2012 — Январь  2016 3 года 9 месяцев ООО \"Гольфстрим\" Республика Башкортостан Строительство, недвижимость, эксплуатация, проектирование ... Строительство жилищное Управление и эксплуатация недвижимости Генеральный директор Руководство, отладка деловых связей, заключение договоров, развитие организации  Май 2012 — Январь  2016 3 года 9 месяцев ООО \"Гольфстрим\" Республика Башкортостан Строительство, недвижимость, эксплуатация, проектирование ... Строительство жилищное Управление и эксплуатация недвижимости Генеральный директор Руководство, отладка деловых связей, заключение договоров, развитие организации\n",
            " 7  ООО \"Гольфстрим\"\n",
            " 8  Генеральный директор\n",
            " 9  Высшее образование 2011  Международный юридический институт при Министерстве юстиции Российской Федерации, Москва Юридический факультет, Юриспруденция\n",
            "10  26.04.2019 08:04\n",
            "11  Не указано\n"
          ]
        }
      ]
    },
    {
      "cell_type": "markdown",
      "metadata": {
        "id": "FgkNO2sVCMgC"
      },
      "source": [
        "В представленной таблице собраны примеры резюме пользователей. Нашим целевым параметром (значением, которое должна будет предсказать нейронная сеть), будет колонка ЗП.\n",
        "\n",
        "Остальные столбцы (за исклчюением двух последних) мы будем использовать как x_train, в качестве оцениваемых параметров.\n",
        "\n",
        "Наша главная задача: **подготовить данные для подачи в сеть**. В таблице собраны данные различных типов: текстовые, числовые, категориальные. Все это нужно правильно обработать перед подачей в сеть. Для каждого столбца мы подготовим специальную функцию, которая будет парсить (обрабатывать) данные из этого столбца. В итоге мы подготовим обучающую выборку, содержающую все данные из представленной таблицы.\n",
        "\n",
        "Прежде чем вы приступите к парсингу таблицы, рекомендуем вам ознакомится с дополнительными материалами на тему \"Функциональное программирование в Keras\" (ссылка ниже). Керас является гибким и мощным инструментом проектипования нейронных сетей, позволяющим создавать как линейные, так и нелинейные архитектуры:"
      ]
    },
    {
      "cell_type": "markdown",
      "metadata": {
        "id": "a9i4mt-fJZMo"
      },
      "source": [
        "\n",
        "---\n",
        "Дополнительная информация ([База знаний УИИ - «**Нелинейная структура моделей Functional API**»](https://colab.research.google.com/drive/12NpGcKhCoVtuNgxdy_znoykg9NgauqMo?usp=sharing))\n",
        "\n",
        "---\n",
        "\n",
        "\n",
        "\n"
      ]
    },
    {
      "cell_type": "markdown",
      "metadata": {
        "id": "U4yrj4GAH2ys"
      },
      "source": [
        "При помощи .get_loc() зафиксируйте номер столбца в определенной переменной. Это упростит обращение к столбцу и сделает код меньше и понятней:"
      ]
    },
    {
      "cell_type": "code",
      "metadata": {
        "id": "34V0BDMg9bku"
      },
      "source": [
        "# Настройка номеров столбцов\n",
        "# Дальнейшие вычисления не будут зависеть от порядка столбцов в таблице\n",
        "\n",
        "COL_SEX_AGE     = df.columns.get_loc('Пол, возраст')\n",
        "COL_SALARY      = df.columns.get_loc('ЗП')\n",
        "COL_POS_SEEK    = df.columns.get_loc('Ищет работу на должность:')\n",
        "COL_POS_PREV    = df.columns.get_loc('Последеняя/нынешняя должность')\n",
        "COL_CITY        = df.columns.get_loc('Город')\n",
        "COL_EMPL        = df.columns.get_loc('Занятость')\n",
        "COL_SCHED       = df.columns.get_loc('График')\n",
        "COL_EXP         = df.columns.get_loc('Опыт (двойное нажатие для полной версии)')\n",
        "COL_EDU         = df.columns.get_loc('Образование и ВУЗ')\n",
        "COL_UPDATED     = df.columns.get_loc('Обновление резюме')"
      ],
      "execution_count": null,
      "outputs": []
    },
    {
      "cell_type": "markdown",
      "metadata": {
        "id": "Ttv5VnIHFYLA"
      },
      "source": [
        "Теперь можем написать ряд функций для парсинга (обработки) нашей таблицы."
      ]
    },
    {
      "cell_type": "code",
      "metadata": {
        "id": "ZttFUMQLC5ed"
      },
      "source": [
        "def purify(x):\n",
        "    if isinstance(x, str):                # Если значение - строка:\n",
        "        # Замена концов строк на пробелы, удаление символа с кодом 0xA0,\n",
        "        # обрезка краевых пробелов и приведение к нижнему регистру\n",
        "        x = x.replace('\\n', ' ').replace('\\xa0', '').strip().lower()\n",
        "    return x"
      ],
      "execution_count": null,
      "outputs": []
    },
    {
      "cell_type": "markdown",
      "metadata": {
        "id": "VFYgch1-zjOh"
      },
      "source": [
        "Функция `purify()` написана для очистки текста в таблице с данными. Она убирает из строки следующие символы:\n",
        "- `\\n`;\n",
        "- `\\xa0`;\n",
        "- пробелы по краям.\n",
        "\n",
        "А также приводит все символы к нижнему регистру.\n"
      ]
    },
    {
      "cell_type": "markdown",
      "metadata": {
        "id": "LR5HEBcw0JxN"
      },
      "source": [
        "Например:"
      ]
    },
    {
      "cell_type": "code",
      "metadata": {
        "colab": {
          "base_uri": "https://localhost:8080/"
        },
        "id": "ij019dfxC5g-",
        "outputId": "586b680a-4668-435b-adcf-b3c96c4293fc"
      },
      "source": [
        "text = '    Мама\\xa0 мыла\\nРАМУ       \\xa0 '\n",
        "print(f'Неочищенная строка: {text}')\n",
        "print()\n",
        "print(f'Обработанная строка: {purify(text)}')"
      ],
      "execution_count": null,
      "outputs": [
        {
          "output_type": "stream",
          "name": "stdout",
          "text": [
            "Неочищенная строка:     Мама  мыла\n",
            "РАМУ         \n",
            "\n",
            "Обработанная строка: мама мыла раму\n"
          ]
        }
      ]
    },
    {
      "cell_type": "markdown",
      "metadata": {
        "id": "OPXoS6Tv1H2Q"
      },
      "source": [
        "Функция `extract_year()` выделяет из строки подстроку вида ДД.ММ.ГГГГ и возвращает значение года:"
      ]
    },
    {
      "cell_type": "code",
      "metadata": {
        "id": "tem1bwgj1ITN"
      },
      "source": [
        "def extract_year(x):\n",
        "    try: \n",
        "        return int(re.search(r'\\d\\d.\\d\\d.(\\d{4})', x)[1])   # Ожидается строка вида 'dd.mm.yyyy ...'\n",
        "  \n",
        "    except (IndexError, TypeError, ValueError):\n",
        "        return 0     "
      ],
      "execution_count": null,
      "outputs": []
    },
    {
      "cell_type": "markdown",
      "metadata": {
        "id": "kyz7AOsTtVMj"
      },
      "source": [
        "Здесь мы вопсользовались конструкцией `try except` для обработки исключений. Буквально запись выше означает:\n",
        "1. пробуем выполнить код:\n",
        "\n",
        "        int(re.search(r'\\d\\d.\\d\\d.(\\d{4})', x)[1])\n",
        "    \n",
        "2. Если код выполняется без ошибок, то функция `extract_year()` возвращает полученное значение\n",
        "\n",
        "3. Если код выполняется с ошибкой, то программа не вылетает и функция попадает в блок `except` и возвращает 0\n",
        "  "
      ]
    },
    {
      "cell_type": "markdown",
      "metadata": {
        "id": "OVKsD3f3tUvq"
      },
      "source": [
        "\n",
        "---\n",
        "Дополнительная информация ([База знаний УИИ - «**Обработка исключений (try except)**»](https://colab.research.google.com/drive/1m31BBr03P6o5F-50VBxFsdjbv-IrS51L?usp=sharing))\n",
        "\n",
        "---\n",
        "\n",
        "\n",
        "\n"
      ]
    },
    {
      "cell_type": "markdown",
      "metadata": {
        "id": "cHCbmMmUIj8y"
      },
      "source": [
        "Здесь же мы воспользовались библиотекой `re` - библиотекой регулярных выражений. Более подробно об этой библиотеке можете узнать по ссылке ниже:"
      ]
    },
    {
      "cell_type": "markdown",
      "metadata": {
        "id": "8uJQykrxI-78"
      },
      "source": [
        "\n",
        "---\n",
        "Дополнительная информация ([База знаний УИИ - «**Регулярные выражения на Python**»](https://colab.research.google.com/drive/10gyViE3w6pi6GA84roqoULjPllYE-KkK?usp=sharing))\n",
        "\n",
        "---\n",
        "\n",
        "\n",
        "\n"
      ]
    },
    {
      "cell_type": "code",
      "metadata": {
        "colab": {
          "base_uri": "https://localhost:8080/"
        },
        "id": "5TE9AH-s1Qqy",
        "outputId": "7085ee97-9bf7-4c25-a349-6fc95d19bd63"
      },
      "source": [
        "text = 'Пётр первый родился в ночь на 30.05.1672'\n",
        "print(text)\n",
        "print(extract_year(text))"
      ],
      "execution_count": null,
      "outputs": [
        {
          "output_type": "stream",
          "name": "stdout",
          "text": [
            "Пётр первый родился в ночь на 30.05.1672\n",
            "1672\n"
          ]
        }
      ]
    },
    {
      "cell_type": "markdown",
      "metadata": {
        "id": "vMkO_wTVjua-"
      },
      "source": [
        "Следующим блоком кода вы создадите словари и списки значений для разбиения на классы\n",
        "\n",
        "Например, список `city_class` содержит в себе словарь вида `{город: класс города}`\n",
        "\n",
        "Списки `age_class` и `experience_class` содержат в себе пороговые значения, которые будут определять, к какому классу относить возраст или опыт человека:\n"
      ]
    },
    {
      "cell_type": "code",
      "metadata": {
        "id": "DFq-_gswjtQy"
      },
      "source": [
        "### Параметрические данные для функций разбора ###\n",
        "\n",
        "# Курсы валют для зарплат\n",
        "currency_rate = {'usd'    : 65.,\n",
        "                 'kzt'    : 0.17,\n",
        "                 'грн'    : 2.6,\n",
        "                 'белруб' : 30.5,\n",
        "                 'eur'    : 70.,\n",
        "                 'kgs'    : 0.9,\n",
        "                 'сум'    : 0.007,\n",
        "                 'azn'    : 37.5\n",
        "                }\n",
        "\n",
        "# Списки и словари для разбиения на классы\n",
        "# Для ускорения работы добавлен счетчик классов, который будет вычислен ниже\n",
        "\n",
        "# Список порогов возраста\n",
        "age_class = [0, [18, 23, 28, 33, 38, 43, 48, 53, 58, 63]]\n",
        "\n",
        "# Список порогов опыта работы в месяцах\n",
        "experience_class = [0, [7, 13, 25, 37, 61, 97, 121, 157, 193, 241]]\n",
        "\n",
        "# Классы городов\n",
        "city_class = [0, \n",
        "              {'москва'          : 0,\n",
        "               'санкт-петербург' : 1,\n",
        "               'новосибирск'     : 2,\n",
        "               'екатеринбург'    : 2,\n",
        "               'нижний новгород' : 2,\n",
        "               'казань'          : 2,\n",
        "               'челябинск'       : 2,\n",
        "               'омск'            : 2,\n",
        "               'самара'          : 2,\n",
        "               'ростов-на-дону'  : 2,\n",
        "               'уфа'             : 2,\n",
        "               'красноярск'      : 2,\n",
        "               'пермь'           : 2,\n",
        "               'воронеж'         : 2,\n",
        "               'волгоград'       : 2,\n",
        "               'прочие города'   : 3\n",
        "              }]\n",
        "\n",
        "# Классы занятости\n",
        "employment_class = [0, \n",
        "                    {'стажировка'          : 0,\n",
        "                     'частичная занятость' : 1,\n",
        "                     'проектная работа'    : 2,\n",
        "                     'полная занятость'    : 3\n",
        "                    }]\n",
        "\n",
        "# Классы графика работы\n",
        "schedule_class = [0, \n",
        "                  {'гибкий график'         : 0,\n",
        "                   'полный день'           : 1,\n",
        "                   'сменный график'        : 2,\n",
        "                   'удаленная работа'      : 3\n",
        "                  }]\n",
        "\n",
        "# Классы образования\n",
        "education_class = [0,\n",
        "                   {'высшее образование'   : 0,\n",
        "                    'higher education'     : 0,\n",
        "                    'среднее специальное'  : 1,\n",
        "                    'неоконченное высшее'  : 2,\n",
        "                    'среднее образование'  : 3\n",
        "                   }]\n"
      ],
      "execution_count": null,
      "outputs": []
    },
    {
      "cell_type": "markdown",
      "metadata": {
        "id": "NHXG1mzykzqv"
      },
      "source": [
        "Как вы заметили, помимо меток классов и пороговых значений есть одно число, которое стоит на первом месте. Пока это просто нули, но следующим блоком кода вы измените их на количество различных классов\n",
        "\n",
        "Например, для `age_class` это значение будет равно `11`, а для `city_class` – `4`.\n"
      ]
    },
    {
      "cell_type": "code",
      "metadata": {
        "id": "pDUQlvhRjtWG"
      },
      "source": [
        "# Вычисление счетчиков для данных разбиения\n",
        "for class_desc in [age_class,\n",
        "                   experience_class,\n",
        "                   city_class,\n",
        "                   employment_class,\n",
        "                   schedule_class,\n",
        "                   education_class]:\n",
        "    if isinstance(class_desc[1], list):\n",
        "        class_desc[0] = len(class_desc[1]) + 1\n",
        "    else:\n",
        "        class_desc[0] = max(class_desc[1].values()) + 1"
      ],
      "execution_count": null,
      "outputs": []
    },
    {
      "cell_type": "markdown",
      "metadata": {
        "id": "x-F6n4E3Jtoz"
      },
      "source": [
        "Проверим список `age_class`:"
      ]
    },
    {
      "cell_type": "code",
      "metadata": {
        "colab": {
          "base_uri": "https://localhost:8080/"
        },
        "id": "BKMzTqckJnAi",
        "outputId": "7d6fb0c1-0719-4bdc-a027-f16f774ca372"
      },
      "source": [
        "age_class"
      ],
      "execution_count": null,
      "outputs": [
        {
          "output_type": "execute_result",
          "data": {
            "text/plain": [
              "[11, [18, 23, 28, 33, 38, 43, 48, 53, 58, 63]]"
            ]
          },
          "metadata": {},
          "execution_count": 12
        }
      ]
    },
    {
      "cell_type": "markdown",
      "metadata": {
        "id": "xBAvTwKNJzx8"
      },
      "source": [
        "Как видите, теперь первым элементов стоит число `11` - количество категорий"
      ]
    },
    {
      "cell_type": "markdown",
      "metadata": {
        "id": "4tAheJUtwygu"
      },
      "source": [
        "Функция `int_to_ohe()` возвращает one hot encoding представление значения класса.\n",
        "\n",
        "Что это значит?\n",
        "\n",
        "Если количество классов равно 5, то one hot представление для класса `0` будет: `[1, 0, 0, 0, 0]`. \n",
        "\n",
        "А, например, для класса 3 - `[0, 0, 0, 1, 0]`"
      ]
    },
    {
      "cell_type": "code",
      "metadata": {
        "id": "MZwdS84MGS7D"
      },
      "source": [
        "def int_to_ohe(arg, class_list):\n",
        "  \n",
        "    # Определение размерности выходного вектора\n",
        "    num_classes = class_list[0]\n",
        "\n",
        "    # Поиск верного интервала для входного значения\n",
        "    for i in range(num_classes - 1):\n",
        "        if arg < class_list[1][i]:\n",
        "            cls = i                       # Интервал найден - назначение класса\n",
        "            break\n",
        "    else:                                 # Внимание: for/else\n",
        "        cls = num_classes - 1             # Интервал не найден - последний класс\n",
        "\n",
        "    # Возврат в виде one hot encoding-вектора\n",
        "    return utils.to_categorical(cls, num_classes)"
      ],
      "execution_count": null,
      "outputs": []
    },
    {
      "cell_type": "code",
      "metadata": {
        "colab": {
          "base_uri": "https://localhost:8080/"
        },
        "id": "VwQt8uwwwccU",
        "outputId": "40babc01-1455-4ae3-8501-b8fcd5cc436c"
      },
      "source": [
        "age = 32\n",
        "int_to_ohe(age, age_class)"
      ],
      "execution_count": null,
      "outputs": [
        {
          "output_type": "execute_result",
          "data": {
            "text/plain": [
              "array([0., 0., 0., 1., 0., 0., 0., 0., 0., 0., 0.], dtype=float32)"
            ]
          },
          "metadata": {},
          "execution_count": 14
        }
      ]
    },
    {
      "cell_type": "markdown",
      "metadata": {
        "id": "0pnZcI4JBA_-"
      },
      "source": [
        "Функция `str_to_multi()` сопоставляет строковому значению метку класса. \n",
        "\n",
        "Функционально это то же самое, что и предыдущий случай, но для `city_class`, `employment_class` и т. д.\n"
      ]
    },
    {
      "cell_type": "code",
      "metadata": {
        "id": "LlFhkM0RAbsr"
      },
      "source": [
        "# Общая функция преобразования строки к multi-вектору\n",
        "# На входе данные и словарь сопоставления подстрок классам\n",
        "\n",
        "def str_to_multi(arg, class_dict):\n",
        "    # Определение размерности выходного вектора\n",
        "    num_classes = class_dict[0]\n",
        "\n",
        "    # Создание нулевого вектора\n",
        "    result = np.zeros(num_classes)\n",
        "    \n",
        "    # Поиск значения в словаре и, если найдено,\n",
        "    # выставление 1. на нужной позиции\n",
        "    for value, cls in class_dict[1].items():\n",
        "        if value in arg:\n",
        "            result[cls] = 1.\n",
        "\n",
        "    return result"
      ],
      "execution_count": null,
      "outputs": []
    },
    {
      "cell_type": "code",
      "metadata": {
        "colab": {
          "base_uri": "https://localhost:8080/"
        },
        "id": "WNwzbbWIB466",
        "outputId": "43b15ae5-aac6-428e-8e04-2287539aaa89"
      },
      "source": [
        "text = 'полная занятость'\n",
        "print(text)\n",
        "print(str_to_multi(text, employment_class))"
      ],
      "execution_count": null,
      "outputs": [
        {
          "output_type": "stream",
          "name": "stdout",
          "text": [
            "полная занятость\n",
            "[0. 0. 0. 1.]\n"
          ]
        }
      ]
    },
    {
      "cell_type": "markdown",
      "metadata": {
        "id": "K-2bcAAqCsJt"
      },
      "source": [
        "Функция `extract_sex_age_years()` выделяет из строки информацию про пол и возраст человека:"
      ]
    },
    {
      "cell_type": "code",
      "metadata": {
        "id": "LGDGrVxiEPCu"
      },
      "source": [
        "base_update_year = 2019"
      ],
      "execution_count": null,
      "outputs": []
    },
    {
      "cell_type": "code",
      "metadata": {
        "id": "6ijWpsP8C89r"
      },
      "source": [
        "# Разбор значений пола, возраста\n",
        "\n",
        "def extract_sex_age_years(arg):\n",
        "    # Ожидается, что значение содержит \"мужчина\" или \"женщина\"\n",
        "    # Если \"мужчина\" - результат 1., иначе 0.\n",
        "    sex = 1. if 'муж' in arg else 0.\n",
        "\n",
        "    try:\n",
        "        # Выделение года и вычисление возраста\n",
        "        years = base_update_year - int(re.search(r'\\d{4}', arg)[0])\n",
        "\n",
        "    except (IndexError, TypeError, ValueError):\n",
        "        # В случае ошибки год равен 0\n",
        "        years = 0\n",
        "\n",
        "    return sex, years"
      ],
      "execution_count": null,
      "outputs": []
    },
    {
      "cell_type": "code",
      "metadata": {
        "colab": {
          "base_uri": "https://localhost:8080/"
        },
        "id": "SzWWE1ELEs3y",
        "outputId": "01c91b30-6669-49d8-e221-312a0214fc53"
      },
      "source": [
        "text = 'мужчина , 33 года , родился 2 августа 1985'\n",
        "print(text)\n",
        "print(extract_sex_age_years(text))"
      ],
      "execution_count": null,
      "outputs": [
        {
          "output_type": "stream",
          "name": "stdout",
          "text": [
            "мужчина , 33 года , родился 2 августа 1985\n",
            "(1.0, 34)\n"
          ]
        }
      ]
    },
    {
      "cell_type": "markdown",
      "metadata": {
        "id": "6nMmE2iSFOK_"
      },
      "source": [
        "Функция `age_years_to_ohe()` просто использует функцию `int_to_ohe()`, передавая ей список `age_class`:"
      ]
    },
    {
      "cell_type": "code",
      "metadata": {
        "id": "ybrMkaYXFNl6"
      },
      "source": [
        "# Преобразование значения возраста в one hot encoding\n",
        "\n",
        "def age_years_to_ohe(arg):\n",
        "    return int_to_ohe(arg, age_class)"
      ],
      "execution_count": null,
      "outputs": []
    },
    {
      "cell_type": "code",
      "metadata": {
        "colab": {
          "base_uri": "https://localhost:8080/"
        },
        "id": "mMgSe3JaGhhT",
        "outputId": "8a986a47-8164-4b83-87ec-2d3cfa5ae979"
      },
      "source": [
        "print(age_years_to_ohe(32))"
      ],
      "execution_count": null,
      "outputs": [
        {
          "output_type": "stream",
          "name": "stdout",
          "text": [
            "[0. 0. 0. 1. 0. 0. 0. 0. 0. 0. 0.]\n"
          ]
        }
      ]
    },
    {
      "cell_type": "markdown",
      "metadata": {
        "id": "7yoLkS3fPQjx"
      },
      "source": [
        "Функция `experience_months_to_ohe()` работает точно так же, только передает `experience_class`:"
      ]
    },
    {
      "cell_type": "code",
      "metadata": {
        "id": "j3Vhf8Y4GHFJ"
      },
      "source": [
        "# Преобразование данных об опыте работы в one hot encoding\n",
        "\n",
        "def experience_months_to_ohe(arg):\n",
        "    return int_to_ohe(arg, experience_class)"
      ],
      "execution_count": null,
      "outputs": []
    },
    {
      "cell_type": "code",
      "metadata": {
        "colab": {
          "base_uri": "https://localhost:8080/"
        },
        "id": "5x42rSf5PcYk",
        "outputId": "fd45b9b3-d55b-40a1-d4bf-3d7a34065d88"
      },
      "source": [
        "print(experience_months_to_ohe(100))"
      ],
      "execution_count": null,
      "outputs": [
        {
          "output_type": "stream",
          "name": "stdout",
          "text": [
            "[0. 0. 0. 0. 0. 0. 1. 0. 0. 0. 0.]\n"
          ]
        }
      ]
    },
    {
      "cell_type": "markdown",
      "metadata": {
        "id": "krO2x49aFXQx"
      },
      "source": [
        "Функция `extract_salary()` выделяет из строки значение зарплаты и переводит его в курс рубля. \n",
        "\n",
        "Значение возвращается в тыс. рублей:"
      ]
    },
    {
      "cell_type": "code",
      "metadata": {
        "id": "lAlv_61TFW-4"
      },
      "source": [
        "# Разбор значения зарплаты\n",
        "\n",
        "def extract_salary(arg):\n",
        "    try:\n",
        "        # Выделение числа и преобразование к float\n",
        "        value = float(re.search(r'\\d+', arg)[0])\n",
        "\n",
        "        # Поиск символа валюты в строке, и, если найдено,\n",
        "        # приведение к рублю по курсу валюты\n",
        "        for currency, rate in currency_rate.items():\n",
        "            if currency in arg:\n",
        "                value *= rate\n",
        "                break\n",
        "\n",
        "    except TypeError:\n",
        "        # Если не получилось выделить число - вернуть 0\n",
        "        value = 0.\n",
        "\n",
        "    return value / 1000.                  # В тысячах рублей"
      ],
      "execution_count": null,
      "outputs": []
    },
    {
      "cell_type": "code",
      "metadata": {
        "colab": {
          "base_uri": "https://localhost:8080/"
        },
        "id": "OkEGeNTkHdWH",
        "outputId": "2d4ff4f6-ef09-40b4-f105-4a60c4767b4f"
      },
      "source": [
        "print(extract_salary('40000 руб.'))\n",
        "print(extract_salary('40000 eur.'))"
      ],
      "execution_count": null,
      "outputs": [
        {
          "output_type": "stream",
          "name": "stdout",
          "text": [
            "40.0\n",
            "2800.0\n"
          ]
        }
      ]
    },
    {
      "cell_type": "markdown",
      "metadata": {
        "id": "od5eKcg1LUmA"
      },
      "source": [
        "Функция `extract_city_to_ohe()` выделяет из строки название города, основываясь на `city_class` и переводит значение класса в one hot encoding:"
      ]
    },
    {
      "cell_type": "code",
      "metadata": {
        "id": "7rXOxq9lFXY3"
      },
      "source": [
        "# Разбор данных о городe и преобразование в one hot encoding\n",
        "\n",
        "def extract_city_to_ohe(arg):\n",
        "    # Определение размерности выходного вектора\n",
        "    num_classes = city_class[0]\n",
        "\n",
        "    # Разбивка на слова\n",
        "    split_array = re.split(r'[ ,.:()?!]', arg)\n",
        "\n",
        "    # Поиск города в строке и присвоение ему класса\n",
        "    for word in split_array:\n",
        "        city_cls = city_class[1].get(word, -1)\n",
        "        if city_cls >= 0:\n",
        "            break\n",
        "    else:                                 # Внимание: for/else\n",
        "        # Город не в city_class - значит его класс \"прочие города\"\n",
        "        city_cls = num_classes - 1\n",
        "\n",
        "    # Возврат в виде one hot encoding-вектора\n",
        "    return utils.to_categorical(city_cls, num_classes)"
      ],
      "execution_count": null,
      "outputs": []
    },
    {
      "cell_type": "code",
      "metadata": {
        "colab": {
          "base_uri": "https://localhost:8080/"
        },
        "id": "CZ2Fpef2K4Uq",
        "outputId": "32e9c7b6-53ec-4a4e-a62f-abdf66c97d93"
      },
      "source": [
        "print(extract_city_to_ohe('москва , м. юго-западная , не готов к переезду'))"
      ],
      "execution_count": null,
      "outputs": [
        {
          "output_type": "stream",
          "name": "stdout",
          "text": [
            "[1. 0. 0. 0.]\n"
          ]
        }
      ]
    },
    {
      "cell_type": "markdown",
      "metadata": {
        "id": "7EVEC5V-FXlg"
      },
      "source": [
        "Функции `extract_employment_to_multi()`, `extract_schedule_to_multi()`, `extract_education_to_multi()` используют функцию `str_to_multi()`, передавая ей соответствующие данные:"
      ]
    },
    {
      "cell_type": "code",
      "metadata": {
        "id": "z5t3F4U5FXt-"
      },
      "source": [
        "# Разбор данных о желаемой занятости и преобразование в multi\n",
        "\n",
        "def extract_employment_to_multi(arg):\n",
        "    return str_to_multi(arg, employment_class)"
      ],
      "execution_count": null,
      "outputs": []
    },
    {
      "cell_type": "code",
      "metadata": {
        "id": "DWYotxpvFmwq"
      },
      "source": [
        "# Разбор данных о желаемом графике работы и преобразование в multi\n",
        "\n",
        "def extract_schedule_to_multi(arg):\n",
        "    return str_to_multi(arg, schedule_class)"
      ],
      "execution_count": null,
      "outputs": []
    },
    {
      "cell_type": "code",
      "metadata": {
        "id": "aJH1dMJBFnJs"
      },
      "source": [
        "# Разбор данных об образовании и преобразование в multi\n",
        "\n",
        "def extract_education_to_multi(arg):\n",
        "    result = str_to_multi(arg, education_class)\n",
        "    \n",
        "    # Поправка: неоконченное высшее не может быть одновременно с высшим\n",
        "    if result[2] > 0.:\n",
        "        result[0] = 0.\n",
        "    \n",
        "    return result"
      ],
      "execution_count": null,
      "outputs": []
    },
    {
      "cell_type": "code",
      "metadata": {
        "colab": {
          "base_uri": "https://localhost:8080/"
        },
        "id": "owLYAWsoQRJU",
        "outputId": "2fae244a-d9bf-4a66-e976-f422b9e651dd"
      },
      "source": [
        "print(extract_employment_to_multi('полная занятость'))\n",
        "print(extract_schedule_to_multi('полный день'))\n",
        "print(extract_education_to_multi('высшее образование 2011'))\n"
      ],
      "execution_count": null,
      "outputs": [
        {
          "output_type": "stream",
          "name": "stdout",
          "text": [
            "[0. 0. 0. 1.]\n",
            "[0. 1. 0. 0.]\n",
            "[1. 0. 0. 0.]\n"
          ]
        }
      ]
    },
    {
      "cell_type": "markdown",
      "metadata": {
        "id": "OV1ThN37FnVH"
      },
      "source": [
        "Функция `extract_experience_months()` выделяет из текста информацию об опыте работы в месяцах:"
      ]
    },
    {
      "cell_type": "code",
      "metadata": {
        "id": "-Gw-a0kDFne1"
      },
      "source": [
        "# Разбор данных об опыте работы - результат в месяцах\n",
        "\n",
        "def extract_experience_months(arg):\n",
        "    try:\n",
        "        # Выделение количества лет, преобразование в int\n",
        "        years = int(re.search(r'(\\d+)\\s+(год.?|лет)', arg)[1])\n",
        "\n",
        "    except (IndexError, TypeError, ValueError):\n",
        "        # Неудача - количество лет равно 0\n",
        "        years = 0\n",
        "    \n",
        "    try:\n",
        "        # Выделение количества месяцев, преобразование в int\n",
        "        months = int(re.search(r'(\\d+)\\s+месяц', arg)[1])\n",
        "\n",
        "    except (IndexError, TypeError, ValueError):\n",
        "        # Неудача - количество месяцев равно 0\n",
        "        months = 0\n",
        "\n",
        "    # Возврат результата в месяцах\n",
        "    return years * 12 + months"
      ],
      "execution_count": null,
      "outputs": []
    },
    {
      "cell_type": "code",
      "metadata": {
        "colab": {
          "base_uri": "https://localhost:8080/"
        },
        "id": "--nTj-izRjvv",
        "outputId": "898f1d17-835e-4b6e-b65c-738078d29100"
      },
      "source": [
        "print(extract_experience_months('опыт работы 3 года 9 месяцев'))"
      ],
      "execution_count": null,
      "outputs": [
        {
          "output_type": "stream",
          "name": "stdout",
          "text": [
            "45\n"
          ]
        }
      ]
    },
    {
      "cell_type": "markdown",
      "metadata": {
        "id": "9MFFc7hcYg29"
      },
      "source": [
        "**Функции подготовки выборок**"
      ]
    },
    {
      "cell_type": "markdown",
      "metadata": {
        "id": "gQC7_Q3AL8s2"
      },
      "source": [
        "Теперь мы готовы создать выборки с помощью подготовленных выше функций:"
      ]
    },
    {
      "cell_type": "code",
      "metadata": {
        "id": "b0jq85WTahIA"
      },
      "source": [
        "def extract_row_data(row):\n",
        "  \n",
        "    # Извлечение и преобразование данных\n",
        "    sex, age = extract_sex_age_years(row[COL_SEX_AGE])      # Пол, возраст\n",
        "    sex_vec = np.array([sex])                               # Пол в виде вектора\n",
        "    age_ohe = age_years_to_ohe(age)                         # Возраст в one hot encoding\n",
        "    city_ohe = extract_city_to_ohe(row[COL_CITY])           # Город\n",
        "    empl_multi = extract_employment_to_multi(row[COL_EMPL]) # Тип занятости\n",
        "    sсhed_multi = extract_schedule_to_multi(row[COL_SCHED]) # График работы\n",
        "    edu_multi = extract_education_to_multi(row[COL_EDU])    # Образование\n",
        "    exp_months = extract_experience_months(row[COL_EXP])    # Опыт работы в месяцах\n",
        "    exp_ohe = experience_months_to_ohe(exp_months)          # Опыт работы в one hot encoding\n",
        "    salary = extract_salary(row[COL_SALARY])                # Зарплата в тысячах рублей\n",
        "    salary_vec = np.array([salary])                         # Зарплата в виде вектора\n",
        "\n",
        "    # Объединение всех входных данных в один общий вектор\n",
        "    x_data = np.hstack([sex_vec,\n",
        "                        age_ohe, \n",
        "                        city_ohe,\n",
        "                        empl_multi,\n",
        "                        sсhed_multi,\n",
        "                        edu_multi,\n",
        "                        exp_ohe])\n",
        "    \n",
        "    # Возврат входных данных и выходных (зарплаты)\n",
        "    return x_data, salary_vec\n",
        "\n",
        "\n",
        "# Создание общей выборки\n",
        "def construct_train_data(row_list):\n",
        "    x_data = []\n",
        "    y_data = []\n",
        "    \n",
        "    for row in row_list:\n",
        "        x, y = extract_row_data(row)\n",
        "        if y[0] > 0:                      # Данные добавляются, только если есть зарплата\n",
        "            x_data.append(x)\n",
        "            y_data.append(y)\n",
        "\n",
        "    return np.array(x_data), np.array(y_data)"
      ],
      "execution_count": null,
      "outputs": []
    },
    {
      "cell_type": "code",
      "metadata": {
        "id": "fK9zVrEuMF4I"
      },
      "source": [
        "# Формирование выборки из загруженного набора данных    \n",
        "x_train_01, y_train = construct_train_data(df.values)"
      ],
      "execution_count": null,
      "outputs": []
    },
    {
      "cell_type": "markdown",
      "metadata": {
        "id": "ZHhgF3tbMHMG"
      },
      "source": [
        "Функция `construct_train_data()` осуществляет проходи по каждой строке исходного датафрейма, передавая эту строку в функцию `extract_row_data()`.\n",
        "\n",
        "Функция `extract_row_data()` для каждой ячейки вызывает соответствующую функцию (из рассмотренных выше)"
      ]
    },
    {
      "cell_type": "markdown",
      "metadata": {
        "id": "dYR98oGXMkAP"
      },
      "source": [
        "В итоге мы получаем следующие наборы данных:"
      ]
    },
    {
      "cell_type": "code",
      "metadata": {
        "colab": {
          "base_uri": "https://localhost:8080/"
        },
        "id": "neCPfE6DMnfu",
        "outputId": "8c5ef9d9-0e0a-4923-a0f9-f38cdd4c2d9c"
      },
      "source": [
        "# Форма наборов параметров и зарплат\n",
        "print(x_train_01.shape) \n",
        "print(y_train.shape)\n",
        "\n",
        "# Пример обработанных данных\n",
        "n = 0 \n",
        "print(x_train_01[n])\n",
        "print(y_train[n])"
      ],
      "execution_count": null,
      "outputs": [
        {
          "output_type": "stream",
          "name": "stdout",
          "text": [
            "(62967, 39)\n",
            "(62967, 1)\n",
            "[0. 0. 0. 0. 1. 0. 0. 0. 0. 0. 0. 0. 0. 0. 0. 1. 0. 0. 0. 1. 0. 1. 0. 0.\n",
            " 0. 0. 0. 0. 0. 0. 0. 0. 1. 0. 0. 0. 0. 0. 0.]\n",
            "[40.]\n"
          ]
        }
      ]
    },
    {
      "cell_type": "markdown",
      "metadata": {
        "id": "jXQP_ALWdTdI"
      },
      "source": [
        "**Функция отрисовки графика истории обучения**"
      ]
    },
    {
      "cell_type": "code",
      "metadata": {
        "id": "Kb-Lu5fPdGoh"
      },
      "source": [
        "def plot_history(history):\n",
        "    plt.plot(history.history['mae'], \n",
        "            label='Средняя абсолютная ошибка на обучающем наборе')\n",
        "    plt.plot(history.history['val_mae'], \n",
        "            label='Средняя абсолютная ошибка на проверочном наборе')\n",
        "    plt.xlabel('Эпоха обучения')\n",
        "    plt.ylabel('Средняя абсолютная ошибка')\n",
        "    plt.legend()\n",
        "    plt.show()"
      ],
      "execution_count": null,
      "outputs": []
    },
    {
      "cell_type": "markdown",
      "metadata": {
        "id": "QiqM25LcSF9N"
      },
      "source": [
        "##Обучение модели на числовых данных:"
      ]
    },
    {
      "cell_type": "markdown",
      "metadata": {
        "id": "QvB9z6YjOKjf"
      },
      "source": [
        "Создадим и обучим нейронную сеть, обрабатывающую сформированную выборку:"
      ]
    },
    {
      "cell_type": "code",
      "metadata": {
        "colab": {
          "base_uri": "https://localhost:8080/",
          "height": 1000
        },
        "id": "I1VUZN5fRpvJ",
        "outputId": "ec987528-687e-409a-f508-759f77178259"
      },
      "source": [
        "# Обучение модели на простых данных\n",
        "\n",
        "model_simple = Sequential()\n",
        "model_simple.add(BatchNormalization(input_dim=x_train_01.shape[1]))\n",
        "model_simple.add(Dense(128, activation='relu'))\n",
        "model_simple.add(Dense(1000, activation='tanh'))\n",
        "model_simple.add(Dense(100, activation='relu'))\n",
        "model_simple.add(Dense(1, activation='linear'))\n",
        "\n",
        "model_simple.compile(optimizer=Adam(learning_rate=1e-5), loss='mse', metrics=['mae'])\n",
        "\n",
        "history = model_simple.fit(x_train_01, \n",
        "                    y_train, \n",
        "                    epochs=50, \n",
        "                    batch_size=256,\n",
        "                    validation_split=0.15, \n",
        "                    verbose=1)\n",
        "\n",
        "plot_history(history)"
      ],
      "execution_count": null,
      "outputs": [
        {
          "output_type": "stream",
          "name": "stdout",
          "text": [
            "Epoch 1/50\n",
            "210/210 [==============================] - 1s 4ms/step - loss: 10945.9805 - mae: 76.0008 - val_loss: 11899.7861 - val_mae: 79.5699\n",
            "Epoch 2/50\n",
            "210/210 [==============================] - 1s 3ms/step - loss: 10347.6162 - mae: 72.1260 - val_loss: 11012.4346 - val_mae: 74.1377\n",
            "Epoch 3/50\n",
            "210/210 [==============================] - 1s 3ms/step - loss: 9396.9248 - mae: 65.6524 - val_loss: 9741.6523 - val_mae: 65.7962\n",
            "Epoch 4/50\n",
            "210/210 [==============================] - 1s 3ms/step - loss: 8174.1001 - mae: 56.9379 - val_loss: 8325.3574 - val_mae: 56.2267\n",
            "Epoch 5/50\n",
            "210/210 [==============================] - 1s 3ms/step - loss: 6940.8286 - mae: 48.4854 - val_loss: 7064.4570 - val_mae: 48.6747\n",
            "Epoch 6/50\n",
            "210/210 [==============================] - 1s 3ms/step - loss: 5974.2212 - mae: 43.4854 - val_loss: 6179.3374 - val_mae: 45.0639\n",
            "Epoch 7/50\n",
            "210/210 [==============================] - 1s 3ms/step - loss: 5384.0083 - mae: 42.2427 - val_loss: 5683.7559 - val_mae: 44.4513\n",
            "Epoch 8/50\n",
            "210/210 [==============================] - 1s 3ms/step - loss: 5099.7158 - mae: 42.8188 - val_loss: 5454.0112 - val_mae: 44.9639\n",
            "Epoch 9/50\n",
            "210/210 [==============================] - 1s 3ms/step - loss: 4976.1279 - mae: 43.6243 - val_loss: 5351.2539 - val_mae: 45.4850\n",
            "Epoch 10/50\n",
            "210/210 [==============================] - 1s 3ms/step - loss: 4917.9023 - mae: 44.0892 - val_loss: 5294.1050 - val_mae: 45.7611\n",
            "Epoch 11/50\n",
            "210/210 [==============================] - 1s 3ms/step - loss: 4883.1084 - mae: 44.2476 - val_loss: 5257.2017 - val_mae: 45.7796\n",
            "Epoch 12/50\n",
            "210/210 [==============================] - 1s 3ms/step - loss: 4854.2593 - mae: 44.2191 - val_loss: 5228.6304 - val_mae: 45.6820\n",
            "Epoch 13/50\n",
            "210/210 [==============================] - 1s 3ms/step - loss: 4828.2300 - mae: 44.1008 - val_loss: 5202.7969 - val_mae: 45.5703\n",
            "Epoch 14/50\n",
            "210/210 [==============================] - 1s 3ms/step - loss: 4804.2310 - mae: 43.9554 - val_loss: 5180.2749 - val_mae: 45.4735\n",
            "Epoch 15/50\n",
            "210/210 [==============================] - 1s 3ms/step - loss: 4783.9268 - mae: 43.8310 - val_loss: 5158.5479 - val_mae: 45.2888\n",
            "Epoch 16/50\n",
            "210/210 [==============================] - 1s 3ms/step - loss: 4765.3862 - mae: 43.6298 - val_loss: 5138.4722 - val_mae: 45.1644\n",
            "Epoch 17/50\n",
            "210/210 [==============================] - 1s 3ms/step - loss: 4748.4668 - mae: 43.4917 - val_loss: 5123.4067 - val_mae: 45.0552\n",
            "Epoch 18/50\n",
            "210/210 [==============================] - 1s 3ms/step - loss: 4733.6172 - mae: 43.3553 - val_loss: 5105.0449 - val_mae: 44.9890\n",
            "Epoch 19/50\n",
            "210/210 [==============================] - 1s 3ms/step - loss: 4718.9624 - mae: 43.2414 - val_loss: 5091.3242 - val_mae: 44.8770\n",
            "Epoch 20/50\n",
            "210/210 [==============================] - 1s 3ms/step - loss: 4705.0903 - mae: 43.0750 - val_loss: 5077.7085 - val_mae: 44.8246\n",
            "Epoch 21/50\n",
            "210/210 [==============================] - 1s 3ms/step - loss: 4691.6665 - mae: 43.0536 - val_loss: 5065.9697 - val_mae: 44.6443\n",
            "Epoch 22/50\n",
            "210/210 [==============================] - 1s 3ms/step - loss: 4679.2783 - mae: 42.9448 - val_loss: 5054.0737 - val_mae: 44.5525\n",
            "Epoch 23/50\n",
            "210/210 [==============================] - 1s 3ms/step - loss: 4666.7295 - mae: 42.7952 - val_loss: 5042.2490 - val_mae: 44.5224\n",
            "Epoch 24/50\n",
            "210/210 [==============================] - 1s 3ms/step - loss: 4659.3354 - mae: 42.6862 - val_loss: 5031.9966 - val_mae: 44.4687\n",
            "Epoch 25/50\n",
            "210/210 [==============================] - 1s 3ms/step - loss: 4647.8726 - mae: 42.6227 - val_loss: 5022.5347 - val_mae: 44.4138\n",
            "Epoch 26/50\n",
            "210/210 [==============================] - 1s 3ms/step - loss: 4643.3643 - mae: 42.6251 - val_loss: 5014.2261 - val_mae: 44.2952\n",
            "Epoch 27/50\n",
            "210/210 [==============================] - 1s 3ms/step - loss: 4633.1895 - mae: 42.5899 - val_loss: 5007.1533 - val_mae: 44.1978\n",
            "Epoch 28/50\n",
            "210/210 [==============================] - 1s 3ms/step - loss: 4625.1606 - mae: 42.4273 - val_loss: 5000.3462 - val_mae: 44.1251\n",
            "Epoch 29/50\n",
            "210/210 [==============================] - 1s 3ms/step - loss: 4619.0625 - mae: 42.3826 - val_loss: 4991.4707 - val_mae: 44.1940\n",
            "Epoch 30/50\n",
            "210/210 [==============================] - 1s 3ms/step - loss: 4615.9243 - mae: 42.3996 - val_loss: 4985.0967 - val_mae: 44.1278\n",
            "Epoch 31/50\n",
            "210/210 [==============================] - 1s 3ms/step - loss: 4606.4785 - mae: 42.3464 - val_loss: 4980.0278 - val_mae: 44.0253\n",
            "Epoch 32/50\n",
            "210/210 [==============================] - 1s 3ms/step - loss: 4602.1719 - mae: 42.2107 - val_loss: 4974.2900 - val_mae: 44.0260\n",
            "Epoch 33/50\n",
            "210/210 [==============================] - 1s 3ms/step - loss: 4596.7905 - mae: 42.2555 - val_loss: 4969.7783 - val_mae: 43.9976\n",
            "Epoch 34/50\n",
            "210/210 [==============================] - 1s 3ms/step - loss: 4592.2207 - mae: 42.1872 - val_loss: 4964.1836 - val_mae: 44.0685\n",
            "Epoch 35/50\n",
            "210/210 [==============================] - 1s 3ms/step - loss: 4588.9126 - mae: 42.1573 - val_loss: 4961.0181 - val_mae: 43.9674\n",
            "Epoch 36/50\n",
            "210/210 [==============================] - 1s 3ms/step - loss: 4584.6021 - mae: 42.1391 - val_loss: 4957.9072 - val_mae: 43.9026\n",
            "Epoch 37/50\n",
            "210/210 [==============================] - 1s 3ms/step - loss: 4582.6191 - mae: 42.0946 - val_loss: 4954.0586 - val_mae: 43.8679\n",
            "Epoch 38/50\n",
            "210/210 [==============================] - 1s 3ms/step - loss: 4581.1060 - mae: 42.0094 - val_loss: 4949.2314 - val_mae: 43.9818\n",
            "Epoch 39/50\n",
            "210/210 [==============================] - 1s 3ms/step - loss: 4577.4487 - mae: 42.0889 - val_loss: 4945.2266 - val_mae: 43.9528\n",
            "Epoch 40/50\n",
            "210/210 [==============================] - 1s 3ms/step - loss: 4571.9312 - mae: 42.1054 - val_loss: 4944.0908 - val_mae: 43.8345\n",
            "Epoch 41/50\n",
            "210/210 [==============================] - 1s 3ms/step - loss: 4571.1372 - mae: 42.0923 - val_loss: 4943.5986 - val_mae: 43.7396\n",
            "Epoch 42/50\n",
            "210/210 [==============================] - 1s 3ms/step - loss: 4564.6738 - mae: 41.9687 - val_loss: 4938.3140 - val_mae: 43.8527\n",
            "Epoch 43/50\n",
            "210/210 [==============================] - 1s 3ms/step - loss: 4568.2905 - mae: 42.0527 - val_loss: 4937.1519 - val_mae: 43.7506\n",
            "Epoch 44/50\n",
            "210/210 [==============================] - 1s 3ms/step - loss: 4565.8306 - mae: 41.9876 - val_loss: 4933.4810 - val_mae: 43.7813\n",
            "Epoch 45/50\n",
            "210/210 [==============================] - 1s 3ms/step - loss: 4561.2715 - mae: 41.9850 - val_loss: 4932.2812 - val_mae: 43.7362\n",
            "Epoch 46/50\n",
            "210/210 [==============================] - 1s 3ms/step - loss: 4560.4834 - mae: 41.9949 - val_loss: 4931.9053 - val_mae: 43.6612\n",
            "Epoch 47/50\n",
            "210/210 [==============================] - 1s 3ms/step - loss: 4556.1880 - mae: 41.8691 - val_loss: 4929.5493 - val_mae: 43.6640\n",
            "Epoch 48/50\n",
            "210/210 [==============================] - 1s 3ms/step - loss: 4559.2681 - mae: 41.9382 - val_loss: 4926.3252 - val_mae: 43.7176\n",
            "Epoch 49/50\n",
            "210/210 [==============================] - 1s 3ms/step - loss: 4554.0308 - mae: 41.9905 - val_loss: 4923.4907 - val_mae: 43.7716\n",
            "Epoch 50/50\n",
            "210/210 [==============================] - 1s 3ms/step - loss: 4552.9355 - mae: 41.9876 - val_loss: 4922.7983 - val_mae: 43.7258\n"
          ]
        },
        {
          "output_type": "display_data",
          "data": {
            "image/png": "[encoded data removed]",
            "text/plain": [
              "<Figure size 432x288 with 1 Axes>"
            ]
          },
          "metadata": {
            "needs_background": "light"
          }
        }
      ]
    },
    {
      "cell_type": "markdown",
      "metadata": {
        "id": "0E8yiNvFdjEI"
      },
      "source": [
        "**Как оценить работу сети?**"
      ]
    },
    {
      "cell_type": "code",
      "metadata": {
        "colab": {
          "base_uri": "https://localhost:8080/"
        },
        "id": "LVvS-1r-3WaY",
        "outputId": "ef5b11d8-71f6-4bad-94e9-f8bfe14efe42"
      },
      "source": [
        "# Проверка работы сети - предсказание на тренировочной выборке\n",
        "pred = model_simple.predict(x_train_01)\n",
        "\n",
        "# Расчет среднего значения ошибки \n",
        "print((abs(pred - y_train)).mean())         # Расчет вручную\n",
        "print(mean_absolute_error(pred, y_train))   # Расчет с помощью готовой функции"
      ],
      "execution_count": null,
      "outputs": [
        {
          "output_type": "stream",
          "name": "stdout",
          "text": [
            "42.317512991240704\n",
            "42.317512991240704\n"
          ]
        }
      ]
    },
    {
      "cell_type": "markdown",
      "metadata": {
        "id": "8buoc1jrrb2X"
      },
      "source": [
        "Полученные значения буквально означают, что наша модель ошибается в среднем на 42 тысячи рублей. Скажем честно, хотелось бы видеть показтели получше. \n",
        "\n",
        "Прежде чем двинемся дальше, напишем функцию, которая показывает разбор между реальными и предсказанными значениями:"
      ]
    },
    {
      "cell_type": "code",
      "metadata": {
        "id": "9Ii9f7jJHyBL"
      },
      "source": [
        "# Функция оценки результатов и вывода оценки\n",
        "\n",
        "def eval_net(model, x_train, y_train, y_scaler = None, n = 10, limit = 1000.):\n",
        "  \n",
        "    pred = model.predict(x_train)             # Предсказание на тренировочной выборке\n",
        "    if y_scaler:                              # Если есть нормирование - то денормировать\n",
        "        pred = y_scaler.inverse_transform(pred)\n",
        "\n",
        "    print('Средняя абсолютная ошибка:', mean_absolute_error(pred, y_train), '\\n')\n",
        "\n",
        "    for i in range(n):\n",
        "        print('Реальное значение: {:6.2f}  Предсказанное значение: {:6.2f}  Разница: {:6.2f}'.format(y_train[i, 0],\n",
        "                                                                                                    pred[i, 0],\n",
        "                                                                                                    abs(y_train[i, 0] - pred[i, 0])))\n",
        "    # Построение картинки разброса предсказанных и верных значений зарплаты\n",
        "    fig, ax = plt.subplots(figsize=(6, 6))\n",
        "    ax.scatter(y_train, pred)                 # Отрисовка точечного графика\n",
        "    ax.set_xlim(0, limit)                     # Пределы по x, y\n",
        "    ax.set_ylim(0, limit)\n",
        "    ax.plot(plt.xlim(), plt.ylim(), 'r')      # Отрисовка диагональной линии\n",
        "    plt.xlabel('Правильные значения')\n",
        "    plt.ylabel('Предсказания')\n",
        "    plt.grid()\n",
        "    plt.show()        "
      ],
      "execution_count": null,
      "outputs": []
    },
    {
      "cell_type": "markdown",
      "metadata": {
        "id": "VlRHvsJiBSYs"
      },
      "source": [
        "Функция eval_net производит оценку результатов работы нейронной сети:\n",
        " - метод predict принимает на вход данные, по которым нужно сделать предсказания\n",
        " - дальше производим денормировку предсказаний, если необходимо\n",
        " - считаем среднюю абсолютную ошибку\n",
        " - строим точечный график зависимости предсказаний от верных ответов"
      ]
    },
    {
      "cell_type": "code",
      "metadata": {
        "colab": {
          "base_uri": "https://localhost:8080/",
          "height": 596
        },
        "id": "HMloVKGgrwJ9",
        "outputId": "671e57d1-fab6-4811-d343-7a3b4f4a334b"
      },
      "source": [
        "eval_net(model_simple, x_train_01, y_train)"
      ],
      "execution_count": null,
      "outputs": [
        {
          "output_type": "stream",
          "name": "stdout",
          "text": [
            "Средняя абсолютная ошибка: 42.317512991240704 \n",
            "\n",
            "Реальное значение:  40.00  Предсказанное значение:  61.02  Разница:  21.02\n",
            "Реальное значение:  40.00  Предсказанное значение: 100.85  Разница:  60.85\n",
            "Реальное значение: 300.00  Предсказанное значение:  95.71  Разница: 204.29\n",
            "Реальное значение: 180.00  Предсказанное значение: 107.77  Разница:  72.23\n",
            "Реальное значение:  40.00  Предсказанное значение:  36.30  Разница:   3.70\n",
            "Реальное значение: 200.00  Предсказанное значение:  95.71  Разница: 104.29\n",
            "Реальное значение: 120.00  Предсказанное значение: 112.43  Разница:   7.57\n",
            "Реальное значение:  50.00  Предсказанное значение:  76.83  Разница:  26.83\n",
            "Реальное значение:  60.00  Предсказанное значение:  61.36  Разница:   1.36\n",
            "Реальное значение:  70.00  Предсказанное значение:  78.90  Разница:   8.90\n"
          ]
        },
        {
          "output_type": "display_data",
          "data": {
            "image/png": "[encoded data removed]",
            "text/plain": [
              "<Figure size 432x432 with 1 Axes>"
            ]
          },
          "metadata": {
            "needs_background": "light"
          }
        }
      ]
    },
    {
      "cell_type": "markdown",
      "metadata": {
        "id": "YkQmXp6Pwy0W"
      },
      "source": [
        "В иделае значения на графике должны располагаться вдоль красной диагональной линии"
      ]
    },
    {
      "cell_type": "markdown",
      "metadata": {
        "id": "Q7ZECXEpH7Eq"
      },
      "source": [
        "##Нормализация данных зарплаты"
      ]
    },
    {
      "cell_type": "markdown",
      "metadata": {
        "id": "xGIEL6Nyrzat"
      },
      "source": [
        "На следующем шаге мы нормализуем значение зарплаты, которое предсказывает нейронная сеть"
      ]
    },
    {
      "cell_type": "code",
      "metadata": {
        "id": "QTozmRhkyf5-"
      },
      "source": [
        "# Для нормализации данных используется готовый инструмент\n",
        "y_scaler = StandardScaler()\n",
        "\n",
        "# Нормализация выходных данных по стандартному нормальному распределению\n",
        "y_train_scaled = y_scaler.fit_transform(y_train)"
      ],
      "execution_count": null,
      "outputs": []
    },
    {
      "cell_type": "markdown",
      "metadata": {
        "id": "22jZgzxgr_d4"
      },
      "source": [
        "Воспользуемся для этого стандартным инструментом билиотеки `sklearn` - `StandardScaler`'ом, с помощью которого сможем преобразовать наши данные к нормальному распределению"
      ]
    },
    {
      "cell_type": "code",
      "metadata": {
        "colab": {
          "base_uri": "https://localhost:8080/"
        },
        "id": "YGFRAg1kRXb7",
        "outputId": "e088aa42-9592-4f48-9e2e-ec2441fc3dfc"
      },
      "source": [
        "# Проверка нормализации\n",
        "print(y_train_scaled.shape)\n",
        "print(f'Оригинальное значение зарплаты:  {y_train[1, 0]}')\n",
        "print(f'Нормированное значение зарплаты: {y_train_scaled[1, 0]}')\n",
        "\n",
        "# Вывод границ ненормализованных и нормализованных данных\n",
        "print(y_train.mean(), y_train.std())\n",
        "print(y_train_scaled.mean(), y_train_scaled.std())"
      ],
      "execution_count": null,
      "outputs": [
        {
          "output_type": "stream",
          "name": "stdout",
          "text": [
            "(62967, 1)\n",
            "Оригинальное значение зарплаты:  40.0\n",
            "Нормированное значение зарплаты: -0.5247285785360603\n",
            "77.9847331935776 72.3892975289266\n",
            "-1.2457941148207006e-16 0.9999999999999998\n"
          ]
        }
      ]
    },
    {
      "cell_type": "markdown",
      "metadata": {
        "id": "Iq_PwaX1wHnp"
      },
      "source": [
        "Мы нормировали значения зарплат в нашем наборе данных. В итоге полученный массив `y_train_scaled` обладает следующими характеристиками:\n",
        "- среднее значение массива практически равно 0\n",
        "- среднеквадратичное отклонение практически равно 1\n",
        "\n",
        "Подобные значения, как показывает практика, значительно лучше анализируются нейронными сетями. Проверим это на нашей задаче:\n"
      ]
    },
    {
      "cell_type": "code",
      "metadata": {
        "colab": {
          "base_uri": "https://localhost:8080/",
          "height": 1000
        },
        "id": "BzyVBg4SyqEH",
        "outputId": "97667dee-0caf-4659-b39a-f787f68d684d"
      },
      "source": [
        "# Обучение модели на простых данных с нормализованной зарплатой\n",
        "model_simple = Sequential()\n",
        "model_simple.add(BatchNormalization(input_dim=x_train_01.shape[1]))\n",
        "model_simple.add(Dense(128, activation='relu'))\n",
        "model_simple.add(Dense(1000, activation='tanh'))\n",
        "model_simple.add(Dense(100, activation='relu'))\n",
        "model_simple.add(Dense(1, activation='linear'))\n",
        "\n",
        "model_simple.compile(optimizer=Adam(learning_rate=1e-5), loss='mse', metrics=['mae'])\n",
        "\n",
        "history = model_simple.fit(x_train_01, \n",
        "                    y_train_scaled, \n",
        "                    epochs=50, \n",
        "                    batch_size=256,\n",
        "                    validation_split=0.15, \n",
        "                    verbose=1)\n",
        "\n",
        "plot_history(history)"
      ],
      "execution_count": null,
      "outputs": [
        {
          "output_type": "stream",
          "name": "stdout",
          "text": [
            "Epoch 1/50\n",
            "210/210 [==============================] - 1s 4ms/step - loss: 0.9257 - mae: 0.6029 - val_loss: 0.9828 - val_mae: 0.6239\n",
            "Epoch 2/50\n",
            "210/210 [==============================] - 1s 3ms/step - loss: 0.8829 - mae: 0.5867 - val_loss: 0.9474 - val_mae: 0.6085\n",
            "Epoch 3/50\n",
            "210/210 [==============================] - 1s 3ms/step - loss: 0.8755 - mae: 0.5833 - val_loss: 0.9405 - val_mae: 0.6095\n",
            "Epoch 4/50\n",
            "210/210 [==============================] - 1s 3ms/step - loss: 0.8712 - mae: 0.5817 - val_loss: 0.9374 - val_mae: 0.6101\n",
            "Epoch 5/50\n",
            "210/210 [==============================] - 1s 3ms/step - loss: 0.8691 - mae: 0.5806 - val_loss: 0.9383 - val_mae: 0.5977\n",
            "Epoch 6/50\n",
            "210/210 [==============================] - 1s 3ms/step - loss: 0.8666 - mae: 0.5778 - val_loss: 0.9348 - val_mae: 0.6035\n",
            "Epoch 7/50\n",
            "210/210 [==============================] - 1s 3ms/step - loss: 0.8648 - mae: 0.5776 - val_loss: 0.9339 - val_mae: 0.6029\n",
            "Epoch 8/50\n",
            "210/210 [==============================] - 1s 3ms/step - loss: 0.8641 - mae: 0.5772 - val_loss: 0.9332 - val_mae: 0.6003\n",
            "Epoch 9/50\n",
            "210/210 [==============================] - 1s 3ms/step - loss: 0.8628 - mae: 0.5763 - val_loss: 0.9336 - val_mae: 0.5953\n",
            "Epoch 10/50\n",
            "210/210 [==============================] - 1s 3ms/step - loss: 0.8620 - mae: 0.5753 - val_loss: 0.9319 - val_mae: 0.5971\n",
            "Epoch 11/50\n",
            "210/210 [==============================] - 1s 3ms/step - loss: 0.8607 - mae: 0.5753 - val_loss: 0.9310 - val_mae: 0.5984\n",
            "Epoch 12/50\n",
            "210/210 [==============================] - 1s 3ms/step - loss: 0.8600 - mae: 0.5737 - val_loss: 0.9300 - val_mae: 0.6023\n",
            "Epoch 13/50\n",
            "210/210 [==============================] - 1s 3ms/step - loss: 0.8596 - mae: 0.5740 - val_loss: 0.9295 - val_mae: 0.6003\n",
            "Epoch 14/50\n",
            "210/210 [==============================] - 1s 3ms/step - loss: 0.8590 - mae: 0.5733 - val_loss: 0.9295 - val_mae: 0.5972\n",
            "Epoch 15/50\n",
            "210/210 [==============================] - 1s 3ms/step - loss: 0.8584 - mae: 0.5726 - val_loss: 0.9292 - val_mae: 0.5996\n",
            "Epoch 16/50\n",
            "210/210 [==============================] - 1s 3ms/step - loss: 0.8581 - mae: 0.5733 - val_loss: 0.9286 - val_mae: 0.5975\n",
            "Epoch 17/50\n",
            "210/210 [==============================] - 1s 3ms/step - loss: 0.8581 - mae: 0.5732 - val_loss: 0.9284 - val_mae: 0.5976\n",
            "Epoch 18/50\n",
            "210/210 [==============================] - 1s 3ms/step - loss: 0.8572 - mae: 0.5730 - val_loss: 0.9278 - val_mae: 0.5978\n",
            "Epoch 19/50\n",
            "210/210 [==============================] - 1s 3ms/step - loss: 0.8567 - mae: 0.5717 - val_loss: 0.9288 - val_mae: 0.5938\n",
            "Epoch 20/50\n",
            "210/210 [==============================] - 1s 3ms/step - loss: 0.8558 - mae: 0.5717 - val_loss: 0.9299 - val_mae: 0.5907\n",
            "Epoch 21/50\n",
            "210/210 [==============================] - 1s 3ms/step - loss: 0.8562 - mae: 0.5715 - val_loss: 0.9291 - val_mae: 0.5927\n",
            "Epoch 22/50\n",
            "210/210 [==============================] - 1s 3ms/step - loss: 0.8552 - mae: 0.5711 - val_loss: 0.9269 - val_mae: 0.6007\n",
            "Epoch 23/50\n",
            "210/210 [==============================] - 1s 3ms/step - loss: 0.8551 - mae: 0.5715 - val_loss: 0.9273 - val_mae: 0.5954\n",
            "Epoch 24/50\n",
            "210/210 [==============================] - 1s 3ms/step - loss: 0.8554 - mae: 0.5716 - val_loss: 0.9282 - val_mae: 0.5928\n",
            "Epoch 25/50\n",
            "210/210 [==============================] - 1s 3ms/step - loss: 0.8547 - mae: 0.5705 - val_loss: 0.9274 - val_mae: 0.5938\n",
            "Epoch 26/50\n",
            "210/210 [==============================] - 1s 3ms/step - loss: 0.8541 - mae: 0.5699 - val_loss: 0.9269 - val_mae: 0.5948\n",
            "Epoch 27/50\n",
            "210/210 [==============================] - 1s 3ms/step - loss: 0.8541 - mae: 0.5701 - val_loss: 0.9273 - val_mae: 0.5932\n",
            "Epoch 28/50\n",
            "210/210 [==============================] - 1s 3ms/step - loss: 0.8541 - mae: 0.5703 - val_loss: 0.9301 - val_mae: 0.5878\n",
            "Epoch 29/50\n",
            "210/210 [==============================] - 1s 3ms/step - loss: 0.8540 - mae: 0.5697 - val_loss: 0.9260 - val_mae: 0.5968\n",
            "Epoch 30/50\n",
            "210/210 [==============================] - 1s 3ms/step - loss: 0.8535 - mae: 0.5702 - val_loss: 0.9279 - val_mae: 0.5935\n",
            "Epoch 31/50\n",
            "210/210 [==============================] - 1s 3ms/step - loss: 0.8529 - mae: 0.5697 - val_loss: 0.9262 - val_mae: 0.5943\n",
            "Epoch 32/50\n",
            "210/210 [==============================] - 1s 3ms/step - loss: 0.8524 - mae: 0.5701 - val_loss: 0.9302 - val_mae: 0.5872\n",
            "Epoch 33/50\n",
            "210/210 [==============================] - 1s 3ms/step - loss: 0.8533 - mae: 0.5689 - val_loss: 0.9256 - val_mae: 0.5981\n",
            "Epoch 34/50\n",
            "210/210 [==============================] - 1s 3ms/step - loss: 0.8525 - mae: 0.5693 - val_loss: 0.9257 - val_mae: 0.5981\n",
            "Epoch 35/50\n",
            "210/210 [==============================] - 1s 3ms/step - loss: 0.8525 - mae: 0.5692 - val_loss: 0.9255 - val_mae: 0.5973\n",
            "Epoch 36/50\n",
            "210/210 [==============================] - 1s 3ms/step - loss: 0.8525 - mae: 0.5694 - val_loss: 0.9257 - val_mae: 0.5974\n",
            "Epoch 37/50\n",
            "210/210 [==============================] - 1s 3ms/step - loss: 0.8521 - mae: 0.5695 - val_loss: 0.9260 - val_mae: 0.5938\n",
            "Epoch 38/50\n",
            "210/210 [==============================] - 1s 3ms/step - loss: 0.8522 - mae: 0.5689 - val_loss: 0.9272 - val_mae: 0.5908\n",
            "Epoch 39/50\n",
            "210/210 [==============================] - 1s 3ms/step - loss: 0.8515 - mae: 0.5693 - val_loss: 0.9287 - val_mae: 0.5871\n",
            "Epoch 40/50\n",
            "210/210 [==============================] - 1s 3ms/step - loss: 0.8517 - mae: 0.5681 - val_loss: 0.9250 - val_mae: 0.5956\n",
            "Epoch 41/50\n",
            "210/210 [==============================] - 1s 3ms/step - loss: 0.8519 - mae: 0.5692 - val_loss: 0.9251 - val_mae: 0.5960\n",
            "Epoch 42/50\n",
            "210/210 [==============================] - 1s 3ms/step - loss: 0.8512 - mae: 0.5692 - val_loss: 0.9252 - val_mae: 0.5941\n",
            "Epoch 43/50\n",
            "210/210 [==============================] - 1s 3ms/step - loss: 0.8511 - mae: 0.5677 - val_loss: 0.9239 - val_mae: 0.6013\n",
            "Epoch 44/50\n",
            "210/210 [==============================] - 1s 3ms/step - loss: 0.8514 - mae: 0.5695 - val_loss: 0.9244 - val_mae: 0.5964\n",
            "Epoch 45/50\n",
            "210/210 [==============================] - 1s 3ms/step - loss: 0.8507 - mae: 0.5686 - val_loss: 0.9257 - val_mae: 0.5918\n",
            "Epoch 46/50\n",
            "210/210 [==============================] - 1s 3ms/step - loss: 0.8501 - mae: 0.5683 - val_loss: 0.9245 - val_mae: 0.5959\n",
            "Epoch 47/50\n",
            "210/210 [==============================] - 1s 3ms/step - loss: 0.8504 - mae: 0.5688 - val_loss: 0.9250 - val_mae: 0.5930\n",
            "Epoch 48/50\n",
            "210/210 [==============================] - 1s 3ms/step - loss: 0.8500 - mae: 0.5683 - val_loss: 0.9249 - val_mae: 0.5941\n",
            "Epoch 49/50\n",
            "210/210 [==============================] - 1s 3ms/step - loss: 0.8503 - mae: 0.5684 - val_loss: 0.9241 - val_mae: 0.5967\n",
            "Epoch 50/50\n",
            "210/210 [==============================] - 1s 3ms/step - loss: 0.8500 - mae: 0.5690 - val_loss: 0.9272 - val_mae: 0.5869\n"
          ]
        },
        {
          "output_type": "display_data",
          "data": {
            "image/png": "[encoded data removed]",
            "text/plain": [
              "<Figure size 432x288 with 1 Axes>"
            ]
          },
          "metadata": {
            "needs_background": "light"
          }
        }
      ]
    },
    {
      "cell_type": "markdown",
      "metadata": {
        "id": "xVlFRTyEAWHq"
      },
      "source": [
        "**Оценка результатов**\n"
      ]
    },
    {
      "cell_type": "code",
      "metadata": {
        "colab": {
          "base_uri": "https://localhost:8080/",
          "height": 596
        },
        "id": "dOPmTOHLHO9k",
        "outputId": "74500c3e-c1de-4ae9-d090-4e776351e9a0"
      },
      "source": [
        "eval_net(model_simple, x_train_01, y_train, y_scaler)"
      ],
      "execution_count": null,
      "outputs": [
        {
          "output_type": "stream",
          "name": "stdout",
          "text": [
            "Средняя абсолютная ошибка: 40.8274236494912 \n",
            "\n",
            "Реальное значение:  40.00  Предсказанное значение:  58.01  Разница:  18.01\n",
            "Реальное значение:  40.00  Предсказанное значение:  90.71  Разница:  50.71\n",
            "Реальное значение: 300.00  Предсказанное значение:  91.62  Разница: 208.38\n",
            "Реальное значение: 180.00  Предсказанное значение:  90.30  Разница:  89.70\n",
            "Реальное значение:  40.00  Предсказанное значение:  33.76  Разница:   6.24\n",
            "Реальное значение: 200.00  Предсказанное значение:  91.62  Разница: 108.38\n",
            "Реальное значение: 120.00  Предсказанное значение: 113.77  Разница:   6.23\n",
            "Реальное значение:  50.00  Предсказанное значение:  52.59  Разница:   2.59\n",
            "Реальное значение:  60.00  Предсказанное значение:  42.95  Разница:  17.05\n",
            "Реальное значение:  70.00  Предсказанное значение:  75.06  Разница:   5.06\n"
          ]
        },
        {
          "output_type": "display_data",
          "data": {
            "image/png": "[encoded data removed]",
            "text/plain": [
              "<Figure size 432x432 with 1 Axes>"
            ]
          },
          "metadata": {
            "needs_background": "light"
          }
        }
      ]
    },
    {
      "cell_type": "markdown",
      "metadata": {
        "id": "dQtwMUn7zCw6"
      },
      "source": [
        "Полученное значение ошибки немного лучше предыдущего 40 тысяч против 42.\n",
        "\n",
        "Поэтому мы продолжаем наши эксперименты и создадим обучающий набор на основе текстовых данных нашей исходной таблицы"
      ]
    },
    {
      "cell_type": "markdown",
      "metadata": {
        "id": "3paVWC1-BDpX"
      },
      "source": [
        "##Подотовка текстовых данных \"Должность\"\n"
      ]
    },
    {
      "cell_type": "markdown",
      "metadata": {
        "id": "f2RH6iZmzfV0"
      },
      "source": [
        "Вначале соберем обучающий набор на основе столбцов с текущей и желаемой должностью:"
      ]
    },
    {
      "cell_type": "code",
      "metadata": {
        "id": "vBCbgQ0lBF5z"
      },
      "source": [
        "# Функция извлечения данных о профессии\n",
        "\n",
        "def extract_prof_text(row_list):\n",
        "    result = []\n",
        "    \n",
        "    # Для всех строк таблицы: собрать значения \n",
        "    # столбцов желаемой и прошлой должности\n",
        "    # если есть информация о зарплате\n",
        "    \n",
        "    for row in row_list:\n",
        "        if extract_salary(row[COL_SALARY]) > 0:\n",
        "            result.append(str(row[COL_POS_SEEK]) + ' ' + str(row[COL_POS_PREV]))\n",
        "    \n",
        "    # Возврат в виде массива\n",
        "    return result"
      ],
      "execution_count": null,
      "outputs": []
    },
    {
      "cell_type": "code",
      "metadata": {
        "colab": {
          "base_uri": "https://localhost:8080/"
        },
        "id": "N03XjgjaBR0r",
        "outputId": "df85961f-ace8-4849-ab83-ad3ac558ad92"
      },
      "source": [
        "# Извлечение текстов о профессии для выборки\n",
        "prof_text = extract_prof_text(df.values) \n",
        "\n",
        "# Пример текста о профессии из резюме\n",
        "print(df.values[120])\n",
        "print(prof_text[120]) "
      ],
      "execution_count": null,
      "outputs": [
        {
          "output_type": "stream",
          "name": "stdout",
          "text": [
            "['Мужчина ,  33 года , родился 8 октября 1985' '250000 руб.'\n",
            " 'Руководитель BI' 'Москва , не готов к переезду , готов к командировкам'\n",
            " 'полная занятость' 'полный день'\n",
            " 'Опыт работы 11 лет 6 месяцев  Руководитель BI 250 000 руб. Информационные технологии, интернет, телеком Инженер Аналитик Занятость: полная занятость График работы: полный день Опыт работы 11 лет 6 месяцев Декабрь 2017 — по настоящее время 1 год 5 месяцев ЭркаФарм Россия , erkapharm.com Медицина, фармацевтика, аптеки ... Аптека, оптика Руководитель отдела аналитики Стратегическая цель: создание единой корпоративной автоматизированной информационно-аналитической системы бизнес анализа; MDM: ведение и поддержка в актуальном состоянии мастер-справочников компании; разработка новых справочников\\\\атрибутов для обеспечения деятельности подразделений компании; контроль бизнес-процессов в части, касающейся мастер-данных; написание документов, закрепляющих регламентные нормы по ведению мастер-справочников; ETL: загрузка данных из внешних источников; обработка, структурирование, приведение к унифицированному виду с использованием SSIS; контроль полноты и релевантности загружаемых данных; наполнение DWH хранилища обработанными данными; DWH: проектирование, создание и поддержка Хранилища данных; ежедневное обновление Хранилища данными из внешних источников; OLAP: разработка, доработка и поддержка Кубов; процессинг Кубов после обновления Хранилища данных; дозагрузка дельты данных в течение дня; Отчетность и визуализация данных: создание, поддержка и доставка отчетов до конечных пользователей, с использованием SSRS и Power BI; T-SQL: написание сложных аналитических запросов, обработок, хранимых процедур, функций; анализ и обработка полученных данных, ad-hoc; Администрирование БД: проектирование и поддержка БД; секционирование, создание индексов, триггеров; поддержка отказоустойчивости работы с БД, создание и поддержка резервных копий баз; распараллеливание процессов между серверами; Обучение: написание и поддержка в актуальном состоянии инструкций по пользованию Кубом и Порталом бизнес отчетности; проведение периодических мероприятий, направленных на обучение сотрудников компании по использованию бизнес систем компании; создание и поддержка портала видео инструкций с основными типовыми запросами; инвентаризация отчетности и аналитических метрик, с указанием методик и фильтров построения; Менеджмент: руководство и развитие отдела (8 человек в подчинении); руководство группой аналитиков в регионах (8 человек в подчинении); общение с бизнесом, получение тех заданий на разработку\\\\доработку бизнес логики, отчетности, ad-hoc отчетности; определение стратегии развития, составление плана работы, установка сроков исполнения, распределение задач, контроль исполнения, мотивирование на достижение результата; унификация кода к принятым внутри команды стандартам, инвентаризация и описание процессов в подконтрольных секторах; Октябрь 2016 — Ноябрь  2017 1 год 2 месяца Черкизово, Группа Москва , www.cherkizovo-group.ru/ Продукты питания ... Мясная продукция (продвижение, оптовая торговля) Мясная продукция (производство) Полуфабрикаты, в том числе замороженные (продвижение, оптовая торговля) Полуфабрикаты, в том числе замороженные (производство) Сельское хозяйство Земледелие, растениеводство, животноводство Ведущий специалист BI напраления отдела развития систем продаж ETL: загрузка данных из внешних источников; обработка, структурирование, приведение к унифицированному виду; загрузка обработанных данных в DWH хранилище; DWH: проектирование, создание и поддержка хранилища данных. Регулярное обновление хранилища после загрузки данных из внешних источников. OLAP: создание и поддержка кубов; процессинг куба после обновления хранилища данных, добавление измерений и фактов; Reporting и визуализация данных: создание, поддержка и доставка отчетов до конечных пользователей, с использованием SSRS и Tableau; T-SQL: написание сложных аналитических запросов, хранимых процедур, функций. Анализ и обработка полученных данных, ad-hoc; SFA: автоматизация и поддержка процессов на базе учетной системы Чикаго; разработка и поддержка отчетности с выводом данных в сводные и плоские таблицы MS Excel; VBA: дальнейшая обработка данных в отчете, отвечающая конечным требованиям; Менеджмент: руководство и развитие BI направления, общение с бизнесом, получение тех заданий на разработку\\\\доработку бизнес логики, отчетности, ad-hoc отчетности; определение стратегии развития, составление плана работы, установка сроков исполнения, распределение задач, контроль исполнения, мотивирование на достижение результата; унификация кода к принятым внутри команды стандартам, инвентаризация и описание процессов в подконтрольных секторах; разработка регламентов и методологий, доведение до заинтересованных лиц принятых инструкций и разъяснений; формулирование и постановка задач сотрудникам на филиалах, разрешение спорных ситуаций; Обеспечение взаимодействия между различными учетными системами. Постановка и согласование технических заданий на создание единой автоматизированной информационно-аналитической системы. Сентябрь 2015 — Сентябрь  2016 1 год 1 месяц НПФ Райффайзен Москва , npfraiffeisen.ru Финансовый сектор ... НПФ Старший сотрудник отдела разработки T-SQL: написание сложных аналитических запросов, хранимых процедур, функций. Анализ и обработка полученных данных; ETL: загрузка данных из различных источников и форматов (Excel, XML), создание DTS пакетов; Разработка клиент-серверных приложений (C#, ASP, MS SQL), WCF сервисов, разработка и внедрение решений, инструментов для оптимизации работы фонда, структурирования данных, автоматизации системы анализа, планирования, хранения и учета, инвентаризация ПО; Поддержка приложений, внедрение новых релизов. Поиск и локализация неисправностей в работе ПО, решение инцидентов. Поиск и устранение узких мест в работе между приложениями и БД (SQL Profiler). Анализ планов запросов, создание индексов; Создание и поддержка отчетов Reporting Services; VBA макросы; Администрирование БД MS SQL Server: создание планов поддержки, автоматизирование процессов резервного копирования и восстановления БД, поддержка инвентаризации окружения баз данных в актуальном состоянии, разработка хранимых процедур, функций, заданий и запросов на T-SQL. Декабрь 2014 — Август  2015 9 месяцев Бранд и партнеры Москва , bbpartners.ru Услуги для бизнеса ... Юридическое обслуживание Ведущий сотрудник ИТ отдела Разработка и поддержка клиент-серверных приложений (C#, ASP, MS SQL, MySQL), разработка и внедрение решений, инструментов для оптимизации работы компании, структурирования данных, автоматизации системы анализа, планирования, хранения и учета, инвентаризация ПО; Администрирование БД MS SQL Server, MySQL: создание планов поддержки, автоматизирование процессов резервного копирования и восстановления БД, поддержка инвентаризации окружения баз данных в актуальном состоянии, мониторинг состояния серверов баз данных, разработка хранимых процедур, функций, заданий и запросов на T-SQL; Администрирование корпоративного домена, корпоративной почты, локальной сети, настройка VPN соединения, поддержка в актуальном состоянии инвентаризации окружения домена. Июнь 2014 — Ноябрь  2014 6 месяцев Ренессанс Кредит Россия , www.rencredit.ru Финансовый сектор ... Финансово-кредитное посредничество (биржа, брокерская деятельность, выпуск и обслуживание карт, оценка рисков, обменные пункты, агентства по кредитованию, инкассация, ломбард, платежные системы) Старший специалист отдела сопровождения баз данных Администрирование БД MS SQL: - администрирование MS SQL Server, Reporting Services; - планирование и поддержка безотказной работы, при использовании технологии Windows Failover Cluster; - настройка зеркалирования (MS SQL Mirroring) между экземплярами; - создание планов поддержки; - поддержка моментальных снимков; - автоматизирование процессов резервного копирования и восстановления БД (NetBackup); - поддержка инвентаризации окружения баз данных в актуальном состоянии; - мониторинг состояния серверов баз данных (Zabbix); - разработка хранимых процедур, функций, заданий и запросов на T-SQL; - анализ и настройка целостности БД; - анализ производительности БД и оптимизация SQL запросов; - работа с заявками, - расследование инцидентов; - управление правами доступа пользователей. Май 2009 — Май  2014 5 лет 1 месяц в/ч 71330 Москва Государственные организации ... Государственные организации Старший сотрудник отдела Администрирование БД MS SQL: - автоматизирование процессов резервного копирования и восстановления БД; - разработка хранимых процедур, функций, заданий и запросов на T-SQL; - анализ и настройка целостности БД; - оптимизация структуры БД; - анализ БД на предмет наличия артефактов; - анализ производительности БД и ее настройка при помощи SQL Server Profiler и применения индексов и оптимизации SQL запросов; - разработка структуры БД, серверной бизнес-логики; - администрирование БД в центральном офисе и филиалах; - настройка репликации баз между филиалами; - планирование и обеспечение безотказной работы, организация мониторинга; - работа с заявками, предотвращение и расследование инцидентов; - загрузка данных из внешних источников. Взаимодействие с разработчиками ПО корпоративных систем: - участие в постановке задач и разработке технического задания, рабочей и проектной документации; - работа в тесном контакте с разработчиком, beta-тестирование, составление заданий на доработку систем. Прикладное программирование на C/C++/C#: - написание прикладных программ для нужд компании; - создание ASP.NET, Windows приложений; - создание приложений для работы с БД; - доработка и оптимизация ПО, разрабатываемого для нужд компании. MS Forefront TMG: - настройка и обеспечения доступа клиентов в Интернет; - настройка пользовательских ПК для работы с Forefront; - разграничение пользовательского доступа к БД; - создание правил и расписаний для доступа в Интернет. Администрирование СХД. Организация проектирования и работ по монтажу ЛВС; Ноябрь 2007 — Апрель  2009 1 год 6 месяцев ВНИИ АС РЖД Москва Перевозки, логистика, склад, ВЭД ... Железнодорожные перевозки Транспортно-логистические комплексы, порты (воздушный, водный, железнодорожный) Программист Создание приложений на C#; Программирование на платформе ASP.NET; Создание приложений для работы с SQL БД; Использование при программировании вставок на Java Script. Ключевые навыки Теперь резюме открыто всему интернету — изменить можно в настройках видимости. Active Directory C/C++/C# DHCP DNS GP Http Proxy MS Failover Cluster MS Forefront TMG MS SQL Server MS Windows Server Sphinx SQL Server Mirroring SQL Server Snapshot T-sql Архитектор БД Проектирование ЛВС Работа с базами данных Java NetBackup Zabbix SVN MySQL MDX Olap (online analytical processing) SSRS SSAS SSIS Reporting SFA FMCG Продажи Возникли неполадки. Попробуйте еще раз. Обо мне Нравится работать с данными: составлять сложные SQL запросы, производить анализ данных, представлять полученную информацию в удобном виде. Умение работать в коллективе, быть ответственным за общий результат. Желание обучаться и развивать профессиональные навыки. Умение читать и разбираться в чужом коде. Выполнять поставленные задачи, имея на входе минимум вводных. Устойчивость к нагрузкам, самообучаемость, исполнительность. Высшее образование 2007 Кликнув на название учебного заведения вы сможете найти кандидатов из этого вуза. Московский государственный университет путей сообщения, Москва Институт управления и информационных технологий, Инженер по спец. Вычислительные машины, комплексы, системы и сети Знание языков Русский — Родной Английский — C1 — Продвинутый Повышение квалификации, курсы 2016 Реализация модели данных и отчетов с помощью Microsoft SQL Server 2012 (M10778) Центр компьютерного обучения \"Специалист\" при МГТУ им. Н.Э. Баумана, Информационный технологии, СУБД 2012 Forefront TMG 2010: Возможности и решения сетевой безопасности Центр компьютерного обучения \"Специалист\" при МГТУ им. Н.Э. Баумана, Информационный технологии 2010 Системы управления базами данных MS SQL Server и MS Access Московский институт новых информационных технологий федеральной службы безопасности Российской Федерации, Москва, Информационный технологии, СУБД 2010 Создание и эксплуатация информационных систем на основе баз данных Московский институт новых информационных технологий федеральной службы безопасности Российской Федерации, Москва, Информационный технологии, СУБД Гражданство, время в пути до работы Гражданство: Россия Разрешение на работу: Россия Желательное время в пути до работы: Не имеет значения  Опыт работы 11 лет 6 месяцев Декабрь 2017 — по настоящее время 1 год 5 месяцев ЭркаФарм Россия , erkapharm.com Медицина, фармацевтика, аптеки ... Аптека, оптика Руководитель отдела аналитики Стратегическая цель: создание единой корпоративной автоматизированной информационно-аналитической системы бизнес анализа; MDM: ведение и поддержка в актуальном состоянии мастер-справочников компании; разработка новых справочников\\\\атрибутов для обеспечения деятельности подразделений компании; контроль бизнес-процессов в части, касающейся мастер-данных; написание документов, закрепляющих регламентные нормы по ведению мастер-справочников; ETL: загрузка данных из внешних источников; обработка, структурирование, приведение к унифицированному виду с использованием SSIS; контроль полноты и релевантности загружаемых данных; наполнение DWH хранилища обработанными данными; DWH: проектирование, создание и поддержка Хранилища данных; ежедневное обновление Хранилища данными из внешних источников; OLAP: разработка, доработка и поддержка Кубов; процессинг Кубов после обновления Хранилища данных; дозагрузка дельты данных в течение дня; Отчетность и визуализация данных: создание, поддержка и доставка отчетов до конечных пользователей, с использованием SSRS и Power BI; T-SQL: написание сложных аналитических запросов, обработок, хранимых процедур, функций; анализ и обработка полученных данных, ad-hoc; Администрирование БД: проектирование и поддержка БД; секционирование, создание индексов, триггеров; поддержка отказоустойчивости работы с БД, создание и поддержка резервных копий баз; распараллеливание процессов между серверами; Обучение: написание и поддержка в актуальном состоянии инструкций по пользованию Кубом и Порталом бизнес отчетности; проведение периодических мероприятий, направленных на обучение сотрудников компании по использованию бизнес систем компании; создание и поддержка портала видео инструкций с основными типовыми запросами; инвентаризация отчетности и аналитических метрик, с указанием методик и фильтров построения; Менеджмент: руководство и развитие отдела (8 человек в подчинении); руководство группой аналитиков в регионах (8 человек в подчинении); общение с бизнесом, получение тех заданий на разработку\\\\доработку бизнес логики, отчетности, ad-hoc отчетности; определение стратегии развития, составление плана работы, установка сроков исполнения, распределение задач, контроль исполнения, мотивирование на достижение результата; унификация кода к принятым внутри команды стандартам, инвентаризация и описание процессов в подконтрольных секторах; Октябрь 2016 — Ноябрь  2017 1 год 2 месяца Черкизово, Группа Москва , www.cherkizovo-group.ru/ Продукты питания ... Мясная продукция (продвижение, оптовая торговля) Мясная продукция (производство) Полуфабрикаты, в том числе замороженные (продвижение, оптовая торговля) Полуфабрикаты, в том числе замороженные (производство) Сельское хозяйство Земледелие, растениеводство, животноводство Ведущий специалист BI напраления отдела развития систем продаж ETL: загрузка данных из внешних источников; обработка, структурирование, приведение к унифицированному виду; загрузка обработанных данных в DWH хранилище; DWH: проектирование, создание и поддержка хранилища данных. Регулярное обновление хранилища после загрузки данных из внешних источников. OLAP: создание и поддержка кубов; процессинг куба после обновления хранилища данных, добавление измерений и фактов; Reporting и визуализация данных: создание, поддержка и доставка отчетов до конечных пользователей, с использованием SSRS и Tableau; T-SQL: написание сложных аналитических запросов, хранимых процедур, функций. Анализ и обработка полученных данных, ad-hoc; SFA: автоматизация и поддержка процессов на базе учетной системы Чикаго; разработка и поддержка отчетности с выводом данных в сводные и плоские таблицы MS Excel; VBA: дальнейшая обработка данных в отчете, отвечающая конечным требованиям; Менеджмент: руководство и развитие BI направления, общение с бизнесом, получение тех заданий на разработку\\\\доработку бизнес логики, отчетности, ad-hoc отчетности; определение стратегии развития, составление плана работы, установка сроков исполнения, распределение задач, контроль исполнения, мотивирование на достижение результата; унификация кода к принятым внутри команды стандартам, инвентаризация и описание процессов в подконтрольных секторах; разработка регламентов и методологий, доведение до заинтересованных лиц принятых инструкций и разъяснений; формулирование и постановка задач сотрудникам на филиалах, разрешение спорных ситуаций; Обеспечение взаимодействия между различными учетными системами. Постановка и согласование технических заданий на создание единой автоматизированной информационно-аналитической системы. Сентябрь 2015 — Сентябрь  2016 1 год 1 месяц НПФ Райффайзен Москва , npfraiffeisen.ru Финансовый сектор ... НПФ Старший сотрудник отдела разработки T-SQL: написание сложных аналитических запросов, хранимых процедур, функций. Анализ и обработка полученных данных; ETL: загрузка данных из различных источников и форматов (Excel, XML), создание DTS пакетов; Разработка клиент-серверных приложений (C#, ASP, MS SQL), WCF сервисов, разработка и внедрение решений, инструментов для оптимизации работы фонда, структурирования данных, автоматизации системы анализа, планирования, хранения и учета, инвентаризация ПО; Поддержка приложений, внедрение новых релизов. Поиск и локализация неисправностей в работе ПО, решение инцидентов. Поиск и устранение узких мест в работе между приложениями и БД (SQL Profiler). Анализ планов запросов, создание индексов; Создание и поддержка отчетов Reporting Services; VBA макросы; Администрирование БД MS SQL Server: создание планов поддержки, автоматизирование процессов резервного копирования и восстановления БД, поддержка инвентаризации окружения баз данных в актуальном состоянии, разработка хранимых процедур, функций, заданий и запросов на T-SQL. Декабрь 2014 — Август  2015 9 месяцев Бранд и партнеры Москва , bbpartners.ru Услуги для бизнеса ... Юридическое обслуживание Ведущий сотрудник ИТ отдела Разработка и поддержка клиент-серверных приложений (C#, ASP, MS SQL, MySQL), разработка и внедрение решений, инструментов для оптимизации работы компании, структурирования данных, автоматизации системы анализа, планирования, хранения и учета, инвентаризация ПО; Администрирование БД MS SQL Server, MySQL: создание планов поддержки, автоматизирование процессов резервного копирования и восстановления БД, поддержка инвентаризации окружения баз данных в актуальном состоянии, мониторинг состояния серверов баз данных, разработка хранимых процедур, функций, заданий и запросов на T-SQL; Администрирование корпоративного домена, корпоративной почты, локальной сети, настройка VPN соединения, поддержка в актуальном состоянии инвентаризации окружения домена. Июнь 2014 — Ноябрь  2014 6 месяцев Ренессанс Кредит Россия , www.rencredit.ru Финансовый сектор ... Финансово-кредитное посредничество (биржа, брокерская деятельность, выпуск и обслуживание карт, оценка рисков, обменные пункты, агентства по кредитованию, инкассация, ломбард, платежные системы) Старший специалист отдела сопровождения баз данных Администрирование БД MS SQL: - администрирование MS SQL Server, Reporting Services; - планирование и поддержка безотказной работы, при использовании технологии Windows Failover Cluster; - настройка зеркалирования (MS SQL Mirroring) между экземплярами; - создание планов поддержки; - поддержка моментальных снимков; - автоматизирование процессов резервного копирования и восстановления БД (NetBackup); - поддержка инвентаризации окружения баз данных в актуальном состоянии; - мониторинг состояния серверов баз данных (Zabbix); - разработка хранимых процедур, функций, заданий и запросов на T-SQL; - анализ и настройка целостности БД; - анализ производительности БД и оптимизация SQL запросов; - работа с заявками, - расследование инцидентов; - управление правами доступа пользователей. Май 2009 — Май  2014 5 лет 1 месяц в/ч 71330 Москва Государственные организации ... Государственные организации Старший сотрудник отдела Администрирование БД MS SQL: - автоматизирование процессов резервного копирования и восстановления БД; - разработка хранимых процедур, функций, заданий и запросов на T-SQL; - анализ и настройка целостности БД; - оптимизация структуры БД; - анализ БД на предмет наличия артефактов; - анализ производительности БД и ее настройка при помощи SQL Server Profiler и применения индексов и оптимизации SQL запросов; - разработка структуры БД, серверной бизнес-логики; - администрирование БД в центральном офисе и филиалах; - настройка репликации баз между филиалами; - планирование и обеспечение безотказной работы, организация мониторинга; - работа с заявками, предотвращение и расследование инцидентов; - загрузка данных из внешних источников. Взаимодействие с разработчиками ПО корпоративных систем: - участие в постановке задач и разработке технического задания, рабочей и проектной документации; - работа в тесном контакте с разработчиком, beta-тестирование, составление заданий на доработку систем. Прикладное программирование на C/C++/C#: - написание прикладных программ для нужд компании; - создание ASP.NET, Windows приложений; - создание приложений для работы с БД; - доработка и оптимизация ПО, разрабатываемого для нужд компании. MS Forefront TMG: - настройка и обеспечения доступа клиентов в Интернет; - настройка пользовательских ПК для работы с Forefront; - разграничение пользовательского доступа к БД; - создание правил и расписаний для доступа в Интернет. Администрирование СХД. Организация проектирования и работ по монтажу ЛВС; Ноябрь 2007 — Апрель  2009 1 год 6 месяцев ВНИИ АС РЖД Москва Перевозки, логистика, склад, ВЭД ... Железнодорожные перевозки Транспортно-логистические комплексы, порты (воздушный, водный, железнодорожный) Программист Создание приложений на C#; Программирование на платформе ASP.NET; Создание приложений для работы с SQL БД; Использование при программировании вставок на Java Script.  Декабрь 2017 — по настоящее время 1 год 5 месяцев ЭркаФарм Россия , erkapharm.com Медицина, фармацевтика, аптеки ... Аптека, оптика Руководитель отдела аналитики Стратегическая цель: создание единой корпоративной автоматизированной информационно-аналитической системы бизнес анализа; MDM: ведение и поддержка в актуальном состоянии мастер-справочников компании; разработка новых справочников\\\\атрибутов для обеспечения деятельности подразделений компании; контроль бизнес-процессов в части, касающейся мастер-данных; написание документов, закрепляющих регламентные нормы по ведению мастер-справочников; ETL: загрузка данных из внешних источников; обработка, структурирование, приведение к унифицированному виду с использованием SSIS; контроль полноты и релевантности загружаемых данных; наполнение DWH хранилища обработанными данными; DWH: проектирование, создание и поддержка Хранилища данных; ежедневное обновление Хранилища данными из внешних источников; OLAP: разработка, доработка и поддержка Кубов; процессинг Кубов после обновления Хранилища данных; дозагрузка дельты данных в течение дня; Отчетность и визуализация данных: создание, поддержка и доставка отчетов до конечных пользователей, с использованием SSRS и Power BI; T-SQL: написание сложных аналитических запросов, обработок, хранимых процедур, функций; анализ и обработка полученных данных, ad-hoc; Администрирование БД: проектирование и поддержка БД; секционирование, создание индексов, триггеров; поддержка отказоустойчивости работы с БД, создание и поддержка резервных копий баз; распараллеливание процессов между серверами; Обучение: написание и поддержка в актуальном состоянии инструкций по пользованию Кубом и Порталом бизнес отчетности; проведение периодических мероприятий, направленных на обучение сотрудников компании по использованию бизнес систем компании; создание и поддержка портала видео инструкций с основными типовыми запросами; инвентаризация отчетности и аналитических метрик, с указанием методик и фильтров построения; Менеджмент: руководство и развитие отдела (8 человек в подчинении); руководство группой аналитиков в регионах (8 человек в подчинении); общение с бизнесом, получение тех заданий на разработку\\\\доработку бизнес логики, отчетности, ad-hoc отчетности; определение стратегии развития, составление плана работы, установка сроков исполнения, распределение задач, контроль исполнения, мотивирование на достижение результата; унификация кода к принятым внутри команды стандартам, инвентаризация и описание процессов в подконтрольных секторах;  Октябрь 2016 — Ноябрь  2017 1 год 2 месяца Черкизово, Группа Москва , www.cherkizovo-group.ru/ Продукты питания ... Мясная продукция (продвижение, оптовая торговля) Мясная продукция (производство) Полуфабрикаты, в том числе замороженные (продвижение, оптовая торговля) Полуфабрикаты, в том числе замороженные (производство) Сельское хозяйство Земледелие, растениеводство, животноводство Ведущий специалист BI напраления отдела развития систем продаж ETL: загрузка данных из внешних источников; обработка, структурирование, приведение к унифицированному виду; загрузка обработанных данных в DWH хранилище; DWH: проектирование, создание и поддержка хранилища данных. Регулярное обновление хранилища после загрузки данных из внешних источников. OLAP: создание и поддержка кубов; процессинг куба после обновления хранилища данных, добавление измерений и фактов; Reporting и визуализация данных: создание, поддержка и доставка отчетов до конечных пользователей, с использованием SSRS и Tableau; T-SQL: написание сложных аналитических запросов, хранимых процедур, функций. Анализ и обработка полученных данных, ad-hoc; SFA: автоматизация и поддержка процессов на базе учетной системы Чикаго; разработка и поддержка отчетности с выводом данных в сводные и плоские таблицы MS Excel; VBA: дальнейшая обработка данных в отчете, отвечающая конечным требованиям; Менеджмент: руководство и развитие BI направления, общение с бизнесом, получение тех заданий на разработку\\\\доработку бизнес логики, отчетности, ad-hoc отчетности; определение стратегии развития, составление плана работы, установка сроков исполнения, распределение задач, контроль исполнения, мотивирование на достижение результата; унификация кода к принятым внутри команды стандартам, инвентаризация и описание процессов в подконтрольных секторах; разработка регламентов и методологий, доведение до заинтересованных лиц принятых инструкций и разъяснений; формулирование и постановка задач сотрудникам на филиалах, разрешение спорных ситуаций; Обеспечение взаимодействия между различными учетными системами. Постановка и согласование технических заданий на создание единой автоматизированной информационно-аналитической системы.  Сентябрь 2015 — Сентябрь  2016 1 год 1 месяц НПФ Райффайзен Москва , npfraiffeisen.ru Финансовый сектор ... НПФ Старший сотрудник отдела разработки T-SQL: написание сложных аналитических запросов, хранимых процедур, функций. Анализ и обработка полученных данных; ETL: загрузка данных из различных источников и форматов (Excel, XML), создание DTS пакетов; Разработка клиент-серверных приложений (C#, ASP, MS SQL), WCF сервисов, разработка и внедрение решений, инструментов для оптимизации работы фонда, структурирования данных, автоматизации системы анализа, планирования, хранения и учета, инвентаризация ПО; Поддержка приложений, внедрение новых релизов. Поиск и локализация неисправностей в работе ПО, решение инцидентов. Поиск и устранение узких мест в работе между приложениями и БД (SQL Profiler). Анализ планов запросов, создание индексов; Создание и поддержка отчетов Reporting Services; VBA макросы; Администрирование БД MS SQL Server: создание планов поддержки, автоматизирование процессов резервного копирования и восстановления БД, поддержка инвентаризации окружения баз данных в актуальном состоянии, разработка хранимых процедур, функций, заданий и запросов на T-SQL.  Декабрь 2014 — Август  2015 9 месяцев Бранд и партнеры Москва , bbpartners.ru Услуги для бизнеса ... Юридическое обслуживание Ведущий сотрудник ИТ отдела Разработка и поддержка клиент-серверных приложений (C#, ASP, MS SQL, MySQL), разработка и внедрение решений, инструментов для оптимизации работы компании, структурирования данных, автоматизации системы анализа, планирования, хранения и учета, инвентаризация ПО; Администрирование БД MS SQL Server, MySQL: создание планов поддержки, автоматизирование процессов резервного копирования и восстановления БД, поддержка инвентаризации окружения баз данных в актуальном состоянии, мониторинг состояния серверов баз данных, разработка хранимых процедур, функций, заданий и запросов на T-SQL; Администрирование корпоративного домена, корпоративной почты, локальной сети, настройка VPN соединения, поддержка в актуальном состоянии инвентаризации окружения домена.  Июнь 2014 — Ноябрь  2014 6 месяцев Ренессанс Кредит Россия , www.rencredit.ru Финансовый сектор ... Финансово-кредитное посредничество (биржа, брокерская деятельность, выпуск и обслуживание карт, оценка рисков, обменные пункты, агентства по кредитованию, инкассация, ломбард, платежные системы) Старший специалист отдела сопровождения баз данных Администрирование БД MS SQL: - администрирование MS SQL Server, Reporting Services; - планирование и поддержка безотказной работы, при использовании технологии Windows Failover Cluster; - настройка зеркалирования (MS SQL Mirroring) между экземплярами; - создание планов поддержки; - поддержка моментальных снимков; - автоматизирование процессов резервного копирования и восстановления БД (NetBackup); - поддержка инвентаризации окружения баз данных в актуальном состоянии; - мониторинг состояния серверов баз данных (Zabbix); - разработка хранимых процедур, функций, заданий и запросов на T-SQL; - анализ и настройка целостности БД; - анализ производительности БД и оптимизация SQL запросов; - работа с заявками, - расследование инцидентов; - управление правами доступа пользователей.  Май 2009 — Май  2014 5 лет 1 месяц в/ч 71330 Москва Государственные организации ... Государственные организации Старший сотрудник отдела Администрирование БД MS SQL: - автоматизирование процессов резервного копирования и восстановления БД; - разработка хранимых процедур, функций, заданий и запросов на T-SQL; - анализ и настройка целостности БД; - оптимизация структуры БД; - анализ БД на предмет наличия артефактов; - анализ производительности БД и ее настройка при помощи SQL Server Profiler и применения индексов и оптимизации SQL запросов; - разработка структуры БД, серверной бизнес-логики; - администрирование БД в центральном офисе и филиалах; - настройка репликации баз между филиалами; - планирование и обеспечение безотказной работы, организация мониторинга; - работа с заявками, предотвращение и расследование инцидентов; - загрузка данных из внешних источников. Взаимодействие с разработчиками ПО корпоративных систем: - участие в постановке задач и разработке технического задания, рабочей и проектной документации; - работа в тесном контакте с разработчиком, beta-тестирование, составление заданий на доработку систем. Прикладное программирование на C/C++/C#: - написание прикладных программ для нужд компании; - создание ASP.NET, Windows приложений; - создание приложений для работы с БД; - доработка и оптимизация ПО, разрабатываемого для нужд компании. MS Forefront TMG: - настройка и обеспечения доступа клиентов в Интернет; - настройка пользовательских ПК для работы с Forefront; - разграничение пользовательского доступа к БД; - создание правил и расписаний для доступа в Интернет. Администрирование СХД. Организация проектирования и работ по монтажу ЛВС;  Ноябрь 2007 — Апрель  2009 1 год 6 месяцев ВНИИ АС РЖД Москва Перевозки, логистика, склад, ВЭД ... Железнодорожные перевозки Транспортно-логистические комплексы, порты (воздушный, водный, железнодорожный) Программист Создание приложений на C#; Программирование на платформе ASP.NET; Создание приложений для работы с SQL БД; Использование при программировании вставок на Java Script.'\n",
            " 'ЭркаФарм' 'Руководитель отдела аналитики'\n",
            " 'Руководитель BI 250 000 руб. Информационные технологии, интернет, телеком Инженер Аналитик Занятость: полная занятость График работы: полный день Опыт работы 11 лет 6 месяцев Декабрь 2017 — по настоящее время 1 год 5 месяцев ЭркаФарм Россия ,  erkapharm.com Медицина, фармацевтика, аптеки ... Показать еще Аптека, оптика Руководитель отдела аналитики Стратегическая цель:  создание единой корпоративной автоматизированной информационно-аналитической системы бизнес анализа; MDM: ведение и поддержка в актуальном состоянии мастер-справочников компании; разработка новых справочников\\\\атрибутов для обеспечения деятельности подразделений компании; контроль бизнес-процессов в части, касающейся мастер-данных; написание документов, закрепляющих регламентные нормы по ведению мастер-справочников; ETL:  загрузка данных из внешних источников;  обработка, структурирование, приведение к унифицированному виду с использованием SSIS;  контроль полноты и релевантности загружаемых данных; наполнение DWH хранилища обработанными данными; DWH:  проектирование, создание и поддержка Хранилища данных; ежедневное обновление Хранилища данными из внешних источников; OLAP:  разработка, доработка и поддержка Кубов;  процессинг Кубов после обновления Хранилища данных;  дозагрузка дельты данных в течение дня; Отчетность и визуализация данных:  создание, поддержка и доставка отчетов до конечных пользователей, с использованием SSRS и Power BI; T-SQL:  написание сложных аналитических запросов, обработок, хранимых процедур, функций; анализ и обработка полученных данных, ad-hoc; Администрирование БД:  проектирование и поддержка БД;  секционирование, создание индексов, триггеров;  поддержка отказоустойчивости работы с БД, создание и поддержка резервных копий баз; распараллеливание процессов между серверами; Обучение: написание и поддержка в актуальном состоянии инструкций по пользованию Кубом и Порталом бизнес отчетности; проведение периодических мероприятий, направленных на обучение сотрудников компании по использованию бизнес систем компании; создание и поддержка портала видео инструкций с основными типовыми запросами; инвентаризация отчетности и аналитических метрик, с указанием методик и фильтров построения; Менеджмент:  руководство и развитие отдела (8 человек в подчинении);  руководство группой аналитиков в регионах (8 человек в подчинении); общение с бизнесом, получение тех заданий на разработку\\\\доработку бизнес логики, отчетности, ad-hoc отчетности;  определение стратегии развития, составление плана работы, установка сроков исполнения, распределение задач, контроль исполнения, мотивирование на достижение результата; унификация кода к принятым внутри команды стандартам, инвентаризация и описание процессов в подконтрольных секторах; Октябрь 2016 —  Ноябрь  2017 1 год 2 месяца Черкизово, Группа Москва ,  www.cherkizovo-group.ru/ Продукты питания ... Показать еще Мясная продукция (продвижение, оптовая торговля) Мясная продукция (производство) Полуфабрикаты, в том числе замороженные  (продвижение, оптовая торговля) Полуфабрикаты, в том числе замороженные (производство) Сельское хозяйство Земледелие, растениеводство, животноводство Ведущий специалист BI напраления отдела развития систем продаж ETL: загрузка данных из внешних источников; обработка, структурирование, приведение к унифицированному виду; загрузка обработанных данных в DWH хранилище; DWH: проектирование, создание и поддержка хранилища данных. Регулярное обновление хранилища после загрузки данных из внешних источников. OLAP: создание и поддержка кубов; процессинг куба после обновления хранилища данных, добавление измерений и фактов; Reporting и визуализация данных: создание, поддержка и доставка отчетов до конечных пользователей, с использованием SSRS и Tableau; T-SQL: написание сложных аналитических запросов, хранимых процедур, функций. Анализ и обработка полученных данных, ad-hoc; SFA: автоматизация и поддержка процессов на базе учетной системы Чикаго; разработка и поддержка отчетности с выводом данных в сводные и плоские таблицы MS Excel; VBA: дальнейшая обработка данных в отчете, отвечающая конечным требованиям; Менеджмент: руководство и развитие BI направления, общение с бизнесом, получение тех заданий на разработку\\\\доработку бизнес логики, отчетности, ad-hoc отчетности; определение стратегии развития, составление плана работы, установка сроков исполнения, распределение задач, контроль исполнения, мотивирование на достижение результата; унификация кода к принятым внутри команды стандартам, инвентаризация и описание процессов в подконтрольных секторах; разработка регламентов и методологий, доведение до заинтересованных лиц принятых инструкций и разъяснений;  формулирование и постановка задач сотрудникам на филиалах, разрешение спорных ситуаций; Обеспечение взаимодействия между различными учетными системами. Постановка и согласование технических заданий на создание единой автоматизированной информационно-аналитической системы. Сентябрь 2015 —  Сентябрь  2016 1 год 1 месяц НПФ Райффайзен Москва ,  npfraiffeisen.ru Финансовый сектор ... Показать еще НПФ Старший сотрудник отдела разработки T-SQL: написание сложных аналитических запросов, хранимых процедур, функций. Анализ и обработка полученных данных; ETL: загрузка данных из различных источников и форматов (Excel, XML), создание DTS пакетов; Разработка клиент-серверных приложений (C#, ASP, MS SQL), WCF сервисов, разработка и внедрение решений, инструментов для оптимизации работы фонда, структурирования данных, автоматизации системы анализа, планирования, хранения и учета, инвентаризация ПО; Поддержка приложений, внедрение новых релизов. Поиск и локализация неисправностей в работе ПО, решение инцидентов. Поиск и устранение узких мест в работе между приложениями и БД (SQL Profiler). Анализ планов запросов, создание индексов; Создание и поддержка отчетов Reporting Services;  VBA макросы; Администрирование БД MS SQL Server: создание планов поддержки, автоматизирование процессов резервного копирования и восстановления БД, поддержка инвентаризации окружения баз данных в актуальном состоянии, разработка хранимых процедур, функций, заданий и запросов на T-SQL. Декабрь 2014 —  Август  2015 9 месяцев Бранд и партнеры Москва ,  bbpartners.ru Услуги для бизнеса ... Показать еще Юридическое обслуживание Ведущий сотрудник ИТ отдела Разработка и поддержка клиент-серверных приложений (C#, ASP, MS SQL, MySQL), разработка и внедрение решений, инструментов для оптимизации работы компании, структурирования данных, автоматизации системы анализа, планирования, хранения и учета, инвентаризация ПО; Администрирование БД MS SQL Server, MySQL: создание планов поддержки, автоматизирование процессов резервного копирования и восстановления БД, поддержка инвентаризации окружения баз данных в актуальном состоянии, мониторинг состояния серверов баз данных, разработка хранимых процедур, функций, заданий и запросов на T-SQL; Администрирование корпоративного домена, корпоративной почты, локальной сети, настройка VPN соединения, поддержка в актуальном состоянии инвентаризации окружения домена. Июнь 2014 —  Ноябрь  2014 6 месяцев Ренессанс Кредит Россия ,  www.rencredit.ru Финансовый сектор ... Показать еще Финансово-кредитное посредничество (биржа, брокерская деятельность, выпуск и обслуживание карт, оценка рисков, обменные пункты, агентства по кредитованию, инкассация, ломбард, платежные системы) Старший специалист отдела сопровождения баз данных Администрирование БД MS SQL: -администрирование MS SQL Server, Reporting Services; -планирование и поддержка безотказной работы, при использовании технологии Windows Failover Cluster; -настройка зеркалирования (MS SQL Mirroring) между экземплярами; -создание планов поддержки; -поддержка моментальных снимков; -автоматизирование процессов резервного копирования и восстановления БД (NetBackup); -поддержка инвентаризации окружения баз данных в актуальном состоянии; -мониторинг состояния серверов баз данных (Zabbix); -разработка хранимых процедур, функций, заданий и запросов на T-SQL; -анализ и настройка целостности БД; -анализ производительности БД и оптимизация SQL запросов; -работа с заявками,  -расследование инцидентов; -управление правами доступа пользователей. Май 2009 —  Май  2014 5 лет 1 месяц в/ч 71330 Москва Государственные организации ... Показать еще Государственные организации Старший сотрудник отдела Администрирование БД MS SQL: -автоматизирование процессов резервного копирования и восстановления БД; -разработка хранимых процедур, функций, заданий и запросов на T-SQL; -анализ и настройка целостности БД;  -оптимизация структуры БД; -анализ БД на предмет наличия артефактов; -анализ производительности БД и ее настройка при помощи SQL Server Profiler и применения индексов и оптимизации SQL запросов; -разработка структуры БД, серверной бизнес-логики; -администрирование БД в центральном офисе и филиалах; -настройка репликации баз между филиалами; -планирование и обеспечение безотказной работы, организация мониторинга; -работа с заявками, предотвращение и расследование инцидентов; -загрузка данных из внешних источников. Взаимодействие с разработчиками ПО корпоративных систем: -участие в постановке задач и разработке технического задания, рабочей и проектной документации; -работа в тесном контакте с разработчиком, beta-тестирование, составление заданий на доработку систем. Прикладное программирование на C/C++/C#: -написание прикладных программ для нужд компании; -создание ASP.NET, Windows приложений; -создание приложений для работы с БД; -доработка и оптимизация ПО, разрабатываемого для нужд компании. MS Forefront TMG: -настройка и обеспечения доступа клиентов в Интернет; -настройка пользовательских ПК для работы с Forefront; -разграничение пользовательского доступа к БД; -создание правил и расписаний для доступа в Интернет. Администрирование СХД. Организация проектирования и работ по монтажу ЛВС; Ноябрь 2007 —  Апрель  2009 1 год 6 месяцев ВНИИ АС РЖД Москва Перевозки, логистика, склад, ВЭД ... Показать еще Железнодорожные перевозки Транспортно-логистические комплексы, порты (воздушный, водный, железнодорожный) Программист Создание приложений на C#; Программирование на платформе ASP.NET; Создание приложений для работы с SQL БД; Использование при программировании вставок на Java Script. Ключевые навыки Теперь резюме открыто всему интернету — изменить можно в  настройках видимости. Active Directory C/C++/C# DHCP DNS GP Http Proxy MS Failover Cluster MS Forefront TMG MS SQL Server MS Windows Server Sphinx SQL Server Mirroring SQL Server Snapshot T-sql Архитектор БД Проектирование ЛВС Работа с базами данных Java NetBackup Zabbix SVN MySQL MDX Olap (online analytical processing) SSRS SSAS SSIS Reporting SFA FMCG Продажи Возникли неполадки. Попробуйте еще раз. Обо мне Нравится работать с данными: составлять сложные SQL запросы, производить анализ данных, представлять полученную информацию в удобном виде. Умение работать в коллективе, быть ответственным за общий результат. Желание обучаться и развивать профессиональные навыки. Умение читать и разбираться в чужом коде. Выполнять поставленные задачи, имея на входе минимум вводных. Устойчивость к нагрузкам, самообучаемость, исполнительность. Высшее образование 2007  Московский государственный университет путей сообщения, Москва Институт управления и информационных технологий, Инженер по спец. Вычислительные машины, комплексы, системы и сети Знание языков Русский — Родной Английский — C1 — Продвинутый Повышение квалификации, курсы 2016 Реализация модели данных и отчетов с помощью Microsoft SQL Server 2012 (M10778) Центр компьютерного обучения \"Специалист\" при МГТУ им. Н.Э. Баумана, Информационный технологии, СУБД 2012 Forefront TMG 2010: Возможности и решения сетевой безопасности Центр компьютерного обучения \"Специалист\" при МГТУ им. Н.Э. Баумана, Информационный технологии 2010 Системы управления базами данных MS SQL Server и MS Access Московский институт новых информационных технологий федеральной службы безопасности Российской Федерации, Москва, Информационный технологии, СУБД 2010 Создание и эксплуатация информационных систем на основе баз данных Московский институт новых информационных технологий федеральной службы безопасности Российской Федерации, Москва, Информационный технологии, СУБД Гражданство, время в пути до работы Гражданство:  Россия Разрешение на работу: Россия Желательное время в пути до работы:  Не имеет значения'\n",
            " '21.03.2019 23:56' 'Не указано']\n",
            "Руководитель BI Руководитель отдела аналитики\n"
          ]
        }
      ]
    },
    {
      "cell_type": "code",
      "metadata": {
        "id": "ivYtke6XBaCN"
      },
      "source": [
        "# Преобразование текстовых данных в числовые/векторные для обучения нейросетью\n",
        "\n",
        "# Используется встроенный в Keras токенизатор для разбиения текста и построения частотного словаря\n",
        "tokenizer = Tokenizer(num_words=3000, # объем словаря\n",
        "                      filters='!\"#$%&()*+,-–—./:;<=>?@[\\\\]^_`{|}~\\t\\n\\xa0', # убираемые из текста ненужные символы \n",
        "                      lower=True, # приведение слов к нижнему регистру\n",
        "                      split=' ', # разделитель слов\n",
        "                      oov_token='unknown', # указание разделять по словам, а не по единичным символам\n",
        "                      char_level=False # токен для слов, которые не вошли в словарь\n",
        "                      )\n",
        "\n",
        "tokenizer.fit_on_texts(prof_text) "
      ],
      "execution_count": null,
      "outputs": []
    },
    {
      "cell_type": "code",
      "metadata": {
        "colab": {
          "base_uri": "https://localhost:8080/"
        },
        "id": "IZMGWeJufGFG",
        "outputId": "d25c36ed-dc80-4ee4-c9b4-f95724f6f704"
      },
      "source": [
        "items = list(tokenizer.word_index.items())       # Получение индексов слов\n",
        "print(items[:50])                                # Посмотр 50 самых часто встречающихся слов\n",
        "print(\"Размер словаря\", len(items))              # Длина словаря"
      ],
      "execution_count": null,
      "outputs": [
        {
          "output_type": "stream",
          "name": "stdout",
          "text": [
            "[('unknown', 1), ('инженер', 2), ('специалист', 3), ('по', 4), ('менеджер', 5), ('администратор', 6), ('руководитель', 7), ('системный', 8), ('отдела', 9), ('программист', 10), ('ведущий', 11), ('проектов', 12), ('разработчик', 13), ('it', 14), ('поддержки', 15), ('аналитик', 16), ('и', 17), ('технической', 18), ('проекта', 19), ('начальник', 20), ('ит', 21), ('директор', 22), ('интернет', 23), ('с', 24), ('главный', 25), ('старший', 26), ('оператор', 27), ('продажам', 28), ('работе', 29), ('технический', 30), ('монтажник', 31), ('систем', 32), ('developer', 33), ('web', 34), ('связи', 35), ('клиентами', 36), ('информационных', 37), ('консультант', 38), ('группы', 39), ('1с', 40), ('технологий', 41), ('заместитель', 42), ('manager', 43), ('техник', 44), ('дизайнер', 45), ('помощник', 46), ('службы', 47), ('магазина', 48), ('сервисный', 49), ('маркетолог', 50)]\n",
            "Размер словаря 10025\n"
          ]
        }
      ]
    },
    {
      "cell_type": "code",
      "metadata": {
        "id": "JXVN-Qg9Bc-f"
      },
      "source": [
        "# Преобразование текстов в последовательность индексов согласно частотному словарю\n",
        "prof_seq = tokenizer.texts_to_sequences(prof_text)"
      ],
      "execution_count": null,
      "outputs": []
    },
    {
      "cell_type": "markdown",
      "metadata": {
        "id": "Z6ddE2d_BhE7"
      },
      "source": [
        "**Создание обучающей и проверочной выборок**\n"
      ]
    },
    {
      "cell_type": "code",
      "metadata": {
        "id": "cEpXXnnKCFQS"
      },
      "source": [
        "# Преобразование последовательностей индексов в bag of words\n",
        "x_train_prof_01 = tokenizer.sequences_to_matrix(prof_seq)"
      ],
      "execution_count": null,
      "outputs": []
    },
    {
      "cell_type": "code",
      "metadata": {
        "colab": {
          "base_uri": "https://localhost:8080/"
        },
        "id": "7PSryPrCEZhq",
        "outputId": "6841c0a9-77a1-41cd-a37d-08779d00928e"
      },
      "source": [
        "# Проверка результата\n",
        "print(x_train_prof_01.shape)"
      ],
      "execution_count": null,
      "outputs": [
        {
          "output_type": "stream",
          "name": "stdout",
          "text": [
            "(62967, 3000)\n"
          ]
        }
      ]
    },
    {
      "cell_type": "code",
      "metadata": {
        "colab": {
          "base_uri": "https://localhost:8080/"
        },
        "id": "VPftdRBKD4wt",
        "outputId": "33bdf1b6-edec-486d-f659-baa5cff5343e"
      },
      "source": [
        "# Проверка получившихся данных\n",
        "n = 0\n",
        "print(prof_text[n])                       # Профессия в тексте\n",
        "print(prof_seq[n])                        # Профессия в индексах слов\n",
        "print(x_train_prof_01[n][0:100])          # Профессия в bag of words"
      ],
      "execution_count": null,
      "outputs": [
        {
          "output_type": "stream",
          "name": "stdout",
          "text": [
            "Специалист по поддержке чата(support team) домашний агент Генеральный директор\n",
            "[3, 4, 130, 987, 235, 114, 1, 346, 168, 22]\n",
            "[0. 1. 0. 1. 1. 0. 0. 0. 0. 0. 0. 0. 0. 0. 0. 0. 0. 0. 0. 0. 0. 0. 1. 0.\n",
            " 0. 0. 0. 0. 0. 0. 0. 0. 0. 0. 0. 0. 0. 0. 0. 0. 0. 0. 0. 0. 0. 0. 0. 0.\n",
            " 0. 0. 0. 0. 0. 0. 0. 0. 0. 0. 0. 0. 0. 0. 0. 0. 0. 0. 0. 0. 0. 0. 0. 0.\n",
            " 0. 0. 0. 0. 0. 0. 0. 0. 0. 0. 0. 0. 0. 0. 0. 0. 0. 0. 0. 0. 0. 0. 0. 0.\n",
            " 0. 0. 0. 0.]\n"
          ]
        }
      ]
    },
    {
      "cell_type": "code",
      "metadata": {
        "id": "w2HkcXkaRMTp"
      },
      "source": [
        "# Освобождение памяти от ненужных более объектов\n",
        "del prof_text, prof_seq, tokenizer"
      ],
      "execution_count": null,
      "outputs": []
    },
    {
      "cell_type": "markdown",
      "metadata": {
        "id": "lHcqgrFaz1dg"
      },
      "source": [
        "Мы подготовили выборку на основе текстовых данных о должности пользователя. Попробуем обучить нейронную сеть на основе собранных данных"
      ]
    },
    {
      "cell_type": "markdown",
      "metadata": {
        "id": "lpQth80gCavm"
      },
      "source": [
        "**Обучение модели на простых текстовых данных**\n"
      ]
    },
    {
      "cell_type": "code",
      "metadata": {
        "colab": {
          "base_uri": "https://localhost:8080/",
          "height": 1000
        },
        "id": "d57U78eTCfKW",
        "outputId": "2e43d4a4-61aa-4226-919c-33545992d6cd"
      },
      "source": [
        "# Обучение модели на данных о профессии\n",
        "\n",
        "model_prof = Sequential()\n",
        "model_prof.add(Dense(20, activation='relu', input_dim=x_train_prof_01.shape[1]))\n",
        "model_prof.add(Dense(500, activation='relu'))\n",
        "model_prof.add(Dense(1, activation='linear'))\n",
        "\n",
        "model_prof.compile(optimizer=Adagrad(learning_rate=1e-3), loss='mse', metrics=['mae'])\n",
        "\n",
        "history = model_prof.fit(x_train_prof_01, \n",
        "                    y_train_scaled, \n",
        "                    batch_size=256,\n",
        "                    epochs=50, \n",
        "                    validation_split=0.15, \n",
        "                    verbose=1)\n",
        "\n",
        "plot_history(history)"
      ],
      "execution_count": null,
      "outputs": [
        {
          "output_type": "stream",
          "name": "stdout",
          "text": [
            "Epoch 1/50\n",
            "210/210 [==============================] - 1s 5ms/step - loss: 0.9849 - mae: 0.6431 - val_loss: 1.0621 - val_mae: 0.6616\n",
            "Epoch 2/50\n",
            "210/210 [==============================] - 1s 4ms/step - loss: 0.9777 - mae: 0.6396 - val_loss: 1.0531 - val_mae: 0.6566\n",
            "Epoch 3/50\n",
            "210/210 [==============================] - 1s 4ms/step - loss: 0.9669 - mae: 0.6341 - val_loss: 1.0404 - val_mae: 0.6492\n",
            "Epoch 4/50\n",
            "210/210 [==============================] - 1s 4ms/step - loss: 0.9521 - mae: 0.6257 - val_loss: 1.0234 - val_mae: 0.6407\n",
            "Epoch 5/50\n",
            "210/210 [==============================] - 1s 4ms/step - loss: 0.9336 - mae: 0.6161 - val_loss: 1.0031 - val_mae: 0.6301\n",
            "Epoch 6/50\n",
            "210/210 [==============================] - 1s 4ms/step - loss: 0.9119 - mae: 0.6038 - val_loss: 0.9789 - val_mae: 0.6197\n",
            "Epoch 7/50\n",
            "210/210 [==============================] - 1s 4ms/step - loss: 0.8877 - mae: 0.5919 - val_loss: 0.9535 - val_mae: 0.6067\n",
            "Epoch 8/50\n",
            "210/210 [==============================] - 1s 4ms/step - loss: 0.8625 - mae: 0.5786 - val_loss: 0.9275 - val_mae: 0.5940\n",
            "Epoch 9/50\n",
            "210/210 [==============================] - 1s 4ms/step - loss: 0.8377 - mae: 0.5655 - val_loss: 0.9033 - val_mae: 0.5807\n",
            "Epoch 10/50\n",
            "210/210 [==============================] - 1s 4ms/step - loss: 0.8150 - mae: 0.5520 - val_loss: 0.8806 - val_mae: 0.5710\n",
            "Epoch 11/50\n",
            "210/210 [==============================] - 1s 4ms/step - loss: 0.7952 - mae: 0.5415 - val_loss: 0.8620 - val_mae: 0.5608\n",
            "Epoch 12/50\n",
            "210/210 [==============================] - 1s 4ms/step - loss: 0.7786 - mae: 0.5318 - val_loss: 0.8467 - val_mae: 0.5522\n",
            "Epoch 13/50\n",
            "210/210 [==============================] - 1s 4ms/step - loss: 0.7650 - mae: 0.5236 - val_loss: 0.8333 - val_mae: 0.5466\n",
            "Epoch 14/50\n",
            "210/210 [==============================] - 1s 4ms/step - loss: 0.7539 - mae: 0.5177 - val_loss: 0.8226 - val_mae: 0.5406\n",
            "Epoch 15/50\n",
            "210/210 [==============================] - 1s 4ms/step - loss: 0.7445 - mae: 0.5120 - val_loss: 0.8133 - val_mae: 0.5357\n",
            "Epoch 16/50\n",
            "210/210 [==============================] - 1s 4ms/step - loss: 0.7364 - mae: 0.5080 - val_loss: 0.8060 - val_mae: 0.5303\n",
            "Epoch 17/50\n",
            "210/210 [==============================] - 1s 4ms/step - loss: 0.7294 - mae: 0.5030 - val_loss: 0.7985 - val_mae: 0.5275\n",
            "Epoch 18/50\n",
            "210/210 [==============================] - 1s 4ms/step - loss: 0.7232 - mae: 0.4996 - val_loss: 0.7917 - val_mae: 0.5250\n",
            "Epoch 19/50\n",
            "210/210 [==============================] - 1s 4ms/step - loss: 0.7176 - mae: 0.4969 - val_loss: 0.7855 - val_mae: 0.5228\n",
            "Epoch 20/50\n",
            "210/210 [==============================] - 1s 4ms/step - loss: 0.7125 - mae: 0.4945 - val_loss: 0.7804 - val_mae: 0.5202\n",
            "Epoch 21/50\n",
            "210/210 [==============================] - 1s 4ms/step - loss: 0.7079 - mae: 0.4921 - val_loss: 0.7760 - val_mae: 0.5174\n",
            "Epoch 22/50\n",
            "210/210 [==============================] - 1s 4ms/step - loss: 0.7037 - mae: 0.4899 - val_loss: 0.7722 - val_mae: 0.5144\n",
            "Epoch 23/50\n",
            "210/210 [==============================] - 1s 4ms/step - loss: 0.6998 - mae: 0.4872 - val_loss: 0.7677 - val_mae: 0.5135\n",
            "Epoch 24/50\n",
            "210/210 [==============================] - 1s 4ms/step - loss: 0.6962 - mae: 0.4860 - val_loss: 0.7642 - val_mae: 0.5118\n",
            "Epoch 25/50\n",
            "210/210 [==============================] - 1s 4ms/step - loss: 0.6929 - mae: 0.4845 - val_loss: 0.7612 - val_mae: 0.5097\n",
            "Epoch 26/50\n",
            "210/210 [==============================] - 1s 4ms/step - loss: 0.6899 - mae: 0.4825 - val_loss: 0.7578 - val_mae: 0.5091\n",
            "Epoch 27/50\n",
            "210/210 [==============================] - 1s 4ms/step - loss: 0.6870 - mae: 0.4816 - val_loss: 0.7556 - val_mae: 0.5067\n",
            "Epoch 28/50\n",
            "210/210 [==============================] - 1s 4ms/step - loss: 0.6844 - mae: 0.4798 - val_loss: 0.7534 - val_mae: 0.5051\n",
            "Epoch 29/50\n",
            "210/210 [==============================] - 1s 4ms/step - loss: 0.6819 - mae: 0.4783 - val_loss: 0.7512 - val_mae: 0.5038\n",
            "Epoch 30/50\n",
            "210/210 [==============================] - 1s 4ms/step - loss: 0.6796 - mae: 0.4771 - val_loss: 0.7492 - val_mae: 0.5027\n",
            "Epoch 31/50\n",
            "210/210 [==============================] - 1s 4ms/step - loss: 0.6775 - mae: 0.4758 - val_loss: 0.7470 - val_mae: 0.5020\n",
            "Epoch 32/50\n",
            "210/210 [==============================] - 1s 4ms/step - loss: 0.6754 - mae: 0.4747 - val_loss: 0.7450 - val_mae: 0.5016\n",
            "Epoch 33/50\n",
            "210/210 [==============================] - 1s 4ms/step - loss: 0.6735 - mae: 0.4741 - val_loss: 0.7436 - val_mae: 0.5003\n",
            "Epoch 34/50\n",
            "210/210 [==============================] - 1s 4ms/step - loss: 0.6717 - mae: 0.4730 - val_loss: 0.7422 - val_mae: 0.4994\n",
            "Epoch 35/50\n",
            "210/210 [==============================] - 1s 4ms/step - loss: 0.6700 - mae: 0.4721 - val_loss: 0.7411 - val_mae: 0.4982\n",
            "Epoch 36/50\n",
            "210/210 [==============================] - 1s 4ms/step - loss: 0.6684 - mae: 0.4703 - val_loss: 0.7390 - val_mae: 0.4989\n",
            "Epoch 37/50\n",
            "210/210 [==============================] - 1s 4ms/step - loss: 0.6669 - mae: 0.4707 - val_loss: 0.7383 - val_mae: 0.4973\n",
            "Epoch 38/50\n",
            "210/210 [==============================] - 1s 4ms/step - loss: 0.6655 - mae: 0.4689 - val_loss: 0.7366 - val_mae: 0.4978\n",
            "Epoch 39/50\n",
            "210/210 [==============================] - 1s 4ms/step - loss: 0.6641 - mae: 0.4693 - val_loss: 0.7360 - val_mae: 0.4963\n",
            "Epoch 40/50\n",
            "210/210 [==============================] - 1s 4ms/step - loss: 0.6628 - mae: 0.4681 - val_loss: 0.7351 - val_mae: 0.4957\n",
            "Epoch 41/50\n",
            "210/210 [==============================] - 1s 4ms/step - loss: 0.6615 - mae: 0.4673 - val_loss: 0.7343 - val_mae: 0.4949\n",
            "Epoch 42/50\n",
            "210/210 [==============================] - 1s 4ms/step - loss: 0.6604 - mae: 0.4667 - val_loss: 0.7335 - val_mae: 0.4944\n",
            "Epoch 43/50\n",
            "210/210 [==============================] - 1s 4ms/step - loss: 0.6592 - mae: 0.4657 - val_loss: 0.7324 - val_mae: 0.4945\n",
            "Epoch 44/50\n",
            "210/210 [==============================] - 1s 4ms/step - loss: 0.6581 - mae: 0.4659 - val_loss: 0.7320 - val_mae: 0.4933\n",
            "Epoch 45/50\n",
            "210/210 [==============================] - 1s 4ms/step - loss: 0.6571 - mae: 0.4648 - val_loss: 0.7311 - val_mae: 0.4930\n",
            "Epoch 46/50\n",
            "210/210 [==============================] - 1s 4ms/step - loss: 0.6560 - mae: 0.4642 - val_loss: 0.7304 - val_mae: 0.4927\n",
            "Epoch 47/50\n",
            "210/210 [==============================] - 1s 4ms/step - loss: 0.6551 - mae: 0.4640 - val_loss: 0.7301 - val_mae: 0.4917\n",
            "Epoch 48/50\n",
            "210/210 [==============================] - 1s 4ms/step - loss: 0.6541 - mae: 0.4628 - val_loss: 0.7289 - val_mae: 0.4923\n",
            "Epoch 49/50\n",
            "210/210 [==============================] - 1s 4ms/step - loss: 0.6532 - mae: 0.4627 - val_loss: 0.7282 - val_mae: 0.4922\n",
            "Epoch 50/50\n",
            "210/210 [==============================] - 1s 4ms/step - loss: 0.6524 - mae: 0.4628 - val_loss: 0.7283 - val_mae: 0.4907\n"
          ]
        },
        {
          "output_type": "display_data",
          "data": {
            "image/png": "[encoded data removed]",
            "text/plain": [
              "<Figure size 432x288 with 1 Axes>"
            ]
          },
          "metadata": {
            "needs_background": "light"
          }
        }
      ]
    },
    {
      "cell_type": "markdown",
      "metadata": {
        "id": "b4SColyYJVa2"
      },
      "source": [
        "**Оценка результатов**\n"
      ]
    },
    {
      "cell_type": "code",
      "metadata": {
        "colab": {
          "base_uri": "https://localhost:8080/",
          "height": 596
        },
        "id": "FUqb4IxkJVa3",
        "outputId": "5095fb4a-1d8a-4af0-daef-c9432e5daaab"
      },
      "source": [
        "eval_net(model_prof, x_train_prof_01, y_train, y_scaler)"
      ],
      "execution_count": null,
      "outputs": [
        {
          "output_type": "stream",
          "name": "stdout",
          "text": [
            "Средняя абсолютная ошибка: 33.71563190828123 \n",
            "\n",
            "Реальное значение:  40.00  Предсказанное значение: 109.37  Разница:  69.37\n",
            "Реальное значение:  40.00  Предсказанное значение:  52.95  Разница:  12.95\n",
            "Реальное значение: 300.00  Предсказанное значение: 211.41  Разница:  88.59\n",
            "Реальное значение: 180.00  Предсказанное значение: 108.28  Разница:  71.72\n",
            "Реальное значение:  40.00  Предсказанное значение:  60.34  Разница:  20.34\n",
            "Реальное значение: 200.00  Предсказанное значение: 243.14  Разница:  43.14\n",
            "Реальное значение: 120.00  Предсказанное значение:  64.45  Разница:  55.55\n",
            "Реальное значение:  50.00  Предсказанное значение:  29.51  Разница:  20.49\n",
            "Реальное значение:  60.00  Предсказанное значение:  63.73  Разница:   3.73\n",
            "Реальное значение:  70.00  Предсказанное значение:  42.57  Разница:  27.43\n"
          ]
        },
        {
          "output_type": "display_data",
          "data": {
            "image/png": "[encoded data removed]",
            "text/plain": [
              "<Figure size 432x432 with 1 Axes>"
            ]
          },
          "metadata": {
            "needs_background": "light"
          }
        }
      ]
    },
    {
      "cell_type": "markdown",
      "metadata": {
        "id": "IuIqQWo40Vmn"
      },
      "source": [
        "Мы получили лучшее на данный момент значение ошибки: 33 тыс. руб\n",
        "\n",
        "И это только на основе одних лищь текстовых данных о должности. \n",
        "\n",
        "В нашей исходной таблице было еще одно текстовой поле - это информация об опыте работы. На следующем шаге мы сформируем выборку на основе этих данных"
      ]
    },
    {
      "cell_type": "markdown",
      "metadata": {
        "id": "wrTiYc4UNIJ3"
      },
      "source": [
        "##Подготовка текстовых данных \"Опыт работы\"\n"
      ]
    },
    {
      "cell_type": "code",
      "metadata": {
        "id": "aM9L-fDy9fkQ"
      },
      "source": [
        "# Функция извлечения данных описания опыта работы\n",
        "\n",
        "def extract_exp_text(row_list):\n",
        "    result = []\n",
        "    \n",
        "    # Для всех строк таблицы: собрать значения опыта работы,\n",
        "    # если есть информация о зарплате\n",
        "    for row in row_list:\n",
        "        if extract_salary(row[COL_SALARY]) > 0:\n",
        "            result.append(str(row[COL_EXP]))\n",
        "    \n",
        "    # Возврат в виде массива\n",
        "    return result"
      ],
      "execution_count": null,
      "outputs": []
    },
    {
      "cell_type": "code",
      "metadata": {
        "colab": {
          "base_uri": "https://localhost:8080/"
        },
        "id": "YtCuDHOLNO8w",
        "outputId": "b56d5b86-945e-42fb-fea4-ea8841bd8c90"
      },
      "source": [
        "# Извлечение текстов об опыте работы для выборки\n",
        "exp_text = extract_exp_text(df.values) \n",
        "\n",
        "# Пример текста об опыте работы из резюме\n",
        "print(df.values[120])\n",
        "print(exp_text[120]) "
      ],
      "execution_count": null,
      "outputs": [
        {
          "output_type": "stream",
          "name": "stdout",
          "text": [
            "['Мужчина ,  33 года , родился 8 октября 1985' '250000 руб.'\n",
            " 'Руководитель BI' 'Москва , не готов к переезду , готов к командировкам'\n",
            " 'полная занятость' 'полный день'\n",
            " 'Опыт работы 11 лет 6 месяцев  Руководитель BI 250 000 руб. Информационные технологии, интернет, телеком Инженер Аналитик Занятость: полная занятость График работы: полный день Опыт работы 11 лет 6 месяцев Декабрь 2017 — по настоящее время 1 год 5 месяцев ЭркаФарм Россия , erkapharm.com Медицина, фармацевтика, аптеки ... Аптека, оптика Руководитель отдела аналитики Стратегическая цель: создание единой корпоративной автоматизированной информационно-аналитической системы бизнес анализа; MDM: ведение и поддержка в актуальном состоянии мастер-справочников компании; разработка новых справочников\\\\атрибутов для обеспечения деятельности подразделений компании; контроль бизнес-процессов в части, касающейся мастер-данных; написание документов, закрепляющих регламентные нормы по ведению мастер-справочников; ETL: загрузка данных из внешних источников; обработка, структурирование, приведение к унифицированному виду с использованием SSIS; контроль полноты и релевантности загружаемых данных; наполнение DWH хранилища обработанными данными; DWH: проектирование, создание и поддержка Хранилища данных; ежедневное обновление Хранилища данными из внешних источников; OLAP: разработка, доработка и поддержка Кубов; процессинг Кубов после обновления Хранилища данных; дозагрузка дельты данных в течение дня; Отчетность и визуализация данных: создание, поддержка и доставка отчетов до конечных пользователей, с использованием SSRS и Power BI; T-SQL: написание сложных аналитических запросов, обработок, хранимых процедур, функций; анализ и обработка полученных данных, ad-hoc; Администрирование БД: проектирование и поддержка БД; секционирование, создание индексов, триггеров; поддержка отказоустойчивости работы с БД, создание и поддержка резервных копий баз; распараллеливание процессов между серверами; Обучение: написание и поддержка в актуальном состоянии инструкций по пользованию Кубом и Порталом бизнес отчетности; проведение периодических мероприятий, направленных на обучение сотрудников компании по использованию бизнес систем компании; создание и поддержка портала видео инструкций с основными типовыми запросами; инвентаризация отчетности и аналитических метрик, с указанием методик и фильтров построения; Менеджмент: руководство и развитие отдела (8 человек в подчинении); руководство группой аналитиков в регионах (8 человек в подчинении); общение с бизнесом, получение тех заданий на разработку\\\\доработку бизнес логики, отчетности, ad-hoc отчетности; определение стратегии развития, составление плана работы, установка сроков исполнения, распределение задач, контроль исполнения, мотивирование на достижение результата; унификация кода к принятым внутри команды стандартам, инвентаризация и описание процессов в подконтрольных секторах; Октябрь 2016 — Ноябрь  2017 1 год 2 месяца Черкизово, Группа Москва , www.cherkizovo-group.ru/ Продукты питания ... Мясная продукция (продвижение, оптовая торговля) Мясная продукция (производство) Полуфабрикаты, в том числе замороженные (продвижение, оптовая торговля) Полуфабрикаты, в том числе замороженные (производство) Сельское хозяйство Земледелие, растениеводство, животноводство Ведущий специалист BI напраления отдела развития систем продаж ETL: загрузка данных из внешних источников; обработка, структурирование, приведение к унифицированному виду; загрузка обработанных данных в DWH хранилище; DWH: проектирование, создание и поддержка хранилища данных. Регулярное обновление хранилища после загрузки данных из внешних источников. OLAP: создание и поддержка кубов; процессинг куба после обновления хранилища данных, добавление измерений и фактов; Reporting и визуализация данных: создание, поддержка и доставка отчетов до конечных пользователей, с использованием SSRS и Tableau; T-SQL: написание сложных аналитических запросов, хранимых процедур, функций. Анализ и обработка полученных данных, ad-hoc; SFA: автоматизация и поддержка процессов на базе учетной системы Чикаго; разработка и поддержка отчетности с выводом данных в сводные и плоские таблицы MS Excel; VBA: дальнейшая обработка данных в отчете, отвечающая конечным требованиям; Менеджмент: руководство и развитие BI направления, общение с бизнесом, получение тех заданий на разработку\\\\доработку бизнес логики, отчетности, ad-hoc отчетности; определение стратегии развития, составление плана работы, установка сроков исполнения, распределение задач, контроль исполнения, мотивирование на достижение результата; унификация кода к принятым внутри команды стандартам, инвентаризация и описание процессов в подконтрольных секторах; разработка регламентов и методологий, доведение до заинтересованных лиц принятых инструкций и разъяснений; формулирование и постановка задач сотрудникам на филиалах, разрешение спорных ситуаций; Обеспечение взаимодействия между различными учетными системами. Постановка и согласование технических заданий на создание единой автоматизированной информационно-аналитической системы. Сентябрь 2015 — Сентябрь  2016 1 год 1 месяц НПФ Райффайзен Москва , npfraiffeisen.ru Финансовый сектор ... НПФ Старший сотрудник отдела разработки T-SQL: написание сложных аналитических запросов, хранимых процедур, функций. Анализ и обработка полученных данных; ETL: загрузка данных из различных источников и форматов (Excel, XML), создание DTS пакетов; Разработка клиент-серверных приложений (C#, ASP, MS SQL), WCF сервисов, разработка и внедрение решений, инструментов для оптимизации работы фонда, структурирования данных, автоматизации системы анализа, планирования, хранения и учета, инвентаризация ПО; Поддержка приложений, внедрение новых релизов. Поиск и локализация неисправностей в работе ПО, решение инцидентов. Поиск и устранение узких мест в работе между приложениями и БД (SQL Profiler). Анализ планов запросов, создание индексов; Создание и поддержка отчетов Reporting Services; VBA макросы; Администрирование БД MS SQL Server: создание планов поддержки, автоматизирование процессов резервного копирования и восстановления БД, поддержка инвентаризации окружения баз данных в актуальном состоянии, разработка хранимых процедур, функций, заданий и запросов на T-SQL. Декабрь 2014 — Август  2015 9 месяцев Бранд и партнеры Москва , bbpartners.ru Услуги для бизнеса ... Юридическое обслуживание Ведущий сотрудник ИТ отдела Разработка и поддержка клиент-серверных приложений (C#, ASP, MS SQL, MySQL), разработка и внедрение решений, инструментов для оптимизации работы компании, структурирования данных, автоматизации системы анализа, планирования, хранения и учета, инвентаризация ПО; Администрирование БД MS SQL Server, MySQL: создание планов поддержки, автоматизирование процессов резервного копирования и восстановления БД, поддержка инвентаризации окружения баз данных в актуальном состоянии, мониторинг состояния серверов баз данных, разработка хранимых процедур, функций, заданий и запросов на T-SQL; Администрирование корпоративного домена, корпоративной почты, локальной сети, настройка VPN соединения, поддержка в актуальном состоянии инвентаризации окружения домена. Июнь 2014 — Ноябрь  2014 6 месяцев Ренессанс Кредит Россия , www.rencredit.ru Финансовый сектор ... Финансово-кредитное посредничество (биржа, брокерская деятельность, выпуск и обслуживание карт, оценка рисков, обменные пункты, агентства по кредитованию, инкассация, ломбард, платежные системы) Старший специалист отдела сопровождения баз данных Администрирование БД MS SQL: - администрирование MS SQL Server, Reporting Services; - планирование и поддержка безотказной работы, при использовании технологии Windows Failover Cluster; - настройка зеркалирования (MS SQL Mirroring) между экземплярами; - создание планов поддержки; - поддержка моментальных снимков; - автоматизирование процессов резервного копирования и восстановления БД (NetBackup); - поддержка инвентаризации окружения баз данных в актуальном состоянии; - мониторинг состояния серверов баз данных (Zabbix); - разработка хранимых процедур, функций, заданий и запросов на T-SQL; - анализ и настройка целостности БД; - анализ производительности БД и оптимизация SQL запросов; - работа с заявками, - расследование инцидентов; - управление правами доступа пользователей. Май 2009 — Май  2014 5 лет 1 месяц в/ч 71330 Москва Государственные организации ... Государственные организации Старший сотрудник отдела Администрирование БД MS SQL: - автоматизирование процессов резервного копирования и восстановления БД; - разработка хранимых процедур, функций, заданий и запросов на T-SQL; - анализ и настройка целостности БД; - оптимизация структуры БД; - анализ БД на предмет наличия артефактов; - анализ производительности БД и ее настройка при помощи SQL Server Profiler и применения индексов и оптимизации SQL запросов; - разработка структуры БД, серверной бизнес-логики; - администрирование БД в центральном офисе и филиалах; - настройка репликации баз между филиалами; - планирование и обеспечение безотказной работы, организация мониторинга; - работа с заявками, предотвращение и расследование инцидентов; - загрузка данных из внешних источников. Взаимодействие с разработчиками ПО корпоративных систем: - участие в постановке задач и разработке технического задания, рабочей и проектной документации; - работа в тесном контакте с разработчиком, beta-тестирование, составление заданий на доработку систем. Прикладное программирование на C/C++/C#: - написание прикладных программ для нужд компании; - создание ASP.NET, Windows приложений; - создание приложений для работы с БД; - доработка и оптимизация ПО, разрабатываемого для нужд компании. MS Forefront TMG: - настройка и обеспечения доступа клиентов в Интернет; - настройка пользовательских ПК для работы с Forefront; - разграничение пользовательского доступа к БД; - создание правил и расписаний для доступа в Интернет. Администрирование СХД. Организация проектирования и работ по монтажу ЛВС; Ноябрь 2007 — Апрель  2009 1 год 6 месяцев ВНИИ АС РЖД Москва Перевозки, логистика, склад, ВЭД ... Железнодорожные перевозки Транспортно-логистические комплексы, порты (воздушный, водный, железнодорожный) Программист Создание приложений на C#; Программирование на платформе ASP.NET; Создание приложений для работы с SQL БД; Использование при программировании вставок на Java Script. Ключевые навыки Теперь резюме открыто всему интернету — изменить можно в настройках видимости. Active Directory C/C++/C# DHCP DNS GP Http Proxy MS Failover Cluster MS Forefront TMG MS SQL Server MS Windows Server Sphinx SQL Server Mirroring SQL Server Snapshot T-sql Архитектор БД Проектирование ЛВС Работа с базами данных Java NetBackup Zabbix SVN MySQL MDX Olap (online analytical processing) SSRS SSAS SSIS Reporting SFA FMCG Продажи Возникли неполадки. Попробуйте еще раз. Обо мне Нравится работать с данными: составлять сложные SQL запросы, производить анализ данных, представлять полученную информацию в удобном виде. Умение работать в коллективе, быть ответственным за общий результат. Желание обучаться и развивать профессиональные навыки. Умение читать и разбираться в чужом коде. Выполнять поставленные задачи, имея на входе минимум вводных. Устойчивость к нагрузкам, самообучаемость, исполнительность. Высшее образование 2007 Кликнув на название учебного заведения вы сможете найти кандидатов из этого вуза. Московский государственный университет путей сообщения, Москва Институт управления и информационных технологий, Инженер по спец. Вычислительные машины, комплексы, системы и сети Знание языков Русский — Родной Английский — C1 — Продвинутый Повышение квалификации, курсы 2016 Реализация модели данных и отчетов с помощью Microsoft SQL Server 2012 (M10778) Центр компьютерного обучения \"Специалист\" при МГТУ им. Н.Э. Баумана, Информационный технологии, СУБД 2012 Forefront TMG 2010: Возможности и решения сетевой безопасности Центр компьютерного обучения \"Специалист\" при МГТУ им. Н.Э. Баумана, Информационный технологии 2010 Системы управления базами данных MS SQL Server и MS Access Московский институт новых информационных технологий федеральной службы безопасности Российской Федерации, Москва, Информационный технологии, СУБД 2010 Создание и эксплуатация информационных систем на основе баз данных Московский институт новых информационных технологий федеральной службы безопасности Российской Федерации, Москва, Информационный технологии, СУБД Гражданство, время в пути до работы Гражданство: Россия Разрешение на работу: Россия Желательное время в пути до работы: Не имеет значения  Опыт работы 11 лет 6 месяцев Декабрь 2017 — по настоящее время 1 год 5 месяцев ЭркаФарм Россия , erkapharm.com Медицина, фармацевтика, аптеки ... Аптека, оптика Руководитель отдела аналитики Стратегическая цель: создание единой корпоративной автоматизированной информационно-аналитической системы бизнес анализа; MDM: ведение и поддержка в актуальном состоянии мастер-справочников компании; разработка новых справочников\\\\атрибутов для обеспечения деятельности подразделений компании; контроль бизнес-процессов в части, касающейся мастер-данных; написание документов, закрепляющих регламентные нормы по ведению мастер-справочников; ETL: загрузка данных из внешних источников; обработка, структурирование, приведение к унифицированному виду с использованием SSIS; контроль полноты и релевантности загружаемых данных; наполнение DWH хранилища обработанными данными; DWH: проектирование, создание и поддержка Хранилища данных; ежедневное обновление Хранилища данными из внешних источников; OLAP: разработка, доработка и поддержка Кубов; процессинг Кубов после обновления Хранилища данных; дозагрузка дельты данных в течение дня; Отчетность и визуализация данных: создание, поддержка и доставка отчетов до конечных пользователей, с использованием SSRS и Power BI; T-SQL: написание сложных аналитических запросов, обработок, хранимых процедур, функций; анализ и обработка полученных данных, ad-hoc; Администрирование БД: проектирование и поддержка БД; секционирование, создание индексов, триггеров; поддержка отказоустойчивости работы с БД, создание и поддержка резервных копий баз; распараллеливание процессов между серверами; Обучение: написание и поддержка в актуальном состоянии инструкций по пользованию Кубом и Порталом бизнес отчетности; проведение периодических мероприятий, направленных на обучение сотрудников компании по использованию бизнес систем компании; создание и поддержка портала видео инструкций с основными типовыми запросами; инвентаризация отчетности и аналитических метрик, с указанием методик и фильтров построения; Менеджмент: руководство и развитие отдела (8 человек в подчинении); руководство группой аналитиков в регионах (8 человек в подчинении); общение с бизнесом, получение тех заданий на разработку\\\\доработку бизнес логики, отчетности, ad-hoc отчетности; определение стратегии развития, составление плана работы, установка сроков исполнения, распределение задач, контроль исполнения, мотивирование на достижение результата; унификация кода к принятым внутри команды стандартам, инвентаризация и описание процессов в подконтрольных секторах; Октябрь 2016 — Ноябрь  2017 1 год 2 месяца Черкизово, Группа Москва , www.cherkizovo-group.ru/ Продукты питания ... Мясная продукция (продвижение, оптовая торговля) Мясная продукция (производство) Полуфабрикаты, в том числе замороженные (продвижение, оптовая торговля) Полуфабрикаты, в том числе замороженные (производство) Сельское хозяйство Земледелие, растениеводство, животноводство Ведущий специалист BI напраления отдела развития систем продаж ETL: загрузка данных из внешних источников; обработка, структурирование, приведение к унифицированному виду; загрузка обработанных данных в DWH хранилище; DWH: проектирование, создание и поддержка хранилища данных. Регулярное обновление хранилища после загрузки данных из внешних источников. OLAP: создание и поддержка кубов; процессинг куба после обновления хранилища данных, добавление измерений и фактов; Reporting и визуализация данных: создание, поддержка и доставка отчетов до конечных пользователей, с использованием SSRS и Tableau; T-SQL: написание сложных аналитических запросов, хранимых процедур, функций. Анализ и обработка полученных данных, ad-hoc; SFA: автоматизация и поддержка процессов на базе учетной системы Чикаго; разработка и поддержка отчетности с выводом данных в сводные и плоские таблицы MS Excel; VBA: дальнейшая обработка данных в отчете, отвечающая конечным требованиям; Менеджмент: руководство и развитие BI направления, общение с бизнесом, получение тех заданий на разработку\\\\доработку бизнес логики, отчетности, ad-hoc отчетности; определение стратегии развития, составление плана работы, установка сроков исполнения, распределение задач, контроль исполнения, мотивирование на достижение результата; унификация кода к принятым внутри команды стандартам, инвентаризация и описание процессов в подконтрольных секторах; разработка регламентов и методологий, доведение до заинтересованных лиц принятых инструкций и разъяснений; формулирование и постановка задач сотрудникам на филиалах, разрешение спорных ситуаций; Обеспечение взаимодействия между различными учетными системами. Постановка и согласование технических заданий на создание единой автоматизированной информационно-аналитической системы. Сентябрь 2015 — Сентябрь  2016 1 год 1 месяц НПФ Райффайзен Москва , npfraiffeisen.ru Финансовый сектор ... НПФ Старший сотрудник отдела разработки T-SQL: написание сложных аналитических запросов, хранимых процедур, функций. Анализ и обработка полученных данных; ETL: загрузка данных из различных источников и форматов (Excel, XML), создание DTS пакетов; Разработка клиент-серверных приложений (C#, ASP, MS SQL), WCF сервисов, разработка и внедрение решений, инструментов для оптимизации работы фонда, структурирования данных, автоматизации системы анализа, планирования, хранения и учета, инвентаризация ПО; Поддержка приложений, внедрение новых релизов. Поиск и локализация неисправностей в работе ПО, решение инцидентов. Поиск и устранение узких мест в работе между приложениями и БД (SQL Profiler). Анализ планов запросов, создание индексов; Создание и поддержка отчетов Reporting Services; VBA макросы; Администрирование БД MS SQL Server: создание планов поддержки, автоматизирование процессов резервного копирования и восстановления БД, поддержка инвентаризации окружения баз данных в актуальном состоянии, разработка хранимых процедур, функций, заданий и запросов на T-SQL. Декабрь 2014 — Август  2015 9 месяцев Бранд и партнеры Москва , bbpartners.ru Услуги для бизнеса ... Юридическое обслуживание Ведущий сотрудник ИТ отдела Разработка и поддержка клиент-серверных приложений (C#, ASP, MS SQL, MySQL), разработка и внедрение решений, инструментов для оптимизации работы компании, структурирования данных, автоматизации системы анализа, планирования, хранения и учета, инвентаризация ПО; Администрирование БД MS SQL Server, MySQL: создание планов поддержки, автоматизирование процессов резервного копирования и восстановления БД, поддержка инвентаризации окружения баз данных в актуальном состоянии, мониторинг состояния серверов баз данных, разработка хранимых процедур, функций, заданий и запросов на T-SQL; Администрирование корпоративного домена, корпоративной почты, локальной сети, настройка VPN соединения, поддержка в актуальном состоянии инвентаризации окружения домена. Июнь 2014 — Ноябрь  2014 6 месяцев Ренессанс Кредит Россия , www.rencredit.ru Финансовый сектор ... Финансово-кредитное посредничество (биржа, брокерская деятельность, выпуск и обслуживание карт, оценка рисков, обменные пункты, агентства по кредитованию, инкассация, ломбард, платежные системы) Старший специалист отдела сопровождения баз данных Администрирование БД MS SQL: - администрирование MS SQL Server, Reporting Services; - планирование и поддержка безотказной работы, при использовании технологии Windows Failover Cluster; - настройка зеркалирования (MS SQL Mirroring) между экземплярами; - создание планов поддержки; - поддержка моментальных снимков; - автоматизирование процессов резервного копирования и восстановления БД (NetBackup); - поддержка инвентаризации окружения баз данных в актуальном состоянии; - мониторинг состояния серверов баз данных (Zabbix); - разработка хранимых процедур, функций, заданий и запросов на T-SQL; - анализ и настройка целостности БД; - анализ производительности БД и оптимизация SQL запросов; - работа с заявками, - расследование инцидентов; - управление правами доступа пользователей. Май 2009 — Май  2014 5 лет 1 месяц в/ч 71330 Москва Государственные организации ... Государственные организации Старший сотрудник отдела Администрирование БД MS SQL: - автоматизирование процессов резервного копирования и восстановления БД; - разработка хранимых процедур, функций, заданий и запросов на T-SQL; - анализ и настройка целостности БД; - оптимизация структуры БД; - анализ БД на предмет наличия артефактов; - анализ производительности БД и ее настройка при помощи SQL Server Profiler и применения индексов и оптимизации SQL запросов; - разработка структуры БД, серверной бизнес-логики; - администрирование БД в центральном офисе и филиалах; - настройка репликации баз между филиалами; - планирование и обеспечение безотказной работы, организация мониторинга; - работа с заявками, предотвращение и расследование инцидентов; - загрузка данных из внешних источников. Взаимодействие с разработчиками ПО корпоративных систем: - участие в постановке задач и разработке технического задания, рабочей и проектной документации; - работа в тесном контакте с разработчиком, beta-тестирование, составление заданий на доработку систем. Прикладное программирование на C/C++/C#: - написание прикладных программ для нужд компании; - создание ASP.NET, Windows приложений; - создание приложений для работы с БД; - доработка и оптимизация ПО, разрабатываемого для нужд компании. MS Forefront TMG: - настройка и обеспечения доступа клиентов в Интернет; - настройка пользовательских ПК для работы с Forefront; - разграничение пользовательского доступа к БД; - создание правил и расписаний для доступа в Интернет. Администрирование СХД. Организация проектирования и работ по монтажу ЛВС; Ноябрь 2007 — Апрель  2009 1 год 6 месяцев ВНИИ АС РЖД Москва Перевозки, логистика, склад, ВЭД ... Железнодорожные перевозки Транспортно-логистические комплексы, порты (воздушный, водный, железнодорожный) Программист Создание приложений на C#; Программирование на платформе ASP.NET; Создание приложений для работы с SQL БД; Использование при программировании вставок на Java Script.  Декабрь 2017 — по настоящее время 1 год 5 месяцев ЭркаФарм Россия , erkapharm.com Медицина, фармацевтика, аптеки ... Аптека, оптика Руководитель отдела аналитики Стратегическая цель: создание единой корпоративной автоматизированной информационно-аналитической системы бизнес анализа; MDM: ведение и поддержка в актуальном состоянии мастер-справочников компании; разработка новых справочников\\\\атрибутов для обеспечения деятельности подразделений компании; контроль бизнес-процессов в части, касающейся мастер-данных; написание документов, закрепляющих регламентные нормы по ведению мастер-справочников; ETL: загрузка данных из внешних источников; обработка, структурирование, приведение к унифицированному виду с использованием SSIS; контроль полноты и релевантности загружаемых данных; наполнение DWH хранилища обработанными данными; DWH: проектирование, создание и поддержка Хранилища данных; ежедневное обновление Хранилища данными из внешних источников; OLAP: разработка, доработка и поддержка Кубов; процессинг Кубов после обновления Хранилища данных; дозагрузка дельты данных в течение дня; Отчетность и визуализация данных: создание, поддержка и доставка отчетов до конечных пользователей, с использованием SSRS и Power BI; T-SQL: написание сложных аналитических запросов, обработок, хранимых процедур, функций; анализ и обработка полученных данных, ad-hoc; Администрирование БД: проектирование и поддержка БД; секционирование, создание индексов, триггеров; поддержка отказоустойчивости работы с БД, создание и поддержка резервных копий баз; распараллеливание процессов между серверами; Обучение: написание и поддержка в актуальном состоянии инструкций по пользованию Кубом и Порталом бизнес отчетности; проведение периодических мероприятий, направленных на обучение сотрудников компании по использованию бизнес систем компании; создание и поддержка портала видео инструкций с основными типовыми запросами; инвентаризация отчетности и аналитических метрик, с указанием методик и фильтров построения; Менеджмент: руководство и развитие отдела (8 человек в подчинении); руководство группой аналитиков в регионах (8 человек в подчинении); общение с бизнесом, получение тех заданий на разработку\\\\доработку бизнес логики, отчетности, ad-hoc отчетности; определение стратегии развития, составление плана работы, установка сроков исполнения, распределение задач, контроль исполнения, мотивирование на достижение результата; унификация кода к принятым внутри команды стандартам, инвентаризация и описание процессов в подконтрольных секторах;  Октябрь 2016 — Ноябрь  2017 1 год 2 месяца Черкизово, Группа Москва , www.cherkizovo-group.ru/ Продукты питания ... Мясная продукция (продвижение, оптовая торговля) Мясная продукция (производство) Полуфабрикаты, в том числе замороженные (продвижение, оптовая торговля) Полуфабрикаты, в том числе замороженные (производство) Сельское хозяйство Земледелие, растениеводство, животноводство Ведущий специалист BI напраления отдела развития систем продаж ETL: загрузка данных из внешних источников; обработка, структурирование, приведение к унифицированному виду; загрузка обработанных данных в DWH хранилище; DWH: проектирование, создание и поддержка хранилища данных. Регулярное обновление хранилища после загрузки данных из внешних источников. OLAP: создание и поддержка кубов; процессинг куба после обновления хранилища данных, добавление измерений и фактов; Reporting и визуализация данных: создание, поддержка и доставка отчетов до конечных пользователей, с использованием SSRS и Tableau; T-SQL: написание сложных аналитических запросов, хранимых процедур, функций. Анализ и обработка полученных данных, ad-hoc; SFA: автоматизация и поддержка процессов на базе учетной системы Чикаго; разработка и поддержка отчетности с выводом данных в сводные и плоские таблицы MS Excel; VBA: дальнейшая обработка данных в отчете, отвечающая конечным требованиям; Менеджмент: руководство и развитие BI направления, общение с бизнесом, получение тех заданий на разработку\\\\доработку бизнес логики, отчетности, ad-hoc отчетности; определение стратегии развития, составление плана работы, установка сроков исполнения, распределение задач, контроль исполнения, мотивирование на достижение результата; унификация кода к принятым внутри команды стандартам, инвентаризация и описание процессов в подконтрольных секторах; разработка регламентов и методологий, доведение до заинтересованных лиц принятых инструкций и разъяснений; формулирование и постановка задач сотрудникам на филиалах, разрешение спорных ситуаций; Обеспечение взаимодействия между различными учетными системами. Постановка и согласование технических заданий на создание единой автоматизированной информационно-аналитической системы.  Сентябрь 2015 — Сентябрь  2016 1 год 1 месяц НПФ Райффайзен Москва , npfraiffeisen.ru Финансовый сектор ... НПФ Старший сотрудник отдела разработки T-SQL: написание сложных аналитических запросов, хранимых процедур, функций. Анализ и обработка полученных данных; ETL: загрузка данных из различных источников и форматов (Excel, XML), создание DTS пакетов; Разработка клиент-серверных приложений (C#, ASP, MS SQL), WCF сервисов, разработка и внедрение решений, инструментов для оптимизации работы фонда, структурирования данных, автоматизации системы анализа, планирования, хранения и учета, инвентаризация ПО; Поддержка приложений, внедрение новых релизов. Поиск и локализация неисправностей в работе ПО, решение инцидентов. Поиск и устранение узких мест в работе между приложениями и БД (SQL Profiler). Анализ планов запросов, создание индексов; Создание и поддержка отчетов Reporting Services; VBA макросы; Администрирование БД MS SQL Server: создание планов поддержки, автоматизирование процессов резервного копирования и восстановления БД, поддержка инвентаризации окружения баз данных в актуальном состоянии, разработка хранимых процедур, функций, заданий и запросов на T-SQL.  Декабрь 2014 — Август  2015 9 месяцев Бранд и партнеры Москва , bbpartners.ru Услуги для бизнеса ... Юридическое обслуживание Ведущий сотрудник ИТ отдела Разработка и поддержка клиент-серверных приложений (C#, ASP, MS SQL, MySQL), разработка и внедрение решений, инструментов для оптимизации работы компании, структурирования данных, автоматизации системы анализа, планирования, хранения и учета, инвентаризация ПО; Администрирование БД MS SQL Server, MySQL: создание планов поддержки, автоматизирование процессов резервного копирования и восстановления БД, поддержка инвентаризации окружения баз данных в актуальном состоянии, мониторинг состояния серверов баз данных, разработка хранимых процедур, функций, заданий и запросов на T-SQL; Администрирование корпоративного домена, корпоративной почты, локальной сети, настройка VPN соединения, поддержка в актуальном состоянии инвентаризации окружения домена.  Июнь 2014 — Ноябрь  2014 6 месяцев Ренессанс Кредит Россия , www.rencredit.ru Финансовый сектор ... Финансово-кредитное посредничество (биржа, брокерская деятельность, выпуск и обслуживание карт, оценка рисков, обменные пункты, агентства по кредитованию, инкассация, ломбард, платежные системы) Старший специалист отдела сопровождения баз данных Администрирование БД MS SQL: - администрирование MS SQL Server, Reporting Services; - планирование и поддержка безотказной работы, при использовании технологии Windows Failover Cluster; - настройка зеркалирования (MS SQL Mirroring) между экземплярами; - создание планов поддержки; - поддержка моментальных снимков; - автоматизирование процессов резервного копирования и восстановления БД (NetBackup); - поддержка инвентаризации окружения баз данных в актуальном состоянии; - мониторинг состояния серверов баз данных (Zabbix); - разработка хранимых процедур, функций, заданий и запросов на T-SQL; - анализ и настройка целостности БД; - анализ производительности БД и оптимизация SQL запросов; - работа с заявками, - расследование инцидентов; - управление правами доступа пользователей.  Май 2009 — Май  2014 5 лет 1 месяц в/ч 71330 Москва Государственные организации ... Государственные организации Старший сотрудник отдела Администрирование БД MS SQL: - автоматизирование процессов резервного копирования и восстановления БД; - разработка хранимых процедур, функций, заданий и запросов на T-SQL; - анализ и настройка целостности БД; - оптимизация структуры БД; - анализ БД на предмет наличия артефактов; - анализ производительности БД и ее настройка при помощи SQL Server Profiler и применения индексов и оптимизации SQL запросов; - разработка структуры БД, серверной бизнес-логики; - администрирование БД в центральном офисе и филиалах; - настройка репликации баз между филиалами; - планирование и обеспечение безотказной работы, организация мониторинга; - работа с заявками, предотвращение и расследование инцидентов; - загрузка данных из внешних источников. Взаимодействие с разработчиками ПО корпоративных систем: - участие в постановке задач и разработке технического задания, рабочей и проектной документации; - работа в тесном контакте с разработчиком, beta-тестирование, составление заданий на доработку систем. Прикладное программирование на C/C++/C#: - написание прикладных программ для нужд компании; - создание ASP.NET, Windows приложений; - создание приложений для работы с БД; - доработка и оптимизация ПО, разрабатываемого для нужд компании. MS Forefront TMG: - настройка и обеспечения доступа клиентов в Интернет; - настройка пользовательских ПК для работы с Forefront; - разграничение пользовательского доступа к БД; - создание правил и расписаний для доступа в Интернет. Администрирование СХД. Организация проектирования и работ по монтажу ЛВС;  Ноябрь 2007 — Апрель  2009 1 год 6 месяцев ВНИИ АС РЖД Москва Перевозки, логистика, склад, ВЭД ... Железнодорожные перевозки Транспортно-логистические комплексы, порты (воздушный, водный, железнодорожный) Программист Создание приложений на C#; Программирование на платформе ASP.NET; Создание приложений для работы с SQL БД; Использование при программировании вставок на Java Script.'\n",
            " 'ЭркаФарм' 'Руководитель отдела аналитики'\n",
            " 'Руководитель BI 250 000 руб. Информационные технологии, интернет, телеком Инженер Аналитик Занятость: полная занятость График работы: полный день Опыт работы 11 лет 6 месяцев Декабрь 2017 — по настоящее время 1 год 5 месяцев ЭркаФарм Россия ,  erkapharm.com Медицина, фармацевтика, аптеки ... Показать еще Аптека, оптика Руководитель отдела аналитики Стратегическая цель:  создание единой корпоративной автоматизированной информационно-аналитической системы бизнес анализа; MDM: ведение и поддержка в актуальном состоянии мастер-справочников компании; разработка новых справочников\\\\атрибутов для обеспечения деятельности подразделений компании; контроль бизнес-процессов в части, касающейся мастер-данных; написание документов, закрепляющих регламентные нормы по ведению мастер-справочников; ETL:  загрузка данных из внешних источников;  обработка, структурирование, приведение к унифицированному виду с использованием SSIS;  контроль полноты и релевантности загружаемых данных; наполнение DWH хранилища обработанными данными; DWH:  проектирование, создание и поддержка Хранилища данных; ежедневное обновление Хранилища данными из внешних источников; OLAP:  разработка, доработка и поддержка Кубов;  процессинг Кубов после обновления Хранилища данных;  дозагрузка дельты данных в течение дня; Отчетность и визуализация данных:  создание, поддержка и доставка отчетов до конечных пользователей, с использованием SSRS и Power BI; T-SQL:  написание сложных аналитических запросов, обработок, хранимых процедур, функций; анализ и обработка полученных данных, ad-hoc; Администрирование БД:  проектирование и поддержка БД;  секционирование, создание индексов, триггеров;  поддержка отказоустойчивости работы с БД, создание и поддержка резервных копий баз; распараллеливание процессов между серверами; Обучение: написание и поддержка в актуальном состоянии инструкций по пользованию Кубом и Порталом бизнес отчетности; проведение периодических мероприятий, направленных на обучение сотрудников компании по использованию бизнес систем компании; создание и поддержка портала видео инструкций с основными типовыми запросами; инвентаризация отчетности и аналитических метрик, с указанием методик и фильтров построения; Менеджмент:  руководство и развитие отдела (8 человек в подчинении);  руководство группой аналитиков в регионах (8 человек в подчинении); общение с бизнесом, получение тех заданий на разработку\\\\доработку бизнес логики, отчетности, ad-hoc отчетности;  определение стратегии развития, составление плана работы, установка сроков исполнения, распределение задач, контроль исполнения, мотивирование на достижение результата; унификация кода к принятым внутри команды стандартам, инвентаризация и описание процессов в подконтрольных секторах; Октябрь 2016 —  Ноябрь  2017 1 год 2 месяца Черкизово, Группа Москва ,  www.cherkizovo-group.ru/ Продукты питания ... Показать еще Мясная продукция (продвижение, оптовая торговля) Мясная продукция (производство) Полуфабрикаты, в том числе замороженные  (продвижение, оптовая торговля) Полуфабрикаты, в том числе замороженные (производство) Сельское хозяйство Земледелие, растениеводство, животноводство Ведущий специалист BI напраления отдела развития систем продаж ETL: загрузка данных из внешних источников; обработка, структурирование, приведение к унифицированному виду; загрузка обработанных данных в DWH хранилище; DWH: проектирование, создание и поддержка хранилища данных. Регулярное обновление хранилища после загрузки данных из внешних источников. OLAP: создание и поддержка кубов; процессинг куба после обновления хранилища данных, добавление измерений и фактов; Reporting и визуализация данных: создание, поддержка и доставка отчетов до конечных пользователей, с использованием SSRS и Tableau; T-SQL: написание сложных аналитических запросов, хранимых процедур, функций. Анализ и обработка полученных данных, ad-hoc; SFA: автоматизация и поддержка процессов на базе учетной системы Чикаго; разработка и поддержка отчетности с выводом данных в сводные и плоские таблицы MS Excel; VBA: дальнейшая обработка данных в отчете, отвечающая конечным требованиям; Менеджмент: руководство и развитие BI направления, общение с бизнесом, получение тех заданий на разработку\\\\доработку бизнес логики, отчетности, ad-hoc отчетности; определение стратегии развития, составление плана работы, установка сроков исполнения, распределение задач, контроль исполнения, мотивирование на достижение результата; унификация кода к принятым внутри команды стандартам, инвентаризация и описание процессов в подконтрольных секторах; разработка регламентов и методологий, доведение до заинтересованных лиц принятых инструкций и разъяснений;  формулирование и постановка задач сотрудникам на филиалах, разрешение спорных ситуаций; Обеспечение взаимодействия между различными учетными системами. Постановка и согласование технических заданий на создание единой автоматизированной информационно-аналитической системы. Сентябрь 2015 —  Сентябрь  2016 1 год 1 месяц НПФ Райффайзен Москва ,  npfraiffeisen.ru Финансовый сектор ... Показать еще НПФ Старший сотрудник отдела разработки T-SQL: написание сложных аналитических запросов, хранимых процедур, функций. Анализ и обработка полученных данных; ETL: загрузка данных из различных источников и форматов (Excel, XML), создание DTS пакетов; Разработка клиент-серверных приложений (C#, ASP, MS SQL), WCF сервисов, разработка и внедрение решений, инструментов для оптимизации работы фонда, структурирования данных, автоматизации системы анализа, планирования, хранения и учета, инвентаризация ПО; Поддержка приложений, внедрение новых релизов. Поиск и локализация неисправностей в работе ПО, решение инцидентов. Поиск и устранение узких мест в работе между приложениями и БД (SQL Profiler). Анализ планов запросов, создание индексов; Создание и поддержка отчетов Reporting Services;  VBA макросы; Администрирование БД MS SQL Server: создание планов поддержки, автоматизирование процессов резервного копирования и восстановления БД, поддержка инвентаризации окружения баз данных в актуальном состоянии, разработка хранимых процедур, функций, заданий и запросов на T-SQL. Декабрь 2014 —  Август  2015 9 месяцев Бранд и партнеры Москва ,  bbpartners.ru Услуги для бизнеса ... Показать еще Юридическое обслуживание Ведущий сотрудник ИТ отдела Разработка и поддержка клиент-серверных приложений (C#, ASP, MS SQL, MySQL), разработка и внедрение решений, инструментов для оптимизации работы компании, структурирования данных, автоматизации системы анализа, планирования, хранения и учета, инвентаризация ПО; Администрирование БД MS SQL Server, MySQL: создание планов поддержки, автоматизирование процессов резервного копирования и восстановления БД, поддержка инвентаризации окружения баз данных в актуальном состоянии, мониторинг состояния серверов баз данных, разработка хранимых процедур, функций, заданий и запросов на T-SQL; Администрирование корпоративного домена, корпоративной почты, локальной сети, настройка VPN соединения, поддержка в актуальном состоянии инвентаризации окружения домена. Июнь 2014 —  Ноябрь  2014 6 месяцев Ренессанс Кредит Россия ,  www.rencredit.ru Финансовый сектор ... Показать еще Финансово-кредитное посредничество (биржа, брокерская деятельность, выпуск и обслуживание карт, оценка рисков, обменные пункты, агентства по кредитованию, инкассация, ломбард, платежные системы) Старший специалист отдела сопровождения баз данных Администрирование БД MS SQL: -администрирование MS SQL Server, Reporting Services; -планирование и поддержка безотказной работы, при использовании технологии Windows Failover Cluster; -настройка зеркалирования (MS SQL Mirroring) между экземплярами; -создание планов поддержки; -поддержка моментальных снимков; -автоматизирование процессов резервного копирования и восстановления БД (NetBackup); -поддержка инвентаризации окружения баз данных в актуальном состоянии; -мониторинг состояния серверов баз данных (Zabbix); -разработка хранимых процедур, функций, заданий и запросов на T-SQL; -анализ и настройка целостности БД; -анализ производительности БД и оптимизация SQL запросов; -работа с заявками,  -расследование инцидентов; -управление правами доступа пользователей. Май 2009 —  Май  2014 5 лет 1 месяц в/ч 71330 Москва Государственные организации ... Показать еще Государственные организации Старший сотрудник отдела Администрирование БД MS SQL: -автоматизирование процессов резервного копирования и восстановления БД; -разработка хранимых процедур, функций, заданий и запросов на T-SQL; -анализ и настройка целостности БД;  -оптимизация структуры БД; -анализ БД на предмет наличия артефактов; -анализ производительности БД и ее настройка при помощи SQL Server Profiler и применения индексов и оптимизации SQL запросов; -разработка структуры БД, серверной бизнес-логики; -администрирование БД в центральном офисе и филиалах; -настройка репликации баз между филиалами; -планирование и обеспечение безотказной работы, организация мониторинга; -работа с заявками, предотвращение и расследование инцидентов; -загрузка данных из внешних источников. Взаимодействие с разработчиками ПО корпоративных систем: -участие в постановке задач и разработке технического задания, рабочей и проектной документации; -работа в тесном контакте с разработчиком, beta-тестирование, составление заданий на доработку систем. Прикладное программирование на C/C++/C#: -написание прикладных программ для нужд компании; -создание ASP.NET, Windows приложений; -создание приложений для работы с БД; -доработка и оптимизация ПО, разрабатываемого для нужд компании. MS Forefront TMG: -настройка и обеспечения доступа клиентов в Интернет; -настройка пользовательских ПК для работы с Forefront; -разграничение пользовательского доступа к БД; -создание правил и расписаний для доступа в Интернет. Администрирование СХД. Организация проектирования и работ по монтажу ЛВС; Ноябрь 2007 —  Апрель  2009 1 год 6 месяцев ВНИИ АС РЖД Москва Перевозки, логистика, склад, ВЭД ... Показать еще Железнодорожные перевозки Транспортно-логистические комплексы, порты (воздушный, водный, железнодорожный) Программист Создание приложений на C#; Программирование на платформе ASP.NET; Создание приложений для работы с SQL БД; Использование при программировании вставок на Java Script. Ключевые навыки Теперь резюме открыто всему интернету — изменить можно в  настройках видимости. Active Directory C/C++/C# DHCP DNS GP Http Proxy MS Failover Cluster MS Forefront TMG MS SQL Server MS Windows Server Sphinx SQL Server Mirroring SQL Server Snapshot T-sql Архитектор БД Проектирование ЛВС Работа с базами данных Java NetBackup Zabbix SVN MySQL MDX Olap (online analytical processing) SSRS SSAS SSIS Reporting SFA FMCG Продажи Возникли неполадки. Попробуйте еще раз. Обо мне Нравится работать с данными: составлять сложные SQL запросы, производить анализ данных, представлять полученную информацию в удобном виде. Умение работать в коллективе, быть ответственным за общий результат. Желание обучаться и развивать профессиональные навыки. Умение читать и разбираться в чужом коде. Выполнять поставленные задачи, имея на входе минимум вводных. Устойчивость к нагрузкам, самообучаемость, исполнительность. Высшее образование 2007  Московский государственный университет путей сообщения, Москва Институт управления и информационных технологий, Инженер по спец. Вычислительные машины, комплексы, системы и сети Знание языков Русский — Родной Английский — C1 — Продвинутый Повышение квалификации, курсы 2016 Реализация модели данных и отчетов с помощью Microsoft SQL Server 2012 (M10778) Центр компьютерного обучения \"Специалист\" при МГТУ им. Н.Э. Баумана, Информационный технологии, СУБД 2012 Forefront TMG 2010: Возможности и решения сетевой безопасности Центр компьютерного обучения \"Специалист\" при МГТУ им. Н.Э. Баумана, Информационный технологии 2010 Системы управления базами данных MS SQL Server и MS Access Московский институт новых информационных технологий федеральной службы безопасности Российской Федерации, Москва, Информационный технологии, СУБД 2010 Создание и эксплуатация информационных систем на основе баз данных Московский институт новых информационных технологий федеральной службы безопасности Российской Федерации, Москва, Информационный технологии, СУБД Гражданство, время в пути до работы Гражданство:  Россия Разрешение на работу: Россия Желательное время в пути до работы:  Не имеет значения'\n",
            " '21.03.2019 23:56' 'Не указано']\n",
            "Опыт работы 11 лет 6 месяцев  Руководитель BI 250 000 руб. Информационные технологии, интернет, телеком Инженер Аналитик Занятость: полная занятость График работы: полный день Опыт работы 11 лет 6 месяцев Декабрь 2017 — по настоящее время 1 год 5 месяцев ЭркаФарм Россия , erkapharm.com Медицина, фармацевтика, аптеки ... Аптека, оптика Руководитель отдела аналитики Стратегическая цель: создание единой корпоративной автоматизированной информационно-аналитической системы бизнес анализа; MDM: ведение и поддержка в актуальном состоянии мастер-справочников компании; разработка новых справочников\\атрибутов для обеспечения деятельности подразделений компании; контроль бизнес-процессов в части, касающейся мастер-данных; написание документов, закрепляющих регламентные нормы по ведению мастер-справочников; ETL: загрузка данных из внешних источников; обработка, структурирование, приведение к унифицированному виду с использованием SSIS; контроль полноты и релевантности загружаемых данных; наполнение DWH хранилища обработанными данными; DWH: проектирование, создание и поддержка Хранилища данных; ежедневное обновление Хранилища данными из внешних источников; OLAP: разработка, доработка и поддержка Кубов; процессинг Кубов после обновления Хранилища данных; дозагрузка дельты данных в течение дня; Отчетность и визуализация данных: создание, поддержка и доставка отчетов до конечных пользователей, с использованием SSRS и Power BI; T-SQL: написание сложных аналитических запросов, обработок, хранимых процедур, функций; анализ и обработка полученных данных, ad-hoc; Администрирование БД: проектирование и поддержка БД; секционирование, создание индексов, триггеров; поддержка отказоустойчивости работы с БД, создание и поддержка резервных копий баз; распараллеливание процессов между серверами; Обучение: написание и поддержка в актуальном состоянии инструкций по пользованию Кубом и Порталом бизнес отчетности; проведение периодических мероприятий, направленных на обучение сотрудников компании по использованию бизнес систем компании; создание и поддержка портала видео инструкций с основными типовыми запросами; инвентаризация отчетности и аналитических метрик, с указанием методик и фильтров построения; Менеджмент: руководство и развитие отдела (8 человек в подчинении); руководство группой аналитиков в регионах (8 человек в подчинении); общение с бизнесом, получение тех заданий на разработку\\доработку бизнес логики, отчетности, ad-hoc отчетности; определение стратегии развития, составление плана работы, установка сроков исполнения, распределение задач, контроль исполнения, мотивирование на достижение результата; унификация кода к принятым внутри команды стандартам, инвентаризация и описание процессов в подконтрольных секторах; Октябрь 2016 — Ноябрь  2017 1 год 2 месяца Черкизово, Группа Москва , www.cherkizovo-group.ru/ Продукты питания ... Мясная продукция (продвижение, оптовая торговля) Мясная продукция (производство) Полуфабрикаты, в том числе замороженные (продвижение, оптовая торговля) Полуфабрикаты, в том числе замороженные (производство) Сельское хозяйство Земледелие, растениеводство, животноводство Ведущий специалист BI напраления отдела развития систем продаж ETL: загрузка данных из внешних источников; обработка, структурирование, приведение к унифицированному виду; загрузка обработанных данных в DWH хранилище; DWH: проектирование, создание и поддержка хранилища данных. Регулярное обновление хранилища после загрузки данных из внешних источников. OLAP: создание и поддержка кубов; процессинг куба после обновления хранилища данных, добавление измерений и фактов; Reporting и визуализация данных: создание, поддержка и доставка отчетов до конечных пользователей, с использованием SSRS и Tableau; T-SQL: написание сложных аналитических запросов, хранимых процедур, функций. Анализ и обработка полученных данных, ad-hoc; SFA: автоматизация и поддержка процессов на базе учетной системы Чикаго; разработка и поддержка отчетности с выводом данных в сводные и плоские таблицы MS Excel; VBA: дальнейшая обработка данных в отчете, отвечающая конечным требованиям; Менеджмент: руководство и развитие BI направления, общение с бизнесом, получение тех заданий на разработку\\доработку бизнес логики, отчетности, ad-hoc отчетности; определение стратегии развития, составление плана работы, установка сроков исполнения, распределение задач, контроль исполнения, мотивирование на достижение результата; унификация кода к принятым внутри команды стандартам, инвентаризация и описание процессов в подконтрольных секторах; разработка регламентов и методологий, доведение до заинтересованных лиц принятых инструкций и разъяснений; формулирование и постановка задач сотрудникам на филиалах, разрешение спорных ситуаций; Обеспечение взаимодействия между различными учетными системами. Постановка и согласование технических заданий на создание единой автоматизированной информационно-аналитической системы. Сентябрь 2015 — Сентябрь  2016 1 год 1 месяц НПФ Райффайзен Москва , npfraiffeisen.ru Финансовый сектор ... НПФ Старший сотрудник отдела разработки T-SQL: написание сложных аналитических запросов, хранимых процедур, функций. Анализ и обработка полученных данных; ETL: загрузка данных из различных источников и форматов (Excel, XML), создание DTS пакетов; Разработка клиент-серверных приложений (C#, ASP, MS SQL), WCF сервисов, разработка и внедрение решений, инструментов для оптимизации работы фонда, структурирования данных, автоматизации системы анализа, планирования, хранения и учета, инвентаризация ПО; Поддержка приложений, внедрение новых релизов. Поиск и локализация неисправностей в работе ПО, решение инцидентов. Поиск и устранение узких мест в работе между приложениями и БД (SQL Profiler). Анализ планов запросов, создание индексов; Создание и поддержка отчетов Reporting Services; VBA макросы; Администрирование БД MS SQL Server: создание планов поддержки, автоматизирование процессов резервного копирования и восстановления БД, поддержка инвентаризации окружения баз данных в актуальном состоянии, разработка хранимых процедур, функций, заданий и запросов на T-SQL. Декабрь 2014 — Август  2015 9 месяцев Бранд и партнеры Москва , bbpartners.ru Услуги для бизнеса ... Юридическое обслуживание Ведущий сотрудник ИТ отдела Разработка и поддержка клиент-серверных приложений (C#, ASP, MS SQL, MySQL), разработка и внедрение решений, инструментов для оптимизации работы компании, структурирования данных, автоматизации системы анализа, планирования, хранения и учета, инвентаризация ПО; Администрирование БД MS SQL Server, MySQL: создание планов поддержки, автоматизирование процессов резервного копирования и восстановления БД, поддержка инвентаризации окружения баз данных в актуальном состоянии, мониторинг состояния серверов баз данных, разработка хранимых процедур, функций, заданий и запросов на T-SQL; Администрирование корпоративного домена, корпоративной почты, локальной сети, настройка VPN соединения, поддержка в актуальном состоянии инвентаризации окружения домена. Июнь 2014 — Ноябрь  2014 6 месяцев Ренессанс Кредит Россия , www.rencredit.ru Финансовый сектор ... Финансово-кредитное посредничество (биржа, брокерская деятельность, выпуск и обслуживание карт, оценка рисков, обменные пункты, агентства по кредитованию, инкассация, ломбард, платежные системы) Старший специалист отдела сопровождения баз данных Администрирование БД MS SQL: - администрирование MS SQL Server, Reporting Services; - планирование и поддержка безотказной работы, при использовании технологии Windows Failover Cluster; - настройка зеркалирования (MS SQL Mirroring) между экземплярами; - создание планов поддержки; - поддержка моментальных снимков; - автоматизирование процессов резервного копирования и восстановления БД (NetBackup); - поддержка инвентаризации окружения баз данных в актуальном состоянии; - мониторинг состояния серверов баз данных (Zabbix); - разработка хранимых процедур, функций, заданий и запросов на T-SQL; - анализ и настройка целостности БД; - анализ производительности БД и оптимизация SQL запросов; - работа с заявками, - расследование инцидентов; - управление правами доступа пользователей. Май 2009 — Май  2014 5 лет 1 месяц в/ч 71330 Москва Государственные организации ... Государственные организации Старший сотрудник отдела Администрирование БД MS SQL: - автоматизирование процессов резервного копирования и восстановления БД; - разработка хранимых процедур, функций, заданий и запросов на T-SQL; - анализ и настройка целостности БД; - оптимизация структуры БД; - анализ БД на предмет наличия артефактов; - анализ производительности БД и ее настройка при помощи SQL Server Profiler и применения индексов и оптимизации SQL запросов; - разработка структуры БД, серверной бизнес-логики; - администрирование БД в центральном офисе и филиалах; - настройка репликации баз между филиалами; - планирование и обеспечение безотказной работы, организация мониторинга; - работа с заявками, предотвращение и расследование инцидентов; - загрузка данных из внешних источников. Взаимодействие с разработчиками ПО корпоративных систем: - участие в постановке задач и разработке технического задания, рабочей и проектной документации; - работа в тесном контакте с разработчиком, beta-тестирование, составление заданий на доработку систем. Прикладное программирование на C/C++/C#: - написание прикладных программ для нужд компании; - создание ASP.NET, Windows приложений; - создание приложений для работы с БД; - доработка и оптимизация ПО, разрабатываемого для нужд компании. MS Forefront TMG: - настройка и обеспечения доступа клиентов в Интернет; - настройка пользовательских ПК для работы с Forefront; - разграничение пользовательского доступа к БД; - создание правил и расписаний для доступа в Интернет. Администрирование СХД. Организация проектирования и работ по монтажу ЛВС; Ноябрь 2007 — Апрель  2009 1 год 6 месяцев ВНИИ АС РЖД Москва Перевозки, логистика, склад, ВЭД ... Железнодорожные перевозки Транспортно-логистические комплексы, порты (воздушный, водный, железнодорожный) Программист Создание приложений на C#; Программирование на платформе ASP.NET; Создание приложений для работы с SQL БД; Использование при программировании вставок на Java Script. Ключевые навыки Теперь резюме открыто всему интернету — изменить можно в настройках видимости. Active Directory C/C++/C# DHCP DNS GP Http Proxy MS Failover Cluster MS Forefront TMG MS SQL Server MS Windows Server Sphinx SQL Server Mirroring SQL Server Snapshot T-sql Архитектор БД Проектирование ЛВС Работа с базами данных Java NetBackup Zabbix SVN MySQL MDX Olap (online analytical processing) SSRS SSAS SSIS Reporting SFA FMCG Продажи Возникли неполадки. Попробуйте еще раз. Обо мне Нравится работать с данными: составлять сложные SQL запросы, производить анализ данных, представлять полученную информацию в удобном виде. Умение работать в коллективе, быть ответственным за общий результат. Желание обучаться и развивать профессиональные навыки. Умение читать и разбираться в чужом коде. Выполнять поставленные задачи, имея на входе минимум вводных. Устойчивость к нагрузкам, самообучаемость, исполнительность. Высшее образование 2007 Кликнув на название учебного заведения вы сможете найти кандидатов из этого вуза. Московский государственный университет путей сообщения, Москва Институт управления и информационных технологий, Инженер по спец. Вычислительные машины, комплексы, системы и сети Знание языков Русский — Родной Английский — C1 — Продвинутый Повышение квалификации, курсы 2016 Реализация модели данных и отчетов с помощью Microsoft SQL Server 2012 (M10778) Центр компьютерного обучения \"Специалист\" при МГТУ им. Н.Э. Баумана, Информационный технологии, СУБД 2012 Forefront TMG 2010: Возможности и решения сетевой безопасности Центр компьютерного обучения \"Специалист\" при МГТУ им. Н.Э. Баумана, Информационный технологии 2010 Системы управления базами данных MS SQL Server и MS Access Московский институт новых информационных технологий федеральной службы безопасности Российской Федерации, Москва, Информационный технологии, СУБД 2010 Создание и эксплуатация информационных систем на основе баз данных Московский институт новых информационных технологий федеральной службы безопасности Российской Федерации, Москва, Информационный технологии, СУБД Гражданство, время в пути до работы Гражданство: Россия Разрешение на работу: Россия Желательное время в пути до работы: Не имеет значения  Опыт работы 11 лет 6 месяцев Декабрь 2017 — по настоящее время 1 год 5 месяцев ЭркаФарм Россия , erkapharm.com Медицина, фармацевтика, аптеки ... Аптека, оптика Руководитель отдела аналитики Стратегическая цель: создание единой корпоративной автоматизированной информационно-аналитической системы бизнес анализа; MDM: ведение и поддержка в актуальном состоянии мастер-справочников компании; разработка новых справочников\\атрибутов для обеспечения деятельности подразделений компании; контроль бизнес-процессов в части, касающейся мастер-данных; написание документов, закрепляющих регламентные нормы по ведению мастер-справочников; ETL: загрузка данных из внешних источников; обработка, структурирование, приведение к унифицированному виду с использованием SSIS; контроль полноты и релевантности загружаемых данных; наполнение DWH хранилища обработанными данными; DWH: проектирование, создание и поддержка Хранилища данных; ежедневное обновление Хранилища данными из внешних источников; OLAP: разработка, доработка и поддержка Кубов; процессинг Кубов после обновления Хранилища данных; дозагрузка дельты данных в течение дня; Отчетность и визуализация данных: создание, поддержка и доставка отчетов до конечных пользователей, с использованием SSRS и Power BI; T-SQL: написание сложных аналитических запросов, обработок, хранимых процедур, функций; анализ и обработка полученных данных, ad-hoc; Администрирование БД: проектирование и поддержка БД; секционирование, создание индексов, триггеров; поддержка отказоустойчивости работы с БД, создание и поддержка резервных копий баз; распараллеливание процессов между серверами; Обучение: написание и поддержка в актуальном состоянии инструкций по пользованию Кубом и Порталом бизнес отчетности; проведение периодических мероприятий, направленных на обучение сотрудников компании по использованию бизнес систем компании; создание и поддержка портала видео инструкций с основными типовыми запросами; инвентаризация отчетности и аналитических метрик, с указанием методик и фильтров построения; Менеджмент: руководство и развитие отдела (8 человек в подчинении); руководство группой аналитиков в регионах (8 человек в подчинении); общение с бизнесом, получение тех заданий на разработку\\доработку бизнес логики, отчетности, ad-hoc отчетности; определение стратегии развития, составление плана работы, установка сроков исполнения, распределение задач, контроль исполнения, мотивирование на достижение результата; унификация кода к принятым внутри команды стандартам, инвентаризация и описание процессов в подконтрольных секторах; Октябрь 2016 — Ноябрь  2017 1 год 2 месяца Черкизово, Группа Москва , www.cherkizovo-group.ru/ Продукты питания ... Мясная продукция (продвижение, оптовая торговля) Мясная продукция (производство) Полуфабрикаты, в том числе замороженные (продвижение, оптовая торговля) Полуфабрикаты, в том числе замороженные (производство) Сельское хозяйство Земледелие, растениеводство, животноводство Ведущий специалист BI напраления отдела развития систем продаж ETL: загрузка данных из внешних источников; обработка, структурирование, приведение к унифицированному виду; загрузка обработанных данных в DWH хранилище; DWH: проектирование, создание и поддержка хранилища данных. Регулярное обновление хранилища после загрузки данных из внешних источников. OLAP: создание и поддержка кубов; процессинг куба после обновления хранилища данных, добавление измерений и фактов; Reporting и визуализация данных: создание, поддержка и доставка отчетов до конечных пользователей, с использованием SSRS и Tableau; T-SQL: написание сложных аналитических запросов, хранимых процедур, функций. Анализ и обработка полученных данных, ad-hoc; SFA: автоматизация и поддержка процессов на базе учетной системы Чикаго; разработка и поддержка отчетности с выводом данных в сводные и плоские таблицы MS Excel; VBA: дальнейшая обработка данных в отчете, отвечающая конечным требованиям; Менеджмент: руководство и развитие BI направления, общение с бизнесом, получение тех заданий на разработку\\доработку бизнес логики, отчетности, ad-hoc отчетности; определение стратегии развития, составление плана работы, установка сроков исполнения, распределение задач, контроль исполнения, мотивирование на достижение результата; унификация кода к принятым внутри команды стандартам, инвентаризация и описание процессов в подконтрольных секторах; разработка регламентов и методологий, доведение до заинтересованных лиц принятых инструкций и разъяснений; формулирование и постановка задач сотрудникам на филиалах, разрешение спорных ситуаций; Обеспечение взаимодействия между различными учетными системами. Постановка и согласование технических заданий на создание единой автоматизированной информационно-аналитической системы. Сентябрь 2015 — Сентябрь  2016 1 год 1 месяц НПФ Райффайзен Москва , npfraiffeisen.ru Финансовый сектор ... НПФ Старший сотрудник отдела разработки T-SQL: написание сложных аналитических запросов, хранимых процедур, функций. Анализ и обработка полученных данных; ETL: загрузка данных из различных источников и форматов (Excel, XML), создание DTS пакетов; Разработка клиент-серверных приложений (C#, ASP, MS SQL), WCF сервисов, разработка и внедрение решений, инструментов для оптимизации работы фонда, структурирования данных, автоматизации системы анализа, планирования, хранения и учета, инвентаризация ПО; Поддержка приложений, внедрение новых релизов. Поиск и локализация неисправностей в работе ПО, решение инцидентов. Поиск и устранение узких мест в работе между приложениями и БД (SQL Profiler). Анализ планов запросов, создание индексов; Создание и поддержка отчетов Reporting Services; VBA макросы; Администрирование БД MS SQL Server: создание планов поддержки, автоматизирование процессов резервного копирования и восстановления БД, поддержка инвентаризации окружения баз данных в актуальном состоянии, разработка хранимых процедур, функций, заданий и запросов на T-SQL. Декабрь 2014 — Август  2015 9 месяцев Бранд и партнеры Москва , bbpartners.ru Услуги для бизнеса ... Юридическое обслуживание Ведущий сотрудник ИТ отдела Разработка и поддержка клиент-серверных приложений (C#, ASP, MS SQL, MySQL), разработка и внедрение решений, инструментов для оптимизации работы компании, структурирования данных, автоматизации системы анализа, планирования, хранения и учета, инвентаризация ПО; Администрирование БД MS SQL Server, MySQL: создание планов поддержки, автоматизирование процессов резервного копирования и восстановления БД, поддержка инвентаризации окружения баз данных в актуальном состоянии, мониторинг состояния серверов баз данных, разработка хранимых процедур, функций, заданий и запросов на T-SQL; Администрирование корпоративного домена, корпоративной почты, локальной сети, настройка VPN соединения, поддержка в актуальном состоянии инвентаризации окружения домена. Июнь 2014 — Ноябрь  2014 6 месяцев Ренессанс Кредит Россия , www.rencredit.ru Финансовый сектор ... Финансово-кредитное посредничество (биржа, брокерская деятельность, выпуск и обслуживание карт, оценка рисков, обменные пункты, агентства по кредитованию, инкассация, ломбард, платежные системы) Старший специалист отдела сопровождения баз данных Администрирование БД MS SQL: - администрирование MS SQL Server, Reporting Services; - планирование и поддержка безотказной работы, при использовании технологии Windows Failover Cluster; - настройка зеркалирования (MS SQL Mirroring) между экземплярами; - создание планов поддержки; - поддержка моментальных снимков; - автоматизирование процессов резервного копирования и восстановления БД (NetBackup); - поддержка инвентаризации окружения баз данных в актуальном состоянии; - мониторинг состояния серверов баз данных (Zabbix); - разработка хранимых процедур, функций, заданий и запросов на T-SQL; - анализ и настройка целостности БД; - анализ производительности БД и оптимизация SQL запросов; - работа с заявками, - расследование инцидентов; - управление правами доступа пользователей. Май 2009 — Май  2014 5 лет 1 месяц в/ч 71330 Москва Государственные организации ... Государственные организации Старший сотрудник отдела Администрирование БД MS SQL: - автоматизирование процессов резервного копирования и восстановления БД; - разработка хранимых процедур, функций, заданий и запросов на T-SQL; - анализ и настройка целостности БД; - оптимизация структуры БД; - анализ БД на предмет наличия артефактов; - анализ производительности БД и ее настройка при помощи SQL Server Profiler и применения индексов и оптимизации SQL запросов; - разработка структуры БД, серверной бизнес-логики; - администрирование БД в центральном офисе и филиалах; - настройка репликации баз между филиалами; - планирование и обеспечение безотказной работы, организация мониторинга; - работа с заявками, предотвращение и расследование инцидентов; - загрузка данных из внешних источников. Взаимодействие с разработчиками ПО корпоративных систем: - участие в постановке задач и разработке технического задания, рабочей и проектной документации; - работа в тесном контакте с разработчиком, beta-тестирование, составление заданий на доработку систем. Прикладное программирование на C/C++/C#: - написание прикладных программ для нужд компании; - создание ASP.NET, Windows приложений; - создание приложений для работы с БД; - доработка и оптимизация ПО, разрабатываемого для нужд компании. MS Forefront TMG: - настройка и обеспечения доступа клиентов в Интернет; - настройка пользовательских ПК для работы с Forefront; - разграничение пользовательского доступа к БД; - создание правил и расписаний для доступа в Интернет. Администрирование СХД. Организация проектирования и работ по монтажу ЛВС; Ноябрь 2007 — Апрель  2009 1 год 6 месяцев ВНИИ АС РЖД Москва Перевозки, логистика, склад, ВЭД ... Железнодорожные перевозки Транспортно-логистические комплексы, порты (воздушный, водный, железнодорожный) Программист Создание приложений на C#; Программирование на платформе ASP.NET; Создание приложений для работы с SQL БД; Использование при программировании вставок на Java Script.  Декабрь 2017 — по настоящее время 1 год 5 месяцев ЭркаФарм Россия , erkapharm.com Медицина, фармацевтика, аптеки ... Аптека, оптика Руководитель отдела аналитики Стратегическая цель: создание единой корпоративной автоматизированной информационно-аналитической системы бизнес анализа; MDM: ведение и поддержка в актуальном состоянии мастер-справочников компании; разработка новых справочников\\атрибутов для обеспечения деятельности подразделений компании; контроль бизнес-процессов в части, касающейся мастер-данных; написание документов, закрепляющих регламентные нормы по ведению мастер-справочников; ETL: загрузка данных из внешних источников; обработка, структурирование, приведение к унифицированному виду с использованием SSIS; контроль полноты и релевантности загружаемых данных; наполнение DWH хранилища обработанными данными; DWH: проектирование, создание и поддержка Хранилища данных; ежедневное обновление Хранилища данными из внешних источников; OLAP: разработка, доработка и поддержка Кубов; процессинг Кубов после обновления Хранилища данных; дозагрузка дельты данных в течение дня; Отчетность и визуализация данных: создание, поддержка и доставка отчетов до конечных пользователей, с использованием SSRS и Power BI; T-SQL: написание сложных аналитических запросов, обработок, хранимых процедур, функций; анализ и обработка полученных данных, ad-hoc; Администрирование БД: проектирование и поддержка БД; секционирование, создание индексов, триггеров; поддержка отказоустойчивости работы с БД, создание и поддержка резервных копий баз; распараллеливание процессов между серверами; Обучение: написание и поддержка в актуальном состоянии инструкций по пользованию Кубом и Порталом бизнес отчетности; проведение периодических мероприятий, направленных на обучение сотрудников компании по использованию бизнес систем компании; создание и поддержка портала видео инструкций с основными типовыми запросами; инвентаризация отчетности и аналитических метрик, с указанием методик и фильтров построения; Менеджмент: руководство и развитие отдела (8 человек в подчинении); руководство группой аналитиков в регионах (8 человек в подчинении); общение с бизнесом, получение тех заданий на разработку\\доработку бизнес логики, отчетности, ad-hoc отчетности; определение стратегии развития, составление плана работы, установка сроков исполнения, распределение задач, контроль исполнения, мотивирование на достижение результата; унификация кода к принятым внутри команды стандартам, инвентаризация и описание процессов в подконтрольных секторах;  Октябрь 2016 — Ноябрь  2017 1 год 2 месяца Черкизово, Группа Москва , www.cherkizovo-group.ru/ Продукты питания ... Мясная продукция (продвижение, оптовая торговля) Мясная продукция (производство) Полуфабрикаты, в том числе замороженные (продвижение, оптовая торговля) Полуфабрикаты, в том числе замороженные (производство) Сельское хозяйство Земледелие, растениеводство, животноводство Ведущий специалист BI напраления отдела развития систем продаж ETL: загрузка данных из внешних источников; обработка, структурирование, приведение к унифицированному виду; загрузка обработанных данных в DWH хранилище; DWH: проектирование, создание и поддержка хранилища данных. Регулярное обновление хранилища после загрузки данных из внешних источников. OLAP: создание и поддержка кубов; процессинг куба после обновления хранилища данных, добавление измерений и фактов; Reporting и визуализация данных: создание, поддержка и доставка отчетов до конечных пользователей, с использованием SSRS и Tableau; T-SQL: написание сложных аналитических запросов, хранимых процедур, функций. Анализ и обработка полученных данных, ad-hoc; SFA: автоматизация и поддержка процессов на базе учетной системы Чикаго; разработка и поддержка отчетности с выводом данных в сводные и плоские таблицы MS Excel; VBA: дальнейшая обработка данных в отчете, отвечающая конечным требованиям; Менеджмент: руководство и развитие BI направления, общение с бизнесом, получение тех заданий на разработку\\доработку бизнес логики, отчетности, ad-hoc отчетности; определение стратегии развития, составление плана работы, установка сроков исполнения, распределение задач, контроль исполнения, мотивирование на достижение результата; унификация кода к принятым внутри команды стандартам, инвентаризация и описание процессов в подконтрольных секторах; разработка регламентов и методологий, доведение до заинтересованных лиц принятых инструкций и разъяснений; формулирование и постановка задач сотрудникам на филиалах, разрешение спорных ситуаций; Обеспечение взаимодействия между различными учетными системами. Постановка и согласование технических заданий на создание единой автоматизированной информационно-аналитической системы.  Сентябрь 2015 — Сентябрь  2016 1 год 1 месяц НПФ Райффайзен Москва , npfraiffeisen.ru Финансовый сектор ... НПФ Старший сотрудник отдела разработки T-SQL: написание сложных аналитических запросов, хранимых процедур, функций. Анализ и обработка полученных данных; ETL: загрузка данных из различных источников и форматов (Excel, XML), создание DTS пакетов; Разработка клиент-серверных приложений (C#, ASP, MS SQL), WCF сервисов, разработка и внедрение решений, инструментов для оптимизации работы фонда, структурирования данных, автоматизации системы анализа, планирования, хранения и учета, инвентаризация ПО; Поддержка приложений, внедрение новых релизов. Поиск и локализация неисправностей в работе ПО, решение инцидентов. Поиск и устранение узких мест в работе между приложениями и БД (SQL Profiler). Анализ планов запросов, создание индексов; Создание и поддержка отчетов Reporting Services; VBA макросы; Администрирование БД MS SQL Server: создание планов поддержки, автоматизирование процессов резервного копирования и восстановления БД, поддержка инвентаризации окружения баз данных в актуальном состоянии, разработка хранимых процедур, функций, заданий и запросов на T-SQL.  Декабрь 2014 — Август  2015 9 месяцев Бранд и партнеры Москва , bbpartners.ru Услуги для бизнеса ... Юридическое обслуживание Ведущий сотрудник ИТ отдела Разработка и поддержка клиент-серверных приложений (C#, ASP, MS SQL, MySQL), разработка и внедрение решений, инструментов для оптимизации работы компании, структурирования данных, автоматизации системы анализа, планирования, хранения и учета, инвентаризация ПО; Администрирование БД MS SQL Server, MySQL: создание планов поддержки, автоматизирование процессов резервного копирования и восстановления БД, поддержка инвентаризации окружения баз данных в актуальном состоянии, мониторинг состояния серверов баз данных, разработка хранимых процедур, функций, заданий и запросов на T-SQL; Администрирование корпоративного домена, корпоративной почты, локальной сети, настройка VPN соединения, поддержка в актуальном состоянии инвентаризации окружения домена.  Июнь 2014 — Ноябрь  2014 6 месяцев Ренессанс Кредит Россия , www.rencredit.ru Финансовый сектор ... Финансово-кредитное посредничество (биржа, брокерская деятельность, выпуск и обслуживание карт, оценка рисков, обменные пункты, агентства по кредитованию, инкассация, ломбард, платежные системы) Старший специалист отдела сопровождения баз данных Администрирование БД MS SQL: - администрирование MS SQL Server, Reporting Services; - планирование и поддержка безотказной работы, при использовании технологии Windows Failover Cluster; - настройка зеркалирования (MS SQL Mirroring) между экземплярами; - создание планов поддержки; - поддержка моментальных снимков; - автоматизирование процессов резервного копирования и восстановления БД (NetBackup); - поддержка инвентаризации окружения баз данных в актуальном состоянии; - мониторинг состояния серверов баз данных (Zabbix); - разработка хранимых процедур, функций, заданий и запросов на T-SQL; - анализ и настройка целостности БД; - анализ производительности БД и оптимизация SQL запросов; - работа с заявками, - расследование инцидентов; - управление правами доступа пользователей.  Май 2009 — Май  2014 5 лет 1 месяц в/ч 71330 Москва Государственные организации ... Государственные организации Старший сотрудник отдела Администрирование БД MS SQL: - автоматизирование процессов резервного копирования и восстановления БД; - разработка хранимых процедур, функций, заданий и запросов на T-SQL; - анализ и настройка целостности БД; - оптимизация структуры БД; - анализ БД на предмет наличия артефактов; - анализ производительности БД и ее настройка при помощи SQL Server Profiler и применения индексов и оптимизации SQL запросов; - разработка структуры БД, серверной бизнес-логики; - администрирование БД в центральном офисе и филиалах; - настройка репликации баз между филиалами; - планирование и обеспечение безотказной работы, организация мониторинга; - работа с заявками, предотвращение и расследование инцидентов; - загрузка данных из внешних источников. Взаимодействие с разработчиками ПО корпоративных систем: - участие в постановке задач и разработке технического задания, рабочей и проектной документации; - работа в тесном контакте с разработчиком, beta-тестирование, составление заданий на доработку систем. Прикладное программирование на C/C++/C#: - написание прикладных программ для нужд компании; - создание ASP.NET, Windows приложений; - создание приложений для работы с БД; - доработка и оптимизация ПО, разрабатываемого для нужд компании. MS Forefront TMG: - настройка и обеспечения доступа клиентов в Интернет; - настройка пользовательских ПК для работы с Forefront; - разграничение пользовательского доступа к БД; - создание правил и расписаний для доступа в Интернет. Администрирование СХД. Организация проектирования и работ по монтажу ЛВС;  Ноябрь 2007 — Апрель  2009 1 год 6 месяцев ВНИИ АС РЖД Москва Перевозки, логистика, склад, ВЭД ... Железнодорожные перевозки Транспортно-логистические комплексы, порты (воздушный, водный, железнодорожный) Программист Создание приложений на C#; Программирование на платформе ASP.NET; Создание приложений для работы с SQL БД; Использование при программировании вставок на Java Script.\n"
          ]
        }
      ]
    },
    {
      "cell_type": "code",
      "metadata": {
        "id": "rXjLLWQyB95i"
      },
      "source": [
        "# Преобразование текстовых данных в числовые/векторные для обучения нейросетью\n",
        "\n",
        "# Используется встроенный в Keras токенизатор для разбиения текста и построения частотного словаря\n",
        "tokenizer = Tokenizer(num_words=3000, # объем словаря\n",
        "                      filters='!\"#$%&()*+,-–—./:;<=>?@[\\\\]^_`{|}~\\t\\n\\xa0', # убираемые из текста ненужные символы \n",
        "                      lower=True, # приведение слов к нижнему регистру\n",
        "                      split=' ', # разделитель слов\n",
        "                      oov_token='unknown', # указание разделять по словам, а не по единичным символам\n",
        "                      char_level=False # токен для слов, которые не вошли в словарь\n",
        "                      )\n",
        "\n",
        "# Построение частотного словаря по текстам профессий\n",
        "tokenizer.fit_on_texts(exp_text) "
      ],
      "execution_count": null,
      "outputs": []
    },
    {
      "cell_type": "code",
      "metadata": {
        "colab": {
          "base_uri": "https://localhost:8080/"
        },
        "id": "7fjk5UQfgfgt",
        "outputId": "bae3d47d-7ba7-455b-b9c5-453a83e7f657"
      },
      "source": [
        "items = list(tokenizer.word_index.items())       # Получение индексов слов\n",
        "print(items[:50])                                # Посмотр 50 самых часто встречающихся слов\n",
        "print(\"Размер словаря\", len(items))              # Длина словаря"
      ],
      "execution_count": null,
      "outputs": [
        {
          "output_type": "stream",
          "name": "stdout",
          "text": [
            "[('unknown', 124086), ('и', 2), ('в', 3), ('по', 4), ('с', 5), ('на', 6), ('работы', 7), ('месяцев', 8), ('для', 9), ('1', 10), ('разработка', 11), ('ru', 12), ('интернет', 13), ('2', 14), ('работа', 15), ('опыт', 16), ('года', 17), ('интеграция', 18), ('месяца', 19), ('3', 20), ('москва', 21), ('системная', 22), ('технологии', 23), ('www', 24), ('время', 25), ('системы', 26), ('год', 27), ('лет', 28), ('контроль', 29), ('настройка', 30), ('ооо', 31), ('информационные', 32), ('оборудования', 33), ('компании', 34), ('4', 35), ('5', 36), ('бизнес', 37), ('7', 38), ('поддержка', 39), ('организация', 40), ('2018', 41), ('сети', 42), ('ит', 43), ('8', 44), ('администрирование', 45), ('2017', 46), ('данных', 47), ('систем', 48), ('инженер', 49), ('управление', 50)]\n",
            "Размер словаря 324327\n"
          ]
        }
      ]
    },
    {
      "cell_type": "code",
      "metadata": {
        "id": "eQHVb6dqNkXJ"
      },
      "source": [
        "# Преобразование текстов в последовательность индексов согласно частотному словарю\n",
        "exp_seq = tokenizer.texts_to_sequences(exp_text)"
      ],
      "execution_count": null,
      "outputs": []
    },
    {
      "cell_type": "markdown",
      "metadata": {
        "id": "I3v4ufg9NyKf"
      },
      "source": [
        "**Создание обучающей и проверочной выборок**"
      ]
    },
    {
      "cell_type": "code",
      "metadata": {
        "id": "hCZ1tgccSsn5"
      },
      "source": [
        "# Преобразование последовательностей индексов в bag of words\n",
        "x_train_exp_01 = tokenizer.sequences_to_matrix(exp_seq)"
      ],
      "execution_count": null,
      "outputs": []
    },
    {
      "cell_type": "code",
      "metadata": {
        "colab": {
          "base_uri": "https://localhost:8080/"
        },
        "id": "2ZMGt_EfSsn6",
        "outputId": "d22cc2e2-8862-4a39-af3e-0daf1095d411"
      },
      "source": [
        "# Проверка результата\n",
        "print(x_train_exp_01.shape)\n",
        "print(x_train_exp_01[0][0:100])"
      ],
      "execution_count": null,
      "outputs": [
        {
          "output_type": "stream",
          "name": "stdout",
          "text": [
            "(62967, 3000)\n",
            "[0. 0. 1. 1. 1. 0. 1. 1. 1. 0. 0. 0. 0. 1. 0. 1. 1. 1. 0. 0. 1. 1. 0. 1.\n",
            " 0. 1. 0. 0. 0. 0. 0. 1. 1. 0. 0. 0. 0. 0. 0. 0. 0. 0. 0. 0. 0. 0. 0. 0.\n",
            " 0. 0. 1. 0. 0. 1. 0. 0. 1. 0. 0. 0. 0. 0. 0. 0. 0. 0. 1. 0. 1. 0. 0. 0.\n",
            " 0. 0. 1. 0. 1. 0. 0. 0. 0. 0. 0. 0. 0. 0. 0. 0. 0. 0. 1. 0. 0. 0. 1. 0.\n",
            " 0. 1. 0. 0.]\n"
          ]
        }
      ]
    },
    {
      "cell_type": "code",
      "metadata": {
        "colab": {
          "base_uri": "https://localhost:8080/"
        },
        "id": "EjOJWqogTBYH",
        "outputId": "00bc35cc-eb8c-4080-8a3b-ff9dbac8de13"
      },
      "source": [
        "# Проверка получившихся данных\n",
        "n = 0\n",
        "print(exp_text[n])                       # Опыт работы в тексте\n",
        "print(exp_seq[n])                        # Опыт работы в индексах слов\n",
        "print(x_train_exp_01[n][0:100])          # Опыт работы в bag of words"
      ],
      "execution_count": null,
      "outputs": [
        {
          "output_type": "stream",
          "name": "stdout",
          "text": [
            "Опыт работы 3 года 9 месяцев  Специалист по поддержке чата(support team) домашний агент 40 000 руб. Информационные технологии, интернет, телеком Системный администратор Сотовые, Беспроводные технологии Телекоммуникации Занятость: полная занятость График работы: полный день Опыт работы 3 года 9 месяцев Май 2012 — Январь  2016 3 года 9 месяцев ООО \"Гольфстрим\" Республика Башкортостан Строительство, недвижимость, эксплуатация, проектирование ... Строительство жилищное Управление и эксплуатация недвижимости Генеральный директор Руководство, отладка деловых связей, заключение договоров, развитие организации Ключевые навыки Теперь резюме открыто всему интернету — изменить можно в настройках видимости. Заключение договоров Деловое общение Деловая коммуникация Пользователь ПК Ведение переговоров Управление персоналом Деловая переписка Составление договоров Телефонные переговоры Грамотная речь MS Outlook Водительское удостоверение категории B Работа в команде Возникли неполадки. Попробуйте еще раз. Опыт вождения Права категории B Обо мне Электроника, новые технологии, автомобили, охота, природа, музыка, путешествия. Высшее образование 2011 Кликнув на название учебного заведения вы сможете найти кандидатов из этого вуза. Международный юридический институт при Министерстве юстиции Российской Федерации, Москва Юридический факультет, Юриспруденция Знание языков Русский — Родной Английский — A1 — Начальный Гражданство, время в пути до работы Гражданство: Россия Разрешение на работу: Россия Желательное время в пути до работы: Не имеет значения  Опыт работы 3 года 9 месяцев Май 2012 — Январь  2016 3 года 9 месяцев ООО \"Гольфстрим\" Республика Башкортостан Строительство, недвижимость, эксплуатация, проектирование ... Строительство жилищное Управление и эксплуатация недвижимости Генеральный директор Руководство, отладка деловых связей, заключение договоров, развитие организации  Май 2012 — Январь  2016 3 года 9 месяцев ООО \"Гольфстрим\" Республика Башкортостан Строительство, недвижимость, эксплуатация, проектирование ... Строительство жилищное Управление и эксплуатация недвижимости Генеральный директор Руководство, отладка деловых связей, заключение договоров, развитие организации\n",
            "[16, 7, 20, 17, 94, 8, 76, 4, 1162, 124086, 1395, 1134, 124086, 124086, 969, 215, 237, 32, 23, 13, 198, 134, 120, 124086, 124086, 23, 186, 103, 212, 103, 152, 7, 217, 232, 16, 7, 20, 17, 94, 8, 97, 74, 66, 56, 20, 17, 94, 8, 31, 124086, 979, 124086, 149, 351, 223, 130, 149, 1209, 50, 2, 223, 654, 1770, 341, 193, 1658, 2012, 124086, 284, 166, 213, 106, 283, 180, 326, 320, 328, 316, 322, 332, 304, 3, 329, 327, 284, 166, 124086, 568, 1133, 1631, 758, 140, 53, 261, 50, 539, 1133, 1138, 116, 166, 2070, 652, 2088, 2081, 107, 1382, 2531, 2049, 305, 495, 15, 3, 564, 333, 330, 335, 312, 299, 16, 583, 508, 305, 495, 319, 278, 189, 1126, 23, 1399, 124086, 124086, 124086, 124086, 324, 250, 109, 498, 6, 470, 436, 459, 472, 497, 461, 455, 135, 430, 467, 2893, 2229, 558, 196, 124086, 124086, 1253, 1432, 21, 2229, 987, 124086, 159, 258, 255, 290, 262, 616, 536, 144, 25, 3, 142, 68, 7, 144, 90, 254, 6, 184, 90, 286, 25, 3, 142, 68, 7, 155, 381, 389, 16, 7, 20, 17, 94, 8, 97, 74, 66, 56, 20, 17, 94, 8, 31, 124086, 979, 124086, 149, 351, 223, 130, 149, 1209, 50, 2, 223, 654, 1770, 341, 193, 1658, 2012, 124086, 284, 166, 213, 106, 97, 74, 66, 56, 20, 17, 94, 8, 31, 124086, 979, 124086, 149, 351, 223, 130, 149, 1209, 50, 2, 223, 654, 1770, 341, 193, 1658, 2012, 124086, 284, 166, 213, 106]\n",
            "[0. 0. 1. 1. 1. 0. 1. 1. 1. 0. 0. 0. 0. 1. 0. 1. 1. 1. 0. 0. 1. 1. 0. 1.\n",
            " 0. 1. 0. 0. 0. 0. 0. 1. 1. 0. 0. 0. 0. 0. 0. 0. 0. 0. 0. 0. 0. 0. 0. 0.\n",
            " 0. 0. 1. 0. 0. 1. 0. 0. 1. 0. 0. 0. 0. 0. 0. 0. 0. 0. 1. 0. 1. 0. 0. 0.\n",
            " 0. 0. 1. 0. 1. 0. 0. 0. 0. 0. 0. 0. 0. 0. 0. 0. 0. 0. 1. 0. 0. 0. 1. 0.\n",
            " 0. 1. 0. 0.]\n"
          ]
        }
      ]
    },
    {
      "cell_type": "code",
      "metadata": {
        "id": "dP-5u5-_Ssn7"
      },
      "source": [
        "# Освобождение памяти от ненужных более объектов\n",
        "del exp_text, exp_seq, tokenizer"
      ],
      "execution_count": null,
      "outputs": []
    },
    {
      "cell_type": "markdown",
      "metadata": {
        "id": "1m-lj10tN9xN"
      },
      "source": [
        "**Обучение модели**\n"
      ]
    },
    {
      "cell_type": "code",
      "metadata": {
        "colab": {
          "base_uri": "https://localhost:8080/",
          "height": 1000
        },
        "id": "5yZRQ858OEgA",
        "outputId": "3e608814-b77e-43e8-fb00-5a92ae02619a"
      },
      "source": [
        "# Обучение модели на данных об опыте работы (должности)\n",
        "\n",
        "model_exp = Sequential()\n",
        "model_exp.add(Dense(30, activation='relu', input_dim=x_train_exp_01.shape[1]))\n",
        "model_exp.add(Dense(800, activation='relu'))\n",
        "model_exp.add(Dropout(0.3))\n",
        "model_exp.add(Dense(1, activation='linear'))\n",
        " \n",
        "model_exp.compile(optimizer=Adam(learning_rate=1e-3), \n",
        "                  loss='mse', \n",
        "                  metrics=['mae'])\n",
        " \n",
        "history = model_exp.fit(x_train_exp_01, \n",
        "                    y_train_scaled, \n",
        "                    batch_size=256,\n",
        "                    epochs=50, \n",
        "                    validation_split=0.15, \n",
        "                    verbose=1)\n",
        "\n",
        "plot_history(history)"
      ],
      "execution_count": null,
      "outputs": [
        {
          "output_type": "stream",
          "name": "stdout",
          "text": [
            "Epoch 1/50\n",
            "210/210 [==============================] - 1s 5ms/step - loss: 0.5633 - mae: 0.4161 - val_loss: 0.5631 - val_mae: 0.4084\n",
            "Epoch 2/50\n",
            "210/210 [==============================] - 1s 4ms/step - loss: 0.4147 - mae: 0.3525 - val_loss: 0.5266 - val_mae: 0.4158\n",
            "Epoch 3/50\n",
            "210/210 [==============================] - 1s 4ms/step - loss: 0.3186 - mae: 0.3244 - val_loss: 0.4718 - val_mae: 0.3699\n",
            "Epoch 4/50\n",
            "210/210 [==============================] - 1s 4ms/step - loss: 0.2357 - mae: 0.2936 - val_loss: 0.4639 - val_mae: 0.3618\n",
            "Epoch 5/50\n",
            "210/210 [==============================] - 1s 4ms/step - loss: 0.1848 - mae: 0.2693 - val_loss: 0.4937 - val_mae: 0.3686\n",
            "Epoch 6/50\n",
            "210/210 [==============================] - 1s 4ms/step - loss: 0.1773 - mae: 0.2637 - val_loss: 0.4601 - val_mae: 0.3565\n",
            "Epoch 7/50\n",
            "210/210 [==============================] - 1s 4ms/step - loss: 0.1566 - mae: 0.2407 - val_loss: 0.4322 - val_mae: 0.3445\n",
            "Epoch 8/50\n",
            "210/210 [==============================] - 1s 4ms/step - loss: 0.1161 - mae: 0.2206 - val_loss: 0.4400 - val_mae: 0.3474\n",
            "Epoch 9/50\n",
            "210/210 [==============================] - 1s 4ms/step - loss: 0.0941 - mae: 0.2074 - val_loss: 0.4426 - val_mae: 0.3441\n",
            "Epoch 10/50\n",
            "210/210 [==============================] - 1s 4ms/step - loss: 0.0892 - mae: 0.1973 - val_loss: 0.4323 - val_mae: 0.3330\n",
            "Epoch 11/50\n",
            "210/210 [==============================] - 1s 4ms/step - loss: 0.0877 - mae: 0.1923 - val_loss: 0.4376 - val_mae: 0.3370\n",
            "Epoch 12/50\n",
            "210/210 [==============================] - 1s 4ms/step - loss: 0.0762 - mae: 0.1837 - val_loss: 0.4261 - val_mae: 0.3294\n",
            "Epoch 13/50\n",
            "210/210 [==============================] - 1s 4ms/step - loss: 0.0702 - mae: 0.1782 - val_loss: 0.4198 - val_mae: 0.3246\n",
            "Epoch 14/50\n",
            "210/210 [==============================] - 1s 4ms/step - loss: 0.0640 - mae: 0.1697 - val_loss: 0.4291 - val_mae: 0.3268\n",
            "Epoch 15/50\n",
            "210/210 [==============================] - 1s 4ms/step - loss: 0.0566 - mae: 0.1629 - val_loss: 0.4209 - val_mae: 0.3241\n",
            "Epoch 16/50\n",
            "210/210 [==============================] - 1s 4ms/step - loss: 0.0573 - mae: 0.1620 - val_loss: 0.4245 - val_mae: 0.3256\n",
            "Epoch 17/50\n",
            "210/210 [==============================] - 1s 4ms/step - loss: 0.0628 - mae: 0.1616 - val_loss: 0.4259 - val_mae: 0.3296\n",
            "Epoch 18/50\n",
            "210/210 [==============================] - 1s 4ms/step - loss: 0.0503 - mae: 0.1523 - val_loss: 0.4196 - val_mae: 0.3176\n",
            "Epoch 19/50\n",
            "210/210 [==============================] - 1s 4ms/step - loss: 0.0483 - mae: 0.1497 - val_loss: 0.4314 - val_mae: 0.3209\n",
            "Epoch 20/50\n",
            "210/210 [==============================] - 1s 4ms/step - loss: 0.0504 - mae: 0.1493 - val_loss: 0.4539 - val_mae: 0.3426\n",
            "Epoch 21/50\n",
            "210/210 [==============================] - 1s 4ms/step - loss: 0.0544 - mae: 0.1541 - val_loss: 0.4266 - val_mae: 0.3173\n",
            "Epoch 22/50\n",
            "210/210 [==============================] - 1s 4ms/step - loss: 0.0561 - mae: 0.1497 - val_loss: 0.4329 - val_mae: 0.3190\n",
            "Epoch 23/50\n",
            "210/210 [==============================] - 1s 4ms/step - loss: 0.0586 - mae: 0.1528 - val_loss: 0.4149 - val_mae: 0.3201\n",
            "Epoch 24/50\n",
            "210/210 [==============================] - 1s 4ms/step - loss: 0.0483 - mae: 0.1449 - val_loss: 0.4200 - val_mae: 0.3125\n",
            "Epoch 25/50\n",
            "210/210 [==============================] - 1s 4ms/step - loss: 0.0481 - mae: 0.1410 - val_loss: 0.4189 - val_mae: 0.3134\n",
            "Epoch 26/50\n",
            "210/210 [==============================] - 1s 4ms/step - loss: 0.0397 - mae: 0.1326 - val_loss: 0.4192 - val_mae: 0.3091\n",
            "Epoch 27/50\n",
            "210/210 [==============================] - 1s 4ms/step - loss: 0.0374 - mae: 0.1313 - val_loss: 0.4200 - val_mae: 0.3091\n",
            "Epoch 28/50\n",
            "210/210 [==============================] - 1s 4ms/step - loss: 0.0384 - mae: 0.1302 - val_loss: 0.4248 - val_mae: 0.3092\n",
            "Epoch 29/50\n",
            "210/210 [==============================] - 1s 4ms/step - loss: 0.0351 - mae: 0.1267 - val_loss: 0.4223 - val_mae: 0.3131\n",
            "Epoch 30/50\n",
            "210/210 [==============================] - 1s 4ms/step - loss: 0.0348 - mae: 0.1269 - val_loss: 0.4222 - val_mae: 0.3142\n",
            "Epoch 31/50\n",
            "210/210 [==============================] - 1s 4ms/step - loss: 0.0356 - mae: 0.1262 - val_loss: 0.4141 - val_mae: 0.3040\n",
            "Epoch 32/50\n",
            "210/210 [==============================] - 1s 4ms/step - loss: 0.0402 - mae: 0.1265 - val_loss: 0.4229 - val_mae: 0.3161\n",
            "Epoch 33/50\n",
            "210/210 [==============================] - 1s 4ms/step - loss: 0.0475 - mae: 0.1337 - val_loss: 0.4286 - val_mae: 0.3142\n",
            "Epoch 34/50\n",
            "210/210 [==============================] - 1s 4ms/step - loss: 0.0473 - mae: 0.1325 - val_loss: 0.4267 - val_mae: 0.3157\n",
            "Epoch 35/50\n",
            "210/210 [==============================] - 1s 4ms/step - loss: 0.0382 - mae: 0.1278 - val_loss: 0.4211 - val_mae: 0.3078\n",
            "Epoch 36/50\n",
            "210/210 [==============================] - 1s 4ms/step - loss: 0.0320 - mae: 0.1189 - val_loss: 0.4267 - val_mae: 0.3114\n",
            "Epoch 37/50\n",
            "210/210 [==============================] - 1s 4ms/step - loss: 0.0295 - mae: 0.1148 - val_loss: 0.4210 - val_mae: 0.3105\n",
            "Epoch 38/50\n",
            "210/210 [==============================] - 1s 4ms/step - loss: 0.0297 - mae: 0.1146 - val_loss: 0.4234 - val_mae: 0.3071\n",
            "Epoch 39/50\n",
            "210/210 [==============================] - 1s 4ms/step - loss: 0.0310 - mae: 0.1152 - val_loss: 0.4218 - val_mae: 0.3062\n",
            "Epoch 40/50\n",
            "210/210 [==============================] - 1s 4ms/step - loss: 0.0334 - mae: 0.1183 - val_loss: 0.4202 - val_mae: 0.3088\n",
            "Epoch 41/50\n",
            "210/210 [==============================] - 1s 4ms/step - loss: 0.0373 - mae: 0.1211 - val_loss: 0.4214 - val_mae: 0.3054\n",
            "Epoch 42/50\n",
            "210/210 [==============================] - 1s 4ms/step - loss: 0.0323 - mae: 0.1173 - val_loss: 0.4231 - val_mae: 0.3083\n",
            "Epoch 43/50\n",
            "210/210 [==============================] - 1s 4ms/step - loss: 0.0354 - mae: 0.1175 - val_loss: 0.4203 - val_mae: 0.3104\n",
            "Epoch 44/50\n",
            "210/210 [==============================] - 1s 4ms/step - loss: 0.0348 - mae: 0.1173 - val_loss: 0.4279 - val_mae: 0.3111\n",
            "Epoch 45/50\n",
            "210/210 [==============================] - 1s 4ms/step - loss: 0.0331 - mae: 0.1151 - val_loss: 0.4252 - val_mae: 0.3075\n",
            "Epoch 46/50\n",
            "210/210 [==============================] - 1s 4ms/step - loss: 0.0334 - mae: 0.1161 - val_loss: 0.4187 - val_mae: 0.3066\n",
            "Epoch 47/50\n",
            "210/210 [==============================] - 1s 4ms/step - loss: 0.0269 - mae: 0.1075 - val_loss: 0.4227 - val_mae: 0.3017\n",
            "Epoch 48/50\n",
            "210/210 [==============================] - 1s 4ms/step - loss: 0.0257 - mae: 0.1060 - val_loss: 0.4266 - val_mae: 0.3032\n",
            "Epoch 49/50\n",
            "210/210 [==============================] - 1s 4ms/step - loss: 0.0297 - mae: 0.1105 - val_loss: 0.4319 - val_mae: 0.3065\n",
            "Epoch 50/50\n",
            "210/210 [==============================] - 1s 4ms/step - loss: 0.0287 - mae: 0.1084 - val_loss: 0.4247 - val_mae: 0.3068\n"
          ]
        },
        {
          "output_type": "display_data",
          "data": {
            "image/png": "[encoded data removed]",
            "text/plain": [
              "<Figure size 432x288 with 1 Axes>"
            ]
          },
          "metadata": {
            "needs_background": "light"
          }
        }
      ]
    },
    {
      "cell_type": "markdown",
      "metadata": {
        "id": "pGULKKvzT1j5"
      },
      "source": [
        "**Оценка результатов**\n"
      ]
    },
    {
      "cell_type": "code",
      "metadata": {
        "colab": {
          "base_uri": "https://localhost:8080/",
          "height": 596
        },
        "id": "8jB-ewHNT1j7",
        "outputId": "7ffbecc2-b428-41ed-c388-bee290aeb14d"
      },
      "source": [
        "eval_net(model_exp, x_train_exp_01, y_train, y_scaler)"
      ],
      "execution_count": null,
      "outputs": [
        {
          "output_type": "stream",
          "name": "stdout",
          "text": [
            "Средняя абсолютная ошибка: 9.178504964676891 \n",
            "\n",
            "Реальное значение:  40.00  Предсказанное значение:  52.67  Разница:  12.67\n",
            "Реальное значение:  40.00  Предсказанное значение:  52.39  Разница:  12.39\n",
            "Реальное значение: 300.00  Предсказанное значение: 289.53  Разница:  10.47\n",
            "Реальное значение: 180.00  Предсказанное значение: 186.30  Разница:   6.30\n",
            "Реальное значение:  40.00  Предсказанное значение:  27.44  Разница:  12.56\n",
            "Реальное значение: 200.00  Предсказанное значение: 194.41  Разница:   5.59\n",
            "Реальное значение: 120.00  Предсказанное значение: 113.58  Разница:   6.42\n",
            "Реальное значение:  50.00  Предсказанное значение:  47.75  Разница:   2.25\n",
            "Реальное значение:  60.00  Предсказанное значение:  55.76  Разница:   4.24\n",
            "Реальное значение:  70.00  Предсказанное значение:  55.47  Разница:  14.53\n"
          ]
        },
        {
          "output_type": "display_data",
          "data": {
            "image/png": "[encoded data removed]",
            "text/plain": [
              "<Figure size 432x432 with 1 Axes>"
            ]
          },
          "metadata": {
            "needs_background": "light"
          }
        }
      ]
    },
    {
      "cell_type": "code",
      "metadata": {
        "id": "iDeznH2dflUL"
      },
      "source": [
        "# Освобождение памяти\n",
        "del model_simple, model_prof, model_exp"
      ],
      "execution_count": null,
      "outputs": []
    },
    {
      "cell_type": "markdown",
      "metadata": {
        "id": "Y6aJfTgo05bl"
      },
      "source": [
        "И это самый лучший результат. Очень хорошая цифра: 9 тыс. руб\n",
        "\n",
        "В финальной части мы создадим обещанную сложную нелинейную архитектуру нейронной сети. Мы создадим модель, у которой будет три входных набора данных:\n",
        "\n",
        "- числовой набор (это наша первая выборка)\n",
        "- текстовый набор (набор, содержащий информацию о должностях)\n",
        "- текстовый набор (набор, содержащий информацию об опыте работы)"
      ]
    },
    {
      "cell_type": "markdown",
      "metadata": {
        "id": "e4oZlPNMU8h5"
      },
      "source": [
        "##Обучение нейронной сети класса Model"
      ]
    },
    {
      "cell_type": "code",
      "metadata": {
        "id": "bj8AvjLDVBWz"
      },
      "source": [
        "input1 = Input((x_train_01.shape[1],))\n",
        "input2 = Input((x_train_prof_01.shape[1],))\n",
        "input3 = Input((x_train_exp_01.shape[1],))\n",
        "\n",
        "x1 = input1                               # Ветка 1\n",
        "x1 = Dense(128, activation=\"relu\")(x1)\n",
        "x1 = Dense(1000, activation=\"tanh\")(x1)\n",
        "x1 = Dense(100, activation=\"relu\")(x1)\n",
        "\n",
        "x2 = input2                               # Ветка 2\n",
        "x2 = Dense(20, activation=\"relu\")(x2)\n",
        "x2 = Dense(500, activation=\"relu\")(x2)\n",
        "x2 = Dropout(0.3)(x2)\n",
        "\n",
        "x3 = input3                               # Ветка 3\n",
        "x3 = Dense(30, activation=\"relu\")(x3)\n",
        "x3 = Dense(800, activation=\"relu\")(x3)\n",
        "x3 = Dropout(0.3)(x3)\n",
        "\n",
        "x = concatenate([x1, x2, x3])             # Объединение трех веток\n",
        "\n",
        "x = Dense(15, activation='relu')(x)       # Промежуточный слой\n",
        "x = Dropout(0.5)(x)\n",
        "x = Dense(1, activation='linear')(x)      # Финальный регрессирующий нейрон\n",
        "\n",
        "# В Model передаются входы и выход\n",
        "model_final = Model((input1, input2, input3), x)"
      ],
      "execution_count": null,
      "outputs": []
    },
    {
      "cell_type": "markdown",
      "metadata": {
        "id": "wPAYmesdVVXQ"
      },
      "source": [
        "Практическое отличие от модели Sequential в том, что мы определяем слои как переменные, и у каждого слоя указан его вход, то есть откуда ему приходят на вход данные, таким образом:\n",
        "\n",
        "    x1 = input1                               \n",
        "    x1 = Dense(128, activation=\"relu\")(x1) #(x1) - то, откуда придут данные на полносвязный слой\n",
        "\n",
        "Далее необходимо создать нашу нейронную сеть из класса Model. В качестве параметров нужно передать нейронные слои/слой, котрые являются входами сети, и нейронные слои/слой выхода сети.\n",
        "\n",
        "    model_final = Model((input1, input2, input3), x)"
      ]
    },
    {
      "cell_type": "code",
      "metadata": {
        "colab": {
          "base_uri": "https://localhost:8080/",
          "height": 480
        },
        "id": "O6azQrWE190B",
        "outputId": "e5961a0c-1db7-4538-d2f8-2199a8278bd3"
      },
      "source": [
        "utils.plot_model(model_final, dpi=60)"
      ],
      "execution_count": null,
      "outputs": [
        {
          "output_type": "execute_result",
          "data": {
            "image/png": "[encoded data removed]",
            "text/plain": [
              "<IPython.core.display.Image object>"
            ]
          },
          "metadata": {},
          "execution_count": 70
        }
      ]
    },
    {
      "cell_type": "markdown",
      "metadata": {
        "id": "KZjnJeUa2O0e"
      },
      "source": [
        "Вот так выглядит структура созданной нейронной сети"
      ]
    },
    {
      "cell_type": "markdown",
      "metadata": {
        "id": "7b2HuDOE_Cor"
      },
      "source": [
        "Остальные шаги выполняются практически так же как и для последовательной модели. В методе fit в качестве обучающих данных нужно передать спискок из наборов данных для каждого входа нейронной сети."
      ]
    },
    {
      "cell_type": "code",
      "metadata": {
        "colab": {
          "base_uri": "https://localhost:8080/"
        },
        "id": "OEDYUTEe_zYF",
        "outputId": "e38d7b0a-e671-4619-aa5b-938e57b165de"
      },
      "source": [
        "model_final.compile(optimizer=Adam(learning_rate=1e-3), loss='mse', metrics=['mae'])\n",
        "\n",
        "history = model_final.fit([x_train_01, x_train_prof_01, x_train_exp_01], \n",
        "                           y_train_scaled,\n",
        "                           batch_size=256, \n",
        "                           epochs=50, \n",
        "                           validation_split=0.15,\n",
        "                           verbose=1)"
      ],
      "execution_count": null,
      "outputs": [
        {
          "output_type": "stream",
          "name": "stdout",
          "text": [
            "Epoch 1/50\n",
            "210/210 [==============================] - 3s 9ms/step - loss: 0.6377 - mae: 0.4624 - val_loss: 0.5128 - val_mae: 0.4036\n",
            "Epoch 2/50\n",
            "210/210 [==============================] - 1s 7ms/step - loss: 0.4969 - mae: 0.4031 - val_loss: 0.4891 - val_mae: 0.3734\n",
            "Epoch 3/50\n",
            "210/210 [==============================] - 1s 7ms/step - loss: 0.4166 - mae: 0.3796 - val_loss: 0.4715 - val_mae: 0.3713\n",
            "Epoch 4/50\n",
            "210/210 [==============================] - 1s 7ms/step - loss: 0.3490 - mae: 0.3606 - val_loss: 0.4892 - val_mae: 0.3888\n",
            "Epoch 5/50\n",
            "210/210 [==============================] - 1s 7ms/step - loss: 0.3130 - mae: 0.3441 - val_loss: 0.4412 - val_mae: 0.3629\n",
            "Epoch 6/50\n",
            "210/210 [==============================] - 1s 7ms/step - loss: 0.3174 - mae: 0.3369 - val_loss: 0.4353 - val_mae: 0.3475\n",
            "Epoch 7/50\n",
            "210/210 [==============================] - 1s 7ms/step - loss: 0.2827 - mae: 0.3242 - val_loss: 0.4472 - val_mae: 0.3436\n",
            "Epoch 8/50\n",
            "210/210 [==============================] - 1s 7ms/step - loss: 0.2630 - mae: 0.3142 - val_loss: 0.4129 - val_mae: 0.3339\n",
            "Epoch 9/50\n",
            "210/210 [==============================] - 1s 7ms/step - loss: 0.2476 - mae: 0.3076 - val_loss: 0.4250 - val_mae: 0.3398\n",
            "Epoch 10/50\n",
            "210/210 [==============================] - 1s 7ms/step - loss: 0.2436 - mae: 0.3040 - val_loss: 0.4155 - val_mae: 0.3351\n",
            "Epoch 11/50\n",
            "210/210 [==============================] - 1s 7ms/step - loss: 0.2412 - mae: 0.2976 - val_loss: 0.4130 - val_mae: 0.3357\n",
            "Epoch 12/50\n",
            "210/210 [==============================] - 1s 7ms/step - loss: 0.2313 - mae: 0.2922 - val_loss: 0.4042 - val_mae: 0.3309\n",
            "Epoch 13/50\n",
            "210/210 [==============================] - 1s 7ms/step - loss: 0.2328 - mae: 0.2925 - val_loss: 0.4240 - val_mae: 0.3354\n",
            "Epoch 14/50\n",
            "210/210 [==============================] - 1s 7ms/step - loss: 0.2074 - mae: 0.2856 - val_loss: 0.4193 - val_mae: 0.3301\n",
            "Epoch 15/50\n",
            "210/210 [==============================] - 1s 7ms/step - loss: 0.2154 - mae: 0.2812 - val_loss: 0.4149 - val_mae: 0.3240\n",
            "Epoch 16/50\n",
            "210/210 [==============================] - 1s 7ms/step - loss: 0.1948 - mae: 0.2795 - val_loss: 0.4205 - val_mae: 0.3247\n",
            "Epoch 17/50\n",
            "210/210 [==============================] - 1s 7ms/step - loss: 0.2189 - mae: 0.2777 - val_loss: 0.4084 - val_mae: 0.3240\n",
            "Epoch 18/50\n",
            "210/210 [==============================] - 1s 7ms/step - loss: 0.1985 - mae: 0.2747 - val_loss: 0.4134 - val_mae: 0.3178\n",
            "Epoch 19/50\n",
            "210/210 [==============================] - 1s 7ms/step - loss: 0.1949 - mae: 0.2710 - val_loss: 0.4065 - val_mae: 0.3233\n",
            "Epoch 20/50\n",
            "210/210 [==============================] - 1s 7ms/step - loss: 0.1864 - mae: 0.2720 - val_loss: 0.4071 - val_mae: 0.3223\n",
            "Epoch 21/50\n",
            "210/210 [==============================] - 1s 7ms/step - loss: 0.1944 - mae: 0.2696 - val_loss: 0.4075 - val_mae: 0.3291\n",
            "Epoch 22/50\n",
            "210/210 [==============================] - 1s 7ms/step - loss: 0.2115 - mae: 0.2700 - val_loss: 0.4129 - val_mae: 0.3222\n",
            "Epoch 23/50\n",
            "210/210 [==============================] - 1s 7ms/step - loss: 0.1895 - mae: 0.2673 - val_loss: 0.3948 - val_mae: 0.3142\n",
            "Epoch 24/50\n",
            "210/210 [==============================] - 1s 7ms/step - loss: 0.1850 - mae: 0.2628 - val_loss: 0.3965 - val_mae: 0.3130\n",
            "Epoch 25/50\n",
            "210/210 [==============================] - 1s 7ms/step - loss: 0.1784 - mae: 0.2622 - val_loss: 0.4145 - val_mae: 0.3126\n",
            "Epoch 26/50\n",
            "210/210 [==============================] - 1s 7ms/step - loss: 0.1840 - mae: 0.2637 - val_loss: 0.4054 - val_mae: 0.3186\n",
            "Epoch 27/50\n",
            "210/210 [==============================] - 1s 7ms/step - loss: 0.1719 - mae: 0.2593 - val_loss: 0.4011 - val_mae: 0.3115\n",
            "Epoch 28/50\n",
            "210/210 [==============================] - 1s 7ms/step - loss: 0.1789 - mae: 0.2589 - val_loss: 0.4061 - val_mae: 0.3183\n",
            "Epoch 29/50\n",
            "210/210 [==============================] - 1s 7ms/step - loss: 0.1964 - mae: 0.2585 - val_loss: 0.4138 - val_mae: 0.3138\n",
            "Epoch 30/50\n",
            "210/210 [==============================] - 1s 7ms/step - loss: 0.2063 - mae: 0.2609 - val_loss: 0.4153 - val_mae: 0.3128\n",
            "Epoch 31/50\n",
            "210/210 [==============================] - 1s 7ms/step - loss: 0.1729 - mae: 0.2552 - val_loss: 0.4046 - val_mae: 0.3138\n",
            "Epoch 32/50\n",
            "210/210 [==============================] - 1s 7ms/step - loss: 0.2020 - mae: 0.2586 - val_loss: 0.3891 - val_mae: 0.3038\n",
            "Epoch 33/50\n",
            "210/210 [==============================] - 1s 7ms/step - loss: 0.1914 - mae: 0.2546 - val_loss: 0.3969 - val_mae: 0.3129\n",
            "Epoch 34/50\n",
            "210/210 [==============================] - 1s 7ms/step - loss: 0.1783 - mae: 0.2508 - val_loss: 0.4113 - val_mae: 0.3119\n",
            "Epoch 35/50\n",
            "210/210 [==============================] - 1s 7ms/step - loss: 0.1847 - mae: 0.2530 - val_loss: 0.3955 - val_mae: 0.3088\n",
            "Epoch 36/50\n",
            "210/210 [==============================] - 1s 7ms/step - loss: 0.1760 - mae: 0.2527 - val_loss: 0.3947 - val_mae: 0.3084\n",
            "Epoch 37/50\n",
            "210/210 [==============================] - 1s 7ms/step - loss: 0.1647 - mae: 0.2471 - val_loss: 0.4003 - val_mae: 0.3150\n",
            "Epoch 38/50\n",
            "210/210 [==============================] - 1s 7ms/step - loss: 0.1799 - mae: 0.2498 - val_loss: 0.3907 - val_mae: 0.3038\n",
            "Epoch 39/50\n",
            "210/210 [==============================] - 1s 7ms/step - loss: 0.1777 - mae: 0.2494 - val_loss: 0.3879 - val_mae: 0.3044\n",
            "Epoch 40/50\n",
            "210/210 [==============================] - 1s 7ms/step - loss: 0.1850 - mae: 0.2519 - val_loss: 0.3846 - val_mae: 0.3089\n",
            "Epoch 41/50\n",
            "210/210 [==============================] - 1s 7ms/step - loss: 0.1847 - mae: 0.2498 - val_loss: 0.4032 - val_mae: 0.3118\n",
            "Epoch 42/50\n",
            "210/210 [==============================] - 1s 7ms/step - loss: 0.1790 - mae: 0.2490 - val_loss: 0.3908 - val_mae: 0.3031\n",
            "Epoch 43/50\n",
            "210/210 [==============================] - 1s 7ms/step - loss: 0.1729 - mae: 0.2486 - val_loss: 0.3972 - val_mae: 0.3071\n",
            "Epoch 44/50\n",
            "210/210 [==============================] - 1s 7ms/step - loss: 0.1749 - mae: 0.2475 - val_loss: 0.3959 - val_mae: 0.3156\n",
            "Epoch 45/50\n",
            "210/210 [==============================] - 1s 7ms/step - loss: 0.1576 - mae: 0.2432 - val_loss: 0.3942 - val_mae: 0.3066\n",
            "Epoch 46/50\n",
            "210/210 [==============================] - 2s 7ms/step - loss: 0.1778 - mae: 0.2458 - val_loss: 0.3932 - val_mae: 0.3129\n",
            "Epoch 47/50\n",
            "210/210 [==============================] - 1s 7ms/step - loss: 0.1718 - mae: 0.2427 - val_loss: 0.3983 - val_mae: 0.3048\n",
            "Epoch 48/50\n",
            "210/210 [==============================] - 1s 7ms/step - loss: 0.1672 - mae: 0.2416 - val_loss: 0.4129 - val_mae: 0.3097\n",
            "Epoch 49/50\n",
            "210/210 [==============================] - 1s 7ms/step - loss: 0.1787 - mae: 0.2457 - val_loss: 0.3937 - val_mae: 0.3067\n",
            "Epoch 50/50\n",
            "210/210 [==============================] - 1s 7ms/step - loss: 0.2305 - mae: 0.2565 - val_loss: 0.3878 - val_mae: 0.3087\n"
          ]
        }
      ]
    },
    {
      "cell_type": "code",
      "metadata": {
        "colab": {
          "base_uri": "https://localhost:8080/",
          "height": 279
        },
        "id": "Y4SNDYXCBR-o",
        "outputId": "7f4a6322-bd0d-4124-9e43-8cbeecba0312"
      },
      "source": [
        "plot_history(history)"
      ],
      "execution_count": null,
      "outputs": [
        {
          "output_type": "display_data",
          "data": {
            "image/png": "[encoded data removed]",
            "text/plain": [
              "<Figure size 432x288 with 1 Axes>"
            ]
          },
          "metadata": {
            "needs_background": "light"
          }
        }
      ]
    },
    {
      "cell_type": "code",
      "metadata": {
        "colab": {
          "base_uri": "https://localhost:8080/",
          "height": 596
        },
        "id": "s2qSTV3I2iIh",
        "outputId": "e5ba36b2-96b9-48b9-e2fb-bc543bb4d172"
      },
      "source": [
        "eval_net(model_final, [x_train_01, x_train_prof_01, x_train_exp_01], y_train, y_scaler)"
      ],
      "execution_count": null,
      "outputs": [
        {
          "output_type": "stream",
          "name": "stdout",
          "text": [
            "Средняя абсолютная ошибка: 13.173538563491048 \n",
            "\n",
            "Реальное значение:  40.00  Предсказанное значение:  41.27  Разница:   1.27\n",
            "Реальное значение:  40.00  Предсказанное значение:  51.31  Разница:  11.31\n",
            "Реальное значение: 300.00  Предсказанное значение: 267.95  Разница:  32.05\n",
            "Реальное значение: 180.00  Предсказанное значение: 181.51  Разница:   1.51\n",
            "Реальное значение:  40.00  Предсказанное значение:  42.64  Разница:   2.64\n",
            "Реальное значение: 200.00  Предсказанное значение: 183.22  Разница:  16.78\n",
            "Реальное значение: 120.00  Предсказанное значение: 112.22  Разница:   7.78\n",
            "Реальное значение:  50.00  Предсказанное значение:  64.31  Разница:  14.31\n",
            "Реальное значение:  60.00  Предсказанное значение:  63.30  Разница:   3.30\n",
            "Реальное значение:  70.00  Предсказанное значение:  64.68  Разница:   5.32\n"
          ]
        },
        {
          "output_type": "display_data",
          "data": {
            "image/png": "[encoded data removed]",
            "text/plain": [
              "<Figure size 432x432 with 1 Axes>"
            ]
          },
          "metadata": {
            "needs_background": "light"
          }
        }
      ]
    },
    {
      "cell_type": "markdown",
      "metadata": {
        "id": "Gwf8U2lmv_6J"
      },
      "source": [
        "**Вывод**\n",
        "\n",
        "Мы провели несколько экспериментов с имеющимися данными. Получили две модели, дающие довольно хороший результат:\n",
        "- линейная модель на основе анализа опыта работы (Ошибка: 9 тыс. руб)\n",
        "- нелинейная модель на основе анализа всех имеющихся данных (Ошибка: 13 тыс. руб)\n",
        "\n",
        "Дальнейшая работа по улучшению показателей может вестись с двумя последними архитектурами\n"
      ]
    },
    {
      "cell_type": "markdown",
      "metadata": {
        "id": "_XSIV9Civq_t"
      },
      "source": [
        "**Содержание**:\n",
        "\n",
        "1. [Теория](https://colab.research.google.com/drive/16c4XGNRZk8QDmIvK8FLGkcjQSRPY5GX4?usp=sharing)\n",
        "2. Практический ноутбук"
      ]
    }
  ]
}