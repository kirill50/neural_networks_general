{
  "nbformat": 4,
  "nbformat_minor": 0,
  "metadata": {
    "colab": {
      "provenance": []
    },
    "kernelspec": {
      "display_name": "Python 3",
      "language": "python",
      "name": "python3"
    },
    "language_info": {
      "codemirror_mode": {
        "name": "ipython",
        "version": 3
      },
      "file_extension": ".py",
      "mimetype": "text/x-python",
      "name": "python",
      "nbconvert_exporter": "python",
      "pygments_lexer": "ipython3",
      "version": "3.7.0"
    },
    "widgets": {
      "application/vnd.jupyter.widget-state+json": {
        "09fd83220ed14777bc5e4f6c8f825cce": {
          "model_module": "@jupyter-widgets/controls",
          "model_name": "HBoxModel",
          "model_module_version": "1.5.0",
          "state": {
            "_view_name": "HBoxView",
            "_dom_classes": [],
            "_model_name": "HBoxModel",
            "_view_module": "@jupyter-widgets/controls",
            "_model_module_version": "1.5.0",
            "_view_count": null,
            "_view_module_version": "1.5.0",
            "box_style": "",
            "layout": "IPY_MODEL_a0c4bf42297043a3b1b2e34fda7a62fd",
            "_model_module": "@jupyter-widgets/controls",
            "children": [
              "IPY_MODEL_57c44ed884a9431790fa4e1decd70690",
              "IPY_MODEL_fb768fed2a86414faa23360f1ae68f2e"
            ]
          }
        },
        "a0c4bf42297043a3b1b2e34fda7a62fd": {
          "model_module": "@jupyter-widgets/base",
          "model_name": "LayoutModel",
          "model_module_version": "1.2.0",
          "state": {
            "_view_name": "LayoutView",
            "grid_template_rows": null,
            "right": null,
            "justify_content": null,
            "_view_module": "@jupyter-widgets/base",
            "overflow": null,
            "_model_module_version": "1.2.0",
            "_view_count": null,
            "flex_flow": null,
            "width": null,
            "min_width": null,
            "border": null,
            "align_items": null,
            "bottom": null,
            "_model_module": "@jupyter-widgets/base",
            "top": null,
            "grid_column": null,
            "overflow_y": null,
            "overflow_x": null,
            "grid_auto_flow": null,
            "grid_area": null,
            "grid_template_columns": null,
            "flex": null,
            "_model_name": "LayoutModel",
            "justify_items": null,
            "grid_row": null,
            "max_height": null,
            "align_content": null,
            "visibility": null,
            "align_self": null,
            "height": null,
            "min_height": null,
            "padding": null,
            "grid_auto_rows": null,
            "grid_gap": null,
            "max_width": null,
            "order": null,
            "_view_module_version": "1.2.0",
            "grid_template_areas": null,
            "object_position": null,
            "object_fit": null,
            "grid_auto_columns": null,
            "margin": null,
            "display": null,
            "left": null
          }
        },
        "57c44ed884a9431790fa4e1decd70690": {
          "model_module": "@jupyter-widgets/controls",
          "model_name": "ImageModel",
          "model_module_version": "1.5.0",
          "state": {
            "_view_name": "ImageView",
            "_dom_classes": [],
            "_model_name": "ImageModel",
            "format": "png",
            "_view_module": "@jupyter-widgets/controls",
            "_model_module_version": "1.5.0",
            "_view_count": null,
            "width": "",
            "_view_module_version": "1.5.0",
            "layout": "IPY_MODEL_532b2b4027fc46ce9313cb6351d253bc",
            "height": "",
            "_model_module": "@jupyter-widgets/controls"
          }
        },
        "fb768fed2a86414faa23360f1ae68f2e": {
          "model_module": "@jupyter-widgets/controls",
          "model_name": "ImageModel",
          "model_module_version": "1.5.0",
          "state": {
            "_view_name": "ImageView",
            "_dom_classes": [],
            "_model_name": "ImageModel",
            "format": "png",
            "_view_module": "@jupyter-widgets/controls",
            "_model_module_version": "1.5.0",
            "_view_count": null,
            "width": "",
            "_view_module_version": "1.5.0",
            "layout": "IPY_MODEL_05d13f96cfa94d0a90f7a2b0839a2c5a",
            "height": "",
            "_model_module": "@jupyter-widgets/controls"
          }
        },
        "532b2b4027fc46ce9313cb6351d253bc": {
          "model_module": "@jupyter-widgets/base",
          "model_name": "LayoutModel",
          "model_module_version": "1.2.0",
          "state": {
            "_view_name": "LayoutView",
            "grid_template_rows": null,
            "right": null,
            "justify_content": null,
            "_view_module": "@jupyter-widgets/base",
            "overflow": null,
            "_model_module_version": "1.2.0",
            "_view_count": null,
            "flex_flow": null,
            "width": null,
            "min_width": null,
            "border": null,
            "align_items": null,
            "bottom": null,
            "_model_module": "@jupyter-widgets/base",
            "top": null,
            "grid_column": null,
            "overflow_y": null,
            "overflow_x": null,
            "grid_auto_flow": null,
            "grid_area": null,
            "grid_template_columns": null,
            "flex": null,
            "_model_name": "LayoutModel",
            "justify_items": null,
            "grid_row": null,
            "max_height": null,
            "align_content": null,
            "visibility": null,
            "align_self": null,
            "height": null,
            "min_height": null,
            "padding": null,
            "grid_auto_rows": null,
            "grid_gap": null,
            "max_width": null,
            "order": null,
            "_view_module_version": "1.2.0",
            "grid_template_areas": null,
            "object_position": null,
            "object_fit": null,
            "grid_auto_columns": null,
            "margin": null,
            "display": null,
            "left": null
          }
        },
        "05d13f96cfa94d0a90f7a2b0839a2c5a": {
          "model_module": "@jupyter-widgets/base",
          "model_name": "LayoutModel",
          "model_module_version": "1.2.0",
          "state": {
            "_view_name": "LayoutView",
            "grid_template_rows": null,
            "right": null,
            "justify_content": null,
            "_view_module": "@jupyter-widgets/base",
            "overflow": null,
            "_model_module_version": "1.2.0",
            "_view_count": null,
            "flex_flow": null,
            "width": null,
            "min_width": null,
            "border": null,
            "align_items": null,
            "bottom": null,
            "_model_module": "@jupyter-widgets/base",
            "top": null,
            "grid_column": null,
            "overflow_y": null,
            "overflow_x": null,
            "grid_auto_flow": null,
            "grid_area": null,
            "grid_template_columns": null,
            "flex": null,
            "_model_name": "LayoutModel",
            "justify_items": null,
            "grid_row": null,
            "max_height": null,
            "align_content": null,
            "visibility": null,
            "align_self": null,
            "height": null,
            "min_height": null,
            "padding": null,
            "grid_auto_rows": null,
            "grid_gap": null,
            "max_width": null,
            "order": null,
            "_view_module_version": "1.2.0",
            "grid_template_areas": null,
            "object_position": null,
            "object_fit": null,
            "grid_auto_columns": null,
            "margin": null,
            "display": null,
            "left": null
          }
        },
        "f749a0c94ad34c0d8a9936c756cd1ec9": {
          "model_module": "@jupyter-widgets/controls",
          "model_name": "HBoxModel",
          "model_module_version": "1.5.0",
          "state": {
            "_view_name": "HBoxView",
            "_dom_classes": [],
            "_model_name": "HBoxModel",
            "_view_module": "@jupyter-widgets/controls",
            "_model_module_version": "1.5.0",
            "_view_count": null,
            "_view_module_version": "1.5.0",
            "box_style": "",
            "layout": "IPY_MODEL_9af459ae862b4db18b354bb249686a03",
            "_model_module": "@jupyter-widgets/controls",
            "children": [
              "IPY_MODEL_b15584eeff5d4f089f525c3ac3ee14a2",
              "IPY_MODEL_d7fdf1fefd8e43c3b46245f66c78c69f"
            ]
          }
        },
        "9af459ae862b4db18b354bb249686a03": {
          "model_module": "@jupyter-widgets/base",
          "model_name": "LayoutModel",
          "model_module_version": "1.2.0",
          "state": {
            "_view_name": "LayoutView",
            "grid_template_rows": null,
            "right": null,
            "justify_content": null,
            "_view_module": "@jupyter-widgets/base",
            "overflow": null,
            "_model_module_version": "1.2.0",
            "_view_count": null,
            "flex_flow": null,
            "width": null,
            "min_width": null,
            "border": null,
            "align_items": null,
            "bottom": null,
            "_model_module": "@jupyter-widgets/base",
            "top": null,
            "grid_column": null,
            "overflow_y": null,
            "overflow_x": null,
            "grid_auto_flow": null,
            "grid_area": null,
            "grid_template_columns": null,
            "flex": null,
            "_model_name": "LayoutModel",
            "justify_items": null,
            "grid_row": null,
            "max_height": null,
            "align_content": null,
            "visibility": null,
            "align_self": null,
            "height": null,
            "min_height": null,
            "padding": null,
            "grid_auto_rows": null,
            "grid_gap": null,
            "max_width": null,
            "order": null,
            "_view_module_version": "1.2.0",
            "grid_template_areas": null,
            "object_position": null,
            "object_fit": null,
            "grid_auto_columns": null,
            "margin": null,
            "display": null,
            "left": null
          }
        },
        "b15584eeff5d4f089f525c3ac3ee14a2": {
          "model_module": "@jupyter-widgets/controls",
          "model_name": "ImageModel",
          "model_module_version": "1.5.0",
          "state": {
            "_view_name": "ImageView",
            "_dom_classes": [],
            "_model_name": "ImageModel",
            "format": "png",
            "_view_module": "@jupyter-widgets/controls",
            "_model_module_version": "1.5.0",
            "_view_count": null,
            "width": "",
            "_view_module_version": "1.5.0",
            "layout": "IPY_MODEL_cdb7fd76c6e248478e27cf8f614a0a72",
            "height": "",
            "_model_module": "@jupyter-widgets/controls"
          }
        },
        "d7fdf1fefd8e43c3b46245f66c78c69f": {
          "model_module": "@jupyter-widgets/controls",
          "model_name": "ImageModel",
          "model_module_version": "1.5.0",
          "state": {
            "_view_name": "ImageView",
            "_dom_classes": [],
            "_model_name": "ImageModel",
            "format": "png",
            "_view_module": "@jupyter-widgets/controls",
            "_model_module_version": "1.5.0",
            "_view_count": null,
            "width": "",
            "_view_module_version": "1.5.0",
            "layout": "IPY_MODEL_3e25ba181ef146838f166b0c1fc1ca4b",
            "height": "",
            "_model_module": "@jupyter-widgets/controls"
          }
        },
        "cdb7fd76c6e248478e27cf8f614a0a72": {
          "model_module": "@jupyter-widgets/base",
          "model_name": "LayoutModel",
          "model_module_version": "1.2.0",
          "state": {
            "_view_name": "LayoutView",
            "grid_template_rows": null,
            "right": null,
            "justify_content": null,
            "_view_module": "@jupyter-widgets/base",
            "overflow": null,
            "_model_module_version": "1.2.0",
            "_view_count": null,
            "flex_flow": null,
            "width": null,
            "min_width": null,
            "border": null,
            "align_items": null,
            "bottom": null,
            "_model_module": "@jupyter-widgets/base",
            "top": null,
            "grid_column": null,
            "overflow_y": null,
            "overflow_x": null,
            "grid_auto_flow": null,
            "grid_area": null,
            "grid_template_columns": null,
            "flex": null,
            "_model_name": "LayoutModel",
            "justify_items": null,
            "grid_row": null,
            "max_height": null,
            "align_content": null,
            "visibility": null,
            "align_self": null,
            "height": null,
            "min_height": null,
            "padding": null,
            "grid_auto_rows": null,
            "grid_gap": null,
            "max_width": null,
            "order": null,
            "_view_module_version": "1.2.0",
            "grid_template_areas": null,
            "object_position": null,
            "object_fit": null,
            "grid_auto_columns": null,
            "margin": null,
            "display": null,
            "left": null
          }
        },
        "3e25ba181ef146838f166b0c1fc1ca4b": {
          "model_module": "@jupyter-widgets/base",
          "model_name": "LayoutModel",
          "model_module_version": "1.2.0",
          "state": {
            "_view_name": "LayoutView",
            "grid_template_rows": null,
            "right": null,
            "justify_content": null,
            "_view_module": "@jupyter-widgets/base",
            "overflow": null,
            "_model_module_version": "1.2.0",
            "_view_count": null,
            "flex_flow": null,
            "width": null,
            "min_width": null,
            "border": null,
            "align_items": null,
            "bottom": null,
            "_model_module": "@jupyter-widgets/base",
            "top": null,
            "grid_column": null,
            "overflow_y": null,
            "overflow_x": null,
            "grid_auto_flow": null,
            "grid_area": null,
            "grid_template_columns": null,
            "flex": null,
            "_model_name": "LayoutModel",
            "justify_items": null,
            "grid_row": null,
            "max_height": null,
            "align_content": null,
            "visibility": null,
            "align_self": null,
            "height": null,
            "min_height": null,
            "padding": null,
            "grid_auto_rows": null,
            "grid_gap": null,
            "max_width": null,
            "order": null,
            "_view_module_version": "1.2.0",
            "grid_template_areas": null,
            "object_position": null,
            "object_fit": null,
            "grid_auto_columns": null,
            "margin": null,
            "display": null,
            "left": null
          }
        },
        "03ccad4224d6470f909ee46486bb99bc": {
          "model_module": "@jupyter-widgets/controls",
          "model_name": "HBoxModel",
          "model_module_version": "1.5.0",
          "state": {
            "_view_name": "HBoxView",
            "_dom_classes": [],
            "_model_name": "HBoxModel",
            "_view_module": "@jupyter-widgets/controls",
            "_model_module_version": "1.5.0",
            "_view_count": null,
            "_view_module_version": "1.5.0",
            "box_style": "",
            "layout": "IPY_MODEL_51f4279d5caa4754970098cc761ddaa7",
            "_model_module": "@jupyter-widgets/controls",
            "children": [
              "IPY_MODEL_f92395c5b8ad4ec989c94210778a40c2",
              "IPY_MODEL_b1d9944ddefd44758f193bd2f182ed86"
            ]
          }
        },
        "51f4279d5caa4754970098cc761ddaa7": {
          "model_module": "@jupyter-widgets/base",
          "model_name": "LayoutModel",
          "model_module_version": "1.2.0",
          "state": {
            "_view_name": "LayoutView",
            "grid_template_rows": null,
            "right": null,
            "justify_content": null,
            "_view_module": "@jupyter-widgets/base",
            "overflow": null,
            "_model_module_version": "1.2.0",
            "_view_count": null,
            "flex_flow": null,
            "width": null,
            "min_width": null,
            "border": null,
            "align_items": null,
            "bottom": null,
            "_model_module": "@jupyter-widgets/base",
            "top": null,
            "grid_column": null,
            "overflow_y": null,
            "overflow_x": null,
            "grid_auto_flow": null,
            "grid_area": null,
            "grid_template_columns": null,
            "flex": null,
            "_model_name": "LayoutModel",
            "justify_items": null,
            "grid_row": null,
            "max_height": null,
            "align_content": null,
            "visibility": null,
            "align_self": null,
            "height": null,
            "min_height": null,
            "padding": null,
            "grid_auto_rows": null,
            "grid_gap": null,
            "max_width": null,
            "order": null,
            "_view_module_version": "1.2.0",
            "grid_template_areas": null,
            "object_position": null,
            "object_fit": null,
            "grid_auto_columns": null,
            "margin": null,
            "display": null,
            "left": null
          }
        },
        "f92395c5b8ad4ec989c94210778a40c2": {
          "model_module": "@jupyter-widgets/controls",
          "model_name": "ImageModel",
          "model_module_version": "1.5.0",
          "state": {
            "_view_name": "ImageView",
            "_dom_classes": [],
            "_model_name": "ImageModel",
            "format": "png",
            "_view_module": "@jupyter-widgets/controls",
            "_model_module_version": "1.5.0",
            "_view_count": null,
            "width": "",
            "_view_module_version": "1.5.0",
            "layout": "IPY_MODEL_d9596c8808c34b89abf10108ed754a38",
            "height": "",
            "_model_module": "@jupyter-widgets/controls"
          }
        },
        "b1d9944ddefd44758f193bd2f182ed86": {
          "model_module": "@jupyter-widgets/controls",
          "model_name": "ImageModel",
          "model_module_version": "1.5.0",
          "state": {
            "_view_name": "ImageView",
            "_dom_classes": [],
            "_model_name": "ImageModel",
            "format": "png",
            "_view_module": "@jupyter-widgets/controls",
            "_model_module_version": "1.5.0",
            "_view_count": null,
            "width": "",
            "_view_module_version": "1.5.0",
            "layout": "IPY_MODEL_1e098f0cdb3e4814b92edcf2f34ebb89",
            "height": "",
            "_model_module": "@jupyter-widgets/controls"
          }
        },
        "d9596c8808c34b89abf10108ed754a38": {
          "model_module": "@jupyter-widgets/base",
          "model_name": "LayoutModel",
          "model_module_version": "1.2.0",
          "state": {
            "_view_name": "LayoutView",
            "grid_template_rows": null,
            "right": null,
            "justify_content": null,
            "_view_module": "@jupyter-widgets/base",
            "overflow": null,
            "_model_module_version": "1.2.0",
            "_view_count": null,
            "flex_flow": null,
            "width": null,
            "min_width": null,
            "border": null,
            "align_items": null,
            "bottom": null,
            "_model_module": "@jupyter-widgets/base",
            "top": null,
            "grid_column": null,
            "overflow_y": null,
            "overflow_x": null,
            "grid_auto_flow": null,
            "grid_area": null,
            "grid_template_columns": null,
            "flex": null,
            "_model_name": "LayoutModel",
            "justify_items": null,
            "grid_row": null,
            "max_height": null,
            "align_content": null,
            "visibility": null,
            "align_self": null,
            "height": null,
            "min_height": null,
            "padding": null,
            "grid_auto_rows": null,
            "grid_gap": null,
            "max_width": null,
            "order": null,
            "_view_module_version": "1.2.0",
            "grid_template_areas": null,
            "object_position": null,
            "object_fit": null,
            "grid_auto_columns": null,
            "margin": null,
            "display": null,
            "left": null
          }
        },
        "1e098f0cdb3e4814b92edcf2f34ebb89": {
          "model_module": "@jupyter-widgets/base",
          "model_name": "LayoutModel",
          "model_module_version": "1.2.0",
          "state": {
            "_view_name": "LayoutView",
            "grid_template_rows": null,
            "right": null,
            "justify_content": null,
            "_view_module": "@jupyter-widgets/base",
            "overflow": null,
            "_model_module_version": "1.2.0",
            "_view_count": null,
            "flex_flow": null,
            "width": null,
            "min_width": null,
            "border": null,
            "align_items": null,
            "bottom": null,
            "_model_module": "@jupyter-widgets/base",
            "top": null,
            "grid_column": null,
            "overflow_y": null,
            "overflow_x": null,
            "grid_auto_flow": null,
            "grid_area": null,
            "grid_template_columns": null,
            "flex": null,
            "_model_name": "LayoutModel",
            "justify_items": null,
            "grid_row": null,
            "max_height": null,
            "align_content": null,
            "visibility": null,
            "align_self": null,
            "height": null,
            "min_height": null,
            "padding": null,
            "grid_auto_rows": null,
            "grid_gap": null,
            "max_width": null,
            "order": null,
            "_view_module_version": "1.2.0",
            "grid_template_areas": null,
            "object_position": null,
            "object_fit": null,
            "grid_auto_columns": null,
            "margin": null,
            "display": null,
            "left": null
          }
        },
        "61ae89b7b2f74476872944c4a9da365c": {
          "model_module": "@jupyter-widgets/controls",
          "model_name": "HBoxModel",
          "model_module_version": "1.5.0",
          "state": {
            "_view_name": "HBoxView",
            "_dom_classes": [],
            "_model_name": "HBoxModel",
            "_view_module": "@jupyter-widgets/controls",
            "_model_module_version": "1.5.0",
            "_view_count": null,
            "_view_module_version": "1.5.0",
            "box_style": "",
            "layout": "IPY_MODEL_453e98f21d66490db9b6d72f341b8ca7",
            "_model_module": "@jupyter-widgets/controls",
            "children": [
              "IPY_MODEL_d35e90b56a854ab5b13c7c373c6c6b22",
              "IPY_MODEL_efe8e70e37574480b1d4a9009d806bcd"
            ]
          }
        },
        "453e98f21d66490db9b6d72f341b8ca7": {
          "model_module": "@jupyter-widgets/base",
          "model_name": "LayoutModel",
          "model_module_version": "1.2.0",
          "state": {
            "_view_name": "LayoutView",
            "grid_template_rows": null,
            "right": null,
            "justify_content": null,
            "_view_module": "@jupyter-widgets/base",
            "overflow": null,
            "_model_module_version": "1.2.0",
            "_view_count": null,
            "flex_flow": null,
            "width": null,
            "min_width": null,
            "border": null,
            "align_items": null,
            "bottom": null,
            "_model_module": "@jupyter-widgets/base",
            "top": null,
            "grid_column": null,
            "overflow_y": null,
            "overflow_x": null,
            "grid_auto_flow": null,
            "grid_area": null,
            "grid_template_columns": null,
            "flex": null,
            "_model_name": "LayoutModel",
            "justify_items": null,
            "grid_row": null,
            "max_height": null,
            "align_content": null,
            "visibility": null,
            "align_self": null,
            "height": null,
            "min_height": null,
            "padding": null,
            "grid_auto_rows": null,
            "grid_gap": null,
            "max_width": null,
            "order": null,
            "_view_module_version": "1.2.0",
            "grid_template_areas": null,
            "object_position": null,
            "object_fit": null,
            "grid_auto_columns": null,
            "margin": null,
            "display": null,
            "left": null
          }
        },
        "d35e90b56a854ab5b13c7c373c6c6b22": {
          "model_module": "@jupyter-widgets/controls",
          "model_name": "ImageModel",
          "model_module_version": "1.5.0",
          "state": {
            "_view_name": "ImageView",
            "_dom_classes": [],
            "_model_name": "ImageModel",
            "format": "png",
            "_view_module": "@jupyter-widgets/controls",
            "_model_module_version": "1.5.0",
            "_view_count": null,
            "width": "",
            "_view_module_version": "1.5.0",
            "layout": "IPY_MODEL_d0994d86e1d4484ebde21cfb3a300998",
            "height": "",
            "_model_module": "@jupyter-widgets/controls"
          }
        },
        "efe8e70e37574480b1d4a9009d806bcd": {
          "model_module": "@jupyter-widgets/controls",
          "model_name": "ImageModel",
          "model_module_version": "1.5.0",
          "state": {
            "_view_name": "ImageView",
            "_dom_classes": [],
            "_model_name": "ImageModel",
            "format": "png",
            "_view_module": "@jupyter-widgets/controls",
            "_model_module_version": "1.5.0",
            "_view_count": null,
            "width": "",
            "_view_module_version": "1.5.0",
            "layout": "IPY_MODEL_355046bef22741fc9be0af2bc64ecb2d",
            "height": "",
            "_model_module": "@jupyter-widgets/controls"
          }
        },
        "d0994d86e1d4484ebde21cfb3a300998": {
          "model_module": "@jupyter-widgets/base",
          "model_name": "LayoutModel",
          "model_module_version": "1.2.0",
          "state": {
            "_view_name": "LayoutView",
            "grid_template_rows": null,
            "right": null,
            "justify_content": null,
            "_view_module": "@jupyter-widgets/base",
            "overflow": null,
            "_model_module_version": "1.2.0",
            "_view_count": null,
            "flex_flow": null,
            "width": null,
            "min_width": null,
            "border": null,
            "align_items": null,
            "bottom": null,
            "_model_module": "@jupyter-widgets/base",
            "top": null,
            "grid_column": null,
            "overflow_y": null,
            "overflow_x": null,
            "grid_auto_flow": null,
            "grid_area": null,
            "grid_template_columns": null,
            "flex": null,
            "_model_name": "LayoutModel",
            "justify_items": null,
            "grid_row": null,
            "max_height": null,
            "align_content": null,
            "visibility": null,
            "align_self": null,
            "height": null,
            "min_height": null,
            "padding": null,
            "grid_auto_rows": null,
            "grid_gap": null,
            "max_width": null,
            "order": null,
            "_view_module_version": "1.2.0",
            "grid_template_areas": null,
            "object_position": null,
            "object_fit": null,
            "grid_auto_columns": null,
            "margin": null,
            "display": null,
            "left": null
          }
        },
        "355046bef22741fc9be0af2bc64ecb2d": {
          "model_module": "@jupyter-widgets/base",
          "model_name": "LayoutModel",
          "model_module_version": "1.2.0",
          "state": {
            "_view_name": "LayoutView",
            "grid_template_rows": null,
            "right": null,
            "justify_content": null,
            "_view_module": "@jupyter-widgets/base",
            "overflow": null,
            "_model_module_version": "1.2.0",
            "_view_count": null,
            "flex_flow": null,
            "width": null,
            "min_width": null,
            "border": null,
            "align_items": null,
            "bottom": null,
            "_model_module": "@jupyter-widgets/base",
            "top": null,
            "grid_column": null,
            "overflow_y": null,
            "overflow_x": null,
            "grid_auto_flow": null,
            "grid_area": null,
            "grid_template_columns": null,
            "flex": null,
            "_model_name": "LayoutModel",
            "justify_items": null,
            "grid_row": null,
            "max_height": null,
            "align_content": null,
            "visibility": null,
            "align_self": null,
            "height": null,
            "min_height": null,
            "padding": null,
            "grid_auto_rows": null,
            "grid_gap": null,
            "max_width": null,
            "order": null,
            "_view_module_version": "1.2.0",
            "grid_template_areas": null,
            "object_position": null,
            "object_fit": null,
            "grid_auto_columns": null,
            "margin": null,
            "display": null,
            "left": null
          }
        },
        "8d81a8ff0cda4c71bf1df3987ce6449b": {
          "model_module": "@jupyter-widgets/controls",
          "model_name": "HBoxModel",
          "model_module_version": "1.5.0",
          "state": {
            "_view_name": "HBoxView",
            "_dom_classes": [],
            "_model_name": "HBoxModel",
            "_view_module": "@jupyter-widgets/controls",
            "_model_module_version": "1.5.0",
            "_view_count": null,
            "_view_module_version": "1.5.0",
            "box_style": "",
            "layout": "IPY_MODEL_0f313b9cdc3f43488dcc6e93ad752c7a",
            "_model_module": "@jupyter-widgets/controls",
            "children": [
              "IPY_MODEL_4cf7b390d2ee4da9b5a3f438eaec26c1",
              "IPY_MODEL_619dc43f8dec491e94869e980e2ad0e0"
            ]
          }
        },
        "0f313b9cdc3f43488dcc6e93ad752c7a": {
          "model_module": "@jupyter-widgets/base",
          "model_name": "LayoutModel",
          "model_module_version": "1.2.0",
          "state": {
            "_view_name": "LayoutView",
            "grid_template_rows": null,
            "right": null,
            "justify_content": null,
            "_view_module": "@jupyter-widgets/base",
            "overflow": null,
            "_model_module_version": "1.2.0",
            "_view_count": null,
            "flex_flow": null,
            "width": null,
            "min_width": null,
            "border": null,
            "align_items": null,
            "bottom": null,
            "_model_module": "@jupyter-widgets/base",
            "top": null,
            "grid_column": null,
            "overflow_y": null,
            "overflow_x": null,
            "grid_auto_flow": null,
            "grid_area": null,
            "grid_template_columns": null,
            "flex": null,
            "_model_name": "LayoutModel",
            "justify_items": null,
            "grid_row": null,
            "max_height": null,
            "align_content": null,
            "visibility": null,
            "align_self": null,
            "height": null,
            "min_height": null,
            "padding": null,
            "grid_auto_rows": null,
            "grid_gap": null,
            "max_width": null,
            "order": null,
            "_view_module_version": "1.2.0",
            "grid_template_areas": null,
            "object_position": null,
            "object_fit": null,
            "grid_auto_columns": null,
            "margin": null,
            "display": null,
            "left": null
          }
        },
        "4cf7b390d2ee4da9b5a3f438eaec26c1": {
          "model_module": "@jupyter-widgets/controls",
          "model_name": "ImageModel",
          "model_module_version": "1.5.0",
          "state": {
            "_view_name": "ImageView",
            "_dom_classes": [],
            "_model_name": "ImageModel",
            "format": "png",
            "_view_module": "@jupyter-widgets/controls",
            "_model_module_version": "1.5.0",
            "_view_count": null,
            "width": "",
            "_view_module_version": "1.5.0",
            "layout": "IPY_MODEL_432c14c9558642a99ffa72ad0f05fcaf",
            "height": "",
            "_model_module": "@jupyter-widgets/controls"
          }
        },
        "619dc43f8dec491e94869e980e2ad0e0": {
          "model_module": "@jupyter-widgets/controls",
          "model_name": "ImageModel",
          "model_module_version": "1.5.0",
          "state": {
            "_view_name": "ImageView",
            "_dom_classes": [],
            "_model_name": "ImageModel",
            "format": "png",
            "_view_module": "@jupyter-widgets/controls",
            "_model_module_version": "1.5.0",
            "_view_count": null,
            "width": "",
            "_view_module_version": "1.5.0",
            "layout": "IPY_MODEL_cf25038d78384145a5fb373e789cca98",
            "height": "",
            "_model_module": "@jupyter-widgets/controls"
          }
        },
        "432c14c9558642a99ffa72ad0f05fcaf": {
          "model_module": "@jupyter-widgets/base",
          "model_name": "LayoutModel",
          "model_module_version": "1.2.0",
          "state": {
            "_view_name": "LayoutView",
            "grid_template_rows": null,
            "right": null,
            "justify_content": null,
            "_view_module": "@jupyter-widgets/base",
            "overflow": null,
            "_model_module_version": "1.2.0",
            "_view_count": null,
            "flex_flow": null,
            "width": null,
            "min_width": null,
            "border": null,
            "align_items": null,
            "bottom": null,
            "_model_module": "@jupyter-widgets/base",
            "top": null,
            "grid_column": null,
            "overflow_y": null,
            "overflow_x": null,
            "grid_auto_flow": null,
            "grid_area": null,
            "grid_template_columns": null,
            "flex": null,
            "_model_name": "LayoutModel",
            "justify_items": null,
            "grid_row": null,
            "max_height": null,
            "align_content": null,
            "visibility": null,
            "align_self": null,
            "height": null,
            "min_height": null,
            "padding": null,
            "grid_auto_rows": null,
            "grid_gap": null,
            "max_width": null,
            "order": null,
            "_view_module_version": "1.2.0",
            "grid_template_areas": null,
            "object_position": null,
            "object_fit": null,
            "grid_auto_columns": null,
            "margin": null,
            "display": null,
            "left": null
          }
        },
        "cf25038d78384145a5fb373e789cca98": {
          "model_module": "@jupyter-widgets/base",
          "model_name": "LayoutModel",
          "model_module_version": "1.2.0",
          "state": {
            "_view_name": "LayoutView",
            "grid_template_rows": null,
            "right": null,
            "justify_content": null,
            "_view_module": "@jupyter-widgets/base",
            "overflow": null,
            "_model_module_version": "1.2.0",
            "_view_count": null,
            "flex_flow": null,
            "width": null,
            "min_width": null,
            "border": null,
            "align_items": null,
            "bottom": null,
            "_model_module": "@jupyter-widgets/base",
            "top": null,
            "grid_column": null,
            "overflow_y": null,
            "overflow_x": null,
            "grid_auto_flow": null,
            "grid_area": null,
            "grid_template_columns": null,
            "flex": null,
            "_model_name": "LayoutModel",
            "justify_items": null,
            "grid_row": null,
            "max_height": null,
            "align_content": null,
            "visibility": null,
            "align_self": null,
            "height": null,
            "min_height": null,
            "padding": null,
            "grid_auto_rows": null,
            "grid_gap": null,
            "max_width": null,
            "order": null,
            "_view_module_version": "1.2.0",
            "grid_template_areas": null,
            "object_position": null,
            "object_fit": null,
            "grid_auto_columns": null,
            "margin": null,
            "display": null,
            "left": null
          }
        },
        "a3620e9b71d14fef852267f4c7887dd5": {
          "model_module": "@jupyter-widgets/controls",
          "model_name": "HBoxModel",
          "model_module_version": "1.5.0",
          "state": {
            "_view_name": "HBoxView",
            "_dom_classes": [],
            "_model_name": "HBoxModel",
            "_view_module": "@jupyter-widgets/controls",
            "_model_module_version": "1.5.0",
            "_view_count": null,
            "_view_module_version": "1.5.0",
            "box_style": "",
            "layout": "IPY_MODEL_17412ce7e2e7444b99fa26a5f62e95d0",
            "_model_module": "@jupyter-widgets/controls",
            "children": [
              "IPY_MODEL_e40ab02003304b2a80c7129e3d718794",
              "IPY_MODEL_ef0633fe20c64daf86da45dff83902cc"
            ]
          }
        },
        "17412ce7e2e7444b99fa26a5f62e95d0": {
          "model_module": "@jupyter-widgets/base",
          "model_name": "LayoutModel",
          "model_module_version": "1.2.0",
          "state": {
            "_view_name": "LayoutView",
            "grid_template_rows": null,
            "right": null,
            "justify_content": null,
            "_view_module": "@jupyter-widgets/base",
            "overflow": null,
            "_model_module_version": "1.2.0",
            "_view_count": null,
            "flex_flow": null,
            "width": null,
            "min_width": null,
            "border": null,
            "align_items": null,
            "bottom": null,
            "_model_module": "@jupyter-widgets/base",
            "top": null,
            "grid_column": null,
            "overflow_y": null,
            "overflow_x": null,
            "grid_auto_flow": null,
            "grid_area": null,
            "grid_template_columns": null,
            "flex": null,
            "_model_name": "LayoutModel",
            "justify_items": null,
            "grid_row": null,
            "max_height": null,
            "align_content": null,
            "visibility": null,
            "align_self": null,
            "height": null,
            "min_height": null,
            "padding": null,
            "grid_auto_rows": null,
            "grid_gap": null,
            "max_width": null,
            "order": null,
            "_view_module_version": "1.2.0",
            "grid_template_areas": null,
            "object_position": null,
            "object_fit": null,
            "grid_auto_columns": null,
            "margin": null,
            "display": null,
            "left": null
          }
        },
        "e40ab02003304b2a80c7129e3d718794": {
          "model_module": "@jupyter-widgets/controls",
          "model_name": "ImageModel",
          "model_module_version": "1.5.0",
          "state": {
            "_view_name": "ImageView",
            "_dom_classes": [],
            "_model_name": "ImageModel",
            "format": "png",
            "_view_module": "@jupyter-widgets/controls",
            "_model_module_version": "1.5.0",
            "_view_count": null,
            "width": "",
            "_view_module_version": "1.5.0",
            "layout": "IPY_MODEL_fa5d73381c9847059ac966c128ba3e18",
            "height": "",
            "_model_module": "@jupyter-widgets/controls"
          }
        },
        "ef0633fe20c64daf86da45dff83902cc": {
          "model_module": "@jupyter-widgets/controls",
          "model_name": "ImageModel",
          "model_module_version": "1.5.0",
          "state": {
            "_view_name": "ImageView",
            "_dom_classes": [],
            "_model_name": "ImageModel",
            "format": "png",
            "_view_module": "@jupyter-widgets/controls",
            "_model_module_version": "1.5.0",
            "_view_count": null,
            "width": "",
            "_view_module_version": "1.5.0",
            "layout": "IPY_MODEL_810eb364e4cc4309a372cbeea26f4f3d",
            "height": "",
            "_model_module": "@jupyter-widgets/controls"
          }
        },
        "fa5d73381c9847059ac966c128ba3e18": {
          "model_module": "@jupyter-widgets/base",
          "model_name": "LayoutModel",
          "model_module_version": "1.2.0",
          "state": {
            "_view_name": "LayoutView",
            "grid_template_rows": null,
            "right": null,
            "justify_content": null,
            "_view_module": "@jupyter-widgets/base",
            "overflow": null,
            "_model_module_version": "1.2.0",
            "_view_count": null,
            "flex_flow": null,
            "width": null,
            "min_width": null,
            "border": null,
            "align_items": null,
            "bottom": null,
            "_model_module": "@jupyter-widgets/base",
            "top": null,
            "grid_column": null,
            "overflow_y": null,
            "overflow_x": null,
            "grid_auto_flow": null,
            "grid_area": null,
            "grid_template_columns": null,
            "flex": null,
            "_model_name": "LayoutModel",
            "justify_items": null,
            "grid_row": null,
            "max_height": null,
            "align_content": null,
            "visibility": null,
            "align_self": null,
            "height": null,
            "min_height": null,
            "padding": null,
            "grid_auto_rows": null,
            "grid_gap": null,
            "max_width": null,
            "order": null,
            "_view_module_version": "1.2.0",
            "grid_template_areas": null,
            "object_position": null,
            "object_fit": null,
            "grid_auto_columns": null,
            "margin": null,
            "display": null,
            "left": null
          }
        },
        "810eb364e4cc4309a372cbeea26f4f3d": {
          "model_module": "@jupyter-widgets/base",
          "model_name": "LayoutModel",
          "model_module_version": "1.2.0",
          "state": {
            "_view_name": "LayoutView",
            "grid_template_rows": null,
            "right": null,
            "justify_content": null,
            "_view_module": "@jupyter-widgets/base",
            "overflow": null,
            "_model_module_version": "1.2.0",
            "_view_count": null,
            "flex_flow": null,
            "width": null,
            "min_width": null,
            "border": null,
            "align_items": null,
            "bottom": null,
            "_model_module": "@jupyter-widgets/base",
            "top": null,
            "grid_column": null,
            "overflow_y": null,
            "overflow_x": null,
            "grid_auto_flow": null,
            "grid_area": null,
            "grid_template_columns": null,
            "flex": null,
            "_model_name": "LayoutModel",
            "justify_items": null,
            "grid_row": null,
            "max_height": null,
            "align_content": null,
            "visibility": null,
            "align_self": null,
            "height": null,
            "min_height": null,
            "padding": null,
            "grid_auto_rows": null,
            "grid_gap": null,
            "max_width": null,
            "order": null,
            "_view_module_version": "1.2.0",
            "grid_template_areas": null,
            "object_position": null,
            "object_fit": null,
            "grid_auto_columns": null,
            "margin": null,
            "display": null,
            "left": null
          }
        },
        "7edaeaaf2b9d4cac90e0c7cf43d1aaed": {
          "model_module": "@jupyter-widgets/controls",
          "model_name": "HBoxModel",
          "model_module_version": "1.5.0",
          "state": {
            "_view_name": "HBoxView",
            "_dom_classes": [],
            "_model_name": "HBoxModel",
            "_view_module": "@jupyter-widgets/controls",
            "_model_module_version": "1.5.0",
            "_view_count": null,
            "_view_module_version": "1.5.0",
            "box_style": "",
            "layout": "IPY_MODEL_d7d4c36bdded40df983217c57ca4cb13",
            "_model_module": "@jupyter-widgets/controls",
            "children": [
              "IPY_MODEL_3070dfc530724d2d886a9fe923d2eb5b",
              "IPY_MODEL_09a3354540bf4406900aac5f5215e865"
            ]
          }
        },
        "d7d4c36bdded40df983217c57ca4cb13": {
          "model_module": "@jupyter-widgets/base",
          "model_name": "LayoutModel",
          "model_module_version": "1.2.0",
          "state": {
            "_view_name": "LayoutView",
            "grid_template_rows": null,
            "right": null,
            "justify_content": null,
            "_view_module": "@jupyter-widgets/base",
            "overflow": null,
            "_model_module_version": "1.2.0",
            "_view_count": null,
            "flex_flow": null,
            "width": null,
            "min_width": null,
            "border": null,
            "align_items": null,
            "bottom": null,
            "_model_module": "@jupyter-widgets/base",
            "top": null,
            "grid_column": null,
            "overflow_y": null,
            "overflow_x": null,
            "grid_auto_flow": null,
            "grid_area": null,
            "grid_template_columns": null,
            "flex": null,
            "_model_name": "LayoutModel",
            "justify_items": null,
            "grid_row": null,
            "max_height": null,
            "align_content": null,
            "visibility": null,
            "align_self": null,
            "height": null,
            "min_height": null,
            "padding": null,
            "grid_auto_rows": null,
            "grid_gap": null,
            "max_width": null,
            "order": null,
            "_view_module_version": "1.2.0",
            "grid_template_areas": null,
            "object_position": null,
            "object_fit": null,
            "grid_auto_columns": null,
            "margin": null,
            "display": null,
            "left": null
          }
        },
        "3070dfc530724d2d886a9fe923d2eb5b": {
          "model_module": "@jupyter-widgets/controls",
          "model_name": "ImageModel",
          "model_module_version": "1.5.0",
          "state": {
            "_view_name": "ImageView",
            "_dom_classes": [],
            "_model_name": "ImageModel",
            "format": "png",
            "_view_module": "@jupyter-widgets/controls",
            "_model_module_version": "1.5.0",
            "_view_count": null,
            "width": "",
            "_view_module_version": "1.5.0",
            "layout": "IPY_MODEL_ac09b15e45884f14bd2e43cc4b55437c",
            "height": "",
            "_model_module": "@jupyter-widgets/controls"
          }
        },
        "09a3354540bf4406900aac5f5215e865": {
          "model_module": "@jupyter-widgets/controls",
          "model_name": "ImageModel",
          "model_module_version": "1.5.0",
          "state": {
            "_view_name": "ImageView",
            "_dom_classes": [],
            "_model_name": "ImageModel",
            "format": "png",
            "_view_module": "@jupyter-widgets/controls",
            "_model_module_version": "1.5.0",
            "_view_count": null,
            "width": "",
            "_view_module_version": "1.5.0",
            "layout": "IPY_MODEL_e8db074d91fb42b2a7512bd4ec34f947",
            "height": "",
            "_model_module": "@jupyter-widgets/controls"
          }
        },
        "ac09b15e45884f14bd2e43cc4b55437c": {
          "model_module": "@jupyter-widgets/base",
          "model_name": "LayoutModel",
          "model_module_version": "1.2.0",
          "state": {
            "_view_name": "LayoutView",
            "grid_template_rows": null,
            "right": null,
            "justify_content": null,
            "_view_module": "@jupyter-widgets/base",
            "overflow": null,
            "_model_module_version": "1.2.0",
            "_view_count": null,
            "flex_flow": null,
            "width": null,
            "min_width": null,
            "border": null,
            "align_items": null,
            "bottom": null,
            "_model_module": "@jupyter-widgets/base",
            "top": null,
            "grid_column": null,
            "overflow_y": null,
            "overflow_x": null,
            "grid_auto_flow": null,
            "grid_area": null,
            "grid_template_columns": null,
            "flex": null,
            "_model_name": "LayoutModel",
            "justify_items": null,
            "grid_row": null,
            "max_height": null,
            "align_content": null,
            "visibility": null,
            "align_self": null,
            "height": null,
            "min_height": null,
            "padding": null,
            "grid_auto_rows": null,
            "grid_gap": null,
            "max_width": null,
            "order": null,
            "_view_module_version": "1.2.0",
            "grid_template_areas": null,
            "object_position": null,
            "object_fit": null,
            "grid_auto_columns": null,
            "margin": null,
            "display": null,
            "left": null
          }
        },
        "e8db074d91fb42b2a7512bd4ec34f947": {
          "model_module": "@jupyter-widgets/base",
          "model_name": "LayoutModel",
          "model_module_version": "1.2.0",
          "state": {
            "_view_name": "LayoutView",
            "grid_template_rows": null,
            "right": null,
            "justify_content": null,
            "_view_module": "@jupyter-widgets/base",
            "overflow": null,
            "_model_module_version": "1.2.0",
            "_view_count": null,
            "flex_flow": null,
            "width": null,
            "min_width": null,
            "border": null,
            "align_items": null,
            "bottom": null,
            "_model_module": "@jupyter-widgets/base",
            "top": null,
            "grid_column": null,
            "overflow_y": null,
            "overflow_x": null,
            "grid_auto_flow": null,
            "grid_area": null,
            "grid_template_columns": null,
            "flex": null,
            "_model_name": "LayoutModel",
            "justify_items": null,
            "grid_row": null,
            "max_height": null,
            "align_content": null,
            "visibility": null,
            "align_self": null,
            "height": null,
            "min_height": null,
            "padding": null,
            "grid_auto_rows": null,
            "grid_gap": null,
            "max_width": null,
            "order": null,
            "_view_module_version": "1.2.0",
            "grid_template_areas": null,
            "object_position": null,
            "object_fit": null,
            "grid_auto_columns": null,
            "margin": null,
            "display": null,
            "left": null
          }
        },
        "0f5019b6aa8f404bacde04eb180d352a": {
          "model_module": "@jupyter-widgets/controls",
          "model_name": "HBoxModel",
          "model_module_version": "1.5.0",
          "state": {
            "_view_name": "HBoxView",
            "_dom_classes": [],
            "_model_name": "HBoxModel",
            "_view_module": "@jupyter-widgets/controls",
            "_model_module_version": "1.5.0",
            "_view_count": null,
            "_view_module_version": "1.5.0",
            "box_style": "",
            "layout": "IPY_MODEL_e2d93080deba4434a1b8600f843a3532",
            "_model_module": "@jupyter-widgets/controls",
            "children": [
              "IPY_MODEL_758ebf2927c64253aa73faa11011a1b9",
              "IPY_MODEL_06d6f9fd51644eed89221fce20fcf97e"
            ]
          }
        },
        "e2d93080deba4434a1b8600f843a3532": {
          "model_module": "@jupyter-widgets/base",
          "model_name": "LayoutModel",
          "model_module_version": "1.2.0",
          "state": {
            "_view_name": "LayoutView",
            "grid_template_rows": null,
            "right": null,
            "justify_content": null,
            "_view_module": "@jupyter-widgets/base",
            "overflow": null,
            "_model_module_version": "1.2.0",
            "_view_count": null,
            "flex_flow": null,
            "width": null,
            "min_width": null,
            "border": null,
            "align_items": null,
            "bottom": null,
            "_model_module": "@jupyter-widgets/base",
            "top": null,
            "grid_column": null,
            "overflow_y": null,
            "overflow_x": null,
            "grid_auto_flow": null,
            "grid_area": null,
            "grid_template_columns": null,
            "flex": null,
            "_model_name": "LayoutModel",
            "justify_items": null,
            "grid_row": null,
            "max_height": null,
            "align_content": null,
            "visibility": null,
            "align_self": null,
            "height": null,
            "min_height": null,
            "padding": null,
            "grid_auto_rows": null,
            "grid_gap": null,
            "max_width": null,
            "order": null,
            "_view_module_version": "1.2.0",
            "grid_template_areas": null,
            "object_position": null,
            "object_fit": null,
            "grid_auto_columns": null,
            "margin": null,
            "display": null,
            "left": null
          }
        },
        "758ebf2927c64253aa73faa11011a1b9": {
          "model_module": "@jupyter-widgets/controls",
          "model_name": "ImageModel",
          "model_module_version": "1.5.0",
          "state": {
            "_view_name": "ImageView",
            "_dom_classes": [],
            "_model_name": "ImageModel",
            "format": "png",
            "_view_module": "@jupyter-widgets/controls",
            "_model_module_version": "1.5.0",
            "_view_count": null,
            "width": "",
            "_view_module_version": "1.5.0",
            "layout": "IPY_MODEL_70bd262afc594657859bbe6c5351899f",
            "height": "",
            "_model_module": "@jupyter-widgets/controls"
          }
        },
        "06d6f9fd51644eed89221fce20fcf97e": {
          "model_module": "@jupyter-widgets/controls",
          "model_name": "ImageModel",
          "model_module_version": "1.5.0",
          "state": {
            "_view_name": "ImageView",
            "_dom_classes": [],
            "_model_name": "ImageModel",
            "format": "png",
            "_view_module": "@jupyter-widgets/controls",
            "_model_module_version": "1.5.0",
            "_view_count": null,
            "width": "",
            "_view_module_version": "1.5.0",
            "layout": "IPY_MODEL_ea79d79d60004eb7b79a8c284ce9149d",
            "height": "",
            "_model_module": "@jupyter-widgets/controls"
          }
        },
        "70bd262afc594657859bbe6c5351899f": {
          "model_module": "@jupyter-widgets/base",
          "model_name": "LayoutModel",
          "model_module_version": "1.2.0",
          "state": {
            "_view_name": "LayoutView",
            "grid_template_rows": null,
            "right": null,
            "justify_content": null,
            "_view_module": "@jupyter-widgets/base",
            "overflow": null,
            "_model_module_version": "1.2.0",
            "_view_count": null,
            "flex_flow": null,
            "width": null,
            "min_width": null,
            "border": null,
            "align_items": null,
            "bottom": null,
            "_model_module": "@jupyter-widgets/base",
            "top": null,
            "grid_column": null,
            "overflow_y": null,
            "overflow_x": null,
            "grid_auto_flow": null,
            "grid_area": null,
            "grid_template_columns": null,
            "flex": null,
            "_model_name": "LayoutModel",
            "justify_items": null,
            "grid_row": null,
            "max_height": null,
            "align_content": null,
            "visibility": null,
            "align_self": null,
            "height": null,
            "min_height": null,
            "padding": null,
            "grid_auto_rows": null,
            "grid_gap": null,
            "max_width": null,
            "order": null,
            "_view_module_version": "1.2.0",
            "grid_template_areas": null,
            "object_position": null,
            "object_fit": null,
            "grid_auto_columns": null,
            "margin": null,
            "display": null,
            "left": null
          }
        },
        "ea79d79d60004eb7b79a8c284ce9149d": {
          "model_module": "@jupyter-widgets/base",
          "model_name": "LayoutModel",
          "model_module_version": "1.2.0",
          "state": {
            "_view_name": "LayoutView",
            "grid_template_rows": null,
            "right": null,
            "justify_content": null,
            "_view_module": "@jupyter-widgets/base",
            "overflow": null,
            "_model_module_version": "1.2.0",
            "_view_count": null,
            "flex_flow": null,
            "width": null,
            "min_width": null,
            "border": null,
            "align_items": null,
            "bottom": null,
            "_model_module": "@jupyter-widgets/base",
            "top": null,
            "grid_column": null,
            "overflow_y": null,
            "overflow_x": null,
            "grid_auto_flow": null,
            "grid_area": null,
            "grid_template_columns": null,
            "flex": null,
            "_model_name": "LayoutModel",
            "justify_items": null,
            "grid_row": null,
            "max_height": null,
            "align_content": null,
            "visibility": null,
            "align_self": null,
            "height": null,
            "min_height": null,
            "padding": null,
            "grid_auto_rows": null,
            "grid_gap": null,
            "max_width": null,
            "order": null,
            "_view_module_version": "1.2.0",
            "grid_template_areas": null,
            "object_position": null,
            "object_fit": null,
            "grid_auto_columns": null,
            "margin": null,
            "display": null,
            "left": null
          }
        },
        "21eab0fb9af64f8ea0c2c71a9de7b6e3": {
          "model_module": "@jupyter-widgets/controls",
          "model_name": "HBoxModel",
          "model_module_version": "1.5.0",
          "state": {
            "_view_name": "HBoxView",
            "_dom_classes": [],
            "_model_name": "HBoxModel",
            "_view_module": "@jupyter-widgets/controls",
            "_model_module_version": "1.5.0",
            "_view_count": null,
            "_view_module_version": "1.5.0",
            "box_style": "",
            "layout": "IPY_MODEL_25ac8dfd659743dea27116c72ff72539",
            "_model_module": "@jupyter-widgets/controls",
            "children": [
              "IPY_MODEL_6928240db03b4500afc2a5a5c86e0ea6",
              "IPY_MODEL_35ef7118fba64d33b57951ffe60a82dc"
            ]
          }
        },
        "25ac8dfd659743dea27116c72ff72539": {
          "model_module": "@jupyter-widgets/base",
          "model_name": "LayoutModel",
          "model_module_version": "1.2.0",
          "state": {
            "_view_name": "LayoutView",
            "grid_template_rows": null,
            "right": null,
            "justify_content": null,
            "_view_module": "@jupyter-widgets/base",
            "overflow": null,
            "_model_module_version": "1.2.0",
            "_view_count": null,
            "flex_flow": null,
            "width": null,
            "min_width": null,
            "border": null,
            "align_items": null,
            "bottom": null,
            "_model_module": "@jupyter-widgets/base",
            "top": null,
            "grid_column": null,
            "overflow_y": null,
            "overflow_x": null,
            "grid_auto_flow": null,
            "grid_area": null,
            "grid_template_columns": null,
            "flex": null,
            "_model_name": "LayoutModel",
            "justify_items": null,
            "grid_row": null,
            "max_height": null,
            "align_content": null,
            "visibility": null,
            "align_self": null,
            "height": null,
            "min_height": null,
            "padding": null,
            "grid_auto_rows": null,
            "grid_gap": null,
            "max_width": null,
            "order": null,
            "_view_module_version": "1.2.0",
            "grid_template_areas": null,
            "object_position": null,
            "object_fit": null,
            "grid_auto_columns": null,
            "margin": null,
            "display": null,
            "left": null
          }
        },
        "6928240db03b4500afc2a5a5c86e0ea6": {
          "model_module": "@jupyter-widgets/controls",
          "model_name": "ImageModel",
          "model_module_version": "1.5.0",
          "state": {
            "_view_name": "ImageView",
            "_dom_classes": [],
            "_model_name": "ImageModel",
            "format": "png",
            "_view_module": "@jupyter-widgets/controls",
            "_model_module_version": "1.5.0",
            "_view_count": null,
            "width": "",
            "_view_module_version": "1.5.0",
            "layout": "IPY_MODEL_457d34c4402c438c8dc8893a302e437a",
            "height": "",
            "_model_module": "@jupyter-widgets/controls"
          }
        },
        "35ef7118fba64d33b57951ffe60a82dc": {
          "model_module": "@jupyter-widgets/controls",
          "model_name": "ImageModel",
          "model_module_version": "1.5.0",
          "state": {
            "_view_name": "ImageView",
            "_dom_classes": [],
            "_model_name": "ImageModel",
            "format": "png",
            "_view_module": "@jupyter-widgets/controls",
            "_model_module_version": "1.5.0",
            "_view_count": null,
            "width": "",
            "_view_module_version": "1.5.0",
            "layout": "IPY_MODEL_0fca4268baf048699c7717e129fde531",
            "height": "",
            "_model_module": "@jupyter-widgets/controls"
          }
        },
        "457d34c4402c438c8dc8893a302e437a": {
          "model_module": "@jupyter-widgets/base",
          "model_name": "LayoutModel",
          "model_module_version": "1.2.0",
          "state": {
            "_view_name": "LayoutView",
            "grid_template_rows": null,
            "right": null,
            "justify_content": null,
            "_view_module": "@jupyter-widgets/base",
            "overflow": null,
            "_model_module_version": "1.2.0",
            "_view_count": null,
            "flex_flow": null,
            "width": null,
            "min_width": null,
            "border": null,
            "align_items": null,
            "bottom": null,
            "_model_module": "@jupyter-widgets/base",
            "top": null,
            "grid_column": null,
            "overflow_y": null,
            "overflow_x": null,
            "grid_auto_flow": null,
            "grid_area": null,
            "grid_template_columns": null,
            "flex": null,
            "_model_name": "LayoutModel",
            "justify_items": null,
            "grid_row": null,
            "max_height": null,
            "align_content": null,
            "visibility": null,
            "align_self": null,
            "height": null,
            "min_height": null,
            "padding": null,
            "grid_auto_rows": null,
            "grid_gap": null,
            "max_width": null,
            "order": null,
            "_view_module_version": "1.2.0",
            "grid_template_areas": null,
            "object_position": null,
            "object_fit": null,
            "grid_auto_columns": null,
            "margin": null,
            "display": null,
            "left": null
          }
        },
        "0fca4268baf048699c7717e129fde531": {
          "model_module": "@jupyter-widgets/base",
          "model_name": "LayoutModel",
          "model_module_version": "1.2.0",
          "state": {
            "_view_name": "LayoutView",
            "grid_template_rows": null,
            "right": null,
            "justify_content": null,
            "_view_module": "@jupyter-widgets/base",
            "overflow": null,
            "_model_module_version": "1.2.0",
            "_view_count": null,
            "flex_flow": null,
            "width": null,
            "min_width": null,
            "border": null,
            "align_items": null,
            "bottom": null,
            "_model_module": "@jupyter-widgets/base",
            "top": null,
            "grid_column": null,
            "overflow_y": null,
            "overflow_x": null,
            "grid_auto_flow": null,
            "grid_area": null,
            "grid_template_columns": null,
            "flex": null,
            "_model_name": "LayoutModel",
            "justify_items": null,
            "grid_row": null,
            "max_height": null,
            "align_content": null,
            "visibility": null,
            "align_self": null,
            "height": null,
            "min_height": null,
            "padding": null,
            "grid_auto_rows": null,
            "grid_gap": null,
            "max_width": null,
            "order": null,
            "_view_module_version": "1.2.0",
            "grid_template_areas": null,
            "object_position": null,
            "object_fit": null,
            "grid_auto_columns": null,
            "margin": null,
            "display": null,
            "left": null
          }
        },
        "c92b2ec1828748d7988fd9fcbbe7652b": {
          "model_module": "@jupyter-widgets/controls",
          "model_name": "HBoxModel",
          "model_module_version": "1.5.0",
          "state": {
            "_view_name": "HBoxView",
            "_dom_classes": [],
            "_model_name": "HBoxModel",
            "_view_module": "@jupyter-widgets/controls",
            "_model_module_version": "1.5.0",
            "_view_count": null,
            "_view_module_version": "1.5.0",
            "box_style": "",
            "layout": "IPY_MODEL_b469c9084c9c4c44a573a8c0b7a5d71b",
            "_model_module": "@jupyter-widgets/controls",
            "children": [
              "IPY_MODEL_02b619160a9046ef9e4002f3cbbdf186",
              "IPY_MODEL_e819371c51a044a298bc0f55e19d7bca"
            ]
          }
        },
        "b469c9084c9c4c44a573a8c0b7a5d71b": {
          "model_module": "@jupyter-widgets/base",
          "model_name": "LayoutModel",
          "model_module_version": "1.2.0",
          "state": {
            "_view_name": "LayoutView",
            "grid_template_rows": null,
            "right": null,
            "justify_content": null,
            "_view_module": "@jupyter-widgets/base",
            "overflow": null,
            "_model_module_version": "1.2.0",
            "_view_count": null,
            "flex_flow": null,
            "width": null,
            "min_width": null,
            "border": null,
            "align_items": null,
            "bottom": null,
            "_model_module": "@jupyter-widgets/base",
            "top": null,
            "grid_column": null,
            "overflow_y": null,
            "overflow_x": null,
            "grid_auto_flow": null,
            "grid_area": null,
            "grid_template_columns": null,
            "flex": null,
            "_model_name": "LayoutModel",
            "justify_items": null,
            "grid_row": null,
            "max_height": null,
            "align_content": null,
            "visibility": null,
            "align_self": null,
            "height": null,
            "min_height": null,
            "padding": null,
            "grid_auto_rows": null,
            "grid_gap": null,
            "max_width": null,
            "order": null,
            "_view_module_version": "1.2.0",
            "grid_template_areas": null,
            "object_position": null,
            "object_fit": null,
            "grid_auto_columns": null,
            "margin": null,
            "display": null,
            "left": null
          }
        },
        "02b619160a9046ef9e4002f3cbbdf186": {
          "model_module": "@jupyter-widgets/controls",
          "model_name": "ImageModel",
          "model_module_version": "1.5.0",
          "state": {
            "_view_name": "ImageView",
            "_dom_classes": [],
            "_model_name": "ImageModel",
            "format": "png",
            "_view_module": "@jupyter-widgets/controls",
            "_model_module_version": "1.5.0",
            "_view_count": null,
            "width": "",
            "_view_module_version": "1.5.0",
            "layout": "IPY_MODEL_24a429f0a4004960911fbf25646f8c69",
            "height": "",
            "_model_module": "@jupyter-widgets/controls"
          }
        },
        "e819371c51a044a298bc0f55e19d7bca": {
          "model_module": "@jupyter-widgets/controls",
          "model_name": "ImageModel",
          "model_module_version": "1.5.0",
          "state": {
            "_view_name": "ImageView",
            "_dom_classes": [],
            "_model_name": "ImageModel",
            "format": "png",
            "_view_module": "@jupyter-widgets/controls",
            "_model_module_version": "1.5.0",
            "_view_count": null,
            "width": "",
            "_view_module_version": "1.5.0",
            "layout": "IPY_MODEL_bd4becccb04949e291843a8ce45647fd",
            "height": "",
            "_model_module": "@jupyter-widgets/controls"
          }
        },
        "24a429f0a4004960911fbf25646f8c69": {
          "model_module": "@jupyter-widgets/base",
          "model_name": "LayoutModel",
          "model_module_version": "1.2.0",
          "state": {
            "_view_name": "LayoutView",
            "grid_template_rows": null,
            "right": null,
            "justify_content": null,
            "_view_module": "@jupyter-widgets/base",
            "overflow": null,
            "_model_module_version": "1.2.0",
            "_view_count": null,
            "flex_flow": null,
            "width": null,
            "min_width": null,
            "border": null,
            "align_items": null,
            "bottom": null,
            "_model_module": "@jupyter-widgets/base",
            "top": null,
            "grid_column": null,
            "overflow_y": null,
            "overflow_x": null,
            "grid_auto_flow": null,
            "grid_area": null,
            "grid_template_columns": null,
            "flex": null,
            "_model_name": "LayoutModel",
            "justify_items": null,
            "grid_row": null,
            "max_height": null,
            "align_content": null,
            "visibility": null,
            "align_self": null,
            "height": null,
            "min_height": null,
            "padding": null,
            "grid_auto_rows": null,
            "grid_gap": null,
            "max_width": null,
            "order": null,
            "_view_module_version": "1.2.0",
            "grid_template_areas": null,
            "object_position": null,
            "object_fit": null,
            "grid_auto_columns": null,
            "margin": null,
            "display": null,
            "left": null
          }
        },
        "bd4becccb04949e291843a8ce45647fd": {
          "model_module": "@jupyter-widgets/base",
          "model_name": "LayoutModel",
          "model_module_version": "1.2.0",
          "state": {
            "_view_name": "LayoutView",
            "grid_template_rows": null,
            "right": null,
            "justify_content": null,
            "_view_module": "@jupyter-widgets/base",
            "overflow": null,
            "_model_module_version": "1.2.0",
            "_view_count": null,
            "flex_flow": null,
            "width": null,
            "min_width": null,
            "border": null,
            "align_items": null,
            "bottom": null,
            "_model_module": "@jupyter-widgets/base",
            "top": null,
            "grid_column": null,
            "overflow_y": null,
            "overflow_x": null,
            "grid_auto_flow": null,
            "grid_area": null,
            "grid_template_columns": null,
            "flex": null,
            "_model_name": "LayoutModel",
            "justify_items": null,
            "grid_row": null,
            "max_height": null,
            "align_content": null,
            "visibility": null,
            "align_self": null,
            "height": null,
            "min_height": null,
            "padding": null,
            "grid_auto_rows": null,
            "grid_gap": null,
            "max_width": null,
            "order": null,
            "_view_module_version": "1.2.0",
            "grid_template_areas": null,
            "object_position": null,
            "object_fit": null,
            "grid_auto_columns": null,
            "margin": null,
            "display": null,
            "left": null
          }
        }
      }
    },
    "accelerator": "GPU"
  },
  "cells": [
    {
      "cell_type": "markdown",
      "metadata": {
        "id": "l19zFTOnuXfe"
      },
      "source": [
        "**Содержание**:\n",
        "\n",
        "1. [Теория](https://colab.research.google.com/drive/1Jy2ohBJfFKsBiQkqlkjunv8FWRIBSD7k?usp=sharing)\n",
        "2. Практический ноутбук"
      ]
    },
    {
      "cell_type": "markdown",
      "metadata": {
        "id": "IxXtY0PErmZh"
      },
      "source": [
        "# Предсказание будущего кадра с ConvLSTM2D"
      ]
    },
    {
      "cell_type": "markdown",
      "metadata": {
        "id": "sivZN9WnrmZk"
      },
      "source": [
        "Архитектура слоя Convolutional LSTM объединяет обработку временных рядов и компьютерное зрение, вводя сверточную рекурентную ячейку в слой LSTM. В примере, который будем разбирать в этом разделе, мы изучим Convultional LSTM модель применительно к прогнозированию следующих кадров на основе серии предыдущих."
      ]
    },
    {
      "cell_type": "markdown",
      "metadata": {
        "id": "KuD2n8EUrmZk"
      },
      "source": [
        "## Загрузка библиотек"
      ]
    },
    {
      "cell_type": "code",
      "metadata": {
        "id": "ZNsM39BRrmZm"
      },
      "source": [
        "import numpy as np\n",
        "import matplotlib.pyplot as plt\n",
        "\n",
        "import tensorflow as tf\n",
        "from tensorflow import keras\n",
        "from tensorflow.keras import layers\n",
        "\n",
        "import io # библиотека для работы с различными типами ввода/вывода\n",
        "import imageio\n",
        "from IPython.display import Image, display, clear_output\n",
        "from ipywidgets import widgets, Layout, HBox\n",
        "# Загрузка датасетов из облака google\n",
        "import gdown"
      ],
      "execution_count": null,
      "outputs": []
    },
    {
      "cell_type": "markdown",
      "metadata": {
        "id": "2jAyofrMrmZm"
      },
      "source": [
        "## Загрузка и работа с данными\n",
        "\n",
        "Для изучения поставленной перед нами задачи, мы будем использовать движущиеся цифры MNIST - [Moving MNIST](http://www.cs.toronto.edu/~nitish/unsupervised_video/)\n",
        "dataset.\n",
        "\n",
        "<p>Мы загрузим этот набор данных, произведем их предобработку и создадим тренировочный и проверочный наборы.\n",
        "\n",
        "<p>Для прогнозирования следующего кадра наша модель будет использовать предыдущий кадр, который мы назовем <b>f_n</b>, а новый кадр будет называться f_(n + 1). Чтобы модель могла создавать эти прогнозы, нам необходимо обработать данные таким образом, чтобы входные данные были «сдвинуты» относительно выходных, так, что бы входными данными являлся кадр <b>x_n</b>, который используется для прогнозирования кадра y_(n + 1)."
      ]
    },
    {
      "cell_type": "code",
      "metadata": {
        "id": "T3TyNYrZOntu"
      },
      "source": [
        "# Закачка и загрузка набора данных.\n",
        "fpath = keras.utils.get_file(\n",
        "    \"moving_mnist.npy\",\n",
        "    \"http://www.cs.toronto.edu/~nitish/unsupervised_video/mnist_test_seq.npy\",  # Указваем путь к набору данных Moving Mnist\n",
        ")\n",
        "dataset = np.load(fpath)"
      ],
      "execution_count": null,
      "outputs": []
    },
    {
      "cell_type": "code",
      "metadata": {
        "colab": {
          "base_uri": "https://localhost:8080/"
        },
        "id": "EE3GQdwyPBdS",
        "outputId": "574aaa8d-2579-48ff-da82-4bdd83d12c1f"
      },
      "source": [
        "dataset.shape"
      ],
      "execution_count": null,
      "outputs": [
        {
          "output_type": "execute_result",
          "data": {
            "text/plain": [
              "(20, 10000, 64, 64)"
            ]
          },
          "metadata": {},
          "execution_count": 32
        }
      ]
    },
    {
      "cell_type": "markdown",
      "metadata": {
        "id": "R4d3ZBg_PP6Z"
      },
      "source": [
        "Набор данных имеет формат (n_кадров, n_семплов, ширина_кадра, высота_кадра). Поменяем  местами оси, представляющие количество кадров и количество семплов. Из всего набора (10 000 примеров), оставим только 1000, для нашего эксперимента этого вполне достаточно. Так же необходимо добавить дополнительную размерность к формату кадра. В наборе кадр черно-белый имет формат 64х64, чтобы работать со сверточным слоем, нам необходима еще одна размерность."
      ]
    },
    {
      "cell_type": "code",
      "metadata": {
        "colab": {
          "base_uri": "https://localhost:8080/"
        },
        "id": "36WklX-CP0tS",
        "outputId": "3966e020-015b-4925-9997-7ab8cb205c32"
      },
      "source": [
        "# меняем оси\n",
        "dataset = np.swapaxes(dataset, 0, 1)\n",
        "# из 10000 оставляем только 1000 примеров\n",
        "dataset = dataset[:1000]\n",
        "# Добавляем канал к размеру кадра так как он черно-белый, что бы он имел формат w,h,c как положено картинке \n",
        "dataset = np.expand_dims(dataset, axis=-1)\n",
        "print(dataset.shape)"
      ],
      "execution_count": null,
      "outputs": [
        {
          "output_type": "stream",
          "name": "stdout",
          "text": [
            "(1000, 20, 64, 64, 1)\n"
          ]
        }
      ]
    },
    {
      "cell_type": "markdown",
      "metadata": {
        "id": "v_UACOSAS3Eh"
      },
      "source": [
        "Разделим данные на обучающий и проверочный наборы, с использованием индексации для оптимального использования памяти"
      ]
    },
    {
      "cell_type": "code",
      "metadata": {
        "id": "8MIs3nhySpqw"
      },
      "source": [
        "# Разделяем набор данных на обучающую и проверочную выборки\n",
        "indexes = np.arange(dataset.shape[0]) # создаем набор индексов\n",
        "np.random.shuffle(indexes) # перемешиваем индексы\n",
        "train_index = indexes[: int(0.9 * dataset.shape[0])] # записываем индексы для тернировочного набора\n",
        "val_index = indexes[int(0.9 * dataset.shape[0]) :] # записываем индексы для проверочного набора\n",
        "train_dataset = dataset[train_index] # Формиуем тренировочный набор\n",
        "val_dataset = dataset[val_index] # Формиуем проверочный набор"
      ],
      "execution_count": null,
      "outputs": []
    },
    {
      "cell_type": "markdown",
      "metadata": {
        "id": "Z8W6UurrUfp2"
      },
      "source": [
        "Нормализуем данные, что бы параметры пикселя были в диапазон 0-1 "
      ]
    },
    {
      "cell_type": "code",
      "metadata": {
        "id": "w09WNBIoUq-Y"
      },
      "source": [
        "# Нормализуем данные в диапазоне 0-1\n",
        "train_dataset = train_dataset / 255\n",
        "val_dataset = val_dataset / 255"
      ],
      "execution_count": null,
      "outputs": []
    },
    {
      "cell_type": "markdown",
      "metadata": {
        "id": "wCWMTKQgU0hz"
      },
      "source": [
        "Создадим вспомогательную функцию для сдвига кадров, где <b>x</b> это кадры с 0 по n-1, а <b>y</b> это кадры с 1 по n."
      ]
    },
    {
      "cell_type": "code",
      "metadata": {
        "colab": {
          "base_uri": "https://localhost:8080/"
        },
        "id": "y-MtsliZVedK",
        "outputId": "39ecd46e-287b-4739-e49d-95c7591641d6"
      },
      "source": [
        "train_dataset.shape"
      ],
      "execution_count": null,
      "outputs": [
        {
          "output_type": "execute_result",
          "data": {
            "text/plain": [
              "(900, 20, 64, 64, 1)"
            ]
          },
          "metadata": {},
          "execution_count": 36
        }
      ]
    },
    {
      "cell_type": "code",
      "metadata": {
        "id": "0cYRGa0gVdWw"
      },
      "source": [
        "# Вспомогательная функция\n",
        "def create_shifted_frames(data):\n",
        "    x = data[:, 0 : data.shape[1] - 1, :, :]\n",
        "    y = data[:, 1 : data.shape[1], :, :]\n",
        "    return x, y"
      ],
      "execution_count": null,
      "outputs": []
    },
    {
      "cell_type": "code",
      "metadata": {
        "id": "BWRjYhhTrmZo",
        "colab": {
          "base_uri": "https://localhost:8080/"
        },
        "outputId": "8f46eeff-3c25-4879-f48e-21337d7784cd"
      },
      "source": [
        "# Применяем функцию обработки к наборам данных\n",
        "x_train, y_train = create_shifted_frames(train_dataset)\n",
        "x_val, y_val = create_shifted_frames(val_dataset)\n",
        "\n",
        "# Смотрим что получилось\n",
        "print(\"Формат Тренировочного набора: \" + str(x_train.shape) + \", \" + str(y_train.shape))\n",
        "print(\"Формат Проверочного набора: \" + str(x_val.shape) + \", \" + str(y_val.shape))"
      ],
      "execution_count": null,
      "outputs": [
        {
          "output_type": "stream",
          "name": "stdout",
          "text": [
            "Формат Тренировочного набора: (900, 19, 64, 64, 1), (900, 19, 64, 64, 1)\n",
            "Формат Проверочного набора: (100, 19, 64, 64, 1), (100, 19, 64, 64, 1)\n"
          ]
        }
      ]
    },
    {
      "cell_type": "markdown",
      "metadata": {
        "id": "lBRss9YjrmZp"
      },
      "source": [
        "## Визуализация данных\n",
        "\n",
        "<p>Наши данные состоят из последовательностей кадров, каждый из которых используется для прогнозирования следующего кадра. Давайте посмотрим пример, как выглядят эти последовательности кадров. "
      ]
    },
    {
      "cell_type": "code",
      "metadata": {
        "colab": {
          "base_uri": "https://localhost:8080/",
          "height": 268
        },
        "id": "WbRT4SYWeaao",
        "outputId": "2a997c9d-d357-4d4d-bc7a-11a2ba80e171"
      },
      "source": [
        "# Посмотрим как выглядит один кадр\n",
        "plt.imshow(np.squeeze(dataset[1][0]) , cmap='gray')\n",
        "plt.show()"
      ],
      "execution_count": null,
      "outputs": [
        {
          "output_type": "display_data",
          "data": {
            "image/png": "[encoded data removed]",
            "text/plain": [
              "<Figure size 432x288 with 1 Axes>"
            ]
          },
          "metadata": {
            "needs_background": "light"
          }
        }
      ]
    },
    {
      "cell_type": "code",
      "metadata": {
        "colab": {
          "base_uri": "https://localhost:8080/"
        },
        "id": "ScvNiqzkkrFB",
        "outputId": "340a5023-379e-4745-a877-1853c610c36a"
      },
      "source": [
        "dataset[1][0][:,:,-1].shape"
      ],
      "execution_count": null,
      "outputs": [
        {
          "output_type": "execute_result",
          "data": {
            "text/plain": [
              "(64, 64)"
            ]
          },
          "metadata": {},
          "execution_count": 40
        }
      ]
    },
    {
      "cell_type": "code",
      "metadata": {
        "id": "R3J1ngN_rmZp",
        "colab": {
          "base_uri": "https://localhost:8080/",
          "height": 523
        },
        "outputId": "bc938afc-421b-4ffd-d8dc-b4f51a035554"
      },
      "source": [
        "# Создаем полотно на которую будем выводить изображения\n",
        "fig, axes = plt.subplots(4, 5, figsize=(10, 8))\n",
        "\n",
        "# Выводим каждый кадр из случайного набора данных\n",
        "data_choice = np.random.choice(range(len(train_dataset)), size=1)[0] # выбираем случайный набор\n",
        "for idx, ax in enumerate(axes.flat): # проходим по каждому рисунку на полотне\n",
        "    ax.imshow(np.squeeze(train_dataset[data_choice][idx]), cmap=\"gray\") # Выводим последовательно каждый кадр, убираем лишнюю размерность с конца\n",
        "    ax.set_title(f\"Frame {idx + 1}\") # выводим номер кадра\n",
        "    ax.axis(\"off\") # отключаем оси\n",
        "fig.suptitle(f\"Последовательность кадров из набора {data_choice}.\", fontsize='20', color='b') # выводим заголовок рисунка\n",
        "plt.show() # Выводим полотно на экран"
      ],
      "execution_count": null,
      "outputs": [
        {
          "output_type": "display_data",
          "data": {
            "image/png": "[encoded data removed]",
            "text/plain": [
              "<Figure size 720x576 with 20 Axes>"
            ]
          },
          "metadata": {
            "needs_background": "light"
          }
        }
      ]
    },
    {
      "cell_type": "code",
      "source": [
        "# Выводим каждый кадр из случайного набора данных\n",
        "data_choice = np.random.choice(range(len(train_dataset)), size=1)[0] # выбираем случайный набор\n",
        "for i in range(20): # проходим по каждому рисунку на полотне\n",
        "    plt.imshow(np.squeeze(train_dataset[data_choice][i]), cmap=\"gray\") # Выводим последовательно каждый кадр, убираем лишнюю размерность с конца\n",
        "    plt.show() # Выводим полотно на экран\n",
        "    clear_output(wait=True)"
      ],
      "metadata": {
        "colab": {
          "base_uri": "https://localhost:8080/",
          "height": 268
        },
        "id": "AnhTHPHdzd7r",
        "outputId": "df1bfd50-ac23-456e-f2fd-ad0b7f45526a"
      },
      "execution_count": null,
      "outputs": [
        {
          "output_type": "display_data",
          "data": {
            "image/png": "[encoded data removed]",
            "text/plain": [
              "<Figure size 432x288 with 1 Axes>"
            ]
          },
          "metadata": {
            "needs_background": "light"
          }
        }
      ]
    },
    {
      "cell_type": "markdown",
      "metadata": {
        "id": "5KJOl5UprmZp"
      },
      "source": [
        "## Модель нейросети\n",
        "<p>Создавая Convolutional LSTM модель, мы, так же, как и в предыдущих примерах будем использовать слой <b>ConvLSTM2D</b>, который будет принимать на вход тензор (batch_size, num_frames, width, height, channels) и возвращать предсказание в том же формате."
      ]
    },
    {
      "cell_type": "code",
      "metadata": {
        "colab": {
          "base_uri": "https://localhost:8080/"
        },
        "id": "KHHAH81zxIuT",
        "outputId": "c74dd8bb-c9e7-4fda-ef57-1e6a791c65db"
      },
      "source": [
        "frame_size = x_train.shape[2:]\n",
        "print(frame_size)"
      ],
      "execution_count": null,
      "outputs": [
        {
          "output_type": "stream",
          "name": "stdout",
          "text": [
            "(64, 64, 1)\n"
          ]
        }
      ]
    },
    {
      "cell_type": "markdown",
      "metadata": {
        "id": "02Zf6LlZ7w_n"
      },
      "source": [
        "> Обратите внимание на интересный вариант записи входного размера <b>*frame_size</b>. <br>Звездочка перед списком означает, - \"Рассматривать элементы списка, как позиционные аргументы. Посмотрите на пример ниже"
      ]
    },
    {
      "cell_type": "code",
      "metadata": {
        "colab": {
          "base_uri": "https://localhost:8080/"
        },
        "id": "YsV1YHhn7pGa",
        "outputId": "6b93dbc7-a797-4e1e-e9a5-520a4f770b66"
      },
      "source": [
        "print(frame_size)\n",
        "print(*frame_size)\n"
      ],
      "execution_count": null,
      "outputs": [
        {
          "output_type": "stream",
          "name": "stdout",
          "text": [
            "(64, 64, 1)\n",
            "64 64 1\n"
          ]
        }
      ]
    },
    {
      "cell_type": "code",
      "metadata": {
        "id": "FM5FpXD1rmZq"
      },
      "source": [
        "# Создаем входной слой по форме размера кадра.\n",
        "inp = layers.Input(shape=(None, *frame_size))\n",
        "\n",
        "# Мы построим 3 слоя ConvLSTM2D с пакетной нормализацией,\n",
        "# с последующим слоем Conv3D для пространственно-временных выходных данных.\n",
        "x = layers.ConvLSTM2D(filters=64, kernel_size=(5, 5), padding=\"same\", return_sequences=True, activation=\"relu\")(inp)\n",
        "x = layers.BatchNormalization()(x)\n",
        "x = layers.ConvLSTM2D(filters=64, kernel_size=(3, 3), padding=\"same\", return_sequences=True, activation=\"relu\")(x)\n",
        "x = layers.BatchNormalization()(x)\n",
        "x = layers.ConvLSTM2D(filters=64, kernel_size=(1, 1), padding=\"same\", return_sequences=True,activation=\"relu\")(x)\n",
        "x = layers.Conv3D(filters=1, kernel_size=(3, 3, 3), activation=\"sigmoid\", padding=\"same\")(x)\n",
        "\n",
        "# Строим и компилируем модель\n",
        "model = tf.keras.models.Model(inp, x)\n",
        "model.compile(loss=tf.keras.losses.binary_crossentropy, optimizer=tf.keras.optimizers.Adam())"
      ],
      "execution_count": null,
      "outputs": []
    },
    {
      "cell_type": "code",
      "source": [
        "tf.keras.utils.plot_model(model, dpi=60, show_shapes=True)"
      ],
      "metadata": {
        "colab": {
          "base_uri": "https://localhost:8080/",
          "height": 478
        },
        "id": "h_VNjgMB0cPX",
        "outputId": "b8a60a74-326d-4373-911b-bd3498266829"
      },
      "execution_count": null,
      "outputs": [
        {
          "output_type": "execute_result",
          "data": {
            "image/png": "[encoded data removed]",
            "text/plain": [
              "<IPython.core.display.Image object>"
            ]
          },
          "metadata": {},
          "execution_count": 57
        }
      ]
    },
    {
      "cell_type": "markdown",
      "metadata": {
        "id": "AP_IcnrFrmZr"
      },
      "source": [
        "## Обучение модели\n",
        "\n",
        "Теперь у нас есть построенная модель и подготовленный набор данных, можно начинать обучение модели. \n",
        "<p> При обучении, так же как и раньше, будем использовать коллбэки, определим их ниже"
      ]
    },
    {
      "cell_type": "code",
      "metadata": {
        "id": "jmuxeM409M-A"
      },
      "source": [
        "# Задаем колбэки для улучшения тренировки\n",
        "early_stopping = keras.callbacks.EarlyStopping(monitor=\"val_loss\", patience=10, verbose=1)\n",
        "reduce_lr = keras.callbacks.ReduceLROnPlateau(monitor=\"val_loss\", patience=2, factor=0.7, verbose=1)\n",
        "model_Checkpoint = keras.callbacks.ModelCheckpoint(filepath='/content/model_video_predict.h5', monitor='val_loss', verbose=1, save_best_only=True,\n",
        "                               mode='min', baseline=0)\n",
        "callbacks=[early_stopping, reduce_lr, model_Checkpoint]"
      ],
      "execution_count": null,
      "outputs": []
    },
    {
      "cell_type": "code",
      "source": [
        "# Задаем изменяемые гиперпараметры\n",
        "epochs = 20\n",
        "batch_size = 5\n",
        "\n",
        "# Обучаем модель на тренировочных данных\n",
        "history = model.fit(x_train, y_train, batch_size=batch_size, epochs=epochs, validation_data=(x_val, y_val), callbacks=callbacks)"
      ],
      "metadata": {
        "id": "pvZx0doN0niA"
      },
      "execution_count": null,
      "outputs": []
    },
    {
      "cell_type": "markdown",
      "metadata": {
        "id": "75WePKaCrmZr"
      },
      "source": [
        "## Визуализация предсказанных кадров\n",
        "\n",
        "<p>Теперь,  когда наша модель обученна, мы можем сгенерировать последовательность кадров на основе нового видео.\n",
        "<p> Мы выберем случайный пример из проверочного набора и возьмем первые десять кадров из него. Наша модель предскажет следующие десять кадров, которые мы сможем сравнить с реальными."
      ]
    },
    {
      "cell_type": "code",
      "metadata": {
        "id": "qWmVa1wDqtM2"
      },
      "source": [
        "# Блок загрузки весов моделей из облак\n",
        "model.load_weights(gdown.download('https://storage.yandexcloud.net/aiueducation/Content/extended/gan/l4/model_video_predict.h5', None, quiet=True))"
      ],
      "execution_count": null,
      "outputs": []
    },
    {
      "cell_type": "code",
      "metadata": {
        "id": "HVwIg9A9jGw2"
      },
      "source": [
        "def compare_frames (original_frames, predicted_frames, data_choice):\n",
        "  # Выводим на экран оригиральные и сгенерированные (предсказанные) кадры\n",
        "  fig, axes = plt.subplots(2, 10, figsize=(20, 4))\n",
        "\n",
        "  # Ввыводим оригинальные кадры\n",
        "  for idx, ax in enumerate(axes[0]):\n",
        "    ax.imshow(np.squeeze(original_frames[idx]), cmap=\"gray\")\n",
        "    ax.set_title(f\"Frame {idx + 11}\")\n",
        "    ax.axis(\"off\")\n",
        "\n",
        "  # Выводим предсказанные кадры\n",
        "  new_frames = predicted_frames\n",
        "  for idx, ax in enumerate(axes[1]):\n",
        "    ax.imshow(np.squeeze(new_frames[idx])* 255, cmap=\"gray\")\n",
        "    ax.set_title(f\"Frame {idx + 11}\")\n",
        "    ax.axis(\"off\")\n",
        "  fig.suptitle(f\"Последовательность кадров из набора {data_choice}.\", fontsize='15', color='b') # выводим заголовок рисунка\n",
        "  # Выводим полотно на экран\n",
        "  plt.show()"
      ],
      "execution_count": null,
      "outputs": []
    },
    {
      "cell_type": "markdown",
      "metadata": {
        "id": "_TYtuu5zihGQ"
      },
      "source": [
        "### Аппроксимация"
      ]
    },
    {
      "cell_type": "code",
      "metadata": {
        "colab": {
          "base_uri": "https://localhost:8080/"
        },
        "id": "xYEuBIvkq-y9",
        "outputId": "23375b37-bb85-4805-84ee-3ca6d28546e5"
      },
      "source": [
        "# Выбираем случайный пример из проверочного набора\n",
        "data_choice = np.random.choice(range(len(val_dataset)), size=1)[0] # выбираем случайный набор кдров\n",
        "print(data_choice)\n",
        "example = val_dataset[[data_choice][0]] # генерируем случайный индекс в диапазоне длины проверочной выборки\n",
        "# Делим последовательность кадров пополам 10 с начала и 10 с конца\n",
        "frames = example[:10,...] # оставляем первые десять кадров\n",
        "original_frames = example[10:,...] # оставляем последние 10 кадров\n",
        "\n",
        "# Предсказываем новый набор из 10 кадров\n",
        "for _ in range(10):\n",
        "    # Получаем предсказанные моделью кадры и обрабатываем их\n",
        "    new_prediction = model.predict(np.expand_dims(frames, axis=0)) # добавляем размерность батча и подаем последовательность из 10 кадров на вход модели\n",
        "    new_prediction = np.squeeze(new_prediction, axis=0) # убираем лишнюю размерность в начале, которую добавляли для подачи данных в нейронку\n",
        "    #==\n",
        "    #plt.imshow(np.squeeze(new_prediction[-1]) , cmap='gray')\n",
        "    #plt.show()\n",
        "    #==\n",
        "    predicted_frame = np.expand_dims(new_prediction[-1, ...], axis=0) # берем последний сгенерированный кадр, добавляем к нему размерность (1, 64, 64, 1)\n",
        "\n",
        "    # добавляем в конец предсказанные кадры\n",
        "    frames = np.concatenate((frames, predicted_frame), axis=0) # добавляем к первым 10 кадрам (10, 64, 64, 1) + (1, 64, 64, 1) сгенерированный кадр,\n",
        "                                                               # повторяем цикл для всех 10 которые надо восстановить.\n",
        "    print(frames.shape)"
      ],
      "execution_count": null,
      "outputs": [
        {
          "output_type": "stream",
          "name": "stdout",
          "text": [
            "64\n",
            "(11, 64, 64, 1)\n",
            "(12, 64, 64, 1)\n",
            "(13, 64, 64, 1)\n",
            "(14, 64, 64, 1)\n",
            "(15, 64, 64, 1)\n",
            "(16, 64, 64, 1)\n",
            "(17, 64, 64, 1)\n",
            "(18, 64, 64, 1)\n",
            "(19, 64, 64, 1)\n",
            "(20, 64, 64, 1)\n"
          ]
        }
      ]
    },
    {
      "cell_type": "markdown",
      "metadata": {
        "id": "yLc1wVajrKyP"
      },
      "source": [
        "После десяти итераций мы сгенерировали десять недостающих кадров и добавили их к framse, в котором хранились первые 10 оригинальных кадров. В итоге, получили ту же размерность последовательности кадров"
      ]
    },
    {
      "cell_type": "code",
      "metadata": {
        "colab": {
          "base_uri": "https://localhost:8080/",
          "height": 275
        },
        "id": "VejfnYDOjFFw",
        "outputId": "82b669c7-48e2-4b16-cb05-eb817afd3c25"
      },
      "source": [
        "compare_frames(original_frames, frames[10:], data_choice)"
      ],
      "execution_count": null,
      "outputs": [
        {
          "output_type": "display_data",
          "data": {
            "image/png": "[encoded data removed]",
            "text/plain": [
              "<Figure size 1440x288 with 20 Axes>"
            ]
          },
          "metadata": {
            "needs_background": "light"
          }
        }
      ]
    },
    {
      "cell_type": "markdown",
      "metadata": {
        "id": "PVYZ68All79w"
      },
      "source": [
        "### Покадровая предикция"
      ]
    },
    {
      "cell_type": "markdown",
      "metadata": {
        "id": "sUXIyho6r8dD"
      },
      "source": [
        "Разница между аппроксимацией и покадровой предикцией в том, что: в первом случае, мы подаем на вход модели 10 первых оригинальных кадров, а дальше добавляем в последовательность сенерированные кадры; во втором случае мы подаем на вход модели только оригинальные кадры, а сгенерированные записываем в отдельгный массив."
      ]
    },
    {
      "cell_type": "code",
      "metadata": {
        "id": "DeDq9otAS3bc"
      },
      "source": [
        "# Создаем устой массив под новые кадры\n",
        "new_predictions = np.zeros(shape=(10, *frames[0].shape)) \n",
        "# Предсказываем надор из 10 кадров\n",
        "for i in range(10):\n",
        "   # Подаем в модель кадр за кадром\n",
        "   frames = example[: 10 + i + 1]\n",
        "   new_prediction = model.predict(np.expand_dims(frames, axis=0)) # Выход (1, 20, 64, 64, 1)\n",
        "   new_prediction = np.squeeze(new_prediction, axis=0) # (20, 64, 64, 1)\n",
        "   predicted_frame = np.expand_dims(new_prediction[-1], axis=0) # (1, 64, 64, 1)\n",
        "   # Записываем предсказанные кадры\n",
        "   new_predictions[i] = predicted_frame # (10, 64, 64, 1)\n"
      ],
      "execution_count": null,
      "outputs": []
    },
    {
      "cell_type": "code",
      "metadata": {
        "colab": {
          "base_uri": "https://localhost:8080/",
          "height": 275
        },
        "id": "iItkRaN9sV92",
        "outputId": "245c202d-278c-4669-cd71-04e2506e1e0e"
      },
      "source": [
        "compare_frames(original_frames, new_predictions, data_choice)"
      ],
      "execution_count": null,
      "outputs": [
        {
          "output_type": "display_data",
          "data": {
            "image/png": "[encoded data removed]",
            "text/plain": [
              "<Figure size 1440x288 with 20 Axes>"
            ]
          },
          "metadata": {
            "needs_background": "light"
          }
        }
      ]
    },
    {
      "cell_type": "markdown",
      "metadata": {
        "id": "iUY5scAxyBrv"
      },
      "source": [
        "После десяти итераций мы сгенерировали десять новых кадров и записали их в new_predictions"
      ]
    },
    {
      "cell_type": "markdown",
      "metadata": {
        "id": "0ah3QTqjrmZs"
      },
      "source": [
        "## Предсказание видео потока\n",
        "\n",
        "<p>В заключении мы выберем несколько примеров из проверочной выборки и создадим GIF анимацию, чтобы посмотреть, как наша модель предсказывает видео кадры\n"
      ]
    },
    {
      "cell_type": "code",
      "metadata": {
        "id": "dCofs_CcrmZt",
        "colab": {
          "base_uri": "https://localhost:8080/",
          "height": 375,
          "referenced_widgets": [
            "09fd83220ed14777bc5e4f6c8f825cce",
            "a0c4bf42297043a3b1b2e34fda7a62fd",
            "57c44ed884a9431790fa4e1decd70690",
            "fb768fed2a86414faa23360f1ae68f2e",
            "532b2b4027fc46ce9313cb6351d253bc",
            "05d13f96cfa94d0a90f7a2b0839a2c5a",
            "f749a0c94ad34c0d8a9936c756cd1ec9",
            "9af459ae862b4db18b354bb249686a03",
            "b15584eeff5d4f089f525c3ac3ee14a2",
            "d7fdf1fefd8e43c3b46245f66c78c69f",
            "cdb7fd76c6e248478e27cf8f614a0a72",
            "3e25ba181ef146838f166b0c1fc1ca4b",
            "03ccad4224d6470f909ee46486bb99bc",
            "51f4279d5caa4754970098cc761ddaa7",
            "f92395c5b8ad4ec989c94210778a40c2",
            "b1d9944ddefd44758f193bd2f182ed86",
            "d9596c8808c34b89abf10108ed754a38",
            "1e098f0cdb3e4814b92edcf2f34ebb89",
            "61ae89b7b2f74476872944c4a9da365c",
            "453e98f21d66490db9b6d72f341b8ca7",
            "d35e90b56a854ab5b13c7c373c6c6b22",
            "efe8e70e37574480b1d4a9009d806bcd",
            "d0994d86e1d4484ebde21cfb3a300998",
            "355046bef22741fc9be0af2bc64ecb2d",
            "8d81a8ff0cda4c71bf1df3987ce6449b",
            "0f313b9cdc3f43488dcc6e93ad752c7a",
            "4cf7b390d2ee4da9b5a3f438eaec26c1",
            "619dc43f8dec491e94869e980e2ad0e0",
            "432c14c9558642a99ffa72ad0f05fcaf",
            "cf25038d78384145a5fb373e789cca98"
          ]
        },
        "outputId": "f9d1cb19-f56c-4498-8fde-fe5ef46afc17"
      },
      "source": [
        "# Выбираем несколько случайных примеров из проверочной выборки\n",
        "examples = val_dataset[np.random.choice(range(len(val_dataset)), size=5)]\n",
        "\n",
        "# Генерируем кадры для каждого примера\n",
        "predicted_videos = []\n",
        "for example in examples:\n",
        "    # Делим последовательность кадров пополам 10 с начала и 10 с конца\n",
        "    frames = example[:10, ...]\n",
        "    original_frames = example[10:, ...]\n",
        "    new_predictions = np.zeros(shape=(10, *frames[0].shape))\n",
        "\n",
        "    # Предсказываем надор из 10 кадров\n",
        "    for i in range(10):\n",
        "       # Подаем в модель кадр за кадром\n",
        "       frames = example[: 10 + i + 1, ...]\n",
        "       new_prediction = model.predict(np.expand_dims(frames, axis=0)) # Выход (1, 20, 64, 64, 1)\n",
        "       new_prediction = np.squeeze(new_prediction, axis=0) # (20, 64, 64, 1)\n",
        "       predicted_frame = np.expand_dims(new_prediction[-1], axis=0) # (1, 64, 64, 1)\n",
        "       # Записываем предсказанные кадры\n",
        "       new_predictions[i] = predicted_frame # (10, 64, 64, 1)\n",
        "\n",
        "    # Создаем и сохраняем GIF анимацию для проверочного и предсказанного набора кадров\n",
        "    num = 1\n",
        "    for frame_set in [original_frames, new_predictions]:\n",
        "        # Создаем GIF последовательность из выбранных видео кадров\n",
        "        current_frames = np.squeeze(frame_set) # убираем размерность у кадров сзади (64, 64, 1) --> (64, 64)\n",
        "        current_frames = current_frames[..., np.newaxis] * np.ones(3) # Дабавляем вместо 1 кнала 3 --> (64, 64)-->(64, 64, 3)\n",
        "        current_frames = (current_frames * 255).astype(np.uint8) # Убираем нормиовку \n",
        "        current_frames = list(current_frames) # Переводим из тензор из numpy в список\n",
        "\n",
        "        # Создаем GIF из наора кадров\n",
        "        with io.BytesIO() as gif:\n",
        "            imageio.mimsave(gif, current_frames,'.gif', fps=5) # переводим список кадров в gif изображение с частотой 5 кадров в секунду\n",
        "            predicted_videos.append(gif.getvalue())\n",
        "        num+=1\n",
        "\n",
        "# Показываем видео\n",
        "print(\" Truth\\tPrediction\")\n",
        "for i in range(0, len(predicted_videos), 2):\n",
        "    # Construct and display an `HBox` with the ground truth and prediction.\n",
        "    box = HBox(\n",
        "        [\n",
        "            widgets.Image(value=predicted_videos[i]),\n",
        "            widgets.Image(value=predicted_videos[i + 1]),\n",
        "        ]\n",
        "    )\n",
        "    display(box)"
      ],
      "execution_count": null,
      "outputs": [
        {
          "output_type": "stream",
          "name": "stdout",
          "text": [
            " Truth\tPrediction\n"
          ]
        },
        {
          "output_type": "display_data",
          "data": {
            "application/vnd.jupyter.widget-view+json": {
              "model_id": "09fd83220ed14777bc5e4f6c8f825cce",
              "version_minor": 0,
              "version_major": 2
            },
            "text/plain": [
              "HBox(children=(Image(value=b'GIF89a@\\x00@\\x00\\x87\\x00\\x00\\xff\\xff\\xff\\xfd\\xfd\\xfd\\xfc\\xfc\\xfc\\xfa\\xfa\\xfa\\xf8\\…"
            ]
          },
          "metadata": {}
        },
        {
          "output_type": "display_data",
          "data": {
            "application/vnd.jupyter.widget-view+json": {
              "model_id": "f749a0c94ad34c0d8a9936c756cd1ec9",
              "version_minor": 0,
              "version_major": 2
            },
            "text/plain": [
              "HBox(children=(Image(value=b'GIF89a@\\x00@\\x00\\x87\\x00\\x00\\xff\\xff\\xff\\xfe\\xfe\\xfe\\xfd\\xfd\\xfd\\xfc\\xfc\\xfc\\xfb\\…"
            ]
          },
          "metadata": {}
        },
        {
          "output_type": "display_data",
          "data": {
            "application/vnd.jupyter.widget-view+json": {
              "model_id": "03ccad4224d6470f909ee46486bb99bc",
              "version_minor": 0,
              "version_major": 2
            },
            "text/plain": [
              "HBox(children=(Image(value=b'GIF89a@\\x00@\\x00\\x87\\x00\\x00\\xff\\xff\\xff\\xfe\\xfe\\xfe\\xfd\\xfd\\xfd\\xfc\\xfc\\xfc\\xfb\\…"
            ]
          },
          "metadata": {}
        },
        {
          "output_type": "display_data",
          "data": {
            "application/vnd.jupyter.widget-view+json": {
              "model_id": "61ae89b7b2f74476872944c4a9da365c",
              "version_minor": 0,
              "version_major": 2
            },
            "text/plain": [
              "HBox(children=(Image(value=b'GIF89a@\\x00@\\x00\\x87\\x00\\x00\\xff\\xff\\xff\\xfe\\xfe\\xfe\\xfd\\xfd\\xfd\\xfc\\xfc\\xfc\\xfb\\…"
            ]
          },
          "metadata": {}
        },
        {
          "output_type": "display_data",
          "data": {
            "application/vnd.jupyter.widget-view+json": {
              "model_id": "8d81a8ff0cda4c71bf1df3987ce6449b",
              "version_minor": 0,
              "version_major": 2
            },
            "text/plain": [
              "HBox(children=(Image(value=b'GIF89a@\\x00@\\x00\\x87\\x00\\x00\\xff\\xff\\xff\\xfd\\xfd\\xfd\\xfb\\xfb\\xfb\\xf9\\xf9\\xf9\\xf8\\…"
            ]
          },
          "metadata": {}
        }
      ]
    },
    {
      "cell_type": "code",
      "metadata": {
        "colab": {
          "base_uri": "https://localhost:8080/",
          "height": 375,
          "referenced_widgets": [
            "a3620e9b71d14fef852267f4c7887dd5",
            "17412ce7e2e7444b99fa26a5f62e95d0",
            "e40ab02003304b2a80c7129e3d718794",
            "ef0633fe20c64daf86da45dff83902cc",
            "fa5d73381c9847059ac966c128ba3e18",
            "810eb364e4cc4309a372cbeea26f4f3d",
            "7edaeaaf2b9d4cac90e0c7cf43d1aaed",
            "d7d4c36bdded40df983217c57ca4cb13",
            "3070dfc530724d2d886a9fe923d2eb5b",
            "09a3354540bf4406900aac5f5215e865",
            "ac09b15e45884f14bd2e43cc4b55437c",
            "e8db074d91fb42b2a7512bd4ec34f947",
            "0f5019b6aa8f404bacde04eb180d352a",
            "e2d93080deba4434a1b8600f843a3532",
            "758ebf2927c64253aa73faa11011a1b9",
            "06d6f9fd51644eed89221fce20fcf97e",
            "70bd262afc594657859bbe6c5351899f",
            "ea79d79d60004eb7b79a8c284ce9149d",
            "21eab0fb9af64f8ea0c2c71a9de7b6e3",
            "25ac8dfd659743dea27116c72ff72539",
            "6928240db03b4500afc2a5a5c86e0ea6",
            "35ef7118fba64d33b57951ffe60a82dc",
            "457d34c4402c438c8dc8893a302e437a",
            "0fca4268baf048699c7717e129fde531",
            "c92b2ec1828748d7988fd9fcbbe7652b",
            "b469c9084c9c4c44a573a8c0b7a5d71b",
            "02b619160a9046ef9e4002f3cbbdf186",
            "e819371c51a044a298bc0f55e19d7bca",
            "24a429f0a4004960911fbf25646f8c69",
            "bd4becccb04949e291843a8ce45647fd"
          ]
        },
        "id": "4eNge7DP_-78",
        "outputId": "40de8244-c9fa-40bf-ae8e-35d2d179b5a5"
      },
      "source": [
        "# Выбираем несколько случайных примеров из проверочной выборки\n",
        "examples = val_dataset[np.random.choice(range(len(val_dataset)), size=5)]\n",
        "\n",
        "# Генерируем кадры для каждого примера\n",
        "predicted_videos = []\n",
        "for example in examples:\n",
        "    # Делим последовательность кадров пополам 10 с начала и 10 с конца\n",
        "    frames = example[:10, ...]\n",
        "    original_frames = example[10:, ...]\n",
        "    new_predictions = np.zeros(shape=(10, *frames[0].shape))\n",
        "\n",
        "    # Предсказываем надор из 10 кадров\n",
        "    for i in range(10):\n",
        "        # Получаем кадры от нашей модели и обрабатывавем их\n",
        "        frames = example[: 10 + i + 1, ...]\n",
        "        new_prediction = model.predict(np.expand_dims(frames, axis=0))\n",
        "        new_prediction = np.squeeze(new_prediction, axis=0)\n",
        "        predicted_frame = np.expand_dims(new_prediction[-1, ...], axis=0)\n",
        "\n",
        "        # Записываем предсказанные кадры\n",
        "        new_predictions[i] = predicted_frame\n",
        "\n",
        "    # Создаем и сохраняем GIF анимацию для проверочного и предсказанного набора кадров\n",
        "    num = 1\n",
        "    for frame_set in [original_frames, new_predictions]:\n",
        "        # Создаем GIF последовательность из выбранных видео кадров\n",
        "        current_frames = np.squeeze(frame_set)\n",
        "        current_frames = current_frames[..., np.newaxis] * np.ones(3)\n",
        "        current_frames = (current_frames * 255).astype(np.uint8)\n",
        "        current_frames = list(current_frames)\n",
        "\n",
        "        # Создаем GIF из наора кадров\n",
        "        with io.BytesIO() as gif:\n",
        "            imageio.mimsave(gif, current_frames, '/content/video_predict'+ str(num) + '.gif', fps=5)\n",
        "            predicted_videos.append(gif.getvalue())\n",
        "        num+=1\n",
        "\n",
        "# Показываем видео\n",
        "print(\" Truth\\tPrediction\")\n",
        "for i in range(0, len(predicted_videos), 2):\n",
        "    # Construct and display an `HBox` with the ground truth and prediction.\n",
        "    box = HBox(\n",
        "        [\n",
        "            widgets.Image(value=predicted_videos[i]),\n",
        "            widgets.Image(value=predicted_videos[i + 1]),\n",
        "        ]\n",
        "    )\n",
        "    display(box)"
      ],
      "execution_count": null,
      "outputs": [
        {
          "output_type": "stream",
          "name": "stdout",
          "text": [
            " Truth\tPrediction\n"
          ]
        },
        {
          "output_type": "display_data",
          "data": {
            "application/vnd.jupyter.widget-view+json": {
              "model_id": "a3620e9b71d14fef852267f4c7887dd5",
              "version_minor": 0,
              "version_major": 2
            },
            "text/plain": [
              "HBox(children=(Image(value=b'GIF89a@\\x00@\\x00\\x87\\x00\\x00\\xff\\xff\\xff\\xfe\\xfe\\xfe\\xfd\\xfd\\xfd\\xfc\\xfc\\xfc\\xfb\\…"
            ]
          },
          "metadata": {}
        },
        {
          "output_type": "display_data",
          "data": {
            "application/vnd.jupyter.widget-view+json": {
              "model_id": "7edaeaaf2b9d4cac90e0c7cf43d1aaed",
              "version_minor": 0,
              "version_major": 2
            },
            "text/plain": [
              "HBox(children=(Image(value=b'GIF89a@\\x00@\\x00\\x87\\x00\\x00\\xff\\xff\\xff\\xfe\\xfe\\xfe\\xfd\\xfd\\xfd\\xf9\\xf9\\xf9\\xf2\\…"
            ]
          },
          "metadata": {}
        },
        {
          "output_type": "display_data",
          "data": {
            "application/vnd.jupyter.widget-view+json": {
              "model_id": "0f5019b6aa8f404bacde04eb180d352a",
              "version_minor": 0,
              "version_major": 2
            },
            "text/plain": [
              "HBox(children=(Image(value=b'GIF89a@\\x00@\\x00\\x87\\x00\\x00\\xff\\xff\\xff\\xfe\\xfe\\xfe\\xfd\\xfd\\xfd\\xfc\\xfc\\xfc\\xf9\\…"
            ]
          },
          "metadata": {}
        },
        {
          "output_type": "display_data",
          "data": {
            "application/vnd.jupyter.widget-view+json": {
              "model_id": "21eab0fb9af64f8ea0c2c71a9de7b6e3",
              "version_minor": 0,
              "version_major": 2
            },
            "text/plain": [
              "HBox(children=(Image(value=b'GIF89a@\\x00@\\x00\\x87\\x00\\x00\\xff\\xff\\xff\\xfe\\xfe\\xfe\\xfd\\xfd\\xfd\\xfc\\xfc\\xfc\\xf7\\…"
            ]
          },
          "metadata": {}
        },
        {
          "output_type": "display_data",
          "data": {
            "application/vnd.jupyter.widget-view+json": {
              "model_id": "c92b2ec1828748d7988fd9fcbbe7652b",
              "version_minor": 0,
              "version_major": 2
            },
            "text/plain": [
              "HBox(children=(Image(value=b'GIF89a@\\x00@\\x00\\x87\\x00\\x00\\xff\\xff\\xff\\xfe\\xfe\\xfe\\xfd\\xfd\\xfd\\xfc\\xfc\\xfc\\xfb\\…"
            ]
          },
          "metadata": {}
        }
      ]
    },
    {
      "cell_type": "markdown",
      "metadata": {
        "id": "fvoBAq2wxPLG"
      },
      "source": [
        "**Содержание**:\n",
        "\n",
        "1. [Теория](https://colab.research.google.com/drive/1Jy2ohBJfFKsBiQkqlkjunv8FWRIBSD7k?usp=sharing)\n",
        "2. Практический ноутбук"
      ]
    }
  ]
}