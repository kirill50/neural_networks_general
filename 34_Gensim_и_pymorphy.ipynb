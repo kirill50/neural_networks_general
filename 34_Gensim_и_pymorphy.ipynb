{
  "nbformat": 4,
  "nbformat_minor": 0,
  "metadata": {
    "colab": {
      "provenance": [],
      "collapsed_sections": [
        "EDhoFHeGNoBP",
        "hjX24WjAOECw",
        "mjMVdqi2OcDq",
        "izUrjoNqO8v4",
        "2AtBMVe1PiuL",
        "5UZ-blP5P3iq",
        "WIK0_0O5RLHn",
        "BJA0-uj-aM__",
        "xT4jHCdDa6CV",
        "-OkpRKb2b1j6"
      ]
    },
    "kernelspec": {
      "name": "python3",
      "display_name": "Python 3"
    },
    "language_info": {
      "name": "python"
    },
    "accelerator": "GPU",
    "gpuClass": "standard"
  },
  "cells": [
    {
      "cell_type": "markdown",
      "source": [
        "* [pymorphy2](https://colab.research.google.com/drive/1Eh35USCAfTvwH3TsgXAGSUtSvUeuVle5?usp=sharing)"
      ],
      "metadata": {
        "id": "10p0s2r9Axww"
      }
    },
    {
      "cell_type": "markdown",
      "source": [
        "Gensim — библиотека обработки естественного языка предназначения для «Тематического моделирования».\n",
        "С его помощью можно обрабатывать тексты, работать с векторными моделями слов (такими как Word2Vec, FastText и т. д.) и создавать тематические модели текстов."
      ],
      "metadata": {
        "id": "NOoRx-PyKDae"
      }
    },
    {
      "cell_type": "markdown",
      "source": [
        "# Введение"
      ],
      "metadata": {
        "id": "vzQt-azQKD8V"
      }
    },
    {
      "cell_type": "markdown",
      "source": [
        "Что такое Gensim?\n",
        "\n",
        "Тематическое моделирование — это метод извлечения основных тем которым посвящен обрабатываемый текст. В пакете Gensim реализованы основные алгоритмы тематического моделирования LDA и LSI (о которых мы расскажем позже в этом посте).\n",
        "\n",
        "Вы можете заметить, что эти алгоритмы доступны и в других пакетах, таких как scikit, R и т. д. Но скорость обработки и качество результата и оценки тематических моделей не имеют аналогов в gensim, плюс так в пакете много удобных средств для обработки текста.\n",
        "\n",
        "Еще одно существенное преимущество gensim: он позволяет обрабатывать большие текстовые файлы, не загружая весь файл в память.\n"
      ],
      "metadata": {
        "id": "JTYXXwZSKInI"
      }
    },
    {
      "cell_type": "markdown",
      "source": [
        "# Что такое словарь и корпус?"
      ],
      "metadata": {
        "id": "JbHKvzpbKN1i"
      }
    },
    {
      "cell_type": "markdown",
      "source": [
        "Чтобы работать с текстовыми документами, Gensim требует, чтобы слова (или как еще их называют в данном случае токены) были преобразованы в уникальные идентификаторы. Для этого в Gensim необходимо создать объект **`Dictionary`**, который сопоставит каждое слово с уникальным идентификатором.\n",
        "\n",
        "Итак, как создать `Словарь`?\n",
        "Преобразуем текст или предложения в `[список слов]` и передадим этот список объекту `**corpora.Dictionary()**`.\n",
        "\n",
        "Я покажу как это сделать, в следующем разделе. А сейчас рассмотрим зачем нужен объект словаря и как его использовать?\n",
        "\n",
        "Объект словаря обычно используется для создания так называемого мешка слов `**«bag of words»**`. Именно этот словарь и «bag of words» (Corpus) используются в качестве входных данных для тематического моделирования и других моделей, на которых специализируется Gensim.\n",
        "\n",
        "Какие типы текстов может обрабатывать Gensim? Входной текст может быть в одной из 3 разных форм:\n",
        "\n",
        "* Как предложения, хранящиеся в собственном объекте списка Python.\n",
        "* Как один текстовый файл.\n",
        "* В нескольких текстовых файлах.\n",
        "\n",
        "Если вам необходимо обработать большой по объему тестовый файл, то Gensim может загрузить текст и обновить словарь, по одной строчке за раз, без загрузки всего текстового файла в системную память. Мы покажем, как это сделать в следующих двух разделах.\n",
        "\n",
        "Но, прежде определенимся с терминалогией обработки естественного языка.\n",
        "\n",
        "**`«Токен»`** обычно означает «слово». **`«Документ»`** обычно может относиться как к «предложению» так и к «абзацу», а **`«корпус»`** обычно представляет собой «собрание документов» в виде пакета слов или как его еще называют мешка слов. То есть для каждого документа корпус содержит идентификатор каждого слова и его частоту в этом документе. В результате информация о порядке слов теряется.\n",
        "\n",
        "Далее рассмотрим, как создать словарь из списка предложений."
      ],
      "metadata": {
        "id": "8jIibPEfKPUh"
      }
    },
    {
      "cell_type": "markdown",
      "source": [
        "# Как создать словарь из списка предложений?"
      ],
      "metadata": {
        "id": "FudzmY6_LA1n"
      }
    },
    {
      "cell_type": "markdown",
      "source": [
        "Вы можете создать словарь из списка предложений, из текстового файла, который содержит несколько строк текста, и из нескольких таких текстовых файлов, содержащихся в каталоге.\n",
        "\n",
        "Начнем со «Список предложений».\n",
        "\n",
        "Если у вас есть несколько предложений, вам нужно преобразовать каждое предложение в список слов."
      ],
      "metadata": {
        "id": "BXaV_m4OLCF1"
      }
    },
    {
      "cell_type": "code",
      "source": [
        "import gensim\n",
        "from gensim import corpora\n",
        "from pprint import pprint\n",
        "\n",
        "# How to create a dictionary from a list of sentences?\n",
        "documents = [\"The Saudis are preparing a report that will acknowledge that\", \n",
        "             \"Saudi journalist Jamal Khashoggi's death was the result of an\", \n",
        "             \"interrogation that went wrong, one that was intended to lead\", \n",
        "             \"to his abduction from Turkey, according to two sources.\"]\n",
        "\n",
        "documents_2 = [\"One source says the report will likely conclude that\", \n",
        "                \"the operation was carried out without clearance and\", \n",
        "                \"transparency and that those involved will be held\", \n",
        "                \"responsible. One of the sources acknowledged that the\", \n",
        "                \"report is still being prepared and cautioned that\", \n",
        "                \"things could change.\"]\n",
        "\n",
        "# Tokenize(split) the sentences into words\n",
        "texts = [[text for text in doc.split()] for doc in documents]\n",
        "\n",
        "# Create dictionary\n",
        "dictionary = corpora.Dictionary(texts)\n",
        "\n",
        "# Get information about the dictionary\n",
        "print(dictionary)\n"
      ],
      "metadata": {
        "colab": {
          "base_uri": "https://localhost:8080/"
        },
        "id": "TECVjER-LEtT",
        "outputId": "e1046508-22de-463c-dc96-68f8df759130"
      },
      "execution_count": null,
      "outputs": [
        {
          "output_type": "stream",
          "name": "stdout",
          "text": [
            "Dictionary(33 unique tokens: ['Saudis', 'The', 'a', 'acknowledge', 'are']...)\n"
          ]
        }
      ]
    },
    {
      "cell_type": "markdown",
      "source": [
        "В итоге мы получим словарь из 34 уникальных токена (или слова). Давайте посмотрим уникальные идентификаторы для каждого из этих токенов."
      ],
      "metadata": {
        "id": "dZW0-sM5LLHv"
      }
    },
    {
      "cell_type": "code",
      "source": [
        "# Show the word to id map\n",
        "print(dictionary.token2id)"
      ],
      "metadata": {
        "colab": {
          "base_uri": "https://localhost:8080/"
        },
        "id": "vyN3wkFxLN8C",
        "outputId": "099db8a8-1efd-40a0-8c15-60489534a04d"
      },
      "execution_count": null,
      "outputs": [
        {
          "output_type": "stream",
          "name": "stdout",
          "text": [
            "{'Saudis': 0, 'The': 1, 'a': 2, 'acknowledge': 3, 'are': 4, 'preparing': 5, 'report': 6, 'that': 7, 'will': 8, 'Jamal': 9, \"Khashoggi's\": 10, 'Saudi': 11, 'an': 12, 'death': 13, 'journalist': 14, 'of': 15, 'result': 16, 'the': 17, 'was': 18, 'intended': 19, 'interrogation': 20, 'lead': 21, 'one': 22, 'to': 23, 'went': 24, 'wrong,': 25, 'Turkey,': 26, 'abduction': 27, 'according': 28, 'from': 29, 'his': 30, 'sources.': 31, 'two': 32}\n"
          ]
        }
      ]
    },
    {
      "cell_type": "markdown",
      "source": [
        "Мы успешно создали объект **`Dictionary`**. Gensim будет использовать этот словарь для создания корпуса, в котором слова в документах заменяются соответствующим идентификатором, предоставленным этим словарем.\n",
        "\n",
        "Если вы загрузите новые документы в будущем, также нужно будет обновить существующий словарь, чтобы включить новые слова."
      ],
      "metadata": {
        "id": "ygrkHeZXLTLq"
      }
    },
    {
      "cell_type": "code",
      "source": [
        "documents_2 = [\"The intersection graph of paths in trees\",\n",
        "               \"Graph minors IV Widths of trees and well quasi ordering\",\n",
        "               \"Graph minors A survey\"]\n",
        "\n",
        "texts_2 = [[text for text in doc.split()] for doc in documents_2]\n",
        "\n",
        "dictionary.add_documents(texts_2)\n",
        "\n",
        "\n",
        "# If you check now, the dictionary should have been updated with the new words (tokens).\n",
        "print(dictionary)\n",
        "\n",
        "print(dictionary.token2id)\n"
      ],
      "metadata": {
        "colab": {
          "base_uri": "https://localhost:8080/"
        },
        "id": "tXUTWu-FLYkh",
        "outputId": "19064368-8222-4477-900f-59c902955dfe"
      },
      "execution_count": null,
      "outputs": [
        {
          "output_type": "stream",
          "name": "stdout",
          "text": [
            "Dictionary(48 unique tokens: ['Saudis', 'The', 'a', 'acknowledge', 'are']...)\n",
            "{'Saudis': 0, 'The': 1, 'a': 2, 'acknowledge': 3, 'are': 4, 'preparing': 5, 'report': 6, 'that': 7, 'will': 8, 'Jamal': 9, \"Khashoggi's\": 10, 'Saudi': 11, 'an': 12, 'death': 13, 'journalist': 14, 'of': 15, 'result': 16, 'the': 17, 'was': 18, 'intended': 19, 'interrogation': 20, 'lead': 21, 'one': 22, 'to': 23, 'went': 24, 'wrong,': 25, 'Turkey,': 26, 'abduction': 27, 'according': 28, 'from': 29, 'his': 30, 'sources.': 31, 'two': 32, 'graph': 33, 'in': 34, 'intersection': 35, 'paths': 36, 'trees': 37, 'Graph': 38, 'IV': 39, 'Widths': 40, 'and': 41, 'minors': 42, 'ordering': 43, 'quasi': 44, 'well': 45, 'A': 46, 'survey': 47}\n"
          ]
        }
      ]
    },
    {
      "cell_type": "markdown",
      "source": [
        "# Как создать словарь из одного или нескольких текстовых файлов?"
      ],
      "metadata": {
        "id": "CL-6ZsNfLkcD"
      }
    },
    {
      "cell_type": "markdown",
      "source": [
        "Вы также можете создать словарь из текстового файла или из каталога содержащего несколько текстовых файлов.\n",
        "\n",
        "Приведенный ниже пример считывает файл построчно и использует функци gensim **`simple_preprocess`** для обработки одной строки файла за раз.\n",
        "\n",
        "Преимущество в том, что вы можете прочитать весь текстовый файл, не загружая файл в память сразу.\n",
        "\n",
        "Допустим что файл будет называться файл sample.txt, чтобы продемонстрировать это."
      ],
      "metadata": {
        "id": "J3Ja-K9mLlfi"
      }
    },
    {
      "cell_type": "code",
      "source": [
        "!git clone https://github.com/selva86/datasets.git"
      ],
      "metadata": {
        "colab": {
          "base_uri": "https://localhost:8080/"
        },
        "id": "Oi82CJ7sNUNX",
        "outputId": "f1a6b5df-0492-4fd1-c30e-1b18ae9cb15d"
      },
      "execution_count": null,
      "outputs": [
        {
          "output_type": "stream",
          "name": "stdout",
          "text": [
            "Cloning into 'datasets'...\n",
            "remote: Enumerating objects: 483, done.\u001b[K\n",
            "remote: Counting objects: 100% (126/126), done.\u001b[K\n",
            "remote: Compressing objects: 100% (4/4), done.\u001b[K\n",
            "remote: Total 483 (delta 123), reused 122 (delta 122), pack-reused 357\u001b[K\n",
            "Receiving objects: 100% (483/483), 43.65 MiB | 17.43 MiB/s, done.\n",
            "Resolving deltas: 100% (156/156), done.\n"
          ]
        }
      ]
    },
    {
      "cell_type": "code",
      "source": [
        "from gensim.utils import simple_preprocess\n",
        "from smart_open import smart_open\n",
        "import os\n",
        "\n",
        "# Create gensim dictionary form a single tet file\n",
        "dictionary = corpora.Dictionary(simple_preprocess(line, deacc=True) for line in open('/content/datasets/lda_sports_politics_long_docs/queen elizabeth.txt', encoding='utf-8'))\n",
        "\n",
        "# Token to Id map\n",
        "dictionary.token2id\n",
        "\n"
      ],
      "metadata": {
        "colab": {
          "base_uri": "https://localhost:8080/"
        },
        "id": "gx4zEBI2LpXU",
        "outputId": "9ec371bf-e317-4a34-fec0-bc4dd885d3d8"
      },
      "execution_count": null,
      "outputs": [
        {
          "output_type": "execute_result",
          "data": {
            "text/plain": [
              "{'abdication': 0,\n",
              " 'acceded': 1,\n",
              " 'accession': 2,\n",
              " 'africa': 3,\n",
              " 'aged': 4,\n",
              " 'alexandra': 5,\n",
              " 'also': 6,\n",
              " 'and': 7,\n",
              " 'andrew': 8,\n",
              " 'anne': 9,\n",
              " 'annus': 10,\n",
              " 'antigua': 11,\n",
              " 'april': 12,\n",
              " 'as': 13,\n",
              " 'assassination': 14,\n",
              " 'at': 15,\n",
              " 'australia': 16,\n",
              " 'auxiliary': 17,\n",
              " 'bahamas': 18,\n",
              " 'barbados': 19,\n",
              " 'barbuda': 20,\n",
              " 'become': 21,\n",
              " 'been': 22,\n",
              " 'began': 23,\n",
              " 'belize': 24,\n",
              " 'births': 25,\n",
              " 'born': 26,\n",
              " 'breakdown': 27,\n",
              " 'britain': 28,\n",
              " 'british': 29,\n",
              " 'brother': 30,\n",
              " 'but': 31,\n",
              " 'canada': 32,\n",
              " 'canadian': 33,\n",
              " 'celebration': 34,\n",
              " 'changes': 35,\n",
              " 'charles': 36,\n",
              " 'children': 37,\n",
              " 'commonwealth': 38,\n",
              " 'conflicts': 39,\n",
              " 'constitutional': 40,\n",
              " 'coronation': 41,\n",
              " 'countries': 42,\n",
              " 'criticism': 43,\n",
              " 'daughters': 44,\n",
              " 'death': 45,\n",
              " 'deaths': 46,\n",
              " 'decolonisation': 47,\n",
              " 'devolution': 48,\n",
              " 'diamond': 49,\n",
              " 'diana': 50,\n",
              " 'does': 51,\n",
              " 'duchess': 52,\n",
              " 'duke': 53,\n",
              " 'during': 54,\n",
              " 'duties': 55,\n",
              " 'edinburgh': 56,\n",
              " 'educated': 57,\n",
              " 'edward': 58,\n",
              " 'elder': 59,\n",
              " 'elizabeth': 60,\n",
              " 'ex': 61,\n",
              " 'faced': 62,\n",
              " 'family': 63,\n",
              " 'father': 64,\n",
              " 'female': 65,\n",
              " 'for': 66,\n",
              " 'four': 67,\n",
              " 'from': 68,\n",
              " 'george': 69,\n",
              " 'golden': 70,\n",
              " 'grandchildren': 71,\n",
              " 'grandmother': 72,\n",
              " 'great': 73,\n",
              " 'grenada': 74,\n",
              " 'grenadines': 75,\n",
              " 'guinea': 76,\n",
              " 'has': 77,\n",
              " 'have': 78,\n",
              " 'head': 79,\n",
              " 'heir': 80,\n",
              " 'her': 81,\n",
              " 'high': 82,\n",
              " 'his': 83,\n",
              " 'historic': 84,\n",
              " 'history': 85,\n",
              " 'home': 86,\n",
              " 'horribilis': 87,\n",
              " 'ii': 88,\n",
              " 'in': 89,\n",
              " 'include': 90,\n",
              " 'included': 91,\n",
              " 'independent': 92,\n",
              " 'involving': 93,\n",
              " 'ireland': 94,\n",
              " 'is': 95,\n",
              " 'islands': 96,\n",
              " 'jamaica': 97,\n",
              " 'jubilees': 98,\n",
              " 'king': 99,\n",
              " 'kingdom': 100,\n",
              " 'kitts': 101,\n",
              " 'later': 102,\n",
              " 'lived': 103,\n",
              " 'london': 104,\n",
              " 'longest': 105,\n",
              " 'lord': 106,\n",
              " 'lucia': 107,\n",
              " 'major': 108,\n",
              " 'many': 109,\n",
              " 'marriages': 110,\n",
              " 'married': 111,\n",
              " 'mary': 112,\n",
              " 'meetings': 113,\n",
              " 'milestones': 114,\n",
              " 'moments': 115,\n",
              " 'monarch': 116,\n",
              " 'monarchy': 117,\n",
              " 'mother': 118,\n",
              " 'mountbatten': 119,\n",
              " 'nevis': 120,\n",
              " 'new': 121,\n",
              " 'occasionally': 122,\n",
              " 'of': 123,\n",
              " 'oldest': 124,\n",
              " 'on': 125,\n",
              " 'papua': 126,\n",
              " 'patriation': 127,\n",
              " 'personal': 128,\n",
              " 'philip': 129,\n",
              " 'pope': 130,\n",
              " 'popularity': 131,\n",
              " 'press': 132,\n",
              " 'presumptive': 133,\n",
              " 'prince': 134,\n",
              " 'princess': 135,\n",
              " 'privately': 136,\n",
              " 'public': 137,\n",
              " 'queen': 138,\n",
              " 'realms': 139,\n",
              " 'reciprocal': 140,\n",
              " 'regnant': 141,\n",
              " 'reign': 142,\n",
              " 'reigned': 143,\n",
              " 'reigning': 144,\n",
              " 'remains': 145,\n",
              " 'republic': 146,\n",
              " 'republican': 147,\n",
              " 'respectively': 148,\n",
              " 'royal': 149,\n",
              " 'sadness': 150,\n",
              " 'saint': 151,\n",
              " 'second': 152,\n",
              " 'seen': 153,\n",
              " 'sentiments': 154,\n",
              " 'service': 155,\n",
              " 'serving': 156,\n",
              " 'severe': 157,\n",
              " 'she': 158,\n",
              " 'significance': 159,\n",
              " 'silver': 160,\n",
              " 'since': 161,\n",
              " 'sister': 162,\n",
              " 'solomon': 163,\n",
              " 'son': 164,\n",
              " 'state': 165,\n",
              " 'such': 166,\n",
              " 'support': 167,\n",
              " 'surpassed': 168,\n",
              " 'territorial': 169,\n",
              " 'that': 170,\n",
              " 'the': 171,\n",
              " 'their': 172,\n",
              " 'throne': 173,\n",
              " 'through': 174,\n",
              " 'time': 175,\n",
              " 'times': 176,\n",
              " 'to': 177,\n",
              " 'tuvalu': 178,\n",
              " 'two': 179,\n",
              " 'uncle': 180,\n",
              " 'undertake': 181,\n",
              " 'united': 182,\n",
              " 'various': 183,\n",
              " 'vi': 184,\n",
              " 'victoria': 185,\n",
              " 'viii': 186,\n",
              " 'vincent': 187,\n",
              " 'visit': 188,\n",
              " 'visits': 189,\n",
              " 'wales': 190,\n",
              " 'war': 191,\n",
              " 'wars': 192,\n",
              " 'was': 193,\n",
              " 'well': 194,\n",
              " 'which': 195,\n",
              " 'whom': 196,\n",
              " 'wife': 197,\n",
              " 'with': 198,\n",
              " 'world': 199,\n",
              " 'york': 200,\n",
              " 'zealand': 201}"
            ]
          },
          "metadata": {},
          "execution_count": 14
        }
      ]
    },
    {
      "cell_type": "markdown",
      "source": [
        "Мы создали словарь из одного текстового файла.\n",
        "\n",
        "Теперь, как читать по одной строке из нескольких файлов?\n",
        "\n",
        "Предположим, что у вас есть несколько текстовых файлов в одном каталоге, вам будет необходимо определить новый класс и добавить метод **`__iter__`**. Метод `__iter__() `должен перебирать все файлы в данном каталоге и возвращать обработанный список токенов слов.\n",
        "\n",
        "Давайте определим класс с именем **`ReadTxtFiles`**, который принимает путь к каталогу, содержащему текстовые файлы."
      ],
      "metadata": {
        "id": "m95iW9VoMwnW"
      }
    },
    {
      "cell_type": "code",
      "source": [
        "%cd datasets"
      ],
      "metadata": {
        "colab": {
          "base_uri": "https://localhost:8080/"
        },
        "id": "T2CVnRSlNcHG",
        "outputId": "e2147717-ff86-4675-e209-699510798e87"
      },
      "execution_count": null,
      "outputs": [
        {
          "output_type": "stream",
          "name": "stdout",
          "text": [
            "/content/datasets\n"
          ]
        }
      ]
    },
    {
      "cell_type": "code",
      "source": [
        "class ReadTxtFiles(object):\n",
        "    def __init__(self, dirname):\n",
        "        self.dirname = dirname\n",
        "\n",
        "    def __iter__(self):\n",
        "        for fname in os.listdir(self.dirname):\n",
        "            for line in open(os.path.join(self.dirname, fname), encoding='latin'):\n",
        "                yield simple_preprocess(line)\n",
        "\n",
        "path_to_text_directory = \"lsa_sports_food_docs\"\n",
        "\n",
        "dictionary = corpora.Dictionary(ReadTxtFiles(path_to_text_directory))\n",
        "\n",
        "# Token to Id map\n",
        "dictionary.token2id\n"
      ],
      "metadata": {
        "colab": {
          "base_uri": "https://localhost:8080/"
        },
        "id": "ea0jBWiyMuOp",
        "outputId": "f9d8b879-a6d2-416a-c5ea-5589245ecea7"
      },
      "execution_count": null,
      "outputs": [
        {
          "output_type": "execute_result",
          "data": {
            "text/plain": [
              "{'accompanying': 48,\n",
              " 'according': 420,\n",
              " 'achaya': 421,\n",
              " 'across': 113,\n",
              " 'activity': 114,\n",
              " 'ad': 422,\n",
              " 'added': 49,\n",
              " 'advances': 166,\n",
              " 'advantage': 233,\n",
              " 'after': 192,\n",
              " 'ago': 50,\n",
              " 'aid': 491,\n",
              " 'all': 401,\n",
              " 'allow': 234,\n",
              " 'along': 402,\n",
              " 'already': 423,\n",
              " 'also': 235,\n",
              " 'alters': 236,\n",
              " 'although': 115,\n",
              " 'america': 377,\n",
              " 'amongst': 316,\n",
              " 'an': 51,\n",
              " 'ancient': 424,\n",
              " 'and': 0,\n",
              " 'another': 317,\n",
              " 'any': 193,\n",
              " 'are': 1,\n",
              " 'areas': 327,\n",
              " 'around': 167,\n",
              " 'as': 116,\n",
              " 'association': 357,\n",
              " 'associazione': 358,\n",
              " 'at': 2,\n",
              " 'attempts': 168,\n",
              " 'available': 492,\n",
              " 'back': 237,\n",
              " 'badminton': 117,\n",
              " 'baked': 328,\n",
              " 'baking': 468,\n",
              " 'ball': 155,\n",
              " 'baseball': 156,\n",
              " 'bases': 169,\n",
              " 'bat': 157,\n",
              " 'batsmen': 194,\n",
              " 'batter': 170,\n",
              " 'batting': 158,\n",
              " 'be': 3,\n",
              " 'beach': 118,\n",
              " 'beans': 403,\n",
              " 'became': 447,\n",
              " 'because': 448,\n",
              " 'become': 329,\n",
              " 'been': 52,\n",
              " 'between': 159,\n",
              " 'birthplace': 425,\n",
              " 'black': 280,\n",
              " 'body': 281,\n",
              " 'boiling': 53,\n",
              " 'both': 506,\n",
              " 'bounce': 238,\n",
              " 'bounces': 239,\n",
              " 'breakfast': 282,\n",
              " 'breaks': 283,\n",
              " 'broad': 469,\n",
              " 'but': 4,\n",
              " 'by': 119,\n",
              " 'cake': 284,\n",
              " 'cakes': 285,\n",
              " 'called': 195,\n",
              " 'calzone': 378,\n",
              " 'can': 5,\n",
              " 'casual': 120,\n",
              " 'categories': 470,\n",
              " 'cavatelli': 507,\n",
              " 'central': 330,\n",
              " 'centre': 196,\n",
              " 'century': 331,\n",
              " 'cereals': 471,\n",
              " 'cheese': 332,\n",
              " 'china': 54,\n",
              " 'chutney': 404,\n",
              " 'clockwise': 171,\n",
              " 'come': 508,\n",
              " 'commercially': 493,\n",
              " 'common': 6,\n",
              " 'commonly': 333,\n",
              " 'compiled': 449,\n",
              " 'completed': 197,\n",
              " 'composition': 55,\n",
              " 'condiments': 334,\n",
              " 'conjecture': 426,\n",
              " 'consisting': 286,\n",
              " 'consumed': 405,\n",
              " 'consumption': 56,\n",
              " 'cook': 379,\n",
              " 'cooked': 57,\n",
              " 'cooking': 58,\n",
              " 'counter': 172,\n",
              " 'countries': 287,\n",
              " 'country': 427,\n",
              " 'court': 121,\n",
              " 'cricket': 198,\n",
              " 'crispier': 450,\n",
              " 'cuisine': 472,\n",
              " 'cultural': 59,\n",
              " 'cultures': 7,\n",
              " 'cut': 8,\n",
              " 'dating': 473,\n",
              " 'day': 428,\n",
              " 'de': 288,\n",
              " 'decorative': 509,\n",
              " 'deep': 60,\n",
              " 'demands': 240,\n",
              " 'depending': 510,\n",
              " 'derives': 61,\n",
              " 'designated': 199,\n",
              " 'diameter': 289,\n",
              " 'diet': 406,\n",
              " 'different': 511,\n",
              " 'discussing': 62,\n",
              " 'dish': 335,\n",
              " 'dishes': 380,\n",
              " 'dismissed': 200,\n",
              " 'divided': 241,\n",
              " 'documented': 512,\n",
              " 'dosa': 407,\n",
              " 'dosai': 429,\n",
              " 'dosaka': 451,\n",
              " 'doubles': 122,\n",
              " 'dough': 9,\n",
              " 'down': 290,\n",
              " 'dried': 63,\n",
              " 'during': 201,\n",
              " 'durum': 474,\n",
              " 'each': 160,\n",
              " 'eat': 10,\n",
              " 'eaten': 11,\n",
              " 'eggs': 475,\n",
              " 'either': 202,\n",
              " 'eleven': 203,\n",
              " 'encyclopedia': 452,\n",
              " 'end': 204,\n",
              " 'ends': 205,\n",
              " 'enduri': 318,\n",
              " 'europe': 381,\n",
              " 'european': 359,\n",
              " 'evidence': 64,\n",
              " 'exact': 430,\n",
              " 'example': 513,\n",
              " 'except': 242,\n",
              " 'exist': 382,\n",
              " 'extracted': 12,\n",
              " 'extras': 206,\n",
              " 'extruded': 13,\n",
              " 'extrusion': 494,\n",
              " 'fails': 243,\n",
              " 'far': 14,\n",
              " 'fast': 244,\n",
              " 'fermentation': 291,\n",
              " 'fermented': 292,\n",
              " 'field': 207,\n",
              " 'fielding': 161,\n",
              " 'filled': 514,\n",
              " 'first': 173,\n",
              " 'five': 293,\n",
              " 'flat': 15,\n",
              " 'flatbread': 336,\n",
              " 'flour': 476,\n",
              " 'folded': 65,\n",
              " 'follows': 245,\n",
              " 'food': 16,\n",
              " 'for': 66,\n",
              " 'form': 17,\n",
              " 'formal': 123,\n",
              " 'formed': 477,\n",
              " 'forms': 124,\n",
              " 'forth': 246,\n",
              " 'found': 67,\n",
              " 'founded': 360,\n",
              " 'four': 174,\n",
              " 'fresca': 478,\n",
              " 'fresh': 383,\n",
              " 'fried': 68,\n",
              " 'from': 18,\n",
              " 'frozen': 384,\n",
              " 'future': 69,\n",
              " 'gaeta': 337,\n",
              " 'gained': 208,\n",
              " 'game': 125,\n",
              " 'games': 126,\n",
              " 'generally': 247,\n",
              " 'geo': 70,\n",
              " 'german': 71,\n",
              " 'giving': 248,\n",
              " 'goans': 319,\n",
              " 'grains': 479,\n",
              " 'great': 249,\n",
              " 'guaranteed': 361,\n",
              " 'half': 127,\n",
              " 'hand': 495,\n",
              " 'hard': 250,\n",
              " 'has': 72,\n",
              " 'have': 209,\n",
              " 'having': 515,\n",
              " 'headquarters': 362,\n",
              " 'helices': 73,\n",
              " 'historian': 431,\n",
              " 'hit': 128,\n",
              " 'hitter': 251,\n",
              " 'hitting': 175,\n",
              " 'home': 176,\n",
              " 'hot': 408,\n",
              " 'households': 294,\n",
              " 'husked': 295,\n",
              " 'idli': 296,\n",
              " 'iii': 453,\n",
              " 'in': 19,\n",
              " 'inches': 297,\n",
              " 'include': 516,\n",
              " 'including': 210,\n",
              " 'india': 298,\n",
              " 'indian': 299,\n",
              " 'indigenous': 432,\n",
              " 'indoor': 129,\n",
              " 'ingredients': 385,\n",
              " 'initial': 252,\n",
              " 'innings': 211,\n",
              " 'into': 20,\n",
              " 'invented': 338,\n",
              " 'is': 21,\n",
              " 'it': 22,\n",
              " 'italian': 480,\n",
              " 'italy': 339,\n",
              " 'item': 386,\n",
              " 'its': 253,\n",
              " 'karnataka': 433,\n",
              " 'kind': 409,\n",
              " 'known': 254,\n",
              " 'konkani': 320,\n",
              " 'landing': 130,\n",
              " 'lanka': 300,\n",
              " 'large': 496,\n",
              " 'larger': 131,\n",
              " 'latin': 340,\n",
              " 'least': 255,\n",
              " 'lentils': 301,\n",
              " 'lightweight': 256,\n",
              " 'like': 302,\n",
              " 'limits': 257,\n",
              " 'linked': 454,\n",
              " 'literature': 434,\n",
              " 'locale': 517,\n",
              " 'long': 74,\n",
              " 'machines': 497,\n",
              " 'made': 23,\n",
              " 'main': 410,\n",
              " 'manasollasa': 455,\n",
              " 'manuscript': 341,\n",
              " 'many': 24,\n",
              " 'material': 75,\n",
              " 'matter': 435,\n",
              " 'may': 76,\n",
              " 'meats': 342,\n",
              " 'metabolised': 303,\n",
              " 'miniature': 518,\n",
              " 'mixed': 481,\n",
              " 'modern': 343,\n",
              " 'more': 25,\n",
              " 'most': 77,\n",
              " 'must': 78,\n",
              " 'nair': 436,\n",
              " 'names': 519,\n",
              " 'naples': 344,\n",
              " 'napoletana': 363,\n",
              " 'neapolitan': 364,\n",
              " 'neighbouring': 304,\n",
              " 'net': 132,\n",
              " 'nine': 162,\n",
              " 'non': 365,\n",
              " 'noodle': 26,\n",
              " 'noodles': 27,\n",
              " 'north': 387,\n",
              " 'nudel': 79,\n",
              " 'number': 212,\n",
              " 'odisha': 321,\n",
              " 'of': 28,\n",
              " 'often': 80,\n",
              " 'oil': 81,\n",
              " 'oldest': 82,\n",
              " 'on': 133,\n",
              " 'once': 29,\n",
              " 'one': 30,\n",
              " 'opponent': 258,\n",
              " 'opponents': 213,\n",
              " 'opposing': 134,\n",
              " 'opposite': 259,\n",
              " 'options': 260,\n",
              " 'or': 31,\n",
              " 'organisation': 366,\n",
              " 'origin': 83,\n",
              " 'original': 456,\n",
              " 'originated': 437,\n",
              " 'other': 84,\n",
              " 'outdoor': 135,\n",
              " 'oven': 345,\n",
              " 'ovens': 388,\n",
              " 'over': 85,\n",
              " 'overs': 214,\n",
              " 'paddle': 261,\n",
              " 'pan': 86,\n",
              " 'pancake': 411,\n",
              " 'parcel': 412,\n",
              " 'part': 413,\n",
              " 'pasta': 482,\n",
              " 'pastas': 483,\n",
              " 'people': 322,\n",
              " 'per': 136,\n",
              " 'period': 215,\n",
              " 'phase': 216,\n",
              " 'ping': 262,\n",
              " 'pitch': 217,\n",
              " 'pitcher': 177,\n",
              " 'pitha': 323,\n",
              " 'pizza': 346,\n",
              " 'place': 263,\n",
              " 'plate': 178,\n",
              " 'play': 218,\n",
              " 'played': 137,\n",
              " 'player': 138,\n",
              " 'players': 139,\n",
              " 'plural': 32,\n",
              " 'podi': 414,\n",
              " 'point': 264,\n",
              " 'points': 140,\n",
              " 'pong': 265,\n",
              " 'popular': 305,\n",
              " 'portions': 389,\n",
              " 'possible': 219,\n",
              " 'preparation': 390,\n",
              " 'prepared': 391,\n",
              " 'present': 438,\n",
              " 'probably': 457,\n",
              " 'process': 306,\n",
              " 'produced': 498,\n",
              " 'products': 499,\n",
              " 'profit': 367,\n",
              " 'promotes': 368,\n",
              " 'protects': 369,\n",
              " 'quick': 266,\n",
              " 'racquet': 141,\n",
              " 'racquets': 142,\n",
              " 'reactions': 267,\n",
              " 'readily': 307,\n",
              " 'recipe': 458,\n",
              " 'recorded': 347,\n",
              " 'rectangular': 143,\n",
              " 'refer': 484,\n",
              " 'reference': 485,\n",
              " 'references': 439,\n",
              " 'refrigerated': 87,\n",
              " 'region': 440,\n",
              " 'request': 370,\n",
              " 'restaurants': 459,\n",
              " 'return': 268,\n",
              " 'returns': 179,\n",
              " 'rice': 308,\n",
              " 'roles': 220,\n",
              " 'rolled': 33,\n",
              " 'ruled': 460,\n",
              " 'rules': 269,\n",
              " 'run': 180,\n",
              " 'running': 181,\n",
              " 'runs': 182,\n",
              " 'safeguarded': 371,\n",
              " 'salt': 88,\n",
              " 'sambar': 415,\n",
              " 'sangam': 441,\n",
              " 'sanna': 324,\n",
              " 'sanskrit': 461,\n",
              " 'sauce': 89,\n",
              " 'savoury': 309,\n",
              " 'scale': 500,\n",
              " 'score': 183,\n",
              " 'scored': 144,\n",
              " 'scores': 221,\n",
              " 'secca': 486,\n",
              " 'second': 184,\n",
              " 'see': 34,\n",
              " 'selection': 348,\n",
              " 'series': 185,\n",
              " 'serve': 35,\n",
              " 'served': 90,\n",
              " 'serving': 36,\n",
              " 'set': 222,\n",
              " 'several': 392,\n",
              " 'shapes': 37,\n",
              " 'sheets': 487,\n",
              " 'shells': 91,\n",
              " 'short': 92,\n",
              " 'shuttlecock': 145,\n",
              " 'sicily': 488,\n",
              " 'side': 146,\n",
              " 'similar': 393,\n",
              " 'simple': 501,\n",
              " 'since': 349,\n",
              " 'single': 38,\n",
              " 'singles': 147,\n",
              " 'sited': 223,\n",
              " 'small': 270,\n",
              " 'so': 271,\n",
              " 'softer': 462,\n",
              " 'sold': 394,\n",
              " 'someshvara': 463,\n",
              " 'sometimes': 93,\n",
              " 'soup': 94,\n",
              " 'south': 310,\n",
              " 'speciality': 372,\n",
              " 'specialty': 520,\n",
              " 'specific': 521,\n",
              " 'specified': 95,\n",
              " 'spinning': 272,\n",
              " 'sport': 148,\n",
              " 'sri': 311,\n",
              " 'st': 442,\n",
              " 'staple': 39,\n",
              " 'starches': 312,\n",
              " 'steaming': 313,\n",
              " 'storage': 96,\n",
              " 'stored': 97,\n",
              " 'stretched': 40,\n",
              " 'striking': 149,\n",
              " 'strings': 98,\n",
              " 'strips': 99,\n",
              " 'stromboli': 395,\n",
              " 'stuffed': 522,\n",
              " 'stumps': 224,\n",
              " 'subcontinent': 416,\n",
              " 'such': 396,\n",
              " 'supermarkets': 502,\n",
              " 'swap': 225,\n",
              " 'swung': 186,\n",
              " 'table': 273,\n",
              " 'take': 163,\n",
              " 'takes': 274,\n",
              " 'tamil': 443,\n",
              " 'team': 187,\n",
              " 'teams': 150,\n",
              " 'ten': 226,\n",
              " 'tennis': 275,\n",
              " 'term': 100,\n",
              " 'th': 350,\n",
              " 'thankappan': 444,\n",
              " 'that': 188,\n",
              " 'the': 41,\n",
              " 'their': 227,\n",
              " 'them': 276,\n",
              " 'then': 189,\n",
              " 'they': 101,\n",
              " 'thicker': 464,\n",
              " 'thin': 102,\n",
              " 'thinner': 465,\n",
              " 'third': 190,\n",
              " 'three': 228,\n",
              " 'throughout': 314,\n",
              " 'thrown': 191,\n",
              " 'thus': 42,\n",
              " 'time': 277,\n",
              " 'to': 43,\n",
              " 'today': 503,\n",
              " 'tomato': 351,\n",
              " 'topped': 352,\n",
              " 'toward': 278,\n",
              " 'town': 445,\n",
              " 'tradition': 466,\n",
              " 'traditional': 315,\n",
              " 'traditionally': 417,\n",
              " 'trajectory': 279,\n",
              " 'true': 373,\n",
              " 'tubes': 103,\n",
              " 'turns': 164,\n",
              " 'two': 151,\n",
              " 'types': 397,\n",
              " 'typically': 489,\n",
              " 'udupi': 446,\n",
              " 'union': 374,\n",
              " 'unleavened': 44,\n",
              " 'upon': 375,\n",
              " 'urad': 418,\n",
              " 'use': 104,\n",
              " 'used': 398,\n",
              " 'using': 152,\n",
              " 'usually': 105,\n",
              " 'variably': 523,\n",
              " 'variant': 325,\n",
              " 'variants': 353,\n",
              " 'varieties': 106,\n",
              " 'variety': 45,\n",
              " 'various': 399,\n",
              " 'vary': 524,\n",
              " 'vegetables': 354,\n",
              " 'verace': 376,\n",
              " 'version': 467,\n",
              " 'very': 326,\n",
              " 'via': 504,\n",
              " 'was': 355,\n",
              " 'water': 107,\n",
              " 'waves': 108,\n",
              " 'well': 419,\n",
              " 'wheat': 490,\n",
              " 'when': 109,\n",
              " 'which': 46,\n",
              " 'while': 110,\n",
              " 'whilst': 229,\n",
              " 'who': 165,\n",
              " 'whole': 400,\n",
              " 'wicket': 230,\n",
              " 'widely': 505,\n",
              " 'winning': 231,\n",
              " 'with': 111,\n",
              " 'within': 153,\n",
              " 'wooden': 232,\n",
              " 'word': 47,\n",
              " 'world': 356,\n",
              " 'yard': 154,\n",
              " 'years': 112}"
            ]
          },
          "metadata": {},
          "execution_count": 10
        }
      ]
    },
    {
      "cell_type": "markdown",
      "source": [
        "# Как создать корпус слов?"
      ],
      "metadata": {
        "id": "EDhoFHeGNoBP"
      }
    },
    {
      "cell_type": "markdown",
      "source": [
        "Сейчас вы знаете, как создать словарь из списка и из текстового файла.\n",
        "\n",
        "Следующим важным объектом, с которым вам нужно ознакомиться, чтобы работать в Gensim, — это корпус слов (или как его еще называют корпус типа **`Мешок Слов`**). Все объекты корпуса содержит id слова и его частоту в каждом документе.\n",
        "\n",
        "После создания словаря, все, что вам нужно сделать, это передать токенизированный список слов в **`Dictionary.doc2bow()`**\n",
        "\n",
        "Давайте создадим корпус для простого списка (my_docs), содержащего 2 предложения."
      ],
      "metadata": {
        "id": "iQCxjoCMNpLu"
      }
    },
    {
      "cell_type": "code",
      "source": [
        "# List with 2 sentences\n",
        "my_docs = [\"Who let the dogs out?\",\n",
        "           \"Who? Who? Who? Who?\"]\n",
        "\n",
        "# Tokenize the docs\n",
        "tokenized_list = [simple_preprocess(doc) for doc in my_docs]\n",
        "\n",
        "# Create the Corpus\n",
        "mydict = corpora.Dictionary()\n",
        "mycorpus = [mydict.doc2bow(doc, allow_update=True) for doc in tokenized_list]\n",
        "pprint(mycorpus)\n"
      ],
      "metadata": {
        "colab": {
          "base_uri": "https://localhost:8080/"
        },
        "id": "ADMplCvlN13f",
        "outputId": "448149aa-5387-41ca-ce14-7b246369e782"
      },
      "execution_count": null,
      "outputs": [
        {
          "output_type": "stream",
          "name": "stdout",
          "text": [
            "[[(0, 1), (1, 1), (2, 1), (3, 1), (4, 1)], [(4, 4)]]\n"
          ]
        }
      ]
    },
    {
      "cell_type": "markdown",
      "source": [
        "Как это интерпретируется?\n",
        "\n",
        "В строке 1 (0, 1) означает, что слово с id = 0 появляется один раз в 1-м документе. Аналогично (4, 4) во втором элементе списка означает, что слово с идентификатором 4 встречается 4 раза во втором документе. И так далее.\n",
        "\n",
        "Если нужно будет преобразовать этот массив обратно в текст."
      ],
      "metadata": {
        "id": "93c5ZowZN6U1"
      }
    },
    {
      "cell_type": "code",
      "source": [
        "word_counts = [[(mydict[id], count) for id, count in line] for line in mycorpus]\n",
        "pprint(word_counts)\n"
      ],
      "metadata": {
        "colab": {
          "base_uri": "https://localhost:8080/"
        },
        "id": "Si-axsMjN88o",
        "outputId": "83c30278-b3a9-40a3-e662-ccd45026ebab"
      },
      "execution_count": null,
      "outputs": [
        {
          "output_type": "stream",
          "name": "stdout",
          "text": [
            "[[('dogs', 1), ('let', 1), ('out', 1), ('the', 1), ('who', 1)], [('who', 4)]]\n"
          ]
        }
      ]
    },
    {
      "cell_type": "markdown",
      "source": [
        "Обратите внимание, что при таком преобразование теряется порядок слов. Сохраняется только слово и информация о его частоте."
      ],
      "metadata": {
        "id": "Lb6K9fOeODBd"
      }
    },
    {
      "cell_type": "markdown",
      "source": [
        "# Как создать корпус слов из текстового файла?"
      ],
      "metadata": {
        "id": "hjX24WjAOECw"
      }
    },
    {
      "cell_type": "markdown",
      "source": [
        "Использовать слова из списков в Python довольно просто, потому что весь текст уже в памяти. Однако у вас может быть большой файл, который вы возможно не захотите загружать целиком в память.\n",
        "\n",
        "Вы можете импортировать такие файлы по одной строке за раз, определив класс и функцию **`__iter__`**, которая итеративно считывает файл по одной строке за раз и выдает объект корпуса. Но как создать объект корпуса?\n",
        "\n",
        "**`__iter__`** () из BoWCorpus читает строку из файла, обрабатывает ее с помощью **`simple_preprocess`**() и передает его в **`dictionary.doc2bow`**(). Чем это отличается от класса ReadTxtFiles, который мы создали ранее? В новом классе я использую функцию **`smart_open`**() из пакета smart_open, так как оно позволяет построчно открывать и читать большие файлы из различных источников, таких как S3, HDFS, WebHDFS, HTTP или локальных и сжатых файлов."
      ],
      "metadata": {
        "id": "FdJ3KC26OHVj"
      }
    },
    {
      "cell_type": "code",
      "source": [
        "from gensim.utils import simple_preprocess\n",
        "from smart_open import smart_open\n",
        "import nltk\n",
        "nltk.download('stopwords')  # run once\n",
        "from nltk.corpus import stopwords\n",
        "stop_words = stopwords.words('english')\n",
        "\n",
        "\n",
        "class BoWCorpus(object):\n",
        "    def __init__(self, path, dictionary):\n",
        "        self.filepath = path\n",
        "        self.dictionary = dictionary\n",
        "\n",
        "    def __iter__(self):\n",
        "        global mydict  # OPTIONAL, only if updating the source dictionary.\n",
        "        for line in smart_open(self.filepath, encoding='latin'):\n",
        "            # tokenize\n",
        "            tokenized_list = simple_preprocess(line, deacc=True)\n",
        "\n",
        "            # create bag of words\n",
        "            bow = self.dictionary.doc2bow(tokenized_list, allow_update=True)\n",
        "\n",
        "            # update the source dictionary (OPTIONAL)\n",
        "            mydict.merge_with(self.dictionary)\n",
        "\n",
        "            # lazy return the BoW\n",
        "            yield bow\n",
        "\n",
        "\n",
        "# Create the Dictionary\n",
        "mydict = corpora.Dictionary()\n",
        "\n",
        "# Create the Corpus\n",
        "bow_corpus = BoWCorpus('sample.txt', dictionary=mydict)  # memory friendly\n",
        "\n",
        "# Print the token_id and count for each line.\n",
        "for line in bow_corpus:\n",
        "    print(line)\n"
      ],
      "metadata": {
        "colab": {
          "base_uri": "https://localhost:8080/"
        },
        "id": "hMcU2OD2OXkE",
        "outputId": "2fc783b5-128d-4e8b-e540-8930626a1756"
      },
      "execution_count": null,
      "outputs": [
        {
          "output_type": "stream",
          "name": "stdout",
          "text": [
            "[(0, 1), (1, 1), (2, 1), (3, 1), (4, 1), (5, 1), (6, 1), (7, 1), (8, 1), (9, 1), (10, 1), (11, 1), (12, 1), (13, 1)]\n",
            "[(14, 1), (15, 1), (16, 1), (17, 1), (18, 1), (19, 1), (20, 1), (21, 1)]\n",
            "[(5, 2), (12, 1), (22, 2), (23, 1), (24, 1), (25, 1), (26, 1), (27, 1), (28, 1), (29, 1), (30, 1), (31, 1), (32, 1), (33, 1), (34, 1)]\n",
            "[(3, 1), (9, 1), (12, 2), (18, 1), (22, 1), (26, 1), (32, 1), (33, 1), (35, 1), (36, 1), (37, 1), (38, 1), (39, 1), (40, 1), (41, 1), (42, 1)]\n",
            "[(15, 1), (17, 1), (18, 1), (21, 1)]\n",
            "[(3, 1), (9, 1), (14, 1), (16, 1), (19, 1), (22, 2), (26, 2), (32, 1), (33, 1), (34, 1), (43, 1), (44, 1), (45, 1), (46, 1), (47, 1)]\n",
            "[(3, 1), (5, 2), (9, 1), (10, 1), (12, 1), (13, 1), (18, 1), (43, 1), (47, 1), (48, 1), (49, 1), (50, 1), (51, 1), (52, 1), (53, 1), (54, 1), (55, 1), (56, 1), (57, 1)]\n",
            "[(12, 1), (22, 1), (33, 1), (58, 1), (59, 1), (60, 1), (61, 1), (62, 1), (63, 1), (64, 1), (65, 1)]\n",
            "[(12, 3), (16, 1), (26, 1), (41, 1), (43, 1), (47, 1), (66, 1), (67, 1), (68, 1), (69, 1), (70, 1), (71, 1), (72, 1), (73, 1), (74, 1)]\n",
            "[(12, 1), (15, 1), (18, 1), (57, 1), (70, 1), (75, 1), (76, 1), (77, 1), (78, 1), (79, 2), (80, 1), (81, 1), (82, 1), (83, 1), (84, 1), (85, 1)]\n",
            "[(5, 1), (12, 2), (22, 1), (32, 1), (33, 1), (42, 1), (86, 1), (87, 1), (88, 1), (89, 1), (90, 1), (91, 1), (92, 1), (93, 1), (94, 1)]\n"
          ]
        },
        {
          "output_type": "stream",
          "name": "stderr",
          "text": [
            "[nltk_data] Downloading package stopwords to /root/nltk_data...\n",
            "[nltk_data]   Unzipping corpora/stopwords.zip.\n"
          ]
        }
      ]
    },
    {
      "cell_type": "markdown",
      "source": [
        "# Как сохранить словарь и корпус и загрузить их обратно?"
      ],
      "metadata": {
        "id": "mjMVdqi2OcDq"
      }
    },
    {
      "cell_type": "markdown",
      "source": [
        "Это довольно просто. Смотрите примеры ниже."
      ],
      "metadata": {
        "id": "uwXNmneIOxtY"
      }
    },
    {
      "cell_type": "code",
      "source": [
        "# Save the Dict and Corpus\n",
        "mydict.save('mydict.dict')  # save dict to disk\n",
        "corpora.MmCorpus.serialize('bow_corpus.mm', bow_corpus)  # save corpus to disk"
      ],
      "metadata": {
        "id": "BOd6SgmoOzoG"
      },
      "execution_count": null,
      "outputs": []
    },
    {
      "cell_type": "markdown",
      "source": [
        "Мы сохранили словарь и объект корпуса. Давайте загрузим их обратно."
      ],
      "metadata": {
        "id": "NCkrSufdO3Pg"
      }
    },
    {
      "cell_type": "code",
      "source": [
        "# Load them back\n",
        "loaded_dict = corpora.Dictionary.load('mydict.dict')\n",
        "\n",
        "corpus = corpora.MmCorpus('bow_corpus.mm')\n",
        "for line in corpus:\n",
        "    print(line)"
      ],
      "metadata": {
        "colab": {
          "base_uri": "https://localhost:8080/"
        },
        "id": "n26pWAV9N9Gj",
        "outputId": "7b2a90ee-db02-40dc-e272-7173fb3ec056"
      },
      "execution_count": null,
      "outputs": [
        {
          "output_type": "stream",
          "name": "stdout",
          "text": [
            "[(0, 1.0), (1, 1.0), (2, 1.0), (3, 1.0), (4, 1.0), (5, 1.0), (6, 1.0), (7, 1.0), (8, 1.0), (9, 1.0), (10, 1.0), (11, 1.0), (12, 1.0), (13, 1.0)]\n",
            "[(14, 1.0), (15, 1.0), (16, 1.0), (17, 1.0), (18, 1.0), (19, 1.0), (20, 1.0), (21, 1.0)]\n",
            "[(5, 2.0), (12, 1.0), (22, 2.0), (23, 1.0), (24, 1.0), (25, 1.0), (26, 1.0), (27, 1.0), (28, 1.0), (29, 1.0), (30, 1.0), (31, 1.0), (32, 1.0), (33, 1.0), (34, 1.0)]\n",
            "[(3, 1.0), (9, 1.0), (12, 2.0), (18, 1.0), (22, 1.0), (26, 1.0), (32, 1.0), (33, 1.0), (35, 1.0), (36, 1.0), (37, 1.0), (38, 1.0), (39, 1.0), (40, 1.0), (41, 1.0), (42, 1.0)]\n",
            "[(15, 1.0), (17, 1.0), (18, 1.0), (21, 1.0)]\n",
            "[(3, 1.0), (9, 1.0), (14, 1.0), (16, 1.0), (19, 1.0), (22, 2.0), (26, 2.0), (32, 1.0), (33, 1.0), (34, 1.0), (43, 1.0), (44, 1.0), (45, 1.0), (46, 1.0), (47, 1.0)]\n",
            "[(3, 1.0), (5, 2.0), (9, 1.0), (10, 1.0), (12, 1.0), (13, 1.0), (18, 1.0), (43, 1.0), (47, 1.0), (48, 1.0), (49, 1.0), (50, 1.0), (51, 1.0), (52, 1.0), (53, 1.0), (54, 1.0), (55, 1.0), (56, 1.0), (57, 1.0)]\n",
            "[(12, 1.0), (22, 1.0), (33, 1.0), (58, 1.0), (59, 1.0), (60, 1.0), (61, 1.0), (62, 1.0), (63, 1.0), (64, 1.0), (65, 1.0)]\n",
            "[(12, 3.0), (16, 1.0), (26, 1.0), (41, 1.0), (43, 1.0), (47, 1.0), (66, 1.0), (67, 1.0), (68, 1.0), (69, 1.0), (70, 1.0), (71, 1.0), (72, 1.0), (73, 1.0), (74, 1.0)]\n",
            "[(12, 1.0), (15, 1.0), (18, 1.0), (57, 1.0), (70, 1.0), (75, 1.0), (76, 1.0), (77, 1.0), (78, 1.0), (79, 2.0), (80, 1.0), (81, 1.0), (82, 1.0), (83, 1.0), (84, 1.0), (85, 1.0)]\n",
            "[(5, 1.0), (12, 2.0), (22, 1.0), (32, 1.0), (33, 1.0), (42, 1.0), (86, 1.0), (87, 1.0), (88, 1.0), (89, 1.0), (90, 1.0), (91, 1.0), (92, 1.0), (93, 1.0), (94, 1.0)]\n"
          ]
        }
      ]
    },
    {
      "cell_type": "markdown",
      "source": [
        "# Как создать матрицу TFIDF (корпус) в gensim?"
      ],
      "metadata": {
        "id": "izUrjoNqO8v4"
      }
    },
    {
      "cell_type": "markdown",
      "source": [
        "Термин «частота термина — обратная частота документа» (TF-IDF) также является моделью «мешка слов», но в отличие от обычного корпуса, TFIDF содержит веса токенов (слов), которые часто встречаются в документах.\n",
        "\n",
        "Другими словами, когда мы анализируем текстовые данные, мы часто сталкиваемся со словами, которые встречаются в двух и более документах. Такие часто встречающиеся слова, как правило, не содержат полезной или отличительной информации, поэтому фактор их наличия нужно как то уменьшить или полностью удалить из рассмотрения.\n",
        "\n",
        "Как рассчитывается TFIDF?\n",
        "\n",
        "Tf-Idf вычисляется путем умножения локального компонента, такого как термин частота (TF), на глобальный компонент, то есть обратную частоту документа (IDF), и провести (необязательно) нормализация по длине блока.\n",
        "\n",
        "В результате слова, которые наиболее часто встречаются в документе, будут понижены в весе.\n",
        "\n",
        "Существуют различные варианты формул для TF и ​​IDF. Gensim использует информационно-поисковую систему SMART. Вы можете вручную указать, какую формулу использовать, указав параметр smartirs в TfidfModel. См. **`help(models.TfidfModel)`** для более подробной информации.\n",
        "\n",
        "Итак, как получить веса в TFIDF?"
      ],
      "metadata": {
        "id": "WZL9ZsNOO-NE"
      }
    },
    {
      "cell_type": "code",
      "source": [
        "from gensim import models\n",
        "import numpy as np\n",
        "\n",
        "documents = [\"This is the first line\",\n",
        "             \"This is the second sentence\",\n",
        "             \"This third document\"]\n",
        "\n",
        "# Create the Dictionary and Corpus\n",
        "mydict = corpora.Dictionary([simple_preprocess(line) for line in documents])\n",
        "corpus = [mydict.doc2bow(simple_preprocess(line)) for line in documents]\n",
        "\n",
        "# Show the Word Weights in Corpus\n",
        "for doc in corpus:\n",
        "    print([[mydict[id], freq] for id, freq in doc])\n",
        "\n",
        "\n",
        "# Create the TF-IDF model\n",
        "tfidf = models.TfidfModel(corpus, smartirs='ntc')\n",
        "\n",
        "# Show the TF-IDF weights\n",
        "for doc in tfidf[corpus]:\n",
        "    print([[mydict[id], np.around(freq, decimals=2)] for id, freq in doc])\n"
      ],
      "metadata": {
        "colab": {
          "base_uri": "https://localhost:8080/"
        },
        "id": "HC6omesFPFXe",
        "outputId": "0b3e5176-b319-4050-e569-ca1ee0f8d68f"
      },
      "execution_count": null,
      "outputs": [
        {
          "output_type": "stream",
          "name": "stdout",
          "text": [
            "[['first', 1], ['is', 1], ['line', 1], ['the', 1], ['this', 1]]\n",
            "[['is', 1], ['the', 1], ['this', 1], ['second', 1], ['sentence', 1]]\n",
            "[['this', 1], ['document', 1], ['third', 1]]\n",
            "[['first', 0.66], ['is', 0.24], ['line', 0.66], ['the', 0.24]]\n",
            "[['is', 0.24], ['the', 0.24], ['second', 0.66], ['sentence', 0.66]]\n",
            "[['document', 0.71], ['third', 0.71]]\n"
          ]
        }
      ]
    },
    {
      "cell_type": "markdown",
      "source": [
        "Обратите внимание на разницу в весах слов между исходным корпусом и корпусом с весами по tfidf.\n",
        "\n",
        "Слова «is» и «the» встречаются в двух документах и у них понижены веса. Слово «this», встречающееся во всех трех документах, полностью исключено. Проще говоря, слова, встречающиеся в документах чаще, приобретают меньший вес."
      ],
      "metadata": {
        "id": "bc_ujsaLPg8K"
      }
    },
    {
      "cell_type": "markdown",
      "source": [
        "# Как использовать gensim downloader API для загрузки наборов данных?"
      ],
      "metadata": {
        "id": "2AtBMVe1PiuL"
      }
    },
    {
      "cell_type": "markdown",
      "source": [
        "Gensim предоставляет встроенное API для загрузки популярных наборов текстовых данных.\n",
        "\n",
        "Полный список доступных наборов данных и моделей поддерживается здесь .\n",
        "\n",
        "Использовать API для загрузки набора данных так же просто, как вызвать метод api.load() с правильными данными или названием модели.\n",
        "\n",
        "В приведенном ниже примере показано, как загрузить модель glove-wiki-gigaword-50."
      ],
      "metadata": {
        "id": "21aDnePpPmFN"
      }
    },
    {
      "cell_type": "code",
      "source": [
        "import gensim.downloader as api\n",
        "\n",
        "# Get information about the model or dataset\n",
        "api.info('glove-wiki-gigaword-50')\n",
        "# {'base_dataset': 'Wikipedia 2014 + Gigaword 5 (6B tokens, uncased)',\n",
        "#  'checksum': 'c289bc5d7f2f02c6dc9f2f9b67641813',\n",
        "#  'description': 'Pre-trained vectors based on Wikipedia 2014 + Gigaword, 5.6B tokens, 400K vocab, uncased (https://nlp.stanford.edu/projects/glove/).',\n",
        "#  'file_name': 'glove-wiki-gigaword-50.gz',\n",
        "#  'file_size': 69182535,\n",
        "#  'license': 'http://opendatacommons.org/licenses/pddl/',\n",
        "#  (... truncated...)\n",
        "\n",
        "# Download\n",
        "w2v_model = api.load(\"glove-wiki-gigaword-50\")\n",
        "w2v_model.most_similar('blue')\n"
      ],
      "metadata": {
        "colab": {
          "base_uri": "https://localhost:8080/"
        },
        "id": "LMaHHkRYPm2P",
        "outputId": "02459d42-9887-45d6-aff2-44e890740191"
      },
      "execution_count": null,
      "outputs": [
        {
          "output_type": "stream",
          "name": "stdout",
          "text": [
            "[==================================================] 100.0% 66.0/66.0MB downloaded\n"
          ]
        },
        {
          "output_type": "execute_result",
          "data": {
            "text/plain": [
              "[('red', 0.8901657462120056),\n",
              " ('black', 0.8648406863212585),\n",
              " ('pink', 0.845291793346405),\n",
              " ('green', 0.8346816301345825),\n",
              " ('yellow', 0.8320707082748413),\n",
              " ('purple', 0.8293111324310303),\n",
              " ('white', 0.8225342035293579),\n",
              " ('orange', 0.8114302158355713),\n",
              " ('bright', 0.799933910369873),\n",
              " ('colored', 0.7876655459403992)]"
            ]
          },
          "metadata": {},
          "execution_count": 17
        }
      ]
    },
    {
      "cell_type": "markdown",
      "source": [
        "# Как создавать биграммы и триграммы с использованием моделей Phraser?"
      ],
      "metadata": {
        "id": "5UZ-blP5P3iq"
      }
    },
    {
      "cell_type": "markdown",
      "source": [
        "Теперь вы знаете, как загружать наборы данных и предварительно обученные модели с помощью gensim.\n",
        "\n",
        "Давайте загрузим набор данных text8, который представляет собой не что иное, как «Первые 100 000 000 байтов простого текста из Википедии». Затем из этого мы c генерируем биграммы и триграммы.\n",
        "\n",
        "Но что такое биграммы и триграммы? и зачем они нужны?\n",
        "\n",
        "Очень часто некоторые слова встречаются парами (биграмма) или группами по три (триграмма). Потому что два слова, объединенные вместе, образуют определенную сущность. Например: слово «французский» относится как к языку так и к региону, а слово «революция» может относиться к планетарной революции. Но их сочетание, «французская революция», означает нечто совершенно иное.\n",
        "\n",
        "Очень важно формировать биграммы и триграммы из предложений, особенно при работе с моделями мешков слова.\n",
        "\n",
        "Так как же создавать биграммы?\n",
        "\n",
        "С моделью Gensim Phrases это довольно просто и эффективно. Созданная модель фраз позволяет индексировать, поэтому просто передайте исходный текст (список) в построенную модель фраз, чтобы сформировать биграммы."
      ],
      "metadata": {
        "id": "3xmLVLNcP6hf"
      }
    },
    {
      "cell_type": "code",
      "source": [
        "dataset = api.load(\"text8\")\n",
        "dataset = [wd for wd in dataset]\n",
        "\n",
        "dct = corpora.Dictionary(dataset)\n",
        "corpus = [dct.doc2bow(line) for line in dataset]\n",
        "\n",
        "# Build the bigram models\n",
        "bigram = gensim.models.phrases.Phrases(dataset, min_count=3, threshold=10)\n",
        "\n",
        "# Construct bigram\n",
        "print(bigram[dataset[0]])\n"
      ],
      "metadata": {
        "colab": {
          "base_uri": "https://localhost:8080/"
        },
        "id": "vO9-TU_ZP-TH",
        "outputId": "e009a199-f56a-435b-e5b3-2700e2d13cac"
      },
      "execution_count": null,
      "outputs": [
        {
          "output_type": "stream",
          "name": "stdout",
          "text": [
            "[==================================================] 100.0% 31.6/31.6MB downloaded\n",
            "['anarchism', 'originated', 'as', 'a', 'term', 'of', 'abuse', 'first', 'used', 'against', 'early', 'working_class', 'radicals', 'including', 'the', 'diggers', 'of', 'the', 'english', 'revolution', 'and', 'the', 'sans_culottes', 'of', 'the', 'french_revolution', 'whilst', 'the', 'term', 'is', 'still', 'used', 'in', 'a', 'pejorative_way', 'to', 'describe', 'any', 'act', 'that', 'used', 'violent', 'means', 'to', 'destroy', 'the', 'organization', 'of', 'society', 'it', 'has', 'also', 'been', 'taken_up', 'as', 'a', 'positive', 'label', 'by', 'self', 'defined', 'anarchists', 'the', 'word', 'anarchism', 'is', 'derived_from', 'the', 'greek', 'without', 'archons', 'ruler', 'chief', 'king', 'anarchism', 'as', 'a', 'political_philosophy', 'is', 'the', 'belief_that', 'rulers', 'are', 'unnecessary', 'and', 'should_be', 'abolished', 'although', 'there_are', 'differing_interpretations', 'of', 'what', 'this', 'means', 'anarchism', 'also', 'refers_to', 'related', 'social_movements', 'that', 'advocate', 'the', 'elimination', 'of', 'authoritarian', 'institutions', 'particularly', 'the', 'state', 'the', 'word', 'anarchy', 'as', 'most', 'anarchists', 'use', 'it', 'does_not', 'imply', 'chaos', 'nihilism', 'or', 'anomie', 'but_rather', 'a', 'harmonious', 'anti_authoritarian', 'society', 'in', 'place', 'of', 'what', 'are', 'regarded_as', 'authoritarian', 'political', 'structures', 'and', 'coercive', 'economic', 'institutions', 'anarchists', 'advocate', 'social', 'relations', 'based_upon', 'voluntary_association', 'of', 'autonomous', 'individuals', 'mutual_aid', 'and', 'self_governance', 'while', 'anarchism', 'is', 'most', 'easily', 'defined', 'by', 'what', 'it', 'is', 'against', 'anarchists', 'also', 'offer', 'positive', 'visions', 'of', 'what', 'they_believe', 'to', 'be', 'a', 'truly', 'free', 'society', 'however', 'ideas_about', 'how', 'an', 'anarchist_society', 'might', 'work', 'vary_considerably', 'especially', 'with_respect', 'to', 'economics', 'there', 'is', 'also', 'disagreement_about', 'how', 'a', 'free', 'society', 'might_be', 'brought_about', 'origins', 'and', 'predecessors', 'kropotkin', 'and', 'others_argue', 'that', 'before', 'recorded_history', 'human', 'society', 'was', 'organized', 'on', 'anarchist_principles', 'most', 'anthropologists', 'follow', 'kropotkin', 'and', 'engels', 'in', 'believing_that', 'hunter_gatherer', 'bands', 'were', 'egalitarian', 'and', 'lacked', 'division', 'of', 'labour', 'accumulated_wealth', 'or', 'decreed', 'law', 'and', 'had', 'equal', 'access', 'to', 'resources', 'william_godwin', 'anarchists', 'including', 'the', 'the', 'anarchy', 'organisation', 'and', 'rothbard', 'find', 'anarchist', 'attitudes', 'in', 'taoism', 'from', 'ancient', 'china', 'kropotkin', 'found', 'similar', 'ideas', 'in', 'stoic', 'zeno', 'of', 'citium', 'according_to', 'kropotkin', 'zeno', 'repudiated', 'the', 'omnipotence', 'of', 'the', 'state', 'its', 'intervention', 'and', 'regimentation', 'and', 'proclaimed', 'the', 'sovereignty', 'of', 'the', 'moral', 'law', 'of', 'the', 'individual', 'the', 'anabaptists', 'of', 'one', 'six', 'th_century', 'europe', 'are', 'sometimes_considered', 'to', 'be', 'religious', 'forerunners', 'of', 'modern', 'anarchism', 'bertrand_russell', 'in', 'his', 'history', 'of', 'western_philosophy', 'writes', 'that', 'the', 'anabaptists', 'repudiated', 'all', 'law', 'since', 'they', 'held', 'that', 'the', 'good', 'man', 'will_be', 'guided', 'at', 'every', 'moment', 'by', 'the', 'holy_spirit', 'from', 'this', 'premise', 'they', 'arrive_at', 'communism', 'the', 'diggers', 'or', 'true', 'levellers', 'were', 'an', 'early', 'communistic', 'movement', 'during', 'the', 'time', 'of', 'the', 'english_civil', 'war', 'and', 'are', 'considered', 'by', 'some', 'as', 'forerunners', 'of', 'modern', 'anarchism', 'in', 'the', 'modern_era', 'the', 'first', 'to', 'use', 'the', 'term', 'to', 'mean', 'something', 'other', 'than', 'chaos', 'was', 'louis', 'armand', 'baron_de', 'lahontan', 'in', 'his', 'nouveaux', 'voyages', 'dans_l', 'am_rique', 'septentrionale', 'one', 'seven', 'zero', 'three', 'where', 'he', 'described', 'the', 'indigenous', 'american', 'society', 'which', 'had', 'no', 'state', 'laws', 'prisons', 'priests', 'or', 'private_property', 'as', 'being', 'in', 'anarchy', 'russell', 'means', 'a', 'libertarian', 'and', 'leader', 'in', 'the', 'american', 'indian', 'movement', 'has', 'repeatedly_stated', 'that', 'he', 'is', 'an', 'anarchist', 'and', 'so', 'are', 'all', 'his', 'ancestors', 'in', 'one', 'seven', 'nine', 'three', 'in', 'the', 'thick', 'of', 'the', 'french_revolution', 'william_godwin', 'published', 'an_enquiry', 'concerning', 'political', 'justice', 'although', 'godwin', 'did_not', 'use', 'the', 'word', 'anarchism', 'many', 'later', 'anarchists', 'have', 'regarded', 'this', 'book', 'as', 'the', 'first', 'major', 'anarchist', 'text', 'and', 'godwin', 'as', 'the', 'founder', 'of', 'philosophical_anarchism', 'but', 'at', 'this', 'point', 'no', 'anarchist_movement', 'yet', 'existed', 'and', 'the', 'term', 'anarchiste', 'was', 'known', 'mainly', 'as', 'an_insult', 'hurled', 'by', 'the', 'bourgeois', 'girondins', 'at', 'more_radical', 'elements', 'in', 'the', 'french_revolution', 'the', 'first', 'self', 'labelled', 'anarchist', 'pierre_joseph', 'proudhon', 'it', 'is', 'commonly', 'held', 'that', 'it_wasn', 't', 'until', 'pierre_joseph', 'proudhon', 'published', 'what', 'is', 'property', 'in', 'one', 'eight', 'four', 'zero', 'that', 'the', 'term', 'anarchist', 'was', 'adopted', 'as', 'a', 'self', 'description', 'it', 'is', 'for', 'this_reason', 'that', 'some', 'claim', 'proudhon', 'as', 'the', 'founder', 'of', 'modern', 'anarchist', 'theory', 'in', 'what', 'is', 'property', 'proudhon', 'answers', 'with', 'the', 'famous', 'accusation', 'property', 'is', 'theft', 'in', 'this', 'work', 'he', 'opposed', 'the', 'institution', 'of', 'decreed', 'property', 'propri_t', 'where', 'owners', 'have', 'complete', 'rights', 'to', 'use', 'and', 'abuse', 'their', 'property', 'as', 'they_wish', 'such_as', 'exploiting', 'workers', 'for', 'profit', 'in', 'its', 'place', 'proudhon', 'supported', 'what', 'he', 'called', 'possession', 'individuals', 'can', 'have', 'limited', 'rights', 'to', 'use', 'resources', 'capital', 'and', 'goods', 'in_accordance', 'with', 'principles', 'of', 'equality', 'and', 'justice', 'proudhon', 's', 'vision', 'of', 'anarchy', 'which', 'he', 'called', 'mutualism', 'mutuellisme', 'involved', 'an', 'exchange', 'economy', 'where', 'individuals', 'and', 'groups', 'could', 'trade', 'the', 'products', 'of', 'their', 'labor', 'using', 'labor', 'notes', 'which', 'represented', 'the', 'amount', 'of', 'working', 'time', 'involved', 'in', 'production', 'this', 'would', 'ensure_that', 'no', 'one', 'would', 'profit', 'from', 'the', 'labor', 'of', 'others', 'workers', 'could', 'freely', 'join_together', 'in', 'co_operative', 'workshops', 'an', 'interest', 'free', 'bank', 'would_be', 'set_up', 'to', 'provide', 'everyone', 'with', 'access', 'to', 'the', 'means', 'of', 'production', 'proudhon', 's', 'ideas', 'were', 'influential', 'within', 'french', 'working_class', 'movements', 'and', 'his_followers', 'were', 'active', 'in', 'the', 'revolution', 'of', 'one', 'eight', 'four', 'eight', 'in', 'france', 'proudhon', 's', 'philosophy', 'of', 'property', 'is', 'complex', 'it', 'was', 'developed', 'in', 'a', 'number', 'of', 'works', 'over', 'his_lifetime', 'and', 'there_are', 'differing_interpretations', 'of', 'some', 'of', 'his', 'ideas', 'for', 'more_detailed', 'discussion', 'see', 'here', 'max_stirner', 's', 'egoism', 'in', 'his', 'the', 'ego', 'and', 'its_own', 'stirner', 'argued_that', 'most_commonly', 'accepted', 'social_institutions', 'including', 'the', 'notion', 'of', 'state', 'property', 'as', 'a', 'right', 'natural', 'rights', 'in', 'general', 'and', 'the', 'very', 'notion', 'of', 'society', 'were', 'mere', 'illusions', 'or', 'ghosts', 'in', 'the', 'mind', 'saying', 'of', 'society', 'that', 'the', 'individuals', 'are', 'its', 'reality', 'he', 'advocated', 'egoism', 'and', 'a', 'form', 'of', 'amoralism', 'in', 'which', 'individuals', 'would', 'unite', 'in', 'associations', 'of', 'egoists', 'only', 'when', 'it', 'was', 'in', 'their', 'self_interest', 'to', 'do_so', 'for', 'him', 'property', 'simply', 'comes', 'about', 'through', 'might', 'whoever', 'knows_how', 'to', 'take', 'to', 'defend', 'the', 'thing', 'to', 'him', 'belongs', 'property', 'and', 'what', 'i', 'have', 'in', 'my', 'power', 'that', 'is', 'my_own', 'so', 'long', 'as', 'i', 'assert', 'myself', 'as', 'holder', 'i_am', 'the', 'proprietor', 'of', 'the', 'thing', 'stirner', 'never', 'called', 'himself', 'an', 'anarchist', 'he', 'accepted', 'only', 'the', 'label', 'egoist', 'nevertheless', 'his', 'ideas', 'were', 'influential', 'on', 'many', 'individualistically', 'inclined', 'anarchists', 'although', 'interpretations', 'of', 'his', 'thought', 'are', 'diverse', 'american_individualist', 'anarchism', 'benjamin_tucker', 'in', 'one', 'eight', 'two', 'five', 'josiah_warren', 'had', 'participated', 'in', 'a', 'communitarian', 'experiment', 'headed_by', 'robert_owen', 'called', 'new', 'harmony', 'which', 'failed', 'in', 'a', 'few_years', 'amidst', 'much', 'internal_conflict', 'warren', 'blamed', 'the', 'community', 's', 'failure', 'on', 'a', 'lack', 'of', 'individual', 'sovereignty', 'and', 'a', 'lack', 'of', 'private_property', 'warren', 'proceeded', 'to', 'organise', 'experimenal', 'anarchist', 'communities', 'which', 'respected', 'what', 'he', 'called', 'the', 'sovereignty', 'of', 'the', 'individual', 'at', 'utopia', 'and', 'modern_times', 'in', 'one', 'eight', 'three', 'three', 'warren', 'wrote', 'and', 'published', 'the', 'peaceful', 'revolutionist', 'which', 'some', 'have', 'noted', 'to', 'be', 'the', 'first', 'anarchist_periodical', 'ever', 'published', 'benjamin_tucker', 'says_that', 'warren', 'was', 'the', 'first', 'man', 'to', 'expound', 'and', 'formulate', 'the', 'doctrine', 'now_known', 'as', 'anarchism', 'liberty', 'xiv', 'december', 'one', 'nine', 'zero', 'zero', 'one', 'benjamin_tucker', 'became_interested', 'in', 'anarchism', 'through', 'meeting', 'josiah_warren', 'and', 'william', 'b_greene', 'he', 'edited', 'and', 'published', 'liberty', 'from', 'august', 'one', 'eight', 'eight', 'one', 'to', 'april', 'one', 'nine', 'zero', 'eight', 'it', 'is', 'widely_considered', 'to', 'be', 'the', 'finest', 'individualist_anarchist', 'periodical', 'ever', 'issued', 'in', 'the', 'english_language', 'tucker', 's', 'conception', 'of', 'individualist_anarchism', 'incorporated', 'the', 'ideas', 'of', 'a', 'variety', 'of', 'theorists', 'greene', 's', 'ideas', 'on', 'mutual', 'banking', 'warren', 's', 'ideas', 'on', 'cost', 'as', 'the', 'limit', 'of', 'price', 'a', 'heterodox', 'variety', 'of', 'labour', 'theory', 'of', 'value', 'proudhon', 's', 'market_anarchism', 'max_stirner', 's', 'egoism', 'and', 'herbert_spencer', 's', 'law', 'of', 'equal', 'freedom', 'tucker', 'strongly_supported', 'the', 'individual', 's', 'right', 'to', 'own', 'the', 'product', 'of', 'his', 'or', 'her', 'labour', 'as', 'private_property', 'and', 'believed', 'in', 'a', 'market_economy', 'for', 'trading', 'this', 'property', 'he', 'argued_that', 'in', 'a', 'truly', 'free_market', 'system', 'without', 'the', 'state', 'the', 'abundance', 'of', 'competition', 'would', 'eliminate', 'profits', 'and', 'ensure_that', 'all', 'workers', 'received', 'the', 'full', 'value', 'of', 'their', 'labor', 'other', 'one', 'nine', 'th_century', 'individualists', 'included', 'lysander_spooner', 'stephen_pearl', 'andrews', 'and', 'victor', 'yarros', 'the', 'first', 'international', 'mikhail_bakunin', 'one', 'eight', 'one', 'four', 'one', 'eight', 'seven', 'six', 'in', 'europe', 'harsh', 'reaction', 'followed', 'the', 'revolutions', 'of', 'one', 'eight', 'four', 'eight', 'twenty_years', 'later', 'in', 'one', 'eight', 'six', 'four', 'the', 'international_workingmen', 's', 'association', 'sometimes_called', 'the', 'first', 'international', 'united', 'some', 'diverse', 'european', 'revolutionary', 'currents', 'including', 'anarchism', 'due_to', 'its', 'genuine', 'links', 'to', 'active', 'workers', 'movements', 'the', 'international', 'became', 'signficiant', 'from', 'the', 'start', 'karl_marx', 'was', 'a', 'leading_figure', 'in', 'the', 'international', 'he', 'was', 'elected', 'to', 'every', 'succeeding', 'general', 'council', 'of', 'the', 'association', 'the', 'first', 'objections', 'to', 'marx', 'came', 'from', 'the', 'mutualists', 'who', 'opposed_communism', 'and', 'statism', 'shortly_after', 'mikhail_bakunin', 'and', 'his_followers', 'joined', 'in', 'one', 'eight', 'six', 'eight', 'the', 'first', 'international', 'became', 'polarised', 'into', 'two', 'camps', 'with', 'marx', 'and', 'bakunin', 'as', 'their_respective', 'figureheads', 'the', 'clearest', 'difference_between', 'the', 'camps', 'was', 'over', 'strategy', 'the', 'anarchists', 'around', 'bakunin', 'favoured', 'in', 'kropotkin', 's', 'words', 'direct', 'economical', 'struggle_against', 'capitalism', 'without_interfering', 'in', 'the', 'political', 'parliamentary', 'agitation', 'at', 'that', 'time', 'marx', 'and', 'his_followers', 'focused_on', 'parliamentary', 'activity', 'bakunin', 'characterised', 'marx', 's', 'ideas', 'as', 'authoritarian', 'and', 'predicted', 'that', 'if', 'a', 'marxist', 'party', 'gained', 'to', 'power', 'its', 'leaders', 'would', 'end', 'up', 'as', 'bad', 'as', 'the', 'ruling_class', 'they', 'had', 'fought_against', 'in', 'one', 'eight', 'seven', 'two', 'the', 'conflict', 'climaxed', 'with', 'a', 'final', 'split_between', 'the', 'two', 'groups', 'at', 'the', 'hague', 'congress', 'this', 'is', 'often_cited', 'as', 'the', 'origin', 'of', 'the', 'conflict_between', 'anarchists', 'and', 'marxists', 'from', 'this', 'moment', 'the', 'social_democratic', 'and', 'libertarian', 'currents', 'of', 'socialism', 'had', 'distinct', 'organisations', 'including', 'rival', 'internationals', 'anarchist_communism', 'peter_kropotkin', 'proudhon', 'and', 'bakunin', 'both', 'opposed_communism', 'associating', 'it', 'with', 'statism', 'however', 'in', 'the', 'one', 'eight', 'seven', 'zero', 's', 'many', 'anarchists', 'moved_away', 'from', 'bakunin', 's', 'economic', 'thinking', 'called', 'collectivism', 'and', 'embraced', 'communist', 'concepts', 'communists', 'believed', 'the', 'means', 'of', 'production', 'should_be', 'owned', 'collectively', 'and', 'that', 'goods', 'be', 'distributed', 'by', 'need', 'not', 'labor', 'an', 'early', 'anarchist', 'communist', 'was', 'joseph', 'd', 'jacque', 'the', 'first_person', 'to', 'describe', 'himself', 'as', 'libertarian', 'unlike', 'proudhon', 'he', 'argued_that', 'it', 'is', 'not', 'the', 'product', 'of', 'his', 'or', 'her', 'labor', 'that', 'the', 'worker', 'has', 'a', 'right', 'to', 'but', 'to', 'the', 'satisfaction', 'of', 'his', 'or', 'her', 'needs', 'whatever', 'may_be', 'their', 'nature', 'he', 'announced', 'his', 'ideas', 'in', 'his', 'us', 'published', 'journal', 'le', 'libertaire', 'one', 'eight', 'five', 'eight', 'one', 'eight', 'six', 'one', 'peter_kropotkin', 'often_seen', 'as', 'the', 'most_important', 'theorist', 'outlined', 'his', 'economic', 'ideas', 'in', 'the', 'conquest', 'of', 'bread', 'and', 'fields', 'factories', 'and', 'workshops', 'he_felt', 'co_operation', 'is', 'more', 'beneficial', 'than', 'competition', 'illustrated', 'in', 'nature', 'in', 'mutual_aid', 'a', 'factor', 'of', 'evolution', 'one', 'eight', 'nine', 'seven', 'subsequent', 'anarchist_communists', 'include', 'emma_goldman', 'and', 'alexander_berkman', 'many', 'in', 'the', 'anarcho_syndicalist', 'movements', 'see_below', 'saw', 'anarchist_communism', 'as', 'their', 'objective', 'isaac', 'puente', 's', 'one', 'nine', 'three', 'two', 'comunismo', 'libertario', 'was', 'adopted', 'by', 'the', 'spanish', 'cnt', 'as', 'its', 'manifesto', 'for', 'a', 'post', 'revolutionary', 'society', 'some', 'anarchists', 'disliked', 'merging', 'communism', 'with', 'anarchism', 'several', 'individualist_anarchists', 'maintained', 'that', 'abolition', 'of', 'private_property', 'was', 'not', 'consistent_with', 'liberty', 'for_example', 'benjamin_tucker', 'whilst', 'professing', 'respect', 'for', 'kropotkin', 'and', 'publishing', 'his', 'work', 'described', 'communist', 'anarchism', 'as', 'pseudo', 'anarchism', 'propaganda', 'of', 'the', 'deed', 'johann', 'most', 'was', 'an_outspoken', 'advocate', 'of', 'violence', 'anarchists', 'have', 'often', 'been', 'portrayed', 'as', 'dangerous', 'and', 'violent', 'due', 'mainly', 'to', 'a', 'number', 'of', 'high_profile', 'violent_acts', 'including', 'riots', 'assassinations', 'insurrections', 'and', 'terrorism', 'by', 'some', 'anarchists', 'some', 'revolutionaries', 'of', 'the', 'late', 'one', 'nine', 'th_century', 'encouraged', 'acts', 'of', 'political', 'violence', 'such_as', 'bombings', 'and', 'the', 'assassinations', 'of', 'heads', 'of', 'state', 'to', 'further', 'anarchism', 'such', 'actions', 'have', 'sometimes', 'been', 'called', 'propaganda', 'by', 'the', 'deed', 'one', 'of', 'the', 'more', 'outspoken', 'advocates', 'of', 'this', 'strategy', 'was', 'johann', 'most', 'who', 'said', 'the', 'existing', 'system', 'will_be', 'quickest', 'and', 'most', 'radically', 'overthrown_by', 'the', 'annihilation', 'of', 'its', 'exponents', 'therefore', 'massacres', 'of', 'the', 'enemies', 'of', 'the', 'people', 'must_be', 'set', 'in', 'motion', 'most', 's', 'preferred_method', 'of', 'terrorism', 'dynamite', 'earned_him', 'the', 'moniker', 'dynamost', 'however', 'there', 'is', 'no_consensus', 'on', 'the', 'legitimacy', 'or', 'utility', 'of', 'violence', 'in', 'general', 'mikhail_bakunin', 'and', 'errico_malatesta', 'for_example', 'wrote', 'of', 'violence', 'as', 'a', 'necessary', 'and', 'sometimes', 'desirable', 'force', 'in', 'revolutionary', 'settings', 'but', 'at', 'the', 'same_time', 'they', 'denounced', 'acts', 'of', 'individual', 'terrorism', 'malatesta', 'in', 'on', 'violence', 'and', 'bakunin', 'when', 'he', 'refuted', 'nechaev', 'other', 'anarchists', 'sometimes', 'identified', 'as', 'pacifist', 'anarchists', 'advocated', 'complete', 'nonviolence', 'leo_tolstoy', 'whose', 'philosophy', 'is', 'often', 'viewed_as', 'a', 'form', 'of', 'christian_anarchism', 'see_below', 'was', 'a', 'notable', 'exponent', 'of', 'nonviolent_resistance', 'anarchism', 'in', 'the', 'labour_movement', 'the', 'red', 'and', 'black_flag', 'coming', 'from', 'the', 'experience', 'of', 'anarchists', 'in', 'the', 'labour_movement', 'is', 'particularly', 'associated_with', 'anarcho_syndicalism', 'anarcho_syndicalism', 'was', 'an', 'early', 'two', 'zero', 'th_century', 'working_class', 'movement', 'seeking', 'to', 'overthrow', 'capitalism', 'and', 'the', 'state', 'to', 'institute', 'a', 'worker', 'controlled', 'society', 'the', 'movement', 'pursued', 'industrial', 'actions', 'such_as', 'general_strike', 'as', 'a', 'primary', 'strategy', 'many', 'anarcho_syndicalists', 'believed', 'in', 'anarchist_communism', 'though', 'not', 'all', 'communists', 'believed', 'in', 'syndicalism', 'after', 'the', 'one', 'eight', 'seven', 'one', 'repression', 'french', 'anarchism', 'reemerged', 'influencing', 'the', 'bourses', 'de', 'travails', 'of', 'autonomous', 'workers', 'groups', 'and', 'trade_unions', 'from', 'this', 'movement', 'the', 'conf', 'd_ration', 'g', 'n_rale', 'du_travail', 'general', 'confederation', 'of', 'work', 'cgt', 'was', 'formed', 'in', 'one', 'eight', 'nine', 'five', 'as', 'the', 'first', 'major', 'anarcho_syndicalist', 'movement', 'emile', 'pataud', 'and', 'emile', 'pouget', 's', 'writing', 'for', 'the', 'cgt', 'saw', 'libertarian_communism', 'developing', 'from', 'a', 'general_strike', 'after', 'one', 'nine', 'one', 'four', 'the', 'cgt', 'moved_away', 'from', 'anarcho_syndicalism', 'due_to', 'the', 'appeal', 'of', 'bolshevism', 'french', 'style', 'syndicalism', 'was', 'a', 'significant', 'movement', 'in', 'europe', 'prior_to', 'one', 'nine', 'two', 'one', 'and', 'remained', 'a', 'significant', 'movement', 'in', 'spain', 'until', 'the', 'mid', 'one', 'nine', 'four', 'zero', 's', 'the', 'industrial_workers', 'of', 'the', 'world', 'iww', 'founded', 'in', 'one', 'nine', 'zero', 'five', 'in', 'the', 'us', 'espoused', 'unionism', 'and', 'sought', 'a', 'general_strike', 'to', 'usher', 'in', 'a', 'stateless', 'society', 'in', 'one', 'nine', 'two', 'three', 'one', 'zero', 'zero', 'zero', 'zero', 'zero', 'members', 'existed', 'with', 'the', 'support', 'of', 'up', 'to', 'three', 'zero', 'zero', 'zero', 'zero', 'zero', 'though', 'not', 'explicitly', 'anarchist', 'they', 'organized', 'by', 'rank', 'and', 'file', 'democracy', 'embodying', 'a', 'spirit', 'of', 'resistance', 'that', 'has', 'inspired', 'many', 'anglophone', 'syndicalists', 'cnt', 'propaganda', 'from', 'april', 'two', 'zero', 'zero', 'four', 'reads', 'don_t', 'let', 'the', 'politicians', 'rule', 'our_lives', 'you', 'vote', 'and', 'they', 'decide', 'don_t', 'allow', 'it', 'unity', 'action', 'self', 'management', 'spanish', 'anarchist', 'trade_union', 'federations', 'were', 'formed', 'in', 'the', 'one', 'eight', 'seven', 'zero', 's', 'one', 'nine', 'zero', 'zero', 'and', 'one', 'nine', 'one', 'zero', 'the', 'most_successful', 'was', 'the', 'confederaci_n', 'nacional_del', 'trabajo', 'national', 'confederation', 'of', 'labour', 'cnt', 'founded', 'in', 'one', 'nine', 'one', 'zero', 'prior_to', 'the', 'one', 'nine', 'four', 'zero', 's', 'the', 'cnt', 'was', 'the', 'major', 'force', 'in', 'spanish', 'working_class', 'politics', 'with', 'a', 'membership', 'of', 'one', 'five', 'eight', 'million', 'in', 'one', 'nine', 'three', 'four', 'the', 'cnt', 'played', 'a', 'major_role', 'in', 'the', 'spanish_civil', 'war', 'see_also', 'anarchism', 'in', 'spain', 'syndicalists', 'like', 'ricardo', 'flores', 'mag', 'n', 'were', 'key_figures', 'in', 'the', 'mexican_revolution', 'latin', 'american', 'anarchism', 'was', 'strongly_influenced', 'extending', 'to', 'the', 'zapatista', 'rebellion', 'and', 'the', 'factory', 'occupation', 'movements', 'in', 'argentina', 'in', 'berlin', 'in', 'one', 'nine', 'two', 'two', 'the', 'cnt', 'was', 'joined', 'with', 'the', 'international', 'workers', 'association', 'an', 'anarcho_syndicalist', 'successor', 'to', 'the', 'first', 'international', 'contemporary', 'anarcho_syndicalism', 'continues', 'as', 'a', 'minor', 'force', 'in', 'many', 'socities', 'much_smaller', 'than', 'in', 'the', 'one', 'nine', 'one', 'zero', 's', 'two', 'zero', 's', 'and', 'three', 'zero', 's', 'the', 'largest', 'organised', 'anarchist_movement', 'today', 'is', 'in', 'spain', 'in', 'the', 'form', 'of', 'the', 'confederaci_n', 'general', 'del_trabajo', 'and', 'the', 'cnt', 'the', 'cgt', 'claims', 'a', 'paid', 'up', 'membership', 'of', 'six', 'zero', 'zero', 'zero', 'zero', 'and', 'received', 'over', 'a', 'million', 'votes', 'in', 'spanish', 'syndical', 'elections', 'other', 'active', 'syndicalist', 'movements', 'include', 'the', 'us', 'workers_solidarity', 'alliance', 'and', 'the', 'uk', 'solidarity', 'federation', 'the', 'revolutionary', 'industrial', 'unionist', 'industrial_workers', 'of', 'the', 'world', 'also', 'exists', 'claiming', 'two', 'zero', 'zero', 'zero', 'paid', 'members', 'contemporary', 'critics', 'of', 'anarcho_syndicalism', 'and', 'revolutionary', 'industrial_unionism', 'claim_that', 'they', 'are', 'workerist', 'and', 'fail', 'to', 'deal_with', 'economic', 'life', 'outside', 'work', 'post', 'leftist', 'critics', 'such_as', 'bob', 'black', 'claim', 'anarcho_syndicalism', 'advocates', 'oppressive_social', 'structures', 'such_as', 'work', 'and', 'the', 'workplace', 'anarcho_syndicalists', 'in', 'general', 'uphold', 'principles', 'of', 'workers_solidarity', 'direct_action', 'and', 'self', 'management', 'the', 'russian_revolution', 'the', 'russian_revolution', 'of', 'one', 'nine', 'one', 'seven', 'was', 'a', 'seismic', 'event', 'in', 'the', 'development', 'of', 'anarchism', 'as', 'a', 'movement', 'and', 'as', 'a', 'philosophy', 'anarchists', 'participated', 'alongside', 'the', 'bolsheviks', 'in', 'both', 'february', 'and', 'october', 'revolutions', 'many', 'anarchists', 'initially', 'supporting', 'the', 'bolshevik', 'coup', 'however', 'the', 'bolsheviks', 'soon', 'turned', 'against', 'the', 'anarchists', 'and', 'other', 'left_wing', 'opposition', 'a', 'conflict', 'which_culminated', 'in', 'the', 'one', 'nine', 'one', 'eight', 'kronstadt_rebellion', 'anarchists', 'in', 'central', 'russia', 'were', 'imprisoned', 'or', 'driven_underground', 'or', 'joined', 'the', 'victorious', 'bolsheviks', 'in', 'ukraine', 'anarchists', 'fought', 'in', 'the', 'civil_war', 'against', 'both', 'whites', 'and', 'bolsheviks', 'within', 'the', 'makhnovshchina', 'peasant', 'army', 'led', 'by', 'nestor_makhno', 'expelled', 'american', 'anarchists', 'emma_goldman', 'and', 'alexander_berkman', 'before_leaving', 'russia', 'were', 'amongst', 'those', 'agitating', 'in', 'response', 'to', 'bolshevik', 'policy', 'and', 'the', 'suppression', 'of', 'the', 'kronstadt', 'uprising', 'both', 'wrote', 'classic', 'accounts', 'of', 'their', 'experiences', 'in', 'russia', 'aiming', 'to', 'expose', 'the', 'reality', 'of', 'bolshevik', 'control', 'for', 'them', 'bakunin', 's', 'predictions_about', 'the', 'consequences', 'of', 'marxist', 'rule', 'had', 'proved', 'all', 'too', 'true', 'the', 'victory', 'of', 'the', 'bolsheviks', 'in', 'the', 'october_revolution', 'and', 'the', 'resulting', 'russian_civil', 'war', 'did', 'serious_damage', 'to', 'anarchist', 'movements', 'internationally', 'many', 'workers', 'and', 'activists', 'saw', 'bolshevik', 'success', 'as', 'setting', 'an', 'example', 'communist_parties', 'grew', 'at', 'the', 'expense', 'of', 'anarchism', 'and', 'other', 'socialist_movements', 'in', 'france', 'and', 'the', 'us', 'for_example', 'the', 'major', 'syndicalist', 'movements', 'of', 'the', 'cgt', 'and', 'iww', 'began', 'to', 'realign', 'themselves', 'away_from', 'anarchism', 'and', 'towards', 'the', 'communist', 'international', 'in', 'paris', 'the', 'dielo', 'truda', 'group', 'of', 'russian', 'anarchist', 'exiles', 'which', 'included', 'nestor_makhno', 'concluded_that', 'anarchists', 'needed', 'to', 'develop', 'new', 'forms', 'of', 'organisation', 'in', 'response', 'to', 'the', 'structures', 'of', 'bolshevism', 'their', 'one', 'nine', 'two', 'six', 'manifesto', 'known_as', 'the', 'organisational', 'platform', 'of', 'the', 'libertarian_communists', 'was', 'supported_by', 'some', 'communist_anarchists', 'though', 'opposed', 'by', 'many', 'others', 'the', 'platform', 'continues', 'to', 'inspire', 'some', 'contemporary', 'anarchist', 'groups', 'who', 'believe', 'in', 'an', 'anarchist_movement', 'organised_around', 'its', 'principles', 'of', 'theoretical', 'unity', 'tactical', 'unity', 'collective_responsibility', 'and', 'federalism', 'platformist', 'groups', 'today', 'include', 'the', 'workers_solidarity', 'movement', 'in', 'ireland', 'the', 'uk', 's', 'anarchist', 'federation', 'and', 'the', 'late', 'north_eastern', 'federation', 'of', 'anarchist_communists', 'in', 'the', 'northeastern_united', 'states', 'and', 'bordering', 'canada', 'the', 'fight_against', 'fascism', 'spain', 'one', 'nine', 'three', 'six', 'members', 'of', 'the', 'cnt', 'construct', 'armoured_cars', 'to', 'fight_against', 'the', 'fascists', 'in', 'one', 'of', 'the', 'collectivised', 'factories', 'in', 'the', 'one', 'nine', 'two', 'zero', 's', 'and', 'one', 'nine', 'three', 'zero', 's', 'the', 'familiar', 'dynamics', 'of', 'anarchism', 's', 'conflict', 'with', 'the', 'state', 'were', 'transformed', 'by', 'the', 'rise', 'of', 'fascism', 'in', 'europe', 'in', 'many_cases', 'european', 'anarchists', 'faced', 'difficult', 'choices', 'should', 'they', 'join', 'in', 'popular', 'fronts', 'with', 'reformist', 'democrats', 'and', 'soviet', 'led', 'communists', 'against', 'a', 'common', 'fascist', 'enemy', 'luigi', 'fabbri', 'an', 'exile', 'from', 'italian_fascism', 'was', 'amongst', 'those', 'arguing_that', 'fascism', 'was', 'something', 'different', 'fascism', 'is', 'not', 'just', 'another', 'form', 'of', 'government', 'which', 'like', 'all', 'others', 'uses', 'violence', 'it', 'is', 'the', 'most', 'authoritarian', 'and', 'the', 'most', 'violent', 'form', 'of', 'government', 'imaginable', 'it', 'represents', 'the', 'utmost', 'glorification', 'of', 'the', 'theory', 'and', 'practice', 'of', 'the', 'principle', 'of', 'authority', 'in', 'france', 'where', 'the', 'fascists', 'came_close', 'to', 'insurrection', 'in', 'the', 'february', 'one', 'nine', 'three', 'four', 'riots', 'anarchists', 'divided', 'over', 'a', 'united', 'front', 'policy', 'in', 'spain', 'the', 'cnt', 'initially_refused', 'to', 'join', 'a', 'popular_front', 'electoral', 'alliance', 'and', 'abstention', 'by', 'cnt', 'supporters', 'led', 'to', 'a', 'right_wing', 'election_victory', 'but', 'in', 'one', 'nine', 'three', 'six', 'the', 'cnt', 'changed', 'its', 'policy', 'and', 'anarchist', 'votes', 'helped_bring', 'the', 'popular_front', 'back', 'to', 'power', 'months_later', 'the', 'ruling_class', 'responded', 'with', 'an', 'attempted_coup', 'and', 'the', 'spanish_civil', 'war', 'one', 'nine', 'three', 'six', 'three', 'nine', 'was', 'underway', 'in', 'reponse', 'to', 'the', 'army', 'rebellion', 'an', 'anarchist', 'inspired', 'movement', 'of', 'peasants', 'and', 'workers', 'supported_by', 'armed', 'militias', 'took_control', 'of', 'the', 'major', 'city', 'of', 'barcelona', 'and', 'of', 'large_areas', 'of', 'rural', 'spain', 'where', 'they', 'collectivized', 'the', 'land', 'but', 'even', 'before', 'the', 'eventual', 'fascist', 'victory', 'in', 'one', 'nine', 'three', 'nine', 'the', 'anarchists', 'were', 'losing_ground', 'in', 'a', 'bitter_struggle', 'with', 'the', 'stalinists', 'the', 'cnt', 'leadership', 'often', 'appeared', 'confused', 'and', 'divided', 'with', 'some', 'members', 'controversially', 'entering', 'the', 'government', 'stalinist', 'led', 'troops', 'suppressed', 'the', 'collectives', 'and', 'persecuted', 'both', 'dissident', 'marxists', 'and', 'anarchists', 'since', 'the', 'late', 'one', 'nine', 'seven', 'zero', 's', 'anarchists', 'have_been', 'involved', 'in', 'fighting', 'the', 'rise', 'of', 'neo_fascist', 'groups', 'in', 'germany', 'and', 'the', 'united_kingdom', 'some', 'anarchists', 'worked', 'within', 'militant', 'anti_fascist', 'groups', 'alongside', 'members', 'of', 'the', 'marxist', 'left', 'they', 'advocated', 'directly', 'combating', 'fascists', 'with', 'physical', 'force', 'rather_than', 'relying_on', 'the', 'state', 'since', 'the', 'late', 'one', 'nine', 'nine', 'zero', 's', 'a', 'similar', 'tendency', 'has', 'developed', 'within', 'us', 'anarchism', 'see_also', 'anti_racist', 'action', 'us', 'anti_fascist', 'action', 'uk', 'antifa', 'religious', 'anarchism', 'leo_tolstoy', 'one', 'eight', 'two', 'eight', 'one', 'nine', 'one', 'zero', 'most', 'anarchist', 'culture', 'tends_to', 'be', 'secular', 'if', 'not', 'outright', 'anti', 'religious', 'however', 'the', 'combination', 'of', 'religious', 'social', 'conscience', 'historical', 'religiousity', 'amongst', 'oppressed', 'social_classes', 'and', 'the', 'compatibility', 'of', 'some', 'interpretations', 'of', 'religious_traditions', 'with', 'anarchism', 'has_resulted', 'in', 'religious', 'anarchism', 'christian', 'anarchists', 'believe_that', 'there', 'is', 'no', 'higher', 'authority', 'than', 'god', 'and', 'oppose', 'earthly', 'authority', 'such_as', 'government', 'and', 'established', 'churches', 'they_believe', 'that', 'jesus_teachings', 'were', 'clearly', 'anarchistic', 'but', 'were', 'corrupted', 'when', 'christianity', 'was', 'declared', 'the', 'official', 'religion', 'of', 'rome', 'christian', 'anarchists', 'who', 'follow', 'jesus', 'directive', 'to', 'turn', 'the', 'other', 'cheek', 'are', 'strict', 'pacifists', 'the', 'most_famous', 'advocate', 'of', 'christian_anarchism', 'was', 'leo_tolstoy', 'author', 'of', 'the', 'kingdom', 'of', 'god', 'is', 'within', 'you', 'who', 'called', 'for', 'a', 'society', 'based_on', 'compassion', 'nonviolent', 'principles', 'and', 'freedom', 'christian', 'anarchists', 'tend_to', 'form', 'experimental', 'communities', 'they', 'also', 'occasionally', 'resist', 'taxation', 'many', 'christian', 'anarchists', 'are', 'vegetarian', 'or', 'vegan', 'christian', 'anarchy', 'can_be', 'said', 'to', 'have', 'roots', 'as', 'old', 'as', 'the', 'religion', 's', 'birth', 'as', 'the', 'early', 'church', 'exhibits', 'many', 'anarchistic', 'tendencies', 'such_as', 'communal', 'goods', 'and', 'wealth', 'by', 'aiming', 'to', 'obey', 'utterly', 'certain', 'of', 'the', 'bible', 's', 'teachings', 'certain', 'anabaptist_groups', 'of', 'sixteenth_century', 'europe', 'attempted', 'to', 'emulate', 'the', 'early', 'church', 's', 'social', 'economic', 'organisation', 'and', 'philosophy', 'by', 'regarding', 'it', 'as', 'the', 'only', 'social_structure', 'capable', 'of', 'true', 'obediance', 'to', 'jesus_teachings', 'and', 'utterly', 'rejected', 'in', 'theory', 'all', 'earthly', 'hierarchies', 'and', 'authority', 'and', 'indeed', 'non', 'anabaptists', 'in', 'general', 'and', 'violence', 'as', 'ungodly', 'such', 'groups', 'for_example', 'the', 'hutterites', 'typically', 'went', 'from', 'initially', 'anarchistic', 'beginnings', 'to', 'as', 'their', 'movements', 'stabalised', 'more', 'authoritarian', 'social', 'models', 'chinese', 'anarchism', 'was', 'most_influential', 'in', 'the', 'one', 'nine', 'two', 'zero', 's', 'strands', 'of', 'chinese', 'anarchism', 'included', 'tai', 'xu', 's', 'buddhist', 'anarchism', 'which', 'was', 'influenced_by', 'tolstoy', 'and', 'the', 'well', 'field', 'system', 'neopaganism', 'with', 'its', 'focus_on', 'the', 'environment', 'and', 'equality', 'along_with', 'its', 'often', 'decentralized_nature', 'has', 'lead', 'to', 'a', 'number', 'of', 'neopagan', 'anarchists', 'one', 'of', 'the', 'most_prominent', 'is', 'starhawk', 'who', 'writes', 'extensively', 'about', 'both', 'spirituality', 'and', 'activism', 'anarchism', 'and', 'feminism', 'emma_goldman', 'early', 'french', 'feminists', 'such_as', 'jenny', 'd', 'h', 'ricourt', 'and', 'juliette', 'adam', 'criticised', 'the', 'mysogyny', 'in', 'the', 'anarchism', 'of', 'proudhon', 'during', 'the', 'one', 'eight', 'five', 'zero', 's', 'anarcha_feminism', 'is', 'a', 'kind', 'of', 'radical_feminism', 'that', 'espouses', 'the', 'belief_that', 'patriarchy', 'is', 'a', 'fundamental', 'problem', 'in', 'society', 'while', 'anarchist', 'feminism', 'has', 'existed', 'for', 'more_than', 'a', 'hundred_years', 'its', 'explicit', 'formulation', 'as', 'anarcha_feminism', 'dates_back', 'to', 'the', 'early', 'seven', 'zero', 's', 'during', 'the', 'second_wave', 'feminist_movement', 'anarcha_feminism', 'views', 'patriarchy', 'as', 'the', 'first', 'manifestation', 'of', 'hierarchy', 'in', 'human', 'history', 'thus', 'the', 'first', 'form', 'of', 'oppression', 'occurred', 'in', 'the', 'dominance', 'of', 'male', 'over', 'female', 'anarcha', 'feminists', 'then', 'conclude_that', 'if', 'feminists', 'are', 'against', 'patriarchy', 'they', 'must', 'also', 'be', 'against', 'all', 'forms', 'of', 'hierarchy', 'and', 'therefore', 'must', 'reject', 'the', 'authoritarian', 'nature', 'of', 'the', 'state', 'and', 'capitalism_anarcho', 'primitivists', 'see', 'the', 'creation', 'of', 'gender_roles', 'and', 'patriarchy', 'a', 'creation', 'of', 'the', 'start', 'of', 'civilization', 'and', 'therefore', 'consider', 'primitivism', 'to', 'also', 'be', 'an', 'anarchist', 'school', 'of', 'thought', 'that', 'addresses', 'feminist', 'concerns', 'eco', 'feminism', 'is', 'often_considered', 'a', 'feminist', 'variant', 'of', 'green', 'anarchist', 'feminist', 'thought', 'anarcha_feminism', 'is', 'most', 'often_associated', 'with', 'early', 'two', 'zero', 'th_century', 'authors', 'and', 'theorists', 'such_as', 'emma_goldman', 'and', 'voltairine_de', 'cleyre', 'although', 'even', 'early', 'first', 'wave_feminist', 'mary_wollstonecraft', 'held', 'proto', 'anarchist', 'views', 'and', 'william_godwin', 'is', 'often_considered', 'a', 'feminist', 'anarchist', 'precursor', 'it', 'should_be', 'noted_that', 'goldman', 'and', 'de_cleyre', 'though', 'they', 'both', 'opposed', 'the', 'state', 'had', 'opposing', 'philosophies', 'as', 'de_cleyre', 'explains', 'miss', 'goldman', 'is', 'a', 'communist', 'i_am', 'an', 'individualist', 'she', 'wishes', 'to', 'destroy', 'the', 'right', 'of', 'property', 'i_wish', 'to', 'assert', 'it', 'i', 'make', 'my', 'war', 'upon', 'privilege', 'and', 'authority', 'whereby', 'the', 'right', 'of', 'property', 'the', 'true', 'right', 'in', 'that', 'which', 'is', 'proper', 'to', 'the', 'individual', 'is', 'annihilated', 'she_believes', 'that', 'co_operation', 'would', 'entirely', 'supplant', 'competition', 'i', 'hold', 'that', 'competition', 'in', 'one', 'form', 'or', 'another', 'will_always', 'exist', 'and', 'that', 'it', 'is', 'highly_desirable', 'it', 'should', 'in', 'the', 'spanish_civil', 'war', 'an', 'anarcha', 'feminist', 'group', 'free', 'women', 'organized', 'to', 'defend', 'both', 'anarchist', 'and', 'feminist_ideas', 'in', 'the', 'modern_day', 'anarchist_movement', 'many', 'anarchists', 'male', 'or', 'female', 'consider_themselves', 'feminists', 'and', 'anarcha', 'feminist_ideas', 'are', 'growing', 'the', 'publishing', 'of', 'quiet', 'rumors', 'an', 'anarcha', 'feminist', 'reader', 'has', 'helped', 'to', 'spread', 'various_kinds', 'of', 'anti_authoritarian', 'and', 'anarchist', 'feminist_ideas', 'to', 'the', 'broader', 'movement', 'wendy_mcelroy', 'has', 'popularized', 'an', 'individualist_anarchism', 'take', 'on', 'feminism', 'in', 'her', 'books', 'articles', 'and', 'individualist', 'feminist', 'website', 'anarcho_capitalism', 'murray_rothbard', 'one', 'nine', 'two', 'six', 'one', 'nine', 'nine', 'five', 'anarcho_capitalism', 'is', 'a', 'predominantly', 'united_states', 'based', 'theoretical', 'tradition', 'that', 'desires', 'a', 'stateless', 'society', 'with', 'the', 'economic', 'system', 'of', 'free_market', 'capitalism', 'unlike', 'other', 'branches', 'of', 'anarchism', 'it', 'does_not', 'oppose', 'profit', 'or', 'capitalism', 'consequently', 'most', 'anarchists', 'do_not', 'recognise', 'anarcho_capitalism', 'as', 'a', 'form', 'of', 'anarchism', 'murray_rothbard', 's', 'synthesis', 'of', 'classical_liberalism', 'and', 'austrian_economics', 'was', 'germinal', 'for', 'the', 'development', 'of', 'contemporary', 'anarcho_capitalist', 'theory', 'he', 'defines', 'anarcho_capitalism', 'in', 'terms', 'of', 'the', 'non_aggression', 'principle', 'based_on', 'the', 'concept', 'of', 'natural_law', 'competiting', 'theorists', 'use', 'egoism', 'utilitarianism', 'used', 'by', 'david_friedman', 'or', 'contractarianism', 'used', 'by', 'jan', 'narveson', 'some', 'minarchists', 'such_as', 'ayn_rand', 'robert_nozick', 'and', 'robert', 'a', 'heinlein', 'have', 'influenced', 'anarcho_capitalism', 'some', 'anarcho_capitalists', 'along_with', 'some', 'right_wing', 'libertarian', 'historians', 'such_as', 'david', 'hart', 'and', 'ralph', 'raico', 'considered', 'similar', 'philosophies', 'existing', 'prior_to', 'rothbard', 'to', 'be', 'anarcho_capitalist', 'such_as', 'those', 'of', 'gustave_de', 'molinari', 'and', 'auberon_herbert', 'opponents', 'of', 'anarcho_capitalists', 'dispute', 'these', 'claims', 'the', 'place', 'of', 'anarcho_capitalism', 'within', 'anarchism', 'and', 'indeed', 'whether', 'it', 'is', 'a', 'form', 'of', 'anarchism', 'at', 'all', 'is', 'highly_controversial', 'for', 'more', 'on', 'this', 'debate', 'see', 'anarchism', 'and', 'anarcho_capitalism', 'anarchism', 'and', 'the', 'environment', 'since', 'the', 'late', 'one', 'nine', 'seven', 'zero', 's', 'anarchists', 'in', 'anglophone', 'and', 'european_countries', 'have_been', 'taking', 'action', 'for', 'the', 'natural_environment', 'eco_anarchists', 'or', 'green', 'anarchists', 'believe', 'in', 'deep_ecology', 'this', 'is', 'a', 'worldview', 'that', 'embraces', 'biodiversity', 'and', 'sustainability', 'eco_anarchists', 'often', 'use', 'direct_action', 'against', 'what', 'they', 'see', 'as', 'earth', 'destroying', 'institutions', 'of', 'particular_importance', 'is', 'the', 'earth', 'first', 'movement', 'that', 'takes', 'action', 'such_as', 'tree', 'sitting', 'another', 'important_component', 'is', 'ecofeminism', 'which', 'sees', 'the', 'domination', 'of', 'nature', 'as', 'a', 'metaphor', 'for', 'the', 'domination', 'of', 'women', 'green_anarchism', 'also', 'involves', 'a', 'critique', 'of', 'industrial_capitalism', 'and', 'for', 'some', 'green', 'anarchists', 'civilization', 'itself', 'primitivism', 'is', 'a', 'predominantly', 'western_philosophy', 'that', 'advocates', 'a', 'return', 'to', 'a', 'pre_industrial', 'and', 'usually', 'pre', 'agricultural', 'society', 'it', 'develops', 'a', 'critique', 'of', 'industrial', 'civilization', 'in', 'this', 'critique', 'technology', 'and', 'development', 'have', 'alienated', 'people', 'from', 'the', 'natural', 'world', 'this', 'philosophy', 'develops', 'themes', 'present', 'in', 'the', 'political', 'action', 'of', 'the', 'luddites', 'and', 'the', 'writings', 'of', 'jean_jacques', 'rousseau', 'primitivism', 'developed', 'in', 'the', 'context', 'of', 'the', 'reclaim', 'the', 'streets', 'earth', 'first', 'and', 'the', 'earth_liberation', 'front', 'movements', 'john_zerzan', 'wrote', 'that', 'civilization', 'not', 'just', 'the', 'state', 'would', 'need', 'to', 'fall', 'for', 'anarchy', 'to', 'be_achieved', 'anarcho', 'primitivists', 'point', 'to', 'the', 'anti_authoritarian', 'nature', 'of', 'many', 'primitive', 'or', 'hunter_gatherer', 'societies', 'throughout', 'the', 'world', 's', 'history', 'as', 'examples', 'of', 'anarchist', 'societies', 'other', 'branches', 'and', 'offshoots', 'anarchism', 'generates', 'many', 'eclectic', 'and', 'syncretic', 'philosophies', 'and', 'movements', 'since', 'the', 'western', 'social', 'formet', 'in', 'the', 'one', 'nine', 'six', 'zero', 's', 'and', 'one', 'nine', 'seven', 'zero', 's', 'a', 'number', 'new', 'of', 'movements', 'and', 'schools', 'have', 'appeared', 'most', 'of', 'these', 'stances', 'are', 'limited', 'to', 'even', 'smaller', 'numbers', 'than', 'the', 'schools', 'and', 'movements', 'listed_above', 'hakim_bey', 'post', 'left_anarchy', 'post', 'left_anarchy', 'also', 'called', 'egoist', 'anarchism', 'seeks', 'to', 'distance', 'itself', 'from', 'the', 'traditional', 'left', 'communists', 'liberals', 'social_democrats', 'etc', 'and', 'to', 'escape', 'the', 'confines', 'of', 'ideology', 'in', 'general', 'post', 'leftists', 'argue_that', 'anarchism', 'has_been', 'weakened', 'by', 'its', 'long', 'attachment', 'to', 'contrary', 'leftist', 'movements', 'and', 'single', 'issue', 'causes', 'anti', 'war', 'anti', 'nuclear', 'etc', 'it', 'calls', 'for', 'a', 'synthesis', 'of', 'anarchist', 'thought', 'and', 'a', 'specifically', 'anti_authoritarian', 'revolutionary_movement', 'outside', 'of', 'the', 'leftist', 'milieu', 'it', 'often', 'focuses_on', 'the', 'individual', 'rather_than', 'speaking', 'in', 'terms', 'of', 'class', 'or', 'other', 'broad', 'generalizations', 'and', 'shuns', 'organizational', 'tendencies', 'in', 'favor', 'of', 'the', 'complete_absence', 'of', 'explicit', 'hierarchy', 'important', 'groups', 'and', 'individuals', 'associated_with', 'post', 'left_anarchy', 'include', 'crimethinc', 'the', 'magazine', 'anarchy', 'a', 'journal', 'of', 'desire', 'armed', 'and', 'its', 'editor', 'jason', 'mcquinn', 'bob', 'black', 'hakim_bey', 'and', 'others', 'for', 'more', 'information', 'see', 'infoshop_org', 's', 'anarchy', 'after', 'leftism', 'section', 'and', 'the', 'post', 'left', 'section', 'on', 'anarchism', 'ws', 'see_also', 'post', 'left_anarchy', 'post_structuralism', 'the', 'term', 'postanarchism', 'was', 'originated', 'by', 'saul', 'newman', 'first', 'receiving', 'popular', 'attention', 'in', 'his', 'book', 'from', 'bakunin', 'to', 'lacan', 'to', 'refer_to', 'a', 'theoretical', 'move_towards', 'a', 'synthesis', 'of', 'classical', 'anarchist', 'theory', 'and', 'poststructuralist', 'thought', 'subsequent', 'to', 'newman', 's', 'use', 'of', 'the', 'term', 'however', 'it', 'has', 'taken', 'on', 'a', 'life', 'of', 'its_own', 'and', 'a', 'wide_range', 'of', 'ideas', 'including', 'autonomism', 'post', 'left_anarchy', 'situationism', 'post', 'colonialism', 'and', 'zapatismo', 'by', 'its', 'very', 'nature', 'post', 'anarchism', 'rejects', 'the', 'idea', 'that', 'it', 'should_be', 'a', 'coherent', 'set', 'of', 'doctrines', 'and', 'beliefs', 'as', 'such', 'it', 'is', 'difficult', 'if', 'not', 'impossible', 'to', 'state', 'with', 'any', 'degree', 'of', 'certainty', 'who', 'should', 'or', 'shouldn_t', 'be', 'grouped_under', 'the', 'rubric', 'nonetheless', 'key', 'thinkers', 'associated_with', 'post', 'anarchism', 'include', 'saul', 'newman', 'todd', 'may', 'gilles_deleuze', 'and', 'f_lix', 'guattari', 'external', 'reference', 'postanarchism', 'clearinghouse', 'see_also', 'post', 'anarchism', 'insurrectionary', 'anarchism', 'insurrectionary', 'anarchism', 'is', 'a', 'form', 'of', 'revolutionary', 'anarchism', 'critical', 'of', 'formal', 'anarchist', 'labor_unions', 'and', 'federations', 'insurrectionary', 'anarchists', 'advocate', 'informal', 'organization', 'including', 'small', 'affinity', 'groups', 'carrying_out', 'acts', 'of', 'resistance', 'in', 'various', 'struggles', 'and', 'mass', 'organizations', 'called', 'base', 'structures', 'which', 'can', 'include', 'exploited', 'individuals_who', 'are', 'not', 'anarchists', 'proponents', 'include', 'wolfi', 'landstreicher', 'and', 'alfredo', 'm', 'bonanno', 'author', 'of', 'works', 'including', 'armed', 'joy', 'and', 'the', 'anarchist', 'tension', 'this', 'tendency', 'is', 'represented', 'in', 'the', 'us', 'in', 'magazines', 'such_as', 'willful', 'disobedience', 'and', 'killing', 'king', 'abacus', 'see_also', 'insurrectionary', 'anarchism', 'small', 'a', 'anarchism', 'small', 'a', 'anarchism', 'is', 'a', 'term', 'used', 'in', 'two', 'different', 'but', 'not', 'unconnected', 'contexts', 'dave', 'neal', 'posited', 'the', 'term', 'in', 'opposition', 'to', 'big', 'a', 'anarchism', 'in', 'the', 'article', 'anarchism', 'ideology', 'or', 'methodology', 'while', 'big', 'a', 'anarchism', 'referred_to', 'ideological', 'anarchists', 'small', 'a', 'anarchism', 'was', 'applied', 'to', 'their', 'methodological', 'counterparts', 'those_who', 'viewed', 'anarchism', 'as', 'a', 'way', 'of', 'acting', 'or', 'a', 'historical', 'tendency', 'against', 'illegitimate', 'authority', 'as', 'an', 'anti', 'ideological', 'position', 'small', 'a', 'anarchism', 'shares', 'some', 'similarities', 'with', 'post', 'left_anarchy', 'david', 'graeber', 'and', 'andrej', 'grubacic', 'offer', 'an_alternative', 'use', 'of', 'the', 'term', 'applying', 'it', 'to', 'groups', 'and', 'movements', 'organising', 'according_to', 'or', 'acting', 'in', 'a', 'manner_consistent', 'with', 'anarchist_principles', 'of', 'decentralisation', 'voluntary_association', 'mutual_aid', 'the', 'network', 'model', 'and', 'crucially', 'the', 'rejection', 'of', 'any', 'idea', 'that', 'the', 'end', 'justifies', 'the', 'means', 'let_alone', 'that', 'the', 'business', 'of', 'a', 'revolutionary', 'is', 'to', 'seize', 'state', 'power', 'and', 'then', 'begin', 'imposing', 'one', 's', 'vision', 'at', 'the', 'point', 'of', 'a', 'gun', 'other', 'issues', 'conceptions', 'of', 'an', 'anarchist_society', 'many', 'political', 'philosophers', 'justify', 'support', 'of', 'the', 'state', 'as', 'a', 'means', 'of', 'regulating', 'violence', 'so', 'that', 'the', 'destruction', 'caused_by', 'human', 'conflict', 'is', 'minimized', 'and', 'fair', 'relationships', 'are', 'established', 'anarchists', 'argue_that', 'pursuit', 'of', 'these', 'ends', 'does_not', 'justify', 'the', 'establishment', 'of', 'a', 'state', 'many', 'argue_that', 'the', 'state', 'is', 'incompatible_with', 'those', 'goals', 'and', 'the', 'cause', 'of', 'chaos', 'violence', 'and', 'war', 'anarchists', 'argue_that', 'the', 'state', 'helps', 'to', 'create', 'a', 'monopoly', 'on', 'violence', 'and', 'uses', 'violence', 'to', 'advance', 'elite', 'interests', 'much', 'effort', 'has_been', 'dedicated', 'to', 'explaining_how', 'anarchist', 'societies', 'would', 'handle', 'criminality', 'see_also', 'anarchism', 'and', 'society', 'civil_rights', 'and', 'cultural', 'sovereignty', 'black', 'anarchism', 'opposes', 'the', 'existence', 'of', 'a', 'state', 'capitalism', 'and', 'subjugation', 'and', 'domination', 'of', 'people', 'of', 'color', 'and', 'favors', 'a', 'non', 'hierarchical_organization', 'of', 'society', 'theorists', 'include', 'ashanti', 'alston', 'lorenzo', 'komboa', 'ervin', 'and', 'sam', 'mbah', 'anarchist', 'people', 'of', 'color', 'was', 'created', 'as', 'a', 'forum', 'for', 'non', 'caucasian', 'anarchists', 'to', 'express', 'their', 'thoughts', 'about', 'racial', 'issues', 'within', 'the', 'anarchist_movement', 'particularly', 'within', 'the', 'united_states', 'national', 'anarchism', 'is', 'a', 'political', 'view', 'which', 'seeks', 'to', 'unite', 'cultural', 'or', 'ethnic', 'preservation', 'with', 'anarchist', 'views', 'its_adherents', 'propose', 'that', 'those', 'preventing', 'ethnic_groups', 'or', 'races', 'from', 'living', 'in', 'separate', 'autonomous', 'groupings', 'should_be', 'resisted', 'anti_racist', 'action', 'is', 'not', 'an', 'anarchist', 'group', 'but', 'many', 'anarchists', 'are', 'involved', 'it', 'focuses_on', 'publicly', 'confronting', 'racist', 'agitators', 'the', 'zapatista', 'movement', 'of', 'chiapas_mexico', 'is', 'a', 'cultural', 'sovereignty', 'group', 'with', 'some', 'anarchist', 'proclivities', 'neocolonialism', 'and', 'globalization', 'nearly_all', 'anarchists', 'oppose', 'neocolonialism', 'as', 'an_attempt', 'to', 'use', 'economic_coercion', 'on', 'a', 'global_scale', 'carried_out', 'through', 'state', 'institutions', 'such_as', 'the', 'world_bank', 'world_trade', 'organization', 'group', 'of', 'eight', 'and', 'the', 'world', 'economic_forum', 'globalization', 'is', 'an', 'ambiguous', 'term', 'that', 'has', 'different_meanings', 'to', 'different', 'anarchist', 'factions', 'most', 'anarchists', 'use', 'the', 'term', 'to', 'mean', 'neocolonialism', 'and', 'or', 'cultural_imperialism', 'which', 'they', 'may', 'see', 'as', 'related', 'many', 'are', 'active', 'in', 'the', 'anti_globalization', 'movement', 'others', 'particularly', 'anarcho_capitalists', 'use', 'globalization', 'to', 'mean', 'the', 'worldwide', 'expansion', 'of', 'the', 'division', 'of', 'labor', 'and', 'trade', 'which', 'they', 'see', 'as', 'beneficial', 'so', 'long', 'as', 'governments', 'do_not', 'intervene', 'parallel', 'structures', 'many', 'anarchists', 'try', 'to', 'set_up', 'alternatives', 'to', 'state', 'supported', 'institutions', 'and', 'outposts', 'such_as', 'food', 'not', 'bombs', 'infoshops', 'educational', 'systems', 'such_as', 'home_schooling', 'neighborhood', 'mediation_arbitration', 'groups', 'and', 'so', 'on', 'the', 'idea', 'is', 'to', 'create', 'the', 'structures', 'for', 'a', 'new', 'anti_authoritarian', 'society', 'in', 'the', 'shell', 'of', 'the', 'old', 'authoritarian', 'one', 'technology', 'recent', 'technological_developments', 'have', 'made', 'the', 'anarchist', 'cause', 'both', 'easier', 'to', 'advance', 'and', 'more', 'conceivable', 'to', 'people', 'many', 'people', 'use', 'the', 'internet', 'to', 'form', 'on', 'line', 'communities', 'intellectual_property', 'is', 'undermined', 'and', 'a', 'gift', 'culture', 'supported_by', 'sharing', 'music', 'files', 'open_source', 'programming', 'and', 'the', 'free_software', 'movement', 'these', 'cyber', 'communities', 'include', 'the', 'gnu_linux', 'indymedia', 'and', 'wiki', 'some', 'anarchists', 'see', 'information_technology', 'as', 'the', 'best', 'weapon', 'to', 'defeat', 'authoritarianism', 'some', 'even', 'think', 'the', 'information', 'age', 'makes', 'eventual', 'anarchy', 'inevitable', 'see_also', 'crypto_anarchism', 'and', 'cypherpunk', 'pacifism', 'some', 'anarchists', 'consider', 'pacifism', 'opposition', 'to', 'war', 'to', 'be', 'inherent', 'in', 'their', 'philosophy', 'anarcho', 'pacifists', 'take', 'it', 'further', 'and', 'follow', 'leo_tolstoy', 's', 'belief', 'in', 'non_violence', 'anarchists', 'see', 'war', 'as', 'an', 'activity', 'in', 'which', 'the', 'state', 'seeks', 'to', 'gain', 'and', 'consolidate_power', 'both', 'domestically', 'and', 'in', 'foreign', 'lands', 'and', 'subscribe', 'to', 'randolph', 'bourne', 's', 'view', 'that', 'war', 'is', 'the', 'health', 'of', 'the', 'state', 'a_lot', 'of', 'anarchist', 'activity', 'has_been', 'anti', 'war', 'based', 'parliamentarianism', 'in', 'general', 'terms', 'the', 'anarchist', 'ethos', 'opposes', 'voting', 'in', 'elections', 'because', 'voting', 'amounts', 'to', 'condoning', 'the', 'state', 'voluntaryism', 'is', 'an', 'anarchist', 'school', 'of', 'thought', 'which', 'emphasizes', 'tending', 'your_own', 'garden', 'and', 'neither', 'ballots', 'nor', 'bullets', 'the', 'anarchist', 'case', 'against', 'voting', 'is', 'explained', 'in', 'the', 'ethics', 'of', 'voting', 'by', 'george_h', 'smith', 'also', 'see', 'voting', 'anarchists', 'an_oxymoron', 'or', 'what', 'by', 'joe', 'peacott', 'and', 'writings', 'by', 'fred', 'woodworth', 'sectarianism', 'most', 'anarchist', 'schools', 'of', 'thought', 'are', 'to', 'some_degree', 'sectarian', 'there', 'is', 'often', 'a', 'difference', 'of', 'opinion', 'within', 'each', 'school', 'about', 'how', 'to', 'react', 'to', 'or', 'interact_with', 'other', 'schools', 'some', 'such_as', 'panarchists', 'believe_that', 'it', 'is', 'possible', 'for', 'a', 'variety', 'of', 'modes', 'of', 'social', 'life', 'to', 'coexist', 'and', 'compete', 'some', 'anarchists', 'view', 'opposing', 'schools', 'as', 'a', 'social', 'impossibility', 'and', 'resist', 'interaction', 'others', 'see', 'opportunities_for', 'coalition', 'building', 'or', 'at_least', 'temporary', 'alliances', 'for', 'specific_purposes', 'see', 'anarchism', 'without', 'adjectives', 'criticisms', 'of', 'anarchism', 'main_article', 'criticisms', 'of', 'anarchism', 'violence', 'since', 'anarchism', 'has', 'often', 'been', 'associated_with', 'violence', 'and', 'destruction', 'some', 'people', 'have', 'seen', 'it', 'as', 'being', 'too', 'violent', 'on', 'the', 'other_hand', 'hand', 'frederick_engels', 'criticsed', 'anarchists', 'for', 'not', 'being', 'violent', 'enough', 'a', 'revolution', 'is', 'certainly', 'the', 'most', 'authoritarian', 'thing', 'there', 'is', 'it', 'is', 'the', 'act', 'whereby', 'one', 'part', 'of', 'the', 'population', 'imposes', 'its', 'will', 'upon', 'the', 'other', 'part', 'by', 'means', 'of', 'rifles', 'bayonets', 'and', 'cannon', 'authoritarian', 'means', 'if', 'such', 'there', 'be', 'at', 'all', 'and', 'if', 'the', 'victorious', 'party', 'does_not', 'want', 'to', 'have', 'fought', 'in', 'vain', 'it', 'must', 'maintain', 'this', 'rule', 'by', 'means', 'of', 'the', 'terror', 'which', 'its', 'arms', 'inspire', 'in', 'the', 'reactionists', 'would', 'the', 'paris_commune', 'have', 'lasted', 'a', 'single', 'day', 'if', 'it', 'had', 'not', 'made', 'use', 'of', 'this', 'authority', 'of', 'the', 'armed', 'people', 'against', 'the', 'bourgeois', 'utopianism', 'anarchism', 'is', 'often_criticised', 'as', 'unfeasible', 'or', 'plain', 'utopian', 'even', 'by', 'many', 'who', 'agree_that', 'it', 's', 'a', 'nice', 'idea', 'in', 'principle', 'for_example', 'carl', 'landauer', 'in', 'his', 'book', 'european', 'socialism', 'criticizes', 'anarchism', 'as', 'being', 'unrealistically', 'utopian', 'and', 'holds_that', 'government', 'is', 'a', 'lesser', 'evil', 'than', 'a', 'society', 'without', 'repressive', 'force', 'he', 'holds_that', 'the', 'belief_that', 'ill', 'intentions', 'will_cease', 'if', 'repressive', 'force', 'disappears', 'is', 'an', 'absurdity', 'however', 'it', 'must_be', 'noted_that', 'not', 'all', 'anarchists', 'have', 'such', 'a', 'utopian', 'view', 'of', 'anarchism', 'for_example', 'some', 'such_as', 'benjamin_tucker', 'advocate', 'privately_funded', 'institutions', 'that', 'defend', 'individual_liberty', 'and', 'property', 'however', 'other', 'anarchists', 'such_as', 'sir_herbert', 'read', 'proudly', 'accept', 'the', 'characterization', 'utopian', 'class', 'character', 'marxists', 'have', 'characterised', 'anarchism', 'as', 'an', 'expression', 'of', 'the', 'class', 'interests', 'of', 'the', 'petite', 'bourgeoisie', 'or', 'perhaps', 'the', 'lumpenproletariat', 'see', 'e_g', 'plekhanov', 'for', 'a', 'marxist_critique', 'of', 'one', 'eight', 'nine', 'five', 'anarchists', 'have', 'also', 'been', 'characterised', 'as', 'spoilt', 'middle_class', 'dilettantes', 'most_recently', 'in', 'relation', 'to', 'anti_capitalist', 'protesters', 'tacit', 'authoritarianism', 'in', 'recent_decades', 'anarchism', 'has_been', 'criticised', 'by', 'situationists', 'post', 'anarchists', 'and', 'others', 'of', 'preserving', 'tacitly', 'statist', 'authoritarian', 'or', 'bureaucratic', 'tendencies', 'behind', 'a', 'dogmatic', 'facade', 'hypocrisy', 'some_critics', 'point', 'to', 'the', 'sexist', 'and', 'racist_views', 'of', 'some', 'prominent', 'anarchists', 'notably', 'proudhon', 'and', 'bakunin', 'as', 'examples', 'of', 'hypocrisy', 'inherent', 'within', 'anarchism', 'while', 'many', 'anarchists', 'however', 'dismiss', 'that', 'the', 'personal', 'prejudices', 'of', 'one', 'nine', 'th_century', 'theorists', 'influence', 'the', 'beliefs', 'of', 'present_day', 'anarchists', 'others', 'criticise', 'modern', 'anarchism', 'for', 'continuing', 'to', 'be', 'eurocentric', 'and', 'reference', 'the', 'impact', 'of', 'anarchist', 'thinkers', 'like', 'proudhon', 'on', 'fascism', 'through', 'groups', 'like', 'cercle', 'proudhon', 'anarcho_capitalist', 'bryan', 'caplan', 'argues_that', 'the', 'treatment', 'of', 'fascists', 'and', 'suspected', 'fascist', 'sympathizers', 'by', 'spanish', 'anarchists', 'in', 'the', 'spanish_civil', 'war', 'was', 'a', 'form', 'of', 'illegitimate', 'coercion', 'making', 'the', 'proffessed', 'anarchists', 'ultimately', 'just', 'a', 'third', 'faction', 'of', 'totalitarians', 'alongside', 'the', 'communists', 'and', 'fascists', 'he', 'also', 'criticizes', 'the', 'willingness', 'of', 'the', 'cnt', 'to', 'join', 'the', 'statist', 'republican', 'government', 'during', 'the', 'civil_war', 'and', 'references', 'stanley', 'g', 'payne', 's', 'book', 'on', 'the', 'franco_regime', 'which', 'claims', 'that', 'the', 'cnt', 'entered', 'negotiations', 'with', 'the', 'fascist', 'government', 'six', 'years', 'after', 'the', 'war', 'cultural', 'phenomena', 'noam_chomsky', 'one', 'nine', 'two', 'eight', 'the', 'kind', 'of', 'anarchism', 'that', 'is', 'most', 'easily', 'encountered', 'in', 'popular_culture', 'is', 'represented_by', 'celebrities', 'who', 'publicly', 'identify_themselves', 'as', 'anarchists', 'although', 'some', 'anarchists', 'reject_any', 'focus_on', 'such', 'famous', 'living', 'individuals', 'as', 'inherently', 'litist', 'the', 'following', 'figures', 'are', 'examples', 'of', 'prominent', 'publicly', 'self', 'avowed', 'anarchists', 'the', 'mit', 'professor', 'of', 'linguistics', 'noam_chomsky', 'the', 'science_fiction', 'author', 'ursula_k', 'le_guin', 'the', 'social', 'historian', 'howard_zinn', 'entertainer', 'and', 'author', 'hans', 'alfredsson', 'the', 'avant_garde', 'artist', 'nicol', 's', 'rossell', 'in', 'denmark', 'the', 'freetown', 'christiania', 'was', 'created', 'in', 'downtown', 'copenhagen', 'the', 'housing', 'and', 'employment', 'crisis', 'in', 'most', 'of', 'western_europe', 'led', 'to', 'the', 'formation', 'of', 'communes', 'and', 'squatter', 'movements', 'like', 'the', 'one', 'still', 'thriving', 'in', 'barcelona', 'in', 'catalonia', 'militant', 'resistance', 'to', 'neo_nazi', 'groups', 'in', 'places', 'like', 'germany', 'and', 'the', 'uprisings', 'of', 'autonomous', 'marxism', 'situationist', 'and', 'autonomist', 'groups', 'in', 'france', 'and', 'italy', 'also', 'helped', 'to', 'give', 'popularity', 'to', 'anti_authoritarian', 'non', 'capitalist', 'ideas', 'in', 'various', 'musical_styles', 'anarchism', 'rose', 'in', 'popularity', 'most_famous', 'for', 'the', 'linking', 'of', 'anarchist_ideas', 'and', 'music', 'has_been', 'punk_rock', 'although', 'in', 'the', 'modern', 'age', 'hip_hop', 'and', 'folk_music', 'are', 'also', 'becoming', 'important', 'mediums', 'for', 'the', 'spreading', 'of', 'the', 'anarchist', 'message', 'in', 'the', 'uk', 'this', 'was', 'associated_with', 'the', 'punk_rock', 'movement', 'the', 'band_crass', 'is', 'celebrated', 'for', 'its', 'anarchist', 'and', 'pacifist', 'ideas', 'the', 'dutch', 'punk_band', 'the', 'ex', 'further', 'exemplifies', 'this', 'expression', 'for', 'further_details', 'see', 'anarcho_punk', 'see_also', 'there_are', 'many', 'concepts', 'relevant', 'to', 'the', 'topic', 'of', 'anarchism', 'this', 'is', 'a', 'brief_summary', 'there', 'is', 'also', 'a', 'more', 'extensive', 'list', 'of', 'anarchist', 'concepts', 'individualist_anarchism', 'anarcho_communism', 'anarcho_syndicalism', 'anarcho_capitalism', 'mutualism', 'christian_anarchism', 'anarcha_feminism', 'green_anarchism', 'nihilist', 'anarchism_anarcho', 'nationalism', 'black', 'anarchism', 'national', 'anarchism', 'post', 'anarchism', 'post', 'left', 'anarchism', 'libertarian_socialism', 'anarchist', 'symbolism', 'list', 'of', 'anarchism', 'links', 'list', 'of', 'anarchists', 'list', 'of', 'anarchist_organizations', 'major', 'conflicts', 'within', 'anarchist', 'thought', 'past', 'and', 'present', 'anarchist', 'communities', 'historical_events', 'paris_commune', 'one', 'eight', 'seven', 'one', 'haymarket_riot', 'one', 'eight', 'eight', 'six', 'the', 'makhnovschina', 'one', 'nine', 'one', 'seven', 'one', 'nine', 'two', 'one', 'kronstadt_rebellion', 'one', 'nine', 'two', 'one', 'spanish', 'revolution', 'one', 'nine', 'three', 'six', 'see', 'anarchism', 'in', 'spain', 'and', 'spanish', 'revolution', 'may', 'one', 'nine', 'six', 'eight', 'france', 'one', 'nine', 'six', 'eight', 'wto', 'meeting', 'in', 'seattle', 'one', 'nine', 'nine', 'nine', 'books', 'the', 'following', 'is', 'a', 'sample', 'of', 'books', 'that', 'have_been', 'referenced', 'in', 'this', 'page', 'a', 'more', 'complete_list', 'can_be', 'found', 'at', 'the', 'list', 'of', 'anarchist', 'books', 'mikhail_bakunin', 'god', 'and', 'the', 'state', 'emma_goldman', 'anarchism', 'other', 'essays', 'peter_kropotkin', 'mutual_aid', 'pierre_joseph', 'proudhon', 'what', 'is', 'property', 'rudolf_rocker', 'anarcho_syndicalism', 'murray_rothbard', 'the', 'ethics', 'of', 'liberty', 'max_stirner', 'the', 'ego', 'and', 'its_own', 'leo_tolstoy', 'the', 'kingdom', 'of', 'god', 'is', 'within', 'you', 'anarchism', 'by', 'region', 'culture', 'african', 'anarchism', 'anarchism', 'in', 'spain', 'anarchism', 'in', 'the', 'english', 'tradition', 'chinese', 'anarchism', 'references', 'these', 'notes', 'have', 'no', 'corresponding', 'reference', 'in', 'the', 'article', 'they', 'might_be', 're', 'used', 'against', 'politics', 'appleton', 'boston', 'anarchists', 'yarros', 'victor', 'liberty', 'vii', 'january', 'two', 'one', 'eight', 'nine', 'two', 'noam_chomsky', 'on', 'anarchism', 'by', 'noam_chomsky', 'external_links', 'the', 'overwhelming', 'diversity', 'and', 'number', 'of', 'links', 'relating_to', 'anarchism', 'is', 'extensively_covered', 'on', 'the', 'links', 'subpage', 'anarchoblogs', 'blogs', 'by', 'anarchists', 'anarchy', 'archives', 'extensively', 'archives', 'information', 'relating_to', 'famous', 'anarchists', 'this', 'includes', 'many', 'of', 'their', 'books', 'and', 'other', 'publications', 'hundreds', 'of', 'anarchists', 'are_listed', 'with', 'short', 'bios', 'links', 'dedicated', 'pages', 'at', 'the', 'daily', 'bleed', 's', 'anarchist', 'encyclopedia', 'infoshop_org', 'wikipedia_page', 'industrial_workers', 'of', 'the', 'world', 'anarchism', 'forms', 'of', 'government', 'political_ideology', 'entry', 'points', 'political', 'theories', 'social', 'philosophy', 'autism', 'is', 'classified_as', 'a', 'neurodevelopmental', 'disorder', 'that', 'manifests_itself', 'in', 'markedly', 'abnormal', 'social_interaction', 'communication', 'ability', 'patterns', 'of', 'interests', 'and', 'patterns', 'of', 'behavior', 'although', 'the', 'specific', 'etiology', 'of', 'autism', 'is', 'unknown', 'many', 'researchers', 'suspect', 'that', 'autism', 'results', 'from', 'genetically', 'mediated', 'vulnerabilities', 'to', 'environmental', 'triggers', 'and', 'while', 'there', 'is', 'disagreement_about', 'the', 'magnitude', 'nature', 'and', 'mechanisms', 'for', 'such', 'environmental_factors', 'researchers_have', 'found', 'at_least', 'seven', 'major', 'genes', 'prevalent_among', 'individuals', 'diagnosed', 'as', 'autistic', 'some', 'estimate', 'that', 'autism', 'occurs', 'in', 'as', 'many', 'as', 'one', 'united_states', 'child', 'in', 'one', 'six', 'six', 'however', 'the', 'national_institute', 'of', 'mental_health', 'gives', 'a', 'more', 'conservative_estimate', 'of', 'one', 'in', 'one', 'zero', 'zero', 'zero', 'for', 'families', 'that', 'already', 'have', 'one', 'autistic_child', 'the', 'odds', 'of', 'a', 'second', 'autistic_child', 'may_be', 'as', 'high', 'as', 'one', 'in', 'twenty', 'diagnosis', 'is', 'based_on', 'a', 'list', 'of', 'psychiatric', 'criteria', 'and', 'a', 'series', 'of', 'standardized', 'clinical_tests', 'may', 'also', 'be', 'used', 'autism', 'may', 'not', 'be', 'physiologically', 'obvious', 'a', 'complete', 'physical', 'and', 'neurological', 'evaluation', 'will', 'typically', 'be', 'part', 'of', 'diagnosing', 'autism', 'some', 'now', 'speculate_that', 'autism', 'is', 'not', 'a', 'single', 'condition', 'but', 'a', 'group', 'of', 'several', 'distinct', 'conditions', 'that', 'manifest', 'in', 'similar', 'ways', 'by', 'definition', 'autism', 'must', 'manifest', 'delays', 'in', 'social_interaction', 'language', 'as', 'used', 'in', 'social', 'communication', 'or', 'symbolic', 'or', 'imaginative', 'play', 'with', 'onset', 'prior_to', 'age', 'three', 'years', 'according_to', 'the', 'diagnostic', 'and', 'statistical_manual', 'of', 'mental_disorders', 'the', 'icd', 'one', 'zero', 'also', 'says_that', 'symptoms', 'must', 'manifest', 'before', 'the', 'age', 'of', 'three', 'years', 'there', 'have_been', 'large', 'increases', 'in', 'the', 'reported', 'incidence', 'of', 'autism', 'for', 'reasons', 'that', 'are', 'heavily_debated', 'by', 'researchers', 'in', 'psychology', 'and', 'related_fields', 'within', 'the', 'scientific_community', 'some', 'children', 'with', 'autism', 'have', 'improved', 'their', 'social', 'and', 'other', 'skills', 'to', 'the', 'point', 'where', 'they', 'can', 'fully', 'participate', 'in', 'mainstream', 'education', 'and', 'social', 'events', 'but', 'there_are', 'lingering', 'concerns', 'that', 'an', 'absolute', 'cure', 'from', 'autism', 'is', 'impossible', 'with', 'current', 'technology', 'however', 'many', 'autistic_children', 'and', 'adults', 'who', 'are', 'able_to', 'communicate', 'at_least', 'in', 'writing', 'are', 'opposed', 'to', 'attempts', 'to', 'cure', 'their', 'conditions', 'and', 'see', 'such', 'conditions', 'as', 'part', 'of', 'who', 'they', 'are', 'history', 'dr', 'hans_asperger', 'described', 'a', 'form', 'of', 'autism', 'in', 'the', 'one', 'nine', 'four', 'zero', 's', 'that', 'later_became', 'known_as', 'asperger_s', 'syndrome', 'the', 'word', 'autism', 'was', 'first', 'used', 'in', 'the', 'english_language', 'by', 'swiss_psychiatrist', 'eugene_bleuler', 'in', 'a', 'one', 'nine', 'one', 'two', 'number', 'of', 'the', 'american', 'journal', 'of', 'insanity', 'it', 'comes_from', 'the', 'greek_word', 'for', 'self', 'however', 'the', 'classification', 'of', 'autism', 'did_not', 'occur', 'until', 'the', 'middle', 'of', 'the', 'twentieth_century', 'when', 'in', 'one', 'nine', 'four', 'three', 'psychiatrist_dr', 'leo', 'kanner', 'of', 'the', 'johns_hopkins', 'hospital', 'in', 'baltimore', 'reported', 'on', 'one', 'one', 'child', 'patients', 'with', 'striking', 'behavioral', 'similarities', 'and', 'introduced', 'the', 'label', 'early_infantile', 'autism', 'he', 'suggested', 'autism', 'from', 'the', 'greek', 'autos', 'meaning', 'self', 'to', 'describe', 'the', 'fact_that', 'the', 'children', 'seemed', 'to', 'lack', 'interest', 'in', 'other', 'people', 'although', 'kanner', 's', 'first', 'paper', 'on', 'the', 'subject', 'was', 'published', 'in', 'a', 'now_defunct', 'journal', 'the', 'nervous', 'child', 'almost_every', 'characteristic', 'he', 'originally', 'described', 'is', 'still', 'regarded_as', 'typical', 'of', 'the', 'autistic_spectrum', 'of', 'disorders', 'at', 'the', 'same_time', 'an', 'austrian', 'scientist', 'dr', 'hans_asperger', 'described', 'a', 'different', 'form', 'of', 'autism', 'that', 'became_known', 'as', 'asperger_s', 'syndrome', 'but', 'the', 'widespread', 'recognition', 'of', 'asperger_s', 'work', 'was', 'delayed', 'by', 'world_war', 'ii', 'in', 'germany', 'and', 'by', 'the', 'fact_that', 'his', 'seminal', 'paper', 'wasn_t', 'translated_into', 'english', 'for', 'almost', 'five', 'zero', 'years', 'the', 'majority', 'of', 'his', 'work', 'wasn_t', 'widely_read', 'until', 'one', 'nine', 'nine', 'seven', 'thus', 'these', 'two', 'conditions', 'were', 'described', 'and', 'are', 'today', 'listed', 'in', 'the', 'diagnostic', 'and', 'statistical_manual', 'of', 'mental_disorders', 'dsm_iv', 'tr', 'fourth_edition', 'text', 'revision', 'one', 'as', 'two', 'of', 'the', 'five', 'pervasive_developmental', 'disorders', 'pdd', 'more', 'often_referred', 'to', 'today', 'as', 'autism_spectrum', 'disorders', 'asd', 'all', 'of', 'these', 'conditions', 'are', 'characterized_by', 'varying_degrees', 'of', 'difference', 'in', 'communication_skills', 'social_interactions', 'and', 'restricted', 'repetitive', 'and', 'stereotyped', 'patterns', 'of', 'behavior', 'few', 'clinicians', 'today', 'solely', 'use', 'the', 'dsm_iv', 'criteria_for', 'determining', 'a', 'diagnosis', 'of', 'autism', 'which', 'are', 'based_on', 'the', 'absence', 'or', 'delay', 'of', 'certain', 'developmental', 'milestones', 'many', 'clinicians', 'instead', 'use', 'an_alternate', 'means', 'or', 'a', 'combination_thereof', 'to', 'more_accurately', 'determine', 'a', 'diagnosis', 'terminology', 'when_referring', 'to', 'someone', 'diagnosed_with', 'autism', 'the', 'term', 'autistic', 'is', 'often_used', 'however', 'the', 'term', 'person', 'with', 'autism', 'can_be', 'used', 'instead', 'this', 'is', 'referred_to', 'as', 'person', 'first', 'terminology', 'the', 'autistic', 'community', 'generally', 'prefers', 'the', 'term', 'autistic', 'for', 'reasons', 'that', 'are', 'fairly', 'controversial', 'this_article', 'uses', 'the', 'term', 'autistic', 'see', 'talk_page', 'characteristics', 'dr_leo', 'kanner', 'introduced', 'the', 'label', 'early_infantile', 'autism', 'in', 'one', 'nine', 'four', 'three', 'there', 'is', 'a', 'great_diversity', 'in', 'the', 'skills', 'and', 'behaviors', 'of', 'individuals', 'diagnosed', 'as', 'autistic', 'and', 'physicians', 'will', 'often', 'arrive_at', 'different', 'conclusions_about', 'the', 'appropriate', 'diagnosis', 'much', 'of', 'this', 'is', 'due_to', 'the', 'sensory', 'system', 'of', 'an', 'autistic', 'which', 'is', 'quite_different', 'from', 'the', 'sensory', 'system', 'of', 'other', 'people', 'since', 'certain', 'stimulations', 'can_affect', 'an', 'autistic', 'differently', 'than', 'a', 'non_autistic', 'and', 'the', 'degree', 'to', 'which', 'the', 'sensory', 'system', 'is', 'affected', 'varies_wildly', 'from', 'one', 'autistic', 'person', 'to', 'another', 'nevertheless', 'professionals', 'within', 'pediatric', 'care', 'and', 'development', 'often', 'look', 'for', 'early', 'indicators', 'of', 'autism', 'in', 'order', 'to', 'initiate', 'treatment', 'as', 'early', 'as', 'possible', 'however', 'some', 'people', 'do_not', 'believe', 'in', 'treatment', 'for', 'autism', 'either', 'because_they', 'do_not', 'believe', 'autism', 'is', 'a', 'disorder', 'or', 'because_they', 'believe', 'treatment', 'can', 'do', 'more', 'harm', 'than', 'good', 'social', 'development', 'typically', 'developing', 'infants', 'are', 'social', 'beings', 'early', 'in', 'life', 'they_do', 'such', 'things', 'as', 'gaze', 'at', 'people', 'turn', 'toward', 'voices', 'grasp', 'a', 'finger', 'and', 'even', 'smile', 'in', 'contrast', 'most', 'autistic_children', 'prefer', 'objects', 'to', 'faces', 'and', 'seem', 'to', 'have', 'tremendous', 'difficulty_learning', 'to', 'engage', 'in', 'the', 'give', 'and', 'take', 'of', 'everyday', 'human_interaction', 'even', 'in', 'the', 'first', 'few_months', 'of', 'life', 'many', 'seem', 'indifferent', 'to', 'other', 'people', 'because_they', 'avoid', 'eye_contact', 'and', 'do_not', 'interact_with', 'them', 'as', 'often', 'as', 'non_autistic', 'children', 'children', 'with', 'autism', 'often', 'appear', 'to', 'prefer', 'being', 'alone', 'to', 'the', 'company', 'of', 'others', 'and', 'may', 'passively', 'accept', 'such', 'things', 'as', 'hugs', 'and', 'cuddling', 'without', 'reciprocating', 'or', 'resist', 'attention', 'altogether', 'later', 'they', 'seldom', 'seek', 'comfort', 'from', 'others', 'or', 'respond', 'to', 'parents', 'displays', 'of', 'anger', 'or', 'affection', 'in', 'a', 'typical', 'way', 'research', 'has', 'suggested_that', 'although', 'autistic_children', 'are', 'attached', 'to', 'their', 'parents', 'their', 'expression', 'of', 'this', 'attachment', 'is', 'unusual', 'and', 'difficult', 'to', 'interpret', 'parents', 'who', 'looked_forward', 'to', 'the', 'joys', 'of', 'cuddling', 'teaching', 'and', 'playing', 'with', 'their', 'child', 'may', 'feel', 'crushed', 'by', 'this', 'lack', 'of', 'expected', 'attachment', 'behavior', 'children', 'with', 'autism', 'appear', 'to', 'lack', 'theory', 'of', 'mind', 'the', 'ability', 'to', 'see', 'things', 'from', 'another_person', 's', 'perspective', 'a', 'behavior', 'cited', 'as', 'exclusive', 'to', 'human_beings', 'above', 'the', 'age', 'of', 'five', 'and', 'possibly', 'other', 'higher', 'primates', 'such_as', 'adult', 'gorillas', 'chimpanzees', 'and', 'bonobos', 'typical', 'five', 'year_olds', 'can', 'develop', 'insights_into', 'other', 'people', 's', 'different', 'knowledge', 'feelings', 'and', 'intentions', 'interpretations', 'based_upon', 'social', 'cues', 'e_g', 'gestures', 'facial_expressions', 'an_individual', 'with', 'autism', 'seems', 'to', 'lack', 'these', 'interpretation', 'skills', 'an', 'inability', 'that', 'leaves', 'them', 'unable_to', 'predict', 'or', 'understand', 'other', 'people', 's', 'actions', 'the', 'social', 'alienation', 'of', 'autistic', 'and', 'asperger_s', 'people', 'is', 'so', 'intense', 'from', 'childhood', 'that', 'many', 'of', 'them', 'have', 'imaginary_friends', 'as', 'companionship', 'however', 'having', 'an_imaginary', 'friend', 'is', 'not_necessarily', 'a', 'sign', 'of', 'autism', 'and', 'also', 'occurs', 'in', 'non_autistic', 'children', 'although', 'not', 'universal', 'it', 'is', 'common', 'for', 'autistic_people', 'to', 'not', 'regulate', 'their', 'behavior', 'this', 'can', 'take', 'the', 'form', 'of', 'crying', 'or', 'verbal', 'outbursts', 'that', 'may_seem', 'out', 'of', 'proportion', 'to', 'the', 'situation', 'individuals', 'with', 'autism', 'generally', 'prefer', 'consistent', 'routines', 'and', 'environments', 'they', 'may', 'react', 'negatively', 'to', 'changes', 'in', 'them', 'it', 'is', 'not_uncommon', 'for', 'these', 'individuals', 'to', 'exhibit', 'aggression', 'increased', 'levels', 'of', 'self', 'stimulatory', 'behavior', 'self', 'injury', 'or', 'extensive', 'withdrawal', 'in', 'overwhelming', 'situations', 'sensory', 'system', 'a', 'key', 'indicator', 'to', 'clinicians', 'making', 'a', 'proper', 'assessment', 'for', 'autism', 'would', 'include', 'looking', 'for', 'symptoms', 'much_like', 'those', 'found', 'in', 'sensory', 'integration', 'dysfunction', 'children', 'will', 'exhibit', 'problems', 'coping_with', 'the', 'normal', 'sensory_input', 'indicators', 'of', 'this', 'disorder', 'include', 'oversensitivity', 'or', 'underreactivity', 'to', 'touch', 'movement', 'sights', 'or', 'sounds', 'physical', 'clumsiness', 'or', 'carelessness', 'poor', 'body', 'awareness', 'a', 'tendency', 'to', 'be', 'easily', 'distracted', 'impulsive', 'physical', 'or', 'verbal_behavior', 'an', 'activity', 'level', 'that', 'is', 'unusually_high', 'or', 'low', 'not', 'unwinding', 'or', 'calming', 'oneself', 'difficulty_learning', 'new', 'movements', 'difficulty', 'in', 'making', 'transitions', 'from', 'one', 'situation', 'to', 'another', 'social', 'and', 'or', 'emotional_problems', 'delays', 'in', 'speech', 'language', 'or', 'motor_skills', 'specific', 'learning_difficulties', 'delays', 'in', 'academic_achievement', 'one', 'common', 'example', 'is', 'an_individual', 'with', 'autism', 'hearing', 'a', 'person', 'with', 'autism', 'may_have', 'trouble', 'hearing', 'certain', 'people', 'while', 'other', 'people', 'are', 'louder_than', 'usual', 'or', 'the', 'person', 'with', 'autism', 'may_be', 'unable_to', 'filter', 'out', 'sounds', 'in', 'certain_situations', 'such_as', 'in', 'a', 'large', 'crowd', 'of', 'people', 'see', 'cocktail', 'party', 'effect', 'however', 'this', 'is', 'perhaps', 'the', 'part', 'of', 'the', 'autism', 'that', 'tends_to', 'vary', 'the', 'most', 'from', 'person', 'to', 'person', 'so', 'these', 'examples', 'may', 'not_apply', 'to', 'every', 'autistic', 'it', 'should_be', 'noted_that', 'sensory', 'difficulties', 'although', 'reportedly', 'common', 'in', 'autistics', 'are', 'not', 'part', 'of', 'the', 'dsm_iv', 'diagnostic_criteria', 'for', 'autistic', 'disorder', 'communication', 'difficulties', 'by', 'age', 'three', 'typical', 'children', 'have', 'passed', 'predictable', 'language', 'learning', 'milestones', 'one', 'of', 'the', 'earliest', 'is', 'babbling', 'by', 'the', 'first', 'birthday', 'a', 'typical', 'toddler', 'says', 'words', 'turns', 'when', 'he', 'or', 'she', 'hears', 'his', 'or', 'her', 'name', 'points', 'when', 'he', 'or', 'she_wants', 'a', 'toy', 'and', 'when', 'offered', 'something', 'distasteful', 'makes', 'it', 'clear', 'that', 'the', 'answer', 'is', 'no', 'speech', 'development', 'in', 'people', 'with', 'autism', 'takes', 'different_paths', 'some', 'remain', 'mute', 'throughout', 'their_lives', 'while', 'being', 'fully', 'literate', 'and', 'able_to', 'communicate', 'in', 'other', 'ways', 'images', 'sign_language', 'and', 'typing', 'are', 'far_more', 'natural', 'to', 'them', 'some', 'infants', 'who', 'later', 'show_signs', 'of', 'autism', 'coo', 'and', 'babble', 'during', 'the', 'first', 'few_months', 'of', 'life', 'but', 'stop', 'soon_afterwards', 'others', 'may_be', 'delayed', 'developing', 'language', 'as', 'late', 'as', 'the', 'teenage_years', 'still', 'inability_to', 'speak', 'does_not', 'mean', 'that', 'people', 'with', 'autism', 'are', 'unintelligent', 'or', 'unaware', 'once', 'given', 'appropriate', 'accommodations', 'many', 'will', 'happily', 'converse', 'for', 'hours', 'and', 'can', 'often', 'be_found', 'in', 'online_chat', 'rooms', 'discussion_boards', 'or', 'websites', 'and', 'even', 'using', 'communication', 'devices', 'at', 'autism', 'community', 'social', 'events', 'such_as', 'autreat', 'those_who', 'do', 'speak', 'often', 'use', 'language', 'in', 'unusual', 'ways', 'retaining', 'features', 'of', 'earlier_stages', 'of', 'language', 'development', 'for', 'long_periods', 'or', 'throughout', 'their_lives', 'some', 'speak', 'only', 'single', 'words', 'while_others', 'repeat', 'the', 'same', 'phrase', 'over', 'and', 'over', 'some', 'repeat', 'what', 'they', 'hear', 'a', 'condition', 'called', 'echolalia', 'sing', 'song', 'repetitions', 'in', 'particular', 'are', 'a', 'calming', 'joyous', 'activity', 'that', 'many', 'autistic_adults', 'engage', 'in', 'many', 'people', 'with', 'autism', 'have', 'a', 'strong', 'tonal', 'sense', 'and', 'can', 'often', 'understand', 'spoken_language', 'some', 'children', 'may', 'exhibit', 'only', 'slight', 'delays', 'in', 'language', 'or', 'even', 'seem', 'to', 'have', 'precocious', 'language', 'and', 'unusually_large', 'vocabularies', 'but', 'have', 'great_difficulty', 'in', 'sustaining', 'typical', 'conversations', 'the', 'give', 'and', 'take', 'of', 'non_autistic', 'conversation', 'is', 'hard', 'for', 'them', 'although', 'they', 'often', 'carry', 'on', 'a', 'monologue', 'on', 'a', 'favorite', 'subject', 'giving', 'no', 'one', 'else', 'an_opportunity', 'to', 'comment', 'when', 'given', 'the', 'chance', 'to', 'converse', 'with', 'other', 'autistics', 'they', 'comfortably', 'do_so', 'in', 'parallel', 'monologue', 'taking_turns', 'expressing', 'views', 'and', 'information', 'just', 'as', 'neurotypicals', 'people', 'without', 'autism', 'have', 'trouble_understanding', 'autistic', 'body', 'languages', 'vocal', 'tones', 'or', 'phraseology', 'people', 'with', 'autism', 'similarly', 'have', 'trouble', 'with', 'such', 'things', 'in', 'people', 'without', 'autism', 'in', 'particular', 'autistic', 'language', 'abilities', 'tend_to', 'be', 'highly', 'literal', 'people', 'without', 'autism', 'often', 'inappropriately', 'attribute', 'hidden_meaning', 'to', 'what', 'people', 'with', 'autism', 'say', 'or', 'expect', 'the', 'person', 'with', 'autism', 'to', 'sense', 'such', 'unstated', 'meaning', 'in', 'their_own', 'words', 'the', 'body', 'language', 'of', 'people', 'with', 'autism', 'can_be', 'difficult', 'for', 'other', 'people', 'to', 'understand', 'facial_expressions', 'movements', 'and', 'gestures', 'may_be', 'easily_understood', 'by', 'some', 'other', 'people', 'with', 'autism', 'but', 'do_not', 'match', 'those', 'used', 'by', 'other', 'people', 'also', 'their', 'tone', 'of', 'voice', 'has', 'a', 'much_more', 'subtle', 'inflection', 'in', 'reflecting', 'their', 'feelings', 'and', 'the', 'auditory', 'system', 'of', 'a', 'person', 'without', 'autism', 'often', 'cannot', 'sense', 'the', 'fluctuations', 'what', 'seems', 'to', 'non_autistic', 'people', 'like', 'a', 'high_pitched', 'sing', 'song', 'or', 'flat', 'robot', 'like', 'voice', 'is', 'common', 'in', 'autistic_children', 'some', 'autistic_children', 'with', 'relatively', 'good', 'language', 'skills', 'speak', 'like', 'little', 'adults', 'rather_than', 'communicating', 'at', 'their', 'current', 'age', 'level', 'which', 'is', 'one', 'of', 'the', 'things', 'that', 'can_lead', 'to', 'problems', 'since', 'non_autistic', 'people', 'are', 'often', 'unfamiliar_with', 'the', 'autistic', 'body', 'language', 'and', 'since', 'autistic', 'natural', 'language', 'may', 'not', 'tend_towards', 'speech', 'autistic_people', 'often', 'struggle', 'to', 'let', 'other', 'people', 'know_what', 'they', 'need', 'as', 'anybody', 'might', 'do', 'in', 'such', 'a', 'situation', 'they', 'may', 'scream', 'in', 'frustration', 'or', 'resort', 'to', 'grabbing', 'what', 'they_want', 'while_waiting', 'for', 'non_autistic', 'people', 'to', 'learn', 'to', 'communicate_with', 'them', 'people', 'with', 'autism', 'do_whatever', 'they', 'can', 'to', 'get', 'through', 'to', 'them', 'communication', 'difficulties', 'may', 'contribute', 'to', 'autistic_people', 'becoming', 'socially', 'anxious', 'or', 'depressed', 'repetitive', 'behaviors', 'although', 'people', 'with', 'autism', 'usually', 'appear', 'physically', 'normal', 'and', 'have', 'good', 'muscle', 'control', 'unusual', 'repetitive', 'motions', 'known_as', 'self', 'stimulation', 'or', 'stimming', 'may', 'set', 'them', 'apart', 'these', 'behaviors', 'might_be', 'extreme', 'and', 'highly', 'apparent', 'or', 'more_subtle', 'some', 'children', 'and', 'older', 'individuals', 'spend', 'a_lot', 'of', 'time', 'repeatedly', 'flapping', 'their', 'arms', 'or', 'wiggling', 'their', 'toes', 'others', 'suddenly', 'freeze', 'in', 'position', 'as', 'children', 'they', 'might', 'spend_hours', 'lining_up', 'their', 'cars', 'and', 'trains', 'in', 'a', 'certain', 'way', 'not', 'using', 'them', 'for', 'pretend', 'play', 'if_someone', 'accidentally', 'moves', 'one', 'of', 'these', 'toys', 'the', 'child', 'may_be', 'tremendously', 'upset', 'autistic_children', 'often', 'need', 'and', 'demand', 'absolute', 'consistency', 'in', 'their', 'environment', 'a', 'slight', 'change', 'in', 'any', 'routine', 'in', 'mealtimes', 'dressing', 'taking', 'a', 'bath', 'or', 'going', 'to', 'school', 'at', 'a', 'certain', 'time', 'and', 'by', 'the', 'same', 'route', 'can_be', 'extremely', 'disturbing', 'people', 'with', 'autism', 'sometimes', 'have', 'a', 'persistent', 'intense', 'preoccupation', 'for_example', 'the', 'child', 'might_be', 'obsessed_with', 'learning', 'all', 'about', 'vacuum_cleaners', 'train', 'schedules', 'or', 'lighthouses', 'often', 'they', 'show', 'great', 'interest', 'in', 'different', 'languages', 'numbers', 'symbols', 'or', 'science', 'topics', 'repetitive', 'behaviors', 'can', 'also', 'extend', 'into', 'the', 'spoken_word', 'as_well', 'perseveration', 'of', 'a', 'single', 'word', 'or', 'phrase', 'even', 'for', 'a', 'specific', 'number', 'of', 'times', 'can', 'also', 'become', 'a', 'part', 'of', 'the', 'child', 's', 'daily_routine', 'effects', 'in', 'education', 'children', 'with', 'autism', 'are', 'affected', 'with', 'these', 'symptoms', 'every_day', 'these', 'unusual', 'characteristics', 'set', 'them', 'apart_from', 'the', 'everyday', 'normal', 'student', 'because_they', 'have', 'trouble_understanding', 'people', 's', 'thoughts', 'and', 'feelings', 'they', 'have', 'trouble_understanding', 'what', 'their', 'teacher', 'may_be', 'telling_them', 'they_do', 'not', 'understand', 'that', 'facial_expressions', 'and', 'vocal', 'variations', 'hold', 'meanings', 'and', 'may', 'misinterpret', 'what', 'emotion', 'their', 'instructor', 'is', 'displaying', 'this', 'inability_to', 'fully', 'decipher', 'the', 'world', 'around', 'them', 'makes', 'education', 'stressful', 'teachers', 'need', 'to', 'be', 'aware', 'of', 'a', 'student', 's', 'disorder', 'so', 'that', 'they', 'are', 'able_to', 'help', 'the', 'student', 'get', 'the', 'best', 'out', 'of', 'the', 'lessons', 'being', 'taught', 'some', 'students', 'learn', 'better', 'with', 'visual', 'aids', 'as', 'they', 'are', 'better', 'able_to', 'understand', 'material', 'presented', 'this', 'way', 'because', 'of', 'this', 'many', 'teachers', 'create', 'visual', 'schedules', 'for', 'their', 'autistic', 'students', 'this', 'allows', 'the', 'student', 'to', 'know_what', 'is', 'going', 'on', 'throughout', 'the', 'day', 'so', 'they', 'know_what', 'to', 'prepare', 'for', 'and', 'what', 'activity', 'they', 'will_be', 'doing', 'next', 'some', 'autistic_children', 'have', 'trouble', 'going', 'from', 'one', 'activity', 'to', 'the', 'next', 'so', 'this', 'visual', 'schedule', 'can', 'help', 'to', 'reduce', 'stress', 'research', 'has', 'shown', 'that', 'working', 'in', 'pairs', 'may_be', 'beneficial', 'to', 'autistic_children', 'autistic', 'students', 'have', 'problems', 'in', 'schools', 'not', 'only', 'with', 'language', 'and', 'communication', 'but', 'with', 'socialization', 'as_well', 'they', 'feel', 'self_conscious', 'about', 'themselves', 'and', 'many', 'feel', 'that', 'they', 'will_always', 'be', 'outcasts', 'by', 'allowing_them', 'to', 'work', 'with', 'peers', 'they', 'can', 'make', 'friends', 'which', 'in', 'turn', 'can', 'help', 'them', 'cope_with', 'the', 'problems', 'that', 'arise', 'by', 'doing_so', 'they', 'can', 'become', 'more', 'integrated_into', 'the', 'mainstream', 'environment', 'of', 'the', 'classroom', 'a', 'teacher', 's', 'aide', 'can', 'also', 'be', 'useful', 'to', 'the', 'student', 'the', 'aide', 'is', 'able_to', 'give', 'more_elaborate', 'directions', 'that', 'the', 'teacher', 'may', 'not', 'have', 'time', 'to', 'explain', 'to', 'the', 'autistic_child', 'the', 'aide', 'can', 'also', 'facilitate', 'the', 'autistic_child', 'in', 'such', 'a', 'way', 'as', 'to', 'allow_them', 'to', 'stay', 'at', 'a', 'similar', 'level', 'to', 'the', 'rest', 'of', 'the', 'class', 'this', 'allows', 'a', 'partially', 'one', 'on', 'one', 'lesson', 'structure', 'so', 'that', 'the', 'child', 'is', 'still', 'able_to', 'stay', 'in', 'a', 'normal', 'classroom', 'but', 'be', 'given', 'the', 'extra', 'help', 'that', 'they', 'need', 'there_are', 'many', 'different', 'techniques', 'that', 'teachers', 'can', 'use', 'to', 'assist', 'their', 'students', 'a', 'teacher', 'needs', 'to', 'become_familiar', 'with', 'the', 'child', 's', 'disorder', 'to', 'know_what', 'will', 'work', 'best', 'with', 'that', 'particular', 'child', 'every', 'child', 'is', 'going', 'to', 'be', 'different', 'and', 'teachers', 'have', 'to', 'be_able', 'to', 'adjust', 'with', 'every', 'one', 'of', 'them', 'students', 'with', 'autism_spectrum', 'disorders', 'typically', 'have', 'high_levels', 'of', 'anxiety', 'and', 'stress', 'particularly', 'in', 'social', 'environments', 'like', 'school', 'if', 'a', 'student', 'exhibits', 'aggressive', 'or', 'explosive', 'behavior', 'it', 'is', 'important', 'for', 'educational', 'teams', 'to', 'recognize', 'the', 'impact', 'of', 'stress', 'and', 'anxiety', 'preparing', 'students', 'for', 'new', 'situations', 'by', 'writing', 'social', 'stories', 'can', 'lower', 'anxiety', 'teaching', 'social', 'and', 'emotional', 'concepts', 'using', 'systematic', 'teaching', 'approaches', 'such_as', 'the', 'incredible', 'five', 'point', 'scale', 'or', 'other', 'cognitive_behavioral', 'strategies', 'can', 'increase', 'a', 'student', 's', 'ability', 'to', 'control', 'excessive', 'behavioral', 'reactions', 'dsm', 'definition', 'autism', 'is', 'defined', 'in', 'section', 'two', 'nine', 'nine', 'zero', 'zero', 'of', 'the', 'diagnostic', 'and', 'statistical_manual', 'of', 'mental_disorders', 'dsm_iv', 'as', 'a', 'total', 'of', 'six', 'or', 'more', 'items', 'from', 'one', 'two', 'and', 'three', 'with', 'at_least', 'two', 'from', 'one', 'and', 'one', 'each', 'from', 'two', 'and', 'three', 'qualitative', 'impairment', 'in', 'social_interaction', 'as', 'manifested', 'by', 'at_least', 'two', 'of', 'the', 'following', 'marked_impairment', 'in', 'the', 'use', 'of', 'multiple', 'nonverbal', 'behaviors', 'such_as', 'eye', 'to', 'eye', 'gaze', 'facial_expression', 'body', 'postures', 'and', 'gestures', 'to', 'regulate', 'social_interaction', 'failure', 'to', 'develop', 'peer', 'relationships', 'appropriate', 'to', 'developmental', 'level', 'a', 'lack', 'of', 'spontaneous', 'seeking', 'to', 'share', 'enjoyment', 'interests', 'or', 'achievements', 'with', 'other', 'people', 'e_g', 'by', 'a', 'lack', 'of', 'showing', 'bringing', 'or', 'pointing_out', 'objects', 'of', 'interest', 'lack', 'of', 'social', 'or', 'emotional']\n"
          ]
        }
      ]
    },
    {
      "cell_type": "markdown",
      "source": [
        "Биграммы готовы. Можете ли вы угадать, как создать триграмму?\n",
        "\n",
        "Просто повторите процедуру для создание моделей биграмм.\n"
      ],
      "metadata": {
        "id": "-N0YH8vrQtBU"
      }
    },
    {
      "cell_type": "code",
      "source": [
        "# Build the trigram models\n",
        "trigram = gensim.models.phrases.Phrases(bigram[dataset], threshold=10)\n",
        "\n",
        "# Construct trigram\n",
        "print(trigram[bigram[dataset[0]]])"
      ],
      "metadata": {
        "colab": {
          "base_uri": "https://localhost:8080/"
        },
        "id": "dRyKQewfQwqa",
        "outputId": "846fcf0a-72b9-4be3-88fc-981d36163e8f"
      },
      "execution_count": null,
      "outputs": [
        {
          "output_type": "stream",
          "name": "stderr",
          "text": [
            "/usr/local/lib/python3.7/dist-packages/gensim/models/phrases.py:598: UserWarning: For a faster implementation, use the gensim.models.phrases.Phraser class\n",
            "  warnings.warn(\"For a faster implementation, use the gensim.models.phrases.Phraser class\")\n"
          ]
        },
        {
          "output_type": "stream",
          "name": "stdout",
          "text": [
            "['anarchism', 'originated', 'as', 'a', 'term', 'of', 'abuse', 'first', 'used', 'against', 'early', 'working_class', 'radicals', 'including', 'the', 'diggers', 'of', 'the', 'english', 'revolution', 'and', 'the', 'sans_culottes', 'of', 'the', 'french_revolution', 'whilst', 'the', 'term', 'is', 'still', 'used', 'in', 'a', 'pejorative_way', 'to_describe', 'any', 'act', 'that', 'used', 'violent', 'means', 'to', 'destroy', 'the', 'organization', 'of', 'society', 'it', 'has', 'also_been', 'taken_up', 'as', 'a', 'positive', 'label', 'by', 'self', 'defined', 'anarchists', 'the', 'word', 'anarchism', 'is', 'derived_from', 'the', 'greek', 'without', 'archons', 'ruler', 'chief', 'king', 'anarchism', 'as', 'a', 'political_philosophy', 'is', 'the', 'belief_that', 'rulers', 'are', 'unnecessary', 'and', 'should_be', 'abolished', 'although', 'there_are', 'differing_interpretations', 'of', 'what', 'this', 'means', 'anarchism', 'also', 'refers_to', 'related', 'social_movements', 'that', 'advocate', 'the', 'elimination', 'of', 'authoritarian', 'institutions', 'particularly', 'the', 'state', 'the', 'word', 'anarchy', 'as', 'most', 'anarchists', 'use', 'it', 'does_not_imply', 'chaos', 'nihilism', 'or', 'anomie', 'but_rather', 'a', 'harmonious', 'anti_authoritarian', 'society', 'in', 'place', 'of', 'what', 'are', 'regarded_as', 'authoritarian', 'political', 'structures', 'and', 'coercive', 'economic', 'institutions', 'anarchists', 'advocate', 'social_relations', 'based_upon', 'voluntary_association', 'of', 'autonomous', 'individuals', 'mutual_aid', 'and', 'self_governance', 'while', 'anarchism', 'is', 'most', 'easily', 'defined_by', 'what', 'it', 'is', 'against', 'anarchists', 'also', 'offer', 'positive', 'visions', 'of', 'what_they_believe', 'to_be', 'a', 'truly', 'free', 'society', 'however', 'ideas_about', 'how', 'an', 'anarchist_society', 'might', 'work', 'vary_considerably', 'especially', 'with_respect_to', 'economics', 'there_is', 'also', 'disagreement_about', 'how', 'a', 'free', 'society', 'might_be', 'brought_about', 'origins', 'and', 'predecessors', 'kropotkin', 'and', 'others_argue_that', 'before', 'recorded_history', 'human_society', 'was', 'organized', 'on', 'anarchist_principles', 'most', 'anthropologists', 'follow', 'kropotkin', 'and', 'engels', 'in', 'believing_that', 'hunter_gatherer', 'bands', 'were', 'egalitarian', 'and', 'lacked', 'division', 'of', 'labour', 'accumulated_wealth', 'or', 'decreed', 'law', 'and', 'had', 'equal', 'access', 'to', 'resources', 'william_godwin', 'anarchists', 'including', 'the', 'the', 'anarchy', 'organisation', 'and', 'rothbard', 'find', 'anarchist', 'attitudes', 'in', 'taoism', 'from', 'ancient_china', 'kropotkin', 'found', 'similar', 'ideas', 'in', 'stoic', 'zeno', 'of', 'citium', 'according_to', 'kropotkin', 'zeno', 'repudiated', 'the', 'omnipotence', 'of', 'the', 'state', 'its', 'intervention', 'and', 'regimentation', 'and', 'proclaimed', 'the', 'sovereignty', 'of', 'the', 'moral_law', 'of', 'the', 'individual', 'the', 'anabaptists', 'of', 'one', 'six', 'th_century', 'europe', 'are', 'sometimes_considered', 'to_be', 'religious', 'forerunners', 'of', 'modern', 'anarchism', 'bertrand_russell', 'in', 'his', 'history', 'of', 'western_philosophy', 'writes_that', 'the', 'anabaptists', 'repudiated', 'all', 'law', 'since', 'they', 'held', 'that', 'the', 'good', 'man', 'will_be', 'guided', 'at', 'every', 'moment', 'by', 'the', 'holy_spirit', 'from', 'this', 'premise', 'they', 'arrive_at', 'communism', 'the', 'diggers', 'or', 'true', 'levellers', 'were', 'an', 'early', 'communistic', 'movement', 'during', 'the', 'time', 'of', 'the', 'english_civil_war', 'and', 'are', 'considered', 'by', 'some', 'as', 'forerunners', 'of', 'modern', 'anarchism', 'in', 'the', 'modern_era', 'the', 'first', 'to', 'use', 'the', 'term', 'to', 'mean', 'something', 'other_than', 'chaos', 'was', 'louis', 'armand', 'baron_de', 'lahontan', 'in', 'his', 'nouveaux', 'voyages', 'dans_l', 'am_rique', 'septentrionale', 'one', 'seven', 'zero', 'three', 'where_he', 'described', 'the', 'indigenous', 'american_society', 'which', 'had', 'no', 'state', 'laws', 'prisons', 'priests', 'or', 'private_property', 'as', 'being', 'in', 'anarchy', 'russell', 'means', 'a', 'libertarian', 'and', 'leader', 'in', 'the', 'american_indian', 'movement', 'has', 'repeatedly_stated', 'that', 'he', 'is', 'an_anarchist', 'and', 'so', 'are', 'all', 'his', 'ancestors', 'in', 'one', 'seven', 'nine', 'three', 'in', 'the', 'thick', 'of', 'the', 'french_revolution', 'william_godwin', 'published', 'an_enquiry', 'concerning', 'political', 'justice', 'although', 'godwin', 'did_not', 'use', 'the', 'word', 'anarchism', 'many', 'later', 'anarchists', 'have', 'regarded', 'this', 'book', 'as', 'the', 'first', 'major', 'anarchist', 'text', 'and', 'godwin', 'as', 'the', 'founder', 'of', 'philosophical_anarchism', 'but', 'at', 'this', 'point', 'no', 'anarchist_movement', 'yet', 'existed', 'and', 'the', 'term', 'anarchiste', 'was', 'known', 'mainly', 'as_an_insult', 'hurled', 'by', 'the', 'bourgeois', 'girondins', 'at', 'more_radical', 'elements', 'in', 'the', 'french_revolution', 'the', 'first', 'self', 'labelled', 'anarchist', 'pierre_joseph_proudhon', 'it', 'is', 'commonly_held', 'that', 'it_wasn_t', 'until', 'pierre_joseph_proudhon', 'published', 'what', 'is', 'property', 'in', 'one', 'eight', 'four', 'zero', 'that', 'the', 'term', 'anarchist', 'was', 'adopted', 'as', 'a', 'self_description', 'it', 'is', 'for_this_reason', 'that', 'some', 'claim', 'proudhon', 'as', 'the', 'founder', 'of', 'modern', 'anarchist', 'theory', 'in', 'what', 'is', 'property', 'proudhon', 'answers', 'with', 'the', 'famous', 'accusation', 'property', 'is', 'theft', 'in', 'this', 'work', 'he', 'opposed', 'the', 'institution', 'of', 'decreed', 'property', 'propri_t', 'where', 'owners', 'have', 'complete', 'rights', 'to', 'use', 'and', 'abuse', 'their', 'property', 'as', 'they_wish', 'such_as', 'exploiting', 'workers', 'for', 'profit', 'in', 'its', 'place', 'proudhon', 'supported', 'what', 'he', 'called', 'possession', 'individuals', 'can', 'have', 'limited', 'rights', 'to', 'use', 'resources', 'capital', 'and', 'goods', 'in_accordance_with', 'principles', 'of', 'equality', 'and', 'justice', 'proudhon', 's', 'vision', 'of', 'anarchy', 'which', 'he', 'called', 'mutualism', 'mutuellisme', 'involved', 'an', 'exchange', 'economy', 'where', 'individuals', 'and', 'groups', 'could', 'trade', 'the', 'products', 'of', 'their', 'labor', 'using', 'labor', 'notes', 'which', 'represented', 'the', 'amount', 'of', 'working', 'time', 'involved', 'in', 'production', 'this', 'would_ensure_that', 'no', 'one', 'would', 'profit', 'from', 'the', 'labor', 'of', 'others', 'workers', 'could', 'freely', 'join_together', 'in', 'co_operative', 'workshops', 'an', 'interest', 'free', 'bank', 'would_be', 'set_up', 'to', 'provide', 'everyone', 'with', 'access', 'to', 'the', 'means', 'of', 'production', 'proudhon', 's', 'ideas', 'were', 'influential', 'within', 'french', 'working_class', 'movements', 'and', 'his_followers', 'were', 'active', 'in', 'the', 'revolution', 'of', 'one', 'eight', 'four', 'eight', 'in', 'france', 'proudhon', 's', 'philosophy', 'of', 'property', 'is', 'complex', 'it', 'was', 'developed', 'in', 'a', 'number', 'of', 'works', 'over', 'his_lifetime', 'and', 'there_are', 'differing_interpretations', 'of', 'some', 'of', 'his', 'ideas', 'for', 'more_detailed_discussion', 'see', 'here', 'max_stirner', 's', 'egoism', 'in', 'his', 'the', 'ego', 'and', 'its_own', 'stirner', 'argued_that', 'most_commonly_accepted', 'social_institutions', 'including', 'the', 'notion', 'of', 'state', 'property', 'as', 'a', 'right', 'natural_rights', 'in', 'general', 'and', 'the', 'very', 'notion', 'of', 'society', 'were', 'mere', 'illusions', 'or', 'ghosts', 'in', 'the', 'mind', 'saying', 'of', 'society', 'that', 'the', 'individuals', 'are', 'its', 'reality', 'he', 'advocated', 'egoism', 'and', 'a', 'form', 'of', 'amoralism', 'in', 'which', 'individuals', 'would', 'unite', 'in', 'associations', 'of', 'egoists', 'only', 'when', 'it', 'was', 'in', 'their', 'self_interest', 'to_do_so', 'for', 'him', 'property', 'simply', 'comes', 'about', 'through', 'might', 'whoever', 'knows_how', 'to', 'take', 'to_defend', 'the', 'thing', 'to', 'him', 'belongs', 'property', 'and', 'what', 'i', 'have', 'in', 'my', 'power', 'that', 'is', 'my_own', 'so_long', 'as', 'i', 'assert', 'myself', 'as', 'holder', 'i_am', 'the', 'proprietor', 'of', 'the', 'thing', 'stirner', 'never', 'called', 'himself', 'an_anarchist', 'he', 'accepted', 'only', 'the', 'label', 'egoist', 'nevertheless', 'his', 'ideas', 'were', 'influential', 'on', 'many', 'individualistically', 'inclined', 'anarchists', 'although', 'interpretations', 'of', 'his', 'thought', 'are', 'diverse', 'american_individualist_anarchism', 'benjamin_tucker', 'in', 'one', 'eight', 'two', 'five', 'josiah_warren', 'had', 'participated_in', 'a', 'communitarian', 'experiment', 'headed_by', 'robert_owen', 'called', 'new', 'harmony', 'which', 'failed', 'in', 'a_few_years', 'amidst', 'much', 'internal_conflict', 'warren', 'blamed', 'the', 'community', 's', 'failure', 'on', 'a', 'lack', 'of', 'individual', 'sovereignty', 'and', 'a', 'lack', 'of', 'private_property', 'warren', 'proceeded', 'to', 'organise', 'experimenal', 'anarchist', 'communities', 'which', 'respected', 'what', 'he', 'called', 'the', 'sovereignty', 'of', 'the', 'individual', 'at', 'utopia', 'and', 'modern_times', 'in', 'one', 'eight', 'three', 'three', 'warren', 'wrote', 'and', 'published', 'the', 'peaceful', 'revolutionist', 'which', 'some', 'have', 'noted', 'to_be', 'the', 'first', 'anarchist_periodical', 'ever', 'published', 'benjamin_tucker', 'says_that', 'warren', 'was', 'the', 'first', 'man', 'to', 'expound', 'and', 'formulate', 'the', 'doctrine', 'now_known_as', 'anarchism', 'liberty', 'xiv', 'december', 'one', 'nine', 'zero', 'zero', 'one', 'benjamin_tucker', 'became_interested_in', 'anarchism', 'through', 'meeting', 'josiah_warren', 'and', 'william_b_greene', 'he', 'edited', 'and', 'published', 'liberty', 'from', 'august', 'one', 'eight', 'eight', 'one', 'to', 'april', 'one', 'nine', 'zero', 'eight', 'it', 'is_widely_considered', 'to_be', 'the', 'finest', 'individualist_anarchist', 'periodical', 'ever', 'issued', 'in', 'the', 'english_language', 'tucker', 's', 'conception', 'of', 'individualist_anarchism', 'incorporated', 'the', 'ideas', 'of', 'a_variety', 'of', 'theorists', 'greene', 's', 'ideas', 'on', 'mutual', 'banking', 'warren', 's', 'ideas', 'on', 'cost', 'as', 'the', 'limit', 'of', 'price', 'a', 'heterodox', 'variety', 'of', 'labour', 'theory', 'of', 'value', 'proudhon', 's', 'market_anarchism', 'max_stirner', 's', 'egoism', 'and', 'herbert_spencer', 's', 'law', 'of', 'equal', 'freedom', 'tucker', 'strongly_supported', 'the', 'individual', 's', 'right', 'to', 'own', 'the', 'product', 'of', 'his', 'or', 'her', 'labour', 'as', 'private_property', 'and', 'believed', 'in', 'a', 'market_economy', 'for', 'trading', 'this', 'property', 'he', 'argued_that', 'in', 'a', 'truly', 'free_market', 'system', 'without', 'the', 'state', 'the', 'abundance', 'of', 'competition', 'would_eliminate', 'profits', 'and', 'ensure_that', 'all', 'workers', 'received', 'the', 'full', 'value', 'of', 'their', 'labor', 'other', 'one', 'nine', 'th_century', 'individualists', 'included', 'lysander_spooner', 'stephen_pearl', 'andrews', 'and', 'victor', 'yarros', 'the', 'first', 'international', 'mikhail_bakunin', 'one', 'eight', 'one', 'four', 'one', 'eight', 'seven', 'six', 'in', 'europe', 'harsh', 'reaction', 'followed', 'the', 'revolutions', 'of', 'one', 'eight', 'four', 'eight', 'twenty_years_later', 'in', 'one', 'eight', 'six', 'four', 'the', 'international_workingmen', 's', 'association', 'sometimes_called', 'the', 'first', 'international', 'united', 'some', 'diverse', 'european', 'revolutionary', 'currents', 'including', 'anarchism', 'due_to_its', 'genuine', 'links', 'to', 'active', 'workers', 'movements', 'the', 'international', 'became', 'signficiant', 'from', 'the', 'start', 'karl_marx', 'was', 'a', 'leading_figure', 'in', 'the', 'international', 'he', 'was_elected', 'to', 'every', 'succeeding', 'general_council', 'of', 'the', 'association', 'the', 'first', 'objections', 'to', 'marx', 'came_from', 'the', 'mutualists', 'who', 'opposed_communism', 'and', 'statism', 'shortly_after', 'mikhail_bakunin', 'and', 'his_followers', 'joined', 'in', 'one', 'eight', 'six', 'eight', 'the', 'first', 'international', 'became', 'polarised', 'into', 'two', 'camps', 'with', 'marx', 'and', 'bakunin', 'as', 'their_respective', 'figureheads', 'the', 'clearest', 'difference_between', 'the', 'camps', 'was', 'over', 'strategy', 'the', 'anarchists', 'around', 'bakunin', 'favoured', 'in', 'kropotkin', 's', 'words', 'direct', 'economical', 'struggle_against', 'capitalism', 'without_interfering', 'in', 'the', 'political', 'parliamentary', 'agitation', 'at', 'that', 'time', 'marx', 'and', 'his_followers', 'focused_on', 'parliamentary', 'activity', 'bakunin', 'characterised', 'marx_s', 'ideas', 'as', 'authoritarian', 'and', 'predicted', 'that', 'if', 'a', 'marxist', 'party', 'gained', 'to', 'power', 'its', 'leaders', 'would', 'end', 'up', 'as', 'bad', 'as', 'the', 'ruling_class', 'they', 'had', 'fought_against', 'in', 'one', 'eight', 'seven', 'two', 'the', 'conflict', 'climaxed', 'with', 'a', 'final', 'split_between', 'the', 'two', 'groups', 'at', 'the', 'hague', 'congress', 'this', 'is_often_cited', 'as', 'the', 'origin', 'of', 'the', 'conflict_between', 'anarchists', 'and', 'marxists', 'from', 'this', 'moment', 'the', 'social_democratic', 'and', 'libertarian', 'currents', 'of', 'socialism', 'had', 'distinct', 'organisations', 'including', 'rival', 'internationals', 'anarchist_communism', 'peter_kropotkin', 'proudhon', 'and', 'bakunin', 'both', 'opposed_communism', 'associating', 'it', 'with', 'statism', 'however', 'in', 'the', 'one', 'eight', 'seven', 'zero', 's', 'many', 'anarchists', 'moved_away_from', 'bakunin', 's', 'economic', 'thinking', 'called', 'collectivism', 'and', 'embraced', 'communist', 'concepts', 'communists', 'believed', 'the', 'means', 'of', 'production', 'should_be', 'owned', 'collectively', 'and', 'that', 'goods', 'be', 'distributed', 'by', 'need_not', 'labor', 'an', 'early', 'anarchist', 'communist', 'was', 'joseph', 'd', 'jacque', 'the', 'first_person', 'to_describe', 'himself', 'as', 'libertarian', 'unlike', 'proudhon', 'he', 'argued_that', 'it', 'is', 'not', 'the', 'product', 'of', 'his', 'or', 'her', 'labor', 'that', 'the', 'worker', 'has', 'a', 'right', 'to', 'but', 'to', 'the', 'satisfaction', 'of', 'his', 'or', 'her', 'needs', 'whatever', 'may_be', 'their', 'nature', 'he', 'announced', 'his', 'ideas', 'in', 'his', 'us', 'published', 'journal', 'le', 'libertaire', 'one', 'eight', 'five', 'eight', 'one', 'eight', 'six', 'one', 'peter_kropotkin', 'often_seen_as', 'the', 'most_important', 'theorist', 'outlined', 'his', 'economic', 'ideas', 'in', 'the', 'conquest', 'of', 'bread', 'and', 'fields', 'factories', 'and', 'workshops', 'he_felt', 'co_operation', 'is', 'more', 'beneficial', 'than', 'competition', 'illustrated', 'in', 'nature', 'in', 'mutual_aid', 'a', 'factor', 'of', 'evolution', 'one', 'eight', 'nine', 'seven', 'subsequent', 'anarchist_communists', 'include', 'emma_goldman', 'and', 'alexander_berkman', 'many', 'in', 'the', 'anarcho_syndicalist', 'movements', 'see_below', 'saw', 'anarchist_communism', 'as', 'their', 'objective', 'isaac', 'puente', 's', 'one', 'nine', 'three', 'two', 'comunismo', 'libertario', 'was', 'adopted', 'by', 'the', 'spanish', 'cnt', 'as', 'its', 'manifesto', 'for', 'a', 'post', 'revolutionary', 'society', 'some', 'anarchists', 'disliked', 'merging', 'communism', 'with', 'anarchism', 'several', 'individualist_anarchists', 'maintained', 'that', 'abolition', 'of', 'private_property', 'was', 'not', 'consistent_with', 'liberty', 'for_example', 'benjamin_tucker', 'whilst', 'professing', 'respect', 'for', 'kropotkin', 'and', 'publishing', 'his', 'work', 'described', 'communist', 'anarchism', 'as', 'pseudo', 'anarchism', 'propaganda', 'of', 'the', 'deed', 'johann', 'most', 'was', 'an_outspoken', 'advocate', 'of', 'violence', 'anarchists', 'have', 'often_been', 'portrayed_as', 'dangerous', 'and', 'violent', 'due_mainly', 'to', 'a', 'number', 'of', 'high_profile', 'violent_acts', 'including', 'riots', 'assassinations', 'insurrections', 'and', 'terrorism', 'by', 'some', 'anarchists', 'some', 'revolutionaries', 'of', 'the', 'late', 'one', 'nine', 'th_century', 'encouraged', 'acts', 'of', 'political_violence', 'such_as', 'bombings', 'and', 'the', 'assassinations', 'of', 'heads', 'of', 'state', 'to', 'further', 'anarchism', 'such', 'actions', 'have', 'sometimes', 'been', 'called', 'propaganda', 'by', 'the', 'deed', 'one', 'of', 'the', 'more', 'outspoken', 'advocates', 'of', 'this', 'strategy', 'was', 'johann', 'most', 'who', 'said', 'the', 'existing', 'system', 'will_be', 'quickest', 'and', 'most', 'radically', 'overthrown_by', 'the', 'annihilation', 'of', 'its', 'exponents', 'therefore', 'massacres', 'of', 'the', 'enemies', 'of', 'the', 'people', 'must_be', 'set', 'in', 'motion', 'most', 's', 'preferred_method', 'of', 'terrorism', 'dynamite', 'earned_him', 'the', 'moniker', 'dynamost', 'however', 'there_is', 'no_consensus_on', 'the', 'legitimacy', 'or', 'utility', 'of', 'violence', 'in', 'general', 'mikhail_bakunin', 'and', 'errico_malatesta', 'for_example', 'wrote', 'of', 'violence', 'as', 'a', 'necessary', 'and', 'sometimes', 'desirable', 'force', 'in', 'revolutionary', 'settings', 'but', 'at', 'the', 'same_time', 'they', 'denounced', 'acts', 'of', 'individual', 'terrorism', 'malatesta', 'in', 'on', 'violence', 'and', 'bakunin', 'when', 'he', 'refuted', 'nechaev', 'other', 'anarchists', 'sometimes_identified', 'as', 'pacifist', 'anarchists', 'advocated', 'complete', 'nonviolence', 'leo_tolstoy', 'whose', 'philosophy', 'is', 'often_viewed_as', 'a', 'form', 'of', 'christian_anarchism', 'see_below', 'was', 'a', 'notable', 'exponent', 'of', 'nonviolent_resistance', 'anarchism', 'in', 'the', 'labour_movement', 'the', 'red', 'and', 'black_flag', 'coming_from', 'the', 'experience', 'of', 'anarchists', 'in', 'the', 'labour_movement', 'is', 'particularly', 'associated_with', 'anarcho_syndicalism', 'anarcho_syndicalism', 'was', 'an', 'early', 'two', 'zero', 'th_century', 'working_class', 'movement', 'seeking', 'to', 'overthrow', 'capitalism', 'and', 'the', 'state', 'to', 'institute', 'a', 'worker', 'controlled', 'society', 'the', 'movement', 'pursued', 'industrial', 'actions', 'such_as', 'general_strike', 'as', 'a', 'primary', 'strategy', 'many', 'anarcho_syndicalists', 'believed', 'in', 'anarchist_communism', 'though', 'not', 'all', 'communists', 'believed', 'in', 'syndicalism', 'after', 'the', 'one', 'eight', 'seven', 'one', 'repression', 'french', 'anarchism', 'reemerged', 'influencing', 'the', 'bourses', 'de', 'travails', 'of', 'autonomous', 'workers', 'groups', 'and', 'trade_unions', 'from', 'this', 'movement', 'the', 'conf', 'd_ration', 'g_n_rale', 'du_travail', 'general', 'confederation', 'of', 'work', 'cgt', 'was', 'formed', 'in', 'one', 'eight', 'nine', 'five', 'as', 'the', 'first', 'major', 'anarcho_syndicalist', 'movement', 'emile', 'pataud', 'and', 'emile', 'pouget', 's', 'writing', 'for', 'the', 'cgt', 'saw', 'libertarian_communism', 'developing', 'from', 'a', 'general_strike', 'after', 'one', 'nine', 'one', 'four', 'the', 'cgt', 'moved_away_from', 'anarcho_syndicalism', 'due_to', 'the', 'appeal', 'of', 'bolshevism', 'french', 'style', 'syndicalism', 'was', 'a', 'significant', 'movement', 'in', 'europe', 'prior_to', 'one', 'nine', 'two', 'one', 'and', 'remained', 'a', 'significant', 'movement', 'in', 'spain', 'until', 'the', 'mid', 'one', 'nine', 'four', 'zero', 's', 'the', 'industrial_workers', 'of', 'the', 'world', 'iww', 'founded', 'in', 'one', 'nine', 'zero', 'five', 'in', 'the', 'us', 'espoused', 'unionism', 'and', 'sought', 'a', 'general_strike', 'to', 'usher', 'in', 'a', 'stateless', 'society', 'in', 'one', 'nine', 'two', 'three', 'one', 'zero', 'zero', 'zero', 'zero', 'zero', 'members', 'existed', 'with', 'the', 'support', 'of', 'up', 'to', 'three', 'zero', 'zero', 'zero', 'zero', 'zero', 'though', 'not', 'explicitly', 'anarchist', 'they', 'organized', 'by', 'rank', 'and', 'file', 'democracy', 'embodying', 'a', 'spirit', 'of', 'resistance', 'that', 'has_inspired', 'many', 'anglophone', 'syndicalists', 'cnt', 'propaganda', 'from', 'april', 'two', 'zero', 'zero', 'four', 'reads', 'don_t_let', 'the', 'politicians', 'rule', 'our_lives', 'you', 'vote', 'and', 'they', 'decide', 'don_t', 'allow', 'it', 'unity', 'action', 'self_management', 'spanish', 'anarchist', 'trade_union', 'federations', 'were', 'formed', 'in', 'the', 'one', 'eight', 'seven', 'zero', 's', 'one', 'nine', 'zero', 'zero', 'and', 'one', 'nine', 'one', 'zero', 'the', 'most_successful', 'was', 'the', 'confederaci_n', 'nacional_del', 'trabajo', 'national', 'confederation', 'of', 'labour', 'cnt', 'founded', 'in', 'one', 'nine', 'one', 'zero', 'prior_to', 'the', 'one', 'nine', 'four', 'zero', 's', 'the', 'cnt', 'was', 'the', 'major', 'force', 'in', 'spanish', 'working_class', 'politics', 'with', 'a', 'membership', 'of', 'one', 'five', 'eight', 'million', 'in', 'one', 'nine', 'three', 'four', 'the', 'cnt', 'played', 'a_major_role', 'in', 'the', 'spanish_civil_war', 'see_also', 'anarchism', 'in', 'spain', 'syndicalists', 'like', 'ricardo', 'flores', 'mag', 'n', 'were', 'key_figures', 'in', 'the', 'mexican_revolution', 'latin_american', 'anarchism', 'was_strongly_influenced', 'extending', 'to', 'the', 'zapatista', 'rebellion', 'and', 'the', 'factory', 'occupation', 'movements', 'in', 'argentina', 'in', 'berlin', 'in', 'one', 'nine', 'two', 'two', 'the', 'cnt', 'was', 'joined', 'with', 'the', 'international', 'workers', 'association', 'an', 'anarcho_syndicalist', 'successor', 'to', 'the', 'first', 'international', 'contemporary', 'anarcho_syndicalism', 'continues', 'as', 'a', 'minor', 'force', 'in', 'many', 'socities', 'much_smaller_than', 'in', 'the', 'one', 'nine', 'one', 'zero', 's', 'two', 'zero', 's', 'and', 'three', 'zero', 's', 'the', 'largest', 'organised', 'anarchist_movement', 'today', 'is', 'in', 'spain', 'in', 'the', 'form', 'of', 'the', 'confederaci_n', 'general', 'del_trabajo', 'and', 'the', 'cnt', 'the', 'cgt', 'claims', 'a', 'paid', 'up', 'membership', 'of', 'six', 'zero', 'zero', 'zero', 'zero', 'and', 'received', 'over', 'a', 'million', 'votes', 'in', 'spanish', 'syndical', 'elections', 'other', 'active', 'syndicalist', 'movements', 'include', 'the', 'us', 'workers_solidarity', 'alliance', 'and', 'the', 'uk', 'solidarity', 'federation', 'the', 'revolutionary', 'industrial', 'unionist', 'industrial_workers', 'of', 'the', 'world', 'also', 'exists', 'claiming', 'two', 'zero', 'zero', 'zero', 'paid', 'members', 'contemporary', 'critics', 'of', 'anarcho_syndicalism', 'and', 'revolutionary', 'industrial_unionism', 'claim_that', 'they_are', 'workerist', 'and', 'fail', 'to', 'deal_with', 'economic', 'life', 'outside', 'work', 'post', 'leftist', 'critics', 'such_as', 'bob', 'black', 'claim', 'anarcho_syndicalism', 'advocates', 'oppressive_social', 'structures', 'such_as', 'work', 'and', 'the', 'workplace', 'anarcho_syndicalists', 'in', 'general', 'uphold', 'principles', 'of', 'workers_solidarity', 'direct_action', 'and', 'self_management', 'the', 'russian_revolution', 'the', 'russian_revolution', 'of', 'one', 'nine', 'one', 'seven', 'was', 'a', 'seismic', 'event', 'in', 'the', 'development', 'of', 'anarchism', 'as', 'a', 'movement', 'and', 'as', 'a', 'philosophy', 'anarchists', 'participated', 'alongside', 'the', 'bolsheviks', 'in', 'both', 'february', 'and', 'october', 'revolutions', 'many', 'anarchists', 'initially', 'supporting', 'the', 'bolshevik', 'coup', 'however', 'the', 'bolsheviks', 'soon_turned', 'against', 'the', 'anarchists', 'and', 'other', 'left_wing_opposition', 'a', 'conflict', 'which_culminated_in', 'the', 'one', 'nine', 'one', 'eight', 'kronstadt_rebellion', 'anarchists', 'in', 'central', 'russia', 'were', 'imprisoned', 'or', 'driven_underground', 'or', 'joined', 'the', 'victorious', 'bolsheviks', 'in', 'ukraine', 'anarchists', 'fought', 'in', 'the', 'civil_war', 'against', 'both', 'whites', 'and', 'bolsheviks', 'within', 'the', 'makhnovshchina', 'peasant', 'army', 'led_by', 'nestor_makhno', 'expelled', 'american', 'anarchists', 'emma_goldman', 'and', 'alexander_berkman', 'before_leaving', 'russia', 'were', 'amongst', 'those', 'agitating', 'in', 'response', 'to', 'bolshevik', 'policy', 'and', 'the', 'suppression', 'of', 'the', 'kronstadt', 'uprising', 'both', 'wrote', 'classic', 'accounts', 'of', 'their', 'experiences', 'in', 'russia', 'aiming', 'to', 'expose', 'the', 'reality', 'of', 'bolshevik', 'control', 'for', 'them', 'bakunin', 's', 'predictions_about', 'the', 'consequences', 'of', 'marxist', 'rule', 'had', 'proved', 'all', 'too', 'true', 'the', 'victory', 'of', 'the', 'bolsheviks', 'in', 'the', 'october_revolution', 'and', 'the', 'resulting', 'russian_civil_war', 'did', 'serious_damage', 'to', 'anarchist', 'movements', 'internationally', 'many', 'workers', 'and', 'activists', 'saw', 'bolshevik', 'success', 'as', 'setting', 'an_example', 'communist_parties', 'grew', 'at', 'the', 'expense', 'of', 'anarchism', 'and', 'other', 'socialist_movements', 'in', 'france', 'and', 'the', 'us', 'for_example', 'the', 'major', 'syndicalist', 'movements', 'of', 'the', 'cgt', 'and', 'iww', 'began', 'to', 'realign', 'themselves', 'away_from', 'anarchism', 'and', 'towards', 'the', 'communist_international', 'in', 'paris', 'the', 'dielo', 'truda', 'group', 'of', 'russian', 'anarchist', 'exiles', 'which', 'included', 'nestor_makhno', 'concluded_that', 'anarchists', 'needed', 'to', 'develop', 'new', 'forms', 'of', 'organisation', 'in', 'response', 'to', 'the', 'structures', 'of', 'bolshevism', 'their', 'one', 'nine', 'two', 'six', 'manifesto', 'known_as', 'the', 'organisational', 'platform', 'of', 'the', 'libertarian_communists', 'was', 'supported_by', 'some', 'communist_anarchists', 'though', 'opposed', 'by', 'many_others', 'the', 'platform', 'continues_to', 'inspire', 'some', 'contemporary', 'anarchist', 'groups', 'who', 'believe', 'in', 'an', 'anarchist_movement', 'organised_around', 'its', 'principles', 'of', 'theoretical', 'unity', 'tactical', 'unity', 'collective_responsibility', 'and', 'federalism', 'platformist', 'groups', 'today', 'include', 'the', 'workers_solidarity', 'movement', 'in', 'ireland', 'the', 'uk', 's', 'anarchist', 'federation', 'and', 'the', 'late', 'north_eastern', 'federation', 'of', 'anarchist_communists', 'in', 'the', 'northeastern_united_states', 'and', 'bordering', 'canada', 'the', 'fight_against', 'fascism', 'spain', 'one', 'nine', 'three', 'six', 'members', 'of', 'the', 'cnt', 'construct', 'armoured_cars', 'to', 'fight_against', 'the', 'fascists', 'in', 'one', 'of', 'the', 'collectivised', 'factories', 'in', 'the', 'one', 'nine', 'two', 'zero', 's', 'and', 'one', 'nine', 'three', 'zero', 's', 'the', 'familiar', 'dynamics', 'of', 'anarchism', 's', 'conflict_with', 'the', 'state', 'were', 'transformed', 'by', 'the', 'rise', 'of', 'fascism', 'in', 'europe', 'in_many_cases', 'european', 'anarchists', 'faced', 'difficult', 'choices', 'should', 'they', 'join', 'in', 'popular', 'fronts', 'with', 'reformist', 'democrats', 'and', 'soviet', 'led', 'communists', 'against', 'a', 'common', 'fascist', 'enemy', 'luigi', 'fabbri', 'an', 'exile', 'from', 'italian_fascism', 'was', 'amongst', 'those', 'arguing_that', 'fascism', 'was', 'something', 'different', 'fascism', 'is', 'not_just', 'another', 'form', 'of', 'government', 'which', 'like', 'all', 'others', 'uses', 'violence', 'it', 'is', 'the', 'most', 'authoritarian', 'and', 'the', 'most', 'violent', 'form', 'of', 'government', 'imaginable', 'it', 'represents', 'the', 'utmost', 'glorification', 'of', 'the', 'theory', 'and', 'practice', 'of', 'the', 'principle', 'of', 'authority', 'in', 'france', 'where', 'the', 'fascists', 'came_close_to', 'insurrection', 'in', 'the', 'february', 'one', 'nine', 'three', 'four', 'riots', 'anarchists', 'divided', 'over', 'a', 'united_front', 'policy', 'in', 'spain', 'the', 'cnt', 'initially_refused', 'to_join', 'a', 'popular_front', 'electoral', 'alliance', 'and', 'abstention', 'by', 'cnt', 'supporters', 'led', 'to', 'a', 'right_wing', 'election_victory', 'but', 'in', 'one', 'nine', 'three', 'six', 'the', 'cnt', 'changed', 'its', 'policy', 'and', 'anarchist', 'votes', 'helped_bring', 'the', 'popular_front', 'back', 'to', 'power', 'months_later', 'the', 'ruling_class', 'responded_with', 'an', 'attempted_coup', 'and', 'the', 'spanish_civil_war', 'one', 'nine', 'three', 'six', 'three', 'nine', 'was', 'underway', 'in', 'reponse', 'to', 'the', 'army', 'rebellion', 'an_anarchist', 'inspired', 'movement', 'of', 'peasants', 'and', 'workers', 'supported_by', 'armed', 'militias', 'took_control', 'of', 'the', 'major', 'city', 'of', 'barcelona', 'and', 'of', 'large_areas', 'of', 'rural', 'spain', 'where', 'they', 'collectivized', 'the', 'land', 'but', 'even', 'before', 'the', 'eventual', 'fascist', 'victory', 'in', 'one', 'nine', 'three', 'nine', 'the', 'anarchists', 'were', 'losing_ground', 'in', 'a', 'bitter_struggle', 'with', 'the', 'stalinists', 'the', 'cnt', 'leadership', 'often', 'appeared', 'confused', 'and', 'divided', 'with', 'some', 'members', 'controversially', 'entering', 'the', 'government', 'stalinist', 'led', 'troops', 'suppressed', 'the', 'collectives', 'and', 'persecuted', 'both', 'dissident', 'marxists', 'and', 'anarchists', 'since', 'the', 'late', 'one', 'nine', 'seven', 'zero', 's', 'anarchists', 'have_been', 'involved', 'in', 'fighting', 'the', 'rise', 'of', 'neo_fascist', 'groups', 'in', 'germany', 'and', 'the', 'united_kingdom', 'some', 'anarchists', 'worked', 'within', 'militant', 'anti_fascist', 'groups', 'alongside', 'members', 'of', 'the', 'marxist', 'left', 'they', 'advocated', 'directly', 'combating', 'fascists', 'with', 'physical_force', 'rather_than_relying_on', 'the', 'state', 'since', 'the', 'late', 'one', 'nine', 'nine', 'zero', 's', 'a', 'similar', 'tendency', 'has', 'developed', 'within', 'us', 'anarchism', 'see_also', 'anti_racist', 'action', 'us', 'anti_fascist', 'action', 'uk', 'antifa', 'religious', 'anarchism', 'leo_tolstoy', 'one', 'eight', 'two', 'eight', 'one', 'nine', 'one', 'zero', 'most', 'anarchist', 'culture', 'tends_to_be', 'secular', 'if', 'not', 'outright', 'anti', 'religious', 'however', 'the', 'combination', 'of', 'religious', 'social', 'conscience', 'historical', 'religiousity', 'amongst', 'oppressed', 'social_classes', 'and', 'the', 'compatibility', 'of', 'some', 'interpretations', 'of', 'religious_traditions', 'with', 'anarchism', 'has_resulted_in', 'religious', 'anarchism', 'christian', 'anarchists', 'believe_that', 'there_is', 'no', 'higher', 'authority', 'than', 'god', 'and', 'oppose', 'earthly', 'authority', 'such_as', 'government', 'and', 'established', 'churches', 'they_believe_that', 'jesus_teachings', 'were', 'clearly', 'anarchistic', 'but', 'were', 'corrupted', 'when', 'christianity', 'was', 'declared', 'the', 'official_religion', 'of', 'rome', 'christian', 'anarchists', 'who', 'follow', 'jesus', 'directive', 'to', 'turn', 'the', 'other', 'cheek', 'are', 'strict', 'pacifists', 'the', 'most_famous', 'advocate', 'of', 'christian_anarchism', 'was', 'leo_tolstoy', 'author', 'of', 'the', 'kingdom', 'of', 'god', 'is', 'within', 'you', 'who', 'called', 'for', 'a', 'society', 'based_on', 'compassion', 'nonviolent', 'principles', 'and', 'freedom', 'christian', 'anarchists', 'tend_to', 'form', 'experimental', 'communities', 'they', 'also', 'occasionally', 'resist', 'taxation', 'many', 'christian', 'anarchists', 'are', 'vegetarian', 'or', 'vegan', 'christian', 'anarchy', 'can_be', 'said', 'to', 'have', 'roots', 'as', 'old', 'as', 'the', 'religion', 's', 'birth', 'as', 'the', 'early', 'church', 'exhibits', 'many', 'anarchistic', 'tendencies', 'such_as', 'communal', 'goods', 'and', 'wealth', 'by', 'aiming', 'to', 'obey', 'utterly', 'certain', 'of', 'the', 'bible', 's', 'teachings', 'certain', 'anabaptist_groups', 'of', 'sixteenth_century', 'europe', 'attempted_to', 'emulate', 'the', 'early', 'church', 's', 'social_economic', 'organisation', 'and', 'philosophy', 'by', 'regarding', 'it', 'as', 'the', 'only', 'social_structure', 'capable', 'of', 'true', 'obediance', 'to', 'jesus_teachings', 'and', 'utterly', 'rejected', 'in', 'theory', 'all', 'earthly', 'hierarchies', 'and', 'authority', 'and', 'indeed', 'non', 'anabaptists', 'in', 'general', 'and', 'violence', 'as', 'ungodly', 'such', 'groups', 'for_example', 'the', 'hutterites', 'typically', 'went', 'from', 'initially', 'anarchistic', 'beginnings', 'to', 'as', 'their', 'movements', 'stabalised', 'more', 'authoritarian', 'social', 'models', 'chinese', 'anarchism', 'was', 'most_influential', 'in', 'the', 'one', 'nine', 'two', 'zero', 's', 'strands', 'of', 'chinese', 'anarchism', 'included', 'tai', 'xu', 's', 'buddhist', 'anarchism', 'which', 'was', 'influenced_by', 'tolstoy', 'and', 'the', 'well', 'field', 'system', 'neopaganism', 'with', 'its', 'focus_on', 'the', 'environment', 'and', 'equality', 'along_with', 'its', 'often', 'decentralized_nature', 'has', 'lead', 'to', 'a', 'number', 'of', 'neopagan', 'anarchists', 'one', 'of', 'the', 'most_prominent', 'is', 'starhawk', 'who', 'writes', 'extensively', 'about', 'both', 'spirituality', 'and', 'activism', 'anarchism', 'and', 'feminism', 'emma_goldman', 'early', 'french', 'feminists', 'such_as', 'jenny', 'd', 'h', 'ricourt', 'and', 'juliette', 'adam', 'criticised', 'the', 'mysogyny', 'in', 'the', 'anarchism', 'of', 'proudhon', 'during', 'the', 'one', 'eight', 'five', 'zero', 's', 'anarcha_feminism', 'is', 'a', 'kind', 'of', 'radical_feminism', 'that', 'espouses', 'the', 'belief_that', 'patriarchy', 'is', 'a', 'fundamental', 'problem', 'in', 'society', 'while', 'anarchist', 'feminism', 'has_existed', 'for', 'more_than', 'a', 'hundred_years', 'its', 'explicit', 'formulation', 'as', 'anarcha_feminism', 'dates_back_to', 'the', 'early', 'seven', 'zero', 's', 'during', 'the', 'second_wave', 'feminist_movement', 'anarcha_feminism', 'views', 'patriarchy', 'as', 'the', 'first', 'manifestation', 'of', 'hierarchy', 'in', 'human', 'history', 'thus', 'the', 'first', 'form', 'of', 'oppression', 'occurred', 'in', 'the', 'dominance', 'of', 'male', 'over', 'female', 'anarcha', 'feminists', 'then', 'conclude_that', 'if', 'feminists', 'are', 'against', 'patriarchy', 'they', 'must', 'also', 'be', 'against', 'all', 'forms', 'of', 'hierarchy', 'and', 'therefore', 'must', 'reject', 'the', 'authoritarian', 'nature', 'of', 'the', 'state', 'and', 'capitalism_anarcho', 'primitivists', 'see', 'the', 'creation', 'of', 'gender_roles', 'and', 'patriarchy', 'a', 'creation', 'of', 'the', 'start', 'of', 'civilization', 'and', 'therefore', 'consider', 'primitivism', 'to', 'also', 'be', 'an_anarchist', 'school', 'of', 'thought', 'that', 'addresses', 'feminist', 'concerns', 'eco', 'feminism', 'is_often_considered', 'a', 'feminist', 'variant', 'of', 'green', 'anarchist', 'feminist', 'thought', 'anarcha_feminism', 'is', 'most_often_associated', 'with', 'early', 'two', 'zero', 'th_century', 'authors', 'and', 'theorists_such_as', 'emma_goldman', 'and', 'voltairine_de', 'cleyre', 'although', 'even', 'early', 'first', 'wave_feminist', 'mary_wollstonecraft', 'held', 'proto', 'anarchist', 'views', 'and', 'william_godwin', 'is_often_considered', 'a', 'feminist', 'anarchist', 'precursor', 'it_should_be', 'noted_that', 'goldman', 'and', 'de_cleyre', 'though', 'they', 'both', 'opposed', 'the', 'state', 'had', 'opposing', 'philosophies', 'as', 'de_cleyre', 'explains', 'miss', 'goldman', 'is', 'a', 'communist', 'i_am', 'an_individualist', 'she', 'wishes', 'to', 'destroy', 'the', 'right', 'of', 'property', 'i_wish', 'to', 'assert', 'it', 'i', 'make', 'my', 'war', 'upon', 'privilege', 'and', 'authority', 'whereby', 'the', 'right', 'of', 'property', 'the', 'true', 'right', 'in', 'that', 'which', 'is', 'proper', 'to', 'the', 'individual', 'is', 'annihilated', 'she_believes', 'that', 'co_operation', 'would', 'entirely', 'supplant', 'competition', 'i', 'hold', 'that', 'competition', 'in', 'one', 'form', 'or', 'another', 'will_always', 'exist', 'and', 'that', 'it', 'is', 'highly_desirable', 'it', 'should', 'in', 'the', 'spanish_civil_war', 'an', 'anarcha', 'feminist', 'group', 'free', 'women', 'organized', 'to_defend', 'both', 'anarchist', 'and', 'feminist_ideas', 'in', 'the', 'modern_day', 'anarchist_movement', 'many', 'anarchists', 'male', 'or', 'female', 'consider_themselves', 'feminists', 'and', 'anarcha', 'feminist_ideas', 'are', 'growing', 'the', 'publishing', 'of', 'quiet', 'rumors', 'an', 'anarcha', 'feminist', 'reader', 'has', 'helped', 'to', 'spread', 'various_kinds', 'of', 'anti_authoritarian', 'and', 'anarchist', 'feminist_ideas', 'to', 'the', 'broader', 'movement', 'wendy_mcelroy', 'has', 'popularized', 'an', 'individualist_anarchism', 'take', 'on', 'feminism', 'in', 'her', 'books', 'articles', 'and', 'individualist', 'feminist', 'website', 'anarcho_capitalism', 'murray_rothbard', 'one', 'nine', 'two', 'six', 'one', 'nine', 'nine', 'five', 'anarcho_capitalism', 'is', 'a', 'predominantly', 'united_states', 'based', 'theoretical', 'tradition', 'that', 'desires', 'a', 'stateless', 'society', 'with', 'the', 'economic_system', 'of', 'free_market_capitalism', 'unlike_other', 'branches', 'of', 'anarchism', 'it', 'does_not', 'oppose', 'profit', 'or', 'capitalism', 'consequently', 'most', 'anarchists', 'do_not', 'recognise', 'anarcho_capitalism', 'as', 'a', 'form', 'of', 'anarchism', 'murray_rothbard', 's', 'synthesis', 'of', 'classical_liberalism', 'and', 'austrian_economics', 'was', 'germinal', 'for', 'the', 'development', 'of', 'contemporary', 'anarcho_capitalist', 'theory', 'he', 'defines', 'anarcho_capitalism', 'in', 'terms', 'of', 'the', 'non_aggression', 'principle', 'based_on', 'the', 'concept', 'of', 'natural_law', 'competiting', 'theorists', 'use', 'egoism', 'utilitarianism', 'used', 'by', 'david_friedman', 'or', 'contractarianism', 'used', 'by', 'jan', 'narveson', 'some', 'minarchists', 'such_as', 'ayn_rand', 'robert_nozick', 'and', 'robert', 'a_heinlein', 'have_influenced', 'anarcho_capitalism', 'some', 'anarcho_capitalists', 'along_with', 'some', 'right_wing', 'libertarian', 'historians', 'such_as', 'david', 'hart', 'and', 'ralph', 'raico', 'considered', 'similar', 'philosophies', 'existing', 'prior_to', 'rothbard', 'to_be', 'anarcho_capitalist', 'such_as', 'those', 'of', 'gustave_de_molinari', 'and', 'auberon_herbert', 'opponents', 'of', 'anarcho_capitalists', 'dispute', 'these', 'claims', 'the', 'place', 'of', 'anarcho_capitalism', 'within', 'anarchism', 'and', 'indeed', 'whether', 'it', 'is', 'a', 'form', 'of', 'anarchism', 'at', 'all', 'is', 'highly_controversial', 'for', 'more', 'on', 'this', 'debate', 'see', 'anarchism', 'and', 'anarcho_capitalism', 'anarchism', 'and', 'the', 'environment', 'since', 'the', 'late', 'one', 'nine', 'seven', 'zero', 's', 'anarchists', 'in', 'anglophone', 'and', 'european_countries', 'have_been', 'taking', 'action', 'for', 'the', 'natural_environment', 'eco_anarchists', 'or', 'green', 'anarchists', 'believe', 'in', 'deep_ecology', 'this', 'is', 'a', 'worldview', 'that', 'embraces', 'biodiversity', 'and', 'sustainability', 'eco_anarchists', 'often', 'use', 'direct_action', 'against', 'what', 'they', 'see', 'as', 'earth', 'destroying', 'institutions', 'of', 'particular_importance', 'is', 'the', 'earth', 'first', 'movement', 'that', 'takes', 'action', 'such_as', 'tree', 'sitting', 'another', 'important_component', 'is', 'ecofeminism', 'which', 'sees', 'the', 'domination', 'of', 'nature', 'as', 'a', 'metaphor', 'for', 'the', 'domination', 'of', 'women', 'green_anarchism', 'also', 'involves', 'a', 'critique', 'of', 'industrial_capitalism', 'and', 'for', 'some', 'green', 'anarchists', 'civilization', 'itself', 'primitivism', 'is', 'a', 'predominantly', 'western_philosophy', 'that', 'advocates', 'a', 'return', 'to', 'a', 'pre_industrial', 'and', 'usually', 'pre', 'agricultural', 'society', 'it', 'develops', 'a', 'critique', 'of', 'industrial', 'civilization', 'in', 'this', 'critique', 'technology', 'and', 'development', 'have', 'alienated', 'people', 'from', 'the', 'natural', 'world', 'this', 'philosophy', 'develops', 'themes', 'present', 'in', 'the', 'political', 'action', 'of', 'the', 'luddites', 'and', 'the', 'writings', 'of', 'jean_jacques_rousseau', 'primitivism', 'developed', 'in', 'the', 'context', 'of', 'the', 'reclaim', 'the', 'streets', 'earth', 'first', 'and', 'the', 'earth_liberation_front', 'movements', 'john_zerzan', 'wrote', 'that', 'civilization', 'not_just', 'the', 'state', 'would_need', 'to', 'fall', 'for', 'anarchy', 'to', 'be_achieved', 'anarcho', 'primitivists', 'point', 'to', 'the', 'anti_authoritarian', 'nature', 'of', 'many', 'primitive', 'or', 'hunter_gatherer_societies', 'throughout', 'the', 'world', 's', 'history', 'as', 'examples', 'of', 'anarchist', 'societies', 'other_branches', 'and', 'offshoots', 'anarchism', 'generates', 'many', 'eclectic', 'and', 'syncretic', 'philosophies', 'and', 'movements', 'since', 'the', 'western', 'social', 'formet', 'in', 'the', 'one', 'nine', 'six', 'zero', 's', 'and', 'one', 'nine', 'seven', 'zero', 's', 'a', 'number', 'new', 'of', 'movements', 'and', 'schools', 'have', 'appeared', 'most', 'of', 'these', 'stances', 'are', 'limited', 'to', 'even', 'smaller_numbers', 'than', 'the', 'schools', 'and', 'movements', 'listed_above', 'hakim_bey', 'post_left_anarchy', 'post_left_anarchy', 'also', 'called', 'egoist', 'anarchism', 'seeks_to', 'distance', 'itself', 'from', 'the', 'traditional', 'left', 'communists', 'liberals', 'social_democrats', 'etc', 'and', 'to', 'escape', 'the', 'confines', 'of', 'ideology', 'in', 'general', 'post', 'leftists', 'argue_that', 'anarchism', 'has_been', 'weakened', 'by', 'its', 'long', 'attachment', 'to', 'contrary', 'leftist', 'movements', 'and', 'single', 'issue', 'causes', 'anti_war', 'anti_nuclear', 'etc', 'it', 'calls_for', 'a', 'synthesis', 'of', 'anarchist', 'thought', 'and', 'a', 'specifically', 'anti_authoritarian', 'revolutionary_movement', 'outside', 'of', 'the', 'leftist', 'milieu', 'it', 'often', 'focuses_on', 'the', 'individual', 'rather_than', 'speaking', 'in', 'terms', 'of', 'class', 'or', 'other', 'broad', 'generalizations', 'and', 'shuns', 'organizational', 'tendencies', 'in', 'favor', 'of', 'the', 'complete_absence', 'of', 'explicit', 'hierarchy', 'important', 'groups', 'and', 'individuals', 'associated_with', 'post_left_anarchy', 'include', 'crimethinc', 'the', 'magazine', 'anarchy', 'a', 'journal', 'of', 'desire', 'armed', 'and', 'its', 'editor', 'jason', 'mcquinn', 'bob', 'black', 'hakim_bey', 'and', 'others', 'for', 'more_information', 'see', 'infoshop_org', 's', 'anarchy', 'after', 'leftism', 'section', 'and', 'the', 'post', 'left', 'section', 'on', 'anarchism', 'ws', 'see_also', 'post_left_anarchy', 'post_structuralism', 'the', 'term', 'postanarchism', 'was', 'originated', 'by', 'saul', 'newman', 'first', 'receiving', 'popular', 'attention', 'in', 'his', 'book', 'from', 'bakunin', 'to', 'lacan', 'to', 'refer_to', 'a', 'theoretical', 'move_towards', 'a', 'synthesis', 'of', 'classical', 'anarchist', 'theory', 'and', 'poststructuralist', 'thought', 'subsequent', 'to', 'newman', 's', 'use', 'of', 'the', 'term', 'however', 'it', 'has', 'taken', 'on', 'a', 'life', 'of', 'its_own', 'and', 'a_wide_range', 'of', 'ideas', 'including', 'autonomism', 'post_left_anarchy', 'situationism', 'post', 'colonialism', 'and', 'zapatismo', 'by', 'its', 'very', 'nature', 'post', 'anarchism', 'rejects', 'the', 'idea_that', 'it_should_be', 'a', 'coherent', 'set', 'of', 'doctrines', 'and', 'beliefs', 'as', 'such', 'it', 'is', 'difficult', 'if', 'not', 'impossible', 'to', 'state', 'with', 'any', 'degree', 'of', 'certainty', 'who', 'should', 'or', 'shouldn_t_be', 'grouped_under', 'the', 'rubric', 'nonetheless', 'key', 'thinkers', 'associated_with', 'post', 'anarchism', 'include', 'saul', 'newman', 'todd', 'may', 'gilles_deleuze', 'and', 'f_lix_guattari', 'external', 'reference', 'postanarchism', 'clearinghouse', 'see_also', 'post', 'anarchism', 'insurrectionary', 'anarchism', 'insurrectionary', 'anarchism', 'is', 'a', 'form', 'of', 'revolutionary', 'anarchism', 'critical', 'of', 'formal', 'anarchist', 'labor_unions', 'and', 'federations', 'insurrectionary', 'anarchists', 'advocate', 'informal', 'organization', 'including', 'small', 'affinity', 'groups', 'carrying_out', 'acts', 'of', 'resistance', 'in', 'various', 'struggles', 'and', 'mass', 'organizations', 'called', 'base', 'structures', 'which', 'can', 'include', 'exploited', 'individuals_who_are', 'not', 'anarchists', 'proponents', 'include', 'wolfi', 'landstreicher', 'and', 'alfredo', 'm', 'bonanno', 'author', 'of', 'works', 'including', 'armed', 'joy', 'and', 'the', 'anarchist', 'tension', 'this', 'tendency', 'is', 'represented', 'in', 'the', 'us', 'in', 'magazines', 'such_as', 'willful', 'disobedience', 'and', 'killing', 'king', 'abacus', 'see_also', 'insurrectionary', 'anarchism', 'small', 'a', 'anarchism', 'small', 'a', 'anarchism', 'is', 'a', 'term', 'used', 'in', 'two', 'different', 'but', 'not', 'unconnected', 'contexts', 'dave', 'neal', 'posited', 'the', 'term', 'in', 'opposition', 'to', 'big', 'a', 'anarchism', 'in', 'the', 'article', 'anarchism', 'ideology', 'or', 'methodology', 'while', 'big', 'a', 'anarchism', 'referred_to', 'ideological', 'anarchists', 'small', 'a', 'anarchism', 'was', 'applied', 'to', 'their', 'methodological', 'counterparts', 'those_who', 'viewed', 'anarchism', 'as', 'a', 'way', 'of', 'acting', 'or', 'a', 'historical', 'tendency', 'against', 'illegitimate', 'authority', 'as', 'an', 'anti', 'ideological', 'position', 'small', 'a', 'anarchism', 'shares', 'some', 'similarities', 'with', 'post_left_anarchy', 'david', 'graeber', 'and', 'andrej', 'grubacic', 'offer', 'an_alternative', 'use', 'of', 'the', 'term', 'applying', 'it', 'to', 'groups', 'and', 'movements', 'organising', 'according_to', 'or', 'acting', 'in', 'a', 'manner_consistent_with', 'anarchist_principles', 'of', 'decentralisation', 'voluntary_association', 'mutual_aid', 'the', 'network', 'model', 'and', 'crucially', 'the', 'rejection', 'of', 'any', 'idea_that', 'the', 'end', 'justifies', 'the', 'means', 'let_alone', 'that', 'the', 'business', 'of', 'a', 'revolutionary', 'is', 'to_seize', 'state', 'power', 'and', 'then', 'begin', 'imposing', 'one', 's', 'vision', 'at', 'the', 'point', 'of', 'a', 'gun', 'other', 'issues', 'conceptions', 'of', 'an', 'anarchist_society', 'many', 'political', 'philosophers', 'justify', 'support', 'of', 'the', 'state', 'as', 'a', 'means', 'of', 'regulating', 'violence', 'so', 'that', 'the', 'destruction', 'caused_by', 'human', 'conflict', 'is', 'minimized', 'and', 'fair', 'relationships', 'are', 'established', 'anarchists', 'argue_that', 'pursuit', 'of', 'these', 'ends', 'does_not', 'justify', 'the', 'establishment', 'of', 'a', 'state', 'many', 'argue_that', 'the', 'state', 'is', 'incompatible_with', 'those', 'goals', 'and', 'the', 'cause', 'of', 'chaos', 'violence', 'and', 'war', 'anarchists', 'argue_that', 'the', 'state', 'helps', 'to_create', 'a', 'monopoly', 'on', 'violence', 'and', 'uses', 'violence', 'to', 'advance', 'elite', 'interests', 'much', 'effort', 'has_been', 'dedicated', 'to', 'explaining_how', 'anarchist', 'societies', 'would', 'handle', 'criminality', 'see_also', 'anarchism', 'and', 'society', 'civil_rights', 'and', 'cultural', 'sovereignty', 'black', 'anarchism', 'opposes', 'the', 'existence', 'of', 'a', 'state', 'capitalism', 'and', 'subjugation', 'and', 'domination', 'of', 'people', 'of', 'color', 'and', 'favors', 'a', 'non', 'hierarchical_organization', 'of', 'society', 'theorists', 'include', 'ashanti', 'alston', 'lorenzo', 'komboa', 'ervin', 'and', 'sam', 'mbah', 'anarchist', 'people', 'of', 'color', 'was', 'created', 'as', 'a', 'forum', 'for', 'non', 'caucasian', 'anarchists', 'to', 'express', 'their', 'thoughts', 'about', 'racial', 'issues', 'within', 'the', 'anarchist_movement', 'particularly', 'within', 'the', 'united_states', 'national', 'anarchism', 'is', 'a', 'political', 'view', 'which', 'seeks_to', 'unite', 'cultural', 'or', 'ethnic', 'preservation', 'with', 'anarchist', 'views', 'its_adherents', 'propose', 'that', 'those', 'preventing', 'ethnic_groups', 'or', 'races', 'from', 'living', 'in', 'separate', 'autonomous', 'groupings', 'should_be', 'resisted', 'anti_racist', 'action', 'is', 'not', 'an_anarchist', 'group', 'but', 'many', 'anarchists', 'are', 'involved', 'it', 'focuses_on', 'publicly', 'confronting', 'racist', 'agitators', 'the', 'zapatista', 'movement', 'of', 'chiapas_mexico', 'is', 'a', 'cultural', 'sovereignty', 'group', 'with', 'some', 'anarchist', 'proclivities', 'neocolonialism', 'and', 'globalization', 'nearly_all', 'anarchists', 'oppose', 'neocolonialism', 'as', 'an_attempt_to', 'use', 'economic_coercion', 'on', 'a', 'global_scale', 'carried_out', 'through', 'state', 'institutions', 'such_as', 'the', 'world_bank', 'world_trade_organization', 'group', 'of', 'eight', 'and', 'the', 'world_economic_forum', 'globalization', 'is', 'an', 'ambiguous', 'term', 'that', 'has', 'different_meanings', 'to', 'different', 'anarchist', 'factions', 'most', 'anarchists', 'use', 'the', 'term', 'to', 'mean', 'neocolonialism', 'and', 'or', 'cultural_imperialism', 'which', 'they', 'may', 'see', 'as', 'related', 'many', 'are', 'active', 'in', 'the', 'anti_globalization_movement', 'others', 'particularly', 'anarcho_capitalists', 'use', 'globalization', 'to', 'mean', 'the', 'worldwide', 'expansion', 'of', 'the', 'division', 'of', 'labor', 'and', 'trade', 'which', 'they', 'see', 'as', 'beneficial', 'so_long', 'as', 'governments', 'do_not', 'intervene', 'parallel', 'structures', 'many', 'anarchists', 'try_to', 'set_up', 'alternatives', 'to', 'state', 'supported', 'institutions', 'and', 'outposts', 'such_as', 'food', 'not', 'bombs', 'infoshops', 'educational', 'systems', 'such_as', 'home_schooling', 'neighborhood', 'mediation_arbitration', 'groups', 'and', 'so', 'on', 'the', 'idea', 'is', 'to_create', 'the', 'structures', 'for', 'a', 'new', 'anti_authoritarian', 'society', 'in', 'the', 'shell', 'of', 'the', 'old', 'authoritarian', 'one', 'technology', 'recent', 'technological_developments', 'have', 'made', 'the', 'anarchist', 'cause', 'both', 'easier', 'to', 'advance', 'and', 'more', 'conceivable', 'to', 'people', 'many', 'people', 'use', 'the', 'internet', 'to', 'form', 'on', 'line', 'communities', 'intellectual_property', 'is', 'undermined', 'and', 'a', 'gift', 'culture', 'supported_by', 'sharing', 'music', 'files', 'open_source', 'programming', 'and', 'the', 'free_software_movement', 'these', 'cyber', 'communities', 'include', 'the', 'gnu_linux', 'indymedia', 'and', 'wiki', 'some', 'anarchists', 'see', 'information_technology', 'as', 'the', 'best', 'weapon', 'to', 'defeat', 'authoritarianism', 'some', 'even', 'think', 'the', 'information', 'age', 'makes', 'eventual', 'anarchy', 'inevitable', 'see_also', 'crypto_anarchism', 'and', 'cypherpunk', 'pacifism', 'some', 'anarchists', 'consider', 'pacifism', 'opposition', 'to', 'war', 'to_be', 'inherent', 'in', 'their', 'philosophy', 'anarcho', 'pacifists', 'take', 'it', 'further', 'and', 'follow', 'leo_tolstoy', 's', 'belief', 'in', 'non_violence', 'anarchists', 'see', 'war', 'as', 'an', 'activity', 'in', 'which', 'the', 'state', 'seeks_to', 'gain', 'and', 'consolidate_power', 'both', 'domestically', 'and', 'in', 'foreign', 'lands', 'and', 'subscribe_to', 'randolph', 'bourne', 's', 'view', 'that', 'war', 'is', 'the', 'health', 'of', 'the', 'state', 'a_lot', 'of', 'anarchist', 'activity', 'has_been', 'anti_war', 'based', 'parliamentarianism', 'in', 'general', 'terms', 'the', 'anarchist', 'ethos', 'opposes', 'voting', 'in', 'elections', 'because', 'voting', 'amounts', 'to', 'condoning', 'the', 'state', 'voluntaryism', 'is', 'an_anarchist', 'school', 'of', 'thought', 'which', 'emphasizes', 'tending', 'your_own', 'garden', 'and', 'neither', 'ballots', 'nor', 'bullets', 'the', 'anarchist', 'case', 'against', 'voting', 'is', 'explained', 'in', 'the', 'ethics', 'of', 'voting', 'by', 'george_h', 'smith', 'also', 'see', 'voting', 'anarchists', 'an_oxymoron', 'or', 'what', 'by', 'joe', 'peacott', 'and', 'writings', 'by', 'fred', 'woodworth', 'sectarianism', 'most', 'anarchist', 'schools', 'of', 'thought', 'are', 'to_some_degree', 'sectarian', 'there_is', 'often', 'a', 'difference', 'of', 'opinion', 'within', 'each', 'school', 'about', 'how', 'to', 'react', 'to', 'or', 'interact_with', 'other', 'schools', 'some', 'such_as', 'panarchists', 'believe_that', 'it', 'is', 'possible', 'for', 'a_variety', 'of', 'modes', 'of', 'social', 'life', 'to', 'coexist', 'and', 'compete', 'some', 'anarchists', 'view', 'opposing', 'schools', 'as', 'a', 'social', 'impossibility', 'and', 'resist', 'interaction', 'others', 'see', 'opportunities_for', 'coalition', 'building', 'or', 'at_least', 'temporary', 'alliances', 'for_specific_purposes', 'see', 'anarchism', 'without', 'adjectives', 'criticisms', 'of', 'anarchism', 'main_article', 'criticisms', 'of', 'anarchism', 'violence', 'since', 'anarchism', 'has', 'often_been', 'associated_with', 'violence', 'and', 'destruction', 'some', 'people', 'have_seen', 'it', 'as', 'being', 'too', 'violent', 'on', 'the', 'other_hand', 'hand', 'frederick_engels', 'criticsed', 'anarchists', 'for', 'not', 'being', 'violent', 'enough', 'a', 'revolution', 'is', 'certainly', 'the', 'most', 'authoritarian', 'thing', 'there_is', 'it', 'is', 'the', 'act', 'whereby', 'one', 'part', 'of', 'the', 'population', 'imposes', 'its', 'will', 'upon', 'the', 'other', 'part', 'by', 'means', 'of', 'rifles', 'bayonets', 'and', 'cannon', 'authoritarian', 'means', 'if', 'such', 'there', 'be', 'at', 'all', 'and', 'if', 'the', 'victorious', 'party', 'does_not_want', 'to', 'have', 'fought', 'in', 'vain', 'it', 'must_maintain', 'this', 'rule', 'by', 'means', 'of', 'the', 'terror', 'which', 'its', 'arms', 'inspire', 'in', 'the', 'reactionists', 'would', 'the', 'paris_commune', 'have', 'lasted', 'a', 'single', 'day', 'if', 'it', 'had', 'not', 'made', 'use', 'of', 'this', 'authority', 'of', 'the', 'armed', 'people', 'against', 'the', 'bourgeois', 'utopianism', 'anarchism', 'is', 'often_criticised', 'as', 'unfeasible', 'or', 'plain', 'utopian', 'even', 'by', 'many', 'who', 'agree_that', 'it', 's', 'a', 'nice', 'idea', 'in', 'principle', 'for_example', 'carl', 'landauer', 'in', 'his', 'book', 'european', 'socialism', 'criticizes', 'anarchism', 'as', 'being', 'unrealistically', 'utopian', 'and', 'holds_that', 'government', 'is', 'a', 'lesser', 'evil', 'than', 'a', 'society', 'without', 'repressive', 'force', 'he', 'holds_that', 'the', 'belief_that', 'ill', 'intentions', 'will_cease', 'if', 'repressive', 'force', 'disappears', 'is', 'an', 'absurdity', 'however', 'it', 'must_be_noted_that', 'not', 'all', 'anarchists', 'have', 'such', 'a', 'utopian', 'view', 'of', 'anarchism', 'for_example', 'some', 'such_as', 'benjamin_tucker', 'advocate', 'privately_funded', 'institutions', 'that', 'defend', 'individual_liberty', 'and', 'property', 'however', 'other', 'anarchists', 'such_as', 'sir_herbert', 'read', 'proudly', 'accept', 'the', 'characterization', 'utopian', 'class', 'character', 'marxists', 'have', 'characterised', 'anarchism', 'as', 'an_expression', 'of', 'the', 'class', 'interests', 'of', 'the', 'petite', 'bourgeoisie', 'or', 'perhaps', 'the', 'lumpenproletariat', 'see', 'e_g', 'plekhanov', 'for', 'a', 'marxist_critique', 'of', 'one', 'eight', 'nine', 'five', 'anarchists', 'have', 'also_been', 'characterised_as', 'spoilt', 'middle_class', 'dilettantes', 'most_recently', 'in', 'relation', 'to', 'anti_capitalist', 'protesters', 'tacit', 'authoritarianism', 'in_recent_decades', 'anarchism', 'has_been_criticised', 'by', 'situationists', 'post', 'anarchists', 'and', 'others', 'of', 'preserving', 'tacitly', 'statist', 'authoritarian', 'or', 'bureaucratic', 'tendencies', 'behind', 'a', 'dogmatic', 'facade', 'hypocrisy', 'some_critics', 'point', 'to', 'the', 'sexist', 'and', 'racist_views', 'of', 'some', 'prominent', 'anarchists', 'notably', 'proudhon', 'and', 'bakunin', 'as', 'examples', 'of', 'hypocrisy', 'inherent', 'within', 'anarchism', 'while', 'many', 'anarchists', 'however', 'dismiss', 'that', 'the', 'personal', 'prejudices', 'of', 'one', 'nine', 'th_century', 'theorists', 'influence', 'the', 'beliefs', 'of', 'present_day', 'anarchists', 'others', 'criticise', 'modern', 'anarchism', 'for', 'continuing', 'to_be', 'eurocentric', 'and', 'reference', 'the', 'impact', 'of', 'anarchist', 'thinkers', 'like', 'proudhon', 'on', 'fascism', 'through', 'groups', 'like', 'cercle', 'proudhon', 'anarcho_capitalist', 'bryan', 'caplan', 'argues_that', 'the', 'treatment', 'of', 'fascists', 'and', 'suspected', 'fascist', 'sympathizers', 'by', 'spanish', 'anarchists', 'in', 'the', 'spanish_civil_war', 'was', 'a', 'form', 'of', 'illegitimate', 'coercion', 'making', 'the', 'proffessed', 'anarchists', 'ultimately', 'just', 'a', 'third', 'faction', 'of', 'totalitarians', 'alongside', 'the', 'communists', 'and', 'fascists', 'he', 'also', 'criticizes', 'the', 'willingness', 'of', 'the', 'cnt', 'to_join', 'the', 'statist', 'republican_government', 'during', 'the', 'civil_war', 'and', 'references', 'stanley', 'g', 'payne', 's', 'book', 'on', 'the', 'franco_regime', 'which', 'claims_that', 'the', 'cnt', 'entered', 'negotiations_with', 'the', 'fascist_government', 'six', 'years_after', 'the', 'war', 'cultural', 'phenomena', 'noam_chomsky', 'one', 'nine', 'two', 'eight', 'the', 'kind', 'of', 'anarchism', 'that', 'is', 'most', 'easily', 'encountered', 'in', 'popular_culture', 'is', 'represented_by', 'celebrities', 'who', 'publicly', 'identify_themselves_as', 'anarchists', 'although', 'some', 'anarchists', 'reject_any', 'focus_on', 'such', 'famous', 'living', 'individuals', 'as', 'inherently', 'litist', 'the', 'following', 'figures', 'are', 'examples', 'of', 'prominent', 'publicly', 'self', 'avowed', 'anarchists', 'the', 'mit', 'professor', 'of', 'linguistics', 'noam_chomsky', 'the', 'science_fiction_author', 'ursula_k_le_guin', 'the', 'social', 'historian', 'howard_zinn', 'entertainer', 'and', 'author', 'hans', 'alfredsson', 'the', 'avant_garde', 'artist', 'nicol', 's', 'rossell', 'in', 'denmark', 'the', 'freetown', 'christiania', 'was', 'created', 'in', 'downtown', 'copenhagen', 'the', 'housing', 'and', 'employment', 'crisis', 'in', 'most', 'of', 'western_europe', 'led', 'to', 'the', 'formation', 'of', 'communes', 'and', 'squatter', 'movements', 'like', 'the', 'one', 'still', 'thriving', 'in', 'barcelona', 'in', 'catalonia', 'militant', 'resistance', 'to', 'neo_nazi_groups', 'in', 'places_like', 'germany', 'and', 'the', 'uprisings', 'of', 'autonomous', 'marxism', 'situationist', 'and', 'autonomist', 'groups', 'in', 'france', 'and', 'italy', 'also', 'helped', 'to', 'give', 'popularity', 'to', 'anti_authoritarian', 'non', 'capitalist', 'ideas', 'in', 'various', 'musical_styles', 'anarchism', 'rose', 'in', 'popularity', 'most_famous', 'for', 'the', 'linking', 'of', 'anarchist_ideas', 'and', 'music', 'has_been', 'punk_rock', 'although', 'in', 'the', 'modern', 'age', 'hip_hop', 'and', 'folk_music', 'are', 'also', 'becoming', 'important', 'mediums', 'for', 'the', 'spreading', 'of', 'the', 'anarchist', 'message', 'in', 'the', 'uk', 'this', 'was', 'associated_with', 'the', 'punk_rock', 'movement', 'the', 'band_crass', 'is', 'celebrated', 'for', 'its', 'anarchist', 'and', 'pacifist', 'ideas', 'the', 'dutch', 'punk_band', 'the', 'ex', 'further', 'exemplifies', 'this', 'expression', 'for_further_details', 'see', 'anarcho_punk', 'see_also', 'there_are_many', 'concepts', 'relevant', 'to', 'the', 'topic', 'of', 'anarchism', 'this', 'is', 'a', 'brief_summary', 'there_is', 'also', 'a', 'more_extensive', 'list', 'of', 'anarchist', 'concepts', 'individualist_anarchism', 'anarcho_communism', 'anarcho_syndicalism', 'anarcho_capitalism', 'mutualism', 'christian_anarchism', 'anarcha_feminism', 'green_anarchism', 'nihilist', 'anarchism_anarcho', 'nationalism', 'black', 'anarchism', 'national', 'anarchism', 'post', 'anarchism', 'post', 'left', 'anarchism', 'libertarian_socialism', 'anarchist', 'symbolism', 'list', 'of', 'anarchism', 'links', 'list', 'of', 'anarchists', 'list', 'of', 'anarchist_organizations', 'major', 'conflicts', 'within', 'anarchist', 'thought', 'past', 'and', 'present', 'anarchist', 'communities', 'historical_events', 'paris_commune', 'one', 'eight', 'seven', 'one', 'haymarket_riot', 'one', 'eight', 'eight', 'six', 'the', 'makhnovschina', 'one', 'nine', 'one', 'seven', 'one', 'nine', 'two', 'one', 'kronstadt_rebellion', 'one', 'nine', 'two', 'one', 'spanish', 'revolution', 'one', 'nine', 'three', 'six', 'see', 'anarchism', 'in', 'spain', 'and', 'spanish', 'revolution', 'may', 'one', 'nine', 'six', 'eight', 'france', 'one', 'nine', 'six', 'eight', 'wto', 'meeting', 'in', 'seattle', 'one', 'nine', 'nine', 'nine', 'books', 'the', 'following', 'is', 'a', 'sample', 'of', 'books', 'that', 'have_been', 'referenced', 'in', 'this', 'page', 'a', 'more_complete_list', 'can_be_found', 'at', 'the', 'list', 'of', 'anarchist', 'books', 'mikhail_bakunin', 'god', 'and', 'the', 'state', 'emma_goldman', 'anarchism', 'other', 'essays', 'peter_kropotkin', 'mutual_aid', 'pierre_joseph_proudhon', 'what', 'is', 'property', 'rudolf_rocker', 'anarcho_syndicalism', 'murray_rothbard', 'the', 'ethics', 'of', 'liberty', 'max_stirner', 'the', 'ego', 'and', 'its_own', 'leo_tolstoy', 'the', 'kingdom', 'of', 'god', 'is', 'within', 'you', 'anarchism', 'by', 'region', 'culture', 'african', 'anarchism', 'anarchism', 'in', 'spain', 'anarchism', 'in', 'the', 'english', 'tradition', 'chinese', 'anarchism', 'references', 'these', 'notes', 'have', 'no', 'corresponding', 'reference', 'in', 'the', 'article', 'they', 'might_be', 're', 'used', 'against', 'politics', 'appleton', 'boston', 'anarchists', 'yarros', 'victor', 'liberty', 'vii', 'january', 'two', 'one', 'eight', 'nine', 'two', 'noam_chomsky', 'on', 'anarchism', 'by', 'noam_chomsky', 'external_links', 'the', 'overwhelming', 'diversity', 'and', 'number', 'of', 'links', 'relating_to', 'anarchism', 'is', 'extensively_covered', 'on', 'the', 'links', 'subpage', 'anarchoblogs', 'blogs', 'by', 'anarchists', 'anarchy', 'archives', 'extensively', 'archives', 'information', 'relating_to', 'famous', 'anarchists', 'this', 'includes', 'many', 'of', 'their', 'books', 'and', 'other', 'publications', 'hundreds', 'of', 'anarchists', 'are_listed', 'with', 'short', 'bios', 'links', 'dedicated', 'pages', 'at', 'the', 'daily', 'bleed', 's', 'anarchist', 'encyclopedia', 'infoshop_org', 'wikipedia_page', 'industrial_workers', 'of', 'the', 'world', 'anarchism', 'forms', 'of', 'government', 'political_ideology', 'entry', 'points', 'political_theories', 'social_philosophy', 'autism', 'is', 'classified_as', 'a', 'neurodevelopmental', 'disorder', 'that', 'manifests_itself', 'in', 'markedly', 'abnormal', 'social_interaction', 'communication', 'ability', 'patterns', 'of', 'interests', 'and', 'patterns', 'of', 'behavior', 'although', 'the', 'specific', 'etiology', 'of', 'autism', 'is', 'unknown', 'many', 'researchers', 'suspect', 'that', 'autism', 'results', 'from', 'genetically', 'mediated', 'vulnerabilities', 'to', 'environmental', 'triggers', 'and', 'while', 'there_is', 'disagreement_about', 'the', 'magnitude', 'nature', 'and', 'mechanisms', 'for', 'such', 'environmental_factors', 'researchers_have', 'found', 'at_least', 'seven', 'major', 'genes', 'prevalent_among', 'individuals', 'diagnosed', 'as', 'autistic', 'some', 'estimate', 'that', 'autism', 'occurs', 'in', 'as', 'many', 'as', 'one', 'united_states', 'child', 'in', 'one', 'six', 'six', 'however', 'the', 'national_institute', 'of', 'mental_health', 'gives', 'a', 'more', 'conservative_estimate', 'of', 'one', 'in', 'one', 'zero', 'zero', 'zero', 'for', 'families', 'that', 'already', 'have', 'one', 'autistic_child', 'the', 'odds', 'of', 'a', 'second', 'autistic_child', 'may_be', 'as', 'high', 'as', 'one', 'in', 'twenty', 'diagnosis', 'is', 'based_on', 'a', 'list', 'of', 'psychiatric', 'criteria', 'and', 'a', 'series', 'of', 'standardized', 'clinical_tests', 'may_also', 'be', 'used', 'autism', 'may_not', 'be', 'physiologically', 'obvious', 'a', 'complete', 'physical', 'and', 'neurological', 'evaluation', 'will', 'typically', 'be', 'part', 'of', 'diagnosing', 'autism', 'some', 'now', 'speculate_that', 'autism', 'is', 'not', 'a', 'single', 'condition', 'but', 'a', 'group', 'of', 'several', 'distinct', 'conditions', 'that', 'manifest', 'in', 'similar', 'ways', 'by', 'definition', 'autism', 'must', 'manifest', 'delays', 'in', 'social_interaction', 'language', 'as', 'used', 'in', 'social', 'communication', 'or', 'symbolic', 'or', 'imaginative', 'play', 'with', 'onset', 'prior_to', 'age', 'three', 'years', 'according_to', 'the', 'diagnostic', 'and', 'statistical_manual', 'of', 'mental_disorders', 'the', 'icd', 'one', 'zero', 'also', 'says_that', 'symptoms', 'must', 'manifest', 'before', 'the', 'age', 'of', 'three', 'years', 'there_have_been', 'large', 'increases', 'in', 'the', 'reported', 'incidence', 'of', 'autism', 'for', 'reasons', 'that', 'are', 'heavily_debated', 'by', 'researchers', 'in', 'psychology', 'and', 'related_fields', 'within', 'the', 'scientific_community', 'some', 'children', 'with', 'autism', 'have', 'improved', 'their', 'social', 'and', 'other', 'skills', 'to', 'the', 'point_where', 'they', 'can', 'fully', 'participate_in', 'mainstream', 'education', 'and', 'social_events', 'but', 'there_are', 'lingering', 'concerns', 'that', 'an_absolute', 'cure', 'from', 'autism', 'is', 'impossible', 'with', 'current', 'technology', 'however', 'many', 'autistic_children', 'and', 'adults', 'who', 'are', 'able_to_communicate', 'at_least', 'in', 'writing', 'are', 'opposed', 'to', 'attempts_to', 'cure', 'their', 'conditions', 'and', 'see', 'such', 'conditions', 'as', 'part', 'of', 'who', 'they_are', 'history', 'dr', 'hans_asperger', 'described', 'a', 'form', 'of', 'autism', 'in', 'the', 'one', 'nine', 'four', 'zero', 's', 'that', 'later_became_known_as', 'asperger_s_syndrome', 'the', 'word', 'autism', 'was', 'first', 'used', 'in', 'the', 'english_language', 'by', 'swiss_psychiatrist', 'eugene_bleuler', 'in', 'a', 'one', 'nine', 'one', 'two', 'number', 'of', 'the', 'american_journal', 'of', 'insanity', 'it', 'comes_from', 'the', 'greek_word_for', 'self', 'however', 'the', 'classification', 'of', 'autism', 'did_not_occur', 'until', 'the', 'middle', 'of', 'the', 'twentieth_century', 'when', 'in', 'one', 'nine', 'four', 'three', 'psychiatrist_dr', 'leo', 'kanner', 'of', 'the', 'johns_hopkins', 'hospital', 'in', 'baltimore', 'reported', 'on', 'one', 'one', 'child', 'patients_with', 'striking', 'behavioral', 'similarities', 'and', 'introduced', 'the', 'label', 'early_infantile', 'autism', 'he', 'suggested', 'autism', 'from', 'the', 'greek', 'autos', 'meaning', 'self', 'to_describe', 'the', 'fact_that', 'the', 'children', 'seemed', 'to', 'lack', 'interest', 'in', 'other', 'people', 'although', 'kanner', 's', 'first', 'paper', 'on', 'the', 'subject', 'was', 'published', 'in', 'a', 'now_defunct', 'journal', 'the', 'nervous', 'child', 'almost_every', 'characteristic', 'he', 'originally', 'described', 'is', 'still', 'regarded_as', 'typical', 'of', 'the', 'autistic_spectrum', 'of', 'disorders', 'at', 'the', 'same_time', 'an', 'austrian', 'scientist', 'dr', 'hans_asperger', 'described', 'a', 'different', 'form', 'of', 'autism', 'that', 'became_known_as', 'asperger_s_syndrome', 'but', 'the', 'widespread', 'recognition', 'of', 'asperger_s', 'work', 'was', 'delayed', 'by', 'world_war_ii', 'in', 'germany', 'and', 'by', 'the', 'fact_that', 'his', 'seminal', 'paper', 'wasn_t', 'translated_into_english', 'for', 'almost', 'five', 'zero', 'years', 'the', 'majority', 'of', 'his', 'work', 'wasn_t', 'widely_read', 'until', 'one', 'nine', 'nine', 'seven', 'thus', 'these', 'two', 'conditions', 'were', 'described', 'and', 'are', 'today', 'listed', 'in', 'the', 'diagnostic', 'and', 'statistical_manual', 'of', 'mental_disorders', 'dsm_iv_tr', 'fourth_edition', 'text', 'revision', 'one', 'as', 'two', 'of', 'the', 'five', 'pervasive_developmental_disorders', 'pdd', 'more', 'often_referred_to', 'today', 'as', 'autism_spectrum', 'disorders', 'asd', 'all', 'of', 'these', 'conditions', 'are', 'characterized_by', 'varying_degrees', 'of', 'difference', 'in', 'communication_skills', 'social_interactions', 'and', 'restricted', 'repetitive', 'and', 'stereotyped', 'patterns', 'of', 'behavior', 'few', 'clinicians', 'today', 'solely', 'use', 'the', 'dsm_iv', 'criteria_for', 'determining', 'a', 'diagnosis', 'of', 'autism', 'which', 'are', 'based_on', 'the', 'absence', 'or', 'delay', 'of', 'certain', 'developmental', 'milestones', 'many', 'clinicians', 'instead', 'use', 'an_alternate', 'means', 'or', 'a', 'combination_thereof', 'to', 'more_accurately', 'determine', 'a', 'diagnosis', 'terminology', 'when_referring_to', 'someone', 'diagnosed_with', 'autism', 'the', 'term', 'autistic', 'is_often_used', 'however', 'the', 'term', 'person', 'with', 'autism', 'can_be_used', 'instead', 'this', 'is', 'referred_to_as', 'person', 'first', 'terminology', 'the', 'autistic', 'community', 'generally', 'prefers', 'the', 'term', 'autistic', 'for', 'reasons', 'that', 'are', 'fairly', 'controversial', 'this_article', 'uses', 'the', 'term', 'autistic', 'see', 'talk_page', 'characteristics', 'dr_leo', 'kanner', 'introduced', 'the', 'label', 'early_infantile', 'autism', 'in', 'one', 'nine', 'four', 'three', 'there_is', 'a', 'great_diversity', 'in', 'the', 'skills', 'and', 'behaviors', 'of', 'individuals', 'diagnosed', 'as', 'autistic', 'and', 'physicians', 'will', 'often', 'arrive_at', 'different', 'conclusions_about', 'the', 'appropriate', 'diagnosis', 'much', 'of', 'this', 'is', 'due_to', 'the', 'sensory', 'system', 'of', 'an', 'autistic', 'which', 'is', 'quite_different_from', 'the', 'sensory', 'system', 'of', 'other', 'people', 'since', 'certain', 'stimulations', 'can_affect', 'an', 'autistic', 'differently_than', 'a', 'non_autistic', 'and', 'the', 'degree', 'to', 'which', 'the', 'sensory', 'system', 'is', 'affected', 'varies_wildly', 'from', 'one', 'autistic', 'person', 'to', 'another', 'nevertheless', 'professionals', 'within', 'pediatric', 'care', 'and', 'development', 'often', 'look', 'for', 'early', 'indicators', 'of', 'autism', 'in', 'order', 'to', 'initiate', 'treatment', 'as', 'early', 'as', 'possible', 'however', 'some', 'people', 'do_not_believe', 'in', 'treatment', 'for', 'autism', 'either', 'because_they_do_not', 'believe', 'autism', 'is', 'a', 'disorder', 'or', 'because_they_believe', 'treatment', 'can_do', 'more', 'harm', 'than', 'good', 'social_development', 'typically', 'developing', 'infants', 'are', 'social', 'beings', 'early', 'in', 'life', 'they_do', 'such_things', 'as', 'gaze', 'at', 'people', 'turn', 'toward', 'voices', 'grasp', 'a', 'finger', 'and', 'even', 'smile', 'in', 'contrast', 'most', 'autistic_children', 'prefer', 'objects', 'to', 'faces', 'and', 'seem_to', 'have', 'tremendous', 'difficulty_learning', 'to', 'engage', 'in', 'the', 'give', 'and', 'take', 'of', 'everyday', 'human_interaction', 'even', 'in', 'the', 'first', 'few_months', 'of', 'life', 'many', 'seem', 'indifferent', 'to', 'other', 'people', 'because_they', 'avoid', 'eye_contact', 'and', 'do_not', 'interact_with', 'them', 'as', 'often', 'as', 'non_autistic', 'children', 'children', 'with', 'autism', 'often', 'appear', 'to', 'prefer', 'being', 'alone', 'to', 'the', 'company', 'of', 'others', 'and', 'may', 'passively', 'accept', 'such_things', 'as', 'hugs', 'and', 'cuddling', 'without', 'reciprocating', 'or', 'resist', 'attention', 'altogether', 'later', 'they', 'seldom', 'seek', 'comfort', 'from', 'others', 'or', 'respond', 'to', 'parents', 'displays', 'of', 'anger', 'or', 'affection', 'in', 'a', 'typical', 'way', 'research', 'has_suggested_that', 'although', 'autistic_children', 'are', 'attached_to', 'their_parents', 'their', 'expression', 'of', 'this', 'attachment', 'is', 'unusual', 'and', 'difficult', 'to', 'interpret', 'parents', 'who', 'looked_forward_to', 'the', 'joys', 'of', 'cuddling', 'teaching', 'and', 'playing', 'with', 'their', 'child', 'may', 'feel', 'crushed', 'by', 'this', 'lack', 'of', 'expected', 'attachment', 'behavior', 'children', 'with', 'autism', 'appear', 'to', 'lack', 'theory', 'of', 'mind', 'the', 'ability_to', 'see', 'things', 'from', 'another_person', 's', 'perspective', 'a', 'behavior', 'cited', 'as', 'exclusive', 'to', 'human_beings', 'above', 'the', 'age', 'of', 'five', 'and', 'possibly', 'other', 'higher', 'primates', 'such_as', 'adult', 'gorillas', 'chimpanzees', 'and', 'bonobos', 'typical', 'five', 'year_olds', 'can', 'develop', 'insights_into', 'other', 'people', 's', 'different', 'knowledge', 'feelings', 'and', 'intentions', 'interpretations', 'based_upon', 'social', 'cues', 'e_g', 'gestures', 'facial_expressions', 'an_individual', 'with', 'autism', 'seems_to', 'lack', 'these', 'interpretation', 'skills', 'an', 'inability', 'that', 'leaves', 'them', 'unable_to', 'predict', 'or', 'understand', 'other', 'people', 's', 'actions', 'the', 'social', 'alienation', 'of', 'autistic', 'and', 'asperger_s', 'people', 'is', 'so', 'intense', 'from', 'childhood', 'that', 'many', 'of', 'them', 'have', 'imaginary_friends', 'as', 'companionship', 'however', 'having', 'an_imaginary', 'friend', 'is', 'not_necessarily', 'a', 'sign', 'of', 'autism', 'and', 'also', 'occurs', 'in', 'non_autistic', 'children', 'although', 'not', 'universal', 'it', 'is', 'common', 'for', 'autistic_people', 'to', 'not', 'regulate', 'their', 'behavior', 'this', 'can_take', 'the', 'form', 'of', 'crying', 'or', 'verbal', 'outbursts', 'that', 'may_seem', 'out', 'of', 'proportion', 'to', 'the', 'situation', 'individuals', 'with', 'autism', 'generally', 'prefer', 'consistent', 'routines', 'and', 'environments', 'they', 'may', 'react', 'negatively', 'to', 'changes', 'in', 'them', 'it', 'is_not_uncommon', 'for', 'these', 'individuals', 'to', 'exhibit', 'aggression', 'increased', 'levels', 'of', 'self', 'stimulatory', 'behavior', 'self', 'injury', 'or', 'extensive', 'withdrawal', 'in', 'overwhelming', 'situations', 'sensory', 'system', 'a', 'key', 'indicator', 'to', 'clinicians', 'making', 'a', 'proper', 'assessment', 'for', 'autism', 'would', 'include', 'looking_for', 'symptoms', 'much_like', 'those', 'found', 'in', 'sensory', 'integration', 'dysfunction', 'children', 'will', 'exhibit', 'problems', 'coping_with', 'the', 'normal', 'sensory_input', 'indicators', 'of', 'this', 'disorder', 'include', 'oversensitivity', 'or', 'underreactivity', 'to', 'touch', 'movement', 'sights', 'or', 'sounds', 'physical', 'clumsiness', 'or', 'carelessness', 'poor', 'body', 'awareness', 'a', 'tendency', 'to_be', 'easily', 'distracted', 'impulsive', 'physical', 'or', 'verbal_behavior', 'an', 'activity', 'level', 'that', 'is', 'unusually_high', 'or', 'low', 'not', 'unwinding', 'or', 'calming', 'oneself', 'difficulty_learning', 'new', 'movements', 'difficulty', 'in', 'making', 'transitions', 'from', 'one', 'situation', 'to', 'another', 'social', 'and', 'or', 'emotional_problems', 'delays', 'in', 'speech', 'language', 'or', 'motor_skills', 'specific', 'learning_difficulties', 'delays', 'in', 'academic_achievement', 'one', 'common', 'example', 'is', 'an_individual', 'with', 'autism', 'hearing', 'a', 'person', 'with', 'autism', 'may_have', 'trouble', 'hearing', 'certain', 'people', 'while', 'other', 'people', 'are', 'louder_than', 'usual', 'or', 'the', 'person', 'with', 'autism', 'may_be', 'unable_to', 'filter_out', 'sounds', 'in', 'certain_situations', 'such_as', 'in', 'a', 'large', 'crowd', 'of', 'people', 'see', 'cocktail', 'party', 'effect', 'however', 'this', 'is', 'perhaps', 'the', 'part', 'of', 'the', 'autism', 'that', 'tends_to', 'vary', 'the', 'most', 'from', 'person', 'to', 'person', 'so', 'these', 'examples', 'may', 'not_apply', 'to', 'every', 'autistic', 'it_should_be', 'noted_that', 'sensory', 'difficulties', 'although', 'reportedly', 'common', 'in', 'autistics', 'are', 'not', 'part', 'of', 'the', 'dsm_iv', 'diagnostic_criteria', 'for', 'autistic', 'disorder', 'communication', 'difficulties', 'by', 'age', 'three', 'typical', 'children', 'have', 'passed', 'predictable', 'language_learning', 'milestones', 'one', 'of', 'the', 'earliest', 'is', 'babbling', 'by', 'the', 'first', 'birthday', 'a', 'typical', 'toddler', 'says', 'words', 'turns', 'when', 'he', 'or', 'she', 'hears', 'his', 'or', 'her', 'name', 'points', 'when', 'he', 'or_she_wants', 'a', 'toy', 'and', 'when', 'offered', 'something', 'distasteful', 'makes_it', 'clear', 'that', 'the', 'answer', 'is', 'no', 'speech', 'development', 'in', 'people', 'with', 'autism', 'takes', 'different_paths', 'some', 'remain', 'mute', 'throughout_their_lives', 'while', 'being', 'fully', 'literate', 'and', 'able_to_communicate', 'in', 'other', 'ways', 'images', 'sign_language', 'and', 'typing', 'are', 'far_more', 'natural', 'to', 'them', 'some', 'infants', 'who', 'later', 'show_signs', 'of', 'autism', 'coo', 'and', 'babble', 'during', 'the', 'first', 'few_months', 'of', 'life', 'but', 'stop', 'soon_afterwards', 'others', 'may_be', 'delayed', 'developing', 'language', 'as', 'late', 'as', 'the', 'teenage_years', 'still', 'inability_to', 'speak', 'does_not_mean', 'that', 'people', 'with', 'autism', 'are', 'unintelligent', 'or', 'unaware', 'once', 'given', 'appropriate', 'accommodations', 'many', 'will', 'happily', 'converse', 'for', 'hours', 'and', 'can', 'often', 'be_found', 'in', 'online_chat', 'rooms', 'discussion_boards', 'or', 'websites', 'and', 'even', 'using', 'communication', 'devices', 'at', 'autism', 'community', 'social_events', 'such_as', 'autreat', 'those_who', 'do', 'speak', 'often', 'use', 'language', 'in', 'unusual', 'ways', 'retaining', 'features', 'of', 'earlier_stages', 'of', 'language', 'development', 'for_long_periods', 'or', 'throughout_their_lives', 'some', 'speak', 'only', 'single', 'words', 'while_others', 'repeat', 'the', 'same', 'phrase', 'over', 'and', 'over', 'some', 'repeat', 'what', 'they', 'hear', 'a', 'condition', 'called', 'echolalia', 'sing', 'song', 'repetitions', 'in', 'particular', 'are', 'a', 'calming', 'joyous', 'activity', 'that', 'many', 'autistic_adults', 'engage', 'in', 'many', 'people', 'with', 'autism', 'have', 'a', 'strong', 'tonal', 'sense', 'and', 'can', 'often', 'understand', 'spoken_language', 'some', 'children', 'may', 'exhibit', 'only', 'slight', 'delays', 'in', 'language', 'or', 'even', 'seem_to', 'have', 'precocious', 'language', 'and', 'unusually_large', 'vocabularies', 'but', 'have', 'great_difficulty', 'in', 'sustaining', 'typical', 'conversations', 'the', 'give', 'and', 'take', 'of', 'non_autistic', 'conversation', 'is', 'hard', 'for', 'them', 'although', 'they', 'often', 'carry', 'on', 'a', 'monologue', 'on', 'a', 'favorite', 'subject', 'giving', 'no', 'one', 'else', 'an_opportunity_to', 'comment', 'when', 'given', 'the', 'chance', 'to', 'converse', 'with', 'other', 'autistics', 'they', 'comfortably', 'do_so', 'in', 'parallel', 'monologue', 'taking_turns', 'expressing', 'views', 'and', 'information', 'just', 'as', 'neurotypicals', 'people', 'without', 'autism', 'have', 'trouble_understanding', 'autistic', 'body', 'languages', 'vocal', 'tones', 'or', 'phraseology', 'people', 'with', 'autism', 'similarly', 'have', 'trouble', 'with', 'such_things', 'in', 'people', 'without', 'autism', 'in', 'particular', 'autistic', 'language', 'abilities', 'tend_to_be', 'highly', 'literal', 'people', 'without', 'autism', 'often', 'inappropriately', 'attribute', 'hidden_meaning', 'to', 'what', 'people', 'with', 'autism', 'say', 'or', 'expect', 'the', 'person', 'with', 'autism', 'to', 'sense', 'such', 'unstated', 'meaning', 'in', 'their_own', 'words', 'the', 'body', 'language', 'of', 'people', 'with', 'autism', 'can_be_difficult', 'for', 'other', 'people', 'to', 'understand', 'facial_expressions', 'movements', 'and', 'gestures', 'may_be', 'easily_understood', 'by', 'some', 'other', 'people', 'with', 'autism', 'but', 'do_not_match', 'those', 'used', 'by', 'other', 'people', 'also', 'their', 'tone', 'of', 'voice', 'has', 'a', 'much_more', 'subtle', 'inflection', 'in', 'reflecting', 'their', 'feelings', 'and', 'the', 'auditory', 'system', 'of', 'a', 'person', 'without', 'autism', 'often', 'cannot', 'sense', 'the', 'fluctuations', 'what', 'seems_to', 'non_autistic', 'people', 'like', 'a', 'high_pitched', 'sing', 'song', 'or', 'flat', 'robot', 'like', 'voice', 'is', 'common', 'in', 'autistic_children', 'some', 'autistic_children', 'with', 'relatively_good', 'language', 'skills', 'speak', 'like', 'little', 'adults', 'rather_than', 'communicating', 'at', 'their', 'current', 'age', 'level', 'which', 'is', 'one', 'of', 'the', 'things', 'that', 'can_lead_to', 'problems', 'since', 'non_autistic', 'people', 'are', 'often', 'unfamiliar_with', 'the', 'autistic', 'body', 'language', 'and', 'since', 'autistic', 'natural_language', 'may_not', 'tend_towards', 'speech', 'autistic_people', 'often', 'struggle', 'to', 'let', 'other', 'people', 'know_what', 'they', 'need', 'as', 'anybody', 'might', 'do', 'in', 'such', 'a', 'situation', 'they', 'may', 'scream', 'in', 'frustration', 'or', 'resort', 'to', 'grabbing', 'what_they_want', 'while_waiting_for', 'non_autistic', 'people', 'to', 'learn', 'to', 'communicate_with', 'them', 'people', 'with', 'autism', 'do_whatever', 'they', 'can', 'to', 'get', 'through', 'to', 'them', 'communication', 'difficulties', 'may_contribute', 'to', 'autistic_people', 'becoming', 'socially', 'anxious', 'or', 'depressed', 'repetitive', 'behaviors', 'although', 'people', 'with', 'autism', 'usually', 'appear', 'physically', 'normal', 'and', 'have', 'good', 'muscle', 'control', 'unusual', 'repetitive', 'motions', 'known_as', 'self', 'stimulation', 'or', 'stimming', 'may', 'set', 'them', 'apart', 'these', 'behaviors', 'might_be', 'extreme', 'and', 'highly', 'apparent', 'or', 'more_subtle', 'some', 'children', 'and', 'older', 'individuals', 'spend_a_lot', 'of', 'time', 'repeatedly', 'flapping', 'their', 'arms', 'or', 'wiggling', 'their', 'toes', 'others', 'suddenly', 'freeze', 'in', 'position', 'as', 'children', 'they', 'might', 'spend_hours', 'lining_up', 'their', 'cars', 'and', 'trains', 'in', 'a', 'certain', 'way', 'not', 'using', 'them', 'for', 'pretend', 'play', 'if_someone', 'accidentally', 'moves', 'one', 'of', 'these', 'toys', 'the', 'child', 'may_be', 'tremendously', 'upset', 'autistic_children', 'often', 'need', 'and', 'demand', 'absolute', 'consistency', 'in', 'their', 'environment', 'a', 'slight', 'change', 'in', 'any', 'routine', 'in', 'mealtimes', 'dressing', 'taking', 'a', 'bath', 'or', 'going', 'to', 'school', 'at', 'a', 'certain', 'time', 'and', 'by', 'the', 'same', 'route', 'can_be', 'extremely', 'disturbing', 'people', 'with', 'autism', 'sometimes', 'have', 'a', 'persistent', 'intense', 'preoccupation', 'for_example', 'the', 'child', 'might_be', 'obsessed_with', 'learning', 'all', 'about', 'vacuum_cleaners', 'train', 'schedules', 'or', 'lighthouses', 'often', 'they', 'show', 'great_interest', 'in', 'different_languages', 'numbers', 'symbols', 'or', 'science', 'topics', 'repetitive', 'behaviors', 'can_also', 'extend', 'into', 'the', 'spoken_word', 'as_well', 'perseveration', 'of', 'a', 'single', 'word', 'or', 'phrase', 'even', 'for', 'a', 'specific', 'number', 'of', 'times', 'can_also', 'become', 'a', 'part', 'of', 'the', 'child', 's', 'daily_routine', 'effects', 'in', 'education', 'children', 'with', 'autism', 'are', 'affected', 'with', 'these', 'symptoms', 'every_day', 'these', 'unusual', 'characteristics', 'set', 'them', 'apart_from', 'the', 'everyday', 'normal', 'student', 'because_they_have', 'trouble_understanding', 'people', 's', 'thoughts', 'and', 'feelings', 'they', 'have', 'trouble_understanding', 'what', 'their', 'teacher', 'may_be', 'telling_them', 'they_do_not', 'understand', 'that', 'facial_expressions', 'and', 'vocal', 'variations', 'hold', 'meanings', 'and', 'may', 'misinterpret', 'what', 'emotion', 'their', 'instructor', 'is', 'displaying', 'this', 'inability_to', 'fully', 'decipher', 'the', 'world', 'around', 'them', 'makes', 'education', 'stressful', 'teachers', 'need', 'to_be', 'aware', 'of', 'a', 'student', 's', 'disorder', 'so', 'that', 'they_are', 'able_to', 'help', 'the', 'student', 'get', 'the', 'best', 'out', 'of', 'the', 'lessons', 'being', 'taught', 'some', 'students', 'learn', 'better', 'with', 'visual', 'aids', 'as', 'they_are', 'better_able_to', 'understand', 'material', 'presented', 'this', 'way', 'because', 'of', 'this', 'many', 'teachers', 'create', 'visual', 'schedules', 'for', 'their', 'autistic', 'students', 'this_allows', 'the', 'student', 'to', 'know_what', 'is', 'going', 'on', 'throughout', 'the', 'day', 'so', 'they', 'know_what', 'to_prepare', 'for', 'and', 'what', 'activity', 'they', 'will_be', 'doing', 'next', 'some', 'autistic_children', 'have', 'trouble', 'going', 'from', 'one', 'activity', 'to', 'the', 'next', 'so', 'this', 'visual', 'schedule', 'can_help', 'to_reduce', 'stress', 'research', 'has_shown', 'that', 'working', 'in', 'pairs', 'may_be', 'beneficial', 'to', 'autistic_children', 'autistic', 'students', 'have', 'problems', 'in', 'schools', 'not_only', 'with', 'language', 'and', 'communication', 'but', 'with', 'socialization', 'as_well', 'they_feel', 'self_conscious', 'about', 'themselves', 'and', 'many', 'feel_that', 'they', 'will_always_be', 'outcasts', 'by', 'allowing_them_to', 'work', 'with', 'peers', 'they', 'can_make', 'friends', 'which', 'in', 'turn', 'can_help', 'them', 'cope_with', 'the', 'problems', 'that', 'arise', 'by', 'doing_so', 'they', 'can_become', 'more', 'integrated_into', 'the', 'mainstream', 'environment', 'of', 'the', 'classroom', 'a', 'teacher', 's', 'aide', 'can_also', 'be', 'useful', 'to', 'the', 'student', 'the', 'aide', 'is', 'able_to_give', 'more_elaborate', 'directions', 'that', 'the', 'teacher', 'may_not', 'have', 'time', 'to_explain', 'to', 'the', 'autistic_child', 'the', 'aide', 'can_also', 'facilitate', 'the', 'autistic_child', 'in', 'such', 'a', 'way', 'as', 'to', 'allow_them_to', 'stay', 'at', 'a', 'similar', 'level', 'to', 'the', 'rest', 'of', 'the', 'class', 'this_allows', 'a', 'partially', 'one', 'on', 'one', 'lesson', 'structure', 'so', 'that', 'the', 'child', 'is', 'still', 'able_to', 'stay', 'in', 'a', 'normal', 'classroom', 'but', 'be', 'given', 'the', 'extra', 'help', 'that', 'they', 'need', 'there_are_many', 'different', 'techniques', 'that', 'teachers', 'can', 'use', 'to_assist', 'their', 'students', 'a', 'teacher', 'needs', 'to', 'become_familiar', 'with', 'the', 'child', 's', 'disorder', 'to', 'know_what', 'will', 'work', 'best', 'with', 'that', 'particular', 'child', 'every', 'child', 'is', 'going', 'to_be', 'different', 'and', 'teachers', 'have', 'to', 'be_able_to', 'adjust', 'with', 'every', 'one', 'of', 'them', 'students', 'with', 'autism_spectrum', 'disorders', 'typically', 'have', 'high_levels', 'of', 'anxiety', 'and', 'stress', 'particularly', 'in', 'social', 'environments', 'like', 'school', 'if', 'a', 'student', 'exhibits', 'aggressive', 'or', 'explosive', 'behavior', 'it', 'is', 'important', 'for', 'educational', 'teams', 'to', 'recognize', 'the', 'impact', 'of', 'stress', 'and', 'anxiety', 'preparing', 'students', 'for', 'new', 'situations', 'by', 'writing', 'social', 'stories', 'can', 'lower', 'anxiety', 'teaching', 'social', 'and', 'emotional', 'concepts', 'using', 'systematic', 'teaching', 'approaches', 'such_as', 'the', 'incredible', 'five', 'point', 'scale', 'or', 'other', 'cognitive_behavioral', 'strategies', 'can', 'increase', 'a', 'student', 's', 'ability_to', 'control', 'excessive', 'behavioral', 'reactions', 'dsm', 'definition', 'autism', 'is', 'defined', 'in', 'section', 'two', 'nine', 'nine', 'zero', 'zero', 'of', 'the', 'diagnostic', 'and', 'statistical_manual', 'of', 'mental_disorders', 'dsm_iv', 'as', 'a', 'total', 'of', 'six', 'or', 'more', 'items', 'from', 'one', 'two', 'and', 'three', 'with', 'at_least', 'two', 'from', 'one', 'and', 'one', 'each', 'from', 'two', 'and', 'three', 'qualitative', 'impairment', 'in', 'social_interaction', 'as', 'manifested', 'by', 'at_least', 'two', 'of', 'the', 'following', 'marked_impairment', 'in', 'the', 'use', 'of', 'multiple', 'nonverbal', 'behaviors', 'such_as', 'eye', 'to', 'eye', 'gaze', 'facial_expression', 'body', 'postures', 'and', 'gestures', 'to', 'regulate', 'social_interaction', 'failure', 'to', 'develop', 'peer', 'relationships', 'appropriate', 'to', 'developmental', 'level', 'a', 'lack', 'of', 'spontaneous', 'seeking', 'to', 'share', 'enjoyment', 'interests', 'or', 'achievements', 'with', 'other', 'people', 'e_g', 'by', 'a', 'lack', 'of', 'showing', 'bringing', 'or', 'pointing_out', 'objects', 'of', 'interest', 'lack', 'of', 'social', 'or', 'emotional']\n"
          ]
        }
      ]
    },
    {
      "cell_type": "markdown",
      "source": [
        "# Как создавать тематические модели с LDA?"
      ],
      "metadata": {
        "id": "WIK0_0O5RLHn"
      }
    },
    {
      "cell_type": "markdown",
      "source": [
        "Как создавать тематические модели с LDA?\n",
        "Целью тематических моделей является извлечение основных тем из заданного набора текстовых документов. Каждый документ в тексте рассматривается как комбинация тем, а каждая тема — как комбинация связанных слов.\n",
        "\n",
        "Тематическое моделирование может выполняться с помощью таких алгоритмов, как скрытое распределение Дирихле (LDA) и скрытое семантическое индексирование (LSI).\n",
        "\n",
        "В обоих случаях вам нужно указать количество тем в качестве входных данных. Модель темы, в свою очередь, предоставит ключевые слова темы для каждой темы и процентное содержание тем в каждом документе.\n",
        "\n",
        "Качество тем сильно зависит от качества обработки текста и количества тем, которые вы предоставляете алгоритму.\n",
        "\n",
        "**Шаг 0:** Загрузите необходимые пакеты и импортируйте стоп-слова."
      ],
      "metadata": {
        "id": "XHHBqszbRMH0"
      }
    },
    {
      "cell_type": "code",
      "source": [
        "%cd datasets"
      ],
      "metadata": {
        "colab": {
          "base_uri": "https://localhost:8080/"
        },
        "id": "EtfkNSFeTgJ5",
        "outputId": "7112c2b8-2607-44b5-9a8f-4ad37e336195"
      },
      "execution_count": null,
      "outputs": [
        {
          "output_type": "stream",
          "name": "stdout",
          "text": [
            "/content/datasets\n"
          ]
        }
      ]
    },
    {
      "cell_type": "code",
      "source": [
        "# Step 0: Import packages and stopwords\n",
        "from gensim.models import LdaModel, LdaMulticore\n",
        "import gensim.downloader as api\n",
        "from gensim.utils import simple_preprocess, lemmatize\n",
        "from nltk.corpus import stopwords\n",
        "import re\n",
        "import logging\n",
        "logging.basicConfig(format='%(asctime)s : %(levelname)s : %(message)s')\n",
        "logging.root.setLevel(level=logging.INFO)\n",
        "stop_words = stopwords.words('english')\n",
        "stop_words = stop_words + ['com', 'edu', 'subject', 'lines', 'organization', 'would', 'article', 'could']"
      ],
      "metadata": {
        "id": "e8GPKWlhRRvc"
      },
      "execution_count": null,
      "outputs": []
    },
    {
      "cell_type": "markdown",
      "source": [
        "**Шаг 1:** Импортируйте набор данных. Я собираюсь использовать набор данных text8, который можно загрузить с помощью API-загрузчика gensim."
      ],
      "metadata": {
        "id": "gpLx26jdRV2v"
      }
    },
    {
      "cell_type": "code",
      "source": [
        "# Step 1: Import the dataset and get the text and real topic of each news article\n",
        "dataset = api.load(\"text8\")\n",
        "data = [d for d in dataset]"
      ],
      "metadata": {
        "id": "DEw-18hyRXrY"
      },
      "execution_count": null,
      "outputs": []
    },
    {
      "cell_type": "markdown",
      "source": [
        "**Шаг 2:** Подготовьте загруженные данные, удалив стоп-слова и лемматизируя их. Для лемматизации, gensim использует пакет pattern. Поэтому обязательно запустите pip install pattern в своем терминале. Я настроил лемматизацию таким образом, что сохраняются только существительные (NN), прилагательные (JJ) и местоимения (RB). Только лишь потому что я предпочитаю, чтобы в качестве ключевых слов темы использовались только такие слова. Это исключительно мой личный выбор."
      ],
      "metadata": {
        "id": "6rLOjwctRuNp"
      }
    },
    {
      "cell_type": "code",
      "source": [
        "!pip install pattern"
      ],
      "metadata": {
        "colab": {
          "base_uri": "https://localhost:8080/"
        },
        "id": "kvH6GdqfTNAR",
        "outputId": "19c5be57-f6bd-491a-c99f-d7c166ee7ee0"
      },
      "execution_count": null,
      "outputs": [
        {
          "output_type": "stream",
          "name": "stdout",
          "text": [
            "Looking in indexes: https://pypi.org/simple, https://us-python.pkg.dev/colab-wheels/public/simple/\n",
            "Requirement already satisfied: pattern in /usr/local/lib/python3.7/dist-packages (3.6)\n",
            "Requirement already satisfied: nltk in /usr/local/lib/python3.7/dist-packages (from pattern) (3.7)\n",
            "Requirement already satisfied: requests in /usr/local/lib/python3.7/dist-packages (from pattern) (2.23.0)\n",
            "Requirement already satisfied: beautifulsoup4 in /usr/local/lib/python3.7/dist-packages (from pattern) (4.6.3)\n",
            "Requirement already satisfied: pdfminer.six in /usr/local/lib/python3.7/dist-packages (from pattern) (20220524)\n",
            "Requirement already satisfied: scipy in /usr/local/lib/python3.7/dist-packages (from pattern) (1.7.3)\n",
            "Requirement already satisfied: backports.csv in /usr/local/lib/python3.7/dist-packages (from pattern) (1.0.7)\n",
            "Requirement already satisfied: feedparser in /usr/local/lib/python3.7/dist-packages (from pattern) (6.0.10)\n",
            "Requirement already satisfied: mysqlclient in /usr/local/lib/python3.7/dist-packages (from pattern) (2.1.1)\n",
            "Requirement already satisfied: python-docx in /usr/local/lib/python3.7/dist-packages (from pattern) (0.8.11)\n",
            "Requirement already satisfied: lxml in /usr/local/lib/python3.7/dist-packages (from pattern) (4.9.1)\n",
            "Requirement already satisfied: numpy in /usr/local/lib/python3.7/dist-packages (from pattern) (1.21.6)\n",
            "Requirement already satisfied: cherrypy in /usr/local/lib/python3.7/dist-packages (from pattern) (18.8.0)\n",
            "Requirement already satisfied: future in /usr/local/lib/python3.7/dist-packages (from pattern) (0.16.0)\n",
            "Requirement already satisfied: portend>=2.1.1 in /usr/local/lib/python3.7/dist-packages (from cherrypy->pattern) (3.1.0)\n",
            "Requirement already satisfied: jaraco.collections in /usr/local/lib/python3.7/dist-packages (from cherrypy->pattern) (3.5.2)\n",
            "Requirement already satisfied: zc.lockfile in /usr/local/lib/python3.7/dist-packages (from cherrypy->pattern) (2.0)\n",
            "Requirement already satisfied: cheroot>=8.2.1 in /usr/local/lib/python3.7/dist-packages (from cherrypy->pattern) (8.6.0)\n",
            "Requirement already satisfied: more-itertools in /usr/local/lib/python3.7/dist-packages (from cherrypy->pattern) (8.13.0)\n",
            "Requirement already satisfied: jaraco.functools in /usr/local/lib/python3.7/dist-packages (from cheroot>=8.2.1->cherrypy->pattern) (3.5.1)\n",
            "Requirement already satisfied: six>=1.11.0 in /usr/local/lib/python3.7/dist-packages (from cheroot>=8.2.1->cherrypy->pattern) (1.15.0)\n",
            "Requirement already satisfied: tempora>=1.8 in /usr/local/lib/python3.7/dist-packages (from portend>=2.1.1->cherrypy->pattern) (5.0.2)\n",
            "Requirement already satisfied: pytz in /usr/local/lib/python3.7/dist-packages (from tempora>=1.8->portend>=2.1.1->cherrypy->pattern) (2022.1)\n",
            "Requirement already satisfied: sgmllib3k in /usr/local/lib/python3.7/dist-packages (from feedparser->pattern) (1.0.0)\n",
            "Requirement already satisfied: jaraco.classes in /usr/local/lib/python3.7/dist-packages (from jaraco.collections->cherrypy->pattern) (3.2.2)\n",
            "Requirement already satisfied: jaraco.text in /usr/local/lib/python3.7/dist-packages (from jaraco.collections->cherrypy->pattern) (3.8.1)\n",
            "Requirement already satisfied: jaraco.context>=4.1 in /usr/local/lib/python3.7/dist-packages (from jaraco.text->jaraco.collections->cherrypy->pattern) (4.1.2)\n",
            "Requirement already satisfied: importlib-resources in /usr/local/lib/python3.7/dist-packages (from jaraco.text->jaraco.collections->cherrypy->pattern) (5.9.0)\n",
            "Requirement already satisfied: zipp>=3.1.0 in /usr/local/lib/python3.7/dist-packages (from importlib-resources->jaraco.text->jaraco.collections->cherrypy->pattern) (3.8.1)\n",
            "Requirement already satisfied: tqdm in /usr/local/lib/python3.7/dist-packages (from nltk->pattern) (4.64.0)\n",
            "Requirement already satisfied: joblib in /usr/local/lib/python3.7/dist-packages (from nltk->pattern) (1.1.0)\n",
            "Requirement already satisfied: regex>=2021.8.3 in /usr/local/lib/python3.7/dist-packages (from nltk->pattern) (2022.6.2)\n",
            "Requirement already satisfied: click in /usr/local/lib/python3.7/dist-packages (from nltk->pattern) (7.1.2)\n",
            "Requirement already satisfied: cryptography>=36.0.0 in /usr/local/lib/python3.7/dist-packages (from pdfminer.six->pattern) (37.0.4)\n",
            "Requirement already satisfied: charset-normalizer>=2.0.0 in /usr/local/lib/python3.7/dist-packages (from pdfminer.six->pattern) (2.1.0)\n",
            "Requirement already satisfied: cffi>=1.12 in /usr/local/lib/python3.7/dist-packages (from cryptography>=36.0.0->pdfminer.six->pattern) (1.15.1)\n",
            "Requirement already satisfied: pycparser in /usr/local/lib/python3.7/dist-packages (from cffi>=1.12->cryptography>=36.0.0->pdfminer.six->pattern) (2.21)\n",
            "Requirement already satisfied: certifi>=2017.4.17 in /usr/local/lib/python3.7/dist-packages (from requests->pattern) (2022.6.15)\n",
            "Requirement already satisfied: urllib3!=1.25.0,!=1.25.1,<1.26,>=1.21.1 in /usr/local/lib/python3.7/dist-packages (from requests->pattern) (1.24.3)\n",
            "Requirement already satisfied: idna<3,>=2.5 in /usr/local/lib/python3.7/dist-packages (from requests->pattern) (2.10)\n",
            "Requirement already satisfied: chardet<4,>=3.0.2 in /usr/local/lib/python3.7/dist-packages (from requests->pattern) (3.0.4)\n",
            "Requirement already satisfied: setuptools in /usr/local/lib/python3.7/dist-packages (from zc.lockfile->cherrypy->pattern) (57.4.0)\n"
          ]
        }
      ]
    },
    {
      "cell_type": "code",
      "source": [
        "# Step 2: Prepare Data (Remove stopwords and lemmatize)\n",
        "\n",
        "data_processed = []\n",
        "\n",
        "for i, doc in enumerate(data[:100]):\n",
        "    doc_out = []\n",
        "    for wd in doc:\n",
        "        if wd not in stop_words:  # remove stopwords\n",
        "            lemmatized_word = lemmatize(wd, allowed_tags=re.compile('(JJ)'))  # lemmatize\n",
        "            if lemmatized_word:\n",
        "                doc_out = doc_out + [lemmatized_word[0].split(b'/')[0].decode('utf-8')]\n",
        "        else:\n",
        "            continue\n",
        "    data_processed.append(doc_out)\n",
        "\n",
        "# Print a small sample    \n",
        "print(data_processed[0][:5]) \n",
        "#> ['anarchism', 'originated', 'term', 'abuse', 'first']"
      ],
      "metadata": {
        "id": "ORy1yaoiRv7h"
      },
      "execution_count": null,
      "outputs": []
    },
    {
      "cell_type": "markdown",
      "source": [
        "**Шаг 3. `data_processed`** теперь обрабатывается как список слов. Теперь вы можете использовать его для создания словаря и корпуса, которые затем будут использоваться в качестве входных данных для модели LDA."
      ],
      "metadata": {
        "id": "qvkbpIvvZjFp"
      }
    },
    {
      "cell_type": "code",
      "source": [
        "# Step 3: Create the Inputs of LDA model: Dictionary and Corpus\n",
        "dct = corpora.Dictionary(data_processed)\n",
        "corpus = [dct.doc2bow(line) for line in data_processed]"
      ],
      "metadata": {
        "colab": {
          "base_uri": "https://localhost:8080/"
        },
        "id": "dwY4UHdiZqEN",
        "outputId": "ba4fdbc6-a905-49f6-d44b-65ccd34a49fd"
      },
      "execution_count": null,
      "outputs": [
        {
          "output_type": "stream",
          "name": "stderr",
          "text": [
            "INFO:gensim.corpora.dictionary:adding document #0 to Dictionary(0 unique tokens: [])\n",
            "INFO:gensim.corpora.dictionary:built Dictionary(6887 unique tokens: ['able', 'abnormal', 'absolute', 'academic', 'active']...) from 100 documents (total 84531 corpus positions)\n"
          ]
        }
      ]
    },
    {
      "cell_type": "markdown",
      "source": [
        "**Шаг 4.** Теперь у нас есть словарь и корпус. Давайте создадим модель темы LDA с 7 темами, используя **`LdaMulticore()`**. 7 тем — произвольный выбор на данный момент."
      ],
      "metadata": {
        "id": "9UYnS8NGZxp0"
      }
    },
    {
      "cell_type": "code",
      "source": [
        "# Step 4: Train the LDA model\n",
        "lda_model = LdaMulticore(corpus=corpus,\n",
        "                         id2word=dct,\n",
        "                         random_state=100,\n",
        "                         num_topics=7,\n",
        "                         passes=10,\n",
        "                         chunksize=1000,\n",
        "                         batch=False,\n",
        "                         alpha='asymmetric',\n",
        "                         decay=0.5,\n",
        "                         offset=64,\n",
        "                         eta=None,\n",
        "                         eval_every=0,\n",
        "                         iterations=100,\n",
        "                         gamma_threshold=0.001,\n",
        "                         per_word_topics=True)\n",
        "\n",
        "# save the model\n",
        "lda_model.save('lda_model.model')\n",
        "\n",
        "# See the topics\n",
        "lda_model.print_topics(-1)\n"
      ],
      "metadata": {
        "colab": {
          "base_uri": "https://localhost:8080/"
        },
        "id": "9thgXjyHZ01V",
        "outputId": "30c3c9bb-4987-43eb-ffce-efab3240d13f"
      },
      "execution_count": null,
      "outputs": [
        {
          "output_type": "stream",
          "name": "stderr",
          "text": [
            "INFO:gensim.models.ldamodel:using asymmetric alpha [0.26219156, 0.19027454, 0.14931786, 0.12287004, 0.104381524, 0.090729296, 0.080235206]\n",
            "INFO:gensim.models.ldamodel:using symmetric eta at 0.14285714285714285\n",
            "INFO:gensim.models.ldamodel:using serial LDA version on this node\n",
            "INFO:gensim.models.ldamulticore:running online LDA training, 7 topics, 10 passes over the supplied corpus of 100 documents, updating every 1000 documents, evaluating every ~0 documents, iterating 100x with a convergence threshold of 0.001000\n",
            "INFO:gensim.models.ldamulticore:training LDA model using 1 processes\n",
            "INFO:gensim.models.ldamulticore:PROGRESS: pass 0, dispatched chunk #0 = documents up to #100/100, outstanding queue size 1\n",
            "INFO:gensim.models.ldamodel:topic #6 (0.080): 0.003*\"many\" + 0.002*\"new\" + 0.002*\"american\" + 0.002*\"amber\" + 0.002*\"first\" + 0.001*\"human\" + 0.001*\"political\" + 0.001*\"common\" + 0.001*\"large\" + 0.001*\"several\"\n",
            "INFO:gensim.models.ldamodel:topic #5 (0.091): 0.002*\"arabic\" + 0.001*\"american\" + 0.001*\"first\" + 0.001*\"many\" + 0.001*\"new\" + 0.001*\"much\" + 0.001*\"important\" + 0.001*\"austrian\" + 0.001*\"general\" + 0.001*\"national\"\n",
            "INFO:gensim.models.ldamodel:topic #2 (0.149): 0.002*\"first\" + 0.002*\"many\" + 0.001*\"american\" + 0.001*\"new\" + 0.001*\"original\" + 0.001*\"christian\" + 0.001*\"common\" + 0.001*\"general\" + 0.001*\"much\" + 0.001*\"free\"\n",
            "INFO:gensim.models.ldamodel:topic #1 (0.190): 0.002*\"first\" + 0.001*\"many\" + 0.001*\"asteroid\" + 0.001*\"ancient\" + 0.001*\"much\" + 0.001*\"small\" + 0.001*\"common\" + 0.001*\"great\" + 0.001*\"important\" + 0.001*\"japanese\"\n",
            "INFO:gensim.models.ldamodel:topic #0 (0.262): 0.013*\"american\" + 0.009*\"first\" + 0.007*\"many\" + 0.006*\"new\" + 0.004*\"french\" + 0.004*\"british\" + 0.003*\"national\" + 0.003*\"great\" + 0.003*\"general\" + 0.003*\"several\"\n",
            "INFO:gensim.models.ldamodel:topic diff=0.187506, rho=0.125000\n",
            "INFO:gensim.models.ldamodel:-8.181 per-word bound, 290.3 perplexity estimate based on a held-out corpus of 100 documents with 84531 words\n",
            "INFO:gensim.models.ldamulticore:PROGRESS: pass 1, dispatched chunk #0 = documents up to #100/100, outstanding queue size 1\n",
            "INFO:gensim.models.ldamodel:topic #6 (0.080): 0.003*\"amber\" + 0.003*\"many\" + 0.002*\"new\" + 0.002*\"american\" + 0.002*\"first\" + 0.001*\"human\" + 0.001*\"political\" + 0.001*\"common\" + 0.001*\"large\" + 0.001*\"several\"\n",
            "INFO:gensim.models.ldamodel:topic #5 (0.091): 0.003*\"arabic\" + 0.001*\"american\" + 0.001*\"first\" + 0.001*\"many\" + 0.001*\"new\" + 0.001*\"much\" + 0.001*\"important\" + 0.001*\"austrian\" + 0.001*\"general\" + 0.001*\"western\"\n",
            "INFO:gensim.models.ldamodel:topic #2 (0.149): 0.002*\"first\" + 0.002*\"many\" + 0.001*\"american\" + 0.001*\"new\" + 0.001*\"original\" + 0.001*\"christian\" + 0.001*\"common\" + 0.001*\"general\" + 0.001*\"much\" + 0.001*\"free\"\n",
            "INFO:gensim.models.ldamodel:topic #1 (0.190): 0.002*\"first\" + 0.001*\"many\" + 0.001*\"asteroid\" + 0.001*\"ancient\" + 0.001*\"much\" + 0.001*\"small\" + 0.001*\"common\" + 0.001*\"great\" + 0.001*\"important\" + 0.001*\"japanese\"\n",
            "INFO:gensim.models.ldamodel:topic #0 (0.262): 0.017*\"american\" + 0.015*\"first\" + 0.012*\"many\" + 0.010*\"new\" + 0.006*\"british\" + 0.005*\"french\" + 0.005*\"national\" + 0.005*\"great\" + 0.005*\"general\" + 0.004*\"several\"\n",
            "INFO:gensim.models.ldamodel:topic diff=0.118090, rho=0.123939\n",
            "INFO:gensim.models.ldamodel:-7.823 per-word bound, 226.5 perplexity estimate based on a held-out corpus of 100 documents with 84531 words\n",
            "INFO:gensim.models.ldamulticore:PROGRESS: pass 2, dispatched chunk #0 = documents up to #100/100, outstanding queue size 1\n",
            "INFO:gensim.models.ldamodel:topic #6 (0.080): 0.005*\"amber\" + 0.003*\"many\" + 0.002*\"new\" + 0.002*\"american\" + 0.002*\"first\" + 0.001*\"human\" + 0.001*\"political\" + 0.001*\"common\" + 0.001*\"large\" + 0.001*\"several\"\n",
            "INFO:gensim.models.ldamodel:topic #5 (0.091): 0.003*\"arabic\" + 0.001*\"american\" + 0.001*\"first\" + 0.001*\"many\" + 0.001*\"new\" + 0.001*\"much\" + 0.001*\"important\" + 0.001*\"austrian\" + 0.001*\"general\" + 0.001*\"western\"\n",
            "INFO:gensim.models.ldamodel:topic #2 (0.149): 0.002*\"first\" + 0.001*\"many\" + 0.001*\"american\" + 0.001*\"new\" + 0.001*\"original\" + 0.001*\"christian\" + 0.001*\"common\" + 0.001*\"general\" + 0.001*\"much\" + 0.001*\"free\"\n",
            "INFO:gensim.models.ldamodel:topic #1 (0.190): 0.002*\"first\" + 0.001*\"many\" + 0.001*\"asteroid\" + 0.001*\"ancient\" + 0.001*\"much\" + 0.001*\"small\" + 0.001*\"common\" + 0.001*\"great\" + 0.001*\"important\" + 0.001*\"japanese\"\n",
            "INFO:gensim.models.ldamodel:topic #0 (0.262): 0.018*\"american\" + 0.017*\"first\" + 0.014*\"many\" + 0.011*\"new\" + 0.006*\"british\" + 0.006*\"french\" + 0.006*\"national\" + 0.005*\"great\" + 0.005*\"general\" + 0.005*\"several\"\n",
            "INFO:gensim.models.ldamodel:topic diff=0.095309, rho=0.122998\n",
            "INFO:gensim.models.ldamodel:-7.719 per-word bound, 210.7 perplexity estimate based on a held-out corpus of 100 documents with 84531 words\n",
            "INFO:gensim.models.ldamulticore:PROGRESS: pass 3, dispatched chunk #0 = documents up to #100/100, outstanding queue size 1\n",
            "INFO:gensim.models.ldamodel:topic #6 (0.080): 0.007*\"amber\" + 0.002*\"many\" + 0.002*\"new\" + 0.002*\"american\" + 0.002*\"first\" + 0.001*\"human\" + 0.001*\"political\" + 0.001*\"common\" + 0.001*\"large\" + 0.001*\"several\"\n",
            "INFO:gensim.models.ldamodel:topic #5 (0.091): 0.003*\"arabic\" + 0.001*\"american\" + 0.001*\"first\" + 0.001*\"many\" + 0.001*\"new\" + 0.001*\"much\" + 0.001*\"important\" + 0.001*\"austrian\" + 0.001*\"general\" + 0.001*\"western\"\n",
            "INFO:gensim.models.ldamodel:topic #2 (0.149): 0.002*\"first\" + 0.001*\"many\" + 0.001*\"american\" + 0.001*\"new\" + 0.001*\"original\" + 0.001*\"christian\" + 0.001*\"common\" + 0.001*\"general\" + 0.001*\"much\" + 0.001*\"free\"\n",
            "INFO:gensim.models.ldamodel:topic #1 (0.190): 0.002*\"first\" + 0.001*\"many\" + 0.001*\"asteroid\" + 0.001*\"ancient\" + 0.001*\"much\" + 0.001*\"small\" + 0.001*\"common\" + 0.001*\"great\" + 0.001*\"important\" + 0.001*\"japanese\"\n",
            "INFO:gensim.models.ldamodel:topic #0 (0.262): 0.019*\"american\" + 0.018*\"first\" + 0.015*\"many\" + 0.012*\"new\" + 0.007*\"british\" + 0.006*\"french\" + 0.006*\"national\" + 0.006*\"great\" + 0.006*\"general\" + 0.005*\"several\"\n",
            "INFO:gensim.models.ldamodel:topic diff=0.092033, rho=0.122078\n",
            "INFO:gensim.models.ldamodel:-7.660 per-word bound, 202.2 perplexity estimate based on a held-out corpus of 100 documents with 84531 words\n",
            "INFO:gensim.models.ldamulticore:PROGRESS: pass 4, dispatched chunk #0 = documents up to #100/100, outstanding queue size 1\n",
            "INFO:gensim.models.ldamodel:topic #6 (0.080): 0.009*\"amber\" + 0.002*\"many\" + 0.002*\"new\" + 0.002*\"american\" + 0.002*\"first\" + 0.001*\"human\" + 0.001*\"political\" + 0.001*\"common\" + 0.001*\"baltic\" + 0.001*\"large\"\n",
            "INFO:gensim.models.ldamodel:topic #5 (0.091): 0.003*\"arabic\" + 0.001*\"american\" + 0.001*\"first\" + 0.001*\"many\" + 0.001*\"new\" + 0.001*\"much\" + 0.001*\"important\" + 0.001*\"austrian\" + 0.001*\"general\" + 0.001*\"western\"\n",
            "INFO:gensim.models.ldamodel:topic #2 (0.149): 0.002*\"first\" + 0.001*\"many\" + 0.001*\"american\" + 0.001*\"new\" + 0.001*\"original\" + 0.001*\"christian\" + 0.001*\"common\" + 0.001*\"general\" + 0.001*\"much\" + 0.001*\"free\"\n",
            "INFO:gensim.models.ldamodel:topic #1 (0.190): 0.002*\"first\" + 0.001*\"many\" + 0.001*\"asteroid\" + 0.001*\"ancient\" + 0.001*\"much\" + 0.001*\"small\" + 0.001*\"common\" + 0.001*\"great\" + 0.001*\"important\" + 0.001*\"japanese\"\n",
            "INFO:gensim.models.ldamodel:topic #0 (0.262): 0.019*\"american\" + 0.019*\"first\" + 0.015*\"many\" + 0.013*\"new\" + 0.007*\"british\" + 0.006*\"french\" + 0.006*\"national\" + 0.006*\"great\" + 0.006*\"general\" + 0.006*\"several\"\n",
            "INFO:gensim.models.ldamodel:topic diff=0.094170, rho=0.121179\n",
            "INFO:gensim.models.ldamodel:-7.617 per-word bound, 196.2 perplexity estimate based on a held-out corpus of 100 documents with 84531 words\n",
            "INFO:gensim.models.ldamulticore:PROGRESS: pass 5, dispatched chunk #0 = documents up to #100/100, outstanding queue size 1\n",
            "INFO:gensim.models.ldamodel:topic #6 (0.080): 0.011*\"amber\" + 0.002*\"many\" + 0.002*\"new\" + 0.001*\"american\" + 0.001*\"first\" + 0.001*\"baltic\" + 0.001*\"human\" + 0.001*\"political\" + 0.001*\"common\" + 0.001*\"large\"\n",
            "INFO:gensim.models.ldamodel:topic #5 (0.091): 0.003*\"arabic\" + 0.001*\"american\" + 0.001*\"first\" + 0.001*\"many\" + 0.001*\"new\" + 0.001*\"much\" + 0.001*\"important\" + 0.001*\"austrian\" + 0.001*\"general\" + 0.001*\"western\"\n",
            "INFO:gensim.models.ldamodel:topic #2 (0.149): 0.002*\"first\" + 0.001*\"many\" + 0.001*\"american\" + 0.001*\"new\" + 0.001*\"original\" + 0.001*\"christian\" + 0.001*\"common\" + 0.001*\"general\" + 0.001*\"much\" + 0.001*\"free\"\n",
            "INFO:gensim.models.ldamodel:topic #1 (0.190): 0.002*\"first\" + 0.001*\"many\" + 0.001*\"asteroid\" + 0.001*\"ancient\" + 0.001*\"much\" + 0.001*\"small\" + 0.001*\"common\" + 0.001*\"great\" + 0.001*\"important\" + 0.001*\"japanese\"\n",
            "INFO:gensim.models.ldamodel:topic #0 (0.262): 0.020*\"american\" + 0.019*\"first\" + 0.016*\"many\" + 0.013*\"new\" + 0.007*\"british\" + 0.006*\"french\" + 0.006*\"national\" + 0.006*\"great\" + 0.006*\"general\" + 0.006*\"several\"\n",
            "INFO:gensim.models.ldamodel:topic diff=0.098564, rho=0.120299\n",
            "INFO:gensim.models.ldamodel:-7.581 per-word bound, 191.4 perplexity estimate based on a held-out corpus of 100 documents with 84531 words\n",
            "INFO:gensim.models.ldamulticore:PROGRESS: pass 6, dispatched chunk #0 = documents up to #100/100, outstanding queue size 1\n",
            "INFO:gensim.models.ldamodel:topic #6 (0.080): 0.014*\"amber\" + 0.002*\"many\" + 0.002*\"new\" + 0.002*\"baltic\" + 0.001*\"american\" + 0.001*\"first\" + 0.001*\"human\" + 0.001*\"political\" + 0.001*\"common\" + 0.001*\"large\"\n",
            "INFO:gensim.models.ldamodel:topic #5 (0.091): 0.003*\"arabic\" + 0.001*\"american\" + 0.001*\"first\" + 0.001*\"many\" + 0.001*\"new\" + 0.001*\"much\" + 0.001*\"important\" + 0.001*\"austrian\" + 0.000*\"general\" + 0.000*\"western\"\n",
            "INFO:gensim.models.ldamodel:topic #2 (0.149): 0.002*\"first\" + 0.001*\"many\" + 0.001*\"american\" + 0.001*\"new\" + 0.001*\"original\" + 0.001*\"christian\" + 0.001*\"common\" + 0.001*\"general\" + 0.001*\"much\" + 0.001*\"free\"\n",
            "INFO:gensim.models.ldamodel:topic #1 (0.190): 0.002*\"first\" + 0.001*\"many\" + 0.001*\"asteroid\" + 0.001*\"ancient\" + 0.001*\"much\" + 0.001*\"small\" + 0.001*\"common\" + 0.001*\"great\" + 0.001*\"important\" + 0.001*\"japanese\"\n",
            "INFO:gensim.models.ldamodel:topic #0 (0.262): 0.020*\"american\" + 0.020*\"first\" + 0.016*\"many\" + 0.013*\"new\" + 0.007*\"british\" + 0.006*\"french\" + 0.006*\"national\" + 0.006*\"great\" + 0.006*\"general\" + 0.006*\"several\"\n",
            "INFO:gensim.models.ldamodel:topic diff=0.104036, rho=0.119438\n",
            "INFO:gensim.models.ldamodel:-7.549 per-word bound, 187.3 perplexity estimate based on a held-out corpus of 100 documents with 84531 words\n",
            "INFO:gensim.models.ldamulticore:PROGRESS: pass 7, dispatched chunk #0 = documents up to #100/100, outstanding queue size 1\n",
            "INFO:gensim.models.ldamodel:topic #6 (0.080): 0.017*\"amber\" + 0.002*\"many\" + 0.002*\"baltic\" + 0.002*\"new\" + 0.001*\"american\" + 0.001*\"first\" + 0.001*\"human\" + 0.001*\"political\" + 0.001*\"common\" + 0.001*\"large\"\n",
            "INFO:gensim.models.ldamodel:topic #5 (0.091): 0.002*\"arabic\" + 0.001*\"american\" + 0.001*\"first\" + 0.001*\"many\" + 0.001*\"new\" + 0.001*\"much\" + 0.001*\"important\" + 0.000*\"austrian\" + 0.000*\"general\" + 0.000*\"western\"\n",
            "INFO:gensim.models.ldamodel:topic #2 (0.149): 0.002*\"first\" + 0.001*\"many\" + 0.001*\"american\" + 0.001*\"new\" + 0.001*\"original\" + 0.001*\"christian\" + 0.001*\"common\" + 0.001*\"general\" + 0.001*\"much\" + 0.001*\"free\"\n",
            "INFO:gensim.models.ldamodel:topic #1 (0.190): 0.002*\"first\" + 0.001*\"many\" + 0.001*\"asteroid\" + 0.001*\"ancient\" + 0.001*\"much\" + 0.001*\"small\" + 0.001*\"common\" + 0.001*\"great\" + 0.001*\"important\" + 0.001*\"japanese\"\n",
            "INFO:gensim.models.ldamodel:topic #0 (0.262): 0.020*\"american\" + 0.020*\"first\" + 0.016*\"many\" + 0.013*\"new\" + 0.007*\"british\" + 0.006*\"french\" + 0.006*\"national\" + 0.006*\"great\" + 0.006*\"general\" + 0.006*\"several\"\n",
            "INFO:gensim.models.ldamodel:topic diff=0.109984, rho=0.118595\n",
            "INFO:gensim.models.ldamodel:-7.521 per-word bound, 183.7 perplexity estimate based on a held-out corpus of 100 documents with 84531 words\n",
            "INFO:gensim.models.ldamulticore:PROGRESS: pass 8, dispatched chunk #0 = documents up to #100/100, outstanding queue size 1\n",
            "INFO:gensim.models.ldamodel:topic #6 (0.080): 0.020*\"amber\" + 0.002*\"baltic\" + 0.002*\"many\" + 0.002*\"new\" + 0.001*\"american\" + 0.001*\"first\" + 0.001*\"human\" + 0.001*\"amalaric\" + 0.001*\"common\" + 0.001*\"large\"\n",
            "INFO:gensim.models.ldamodel:topic #5 (0.091): 0.002*\"arabic\" + 0.001*\"american\" + 0.001*\"first\" + 0.001*\"many\" + 0.001*\"new\" + 0.001*\"much\" + 0.001*\"important\" + 0.000*\"austrian\" + 0.000*\"general\" + 0.000*\"western\"\n",
            "INFO:gensim.models.ldamodel:topic #2 (0.149): 0.002*\"first\" + 0.001*\"many\" + 0.001*\"american\" + 0.001*\"new\" + 0.001*\"original\" + 0.001*\"christian\" + 0.001*\"common\" + 0.001*\"general\" + 0.001*\"much\" + 0.001*\"free\"\n",
            "INFO:gensim.models.ldamodel:topic #1 (0.190): 0.002*\"first\" + 0.001*\"many\" + 0.001*\"asteroid\" + 0.001*\"ancient\" + 0.001*\"much\" + 0.001*\"small\" + 0.001*\"common\" + 0.001*\"great\" + 0.001*\"important\" + 0.001*\"japanese\"\n",
            "INFO:gensim.models.ldamodel:topic #0 (0.262): 0.020*\"american\" + 0.020*\"first\" + 0.016*\"many\" + 0.013*\"new\" + 0.007*\"british\" + 0.006*\"french\" + 0.006*\"national\" + 0.006*\"great\" + 0.006*\"general\" + 0.006*\"several\"\n",
            "INFO:gensim.models.ldamodel:topic diff=0.116040, rho=0.117769\n",
            "INFO:gensim.models.ldamodel:-7.496 per-word bound, 180.5 perplexity estimate based on a held-out corpus of 100 documents with 84531 words\n",
            "INFO:gensim.models.ldamulticore:PROGRESS: pass 9, dispatched chunk #0 = documents up to #100/100, outstanding queue size 1\n",
            "INFO:gensim.models.ldamodel:topic #6 (0.080): 0.023*\"amber\" + 0.003*\"baltic\" + 0.002*\"many\" + 0.001*\"new\" + 0.001*\"american\" + 0.001*\"first\" + 0.001*\"amalaric\" + 0.001*\"human\" + 0.001*\"valentinian\" + 0.001*\"succinic\"\n",
            "INFO:gensim.models.ldamodel:topic #5 (0.091): 0.002*\"arabic\" + 0.001*\"american\" + 0.001*\"first\" + 0.001*\"many\" + 0.001*\"new\" + 0.001*\"much\" + 0.000*\"important\" + 0.000*\"austrian\" + 0.000*\"general\" + 0.000*\"western\"\n",
            "INFO:gensim.models.ldamodel:topic #2 (0.149): 0.002*\"first\" + 0.001*\"many\" + 0.001*\"american\" + 0.001*\"new\" + 0.001*\"original\" + 0.001*\"christian\" + 0.001*\"common\" + 0.001*\"general\" + 0.001*\"much\" + 0.001*\"free\"\n",
            "INFO:gensim.models.ldamodel:topic #1 (0.190): 0.002*\"first\" + 0.001*\"many\" + 0.001*\"asteroid\" + 0.001*\"ancient\" + 0.001*\"much\" + 0.001*\"small\" + 0.001*\"common\" + 0.001*\"great\" + 0.001*\"important\" + 0.001*\"japanese\"\n",
            "INFO:gensim.models.ldamodel:topic #0 (0.262): 0.020*\"american\" + 0.020*\"first\" + 0.017*\"many\" + 0.013*\"new\" + 0.007*\"british\" + 0.006*\"french\" + 0.006*\"national\" + 0.006*\"general\" + 0.006*\"great\" + 0.006*\"several\"\n",
            "INFO:gensim.models.ldamodel:topic diff=0.121922, rho=0.116961\n",
            "INFO:gensim.models.ldamodel:-7.472 per-word bound, 177.5 perplexity estimate based on a held-out corpus of 100 documents with 84531 words\n",
            "INFO:gensim.utils:saving LdaState object under lda_model.model.state, separately None\n",
            "INFO:gensim.utils:saved lda_model.model.state\n",
            "INFO:gensim.utils:saving LdaMulticore object under lda_model.model, separately ['expElogbeta', 'sstats']\n",
            "INFO:gensim.utils:storing np array 'expElogbeta' to lda_model.model.expElogbeta.npy\n",
            "INFO:gensim.utils:not storing attribute id2word\n",
            "INFO:gensim.utils:not storing attribute state\n",
            "INFO:gensim.utils:not storing attribute dispatcher\n",
            "INFO:gensim.utils:saved lda_model.model\n",
            "INFO:gensim.models.ldamodel:topic #0 (0.262): 0.020*\"american\" + 0.020*\"first\" + 0.017*\"many\" + 0.013*\"new\" + 0.007*\"british\" + 0.006*\"french\" + 0.006*\"national\" + 0.006*\"general\" + 0.006*\"great\" + 0.006*\"several\"\n",
            "INFO:gensim.models.ldamodel:topic #1 (0.190): 0.002*\"first\" + 0.001*\"many\" + 0.001*\"asteroid\" + 0.001*\"ancient\" + 0.001*\"much\" + 0.001*\"small\" + 0.001*\"common\" + 0.001*\"great\" + 0.001*\"important\" + 0.001*\"japanese\"\n",
            "INFO:gensim.models.ldamodel:topic #2 (0.149): 0.002*\"first\" + 0.001*\"many\" + 0.001*\"american\" + 0.001*\"new\" + 0.001*\"original\" + 0.001*\"christian\" + 0.001*\"common\" + 0.001*\"general\" + 0.001*\"much\" + 0.001*\"free\"\n",
            "INFO:gensim.models.ldamodel:topic #3 (0.123): 0.003*\"first\" + 0.002*\"new\" + 0.002*\"many\" + 0.002*\"american\" + 0.002*\"anglican\" + 0.002*\"british\" + 0.001*\"much\" + 0.001*\"general\" + 0.001*\"several\" + 0.001*\"modern\"\n",
            "INFO:gensim.models.ldamodel:topic #4 (0.104): 0.010*\"alaric\" + 0.003*\"first\" + 0.003*\"many\" + 0.002*\"new\" + 0.002*\"great\" + 0.002*\"american\" + 0.001*\"gothic\" + 0.001*\"odysseus\" + 0.001*\"agade\" + 0.001*\"much\"\n",
            "INFO:gensim.models.ldamodel:topic #5 (0.091): 0.002*\"arabic\" + 0.001*\"american\" + 0.001*\"first\" + 0.001*\"many\" + 0.001*\"new\" + 0.001*\"much\" + 0.000*\"important\" + 0.000*\"austrian\" + 0.000*\"general\" + 0.000*\"western\"\n",
            "INFO:gensim.models.ldamodel:topic #6 (0.080): 0.023*\"amber\" + 0.003*\"baltic\" + 0.002*\"many\" + 0.001*\"new\" + 0.001*\"american\" + 0.001*\"first\" + 0.001*\"amalaric\" + 0.001*\"human\" + 0.001*\"valentinian\" + 0.001*\"succinic\"\n"
          ]
        },
        {
          "output_type": "execute_result",
          "data": {
            "text/plain": [
              "[(0,\n",
              "  '0.020*\"american\" + 0.020*\"first\" + 0.017*\"many\" + 0.013*\"new\" + 0.007*\"british\" + 0.006*\"french\" + 0.006*\"national\" + 0.006*\"general\" + 0.006*\"great\" + 0.006*\"several\"'),\n",
              " (1,\n",
              "  '0.002*\"first\" + 0.001*\"many\" + 0.001*\"asteroid\" + 0.001*\"ancient\" + 0.001*\"much\" + 0.001*\"small\" + 0.001*\"common\" + 0.001*\"great\" + 0.001*\"important\" + 0.001*\"japanese\"'),\n",
              " (2,\n",
              "  '0.002*\"first\" + 0.001*\"many\" + 0.001*\"american\" + 0.001*\"new\" + 0.001*\"original\" + 0.001*\"christian\" + 0.001*\"common\" + 0.001*\"general\" + 0.001*\"much\" + 0.001*\"free\"'),\n",
              " (3,\n",
              "  '0.003*\"first\" + 0.002*\"new\" + 0.002*\"many\" + 0.002*\"american\" + 0.002*\"anglican\" + 0.002*\"british\" + 0.001*\"much\" + 0.001*\"general\" + 0.001*\"several\" + 0.001*\"modern\"'),\n",
              " (4,\n",
              "  '0.010*\"alaric\" + 0.003*\"first\" + 0.003*\"many\" + 0.002*\"new\" + 0.002*\"great\" + 0.002*\"american\" + 0.001*\"gothic\" + 0.001*\"odysseus\" + 0.001*\"agade\" + 0.001*\"much\"'),\n",
              " (5,\n",
              "  '0.002*\"arabic\" + 0.001*\"american\" + 0.001*\"first\" + 0.001*\"many\" + 0.001*\"new\" + 0.001*\"much\" + 0.000*\"important\" + 0.000*\"austrian\" + 0.000*\"general\" + 0.000*\"western\"'),\n",
              " (6,\n",
              "  '0.023*\"amber\" + 0.003*\"baltic\" + 0.002*\"many\" + 0.001*\"new\" + 0.001*\"american\" + 0.001*\"first\" + 0.001*\"amalaric\" + 0.001*\"human\" + 0.001*\"valentinian\" + 0.001*\"succinic\"')]"
            ]
          },
          "metadata": {},
          "execution_count": 46
        }
      ]
    },
    {
      "cell_type": "markdown",
      "source": [
        "**`Lda_model.print_topics`** показывает, какие слова внесли вклад в какую из 7 тем, а также вес вклада слова в эту тему.\n",
        "\n",
        "Вы можете увидеть такие слова, как «also», «many», встречающиеся в разных темах. Поэтому я бы добавил такие слова в список stop_words, чтобы удалить их."
      ],
      "metadata": {
        "id": "_jI8nYBZaJKT"
      }
    },
    {
      "cell_type": "markdown",
      "source": [
        "# Как интерпретировать вывод Тематической модели LDA?"
      ],
      "metadata": {
        "id": "BJA0-uj-aM__"
      }
    },
    {
      "cell_type": "markdown",
      "source": [
        "Объект **`lda_model`** поддерживает индексацию. То есть, если вы передаете документ (список слов) в lda_model, он предоставляет 3 типа тем:\n",
        "\n",
        "* Которые принадлежат этому документу, вместе с процентами.\n",
        "* Темы к которой принадлежит каждое слово в этом документе.\n",
        "* А так же темы для каждого слова в этом документе и значения **`phi`**.\n",
        "\n",
        "Что такое **`phi`**?\n",
        "\n",
        "**`phi`** — это вероятность того, что слово относится к этой конкретной теме. А сумма значений **`phi`** для данного слова складывается с количеством раз, когда это слово встречалось в документе.\n",
        "\n",
        "Например, в приведенном ниже выводе для 0-го документа слово с id = 0 относится к теме №6, а значение **`phi`** равно 3.999. Это означает, что слово с id = 0 появилось 4 раза в 0-м документе."
      ],
      "metadata": {
        "id": "DX-3nDwyaPFD"
      }
    },
    {
      "cell_type": "code",
      "source": [
        "# Reference: https://github.com/RaRe-Technologies/gensim/blob/develop/docs/notebooks/topic_methods.ipynb\n",
        "for c in lda_model[corpus[5:8]]:\n",
        "    print(\"Document Topics      : \", c[0])      # [(Topics, Perc Contrib)]\n",
        "    print(\"Word id, Topics      : \", c[1][:3])  # [(Word id, [Topics])]\n",
        "    print(\"Phi Values (word id) : \", c[2][:2])  # [(Word id, [(Topic, Phi Value)])]\n",
        "    print(\"Word, Topics         : \", [(dct[wd], topic) for wd, topic in c[1][:2]])   # [(Word, [Topics])]\n",
        "    print(\"Phi Values (word)    : \", [(dct[wd], topic) for wd, topic in c[2][:2]])  # [(Word, [(Topic, Phi Value)])]\n",
        "    print(\"------------------------------------------------------\\n\")"
      ],
      "metadata": {
        "colab": {
          "base_uri": "https://localhost:8080/"
        },
        "id": "VlUvMNjuagSe",
        "outputId": "94bc1a3f-8533-4f7e-bb32-66dd791cf2fa"
      },
      "execution_count": null,
      "outputs": [
        {
          "output_type": "stream",
          "name": "stdout",
          "text": [
            "Document Topics      :  [(0, 0.9989861)]\n",
            "Word id, Topics      :  [(3, [0]), (4, [0]), (6, [0])]\n",
            "Phi Values (word id) :  [(3, [(0, 0.9999993)]), (4, [(0, 0.9999993)])]\n",
            "Word, Topics         :  [('academic', [0]), ('active', [0])]\n",
            "Phi Values (word)    :  [('academic', [(0, 0.9999993)]), ('active', [(0, 0.9999993)])]\n",
            "------------------------------------------------------\n",
            "\n",
            "Document Topics      :  [(0, 0.9989893)]\n",
            "Word id, Topics      :  [(3, [0]), (4, [0]), (6, [0])]\n",
            "Phi Values (word id) :  [(3, [(0, 2.9999979)]), (4, [(0, 0.99999934)])]\n",
            "Word, Topics         :  [('academic', [0]), ('active', [0])]\n",
            "Phi Values (word)    :  [('academic', [(0, 2.9999979)]), ('active', [(0, 0.99999934)])]\n",
            "------------------------------------------------------\n",
            "\n",
            "Document Topics      :  [(0, 0.9993506)]\n",
            "Word id, Topics      :  [(0, [0]), (3, [0]), (4, [0])]\n",
            "Phi Values (word id) :  [(0, [(0, 0.9999995)]), (3, [(0, 5.999997)])]\n",
            "Word, Topics         :  [('able', [0]), ('academic', [0])]\n",
            "Phi Values (word)    :  [('able', [(0, 0.9999995)]), ('academic', [(0, 5.999997)])]\n",
            "------------------------------------------------------\n",
            "\n"
          ]
        }
      ]
    },
    {
      "cell_type": "markdown",
      "source": [
        "# Создание тематической модели LSI"
      ],
      "metadata": {
        "id": "V6miMk3Oastm"
      }
    },
    {
      "cell_type": "markdown",
      "source": [
        "Синтаксис использования модели LSI аналогичен тому, как мы строили модель LDA, за исключением того, что мы будем использовать **`LsiModel()`**."
      ],
      "metadata": {
        "id": "IfXKysxravV3"
      }
    },
    {
      "cell_type": "code",
      "source": [
        "from gensim.models import LsiModel\n",
        "\n",
        "# Build the LSI Model\n",
        "lsi_model = LsiModel(corpus=corpus, id2word=dct, num_topics=7, decay=0.5)\n",
        "\n",
        "# View Topics\n",
        "pprint(lsi_model.print_topics(-1))\n"
      ],
      "metadata": {
        "colab": {
          "base_uri": "https://localhost:8080/"
        },
        "id": "3ZE9kXWxa0Uk",
        "outputId": "43734e92-873f-4a6a-cdfc-b52cb1ddb9ce"
      },
      "execution_count": null,
      "outputs": [
        {
          "output_type": "stream",
          "name": "stderr",
          "text": [
            "INFO:gensim.models.lsimodel:using serial LSI version on this node\n",
            "INFO:gensim.models.lsimodel:updating model with new documents\n",
            "INFO:gensim.models.lsimodel:preparing a new chunk of documents\n",
            "INFO:gensim.models.lsimodel:using 100 extra samples and 2 power iterations\n",
            "INFO:gensim.models.lsimodel:1st phase: constructing (6887, 107) action matrix\n",
            "INFO:gensim.models.lsimodel:orthonormalizing (6887, 107) action matrix\n",
            "INFO:gensim.models.lsimodel:2nd phase: running dense svd on (107, 100) matrix\n",
            "INFO:gensim.models.lsimodel:computing the final decomposition\n",
            "INFO:gensim.models.lsimodel:keeping 7 factors (discarding 46.275% of energy spectrum)\n",
            "INFO:gensim.models.lsimodel:processed documents up to #100\n",
            "INFO:gensim.models.lsimodel:topic #0(469.809): 0.502*\"american\" + 0.371*\"first\" + 0.290*\"many\" + 0.252*\"new\" + 0.168*\"british\" + 0.142*\"french\" + 0.124*\"general\" + 0.121*\"national\" + 0.108*\"great\" + 0.104*\"several\"\n",
            "INFO:gensim.models.lsimodel:topic #1(244.583): 0.724*\"american\" + -0.281*\"many\" + 0.159*\"british\" + 0.145*\"french\" + -0.128*\"first\" + 0.119*\"albert\" + -0.105*\"much\" + -0.098*\"large\" + -0.097*\"different\" + -0.097*\"modern\"\n",
            "INFO:gensim.models.lsimodel:topic #2(144.803): 0.773*\"arabic\" + -0.401*\"anarcho\" + -0.170*\"austrian\" + 0.116*\"amber\" + -0.105*\"economic\" + -0.105*\"private\" + -0.100*\"capitalist\" + -0.093*\"social\" + -0.093*\"free\" + 0.081*\"western\"\n",
            "INFO:gensim.models.lsimodel:topic #3(138.870): 0.544*\"anarcho\" + 0.510*\"arabic\" + -0.272*\"amber\" + 0.194*\"austrian\" + 0.156*\"albert\" + 0.136*\"capitalist\" + 0.134*\"private\" + -0.131*\"alternate\" + 0.125*\"economic\" + -0.111*\"first\"\n",
            "INFO:gensim.models.lsimodel:topic #4(133.564): -0.681*\"amber\" + -0.260*\"anarcho\" + 0.253*\"australian\" + 0.178*\"open\" + 0.175*\"first\" + -0.146*\"alternate\" + -0.140*\"albert\" + 0.135*\"national\" + -0.125*\"american\" + 0.117*\"final\"\n",
            "INFO:gensim.models.lsimodel:topic #0(469.809): 0.502*\"american\" + 0.371*\"first\" + 0.290*\"many\" + 0.252*\"new\" + 0.168*\"british\" + 0.142*\"french\" + 0.124*\"general\" + 0.121*\"national\" + 0.108*\"great\" + 0.104*\"several\"\n",
            "INFO:gensim.models.lsimodel:topic #1(244.583): 0.724*\"american\" + -0.281*\"many\" + 0.159*\"british\" + 0.145*\"french\" + -0.128*\"first\" + 0.119*\"albert\" + -0.105*\"much\" + -0.098*\"large\" + -0.097*\"different\" + -0.097*\"modern\"\n",
            "INFO:gensim.models.lsimodel:topic #2(144.803): 0.773*\"arabic\" + -0.401*\"anarcho\" + -0.170*\"austrian\" + 0.116*\"amber\" + -0.105*\"economic\" + -0.105*\"private\" + -0.100*\"capitalist\" + -0.093*\"social\" + -0.093*\"free\" + 0.081*\"western\"\n",
            "INFO:gensim.models.lsimodel:topic #3(138.870): 0.544*\"anarcho\" + 0.510*\"arabic\" + -0.272*\"amber\" + 0.194*\"austrian\" + 0.156*\"albert\" + 0.136*\"capitalist\" + 0.134*\"private\" + -0.131*\"alternate\" + 0.125*\"economic\" + -0.111*\"first\"\n",
            "INFO:gensim.models.lsimodel:topic #4(133.564): -0.681*\"amber\" + -0.260*\"anarcho\" + 0.253*\"australian\" + 0.178*\"open\" + 0.175*\"first\" + -0.146*\"alternate\" + -0.140*\"albert\" + 0.135*\"national\" + -0.125*\"american\" + 0.117*\"final\"\n",
            "INFO:gensim.models.lsimodel:topic #5(127.706): -0.401*\"amber\" + -0.362*\"australian\" + 0.356*\"alternate\" + 0.307*\"first\" + 0.184*\"lunar\" + 0.159*\"atomic\" + -0.150*\"austrian\" + -0.134*\"national\" + -0.130*\"new\" + 0.130*\"orbital\"\n",
            "INFO:gensim.models.lsimodel:topic #6(125.070): 0.398*\"albert\" + 0.331*\"first\" + 0.330*\"open\" + 0.306*\"amber\" + -0.265*\"alternate\" + 0.199*\"lunar\" + 0.197*\"final\" + 0.160*\"french\" + -0.159*\"british\" + -0.143*\"many\"\n"
          ]
        },
        {
          "output_type": "stream",
          "name": "stdout",
          "text": [
            "[(0,\n",
            "  '0.502*\"american\" + 0.371*\"first\" + 0.290*\"many\" + 0.252*\"new\" + '\n",
            "  '0.168*\"british\" + 0.142*\"french\" + 0.124*\"general\" + 0.121*\"national\" + '\n",
            "  '0.108*\"great\" + 0.104*\"several\"'),\n",
            " (1,\n",
            "  '0.724*\"american\" + -0.281*\"many\" + 0.159*\"british\" + 0.145*\"french\" + '\n",
            "  '-0.128*\"first\" + 0.119*\"albert\" + -0.105*\"much\" + -0.098*\"large\" + '\n",
            "  '-0.097*\"different\" + -0.097*\"modern\"'),\n",
            " (2,\n",
            "  '0.773*\"arabic\" + -0.401*\"anarcho\" + -0.170*\"austrian\" + 0.116*\"amber\" + '\n",
            "  '-0.105*\"economic\" + -0.105*\"private\" + -0.100*\"capitalist\" + '\n",
            "  '-0.093*\"social\" + -0.093*\"free\" + 0.081*\"western\"'),\n",
            " (3,\n",
            "  '0.544*\"anarcho\" + 0.510*\"arabic\" + -0.272*\"amber\" + 0.194*\"austrian\" + '\n",
            "  '0.156*\"albert\" + 0.136*\"capitalist\" + 0.134*\"private\" + -0.131*\"alternate\" '\n",
            "  '+ 0.125*\"economic\" + -0.111*\"first\"'),\n",
            " (4,\n",
            "  '-0.681*\"amber\" + -0.260*\"anarcho\" + 0.253*\"australian\" + 0.178*\"open\" + '\n",
            "  '0.175*\"first\" + -0.146*\"alternate\" + -0.140*\"albert\" + 0.135*\"national\" + '\n",
            "  '-0.125*\"american\" + 0.117*\"final\"'),\n",
            " (5,\n",
            "  '-0.401*\"amber\" + -0.362*\"australian\" + 0.356*\"alternate\" + 0.307*\"first\" + '\n",
            "  '0.184*\"lunar\" + 0.159*\"atomic\" + -0.150*\"austrian\" + -0.134*\"national\" + '\n",
            "  '-0.130*\"new\" + 0.130*\"orbital\"'),\n",
            " (6,\n",
            "  '0.398*\"albert\" + 0.331*\"first\" + 0.330*\"open\" + 0.306*\"amber\" + '\n",
            "  '-0.265*\"alternate\" + 0.199*\"lunar\" + 0.197*\"final\" + 0.160*\"french\" + '\n",
            "  '-0.159*\"british\" + -0.143*\"many\"')]\n"
          ]
        }
      ]
    },
    {
      "cell_type": "markdown",
      "source": [
        "# Как тренировать модель Word2Vec с помощью gensim?"
      ],
      "metadata": {
        "id": "xT4jHCdDa6CV"
      }
    },
    {
      "cell_type": "markdown",
      "source": [
        "Модель вхождения слов — это модель, которая может предоставить числовые векторы для данного слова. Используя API Gensim, вы можете загрузить предварительно созданные модели вхождения слов, такие как word2vec, fasttext, GloVe и ConceptNet. Они построены на больших корпусах часто встречающихся текстовых данных, таких как википедия, новости Google и т. д.\n",
        "\n",
        "Однако, если вы работаете в специализированной нише, такой как техническая документация, возможно у вас не получится получить вложение слов для всех слов. Поэтому в таких случаях желательно тренировать собственную модель.\n",
        "\n",
        "Gensim Word2Vec так же позволяет вам обучить вашу собственную модель встраивания слов для вашего корпуса."
      ],
      "metadata": {
        "id": "HBcueYv6a8o7"
      }
    },
    {
      "cell_type": "code",
      "source": [
        "from gensim.models.word2vec import Word2Vec\n",
        "from multiprocessing import cpu_count\n",
        "import gensim.downloader as api\n",
        "\n",
        "# Download dataset\n",
        "dataset = api.load(\"text8\")\n",
        "data = [d for d in dataset]\n",
        "\n",
        "# Split the data into 2 parts. Part 2 will be used later to update the model\n",
        "data_part1 = data[:1000]\n",
        "data_part2 = data[1000:]\n",
        "\n",
        "# Train Word2Vec model. Defaults result vector size = 100\n",
        "model = Word2Vec(data_part1, min_count = 0, workers=cpu_count())\n",
        "\n",
        "# Get the word vector for given word\n",
        "model['topic']\n",
        "\n",
        "model.most_similar('topic')\n",
        "\n",
        "\n",
        "# Save and Load Model\n",
        "model.save('newmodel')\n",
        "model = Word2Vec.load('newmodel')"
      ],
      "metadata": {
        "colab": {
          "base_uri": "https://localhost:8080/"
        },
        "id": "ilnmiVWza-Z9",
        "outputId": "628b5c4e-f23d-4642-d712-02b9a242f36b"
      },
      "execution_count": null,
      "outputs": [
        {
          "output_type": "stream",
          "name": "stderr",
          "text": [
            "INFO:gensim.models.word2vec:collecting all words and their counts\n",
            "INFO:gensim.models.word2vec:PROGRESS: at sentence #0, processed 0 words, keeping 0 word types\n",
            "INFO:gensim.models.word2vec:collected 189074 word types from a corpus of 10000000 raw words and 1000 sentences\n",
            "INFO:gensim.models.word2vec:Loading a fresh vocabulary\n",
            "INFO:gensim.models.word2vec:effective_min_count=0 retains 189074 unique words (100% of original 189074, drops 0)\n",
            "INFO:gensim.models.word2vec:effective_min_count=0 leaves 10000000 word corpus (100% of original 10000000, drops 0)\n",
            "INFO:gensim.models.word2vec:deleting the raw counts dictionary of 189074 items\n",
            "INFO:gensim.models.word2vec:sample=0.001 downsamples 38 most-common words\n",
            "INFO:gensim.models.word2vec:downsampling leaves estimated 7563517 word corpus (75.6% of prior 10000000)\n",
            "INFO:gensim.models.base_any2vec:estimated required memory for 189074 words and 100 dimensions: 245796200 bytes\n",
            "INFO:gensim.models.word2vec:resetting layer weights\n",
            "INFO:gensim.models.base_any2vec:training model with 2 workers on 189074 vocabulary and 100 features, using sg=0 hs=0 sample=0.001 negative=5 window=5\n",
            "INFO:gensim.models.base_any2vec:EPOCH 1 - PROGRESS: at 7.30% examples, 546685 words/s, in_qsize 3, out_qsize 0\n",
            "INFO:gensim.models.base_any2vec:EPOCH 1 - PROGRESS: at 14.90% examples, 554857 words/s, in_qsize 3, out_qsize 0\n",
            "INFO:gensim.models.base_any2vec:EPOCH 1 - PROGRESS: at 22.30% examples, 553228 words/s, in_qsize 3, out_qsize 0\n",
            "INFO:gensim.models.base_any2vec:EPOCH 1 - PROGRESS: at 29.80% examples, 556066 words/s, in_qsize 3, out_qsize 0\n",
            "INFO:gensim.models.base_any2vec:EPOCH 1 - PROGRESS: at 37.30% examples, 556193 words/s, in_qsize 3, out_qsize 0\n",
            "INFO:gensim.models.base_any2vec:EPOCH 1 - PROGRESS: at 44.80% examples, 557987 words/s, in_qsize 3, out_qsize 0\n",
            "INFO:gensim.models.base_any2vec:EPOCH 1 - PROGRESS: at 52.30% examples, 559307 words/s, in_qsize 3, out_qsize 0\n",
            "INFO:gensim.models.base_any2vec:EPOCH 1 - PROGRESS: at 59.70% examples, 559708 words/s, in_qsize 3, out_qsize 0\n",
            "INFO:gensim.models.base_any2vec:EPOCH 1 - PROGRESS: at 67.10% examples, 558279 words/s, in_qsize 4, out_qsize 0\n",
            "INFO:gensim.models.base_any2vec:EPOCH 1 - PROGRESS: at 74.40% examples, 557124 words/s, in_qsize 3, out_qsize 0\n",
            "INFO:gensim.models.base_any2vec:EPOCH 1 - PROGRESS: at 81.70% examples, 556782 words/s, in_qsize 3, out_qsize 0\n",
            "INFO:gensim.models.base_any2vec:EPOCH 1 - PROGRESS: at 89.20% examples, 557520 words/s, in_qsize 3, out_qsize 0\n",
            "INFO:gensim.models.base_any2vec:EPOCH 1 - PROGRESS: at 96.70% examples, 557620 words/s, in_qsize 3, out_qsize 0\n",
            "INFO:gensim.models.base_any2vec:worker thread finished; awaiting finish of 1 more threads\n",
            "INFO:gensim.models.base_any2vec:worker thread finished; awaiting finish of 0 more threads\n",
            "INFO:gensim.models.base_any2vec:EPOCH - 1 : training on 10000000 raw words (7565051 effective words) took 13.6s, 557519 effective words/s\n",
            "INFO:gensim.models.base_any2vec:EPOCH 2 - PROGRESS: at 7.60% examples, 568045 words/s, in_qsize 3, out_qsize 0\n",
            "INFO:gensim.models.base_any2vec:EPOCH 2 - PROGRESS: at 15.10% examples, 559540 words/s, in_qsize 3, out_qsize 0\n",
            "INFO:gensim.models.base_any2vec:EPOCH 2 - PROGRESS: at 22.60% examples, 561167 words/s, in_qsize 3, out_qsize 0\n",
            "INFO:gensim.models.base_any2vec:EPOCH 2 - PROGRESS: at 30.10% examples, 560938 words/s, in_qsize 3, out_qsize 0\n",
            "INFO:gensim.models.base_any2vec:EPOCH 2 - PROGRESS: at 37.70% examples, 560657 words/s, in_qsize 3, out_qsize 0\n",
            "INFO:gensim.models.base_any2vec:EPOCH 2 - PROGRESS: at 45.20% examples, 560954 words/s, in_qsize 3, out_qsize 0\n",
            "INFO:gensim.models.base_any2vec:EPOCH 2 - PROGRESS: at 52.70% examples, 561444 words/s, in_qsize 2, out_qsize 1\n",
            "INFO:gensim.models.base_any2vec:EPOCH 2 - PROGRESS: at 60.20% examples, 561763 words/s, in_qsize 3, out_qsize 0\n",
            "INFO:gensim.models.base_any2vec:EPOCH 2 - PROGRESS: at 67.70% examples, 561468 words/s, in_qsize 4, out_qsize 0\n",
            "INFO:gensim.models.base_any2vec:EPOCH 2 - PROGRESS: at 75.30% examples, 562441 words/s, in_qsize 3, out_qsize 0\n",
            "INFO:gensim.models.base_any2vec:EPOCH 2 - PROGRESS: at 82.60% examples, 561503 words/s, in_qsize 3, out_qsize 0\n",
            "INFO:gensim.models.base_any2vec:EPOCH 2 - PROGRESS: at 90.00% examples, 561287 words/s, in_qsize 3, out_qsize 0\n",
            "INFO:gensim.models.base_any2vec:EPOCH 2 - PROGRESS: at 97.50% examples, 561698 words/s, in_qsize 3, out_qsize 0\n",
            "INFO:gensim.models.base_any2vec:worker thread finished; awaiting finish of 1 more threads\n",
            "INFO:gensim.models.base_any2vec:worker thread finished; awaiting finish of 0 more threads\n",
            "INFO:gensim.models.base_any2vec:EPOCH - 2 : training on 10000000 raw words (7561927 effective words) took 13.5s, 561247 effective words/s\n",
            "INFO:gensim.models.base_any2vec:EPOCH 3 - PROGRESS: at 7.30% examples, 550943 words/s, in_qsize 3, out_qsize 0\n",
            "INFO:gensim.models.base_any2vec:EPOCH 3 - PROGRESS: at 15.00% examples, 558392 words/s, in_qsize 3, out_qsize 0\n",
            "INFO:gensim.models.base_any2vec:EPOCH 3 - PROGRESS: at 22.60% examples, 559530 words/s, in_qsize 3, out_qsize 0\n",
            "INFO:gensim.models.base_any2vec:EPOCH 3 - PROGRESS: at 30.20% examples, 561047 words/s, in_qsize 3, out_qsize 0\n",
            "INFO:gensim.models.base_any2vec:EPOCH 3 - PROGRESS: at 37.70% examples, 560058 words/s, in_qsize 3, out_qsize 0\n",
            "INFO:gensim.models.base_any2vec:EPOCH 3 - PROGRESS: at 45.30% examples, 561779 words/s, in_qsize 3, out_qsize 0\n",
            "INFO:gensim.models.base_any2vec:EPOCH 3 - PROGRESS: at 52.70% examples, 562275 words/s, in_qsize 3, out_qsize 0\n",
            "INFO:gensim.models.base_any2vec:EPOCH 3 - PROGRESS: at 60.20% examples, 562731 words/s, in_qsize 3, out_qsize 0\n",
            "INFO:gensim.models.base_any2vec:EPOCH 3 - PROGRESS: at 67.60% examples, 562322 words/s, in_qsize 2, out_qsize 1\n",
            "INFO:gensim.models.base_any2vec:EPOCH 3 - PROGRESS: at 75.20% examples, 562710 words/s, in_qsize 3, out_qsize 0\n",
            "INFO:gensim.models.base_any2vec:EPOCH 3 - PROGRESS: at 82.60% examples, 562272 words/s, in_qsize 3, out_qsize 0\n",
            "INFO:gensim.models.base_any2vec:EPOCH 3 - PROGRESS: at 89.90% examples, 561463 words/s, in_qsize 3, out_qsize 0\n",
            "INFO:gensim.models.base_any2vec:EPOCH 3 - PROGRESS: at 97.20% examples, 560544 words/s, in_qsize 3, out_qsize 0\n",
            "INFO:gensim.models.base_any2vec:worker thread finished; awaiting finish of 1 more threads\n",
            "INFO:gensim.models.base_any2vec:worker thread finished; awaiting finish of 0 more threads\n",
            "INFO:gensim.models.base_any2vec:EPOCH - 3 : training on 10000000 raw words (7564082 effective words) took 13.5s, 560806 effective words/s\n",
            "INFO:gensim.models.base_any2vec:EPOCH 4 - PROGRESS: at 7.20% examples, 541606 words/s, in_qsize 3, out_qsize 0\n",
            "INFO:gensim.models.base_any2vec:EPOCH 4 - PROGRESS: at 14.80% examples, 551976 words/s, in_qsize 3, out_qsize 0\n",
            "INFO:gensim.models.base_any2vec:EPOCH 4 - PROGRESS: at 22.40% examples, 555277 words/s, in_qsize 3, out_qsize 0\n",
            "INFO:gensim.models.base_any2vec:EPOCH 4 - PROGRESS: at 30.00% examples, 557930 words/s, in_qsize 3, out_qsize 0\n",
            "INFO:gensim.models.base_any2vec:EPOCH 4 - PROGRESS: at 37.60% examples, 558616 words/s, in_qsize 3, out_qsize 0\n",
            "INFO:gensim.models.base_any2vec:EPOCH 4 - PROGRESS: at 45.20% examples, 561000 words/s, in_qsize 3, out_qsize 0\n",
            "INFO:gensim.models.base_any2vec:EPOCH 4 - PROGRESS: at 52.60% examples, 561569 words/s, in_qsize 3, out_qsize 0\n",
            "INFO:gensim.models.base_any2vec:EPOCH 4 - PROGRESS: at 60.00% examples, 560984 words/s, in_qsize 3, out_qsize 0\n",
            "INFO:gensim.models.base_any2vec:EPOCH 4 - PROGRESS: at 67.50% examples, 560840 words/s, in_qsize 3, out_qsize 0\n",
            "INFO:gensim.models.base_any2vec:EPOCH 4 - PROGRESS: at 74.90% examples, 560544 words/s, in_qsize 3, out_qsize 0\n",
            "INFO:gensim.models.base_any2vec:EPOCH 4 - PROGRESS: at 82.50% examples, 561871 words/s, in_qsize 3, out_qsize 0\n",
            "INFO:gensim.models.base_any2vec:EPOCH 4 - PROGRESS: at 89.90% examples, 560909 words/s, in_qsize 3, out_qsize 0\n",
            "INFO:gensim.models.base_any2vec:EPOCH 4 - PROGRESS: at 97.50% examples, 561655 words/s, in_qsize 3, out_qsize 0\n",
            "INFO:gensim.models.base_any2vec:worker thread finished; awaiting finish of 1 more threads\n",
            "INFO:gensim.models.base_any2vec:worker thread finished; awaiting finish of 0 more threads\n",
            "INFO:gensim.models.base_any2vec:EPOCH - 4 : training on 10000000 raw words (7563622 effective words) took 13.5s, 561038 effective words/s\n",
            "INFO:gensim.models.base_any2vec:EPOCH 5 - PROGRESS: at 7.30% examples, 542920 words/s, in_qsize 2, out_qsize 1\n",
            "INFO:gensim.models.base_any2vec:EPOCH 5 - PROGRESS: at 15.00% examples, 553877 words/s, in_qsize 3, out_qsize 0\n",
            "INFO:gensim.models.base_any2vec:EPOCH 5 - PROGRESS: at 22.60% examples, 555724 words/s, in_qsize 4, out_qsize 0\n",
            "INFO:gensim.models.base_any2vec:EPOCH 5 - PROGRESS: at 27.50% examples, 509437 words/s, in_qsize 3, out_qsize 1\n",
            "INFO:gensim.models.base_any2vec:EPOCH 5 - PROGRESS: at 35.00% examples, 520238 words/s, in_qsize 3, out_qsize 0\n",
            "INFO:gensim.models.base_any2vec:EPOCH 5 - PROGRESS: at 42.40% examples, 526229 words/s, in_qsize 3, out_qsize 0\n",
            "INFO:gensim.models.base_any2vec:EPOCH 5 - PROGRESS: at 49.70% examples, 529633 words/s, in_qsize 3, out_qsize 0\n",
            "INFO:gensim.models.base_any2vec:EPOCH 5 - PROGRESS: at 57.20% examples, 534637 words/s, in_qsize 3, out_qsize 0\n",
            "INFO:gensim.models.base_any2vec:EPOCH 5 - PROGRESS: at 64.50% examples, 535970 words/s, in_qsize 3, out_qsize 0\n",
            "INFO:gensim.models.base_any2vec:EPOCH 5 - PROGRESS: at 71.80% examples, 537005 words/s, in_qsize 3, out_qsize 0\n",
            "INFO:gensim.models.base_any2vec:EPOCH 5 - PROGRESS: at 79.30% examples, 539619 words/s, in_qsize 3, out_qsize 0\n",
            "INFO:gensim.models.base_any2vec:EPOCH 5 - PROGRESS: at 86.70% examples, 541233 words/s, in_qsize 3, out_qsize 0\n",
            "INFO:gensim.models.base_any2vec:EPOCH 5 - PROGRESS: at 91.80% examples, 529578 words/s, in_qsize 3, out_qsize 0\n",
            "INFO:gensim.models.base_any2vec:EPOCH 5 - PROGRESS: at 97.00% examples, 519448 words/s, in_qsize 3, out_qsize 0\n",
            "INFO:gensim.models.base_any2vec:worker thread finished; awaiting finish of 1 more threads\n",
            "INFO:gensim.models.base_any2vec:worker thread finished; awaiting finish of 0 more threads\n",
            "INFO:gensim.models.base_any2vec:EPOCH - 5 : training on 10000000 raw words (7564393 effective words) took 14.5s, 520738 effective words/s\n",
            "INFO:gensim.models.base_any2vec:training on a 50000000 raw words (37819075 effective words) took 68.6s, 551399 effective words/s\n",
            "/usr/local/lib/python3.7/dist-packages/ipykernel_launcher.py:17: DeprecationWarning: Call to deprecated `__getitem__` (Method will be removed in 4.0.0, use self.wv.__getitem__() instead).\n",
            "/usr/local/lib/python3.7/dist-packages/ipykernel_launcher.py:20: DeprecationWarning: Call to deprecated `most_similar` (Method will be removed in 4.0.0, use self.wv.most_similar() instead).\n",
            "INFO:gensim.models.keyedvectors:precomputing L2-norms of word weight vectors\n",
            "INFO:gensim.utils:saving Word2Vec object under newmodel, separately None\n",
            "INFO:gensim.utils:storing np array 'vectors' to newmodel.wv.vectors.npy\n",
            "INFO:gensim.utils:not storing attribute vectors_norm\n",
            "INFO:gensim.utils:storing np array 'syn1neg' to newmodel.trainables.syn1neg.npy\n",
            "INFO:gensim.utils:not storing attribute cum_table\n",
            "INFO:gensim.utils:saved newmodel\n",
            "INFO:gensim.utils:loading Word2Vec object from newmodel\n",
            "INFO:gensim.utils:loading wv recursively from newmodel.wv.* with mmap=None\n",
            "INFO:gensim.utils:loading vectors from newmodel.wv.vectors.npy with mmap=None\n",
            "INFO:gensim.utils:setting ignored attribute vectors_norm to None\n",
            "INFO:gensim.utils:loading vocabulary recursively from newmodel.vocabulary.* with mmap=None\n",
            "INFO:gensim.utils:loading trainables recursively from newmodel.trainables.* with mmap=None\n",
            "INFO:gensim.utils:loading syn1neg from newmodel.trainables.syn1neg.npy with mmap=None\n",
            "INFO:gensim.utils:setting ignored attribute cum_table to None\n",
            "INFO:gensim.utils:loaded newmodel\n"
          ]
        }
      ]
    },
    {
      "cell_type": "markdown",
      "source": [
        "Мы обучили и сохранили модель Word2Vec для нашего документа. Однако, когда придет новый набор данных, нам нужно будет обновить модель, чтобы учесть новые слова."
      ],
      "metadata": {
        "id": "S054tqCEb1BI"
      }
    },
    {
      "cell_type": "markdown",
      "source": [
        "# Как обновить существующую модель Word2Vec новыми данными?"
      ],
      "metadata": {
        "id": "-OkpRKb2b1j6"
      }
    },
    {
      "cell_type": "markdown",
      "source": [
        "В существующей модели Word2Vec вызовите **`build_vocab()`** для нового набора данных, а затем вызовите метод **`train()`**."
      ],
      "metadata": {
        "id": "t5BDHaDCb53L"
      }
    },
    {
      "cell_type": "code",
      "source": [
        "# Update the model with new data.\n",
        "model.build_vocab(data_part2, update=True)\n",
        "model.train(data_part2, total_examples=model.corpus_count, epochs=model.iter)\n",
        "model['topic']\n",
        "# array([-0.6482, -0.5468,  1.0688,  0.82  , ... , -0.8411,  0.3974], dtype=float32)"
      ],
      "metadata": {
        "colab": {
          "base_uri": "https://localhost:8080/"
        },
        "id": "KM4r_oIhb_yZ",
        "outputId": "8db46f88-23e6-42eb-b94b-910c9789d5f5"
      },
      "execution_count": null,
      "outputs": [
        {
          "output_type": "stream",
          "name": "stderr",
          "text": [
            "INFO:gensim.models.word2vec:collecting all words and their counts\n",
            "INFO:gensim.models.word2vec:PROGRESS: at sentence #0, processed 0 words, keeping 0 word types\n",
            "INFO:gensim.models.word2vec:collected 153347 word types from a corpus of 7005207 raw words and 701 sentences\n",
            "INFO:gensim.models.word2vec:Updating model with new vocabulary\n",
            "INFO:gensim.models.word2vec:New added 153347 unique words (50% of original 306694) and increased the count of 153347 pre-existing words (50% of original 306694)\n",
            "INFO:gensim.models.word2vec:deleting the raw counts dictionary of 153347 items\n",
            "INFO:gensim.models.word2vec:sample=0.001 downsamples 72 most-common words\n",
            "INFO:gensim.models.word2vec:downsampling leaves estimated 10509051 word corpus (150.0% of prior 7005207)\n",
            "INFO:gensim.models.base_any2vec:estimated required memory for 306694 words and 100 dimensions: 398702200 bytes\n",
            "INFO:gensim.models.word2vec:updating layer weights\n",
            "/usr/local/lib/python3.7/dist-packages/ipykernel_launcher.py:3: DeprecationWarning: Call to deprecated `iter` (Attribute will be removed in 4.0.0, use self.epochs instead).\n",
            "  This is separate from the ipykernel package so we can avoid doing imports until\n",
            "WARNING:gensim.models.base_any2vec:Effective 'alpha' higher than previous training cycles\n",
            "INFO:gensim.models.base_any2vec:training model with 2 workers on 253854 vocabulary and 100 features, using sg=0 hs=0 sample=0.001 negative=5 window=5\n",
            "INFO:gensim.models.base_any2vec:EPOCH 1 - PROGRESS: at 10.56% examples, 555533 words/s, in_qsize 3, out_qsize 0\n",
            "INFO:gensim.models.base_any2vec:EPOCH 1 - PROGRESS: at 21.11% examples, 552071 words/s, in_qsize 3, out_qsize 0\n",
            "INFO:gensim.models.base_any2vec:EPOCH 1 - PROGRESS: at 31.95% examples, 555665 words/s, in_qsize 3, out_qsize 0\n",
            "INFO:gensim.models.base_any2vec:EPOCH 1 - PROGRESS: at 42.80% examples, 554575 words/s, in_qsize 3, out_qsize 0\n",
            "INFO:gensim.models.base_any2vec:EPOCH 1 - PROGRESS: at 53.07% examples, 549832 words/s, in_qsize 3, out_qsize 0\n",
            "INFO:gensim.models.base_any2vec:EPOCH 1 - PROGRESS: at 63.62% examples, 550151 words/s, in_qsize 3, out_qsize 0\n",
            "INFO:gensim.models.base_any2vec:EPOCH 1 - PROGRESS: at 74.18% examples, 551672 words/s, in_qsize 3, out_qsize 0\n",
            "INFO:gensim.models.base_any2vec:EPOCH 1 - PROGRESS: at 84.88% examples, 552109 words/s, in_qsize 4, out_qsize 0\n",
            "INFO:gensim.models.base_any2vec:EPOCH 1 - PROGRESS: at 95.58% examples, 553004 words/s, in_qsize 3, out_qsize 0\n",
            "INFO:gensim.models.base_any2vec:worker thread finished; awaiting finish of 1 more threads\n",
            "INFO:gensim.models.base_any2vec:worker thread finished; awaiting finish of 0 more threads\n",
            "INFO:gensim.models.base_any2vec:EPOCH - 1 : training on 7005207 raw words (5254086 effective words) took 9.5s, 552629 effective words/s\n",
            "INFO:gensim.models.base_any2vec:EPOCH 2 - PROGRESS: at 10.56% examples, 552037 words/s, in_qsize 3, out_qsize 0\n",
            "INFO:gensim.models.base_any2vec:EPOCH 2 - PROGRESS: at 21.40% examples, 559499 words/s, in_qsize 3, out_qsize 0\n",
            "INFO:gensim.models.base_any2vec:EPOCH 2 - PROGRESS: at 31.67% examples, 551594 words/s, in_qsize 3, out_qsize 0\n",
            "INFO:gensim.models.base_any2vec:EPOCH 2 - PROGRESS: at 42.37% examples, 552382 words/s, in_qsize 4, out_qsize 0\n",
            "INFO:gensim.models.base_any2vec:EPOCH 2 - PROGRESS: at 53.07% examples, 552485 words/s, in_qsize 3, out_qsize 0\n",
            "INFO:gensim.models.base_any2vec:EPOCH 2 - PROGRESS: at 63.62% examples, 552981 words/s, in_qsize 3, out_qsize 0\n",
            "INFO:gensim.models.base_any2vec:EPOCH 2 - PROGRESS: at 74.18% examples, 553754 words/s, in_qsize 3, out_qsize 0\n",
            "INFO:gensim.models.base_any2vec:EPOCH 2 - PROGRESS: at 85.02% examples, 554736 words/s, in_qsize 3, out_qsize 0\n",
            "INFO:gensim.models.base_any2vec:EPOCH 2 - PROGRESS: at 95.72% examples, 555237 words/s, in_qsize 3, out_qsize 0\n",
            "INFO:gensim.models.base_any2vec:worker thread finished; awaiting finish of 1 more threads\n",
            "INFO:gensim.models.base_any2vec:worker thread finished; awaiting finish of 0 more threads\n",
            "INFO:gensim.models.base_any2vec:EPOCH - 2 : training on 7005207 raw words (5254430 effective words) took 9.5s, 553393 effective words/s\n",
            "INFO:gensim.models.base_any2vec:EPOCH 3 - PROGRESS: at 10.56% examples, 557475 words/s, in_qsize 3, out_qsize 0\n",
            "INFO:gensim.models.base_any2vec:EPOCH 3 - PROGRESS: at 21.40% examples, 559041 words/s, in_qsize 3, out_qsize 0\n",
            "INFO:gensim.models.base_any2vec:EPOCH 3 - PROGRESS: at 32.10% examples, 560950 words/s, in_qsize 3, out_qsize 0\n",
            "INFO:gensim.models.base_any2vec:EPOCH 3 - PROGRESS: at 42.80% examples, 556564 words/s, in_qsize 3, out_qsize 0\n",
            "INFO:gensim.models.base_any2vec:EPOCH 3 - PROGRESS: at 53.64% examples, 556780 words/s, in_qsize 3, out_qsize 0\n",
            "INFO:gensim.models.base_any2vec:EPOCH 3 - PROGRESS: at 64.48% examples, 558051 words/s, in_qsize 3, out_qsize 0\n",
            "INFO:gensim.models.base_any2vec:EPOCH 3 - PROGRESS: at 75.04% examples, 558141 words/s, in_qsize 3, out_qsize 0\n",
            "INFO:gensim.models.base_any2vec:EPOCH 3 - PROGRESS: at 85.88% examples, 558857 words/s, in_qsize 3, out_qsize 0\n",
            "INFO:gensim.models.base_any2vec:EPOCH 3 - PROGRESS: at 96.58% examples, 558710 words/s, in_qsize 3, out_qsize 0\n",
            "INFO:gensim.models.base_any2vec:worker thread finished; awaiting finish of 1 more threads\n",
            "INFO:gensim.models.base_any2vec:worker thread finished; awaiting finish of 0 more threads\n",
            "INFO:gensim.models.base_any2vec:EPOCH - 3 : training on 7005207 raw words (5254658 effective words) took 9.4s, 559366 effective words/s\n",
            "INFO:gensim.models.base_any2vec:EPOCH 4 - PROGRESS: at 10.98% examples, 574904 words/s, in_qsize 3, out_qsize 0\n",
            "INFO:gensim.models.base_any2vec:EPOCH 4 - PROGRESS: at 21.97% examples, 575222 words/s, in_qsize 3, out_qsize 0\n",
            "INFO:gensim.models.base_any2vec:EPOCH 4 - PROGRESS: at 32.81% examples, 574607 words/s, in_qsize 3, out_qsize 0\n",
            "INFO:gensim.models.base_any2vec:EPOCH 4 - PROGRESS: at 43.65% examples, 569724 words/s, in_qsize 3, out_qsize 0\n",
            "INFO:gensim.models.base_any2vec:EPOCH 4 - PROGRESS: at 54.35% examples, 565451 words/s, in_qsize 4, out_qsize 1\n",
            "INFO:gensim.models.base_any2vec:EPOCH 4 - PROGRESS: at 65.34% examples, 566612 words/s, in_qsize 3, out_qsize 0\n",
            "INFO:gensim.models.base_any2vec:EPOCH 4 - PROGRESS: at 76.03% examples, 566805 words/s, in_qsize 3, out_qsize 0\n",
            "INFO:gensim.models.base_any2vec:EPOCH 4 - PROGRESS: at 87.02% examples, 566309 words/s, in_qsize 3, out_qsize 0\n",
            "INFO:gensim.models.base_any2vec:EPOCH 4 - PROGRESS: at 98.00% examples, 567127 words/s, in_qsize 4, out_qsize 0\n",
            "INFO:gensim.models.base_any2vec:worker thread finished; awaiting finish of 1 more threads\n",
            "INFO:gensim.models.base_any2vec:worker thread finished; awaiting finish of 0 more threads\n",
            "INFO:gensim.models.base_any2vec:EPOCH - 4 : training on 7005207 raw words (5254741 effective words) took 9.3s, 567346 effective words/s\n",
            "INFO:gensim.models.base_any2vec:EPOCH 5 - PROGRESS: at 10.70% examples, 563890 words/s, in_qsize 3, out_qsize 0\n",
            "INFO:gensim.models.base_any2vec:EPOCH 5 - PROGRESS: at 21.40% examples, 563465 words/s, in_qsize 3, out_qsize 0\n",
            "INFO:gensim.models.base_any2vec:EPOCH 5 - PROGRESS: at 32.10% examples, 563672 words/s, in_qsize 3, out_qsize 0\n",
            "INFO:gensim.models.base_any2vec:EPOCH 5 - PROGRESS: at 42.94% examples, 561533 words/s, in_qsize 3, out_qsize 0\n",
            "INFO:gensim.models.base_any2vec:EPOCH 5 - PROGRESS: at 53.21% examples, 555937 words/s, in_qsize 3, out_qsize 0\n",
            "INFO:gensim.models.base_any2vec:EPOCH 5 - PROGRESS: at 63.62% examples, 553578 words/s, in_qsize 3, out_qsize 0\n",
            "INFO:gensim.models.base_any2vec:EPOCH 5 - PROGRESS: at 74.32% examples, 554989 words/s, in_qsize 3, out_qsize 0\n",
            "INFO:gensim.models.base_any2vec:EPOCH 5 - PROGRESS: at 85.02% examples, 554391 words/s, in_qsize 3, out_qsize 0\n",
            "INFO:gensim.models.base_any2vec:EPOCH 5 - PROGRESS: at 95.01% examples, 551019 words/s, in_qsize 4, out_qsize 1\n",
            "INFO:gensim.models.base_any2vec:worker thread finished; awaiting finish of 1 more threads\n",
            "INFO:gensim.models.base_any2vec:worker thread finished; awaiting finish of 0 more threads\n",
            "INFO:gensim.models.base_any2vec:EPOCH - 5 : training on 7005207 raw words (5253771 effective words) took 9.5s, 550696 effective words/s\n",
            "INFO:gensim.models.base_any2vec:training on a 35026035 raw words (26271686 effective words) took 47.2s, 556108 effective words/s\n",
            "/usr/local/lib/python3.7/dist-packages/ipykernel_launcher.py:4: DeprecationWarning: Call to deprecated `__getitem__` (Method will be removed in 4.0.0, use self.wv.__getitem__() instead).\n",
            "  after removing the cwd from sys.path.\n"
          ]
        },
        {
          "output_type": "execute_result",
          "data": {
            "text/plain": [
              "array([ 1.711526  , -2.5016036 ,  0.1601445 , -1.0578129 ,  0.14975487,\n",
              "        0.38699734, -2.5397553 ,  0.8811373 ,  1.3406518 ,  0.10407499,\n",
              "        1.1815292 , -0.49771032,  0.31201074, -0.82819223, -0.4401514 ,\n",
              "       -1.5527163 , -0.10167781,  0.7580328 ,  0.7433865 ,  0.9936554 ,\n",
              "        0.25758448, -0.144012  ,  0.19865246, -0.6450498 ,  1.1470464 ,\n",
              "        1.1393743 , -0.7843995 ,  1.0275632 ,  0.9759918 ,  0.4856701 ,\n",
              "       -0.36633888, -1.2608902 , -0.23378325, -0.7697307 ,  0.49320447,\n",
              "        0.02551758,  0.20253336,  0.53052264,  1.1057405 , -0.9955778 ,\n",
              "       -0.72884583,  0.07469505,  0.07683098, -0.782957  , -2.2139127 ,\n",
              "        0.6243253 ,  1.71683   ,  0.6254741 , -0.28403628,  0.09767749,\n",
              "       -1.5080094 , -0.6518235 ,  0.93654364, -0.65679026,  0.41792053,\n",
              "       -0.77660984, -0.80092055, -0.26751277,  0.09936194, -0.5682506 ,\n",
              "       -0.6953767 , -1.5822277 , -1.3261846 ,  0.3535443 ,  0.3568556 ,\n",
              "       -0.3662974 , -0.38854855, -1.3992777 ,  0.3602273 ,  0.26337987,\n",
              "        0.46698907,  0.02968603, -0.48065075, -1.3156443 ,  0.6464475 ,\n",
              "       -0.85754293, -0.41590756, -0.2891524 ,  1.9324863 ,  0.22199376,\n",
              "       -0.60785836, -1.4157296 , -0.6333533 ,  0.95400035, -0.34213096,\n",
              "       -0.08626997,  1.4132217 , -0.23552115, -0.4270331 , -0.02523873,\n",
              "        0.2748215 ,  0.8057248 ,  1.1651733 , -0.56872857, -1.8248433 ,\n",
              "       -0.48756847,  0.01587271, -0.18914619, -0.6381013 ,  1.5159223 ],\n",
              "      dtype=float32)"
            ]
          },
          "metadata": {},
          "execution_count": 50
        }
      ]
    },
    {
      "cell_type": "markdown",
      "source": [
        "# Как извлечь векторы слов, используя предварительно обученные модели Word2Vec и FastText?"
      ],
      "metadata": {
        "id": "fWCOEUwYcnTP"
      }
    },
    {
      "cell_type": "markdown",
      "source": [
        "Мы только что увидели, как получить векторы слов для модели Word2Vec, которую мы только что обучили. Тем не менее, gensim позволяет загружать самые предварительно обученные модели через API загрузчика. Давайте посмотрим, как извлечь векторы слов из пары таких моделей."
      ],
      "metadata": {
        "id": "Swtj9GqzcojW"
      }
    },
    {
      "cell_type": "code",
      "source": [
        "import gensim.downloader as api\n",
        "\n",
        "# Download the models\n",
        "fasttext_model300 = api.load('fasttext-wiki-news-subwords-300')\n",
        "# word2vec_model300 = api.load('word2vec-google-news-300')\n",
        "glove_model300 = api.load('glove-wiki-gigaword-300')\n",
        "\n",
        "# Get word embeddings\n",
        "# word2vec_model300.most_similar('support')\n",
        "fasttext_model300.most_similar('support')"
      ],
      "metadata": {
        "colab": {
          "base_uri": "https://localhost:8080/"
        },
        "id": "j6ugekqocqyn",
        "outputId": "08c123df-7314-4382-cc4e-de2a0f4342f1"
      },
      "execution_count": null,
      "outputs": [
        {
          "output_type": "execute_result",
          "data": {
            "text/plain": [
              "[('suppport', 0.8470075726509094),\n",
              " ('supporting', 0.837419331073761),\n",
              " ('supports', 0.8059129118919373),\n",
              " ('suport', 0.7670574188232422),\n",
              " ('supportin', 0.7664282321929932),\n",
              " ('supported', 0.7623896598815918),\n",
              " ('non-support', 0.7357579469680786),\n",
              " ('suppor', 0.732284665107727),\n",
              " ('suppports', 0.7290899157524109),\n",
              " ('suppporting', 0.7196788191795349)]"
            ]
          },
          "metadata": {},
          "execution_count": 18
        }
      ]
    },
    {
      "cell_type": "markdown",
      "source": [
        "У нас есть 3 разных модели. Вы можете оценить, какая из них работает лучше, используя соответствующую функцию **`evaluate_word_analogies()`**"
      ],
      "metadata": {
        "id": "4fh4HPtOcyb6"
      }
    },
    {
      "cell_type": "code",
      "source": [
        "!git clone https://github.com/nicholas-leonard/word2vec.git"
      ],
      "metadata": {
        "colab": {
          "base_uri": "https://localhost:8080/"
        },
        "id": "lahFdELYx5-u",
        "outputId": "87ddefca-c992-4c65-b913-46f4622abbf0"
      },
      "execution_count": null,
      "outputs": [
        {
          "output_type": "stream",
          "name": "stdout",
          "text": [
            "Cloning into 'word2vec'...\n",
            "remote: Enumerating objects: 139, done.\u001b[K\n",
            "remote: Total 139 (delta 0), reused 0 (delta 0), pack-reused 139\u001b[K\n",
            "Receiving objects: 100% (139/139), 117.30 KiB | 531.00 KiB/s, done.\n",
            "Resolving deltas: 100% (79/79), done.\n"
          ]
        }
      ]
    },
    {
      "cell_type": "code",
      "source": [
        "# Word2ec_accuracy\n",
        "# word2vec_model300.evaluate_word_analogies(analogies=\"/content/word2vec/questions-words.txt\")[0]\n",
        "\n",
        "# fasttext_accuracy\n",
        "fasttext_model300.evaluate_word_analogies(analogies=\"/content/word2vec/questions-words.txt\")[0]\n",
        "\n",
        "# GloVe accuracy\n",
        "glove_model300.evaluate_word_analogies(analogies=\"/content/word2vec/questions-words.txt\")[0]"
      ],
      "metadata": {
        "id": "J3liAIbDc1fg",
        "colab": {
          "base_uri": "https://localhost:8080/"
        },
        "outputId": "fefe4e5d-847e-4732-b9d5-cc6f7479c0e1"
      },
      "execution_count": null,
      "outputs": [
        {
          "output_type": "execute_result",
          "data": {
            "text/plain": [
              "0.7195422354510931"
            ]
          },
          "metadata": {},
          "execution_count": 19
        }
      ]
    },
    {
      "cell_type": "markdown",
      "source": [
        "# Как создавать векторы документов, используя Doc2Vec?"
      ],
      "metadata": {
        "id": "dPhWu1ybc2Qn"
      }
    },
    {
      "cell_type": "markdown",
      "source": [
        "В отличие от **Word2Vec**, модель **Doc2Vec** обеспечивает векторизованное представление группы слов, взятых вместе как единое целое. Это не просто среднее из векторов слов в предложении.\n",
        "\n",
        "Давайте использовать набор данных text8 для обучения Doc2Vec."
      ],
      "metadata": {
        "id": "Kdr-E9kTc4xu"
      }
    },
    {
      "cell_type": "code",
      "source": [
        "import gensim\n",
        "import gensim.downloader as api\n",
        "\n",
        "# Download dataset\n",
        "dataset = api.load(\"text8\")\n",
        "data = [d for d in dataset]"
      ],
      "metadata": {
        "id": "tLS6W1Lbc-ra",
        "colab": {
          "base_uri": "https://localhost:8080/"
        },
        "outputId": "ff2bab9a-8201-41d0-9183-eff2bb5f0356"
      },
      "execution_count": null,
      "outputs": [
        {
          "output_type": "stream",
          "name": "stdout",
          "text": [
            "[==================================================] 100.0% 31.6/31.6MB downloaded\n"
          ]
        }
      ]
    },
    {
      "cell_type": "markdown",
      "source": [
        "Обучающие данные для **`Doc2Vec`** должны быть списком **`TaggedDocuments`**. Чтобы создать его, мы передаем список слов и уникальное целое число в качестве входных данных для **`models.doc2vec.TaggedDocument()`**."
      ],
      "metadata": {
        "id": "GlqYFb81c_Qz"
      }
    },
    {
      "cell_type": "code",
      "source": [
        "# Create the tagged document needed for Doc2Vec\n",
        "def create_tagged_document(list_of_list_of_words):\n",
        "    for i, list_of_words in enumerate(list_of_list_of_words):\n",
        "        yield gensim.models.doc2vec.TaggedDocument(list_of_words, [i])\n",
        "\n",
        "train_data = list(create_tagged_document(data))\n",
        "\n",
        "print(train_data[:1])\n",
        "#> [TaggedDocument(words=['anarchism', 'originated', ... 'social', 'or', 'emotional'], tags=[0])]"
      ],
      "metadata": {
        "id": "LqYb2rr3dJfl",
        "colab": {
          "base_uri": "https://localhost:8080/"
        },
        "outputId": "4ec44512-0d90-4141-93e6-1ab3c31ed84a"
      },
      "execution_count": null,
      "outputs": [
        {
          "output_type": "stream",
          "name": "stdout",
          "text": [
            "[TaggedDocument(words=['anarchism', 'originated', 'as', 'a', 'term', 'of', 'abuse', 'first', 'used', 'against', 'early', 'working', 'class', 'radicals', 'including', 'the', 'diggers', 'of', 'the', 'english', 'revolution', 'and', 'the', 'sans', 'culottes', 'of', 'the', 'french', 'revolution', 'whilst', 'the', 'term', 'is', 'still', 'used', 'in', 'a', 'pejorative', 'way', 'to', 'describe', 'any', 'act', 'that', 'used', 'violent', 'means', 'to', 'destroy', 'the', 'organization', 'of', 'society', 'it', 'has', 'also', 'been', 'taken', 'up', 'as', 'a', 'positive', 'label', 'by', 'self', 'defined', 'anarchists', 'the', 'word', 'anarchism', 'is', 'derived', 'from', 'the', 'greek', 'without', 'archons', 'ruler', 'chief', 'king', 'anarchism', 'as', 'a', 'political', 'philosophy', 'is', 'the', 'belief', 'that', 'rulers', 'are', 'unnecessary', 'and', 'should', 'be', 'abolished', 'although', 'there', 'are', 'differing', 'interpretations', 'of', 'what', 'this', 'means', 'anarchism', 'also', 'refers', 'to', 'related', 'social', 'movements', 'that', 'advocate', 'the', 'elimination', 'of', 'authoritarian', 'institutions', 'particularly', 'the', 'state', 'the', 'word', 'anarchy', 'as', 'most', 'anarchists', 'use', 'it', 'does', 'not', 'imply', 'chaos', 'nihilism', 'or', 'anomie', 'but', 'rather', 'a', 'harmonious', 'anti', 'authoritarian', 'society', 'in', 'place', 'of', 'what', 'are', 'regarded', 'as', 'authoritarian', 'political', 'structures', 'and', 'coercive', 'economic', 'institutions', 'anarchists', 'advocate', 'social', 'relations', 'based', 'upon', 'voluntary', 'association', 'of', 'autonomous', 'individuals', 'mutual', 'aid', 'and', 'self', 'governance', 'while', 'anarchism', 'is', 'most', 'easily', 'defined', 'by', 'what', 'it', 'is', 'against', 'anarchists', 'also', 'offer', 'positive', 'visions', 'of', 'what', 'they', 'believe', 'to', 'be', 'a', 'truly', 'free', 'society', 'however', 'ideas', 'about', 'how', 'an', 'anarchist', 'society', 'might', 'work', 'vary', 'considerably', 'especially', 'with', 'respect', 'to', 'economics', 'there', 'is', 'also', 'disagreement', 'about', 'how', 'a', 'free', 'society', 'might', 'be', 'brought', 'about', 'origins', 'and', 'predecessors', 'kropotkin', 'and', 'others', 'argue', 'that', 'before', 'recorded', 'history', 'human', 'society', 'was', 'organized', 'on', 'anarchist', 'principles', 'most', 'anthropologists', 'follow', 'kropotkin', 'and', 'engels', 'in', 'believing', 'that', 'hunter', 'gatherer', 'bands', 'were', 'egalitarian', 'and', 'lacked', 'division', 'of', 'labour', 'accumulated', 'wealth', 'or', 'decreed', 'law', 'and', 'had', 'equal', 'access', 'to', 'resources', 'william', 'godwin', 'anarchists', 'including', 'the', 'the', 'anarchy', 'organisation', 'and', 'rothbard', 'find', 'anarchist', 'attitudes', 'in', 'taoism', 'from', 'ancient', 'china', 'kropotkin', 'found', 'similar', 'ideas', 'in', 'stoic', 'zeno', 'of', 'citium', 'according', 'to', 'kropotkin', 'zeno', 'repudiated', 'the', 'omnipotence', 'of', 'the', 'state', 'its', 'intervention', 'and', 'regimentation', 'and', 'proclaimed', 'the', 'sovereignty', 'of', 'the', 'moral', 'law', 'of', 'the', 'individual', 'the', 'anabaptists', 'of', 'one', 'six', 'th', 'century', 'europe', 'are', 'sometimes', 'considered', 'to', 'be', 'religious', 'forerunners', 'of', 'modern', 'anarchism', 'bertrand', 'russell', 'in', 'his', 'history', 'of', 'western', 'philosophy', 'writes', 'that', 'the', 'anabaptists', 'repudiated', 'all', 'law', 'since', 'they', 'held', 'that', 'the', 'good', 'man', 'will', 'be', 'guided', 'at', 'every', 'moment', 'by', 'the', 'holy', 'spirit', 'from', 'this', 'premise', 'they', 'arrive', 'at', 'communism', 'the', 'diggers', 'or', 'true', 'levellers', 'were', 'an', 'early', 'communistic', 'movement', 'during', 'the', 'time', 'of', 'the', 'english', 'civil', 'war', 'and', 'are', 'considered', 'by', 'some', 'as', 'forerunners', 'of', 'modern', 'anarchism', 'in', 'the', 'modern', 'era', 'the', 'first', 'to', 'use', 'the', 'term', 'to', 'mean', 'something', 'other', 'than', 'chaos', 'was', 'louis', 'armand', 'baron', 'de', 'lahontan', 'in', 'his', 'nouveaux', 'voyages', 'dans', 'l', 'am', 'rique', 'septentrionale', 'one', 'seven', 'zero', 'three', 'where', 'he', 'described', 'the', 'indigenous', 'american', 'society', 'which', 'had', 'no', 'state', 'laws', 'prisons', 'priests', 'or', 'private', 'property', 'as', 'being', 'in', 'anarchy', 'russell', 'means', 'a', 'libertarian', 'and', 'leader', 'in', 'the', 'american', 'indian', 'movement', 'has', 'repeatedly', 'stated', 'that', 'he', 'is', 'an', 'anarchist', 'and', 'so', 'are', 'all', 'his', 'ancestors', 'in', 'one', 'seven', 'nine', 'three', 'in', 'the', 'thick', 'of', 'the', 'french', 'revolution', 'william', 'godwin', 'published', 'an', 'enquiry', 'concerning', 'political', 'justice', 'although', 'godwin', 'did', 'not', 'use', 'the', 'word', 'anarchism', 'many', 'later', 'anarchists', 'have', 'regarded', 'this', 'book', 'as', 'the', 'first', 'major', 'anarchist', 'text', 'and', 'godwin', 'as', 'the', 'founder', 'of', 'philosophical', 'anarchism', 'but', 'at', 'this', 'point', 'no', 'anarchist', 'movement', 'yet', 'existed', 'and', 'the', 'term', 'anarchiste', 'was', 'known', 'mainly', 'as', 'an', 'insult', 'hurled', 'by', 'the', 'bourgeois', 'girondins', 'at', 'more', 'radical', 'elements', 'in', 'the', 'french', 'revolution', 'the', 'first', 'self', 'labelled', 'anarchist', 'pierre', 'joseph', 'proudhon', 'it', 'is', 'commonly', 'held', 'that', 'it', 'wasn', 't', 'until', 'pierre', 'joseph', 'proudhon', 'published', 'what', 'is', 'property', 'in', 'one', 'eight', 'four', 'zero', 'that', 'the', 'term', 'anarchist', 'was', 'adopted', 'as', 'a', 'self', 'description', 'it', 'is', 'for', 'this', 'reason', 'that', 'some', 'claim', 'proudhon', 'as', 'the', 'founder', 'of', 'modern', 'anarchist', 'theory', 'in', 'what', 'is', 'property', 'proudhon', 'answers', 'with', 'the', 'famous', 'accusation', 'property', 'is', 'theft', 'in', 'this', 'work', 'he', 'opposed', 'the', 'institution', 'of', 'decreed', 'property', 'propri', 't', 'where', 'owners', 'have', 'complete', 'rights', 'to', 'use', 'and', 'abuse', 'their', 'property', 'as', 'they', 'wish', 'such', 'as', 'exploiting', 'workers', 'for', 'profit', 'in', 'its', 'place', 'proudhon', 'supported', 'what', 'he', 'called', 'possession', 'individuals', 'can', 'have', 'limited', 'rights', 'to', 'use', 'resources', 'capital', 'and', 'goods', 'in', 'accordance', 'with', 'principles', 'of', 'equality', 'and', 'justice', 'proudhon', 's', 'vision', 'of', 'anarchy', 'which', 'he', 'called', 'mutualism', 'mutuellisme', 'involved', 'an', 'exchange', 'economy', 'where', 'individuals', 'and', 'groups', 'could', 'trade', 'the', 'products', 'of', 'their', 'labor', 'using', 'labor', 'notes', 'which', 'represented', 'the', 'amount', 'of', 'working', 'time', 'involved', 'in', 'production', 'this', 'would', 'ensure', 'that', 'no', 'one', 'would', 'profit', 'from', 'the', 'labor', 'of', 'others', 'workers', 'could', 'freely', 'join', 'together', 'in', 'co', 'operative', 'workshops', 'an', 'interest', 'free', 'bank', 'would', 'be', 'set', 'up', 'to', 'provide', 'everyone', 'with', 'access', 'to', 'the', 'means', 'of', 'production', 'proudhon', 's', 'ideas', 'were', 'influential', 'within', 'french', 'working', 'class', 'movements', 'and', 'his', 'followers', 'were', 'active', 'in', 'the', 'revolution', 'of', 'one', 'eight', 'four', 'eight', 'in', 'france', 'proudhon', 's', 'philosophy', 'of', 'property', 'is', 'complex', 'it', 'was', 'developed', 'in', 'a', 'number', 'of', 'works', 'over', 'his', 'lifetime', 'and', 'there', 'are', 'differing', 'interpretations', 'of', 'some', 'of', 'his', 'ideas', 'for', 'more', 'detailed', 'discussion', 'see', 'here', 'max', 'stirner', 's', 'egoism', 'in', 'his', 'the', 'ego', 'and', 'its', 'own', 'stirner', 'argued', 'that', 'most', 'commonly', 'accepted', 'social', 'institutions', 'including', 'the', 'notion', 'of', 'state', 'property', 'as', 'a', 'right', 'natural', 'rights', 'in', 'general', 'and', 'the', 'very', 'notion', 'of', 'society', 'were', 'mere', 'illusions', 'or', 'ghosts', 'in', 'the', 'mind', 'saying', 'of', 'society', 'that', 'the', 'individuals', 'are', 'its', 'reality', 'he', 'advocated', 'egoism', 'and', 'a', 'form', 'of', 'amoralism', 'in', 'which', 'individuals', 'would', 'unite', 'in', 'associations', 'of', 'egoists', 'only', 'when', 'it', 'was', 'in', 'their', 'self', 'interest', 'to', 'do', 'so', 'for', 'him', 'property', 'simply', 'comes', 'about', 'through', 'might', 'whoever', 'knows', 'how', 'to', 'take', 'to', 'defend', 'the', 'thing', 'to', 'him', 'belongs', 'property', 'and', 'what', 'i', 'have', 'in', 'my', 'power', 'that', 'is', 'my', 'own', 'so', 'long', 'as', 'i', 'assert', 'myself', 'as', 'holder', 'i', 'am', 'the', 'proprietor', 'of', 'the', 'thing', 'stirner', 'never', 'called', 'himself', 'an', 'anarchist', 'he', 'accepted', 'only', 'the', 'label', 'egoist', 'nevertheless', 'his', 'ideas', 'were', 'influential', 'on', 'many', 'individualistically', 'inclined', 'anarchists', 'although', 'interpretations', 'of', 'his', 'thought', 'are', 'diverse', 'american', 'individualist', 'anarchism', 'benjamin', 'tucker', 'in', 'one', 'eight', 'two', 'five', 'josiah', 'warren', 'had', 'participated', 'in', 'a', 'communitarian', 'experiment', 'headed', 'by', 'robert', 'owen', 'called', 'new', 'harmony', 'which', 'failed', 'in', 'a', 'few', 'years', 'amidst', 'much', 'internal', 'conflict', 'warren', 'blamed', 'the', 'community', 's', 'failure', 'on', 'a', 'lack', 'of', 'individual', 'sovereignty', 'and', 'a', 'lack', 'of', 'private', 'property', 'warren', 'proceeded', 'to', 'organise', 'experimenal', 'anarchist', 'communities', 'which', 'respected', 'what', 'he', 'called', 'the', 'sovereignty', 'of', 'the', 'individual', 'at', 'utopia', 'and', 'modern', 'times', 'in', 'one', 'eight', 'three', 'three', 'warren', 'wrote', 'and', 'published', 'the', 'peaceful', 'revolutionist', 'which', 'some', 'have', 'noted', 'to', 'be', 'the', 'first', 'anarchist', 'periodical', 'ever', 'published', 'benjamin', 'tucker', 'says', 'that', 'warren', 'was', 'the', 'first', 'man', 'to', 'expound', 'and', 'formulate', 'the', 'doctrine', 'now', 'known', 'as', 'anarchism', 'liberty', 'xiv', 'december', 'one', 'nine', 'zero', 'zero', 'one', 'benjamin', 'tucker', 'became', 'interested', 'in', 'anarchism', 'through', 'meeting', 'josiah', 'warren', 'and', 'william', 'b', 'greene', 'he', 'edited', 'and', 'published', 'liberty', 'from', 'august', 'one', 'eight', 'eight', 'one', 'to', 'april', 'one', 'nine', 'zero', 'eight', 'it', 'is', 'widely', 'considered', 'to', 'be', 'the', 'finest', 'individualist', 'anarchist', 'periodical', 'ever', 'issued', 'in', 'the', 'english', 'language', 'tucker', 's', 'conception', 'of', 'individualist', 'anarchism', 'incorporated', 'the', 'ideas', 'of', 'a', 'variety', 'of', 'theorists', 'greene', 's', 'ideas', 'on', 'mutual', 'banking', 'warren', 's', 'ideas', 'on', 'cost', 'as', 'the', 'limit', 'of', 'price', 'a', 'heterodox', 'variety', 'of', 'labour', 'theory', 'of', 'value', 'proudhon', 's', 'market', 'anarchism', 'max', 'stirner', 's', 'egoism', 'and', 'herbert', 'spencer', 's', 'law', 'of', 'equal', 'freedom', 'tucker', 'strongly', 'supported', 'the', 'individual', 's', 'right', 'to', 'own', 'the', 'product', 'of', 'his', 'or', 'her', 'labour', 'as', 'private', 'property', 'and', 'believed', 'in', 'a', 'market', 'economy', 'for', 'trading', 'this', 'property', 'he', 'argued', 'that', 'in', 'a', 'truly', 'free', 'market', 'system', 'without', 'the', 'state', 'the', 'abundance', 'of', 'competition', 'would', 'eliminate', 'profits', 'and', 'ensure', 'that', 'all', 'workers', 'received', 'the', 'full', 'value', 'of', 'their', 'labor', 'other', 'one', 'nine', 'th', 'century', 'individualists', 'included', 'lysander', 'spooner', 'stephen', 'pearl', 'andrews', 'and', 'victor', 'yarros', 'the', 'first', 'international', 'mikhail', 'bakunin', 'one', 'eight', 'one', 'four', 'one', 'eight', 'seven', 'six', 'in', 'europe', 'harsh', 'reaction', 'followed', 'the', 'revolutions', 'of', 'one', 'eight', 'four', 'eight', 'twenty', 'years', 'later', 'in', 'one', 'eight', 'six', 'four', 'the', 'international', 'workingmen', 's', 'association', 'sometimes', 'called', 'the', 'first', 'international', 'united', 'some', 'diverse', 'european', 'revolutionary', 'currents', 'including', 'anarchism', 'due', 'to', 'its', 'genuine', 'links', 'to', 'active', 'workers', 'movements', 'the', 'international', 'became', 'signficiant', 'from', 'the', 'start', 'karl', 'marx', 'was', 'a', 'leading', 'figure', 'in', 'the', 'international', 'he', 'was', 'elected', 'to', 'every', 'succeeding', 'general', 'council', 'of', 'the', 'association', 'the', 'first', 'objections', 'to', 'marx', 'came', 'from', 'the', 'mutualists', 'who', 'opposed', 'communism', 'and', 'statism', 'shortly', 'after', 'mikhail', 'bakunin', 'and', 'his', 'followers', 'joined', 'in', 'one', 'eight', 'six', 'eight', 'the', 'first', 'international', 'became', 'polarised', 'into', 'two', 'camps', 'with', 'marx', 'and', 'bakunin', 'as', 'their', 'respective', 'figureheads', 'the', 'clearest', 'difference', 'between', 'the', 'camps', 'was', 'over', 'strategy', 'the', 'anarchists', 'around', 'bakunin', 'favoured', 'in', 'kropotkin', 's', 'words', 'direct', 'economical', 'struggle', 'against', 'capitalism', 'without', 'interfering', 'in', 'the', 'political', 'parliamentary', 'agitation', 'at', 'that', 'time', 'marx', 'and', 'his', 'followers', 'focused', 'on', 'parliamentary', 'activity', 'bakunin', 'characterised', 'marx', 's', 'ideas', 'as', 'authoritarian', 'and', 'predicted', 'that', 'if', 'a', 'marxist', 'party', 'gained', 'to', 'power', 'its', 'leaders', 'would', 'end', 'up', 'as', 'bad', 'as', 'the', 'ruling', 'class', 'they', 'had', 'fought', 'against', 'in', 'one', 'eight', 'seven', 'two', 'the', 'conflict', 'climaxed', 'with', 'a', 'final', 'split', 'between', 'the', 'two', 'groups', 'at', 'the', 'hague', 'congress', 'this', 'is', 'often', 'cited', 'as', 'the', 'origin', 'of', 'the', 'conflict', 'between', 'anarchists', 'and', 'marxists', 'from', 'this', 'moment', 'the', 'social', 'democratic', 'and', 'libertarian', 'currents', 'of', 'socialism', 'had', 'distinct', 'organisations', 'including', 'rival', 'internationals', 'anarchist', 'communism', 'peter', 'kropotkin', 'proudhon', 'and', 'bakunin', 'both', 'opposed', 'communism', 'associating', 'it', 'with', 'statism', 'however', 'in', 'the', 'one', 'eight', 'seven', 'zero', 's', 'many', 'anarchists', 'moved', 'away', 'from', 'bakunin', 's', 'economic', 'thinking', 'called', 'collectivism', 'and', 'embraced', 'communist', 'concepts', 'communists', 'believed', 'the', 'means', 'of', 'production', 'should', 'be', 'owned', 'collectively', 'and', 'that', 'goods', 'be', 'distributed', 'by', 'need', 'not', 'labor', 'an', 'early', 'anarchist', 'communist', 'was', 'joseph', 'd', 'jacque', 'the', 'first', 'person', 'to', 'describe', 'himself', 'as', 'libertarian', 'unlike', 'proudhon', 'he', 'argued', 'that', 'it', 'is', 'not', 'the', 'product', 'of', 'his', 'or', 'her', 'labor', 'that', 'the', 'worker', 'has', 'a', 'right', 'to', 'but', 'to', 'the', 'satisfaction', 'of', 'his', 'or', 'her', 'needs', 'whatever', 'may', 'be', 'their', 'nature', 'he', 'announced', 'his', 'ideas', 'in', 'his', 'us', 'published', 'journal', 'le', 'libertaire', 'one', 'eight', 'five', 'eight', 'one', 'eight', 'six', 'one', 'peter', 'kropotkin', 'often', 'seen', 'as', 'the', 'most', 'important', 'theorist', 'outlined', 'his', 'economic', 'ideas', 'in', 'the', 'conquest', 'of', 'bread', 'and', 'fields', 'factories', 'and', 'workshops', 'he', 'felt', 'co', 'operation', 'is', 'more', 'beneficial', 'than', 'competition', 'illustrated', 'in', 'nature', 'in', 'mutual', 'aid', 'a', 'factor', 'of', 'evolution', 'one', 'eight', 'nine', 'seven', 'subsequent', 'anarchist', 'communists', 'include', 'emma', 'goldman', 'and', 'alexander', 'berkman', 'many', 'in', 'the', 'anarcho', 'syndicalist', 'movements', 'see', 'below', 'saw', 'anarchist', 'communism', 'as', 'their', 'objective', 'isaac', 'puente', 's', 'one', 'nine', 'three', 'two', 'comunismo', 'libertario', 'was', 'adopted', 'by', 'the', 'spanish', 'cnt', 'as', 'its', 'manifesto', 'for', 'a', 'post', 'revolutionary', 'society', 'some', 'anarchists', 'disliked', 'merging', 'communism', 'with', 'anarchism', 'several', 'individualist', 'anarchists', 'maintained', 'that', 'abolition', 'of', 'private', 'property', 'was', 'not', 'consistent', 'with', 'liberty', 'for', 'example', 'benjamin', 'tucker', 'whilst', 'professing', 'respect', 'for', 'kropotkin', 'and', 'publishing', 'his', 'work', 'described', 'communist', 'anarchism', 'as', 'pseudo', 'anarchism', 'propaganda', 'of', 'the', 'deed', 'johann', 'most', 'was', 'an', 'outspoken', 'advocate', 'of', 'violence', 'anarchists', 'have', 'often', 'been', 'portrayed', 'as', 'dangerous', 'and', 'violent', 'due', 'mainly', 'to', 'a', 'number', 'of', 'high', 'profile', 'violent', 'acts', 'including', 'riots', 'assassinations', 'insurrections', 'and', 'terrorism', 'by', 'some', 'anarchists', 'some', 'revolutionaries', 'of', 'the', 'late', 'one', 'nine', 'th', 'century', 'encouraged', 'acts', 'of', 'political', 'violence', 'such', 'as', 'bombings', 'and', 'the', 'assassinations', 'of', 'heads', 'of', 'state', 'to', 'further', 'anarchism', 'such', 'actions', 'have', 'sometimes', 'been', 'called', 'propaganda', 'by', 'the', 'deed', 'one', 'of', 'the', 'more', 'outspoken', 'advocates', 'of', 'this', 'strategy', 'was', 'johann', 'most', 'who', 'said', 'the', 'existing', 'system', 'will', 'be', 'quickest', 'and', 'most', 'radically', 'overthrown', 'by', 'the', 'annihilation', 'of', 'its', 'exponents', 'therefore', 'massacres', 'of', 'the', 'enemies', 'of', 'the', 'people', 'must', 'be', 'set', 'in', 'motion', 'most', 's', 'preferred', 'method', 'of', 'terrorism', 'dynamite', 'earned', 'him', 'the', 'moniker', 'dynamost', 'however', 'there', 'is', 'no', 'consensus', 'on', 'the', 'legitimacy', 'or', 'utility', 'of', 'violence', 'in', 'general', 'mikhail', 'bakunin', 'and', 'errico', 'malatesta', 'for', 'example', 'wrote', 'of', 'violence', 'as', 'a', 'necessary', 'and', 'sometimes', 'desirable', 'force', 'in', 'revolutionary', 'settings', 'but', 'at', 'the', 'same', 'time', 'they', 'denounced', 'acts', 'of', 'individual', 'terrorism', 'malatesta', 'in', 'on', 'violence', 'and', 'bakunin', 'when', 'he', 'refuted', 'nechaev', 'other', 'anarchists', 'sometimes', 'identified', 'as', 'pacifist', 'anarchists', 'advocated', 'complete', 'nonviolence', 'leo', 'tolstoy', 'whose', 'philosophy', 'is', 'often', 'viewed', 'as', 'a', 'form', 'of', 'christian', 'anarchism', 'see', 'below', 'was', 'a', 'notable', 'exponent', 'of', 'nonviolent', 'resistance', 'anarchism', 'in', 'the', 'labour', 'movement', 'the', 'red', 'and', 'black', 'flag', 'coming', 'from', 'the', 'experience', 'of', 'anarchists', 'in', 'the', 'labour', 'movement', 'is', 'particularly', 'associated', 'with', 'anarcho', 'syndicalism', 'anarcho', 'syndicalism', 'was', 'an', 'early', 'two', 'zero', 'th', 'century', 'working', 'class', 'movement', 'seeking', 'to', 'overthrow', 'capitalism', 'and', 'the', 'state', 'to', 'institute', 'a', 'worker', 'controlled', 'society', 'the', 'movement', 'pursued', 'industrial', 'actions', 'such', 'as', 'general', 'strike', 'as', 'a', 'primary', 'strategy', 'many', 'anarcho', 'syndicalists', 'believed', 'in', 'anarchist', 'communism', 'though', 'not', 'all', 'communists', 'believed', 'in', 'syndicalism', 'after', 'the', 'one', 'eight', 'seven', 'one', 'repression', 'french', 'anarchism', 'reemerged', 'influencing', 'the', 'bourses', 'de', 'travails', 'of', 'autonomous', 'workers', 'groups', 'and', 'trade', 'unions', 'from', 'this', 'movement', 'the', 'conf', 'd', 'ration', 'g', 'n', 'rale', 'du', 'travail', 'general', 'confederation', 'of', 'work', 'cgt', 'was', 'formed', 'in', 'one', 'eight', 'nine', 'five', 'as', 'the', 'first', 'major', 'anarcho', 'syndicalist', 'movement', 'emile', 'pataud', 'and', 'emile', 'pouget', 's', 'writing', 'for', 'the', 'cgt', 'saw', 'libertarian', 'communism', 'developing', 'from', 'a', 'general', 'strike', 'after', 'one', 'nine', 'one', 'four', 'the', 'cgt', 'moved', 'away', 'from', 'anarcho', 'syndicalism', 'due', 'to', 'the', 'appeal', 'of', 'bolshevism', 'french', 'style', 'syndicalism', 'was', 'a', 'significant', 'movement', 'in', 'europe', 'prior', 'to', 'one', 'nine', 'two', 'one', 'and', 'remained', 'a', 'significant', 'movement', 'in', 'spain', 'until', 'the', 'mid', 'one', 'nine', 'four', 'zero', 's', 'the', 'industrial', 'workers', 'of', 'the', 'world', 'iww', 'founded', 'in', 'one', 'nine', 'zero', 'five', 'in', 'the', 'us', 'espoused', 'unionism', 'and', 'sought', 'a', 'general', 'strike', 'to', 'usher', 'in', 'a', 'stateless', 'society', 'in', 'one', 'nine', 'two', 'three', 'one', 'zero', 'zero', 'zero', 'zero', 'zero', 'members', 'existed', 'with', 'the', 'support', 'of', 'up', 'to', 'three', 'zero', 'zero', 'zero', 'zero', 'zero', 'though', 'not', 'explicitly', 'anarchist', 'they', 'organized', 'by', 'rank', 'and', 'file', 'democracy', 'embodying', 'a', 'spirit', 'of', 'resistance', 'that', 'has', 'inspired', 'many', 'anglophone', 'syndicalists', 'cnt', 'propaganda', 'from', 'april', 'two', 'zero', 'zero', 'four', 'reads', 'don', 't', 'let', 'the', 'politicians', 'rule', 'our', 'lives', 'you', 'vote', 'and', 'they', 'decide', 'don', 't', 'allow', 'it', 'unity', 'action', 'self', 'management', 'spanish', 'anarchist', 'trade', 'union', 'federations', 'were', 'formed', 'in', 'the', 'one', 'eight', 'seven', 'zero', 's', 'one', 'nine', 'zero', 'zero', 'and', 'one', 'nine', 'one', 'zero', 'the', 'most', 'successful', 'was', 'the', 'confederaci', 'n', 'nacional', 'del', 'trabajo', 'national', 'confederation', 'of', 'labour', 'cnt', 'founded', 'in', 'one', 'nine', 'one', 'zero', 'prior', 'to', 'the', 'one', 'nine', 'four', 'zero', 's', 'the', 'cnt', 'was', 'the', 'major', 'force', 'in', 'spanish', 'working', 'class', 'politics', 'with', 'a', 'membership', 'of', 'one', 'five', 'eight', 'million', 'in', 'one', 'nine', 'three', 'four', 'the', 'cnt', 'played', 'a', 'major', 'role', 'in', 'the', 'spanish', 'civil', 'war', 'see', 'also', 'anarchism', 'in', 'spain', 'syndicalists', 'like', 'ricardo', 'flores', 'mag', 'n', 'were', 'key', 'figures', 'in', 'the', 'mexican', 'revolution', 'latin', 'american', 'anarchism', 'was', 'strongly', 'influenced', 'extending', 'to', 'the', 'zapatista', 'rebellion', 'and', 'the', 'factory', 'occupation', 'movements', 'in', 'argentina', 'in', 'berlin', 'in', 'one', 'nine', 'two', 'two', 'the', 'cnt', 'was', 'joined', 'with', 'the', 'international', 'workers', 'association', 'an', 'anarcho', 'syndicalist', 'successor', 'to', 'the', 'first', 'international', 'contemporary', 'anarcho', 'syndicalism', 'continues', 'as', 'a', 'minor', 'force', 'in', 'many', 'socities', 'much', 'smaller', 'than', 'in', 'the', 'one', 'nine', 'one', 'zero', 's', 'two', 'zero', 's', 'and', 'three', 'zero', 's', 'the', 'largest', 'organised', 'anarchist', 'movement', 'today', 'is', 'in', 'spain', 'in', 'the', 'form', 'of', 'the', 'confederaci', 'n', 'general', 'del', 'trabajo', 'and', 'the', 'cnt', 'the', 'cgt', 'claims', 'a', 'paid', 'up', 'membership', 'of', 'six', 'zero', 'zero', 'zero', 'zero', 'and', 'received', 'over', 'a', 'million', 'votes', 'in', 'spanish', 'syndical', 'elections', 'other', 'active', 'syndicalist', 'movements', 'include', 'the', 'us', 'workers', 'solidarity', 'alliance', 'and', 'the', 'uk', 'solidarity', 'federation', 'the', 'revolutionary', 'industrial', 'unionist', 'industrial', 'workers', 'of', 'the', 'world', 'also', 'exists', 'claiming', 'two', 'zero', 'zero', 'zero', 'paid', 'members', 'contemporary', 'critics', 'of', 'anarcho', 'syndicalism', 'and', 'revolutionary', 'industrial', 'unionism', 'claim', 'that', 'they', 'are', 'workerist', 'and', 'fail', 'to', 'deal', 'with', 'economic', 'life', 'outside', 'work', 'post', 'leftist', 'critics', 'such', 'as', 'bob', 'black', 'claim', 'anarcho', 'syndicalism', 'advocates', 'oppressive', 'social', 'structures', 'such', 'as', 'work', 'and', 'the', 'workplace', 'anarcho', 'syndicalists', 'in', 'general', 'uphold', 'principles', 'of', 'workers', 'solidarity', 'direct', 'action', 'and', 'self', 'management', 'the', 'russian', 'revolution', 'the', 'russian', 'revolution', 'of', 'one', 'nine', 'one', 'seven', 'was', 'a', 'seismic', 'event', 'in', 'the', 'development', 'of', 'anarchism', 'as', 'a', 'movement', 'and', 'as', 'a', 'philosophy', 'anarchists', 'participated', 'alongside', 'the', 'bolsheviks', 'in', 'both', 'february', 'and', 'october', 'revolutions', 'many', 'anarchists', 'initially', 'supporting', 'the', 'bolshevik', 'coup', 'however', 'the', 'bolsheviks', 'soon', 'turned', 'against', 'the', 'anarchists', 'and', 'other', 'left', 'wing', 'opposition', 'a', 'conflict', 'which', 'culminated', 'in', 'the', 'one', 'nine', 'one', 'eight', 'kronstadt', 'rebellion', 'anarchists', 'in', 'central', 'russia', 'were', 'imprisoned', 'or', 'driven', 'underground', 'or', 'joined', 'the', 'victorious', 'bolsheviks', 'in', 'ukraine', 'anarchists', 'fought', 'in', 'the', 'civil', 'war', 'against', 'both', 'whites', 'and', 'bolsheviks', 'within', 'the', 'makhnovshchina', 'peasant', 'army', 'led', 'by', 'nestor', 'makhno', 'expelled', 'american', 'anarchists', 'emma', 'goldman', 'and', 'alexander', 'berkman', 'before', 'leaving', 'russia', 'were', 'amongst', 'those', 'agitating', 'in', 'response', 'to', 'bolshevik', 'policy', 'and', 'the', 'suppression', 'of', 'the', 'kronstadt', 'uprising', 'both', 'wrote', 'classic', 'accounts', 'of', 'their', 'experiences', 'in', 'russia', 'aiming', 'to', 'expose', 'the', 'reality', 'of', 'bolshevik', 'control', 'for', 'them', 'bakunin', 's', 'predictions', 'about', 'the', 'consequences', 'of', 'marxist', 'rule', 'had', 'proved', 'all', 'too', 'true', 'the', 'victory', 'of', 'the', 'bolsheviks', 'in', 'the', 'october', 'revolution', 'and', 'the', 'resulting', 'russian', 'civil', 'war', 'did', 'serious', 'damage', 'to', 'anarchist', 'movements', 'internationally', 'many', 'workers', 'and', 'activists', 'saw', 'bolshevik', 'success', 'as', 'setting', 'an', 'example', 'communist', 'parties', 'grew', 'at', 'the', 'expense', 'of', 'anarchism', 'and', 'other', 'socialist', 'movements', 'in', 'france', 'and', 'the', 'us', 'for', 'example', 'the', 'major', 'syndicalist', 'movements', 'of', 'the', 'cgt', 'and', 'iww', 'began', 'to', 'realign', 'themselves', 'away', 'from', 'anarchism', 'and', 'towards', 'the', 'communist', 'international', 'in', 'paris', 'the', 'dielo', 'truda', 'group', 'of', 'russian', 'anarchist', 'exiles', 'which', 'included', 'nestor', 'makhno', 'concluded', 'that', 'anarchists', 'needed', 'to', 'develop', 'new', 'forms', 'of', 'organisation', 'in', 'response', 'to', 'the', 'structures', 'of', 'bolshevism', 'their', 'one', 'nine', 'two', 'six', 'manifesto', 'known', 'as', 'the', 'organisational', 'platform', 'of', 'the', 'libertarian', 'communists', 'was', 'supported', 'by', 'some', 'communist', 'anarchists', 'though', 'opposed', 'by', 'many', 'others', 'the', 'platform', 'continues', 'to', 'inspire', 'some', 'contemporary', 'anarchist', 'groups', 'who', 'believe', 'in', 'an', 'anarchist', 'movement', 'organised', 'around', 'its', 'principles', 'of', 'theoretical', 'unity', 'tactical', 'unity', 'collective', 'responsibility', 'and', 'federalism', 'platformist', 'groups', 'today', 'include', 'the', 'workers', 'solidarity', 'movement', 'in', 'ireland', 'the', 'uk', 's', 'anarchist', 'federation', 'and', 'the', 'late', 'north', 'eastern', 'federation', 'of', 'anarchist', 'communists', 'in', 'the', 'northeastern', 'united', 'states', 'and', 'bordering', 'canada', 'the', 'fight', 'against', 'fascism', 'spain', 'one', 'nine', 'three', 'six', 'members', 'of', 'the', 'cnt', 'construct', 'armoured', 'cars', 'to', 'fight', 'against', 'the', 'fascists', 'in', 'one', 'of', 'the', 'collectivised', 'factories', 'in', 'the', 'one', 'nine', 'two', 'zero', 's', 'and', 'one', 'nine', 'three', 'zero', 's', 'the', 'familiar', 'dynamics', 'of', 'anarchism', 's', 'conflict', 'with', 'the', 'state', 'were', 'transformed', 'by', 'the', 'rise', 'of', 'fascism', 'in', 'europe', 'in', 'many', 'cases', 'european', 'anarchists', 'faced', 'difficult', 'choices', 'should', 'they', 'join', 'in', 'popular', 'fronts', 'with', 'reformist', 'democrats', 'and', 'soviet', 'led', 'communists', 'against', 'a', 'common', 'fascist', 'enemy', 'luigi', 'fabbri', 'an', 'exile', 'from', 'italian', 'fascism', 'was', 'amongst', 'those', 'arguing', 'that', 'fascism', 'was', 'something', 'different', 'fascism', 'is', 'not', 'just', 'another', 'form', 'of', 'government', 'which', 'like', 'all', 'others', 'uses', 'violence', 'it', 'is', 'the', 'most', 'authoritarian', 'and', 'the', 'most', 'violent', 'form', 'of', 'government', 'imaginable', 'it', 'represents', 'the', 'utmost', 'glorification', 'of', 'the', 'theory', 'and', 'practice', 'of', 'the', 'principle', 'of', 'authority', 'in', 'france', 'where', 'the', 'fascists', 'came', 'close', 'to', 'insurrection', 'in', 'the', 'february', 'one', 'nine', 'three', 'four', 'riots', 'anarchists', 'divided', 'over', 'a', 'united', 'front', 'policy', 'in', 'spain', 'the', 'cnt', 'initially', 'refused', 'to', 'join', 'a', 'popular', 'front', 'electoral', 'alliance', 'and', 'abstention', 'by', 'cnt', 'supporters', 'led', 'to', 'a', 'right', 'wing', 'election', 'victory', 'but', 'in', 'one', 'nine', 'three', 'six', 'the', 'cnt', 'changed', 'its', 'policy', 'and', 'anarchist', 'votes', 'helped', 'bring', 'the', 'popular', 'front', 'back', 'to', 'power', 'months', 'later', 'the', 'ruling', 'class', 'responded', 'with', 'an', 'attempted', 'coup', 'and', 'the', 'spanish', 'civil', 'war', 'one', 'nine', 'three', 'six', 'three', 'nine', 'was', 'underway', 'in', 'reponse', 'to', 'the', 'army', 'rebellion', 'an', 'anarchist', 'inspired', 'movement', 'of', 'peasants', 'and', 'workers', 'supported', 'by', 'armed', 'militias', 'took', 'control', 'of', 'the', 'major', 'city', 'of', 'barcelona', 'and', 'of', 'large', 'areas', 'of', 'rural', 'spain', 'where', 'they', 'collectivized', 'the', 'land', 'but', 'even', 'before', 'the', 'eventual', 'fascist', 'victory', 'in', 'one', 'nine', 'three', 'nine', 'the', 'anarchists', 'were', 'losing', 'ground', 'in', 'a', 'bitter', 'struggle', 'with', 'the', 'stalinists', 'the', 'cnt', 'leadership', 'often', 'appeared', 'confused', 'and', 'divided', 'with', 'some', 'members', 'controversially', 'entering', 'the', 'government', 'stalinist', 'led', 'troops', 'suppressed', 'the', 'collectives', 'and', 'persecuted', 'both', 'dissident', 'marxists', 'and', 'anarchists', 'since', 'the', 'late', 'one', 'nine', 'seven', 'zero', 's', 'anarchists', 'have', 'been', 'involved', 'in', 'fighting', 'the', 'rise', 'of', 'neo', 'fascist', 'groups', 'in', 'germany', 'and', 'the', 'united', 'kingdom', 'some', 'anarchists', 'worked', 'within', 'militant', 'anti', 'fascist', 'groups', 'alongside', 'members', 'of', 'the', 'marxist', 'left', 'they', 'advocated', 'directly', 'combating', 'fascists', 'with', 'physical', 'force', 'rather', 'than', 'relying', 'on', 'the', 'state', 'since', 'the', 'late', 'one', 'nine', 'nine', 'zero', 's', 'a', 'similar', 'tendency', 'has', 'developed', 'within', 'us', 'anarchism', 'see', 'also', 'anti', 'racist', 'action', 'us', 'anti', 'fascist', 'action', 'uk', 'antifa', 'religious', 'anarchism', 'leo', 'tolstoy', 'one', 'eight', 'two', 'eight', 'one', 'nine', 'one', 'zero', 'most', 'anarchist', 'culture', 'tends', 'to', 'be', 'secular', 'if', 'not', 'outright', 'anti', 'religious', 'however', 'the', 'combination', 'of', 'religious', 'social', 'conscience', 'historical', 'religiousity', 'amongst', 'oppressed', 'social', 'classes', 'and', 'the', 'compatibility', 'of', 'some', 'interpretations', 'of', 'religious', 'traditions', 'with', 'anarchism', 'has', 'resulted', 'in', 'religious', 'anarchism', 'christian', 'anarchists', 'believe', 'that', 'there', 'is', 'no', 'higher', 'authority', 'than', 'god', 'and', 'oppose', 'earthly', 'authority', 'such', 'as', 'government', 'and', 'established', 'churches', 'they', 'believe', 'that', 'jesus', 'teachings', 'were', 'clearly', 'anarchistic', 'but', 'were', 'corrupted', 'when', 'christianity', 'was', 'declared', 'the', 'official', 'religion', 'of', 'rome', 'christian', 'anarchists', 'who', 'follow', 'jesus', 'directive', 'to', 'turn', 'the', 'other', 'cheek', 'are', 'strict', 'pacifists', 'the', 'most', 'famous', 'advocate', 'of', 'christian', 'anarchism', 'was', 'leo', 'tolstoy', 'author', 'of', 'the', 'kingdom', 'of', 'god', 'is', 'within', 'you', 'who', 'called', 'for', 'a', 'society', 'based', 'on', 'compassion', 'nonviolent', 'principles', 'and', 'freedom', 'christian', 'anarchists', 'tend', 'to', 'form', 'experimental', 'communities', 'they', 'also', 'occasionally', 'resist', 'taxation', 'many', 'christian', 'anarchists', 'are', 'vegetarian', 'or', 'vegan', 'christian', 'anarchy', 'can', 'be', 'said', 'to', 'have', 'roots', 'as', 'old', 'as', 'the', 'religion', 's', 'birth', 'as', 'the', 'early', 'church', 'exhibits', 'many', 'anarchistic', 'tendencies', 'such', 'as', 'communal', 'goods', 'and', 'wealth', 'by', 'aiming', 'to', 'obey', 'utterly', 'certain', 'of', 'the', 'bible', 's', 'teachings', 'certain', 'anabaptist', 'groups', 'of', 'sixteenth', 'century', 'europe', 'attempted', 'to', 'emulate', 'the', 'early', 'church', 's', 'social', 'economic', 'organisation', 'and', 'philosophy', 'by', 'regarding', 'it', 'as', 'the', 'only', 'social', 'structure', 'capable', 'of', 'true', 'obediance', 'to', 'jesus', 'teachings', 'and', 'utterly', 'rejected', 'in', 'theory', 'all', 'earthly', 'hierarchies', 'and', 'authority', 'and', 'indeed', 'non', 'anabaptists', 'in', 'general', 'and', 'violence', 'as', 'ungodly', 'such', 'groups', 'for', 'example', 'the', 'hutterites', 'typically', 'went', 'from', 'initially', 'anarchistic', 'beginnings', 'to', 'as', 'their', 'movements', 'stabalised', 'more', 'authoritarian', 'social', 'models', 'chinese', 'anarchism', 'was', 'most', 'influential', 'in', 'the', 'one', 'nine', 'two', 'zero', 's', 'strands', 'of', 'chinese', 'anarchism', 'included', 'tai', 'xu', 's', 'buddhist', 'anarchism', 'which', 'was', 'influenced', 'by', 'tolstoy', 'and', 'the', 'well', 'field', 'system', 'neopaganism', 'with', 'its', 'focus', 'on', 'the', 'environment', 'and', 'equality', 'along', 'with', 'its', 'often', 'decentralized', 'nature', 'has', 'lead', 'to', 'a', 'number', 'of', 'neopagan', 'anarchists', 'one', 'of', 'the', 'most', 'prominent', 'is', 'starhawk', 'who', 'writes', 'extensively', 'about', 'both', 'spirituality', 'and', 'activism', 'anarchism', 'and', 'feminism', 'emma', 'goldman', 'early', 'french', 'feminists', 'such', 'as', 'jenny', 'd', 'h', 'ricourt', 'and', 'juliette', 'adam', 'criticised', 'the', 'mysogyny', 'in', 'the', 'anarchism', 'of', 'proudhon', 'during', 'the', 'one', 'eight', 'five', 'zero', 's', 'anarcha', 'feminism', 'is', 'a', 'kind', 'of', 'radical', 'feminism', 'that', 'espouses', 'the', 'belief', 'that', 'patriarchy', 'is', 'a', 'fundamental', 'problem', 'in', 'society', 'while', 'anarchist', 'feminism', 'has', 'existed', 'for', 'more', 'than', 'a', 'hundred', 'years', 'its', 'explicit', 'formulation', 'as', 'anarcha', 'feminism', 'dates', 'back', 'to', 'the', 'early', 'seven', 'zero', 's', 'during', 'the', 'second', 'wave', 'feminist', 'movement', 'anarcha', 'feminism', 'views', 'patriarchy', 'as', 'the', 'first', 'manifestation', 'of', 'hierarchy', 'in', 'human', 'history', 'thus', 'the', 'first', 'form', 'of', 'oppression', 'occurred', 'in', 'the', 'dominance', 'of', 'male', 'over', 'female', 'anarcha', 'feminists', 'then', 'conclude', 'that', 'if', 'feminists', 'are', 'against', 'patriarchy', 'they', 'must', 'also', 'be', 'against', 'all', 'forms', 'of', 'hierarchy', 'and', 'therefore', 'must', 'reject', 'the', 'authoritarian', 'nature', 'of', 'the', 'state', 'and', 'capitalism', 'anarcho', 'primitivists', 'see', 'the', 'creation', 'of', 'gender', 'roles', 'and', 'patriarchy', 'a', 'creation', 'of', 'the', 'start', 'of', 'civilization', 'and', 'therefore', 'consider', 'primitivism', 'to', 'also', 'be', 'an', 'anarchist', 'school', 'of', 'thought', 'that', 'addresses', 'feminist', 'concerns', 'eco', 'feminism', 'is', 'often', 'considered', 'a', 'feminist', 'variant', 'of', 'green', 'anarchist', 'feminist', 'thought', 'anarcha', 'feminism', 'is', 'most', 'often', 'associated', 'with', 'early', 'two', 'zero', 'th', 'century', 'authors', 'and', 'theorists', 'such', 'as', 'emma', 'goldman', 'and', 'voltairine', 'de', 'cleyre', 'although', 'even', 'early', 'first', 'wave', 'feminist', 'mary', 'wollstonecraft', 'held', 'proto', 'anarchist', 'views', 'and', 'william', 'godwin', 'is', 'often', 'considered', 'a', 'feminist', 'anarchist', 'precursor', 'it', 'should', 'be', 'noted', 'that', 'goldman', 'and', 'de', 'cleyre', 'though', 'they', 'both', 'opposed', 'the', 'state', 'had', 'opposing', 'philosophies', 'as', 'de', 'cleyre', 'explains', 'miss', 'goldman', 'is', 'a', 'communist', 'i', 'am', 'an', 'individualist', 'she', 'wishes', 'to', 'destroy', 'the', 'right', 'of', 'property', 'i', 'wish', 'to', 'assert', 'it', 'i', 'make', 'my', 'war', 'upon', 'privilege', 'and', 'authority', 'whereby', 'the', 'right', 'of', 'property', 'the', 'true', 'right', 'in', 'that', 'which', 'is', 'proper', 'to', 'the', 'individual', 'is', 'annihilated', 'she', 'believes', 'that', 'co', 'operation', 'would', 'entirely', 'supplant', 'competition', 'i', 'hold', 'that', 'competition', 'in', 'one', 'form', 'or', 'another', 'will', 'always', 'exist', 'and', 'that', 'it', 'is', 'highly', 'desirable', 'it', 'should', 'in', 'the', 'spanish', 'civil', 'war', 'an', 'anarcha', 'feminist', 'group', 'free', 'women', 'organized', 'to', 'defend', 'both', 'anarchist', 'and', 'feminist', 'ideas', 'in', 'the', 'modern', 'day', 'anarchist', 'movement', 'many', 'anarchists', 'male', 'or', 'female', 'consider', 'themselves', 'feminists', 'and', 'anarcha', 'feminist', 'ideas', 'are', 'growing', 'the', 'publishing', 'of', 'quiet', 'rumors', 'an', 'anarcha', 'feminist', 'reader', 'has', 'helped', 'to', 'spread', 'various', 'kinds', 'of', 'anti', 'authoritarian', 'and', 'anarchist', 'feminist', 'ideas', 'to', 'the', 'broader', 'movement', 'wendy', 'mcelroy', 'has', 'popularized', 'an', 'individualist', 'anarchism', 'take', 'on', 'feminism', 'in', 'her', 'books', 'articles', 'and', 'individualist', 'feminist', 'website', 'anarcho', 'capitalism', 'murray', 'rothbard', 'one', 'nine', 'two', 'six', 'one', 'nine', 'nine', 'five', 'anarcho', 'capitalism', 'is', 'a', 'predominantly', 'united', 'states', 'based', 'theoretical', 'tradition', 'that', 'desires', 'a', 'stateless', 'society', 'with', 'the', 'economic', 'system', 'of', 'free', 'market', 'capitalism', 'unlike', 'other', 'branches', 'of', 'anarchism', 'it', 'does', 'not', 'oppose', 'profit', 'or', 'capitalism', 'consequently', 'most', 'anarchists', 'do', 'not', 'recognise', 'anarcho', 'capitalism', 'as', 'a', 'form', 'of', 'anarchism', 'murray', 'rothbard', 's', 'synthesis', 'of', 'classical', 'liberalism', 'and', 'austrian', 'economics', 'was', 'germinal', 'for', 'the', 'development', 'of', 'contemporary', 'anarcho', 'capitalist', 'theory', 'he', 'defines', 'anarcho', 'capitalism', 'in', 'terms', 'of', 'the', 'non', 'aggression', 'principle', 'based', 'on', 'the', 'concept', 'of', 'natural', 'law', 'competiting', 'theorists', 'use', 'egoism', 'utilitarianism', 'used', 'by', 'david', 'friedman', 'or', 'contractarianism', 'used', 'by', 'jan', 'narveson', 'some', 'minarchists', 'such', 'as', 'ayn', 'rand', 'robert', 'nozick', 'and', 'robert', 'a', 'heinlein', 'have', 'influenced', 'anarcho', 'capitalism', 'some', 'anarcho', 'capitalists', 'along', 'with', 'some', 'right', 'wing', 'libertarian', 'historians', 'such', 'as', 'david', 'hart', 'and', 'ralph', 'raico', 'considered', 'similar', 'philosophies', 'existing', 'prior', 'to', 'rothbard', 'to', 'be', 'anarcho', 'capitalist', 'such', 'as', 'those', 'of', 'gustave', 'de', 'molinari', 'and', 'auberon', 'herbert', 'opponents', 'of', 'anarcho', 'capitalists', 'dispute', 'these', 'claims', 'the', 'place', 'of', 'anarcho', 'capitalism', 'within', 'anarchism', 'and', 'indeed', 'whether', 'it', 'is', 'a', 'form', 'of', 'anarchism', 'at', 'all', 'is', 'highly', 'controversial', 'for', 'more', 'on', 'this', 'debate', 'see', 'anarchism', 'and', 'anarcho', 'capitalism', 'anarchism', 'and', 'the', 'environment', 'since', 'the', 'late', 'one', 'nine', 'seven', 'zero', 's', 'anarchists', 'in', 'anglophone', 'and', 'european', 'countries', 'have', 'been', 'taking', 'action', 'for', 'the', 'natural', 'environment', 'eco', 'anarchists', 'or', 'green', 'anarchists', 'believe', 'in', 'deep', 'ecology', 'this', 'is', 'a', 'worldview', 'that', 'embraces', 'biodiversity', 'and', 'sustainability', 'eco', 'anarchists', 'often', 'use', 'direct', 'action', 'against', 'what', 'they', 'see', 'as', 'earth', 'destroying', 'institutions', 'of', 'particular', 'importance', 'is', 'the', 'earth', 'first', 'movement', 'that', 'takes', 'action', 'such', 'as', 'tree', 'sitting', 'another', 'important', 'component', 'is', 'ecofeminism', 'which', 'sees', 'the', 'domination', 'of', 'nature', 'as', 'a', 'metaphor', 'for', 'the', 'domination', 'of', 'women', 'green', 'anarchism', 'also', 'involves', 'a', 'critique', 'of', 'industrial', 'capitalism', 'and', 'for', 'some', 'green', 'anarchists', 'civilization', 'itself', 'primitivism', 'is', 'a', 'predominantly', 'western', 'philosophy', 'that', 'advocates', 'a', 'return', 'to', 'a', 'pre', 'industrial', 'and', 'usually', 'pre', 'agricultural', 'society', 'it', 'develops', 'a', 'critique', 'of', 'industrial', 'civilization', 'in', 'this', 'critique', 'technology', 'and', 'development', 'have', 'alienated', 'people', 'from', 'the', 'natural', 'world', 'this', 'philosophy', 'develops', 'themes', 'present', 'in', 'the', 'political', 'action', 'of', 'the', 'luddites', 'and', 'the', 'writings', 'of', 'jean', 'jacques', 'rousseau', 'primitivism', 'developed', 'in', 'the', 'context', 'of', 'the', 'reclaim', 'the', 'streets', 'earth', 'first', 'and', 'the', 'earth', 'liberation', 'front', 'movements', 'john', 'zerzan', 'wrote', 'that', 'civilization', 'not', 'just', 'the', 'state', 'would', 'need', 'to', 'fall', 'for', 'anarchy', 'to', 'be', 'achieved', 'anarcho', 'primitivists', 'point', 'to', 'the', 'anti', 'authoritarian', 'nature', 'of', 'many', 'primitive', 'or', 'hunter', 'gatherer', 'societies', 'throughout', 'the', 'world', 's', 'history', 'as', 'examples', 'of', 'anarchist', 'societies', 'other', 'branches', 'and', 'offshoots', 'anarchism', 'generates', 'many', 'eclectic', 'and', 'syncretic', 'philosophies', 'and', 'movements', 'since', 'the', 'western', 'social', 'formet', 'in', 'the', 'one', 'nine', 'six', 'zero', 's', 'and', 'one', 'nine', 'seven', 'zero', 's', 'a', 'number', 'new', 'of', 'movements', 'and', 'schools', 'have', 'appeared', 'most', 'of', 'these', 'stances', 'are', 'limited', 'to', 'even', 'smaller', 'numbers', 'than', 'the', 'schools', 'and', 'movements', 'listed', 'above', 'hakim', 'bey', 'post', 'left', 'anarchy', 'post', 'left', 'anarchy', 'also', 'called', 'egoist', 'anarchism', 'seeks', 'to', 'distance', 'itself', 'from', 'the', 'traditional', 'left', 'communists', 'liberals', 'social', 'democrats', 'etc', 'and', 'to', 'escape', 'the', 'confines', 'of', 'ideology', 'in', 'general', 'post', 'leftists', 'argue', 'that', 'anarchism', 'has', 'been', 'weakened', 'by', 'its', 'long', 'attachment', 'to', 'contrary', 'leftist', 'movements', 'and', 'single', 'issue', 'causes', 'anti', 'war', 'anti', 'nuclear', 'etc', 'it', 'calls', 'for', 'a', 'synthesis', 'of', 'anarchist', 'thought', 'and', 'a', 'specifically', 'anti', 'authoritarian', 'revolutionary', 'movement', 'outside', 'of', 'the', 'leftist', 'milieu', 'it', 'often', 'focuses', 'on', 'the', 'individual', 'rather', 'than', 'speaking', 'in', 'terms', 'of', 'class', 'or', 'other', 'broad', 'generalizations', 'and', 'shuns', 'organizational', 'tendencies', 'in', 'favor', 'of', 'the', 'complete', 'absence', 'of', 'explicit', 'hierarchy', 'important', 'groups', 'and', 'individuals', 'associated', 'with', 'post', 'left', 'anarchy', 'include', 'crimethinc', 'the', 'magazine', 'anarchy', 'a', 'journal', 'of', 'desire', 'armed', 'and', 'its', 'editor', 'jason', 'mcquinn', 'bob', 'black', 'hakim', 'bey', 'and', 'others', 'for', 'more', 'information', 'see', 'infoshop', 'org', 's', 'anarchy', 'after', 'leftism', 'section', 'and', 'the', 'post', 'left', 'section', 'on', 'anarchism', 'ws', 'see', 'also', 'post', 'left', 'anarchy', 'post', 'structuralism', 'the', 'term', 'postanarchism', 'was', 'originated', 'by', 'saul', 'newman', 'first', 'receiving', 'popular', 'attention', 'in', 'his', 'book', 'from', 'bakunin', 'to', 'lacan', 'to', 'refer', 'to', 'a', 'theoretical', 'move', 'towards', 'a', 'synthesis', 'of', 'classical', 'anarchist', 'theory', 'and', 'poststructuralist', 'thought', 'subsequent', 'to', 'newman', 's', 'use', 'of', 'the', 'term', 'however', 'it', 'has', 'taken', 'on', 'a', 'life', 'of', 'its', 'own', 'and', 'a', 'wide', 'range', 'of', 'ideas', 'including', 'autonomism', 'post', 'left', 'anarchy', 'situationism', 'post', 'colonialism', 'and', 'zapatismo', 'by', 'its', 'very', 'nature', 'post', 'anarchism', 'rejects', 'the', 'idea', 'that', 'it', 'should', 'be', 'a', 'coherent', 'set', 'of', 'doctrines', 'and', 'beliefs', 'as', 'such', 'it', 'is', 'difficult', 'if', 'not', 'impossible', 'to', 'state', 'with', 'any', 'degree', 'of', 'certainty', 'who', 'should', 'or', 'shouldn', 't', 'be', 'grouped', 'under', 'the', 'rubric', 'nonetheless', 'key', 'thinkers', 'associated', 'with', 'post', 'anarchism', 'include', 'saul', 'newman', 'todd', 'may', 'gilles', 'deleuze', 'and', 'f', 'lix', 'guattari', 'external', 'reference', 'postanarchism', 'clearinghouse', 'see', 'also', 'post', 'anarchism', 'insurrectionary', 'anarchism', 'insurrectionary', 'anarchism', 'is', 'a', 'form', 'of', 'revolutionary', 'anarchism', 'critical', 'of', 'formal', 'anarchist', 'labor', 'unions', 'and', 'federations', 'insurrectionary', 'anarchists', 'advocate', 'informal', 'organization', 'including', 'small', 'affinity', 'groups', 'carrying', 'out', 'acts', 'of', 'resistance', 'in', 'various', 'struggles', 'and', 'mass', 'organizations', 'called', 'base', 'structures', 'which', 'can', 'include', 'exploited', 'individuals', 'who', 'are', 'not', 'anarchists', 'proponents', 'include', 'wolfi', 'landstreicher', 'and', 'alfredo', 'm', 'bonanno', 'author', 'of', 'works', 'including', 'armed', 'joy', 'and', 'the', 'anarchist', 'tension', 'this', 'tendency', 'is', 'represented', 'in', 'the', 'us', 'in', 'magazines', 'such', 'as', 'willful', 'disobedience', 'and', 'killing', 'king', 'abacus', 'see', 'also', 'insurrectionary', 'anarchism', 'small', 'a', 'anarchism', 'small', 'a', 'anarchism', 'is', 'a', 'term', 'used', 'in', 'two', 'different', 'but', 'not', 'unconnected', 'contexts', 'dave', 'neal', 'posited', 'the', 'term', 'in', 'opposition', 'to', 'big', 'a', 'anarchism', 'in', 'the', 'article', 'anarchism', 'ideology', 'or', 'methodology', 'while', 'big', 'a', 'anarchism', 'referred', 'to', 'ideological', 'anarchists', 'small', 'a', 'anarchism', 'was', 'applied', 'to', 'their', 'methodological', 'counterparts', 'those', 'who', 'viewed', 'anarchism', 'as', 'a', 'way', 'of', 'acting', 'or', 'a', 'historical', 'tendency', 'against', 'illegitimate', 'authority', 'as', 'an', 'anti', 'ideological', 'position', 'small', 'a', 'anarchism', 'shares', 'some', 'similarities', 'with', 'post', 'left', 'anarchy', 'david', 'graeber', 'and', 'andrej', 'grubacic', 'offer', 'an', 'alternative', 'use', 'of', 'the', 'term', 'applying', 'it', 'to', 'groups', 'and', 'movements', 'organising', 'according', 'to', 'or', 'acting', 'in', 'a', 'manner', 'consistent', 'with', 'anarchist', 'principles', 'of', 'decentralisation', 'voluntary', 'association', 'mutual', 'aid', 'the', 'network', 'model', 'and', 'crucially', 'the', 'rejection', 'of', 'any', 'idea', 'that', 'the', 'end', 'justifies', 'the', 'means', 'let', 'alone', 'that', 'the', 'business', 'of', 'a', 'revolutionary', 'is', 'to', 'seize', 'state', 'power', 'and', 'then', 'begin', 'imposing', 'one', 's', 'vision', 'at', 'the', 'point', 'of', 'a', 'gun', 'other', 'issues', 'conceptions', 'of', 'an', 'anarchist', 'society', 'many', 'political', 'philosophers', 'justify', 'support', 'of', 'the', 'state', 'as', 'a', 'means', 'of', 'regulating', 'violence', 'so', 'that', 'the', 'destruction', 'caused', 'by', 'human', 'conflict', 'is', 'minimized', 'and', 'fair', 'relationships', 'are', 'established', 'anarchists', 'argue', 'that', 'pursuit', 'of', 'these', 'ends', 'does', 'not', 'justify', 'the', 'establishment', 'of', 'a', 'state', 'many', 'argue', 'that', 'the', 'state', 'is', 'incompatible', 'with', 'those', 'goals', 'and', 'the', 'cause', 'of', 'chaos', 'violence', 'and', 'war', 'anarchists', 'argue', 'that', 'the', 'state', 'helps', 'to', 'create', 'a', 'monopoly', 'on', 'violence', 'and', 'uses', 'violence', 'to', 'advance', 'elite', 'interests', 'much', 'effort', 'has', 'been', 'dedicated', 'to', 'explaining', 'how', 'anarchist', 'societies', 'would', 'handle', 'criminality', 'see', 'also', 'anarchism', 'and', 'society', 'civil', 'rights', 'and', 'cultural', 'sovereignty', 'black', 'anarchism', 'opposes', 'the', 'existence', 'of', 'a', 'state', 'capitalism', 'and', 'subjugation', 'and', 'domination', 'of', 'people', 'of', 'color', 'and', 'favors', 'a', 'non', 'hierarchical', 'organization', 'of', 'society', 'theorists', 'include', 'ashanti', 'alston', 'lorenzo', 'komboa', 'ervin', 'and', 'sam', 'mbah', 'anarchist', 'people', 'of', 'color', 'was', 'created', 'as', 'a', 'forum', 'for', 'non', 'caucasian', 'anarchists', 'to', 'express', 'their', 'thoughts', 'about', 'racial', 'issues', 'within', 'the', 'anarchist', 'movement', 'particularly', 'within', 'the', 'united', 'states', 'national', 'anarchism', 'is', 'a', 'political', 'view', 'which', 'seeks', 'to', 'unite', 'cultural', 'or', 'ethnic', 'preservation', 'with', 'anarchist', 'views', 'its', 'adherents', 'propose', 'that', 'those', 'preventing', 'ethnic', 'groups', 'or', 'races', 'from', 'living', 'in', 'separate', 'autonomous', 'groupings', 'should', 'be', 'resisted', 'anti', 'racist', 'action', 'is', 'not', 'an', 'anarchist', 'group', 'but', 'many', 'anarchists', 'are', 'involved', 'it', 'focuses', 'on', 'publicly', 'confronting', 'racist', 'agitators', 'the', 'zapatista', 'movement', 'of', 'chiapas', 'mexico', 'is', 'a', 'cultural', 'sovereignty', 'group', 'with', 'some', 'anarchist', 'proclivities', 'neocolonialism', 'and', 'globalization', 'nearly', 'all', 'anarchists', 'oppose', 'neocolonialism', 'as', 'an', 'attempt', 'to', 'use', 'economic', 'coercion', 'on', 'a', 'global', 'scale', 'carried', 'out', 'through', 'state', 'institutions', 'such', 'as', 'the', 'world', 'bank', 'world', 'trade', 'organization', 'group', 'of', 'eight', 'and', 'the', 'world', 'economic', 'forum', 'globalization', 'is', 'an', 'ambiguous', 'term', 'that', 'has', 'different', 'meanings', 'to', 'different', 'anarchist', 'factions', 'most', 'anarchists', 'use', 'the', 'term', 'to', 'mean', 'neocolonialism', 'and', 'or', 'cultural', 'imperialism', 'which', 'they', 'may', 'see', 'as', 'related', 'many', 'are', 'active', 'in', 'the', 'anti', 'globalization', 'movement', 'others', 'particularly', 'anarcho', 'capitalists', 'use', 'globalization', 'to', 'mean', 'the', 'worldwide', 'expansion', 'of', 'the', 'division', 'of', 'labor', 'and', 'trade', 'which', 'they', 'see', 'as', 'beneficial', 'so', 'long', 'as', 'governments', 'do', 'not', 'intervene', 'parallel', 'structures', 'many', 'anarchists', 'try', 'to', 'set', 'up', 'alternatives', 'to', 'state', 'supported', 'institutions', 'and', 'outposts', 'such', 'as', 'food', 'not', 'bombs', 'infoshops', 'educational', 'systems', 'such', 'as', 'home', 'schooling', 'neighborhood', 'mediation', 'arbitration', 'groups', 'and', 'so', 'on', 'the', 'idea', 'is', 'to', 'create', 'the', 'structures', 'for', 'a', 'new', 'anti', 'authoritarian', 'society', 'in', 'the', 'shell', 'of', 'the', 'old', 'authoritarian', 'one', 'technology', 'recent', 'technological', 'developments', 'have', 'made', 'the', 'anarchist', 'cause', 'both', 'easier', 'to', 'advance', 'and', 'more', 'conceivable', 'to', 'people', 'many', 'people', 'use', 'the', 'internet', 'to', 'form', 'on', 'line', 'communities', 'intellectual', 'property', 'is', 'undermined', 'and', 'a', 'gift', 'culture', 'supported', 'by', 'sharing', 'music', 'files', 'open', 'source', 'programming', 'and', 'the', 'free', 'software', 'movement', 'these', 'cyber', 'communities', 'include', 'the', 'gnu', 'linux', 'indymedia', 'and', 'wiki', 'some', 'anarchists', 'see', 'information', 'technology', 'as', 'the', 'best', 'weapon', 'to', 'defeat', 'authoritarianism', 'some', 'even', 'think', 'the', 'information', 'age', 'makes', 'eventual', 'anarchy', 'inevitable', 'see', 'also', 'crypto', 'anarchism', 'and', 'cypherpunk', 'pacifism', 'some', 'anarchists', 'consider', 'pacifism', 'opposition', 'to', 'war', 'to', 'be', 'inherent', 'in', 'their', 'philosophy', 'anarcho', 'pacifists', 'take', 'it', 'further', 'and', 'follow', 'leo', 'tolstoy', 's', 'belief', 'in', 'non', 'violence', 'anarchists', 'see', 'war', 'as', 'an', 'activity', 'in', 'which', 'the', 'state', 'seeks', 'to', 'gain', 'and', 'consolidate', 'power', 'both', 'domestically', 'and', 'in', 'foreign', 'lands', 'and', 'subscribe', 'to', 'randolph', 'bourne', 's', 'view', 'that', 'war', 'is', 'the', 'health', 'of', 'the', 'state', 'a', 'lot', 'of', 'anarchist', 'activity', 'has', 'been', 'anti', 'war', 'based', 'parliamentarianism', 'in', 'general', 'terms', 'the', 'anarchist', 'ethos', 'opposes', 'voting', 'in', 'elections', 'because', 'voting', 'amounts', 'to', 'condoning', 'the', 'state', 'voluntaryism', 'is', 'an', 'anarchist', 'school', 'of', 'thought', 'which', 'emphasizes', 'tending', 'your', 'own', 'garden', 'and', 'neither', 'ballots', 'nor', 'bullets', 'the', 'anarchist', 'case', 'against', 'voting', 'is', 'explained', 'in', 'the', 'ethics', 'of', 'voting', 'by', 'george', 'h', 'smith', 'also', 'see', 'voting', 'anarchists', 'an', 'oxymoron', 'or', 'what', 'by', 'joe', 'peacott', 'and', 'writings', 'by', 'fred', 'woodworth', 'sectarianism', 'most', 'anarchist', 'schools', 'of', 'thought', 'are', 'to', 'some', 'degree', 'sectarian', 'there', 'is', 'often', 'a', 'difference', 'of', 'opinion', 'within', 'each', 'school', 'about', 'how', 'to', 'react', 'to', 'or', 'interact', 'with', 'other', 'schools', 'some', 'such', 'as', 'panarchists', 'believe', 'that', 'it', 'is', 'possible', 'for', 'a', 'variety', 'of', 'modes', 'of', 'social', 'life', 'to', 'coexist', 'and', 'compete', 'some', 'anarchists', 'view', 'opposing', 'schools', 'as', 'a', 'social', 'impossibility', 'and', 'resist', 'interaction', 'others', 'see', 'opportunities', 'for', 'coalition', 'building', 'or', 'at', 'least', 'temporary', 'alliances', 'for', 'specific', 'purposes', 'see', 'anarchism', 'without', 'adjectives', 'criticisms', 'of', 'anarchism', 'main', 'article', 'criticisms', 'of', 'anarchism', 'violence', 'since', 'anarchism', 'has', 'often', 'been', 'associated', 'with', 'violence', 'and', 'destruction', 'some', 'people', 'have', 'seen', 'it', 'as', 'being', 'too', 'violent', 'on', 'the', 'other', 'hand', 'hand', 'frederick', 'engels', 'criticsed', 'anarchists', 'for', 'not', 'being', 'violent', 'enough', 'a', 'revolution', 'is', 'certainly', 'the', 'most', 'authoritarian', 'thing', 'there', 'is', 'it', 'is', 'the', 'act', 'whereby', 'one', 'part', 'of', 'the', 'population', 'imposes', 'its', 'will', 'upon', 'the', 'other', 'part', 'by', 'means', 'of', 'rifles', 'bayonets', 'and', 'cannon', 'authoritarian', 'means', 'if', 'such', 'there', 'be', 'at', 'all', 'and', 'if', 'the', 'victorious', 'party', 'does', 'not', 'want', 'to', 'have', 'fought', 'in', 'vain', 'it', 'must', 'maintain', 'this', 'rule', 'by', 'means', 'of', 'the', 'terror', 'which', 'its', 'arms', 'inspire', 'in', 'the', 'reactionists', 'would', 'the', 'paris', 'commune', 'have', 'lasted', 'a', 'single', 'day', 'if', 'it', 'had', 'not', 'made', 'use', 'of', 'this', 'authority', 'of', 'the', 'armed', 'people', 'against', 'the', 'bourgeois', 'utopianism', 'anarchism', 'is', 'often', 'criticised', 'as', 'unfeasible', 'or', 'plain', 'utopian', 'even', 'by', 'many', 'who', 'agree', 'that', 'it', 's', 'a', 'nice', 'idea', 'in', 'principle', 'for', 'example', 'carl', 'landauer', 'in', 'his', 'book', 'european', 'socialism', 'criticizes', 'anarchism', 'as', 'being', 'unrealistically', 'utopian', 'and', 'holds', 'that', 'government', 'is', 'a', 'lesser', 'evil', 'than', 'a', 'society', 'without', 'repressive', 'force', 'he', 'holds', 'that', 'the', 'belief', 'that', 'ill', 'intentions', 'will', 'cease', 'if', 'repressive', 'force', 'disappears', 'is', 'an', 'absurdity', 'however', 'it', 'must', 'be', 'noted', 'that', 'not', 'all', 'anarchists', 'have', 'such', 'a', 'utopian', 'view', 'of', 'anarchism', 'for', 'example', 'some', 'such', 'as', 'benjamin', 'tucker', 'advocate', 'privately', 'funded', 'institutions', 'that', 'defend', 'individual', 'liberty', 'and', 'property', 'however', 'other', 'anarchists', 'such', 'as', 'sir', 'herbert', 'read', 'proudly', 'accept', 'the', 'characterization', 'utopian', 'class', 'character', 'marxists', 'have', 'characterised', 'anarchism', 'as', 'an', 'expression', 'of', 'the', 'class', 'interests', 'of', 'the', 'petite', 'bourgeoisie', 'or', 'perhaps', 'the', 'lumpenproletariat', 'see', 'e', 'g', 'plekhanov', 'for', 'a', 'marxist', 'critique', 'of', 'one', 'eight', 'nine', 'five', 'anarchists', 'have', 'also', 'been', 'characterised', 'as', 'spoilt', 'middle', 'class', 'dilettantes', 'most', 'recently', 'in', 'relation', 'to', 'anti', 'capitalist', 'protesters', 'tacit', 'authoritarianism', 'in', 'recent', 'decades', 'anarchism', 'has', 'been', 'criticised', 'by', 'situationists', 'post', 'anarchists', 'and', 'others', 'of', 'preserving', 'tacitly', 'statist', 'authoritarian', 'or', 'bureaucratic', 'tendencies', 'behind', 'a', 'dogmatic', 'facade', 'hypocrisy', 'some', 'critics', 'point', 'to', 'the', 'sexist', 'and', 'racist', 'views', 'of', 'some', 'prominent', 'anarchists', 'notably', 'proudhon', 'and', 'bakunin', 'as', 'examples', 'of', 'hypocrisy', 'inherent', 'within', 'anarchism', 'while', 'many', 'anarchists', 'however', 'dismiss', 'that', 'the', 'personal', 'prejudices', 'of', 'one', 'nine', 'th', 'century', 'theorists', 'influence', 'the', 'beliefs', 'of', 'present', 'day', 'anarchists', 'others', 'criticise', 'modern', 'anarchism', 'for', 'continuing', 'to', 'be', 'eurocentric', 'and', 'reference', 'the', 'impact', 'of', 'anarchist', 'thinkers', 'like', 'proudhon', 'on', 'fascism', 'through', 'groups', 'like', 'cercle', 'proudhon', 'anarcho', 'capitalist', 'bryan', 'caplan', 'argues', 'that', 'the', 'treatment', 'of', 'fascists', 'and', 'suspected', 'fascist', 'sympathizers', 'by', 'spanish', 'anarchists', 'in', 'the', 'spanish', 'civil', 'war', 'was', 'a', 'form', 'of', 'illegitimate', 'coercion', 'making', 'the', 'proffessed', 'anarchists', 'ultimately', 'just', 'a', 'third', 'faction', 'of', 'totalitarians', 'alongside', 'the', 'communists', 'and', 'fascists', 'he', 'also', 'criticizes', 'the', 'willingness', 'of', 'the', 'cnt', 'to', 'join', 'the', 'statist', 'republican', 'government', 'during', 'the', 'civil', 'war', 'and', 'references', 'stanley', 'g', 'payne', 's', 'book', 'on', 'the', 'franco', 'regime', 'which', 'claims', 'that', 'the', 'cnt', 'entered', 'negotiations', 'with', 'the', 'fascist', 'government', 'six', 'years', 'after', 'the', 'war', 'cultural', 'phenomena', 'noam', 'chomsky', 'one', 'nine', 'two', 'eight', 'the', 'kind', 'of', 'anarchism', 'that', 'is', 'most', 'easily', 'encountered', 'in', 'popular', 'culture', 'is', 'represented', 'by', 'celebrities', 'who', 'publicly', 'identify', 'themselves', 'as', 'anarchists', 'although', 'some', 'anarchists', 'reject', 'any', 'focus', 'on', 'such', 'famous', 'living', 'individuals', 'as', 'inherently', 'litist', 'the', 'following', 'figures', 'are', 'examples', 'of', 'prominent', 'publicly', 'self', 'avowed', 'anarchists', 'the', 'mit', 'professor', 'of', 'linguistics', 'noam', 'chomsky', 'the', 'science', 'fiction', 'author', 'ursula', 'k', 'le', 'guin', 'the', 'social', 'historian', 'howard', 'zinn', 'entertainer', 'and', 'author', 'hans', 'alfredsson', 'the', 'avant', 'garde', 'artist', 'nicol', 's', 'rossell', 'in', 'denmark', 'the', 'freetown', 'christiania', 'was', 'created', 'in', 'downtown', 'copenhagen', 'the', 'housing', 'and', 'employment', 'crisis', 'in', 'most', 'of', 'western', 'europe', 'led', 'to', 'the', 'formation', 'of', 'communes', 'and', 'squatter', 'movements', 'like', 'the', 'one', 'still', 'thriving', 'in', 'barcelona', 'in', 'catalonia', 'militant', 'resistance', 'to', 'neo', 'nazi', 'groups', 'in', 'places', 'like', 'germany', 'and', 'the', 'uprisings', 'of', 'autonomous', 'marxism', 'situationist', 'and', 'autonomist', 'groups', 'in', 'france', 'and', 'italy', 'also', 'helped', 'to', 'give', 'popularity', 'to', 'anti', 'authoritarian', 'non', 'capitalist', 'ideas', 'in', 'various', 'musical', 'styles', 'anarchism', 'rose', 'in', 'popularity', 'most', 'famous', 'for', 'the', 'linking', 'of', 'anarchist', 'ideas', 'and', 'music', 'has', 'been', 'punk', 'rock', 'although', 'in', 'the', 'modern', 'age', 'hip', 'hop', 'and', 'folk', 'music', 'are', 'also', 'becoming', 'important', 'mediums', 'for', 'the', 'spreading', 'of', 'the', 'anarchist', 'message', 'in', 'the', 'uk', 'this', 'was', 'associated', 'with', 'the', 'punk', 'rock', 'movement', 'the', 'band', 'crass', 'is', 'celebrated', 'for', 'its', 'anarchist', 'and', 'pacifist', 'ideas', 'the', 'dutch', 'punk', 'band', 'the', 'ex', 'further', 'exemplifies', 'this', 'expression', 'for', 'further', 'details', 'see', 'anarcho', 'punk', 'see', 'also', 'there', 'are', 'many', 'concepts', 'relevant', 'to', 'the', 'topic', 'of', 'anarchism', 'this', 'is', 'a', 'brief', 'summary', 'there', 'is', 'also', 'a', 'more', 'extensive', 'list', 'of', 'anarchist', 'concepts', 'individualist', 'anarchism', 'anarcho', 'communism', 'anarcho', 'syndicalism', 'anarcho', 'capitalism', 'mutualism', 'christian', 'anarchism', 'anarcha', 'feminism', 'green', 'anarchism', 'nihilist', 'anarchism', 'anarcho', 'nationalism', 'black', 'anarchism', 'national', 'anarchism', 'post', 'anarchism', 'post', 'left', 'anarchism', 'libertarian', 'socialism', 'anarchist', 'symbolism', 'list', 'of', 'anarchism', 'links', 'list', 'of', 'anarchists', 'list', 'of', 'anarchist', 'organizations', 'major', 'conflicts', 'within', 'anarchist', 'thought', 'past', 'and', 'present', 'anarchist', 'communities', 'historical', 'events', 'paris', 'commune', 'one', 'eight', 'seven', 'one', 'haymarket', 'riot', 'one', 'eight', 'eight', 'six', 'the', 'makhnovschina', 'one', 'nine', 'one', 'seven', 'one', 'nine', 'two', 'one', 'kronstadt', 'rebellion', 'one', 'nine', 'two', 'one', 'spanish', 'revolution', 'one', 'nine', 'three', 'six', 'see', 'anarchism', 'in', 'spain', 'and', 'spanish', 'revolution', 'may', 'one', 'nine', 'six', 'eight', 'france', 'one', 'nine', 'six', 'eight', 'wto', 'meeting', 'in', 'seattle', 'one', 'nine', 'nine', 'nine', 'books', 'the', 'following', 'is', 'a', 'sample', 'of', 'books', 'that', 'have', 'been', 'referenced', 'in', 'this', 'page', 'a', 'more', 'complete', 'list', 'can', 'be', 'found', 'at', 'the', 'list', 'of', 'anarchist', 'books', 'mikhail', 'bakunin', 'god', 'and', 'the', 'state', 'emma', 'goldman', 'anarchism', 'other', 'essays', 'peter', 'kropotkin', 'mutual', 'aid', 'pierre', 'joseph', 'proudhon', 'what', 'is', 'property', 'rudolf', 'rocker', 'anarcho', 'syndicalism', 'murray', 'rothbard', 'the', 'ethics', 'of', 'liberty', 'max', 'stirner', 'the', 'ego', 'and', 'its', 'own', 'leo', 'tolstoy', 'the', 'kingdom', 'of', 'god', 'is', 'within', 'you', 'anarchism', 'by', 'region', 'culture', 'african', 'anarchism', 'anarchism', 'in', 'spain', 'anarchism', 'in', 'the', 'english', 'tradition', 'chinese', 'anarchism', 'references', 'these', 'notes', 'have', 'no', 'corresponding', 'reference', 'in', 'the', 'article', 'they', 'might', 'be', 're', 'used', 'against', 'politics', 'appleton', 'boston', 'anarchists', 'yarros', 'victor', 'liberty', 'vii', 'january', 'two', 'one', 'eight', 'nine', 'two', 'noam', 'chomsky', 'on', 'anarchism', 'by', 'noam', 'chomsky', 'external', 'links', 'the', 'overwhelming', 'diversity', 'and', 'number', 'of', 'links', 'relating', 'to', 'anarchism', 'is', 'extensively', 'covered', 'on', 'the', 'links', 'subpage', 'anarchoblogs', 'blogs', 'by', 'anarchists', 'anarchy', 'archives', 'extensively', 'archives', 'information', 'relating', 'to', 'famous', 'anarchists', 'this', 'includes', 'many', 'of', 'their', 'books', 'and', 'other', 'publications', 'hundreds', 'of', 'anarchists', 'are', 'listed', 'with', 'short', 'bios', 'links', 'dedicated', 'pages', 'at', 'the', 'daily', 'bleed', 's', 'anarchist', 'encyclopedia', 'infoshop', 'org', 'wikipedia', 'page', 'industrial', 'workers', 'of', 'the', 'world', 'anarchism', 'forms', 'of', 'government', 'political', 'ideology', 'entry', 'points', 'political', 'theories', 'social', 'philosophy', 'autism', 'is', 'classified', 'as', 'a', 'neurodevelopmental', 'disorder', 'that', 'manifests', 'itself', 'in', 'markedly', 'abnormal', 'social', 'interaction', 'communication', 'ability', 'patterns', 'of', 'interests', 'and', 'patterns', 'of', 'behavior', 'although', 'the', 'specific', 'etiology', 'of', 'autism', 'is', 'unknown', 'many', 'researchers', 'suspect', 'that', 'autism', 'results', 'from', 'genetically', 'mediated', 'vulnerabilities', 'to', 'environmental', 'triggers', 'and', 'while', 'there', 'is', 'disagreement', 'about', 'the', 'magnitude', 'nature', 'and', 'mechanisms', 'for', 'such', 'environmental', 'factors', 'researchers', 'have', 'found', 'at', 'least', 'seven', 'major', 'genes', 'prevalent', 'among', 'individuals', 'diagnosed', 'as', 'autistic', 'some', 'estimate', 'that', 'autism', 'occurs', 'in', 'as', 'many', 'as', 'one', 'united', 'states', 'child', 'in', 'one', 'six', 'six', 'however', 'the', 'national', 'institute', 'of', 'mental', 'health', 'gives', 'a', 'more', 'conservative', 'estimate', 'of', 'one', 'in', 'one', 'zero', 'zero', 'zero', 'for', 'families', 'that', 'already', 'have', 'one', 'autistic', 'child', 'the', 'odds', 'of', 'a', 'second', 'autistic', 'child', 'may', 'be', 'as', 'high', 'as', 'one', 'in', 'twenty', 'diagnosis', 'is', 'based', 'on', 'a', 'list', 'of', 'psychiatric', 'criteria', 'and', 'a', 'series', 'of', 'standardized', 'clinical', 'tests', 'may', 'also', 'be', 'used', 'autism', 'may', 'not', 'be', 'physiologically', 'obvious', 'a', 'complete', 'physical', 'and', 'neurological', 'evaluation', 'will', 'typically', 'be', 'part', 'of', 'diagnosing', 'autism', 'some', 'now', 'speculate', 'that', 'autism', 'is', 'not', 'a', 'single', 'condition', 'but', 'a', 'group', 'of', 'several', 'distinct', 'conditions', 'that', 'manifest', 'in', 'similar', 'ways', 'by', 'definition', 'autism', 'must', 'manifest', 'delays', 'in', 'social', 'interaction', 'language', 'as', 'used', 'in', 'social', 'communication', 'or', 'symbolic', 'or', 'imaginative', 'play', 'with', 'onset', 'prior', 'to', 'age', 'three', 'years', 'according', 'to', 'the', 'diagnostic', 'and', 'statistical', 'manual', 'of', 'mental', 'disorders', 'the', 'icd', 'one', 'zero', 'also', 'says', 'that', 'symptoms', 'must', 'manifest', 'before', 'the', 'age', 'of', 'three', 'years', 'there', 'have', 'been', 'large', 'increases', 'in', 'the', 'reported', 'incidence', 'of', 'autism', 'for', 'reasons', 'that', 'are', 'heavily', 'debated', 'by', 'researchers', 'in', 'psychology', 'and', 'related', 'fields', 'within', 'the', 'scientific', 'community', 'some', 'children', 'with', 'autism', 'have', 'improved', 'their', 'social', 'and', 'other', 'skills', 'to', 'the', 'point', 'where', 'they', 'can', 'fully', 'participate', 'in', 'mainstream', 'education', 'and', 'social', 'events', 'but', 'there', 'are', 'lingering', 'concerns', 'that', 'an', 'absolute', 'cure', 'from', 'autism', 'is', 'impossible', 'with', 'current', 'technology', 'however', 'many', 'autistic', 'children', 'and', 'adults', 'who', 'are', 'able', 'to', 'communicate', 'at', 'least', 'in', 'writing', 'are', 'opposed', 'to', 'attempts', 'to', 'cure', 'their', 'conditions', 'and', 'see', 'such', 'conditions', 'as', 'part', 'of', 'who', 'they', 'are', 'history', 'dr', 'hans', 'asperger', 'described', 'a', 'form', 'of', 'autism', 'in', 'the', 'one', 'nine', 'four', 'zero', 's', 'that', 'later', 'became', 'known', 'as', 'asperger', 's', 'syndrome', 'the', 'word', 'autism', 'was', 'first', 'used', 'in', 'the', 'english', 'language', 'by', 'swiss', 'psychiatrist', 'eugene', 'bleuler', 'in', 'a', 'one', 'nine', 'one', 'two', 'number', 'of', 'the', 'american', 'journal', 'of', 'insanity', 'it', 'comes', 'from', 'the', 'greek', 'word', 'for', 'self', 'however', 'the', 'classification', 'of', 'autism', 'did', 'not', 'occur', 'until', 'the', 'middle', 'of', 'the', 'twentieth', 'century', 'when', 'in', 'one', 'nine', 'four', 'three', 'psychiatrist', 'dr', 'leo', 'kanner', 'of', 'the', 'johns', 'hopkins', 'hospital', 'in', 'baltimore', 'reported', 'on', 'one', 'one', 'child', 'patients', 'with', 'striking', 'behavioral', 'similarities', 'and', 'introduced', 'the', 'label', 'early', 'infantile', 'autism', 'he', 'suggested', 'autism', 'from', 'the', 'greek', 'autos', 'meaning', 'self', 'to', 'describe', 'the', 'fact', 'that', 'the', 'children', 'seemed', 'to', 'lack', 'interest', 'in', 'other', 'people', 'although', 'kanner', 's', 'first', 'paper', 'on', 'the', 'subject', 'was', 'published', 'in', 'a', 'now', 'defunct', 'journal', 'the', 'nervous', 'child', 'almost', 'every', 'characteristic', 'he', 'originally', 'described', 'is', 'still', 'regarded', 'as', 'typical', 'of', 'the', 'autistic', 'spectrum', 'of', 'disorders', 'at', 'the', 'same', 'time', 'an', 'austrian', 'scientist', 'dr', 'hans', 'asperger', 'described', 'a', 'different', 'form', 'of', 'autism', 'that', 'became', 'known', 'as', 'asperger', 's', 'syndrome', 'but', 'the', 'widespread', 'recognition', 'of', 'asperger', 's', 'work', 'was', 'delayed', 'by', 'world', 'war', 'ii', 'in', 'germany', 'and', 'by', 'the', 'fact', 'that', 'his', 'seminal', 'paper', 'wasn', 't', 'translated', 'into', 'english', 'for', 'almost', 'five', 'zero', 'years', 'the', 'majority', 'of', 'his', 'work', 'wasn', 't', 'widely', 'read', 'until', 'one', 'nine', 'nine', 'seven', 'thus', 'these', 'two', 'conditions', 'were', 'described', 'and', 'are', 'today', 'listed', 'in', 'the', 'diagnostic', 'and', 'statistical', 'manual', 'of', 'mental', 'disorders', 'dsm', 'iv', 'tr', 'fourth', 'edition', 'text', 'revision', 'one', 'as', 'two', 'of', 'the', 'five', 'pervasive', 'developmental', 'disorders', 'pdd', 'more', 'often', 'referred', 'to', 'today', 'as', 'autism', 'spectrum', 'disorders', 'asd', 'all', 'of', 'these', 'conditions', 'are', 'characterized', 'by', 'varying', 'degrees', 'of', 'difference', 'in', 'communication', 'skills', 'social', 'interactions', 'and', 'restricted', 'repetitive', 'and', 'stereotyped', 'patterns', 'of', 'behavior', 'few', 'clinicians', 'today', 'solely', 'use', 'the', 'dsm', 'iv', 'criteria', 'for', 'determining', 'a', 'diagnosis', 'of', 'autism', 'which', 'are', 'based', 'on', 'the', 'absence', 'or', 'delay', 'of', 'certain', 'developmental', 'milestones', 'many', 'clinicians', 'instead', 'use', 'an', 'alternate', 'means', 'or', 'a', 'combination', 'thereof', 'to', 'more', 'accurately', 'determine', 'a', 'diagnosis', 'terminology', 'when', 'referring', 'to', 'someone', 'diagnosed', 'with', 'autism', 'the', 'term', 'autistic', 'is', 'often', 'used', 'however', 'the', 'term', 'person', 'with', 'autism', 'can', 'be', 'used', 'instead', 'this', 'is', 'referred', 'to', 'as', 'person', 'first', 'terminology', 'the', 'autistic', 'community', 'generally', 'prefers', 'the', 'term', 'autistic', 'for', 'reasons', 'that', 'are', 'fairly', 'controversial', 'this', 'article', 'uses', 'the', 'term', 'autistic', 'see', 'talk', 'page', 'characteristics', 'dr', 'leo', 'kanner', 'introduced', 'the', 'label', 'early', 'infantile', 'autism', 'in', 'one', 'nine', 'four', 'three', 'there', 'is', 'a', 'great', 'diversity', 'in', 'the', 'skills', 'and', 'behaviors', 'of', 'individuals', 'diagnosed', 'as', 'autistic', 'and', 'physicians', 'will', 'often', 'arrive', 'at', 'different', 'conclusions', 'about', 'the', 'appropriate', 'diagnosis', 'much', 'of', 'this', 'is', 'due', 'to', 'the', 'sensory', 'system', 'of', 'an', 'autistic', 'which', 'is', 'quite', 'different', 'from', 'the', 'sensory', 'system', 'of', 'other', 'people', 'since', 'certain', 'stimulations', 'can', 'affect', 'an', 'autistic', 'differently', 'than', 'a', 'non', 'autistic', 'and', 'the', 'degree', 'to', 'which', 'the', 'sensory', 'system', 'is', 'affected', 'varies', 'wildly', 'from', 'one', 'autistic', 'person', 'to', 'another', 'nevertheless', 'professionals', 'within', 'pediatric', 'care', 'and', 'development', 'often', 'look', 'for', 'early', 'indicators', 'of', 'autism', 'in', 'order', 'to', 'initiate', 'treatment', 'as', 'early', 'as', 'possible', 'however', 'some', 'people', 'do', 'not', 'believe', 'in', 'treatment', 'for', 'autism', 'either', 'because', 'they', 'do', 'not', 'believe', 'autism', 'is', 'a', 'disorder', 'or', 'because', 'they', 'believe', 'treatment', 'can', 'do', 'more', 'harm', 'than', 'good', 'social', 'development', 'typically', 'developing', 'infants', 'are', 'social', 'beings', 'early', 'in', 'life', 'they', 'do', 'such', 'things', 'as', 'gaze', 'at', 'people', 'turn', 'toward', 'voices', 'grasp', 'a', 'finger', 'and', 'even', 'smile', 'in', 'contrast', 'most', 'autistic', 'children', 'prefer', 'objects', 'to', 'faces', 'and', 'seem', 'to', 'have', 'tremendous', 'difficulty', 'learning', 'to', 'engage', 'in', 'the', 'give', 'and', 'take', 'of', 'everyday', 'human', 'interaction', 'even', 'in', 'the', 'first', 'few', 'months', 'of', 'life', 'many', 'seem', 'indifferent', 'to', 'other', 'people', 'because', 'they', 'avoid', 'eye', 'contact', 'and', 'do', 'not', 'interact', 'with', 'them', 'as', 'often', 'as', 'non', 'autistic', 'children', 'children', 'with', 'autism', 'often', 'appear', 'to', 'prefer', 'being', 'alone', 'to', 'the', 'company', 'of', 'others', 'and', 'may', 'passively', 'accept', 'such', 'things', 'as', 'hugs', 'and', 'cuddling', 'without', 'reciprocating', 'or', 'resist', 'attention', 'altogether', 'later', 'they', 'seldom', 'seek', 'comfort', 'from', 'others', 'or', 'respond', 'to', 'parents', 'displays', 'of', 'anger', 'or', 'affection', 'in', 'a', 'typical', 'way', 'research', 'has', 'suggested', 'that', 'although', 'autistic', 'children', 'are', 'attached', 'to', 'their', 'parents', 'their', 'expression', 'of', 'this', 'attachment', 'is', 'unusual', 'and', 'difficult', 'to', 'interpret', 'parents', 'who', 'looked', 'forward', 'to', 'the', 'joys', 'of', 'cuddling', 'teaching', 'and', 'playing', 'with', 'their', 'child', 'may', 'feel', 'crushed', 'by', 'this', 'lack', 'of', 'expected', 'attachment', 'behavior', 'children', 'with', 'autism', 'appear', 'to', 'lack', 'theory', 'of', 'mind', 'the', 'ability', 'to', 'see', 'things', 'from', 'another', 'person', 's', 'perspective', 'a', 'behavior', 'cited', 'as', 'exclusive', 'to', 'human', 'beings', 'above', 'the', 'age', 'of', 'five', 'and', 'possibly', 'other', 'higher', 'primates', 'such', 'as', 'adult', 'gorillas', 'chimpanzees', 'and', 'bonobos', 'typical', 'five', 'year', 'olds', 'can', 'develop', 'insights', 'into', 'other', 'people', 's', 'different', 'knowledge', 'feelings', 'and', 'intentions', 'interpretations', 'based', 'upon', 'social', 'cues', 'e', 'g', 'gestures', 'facial', 'expressions', 'an', 'individual', 'with', 'autism', 'seems', 'to', 'lack', 'these', 'interpretation', 'skills', 'an', 'inability', 'that', 'leaves', 'them', 'unable', 'to', 'predict', 'or', 'understand', 'other', 'people', 's', 'actions', 'the', 'social', 'alienation', 'of', 'autistic', 'and', 'asperger', 's', 'people', 'is', 'so', 'intense', 'from', 'childhood', 'that', 'many', 'of', 'them', 'have', 'imaginary', 'friends', 'as', 'companionship', 'however', 'having', 'an', 'imaginary', 'friend', 'is', 'not', 'necessarily', 'a', 'sign', 'of', 'autism', 'and', 'also', 'occurs', 'in', 'non', 'autistic', 'children', 'although', 'not', 'universal', 'it', 'is', 'common', 'for', 'autistic', 'people', 'to', 'not', 'regulate', 'their', 'behavior', 'this', 'can', 'take', 'the', 'form', 'of', 'crying', 'or', 'verbal', 'outbursts', 'that', 'may', 'seem', 'out', 'of', 'proportion', 'to', 'the', 'situation', 'individuals', 'with', 'autism', 'generally', 'prefer', 'consistent', 'routines', 'and', 'environments', 'they', 'may', 'react', 'negatively', 'to', 'changes', 'in', 'them', 'it', 'is', 'not', 'uncommon', 'for', 'these', 'individuals', 'to', 'exhibit', 'aggression', 'increased', 'levels', 'of', 'self', 'stimulatory', 'behavior', 'self', 'injury', 'or', 'extensive', 'withdrawal', 'in', 'overwhelming', 'situations', 'sensory', 'system', 'a', 'key', 'indicator', 'to', 'clinicians', 'making', 'a', 'proper', 'assessment', 'for', 'autism', 'would', 'include', 'looking', 'for', 'symptoms', 'much', 'like', 'those', 'found', 'in', 'sensory', 'integration', 'dysfunction', 'children', 'will', 'exhibit', 'problems', 'coping', 'with', 'the', 'normal', 'sensory', 'input', 'indicators', 'of', 'this', 'disorder', 'include', 'oversensitivity', 'or', 'underreactivity', 'to', 'touch', 'movement', 'sights', 'or', 'sounds', 'physical', 'clumsiness', 'or', 'carelessness', 'poor', 'body', 'awareness', 'a', 'tendency', 'to', 'be', 'easily', 'distracted', 'impulsive', 'physical', 'or', 'verbal', 'behavior', 'an', 'activity', 'level', 'that', 'is', 'unusually', 'high', 'or', 'low', 'not', 'unwinding', 'or', 'calming', 'oneself', 'difficulty', 'learning', 'new', 'movements', 'difficulty', 'in', 'making', 'transitions', 'from', 'one', 'situation', 'to', 'another', 'social', 'and', 'or', 'emotional', 'problems', 'delays', 'in', 'speech', 'language', 'or', 'motor', 'skills', 'specific', 'learning', 'difficulties', 'delays', 'in', 'academic', 'achievement', 'one', 'common', 'example', 'is', 'an', 'individual', 'with', 'autism', 'hearing', 'a', 'person', 'with', 'autism', 'may', 'have', 'trouble', 'hearing', 'certain', 'people', 'while', 'other', 'people', 'are', 'louder', 'than', 'usual', 'or', 'the', 'person', 'with', 'autism', 'may', 'be', 'unable', 'to', 'filter', 'out', 'sounds', 'in', 'certain', 'situations', 'such', 'as', 'in', 'a', 'large', 'crowd', 'of', 'people', 'see', 'cocktail', 'party', 'effect', 'however', 'this', 'is', 'perhaps', 'the', 'part', 'of', 'the', 'autism', 'that', 'tends', 'to', 'vary', 'the', 'most', 'from', 'person', 'to', 'person', 'so', 'these', 'examples', 'may', 'not', 'apply', 'to', 'every', 'autistic', 'it', 'should', 'be', 'noted', 'that', 'sensory', 'difficulties', 'although', 'reportedly', 'common', 'in', 'autistics', 'are', 'not', 'part', 'of', 'the', 'dsm', 'iv', 'diagnostic', 'criteria', 'for', 'autistic', 'disorder', 'communication', 'difficulties', 'by', 'age', 'three', 'typical', 'children', 'have', 'passed', 'predictable', 'language', 'learning', 'milestones', 'one', 'of', 'the', 'earliest', 'is', 'babbling', 'by', 'the', 'first', 'birthday', 'a', 'typical', 'toddler', 'says', 'words', 'turns', 'when', 'he', 'or', 'she', 'hears', 'his', 'or', 'her', 'name', 'points', 'when', 'he', 'or', 'she', 'wants', 'a', 'toy', 'and', 'when', 'offered', 'something', 'distasteful', 'makes', 'it', 'clear', 'that', 'the', 'answer', 'is', 'no', 'speech', 'development', 'in', 'people', 'with', 'autism', 'takes', 'different', 'paths', 'some', 'remain', 'mute', 'throughout', 'their', 'lives', 'while', 'being', 'fully', 'literate', 'and', 'able', 'to', 'communicate', 'in', 'other', 'ways', 'images', 'sign', 'language', 'and', 'typing', 'are', 'far', 'more', 'natural', 'to', 'them', 'some', 'infants', 'who', 'later', 'show', 'signs', 'of', 'autism', 'coo', 'and', 'babble', 'during', 'the', 'first', 'few', 'months', 'of', 'life', 'but', 'stop', 'soon', 'afterwards', 'others', 'may', 'be', 'delayed', 'developing', 'language', 'as', 'late', 'as', 'the', 'teenage', 'years', 'still', 'inability', 'to', 'speak', 'does', 'not', 'mean', 'that', 'people', 'with', 'autism', 'are', 'unintelligent', 'or', 'unaware', 'once', 'given', 'appropriate', 'accommodations', 'many', 'will', 'happily', 'converse', 'for', 'hours', 'and', 'can', 'often', 'be', 'found', 'in', 'online', 'chat', 'rooms', 'discussion', 'boards', 'or', 'websites', 'and', 'even', 'using', 'communication', 'devices', 'at', 'autism', 'community', 'social', 'events', 'such', 'as', 'autreat', 'those', 'who', 'do', 'speak', 'often', 'use', 'language', 'in', 'unusual', 'ways', 'retaining', 'features', 'of', 'earlier', 'stages', 'of', 'language', 'development', 'for', 'long', 'periods', 'or', 'throughout', 'their', 'lives', 'some', 'speak', 'only', 'single', 'words', 'while', 'others', 'repeat', 'the', 'same', 'phrase', 'over', 'and', 'over', 'some', 'repeat', 'what', 'they', 'hear', 'a', 'condition', 'called', 'echolalia', 'sing', 'song', 'repetitions', 'in', 'particular', 'are', 'a', 'calming', 'joyous', 'activity', 'that', 'many', 'autistic', 'adults', 'engage', 'in', 'many', 'people', 'with', 'autism', 'have', 'a', 'strong', 'tonal', 'sense', 'and', 'can', 'often', 'understand', 'spoken', 'language', 'some', 'children', 'may', 'exhibit', 'only', 'slight', 'delays', 'in', 'language', 'or', 'even', 'seem', 'to', 'have', 'precocious', 'language', 'and', 'unusually', 'large', 'vocabularies', 'but', 'have', 'great', 'difficulty', 'in', 'sustaining', 'typical', 'conversations', 'the', 'give', 'and', 'take', 'of', 'non', 'autistic', 'conversation', 'is', 'hard', 'for', 'them', 'although', 'they', 'often', 'carry', 'on', 'a', 'monologue', 'on', 'a', 'favorite', 'subject', 'giving', 'no', 'one', 'else', 'an', 'opportunity', 'to', 'comment', 'when', 'given', 'the', 'chance', 'to', 'converse', 'with', 'other', 'autistics', 'they', 'comfortably', 'do', 'so', 'in', 'parallel', 'monologue', 'taking', 'turns', 'expressing', 'views', 'and', 'information', 'just', 'as', 'neurotypicals', 'people', 'without', 'autism', 'have', 'trouble', 'understanding', 'autistic', 'body', 'languages', 'vocal', 'tones', 'or', 'phraseology', 'people', 'with', 'autism', 'similarly', 'have', 'trouble', 'with', 'such', 'things', 'in', 'people', 'without', 'autism', 'in', 'particular', 'autistic', 'language', 'abilities', 'tend', 'to', 'be', 'highly', 'literal', 'people', 'without', 'autism', 'often', 'inappropriately', 'attribute', 'hidden', 'meaning', 'to', 'what', 'people', 'with', 'autism', 'say', 'or', 'expect', 'the', 'person', 'with', 'autism', 'to', 'sense', 'such', 'unstated', 'meaning', 'in', 'their', 'own', 'words', 'the', 'body', 'language', 'of', 'people', 'with', 'autism', 'can', 'be', 'difficult', 'for', 'other', 'people', 'to', 'understand', 'facial', 'expressions', 'movements', 'and', 'gestures', 'may', 'be', 'easily', 'understood', 'by', 'some', 'other', 'people', 'with', 'autism', 'but', 'do', 'not', 'match', 'those', 'used', 'by', 'other', 'people', 'also', 'their', 'tone', 'of', 'voice', 'has', 'a', 'much', 'more', 'subtle', 'inflection', 'in', 'reflecting', 'their', 'feelings', 'and', 'the', 'auditory', 'system', 'of', 'a', 'person', 'without', 'autism', 'often', 'cannot', 'sense', 'the', 'fluctuations', 'what', 'seems', 'to', 'non', 'autistic', 'people', 'like', 'a', 'high', 'pitched', 'sing', 'song', 'or', 'flat', 'robot', 'like', 'voice', 'is', 'common', 'in', 'autistic', 'children', 'some', 'autistic', 'children', 'with', 'relatively', 'good', 'language', 'skills', 'speak', 'like', 'little', 'adults', 'rather', 'than', 'communicating', 'at', 'their', 'current', 'age', 'level', 'which', 'is', 'one', 'of', 'the', 'things', 'that', 'can', 'lead', 'to', 'problems', 'since', 'non', 'autistic', 'people', 'are', 'often', 'unfamiliar', 'with', 'the', 'autistic', 'body', 'language', 'and', 'since', 'autistic', 'natural', 'language', 'may', 'not', 'tend', 'towards', 'speech', 'autistic', 'people', 'often', 'struggle', 'to', 'let', 'other', 'people', 'know', 'what', 'they', 'need', 'as', 'anybody', 'might', 'do', 'in', 'such', 'a', 'situation', 'they', 'may', 'scream', 'in', 'frustration', 'or', 'resort', 'to', 'grabbing', 'what', 'they', 'want', 'while', 'waiting', 'for', 'non', 'autistic', 'people', 'to', 'learn', 'to', 'communicate', 'with', 'them', 'people', 'with', 'autism', 'do', 'whatever', 'they', 'can', 'to', 'get', 'through', 'to', 'them', 'communication', 'difficulties', 'may', 'contribute', 'to', 'autistic', 'people', 'becoming', 'socially', 'anxious', 'or', 'depressed', 'repetitive', 'behaviors', 'although', 'people', 'with', 'autism', 'usually', 'appear', 'physically', 'normal', 'and', 'have', 'good', 'muscle', 'control', 'unusual', 'repetitive', 'motions', 'known', 'as', 'self', 'stimulation', 'or', 'stimming', 'may', 'set', 'them', 'apart', 'these', 'behaviors', 'might', 'be', 'extreme', 'and', 'highly', 'apparent', 'or', 'more', 'subtle', 'some', 'children', 'and', 'older', 'individuals', 'spend', 'a', 'lot', 'of', 'time', 'repeatedly', 'flapping', 'their', 'arms', 'or', 'wiggling', 'their', 'toes', 'others', 'suddenly', 'freeze', 'in', 'position', 'as', 'children', 'they', 'might', 'spend', 'hours', 'lining', 'up', 'their', 'cars', 'and', 'trains', 'in', 'a', 'certain', 'way', 'not', 'using', 'them', 'for', 'pretend', 'play', 'if', 'someone', 'accidentally', 'moves', 'one', 'of', 'these', 'toys', 'the', 'child', 'may', 'be', 'tremendously', 'upset', 'autistic', 'children', 'often', 'need', 'and', 'demand', 'absolute', 'consistency', 'in', 'their', 'environment', 'a', 'slight', 'change', 'in', 'any', 'routine', 'in', 'mealtimes', 'dressing', 'taking', 'a', 'bath', 'or', 'going', 'to', 'school', 'at', 'a', 'certain', 'time', 'and', 'by', 'the', 'same', 'route', 'can', 'be', 'extremely', 'disturbing', 'people', 'with', 'autism', 'sometimes', 'have', 'a', 'persistent', 'intense', 'preoccupation', 'for', 'example', 'the', 'child', 'might', 'be', 'obsessed', 'with', 'learning', 'all', 'about', 'vacuum', 'cleaners', 'train', 'schedules', 'or', 'lighthouses', 'often', 'they', 'show', 'great', 'interest', 'in', 'different', 'languages', 'numbers', 'symbols', 'or', 'science', 'topics', 'repetitive', 'behaviors', 'can', 'also', 'extend', 'into', 'the', 'spoken', 'word', 'as', 'well', 'perseveration', 'of', 'a', 'single', 'word', 'or', 'phrase', 'even', 'for', 'a', 'specific', 'number', 'of', 'times', 'can', 'also', 'become', 'a', 'part', 'of', 'the', 'child', 's', 'daily', 'routine', 'effects', 'in', 'education', 'children', 'with', 'autism', 'are', 'affected', 'with', 'these', 'symptoms', 'every', 'day', 'these', 'unusual', 'characteristics', 'set', 'them', 'apart', 'from', 'the', 'everyday', 'normal', 'student', 'because', 'they', 'have', 'trouble', 'understanding', 'people', 's', 'thoughts', 'and', 'feelings', 'they', 'have', 'trouble', 'understanding', 'what', 'their', 'teacher', 'may', 'be', 'telling', 'them', 'they', 'do', 'not', 'understand', 'that', 'facial', 'expressions', 'and', 'vocal', 'variations', 'hold', 'meanings', 'and', 'may', 'misinterpret', 'what', 'emotion', 'their', 'instructor', 'is', 'displaying', 'this', 'inability', 'to', 'fully', 'decipher', 'the', 'world', 'around', 'them', 'makes', 'education', 'stressful', 'teachers', 'need', 'to', 'be', 'aware', 'of', 'a', 'student', 's', 'disorder', 'so', 'that', 'they', 'are', 'able', 'to', 'help', 'the', 'student', 'get', 'the', 'best', 'out', 'of', 'the', 'lessons', 'being', 'taught', 'some', 'students', 'learn', 'better', 'with', 'visual', 'aids', 'as', 'they', 'are', 'better', 'able', 'to', 'understand', 'material', 'presented', 'this', 'way', 'because', 'of', 'this', 'many', 'teachers', 'create', 'visual', 'schedules', 'for', 'their', 'autistic', 'students', 'this', 'allows', 'the', 'student', 'to', 'know', 'what', 'is', 'going', 'on', 'throughout', 'the', 'day', 'so', 'they', 'know', 'what', 'to', 'prepare', 'for', 'and', 'what', 'activity', 'they', 'will', 'be', 'doing', 'next', 'some', 'autistic', 'children', 'have', 'trouble', 'going', 'from', 'one', 'activity', 'to', 'the', 'next', 'so', 'this', 'visual', 'schedule', 'can', 'help', 'to', 'reduce', 'stress', 'research', 'has', 'shown', 'that', 'working', 'in', 'pairs', 'may', 'be', 'beneficial', 'to', 'autistic', 'children', 'autistic', 'students', 'have', 'problems', 'in', 'schools', 'not', 'only', 'with', 'language', 'and', 'communication', 'but', 'with', 'socialization', 'as', 'well', 'they', 'feel', 'self', 'conscious', 'about', 'themselves', 'and', 'many', 'feel', 'that', 'they', 'will', 'always', 'be', 'outcasts', 'by', 'allowing', 'them', 'to', 'work', 'with', 'peers', 'they', 'can', 'make', 'friends', 'which', 'in', 'turn', 'can', 'help', 'them', 'cope', 'with', 'the', 'problems', 'that', 'arise', 'by', 'doing', 'so', 'they', 'can', 'become', 'more', 'integrated', 'into', 'the', 'mainstream', 'environment', 'of', 'the', 'classroom', 'a', 'teacher', 's', 'aide', 'can', 'also', 'be', 'useful', 'to', 'the', 'student', 'the', 'aide', 'is', 'able', 'to', 'give', 'more', 'elaborate', 'directions', 'that', 'the', 'teacher', 'may', 'not', 'have', 'time', 'to', 'explain', 'to', 'the', 'autistic', 'child', 'the', 'aide', 'can', 'also', 'facilitate', 'the', 'autistic', 'child', 'in', 'such', 'a', 'way', 'as', 'to', 'allow', 'them', 'to', 'stay', 'at', 'a', 'similar', 'level', 'to', 'the', 'rest', 'of', 'the', 'class', 'this', 'allows', 'a', 'partially', 'one', 'on', 'one', 'lesson', 'structure', 'so', 'that', 'the', 'child', 'is', 'still', 'able', 'to', 'stay', 'in', 'a', 'normal', 'classroom', 'but', 'be', 'given', 'the', 'extra', 'help', 'that', 'they', 'need', 'there', 'are', 'many', 'different', 'techniques', 'that', 'teachers', 'can', 'use', 'to', 'assist', 'their', 'students', 'a', 'teacher', 'needs', 'to', 'become', 'familiar', 'with', 'the', 'child', 's', 'disorder', 'to', 'know', 'what', 'will', 'work', 'best', 'with', 'that', 'particular', 'child', 'every', 'child', 'is', 'going', 'to', 'be', 'different', 'and', 'teachers', 'have', 'to', 'be', 'able', 'to', 'adjust', 'with', 'every', 'one', 'of', 'them', 'students', 'with', 'autism', 'spectrum', 'disorders', 'typically', 'have', 'high', 'levels', 'of', 'anxiety', 'and', 'stress', 'particularly', 'in', 'social', 'environments', 'like', 'school', 'if', 'a', 'student', 'exhibits', 'aggressive', 'or', 'explosive', 'behavior', 'it', 'is', 'important', 'for', 'educational', 'teams', 'to', 'recognize', 'the', 'impact', 'of', 'stress', 'and', 'anxiety', 'preparing', 'students', 'for', 'new', 'situations', 'by', 'writing', 'social', 'stories', 'can', 'lower', 'anxiety', 'teaching', 'social', 'and', 'emotional', 'concepts', 'using', 'systematic', 'teaching', 'approaches', 'such', 'as', 'the', 'incredible', 'five', 'point', 'scale', 'or', 'other', 'cognitive', 'behavioral', 'strategies', 'can', 'increase', 'a', 'student', 's', 'ability', 'to', 'control', 'excessive', 'behavioral', 'reactions', 'dsm', 'definition', 'autism', 'is', 'defined', 'in', 'section', 'two', 'nine', 'nine', 'zero', 'zero', 'of', 'the', 'diagnostic', 'and', 'statistical', 'manual', 'of', 'mental', 'disorders', 'dsm', 'iv', 'as', 'a', 'total', 'of', 'six', 'or', 'more', 'items', 'from', 'one', 'two', 'and', 'three', 'with', 'at', 'least', 'two', 'from', 'one', 'and', 'one', 'each', 'from', 'two', 'and', 'three', 'qualitative', 'impairment', 'in', 'social', 'interaction', 'as', 'manifested', 'by', 'at', 'least', 'two', 'of', 'the', 'following', 'marked', 'impairment', 'in', 'the', 'use', 'of', 'multiple', 'nonverbal', 'behaviors', 'such', 'as', 'eye', 'to', 'eye', 'gaze', 'facial', 'expression', 'body', 'postures', 'and', 'gestures', 'to', 'regulate', 'social', 'interaction', 'failure', 'to', 'develop', 'peer', 'relationships', 'appropriate', 'to', 'developmental', 'level', 'a', 'lack', 'of', 'spontaneous', 'seeking', 'to', 'share', 'enjoyment', 'interests', 'or', 'achievements', 'with', 'other', 'people', 'e', 'g', 'by', 'a', 'lack', 'of', 'showing', 'bringing', 'or', 'pointing', 'out', 'objects', 'of', 'interest', 'lack', 'of', 'social', 'or', 'emotional'], tags=[0])]\n"
          ]
        }
      ]
    },
    {
      "cell_type": "markdown",
      "source": [
        "Входные данные подготовлены. Чтобы обучить модель, нам нужно инициализировать модель **`Doc2Vec`**, построить словарный запас и, наконец, обучить модель."
      ],
      "metadata": {
        "id": "XbihWwt8dLlf"
      }
    },
    {
      "cell_type": "code",
      "source": [
        "# Init the Doc2Vec model\n",
        "model = gensim.models.doc2vec.Doc2Vec(vector_size=50, min_count=2, epochs=40)\n",
        "\n",
        "# Build the Volabulary\n",
        "model.build_vocab(train_data)\n",
        "\n",
        "# Train the Doc2Vec model\n",
        "model.train(train_data, total_examples=model.corpus_count, epochs=model.epochs)"
      ],
      "metadata": {
        "id": "4gKcI4StdNvi"
      },
      "execution_count": null,
      "outputs": []
    },
    {
      "cell_type": "markdown",
      "source": [
        "Чтобы получить вектор предложения, передайте его в виде списка слов в метод **`infer_vector()`**."
      ],
      "metadata": {
        "id": "_JAUUQ8VdPbP"
      }
    },
    {
      "cell_type": "code",
      "source": [
        "print(model.infer_vector(['australian', 'captain', 'elected', 'to', 'bowl']))"
      ],
      "metadata": {
        "id": "8J0TyHoqdTJZ",
        "colab": {
          "base_uri": "https://localhost:8080/"
        },
        "outputId": "c64b8420-71ff-4af6-cd67-146f8739cdbd"
      },
      "execution_count": null,
      "outputs": [
        {
          "output_type": "stream",
          "name": "stdout",
          "text": [
            "[-0.11446089 -0.28608724 -0.02541116  0.01007629  0.4135513   0.47346744\n",
            "  0.04043279 -0.2892932  -0.12801883 -0.00437     0.57037663  0.29423612\n",
            "  0.48199362  0.11226047 -0.08098545  0.11242861  0.12980716 -0.14053233\n",
            " -0.2712207  -0.30553925 -0.04375336  0.44613189  0.0788451  -0.41588274\n",
            " -0.28701797  0.3130374  -0.15186882 -0.35852495 -0.14948699 -0.5354916\n",
            " -0.36128715  0.07628719  0.33662096  0.04855007 -0.0248205   0.3449384\n",
            "  0.05602178 -0.45867178  0.06621304  0.16495048  0.06215603 -0.07641651\n",
            "  0.3920733   0.38441682 -0.20539907  0.21116589 -0.41074562 -0.17367217\n",
            " -0.40253073 -0.15482518]\n"
          ]
        }
      ]
    },
    {
      "cell_type": "markdown",
      "source": [
        "# Как вычислить метрики подобия, такие как косинусное сходство и мягкое косинусное сходство?"
      ],
      "metadata": {
        "id": "KF8NMNBQdWb5"
      }
    },
    {
      "cell_type": "markdown",
      "source": [
        "Мягкое косинусное сходство похоже на косинусное сходство, но, кроме того оно так же рассматривает семантические отношения между словами через их векторное представление.\n",
        "\n",
        "Для вычисления мягкое косинусное сходство нам понадобится модель встраивания слов, такая как Word2Vec или FastText.\n",
        "Сначало, вычислим **`similarity_matrix`**. Затем преобразуем входные предложения в совокупность слов и передадим их в **`softcossim()`** вместе с матрицей подобия."
      ],
      "metadata": {
        "id": "GOrKk6yudaZ3"
      }
    },
    {
      "cell_type": "code",
      "source": [
        "from gensim.matutils import softcossim\n",
        "from gensim import corpora\n",
        "\n",
        "sent_1 = 'Sachin is a cricket player and a opening batsman'.split()\n",
        "sent_2 = 'Dhoni is a cricket player too He is a batsman and keeper'.split()\n",
        "sent_3 = 'Anand is a chess player'.split()\n",
        "\n",
        "# Prepare the similarity matrix\n",
        "similarity_matrix = fasttext_model300.similarity_matrix(dictionary, tfidf=None, threshold=0.0, exponent=2.0, nonzero_limit=100)\n",
        "\n",
        "# Prepare a dictionary and a corpus.\n",
        "documents = [sent_1, sent_2, sent_3]\n",
        "dictionary = corpora.Dictionary(documents)\n",
        "\n",
        "# Convert the sentences into bag-of-words vectors.\n",
        "sent_1 = dictionary.doc2bow(sent_1)\n",
        "sent_2 = dictionary.doc2bow(sent_2)\n",
        "sent_3 = dictionary.doc2bow(sent_3)\n",
        "\n",
        "# Compute soft cosine similarity\n",
        "print(softcossim(sent_1, sent_2, similarity_matrix))\n",
        "\n",
        "print(softcossim(sent_1, sent_3, similarity_matrix))\n",
        "\n",
        "print(softcossim(sent_2, sent_3, similarity_matrix))"
      ],
      "metadata": {
        "id": "ZtnS9sbDdhGC",
        "colab": {
          "base_uri": "https://localhost:8080/"
        },
        "outputId": "059704b4-7637-44a2-fcda-139fc0cd4f6f"
      },
      "execution_count": null,
      "outputs": [
        {
          "output_type": "stream",
          "name": "stdout",
          "text": [
            "0.7640797755536893\n",
            "0.5562920904688896\n",
            "0.5853276704186889\n"
          ]
        }
      ]
    },
    {
      "cell_type": "markdown",
      "source": [
        "Ниже приведены некоторые полезные метрики сходства и расстояния, основанные на моделях встраивания слов, таких как fasttext и GloVe."
      ],
      "metadata": {
        "id": "XXCt2ATVdh0S"
      }
    },
    {
      "cell_type": "code",
      "source": [
        "# Which word from the given list doesn't go with the others?\n",
        "print(fasttext_model300.doesnt_match(['india', 'australia', 'pakistan', 'china', 'beetroot']))  \n",
        "\n",
        "\n",
        "# Compute cosine distance between two words.\n",
        "print(fasttext_model300.distance('king', 'queen'))\n",
        "\n",
        "# Compute cosine distances from given word or vector to all words in `other_words`.\n",
        "print(fasttext_model300.distances('king', ['queen', 'man', 'woman']))\n",
        "\n",
        "# Compute cosine similarities\n",
        "print(fasttext_model300.cosine_similarities(fasttext_model300['king'], \n",
        "                                            vectors_all=(fasttext_model300['queen'], \n",
        "                                                        fasttext_model300['man'], \n",
        "                                                        fasttext_model300['woman'],\n",
        "                                                        fasttext_model300['queen'] + fasttext_model300['man'])))  \n",
        "\n",
        "# Get the words closer to w1 than w2\n",
        "print(glove_model300.words_closer_than(w1='king', w2='kingdom'))\n",
        "\n",
        "# Find the top-N most similar words.\n",
        "print(fasttext_model300.most_similar(positive='king', negative=None, topn=5, restrict_vocab=None, indexer=None))\n",
        "\n",
        "# Find the top-N most similar words, using the multiplicative combination objective,\n",
        "print(glove_model300.most_similar_cosmul(positive='king', negative=None, topn=5))"
      ],
      "metadata": {
        "id": "6hEz5sR3djt9",
        "colab": {
          "base_uri": "https://localhost:8080/"
        },
        "outputId": "4d7bce40-b172-4bd7-e8e2-edb3fc52b70b"
      },
      "execution_count": null,
      "outputs": [
        {
          "output_type": "stream",
          "name": "stderr",
          "text": [
            "/usr/local/lib/python3.7/dist-packages/gensim/models/keyedvectors.py:895: FutureWarning: arrays to stack must be passed as a \"sequence\" type such as list or tuple. Support for non-sequence iterables such as generators is deprecated as of NumPy 1.16 and will raise an error in the future.\n",
            "  vectors = vstack(self.word_vec(word, use_norm=True) for word in used_words).astype(REAL)\n"
          ]
        },
        {
          "output_type": "stream",
          "name": "stdout",
          "text": [
            "beetroot\n",
            "0.22957539558410645\n",
            "[0.22957546 0.465837   0.547001  ]\n",
            "[0.77042454 0.534163   0.45299897 0.76572543]\n",
            "['prince', 'queen', 'monarch']\n",
            "[('king-', 0.7838029265403748), ('boy-king', 0.7704817652702332), ('queen', 0.7704246044158936), ('prince', 0.7700966596603394), ('kings', 0.7668929696083069)]\n",
            "[('queen', 0.8168227076530457), ('prince', 0.809830367565155), ('monarch', 0.7949802875518799), ('kingdom', 0.7895625829696655), ('throne', 0.7803236842155457)]\n"
          ]
        }
      ]
    },
    {
      "cell_type": "markdown",
      "source": [
        "# Как обобщить текстовые документы?"
      ],
      "metadata": {
        "id": "PycOZcS5dlav"
      }
    },
    {
      "cell_type": "markdown",
      "source": [
        "Gensim реализует суммирование textrank с помощью функции sumumize() в модуле суммирования. Все, что вам нужно сделать, это передать текстовую строку вместе с коэффициентом суммирования вывода или максимальным количеством слов в итоговом выводе.\n",
        "\n",
        "Нет необходимости разбивать предложение на токенизированный список, потому что gensim сам выполняет разбиение, используя встроенный метод split_sentences() в модуле gensim.summarization.texcleaner.\n",
        "\n",
        "Давайте подведем итог вырезке из новой статьи в sample.txt."
      ],
      "metadata": {
        "id": "dUUITO3_dn3E"
      }
    },
    {
      "cell_type": "code",
      "source": [
        "from gensim.summarization import summarize, keywords\n",
        "from pprint import pprint\n",
        "\n",
        "text = \" \".join((line for line in smart_open('/content/datasets/lda_sports_politics_long_docs/cricket.txt', encoding='utf-8')))\n",
        "\n",
        "# Summarize the paragraph\n",
        "pprint(summarize(text, word_count=20))\n",
        "\n",
        "# Important keywords from the paragraph\n",
        "print(keywords(text))"
      ],
      "metadata": {
        "id": "e81VsIXpdrjA",
        "colab": {
          "base_uri": "https://localhost:8080/"
        },
        "outputId": "96da5f3b-014b-4bed-e44c-541c62507b1e"
      },
      "execution_count": null,
      "outputs": [
        {
          "output_type": "stream",
          "name": "stdout",
          "text": [
            "('Cricket is a bat-and-ball game played between two teams of eleven players on '\n",
            " 'a cricket field, at the centre of which is a rectangular 22-yard-long pitch '\n",
            " 'with a wicket, a set of three wooden stumps sited at each end.')\n",
            "cricket\n",
            "cricketers\n",
            "teams\n",
            "team\n",
            "played\n",
            "play\n",
            "playing\n",
            "runs\n",
            "running\n",
            "run\n",
            "stumps\n",
            "batsman\n",
            "international\n",
            "sufficiently\n",
            "wear\n",
            "ball\n",
            "kit\n",
            "body\n",
            "striker\n",
            "great\n",
            "solid\n",
            "spectator\n",
            "empire\n",
            "leather\n",
            "overs\n",
            "innings\n",
            "swap\n",
            "swapping\n",
            "club\n",
            "end\n",
            "ends\n",
            "yard\n"
          ]
        }
      ]
    }
  ]
}