{
  "nbformat": 4,
  "nbformat_minor": 0,
  "metadata": {
    "colab": {
      "provenance": [],
      "machine_shape": "hm"
    },
    "kernelspec": {
      "name": "python3",
      "display_name": "Python 3"
    },
    "language_info": {
      "name": "python"
    },
    "accelerator": "GPU"
  },
  "cells": [
    {
      "cell_type": "markdown",
      "metadata": {
        "id": "43OEvzRLBXFi"
      },
      "source": [
        "В рамках задания **Ультра-ПРО** вам предлагается воспользоваться фреймворком **Chainer**.\n",
        "\n",
        "Используя произвольный датасет (CIFAR10, CIFAR100 или любой другой, в том числе свой собственный), создайте и обучите GAN с применением инструментов фреймворка **Chainer**\n",
        "\n",
        "[Ссылка на документацию](https://docs.chainer.org/en/stable/index.tml)"
      ]
    },
    {
      "cell_type": "markdown",
      "metadata": {
        "id": "lcXiNVo08rEz"
      },
      "source": [
        "Установка chainer:"
      ]
    },
    {
      "cell_type": "code",
      "metadata": {
        "colab": {
          "base_uri": "https://localhost:8080/"
        },
        "id": "KX6ljV_N_4Dn",
        "outputId": "595adc4e-fa57-4199-f570-3bd01d7858df"
      },
      "source": [
        "!pip install chainer"
      ],
      "execution_count": null,
      "outputs": [
        {
          "output_type": "stream",
          "name": "stdout",
          "text": [
            "Collecting chainer\n",
            "  Downloading chainer-7.8.0.tar.gz (1.0 MB)\n",
            "\u001b[?25l\r\u001b[K     |▎                               | 10 kB 23.7 MB/s eta 0:00:01\r\u001b[K     |▋                               | 20 kB 30.9 MB/s eta 0:00:01\r\u001b[K     |█                               | 30 kB 20.9 MB/s eta 0:00:01\r\u001b[K     |█▎                              | 40 kB 18.4 MB/s eta 0:00:01\r\u001b[K     |█▋                              | 51 kB 8.9 MB/s eta 0:00:01\r\u001b[K     |█▉                              | 61 kB 10.2 MB/s eta 0:00:01\r\u001b[K     |██▏                             | 71 kB 10.5 MB/s eta 0:00:01\r\u001b[K     |██▌                             | 81 kB 11.6 MB/s eta 0:00:01\r\u001b[K     |██▉                             | 92 kB 9.4 MB/s eta 0:00:01\r\u001b[K     |███▏                            | 102 kB 8.8 MB/s eta 0:00:01\r\u001b[K     |███▌                            | 112 kB 8.8 MB/s eta 0:00:01\r\u001b[K     |███▊                            | 122 kB 8.8 MB/s eta 0:00:01\r\u001b[K     |████                            | 133 kB 8.8 MB/s eta 0:00:01\r\u001b[K     |████▍                           | 143 kB 8.8 MB/s eta 0:00:01\r\u001b[K     |████▊                           | 153 kB 8.8 MB/s eta 0:00:01\r\u001b[K     |█████                           | 163 kB 8.8 MB/s eta 0:00:01\r\u001b[K     |█████▍                          | 174 kB 8.8 MB/s eta 0:00:01\r\u001b[K     |█████▋                          | 184 kB 8.8 MB/s eta 0:00:01\r\u001b[K     |██████                          | 194 kB 8.8 MB/s eta 0:00:01\r\u001b[K     |██████▎                         | 204 kB 8.8 MB/s eta 0:00:01\r\u001b[K     |██████▋                         | 215 kB 8.8 MB/s eta 0:00:01\r\u001b[K     |███████                         | 225 kB 8.8 MB/s eta 0:00:01\r\u001b[K     |███████▏                        | 235 kB 8.8 MB/s eta 0:00:01\r\u001b[K     |███████▌                        | 245 kB 8.8 MB/s eta 0:00:01\r\u001b[K     |███████▉                        | 256 kB 8.8 MB/s eta 0:00:01\r\u001b[K     |████████▏                       | 266 kB 8.8 MB/s eta 0:00:01\r\u001b[K     |████████▌                       | 276 kB 8.8 MB/s eta 0:00:01\r\u001b[K     |████████▉                       | 286 kB 8.8 MB/s eta 0:00:01\r\u001b[K     |█████████                       | 296 kB 8.8 MB/s eta 0:00:01\r\u001b[K     |█████████▍                      | 307 kB 8.8 MB/s eta 0:00:01\r\u001b[K     |█████████▊                      | 317 kB 8.8 MB/s eta 0:00:01\r\u001b[K     |██████████                      | 327 kB 8.8 MB/s eta 0:00:01\r\u001b[K     |██████████▍                     | 337 kB 8.8 MB/s eta 0:00:01\r\u001b[K     |██████████▊                     | 348 kB 8.8 MB/s eta 0:00:01\r\u001b[K     |███████████                     | 358 kB 8.8 MB/s eta 0:00:01\r\u001b[K     |███████████▎                    | 368 kB 8.8 MB/s eta 0:00:01\r\u001b[K     |███████████▋                    | 378 kB 8.8 MB/s eta 0:00:01\r\u001b[K     |████████████                    | 389 kB 8.8 MB/s eta 0:00:01\r\u001b[K     |████████████▎                   | 399 kB 8.8 MB/s eta 0:00:01\r\u001b[K     |████████████▋                   | 409 kB 8.8 MB/s eta 0:00:01\r\u001b[K     |████████████▉                   | 419 kB 8.8 MB/s eta 0:00:01\r\u001b[K     |█████████████▏                  | 430 kB 8.8 MB/s eta 0:00:01\r\u001b[K     |█████████████▌                  | 440 kB 8.8 MB/s eta 0:00:01\r\u001b[K     |█████████████▉                  | 450 kB 8.8 MB/s eta 0:00:01\r\u001b[K     |██████████████▏                 | 460 kB 8.8 MB/s eta 0:00:01\r\u001b[K     |██████████████▍                 | 471 kB 8.8 MB/s eta 0:00:01\r\u001b[K     |██████████████▊                 | 481 kB 8.8 MB/s eta 0:00:01\r\u001b[K     |███████████████                 | 491 kB 8.8 MB/s eta 0:00:01\r\u001b[K     |███████████████▍                | 501 kB 8.8 MB/s eta 0:00:01\r\u001b[K     |███████████████▊                | 512 kB 8.8 MB/s eta 0:00:01\r\u001b[K     |████████████████                | 522 kB 8.8 MB/s eta 0:00:01\r\u001b[K     |████████████████▎               | 532 kB 8.8 MB/s eta 0:00:01\r\u001b[K     |████████████████▋               | 542 kB 8.8 MB/s eta 0:00:01\r\u001b[K     |█████████████████               | 552 kB 8.8 MB/s eta 0:00:01\r\u001b[K     |█████████████████▎              | 563 kB 8.8 MB/s eta 0:00:01\r\u001b[K     |█████████████████▋              | 573 kB 8.8 MB/s eta 0:00:01\r\u001b[K     |██████████████████              | 583 kB 8.8 MB/s eta 0:00:01\r\u001b[K     |██████████████████▏             | 593 kB 8.8 MB/s eta 0:00:01\r\u001b[K     |██████████████████▌             | 604 kB 8.8 MB/s eta 0:00:01\r\u001b[K     |██████████████████▉             | 614 kB 8.8 MB/s eta 0:00:01\r\u001b[K     |███████████████████▏            | 624 kB 8.8 MB/s eta 0:00:01\r\u001b[K     |███████████████████▌            | 634 kB 8.8 MB/s eta 0:00:01\r\u001b[K     |███████████████████▉            | 645 kB 8.8 MB/s eta 0:00:01\r\u001b[K     |████████████████████            | 655 kB 8.8 MB/s eta 0:00:01\r\u001b[K     |████████████████████▍           | 665 kB 8.8 MB/s eta 0:00:01\r\u001b[K     |████████████████████▊           | 675 kB 8.8 MB/s eta 0:00:01\r\u001b[K     |█████████████████████           | 686 kB 8.8 MB/s eta 0:00:01\r\u001b[K     |█████████████████████▍          | 696 kB 8.8 MB/s eta 0:00:01\r\u001b[K     |█████████████████████▋          | 706 kB 8.8 MB/s eta 0:00:01\r\u001b[K     |██████████████████████          | 716 kB 8.8 MB/s eta 0:00:01\r\u001b[K     |██████████████████████▎         | 727 kB 8.8 MB/s eta 0:00:01\r\u001b[K     |██████████████████████▋         | 737 kB 8.8 MB/s eta 0:00:01\r\u001b[K     |███████████████████████         | 747 kB 8.8 MB/s eta 0:00:01\r\u001b[K     |███████████████████████▎        | 757 kB 8.8 MB/s eta 0:00:01\r\u001b[K     |███████████████████████▌        | 768 kB 8.8 MB/s eta 0:00:01\r\u001b[K     |███████████████████████▉        | 778 kB 8.8 MB/s eta 0:00:01\r\u001b[K     |████████████████████████▏       | 788 kB 8.8 MB/s eta 0:00:01\r\u001b[K     |████████████████████████▌       | 798 kB 8.8 MB/s eta 0:00:01\r\u001b[K     |████████████████████████▉       | 808 kB 8.8 MB/s eta 0:00:01\r\u001b[K     |█████████████████████████▏      | 819 kB 8.8 MB/s eta 0:00:01\r\u001b[K     |█████████████████████████▍      | 829 kB 8.8 MB/s eta 0:00:01\r\u001b[K     |█████████████████████████▊      | 839 kB 8.8 MB/s eta 0:00:01\r\u001b[K     |██████████████████████████      | 849 kB 8.8 MB/s eta 0:00:01\r\u001b[K     |██████████████████████████▍     | 860 kB 8.8 MB/s eta 0:00:01\r\u001b[K     |██████████████████████████▊     | 870 kB 8.8 MB/s eta 0:00:01\r\u001b[K     |███████████████████████████     | 880 kB 8.8 MB/s eta 0:00:01\r\u001b[K     |███████████████████████████▎    | 890 kB 8.8 MB/s eta 0:00:01\r\u001b[K     |███████████████████████████▋    | 901 kB 8.8 MB/s eta 0:00:01\r\u001b[K     |████████████████████████████    | 911 kB 8.8 MB/s eta 0:00:01\r\u001b[K     |████████████████████████████▎   | 921 kB 8.8 MB/s eta 0:00:01\r\u001b[K     |████████████████████████████▋   | 931 kB 8.8 MB/s eta 0:00:01\r\u001b[K     |████████████████████████████▉   | 942 kB 8.8 MB/s eta 0:00:01\r\u001b[K     |█████████████████████████████▏  | 952 kB 8.8 MB/s eta 0:00:01\r\u001b[K     |█████████████████████████████▌  | 962 kB 8.8 MB/s eta 0:00:01\r\u001b[K     |█████████████████████████████▉  | 972 kB 8.8 MB/s eta 0:00:01\r\u001b[K     |██████████████████████████████▏ | 983 kB 8.8 MB/s eta 0:00:01\r\u001b[K     |██████████████████████████████▌ | 993 kB 8.8 MB/s eta 0:00:01\r\u001b[K     |██████████████████████████████▊ | 1.0 MB 8.8 MB/s eta 0:00:01\r\u001b[K     |███████████████████████████████ | 1.0 MB 8.8 MB/s eta 0:00:01\r\u001b[K     |███████████████████████████████▍| 1.0 MB 8.8 MB/s eta 0:00:01\r\u001b[K     |███████████████████████████████▊| 1.0 MB 8.8 MB/s eta 0:00:01\r\u001b[K     |████████████████████████████████| 1.0 MB 8.8 MB/s \n",
            "\u001b[?25hRequirement already satisfied: setuptools in /usr/local/lib/python3.7/dist-packages (from chainer) (57.4.0)\n",
            "Requirement already satisfied: typing_extensions in /usr/local/lib/python3.7/dist-packages (from chainer) (3.10.0.2)\n",
            "Requirement already satisfied: filelock in /usr/local/lib/python3.7/dist-packages (from chainer) (3.4.0)\n",
            "Requirement already satisfied: numpy>=1.9.0 in /usr/local/lib/python3.7/dist-packages (from chainer) (1.19.5)\n",
            "Requirement already satisfied: protobuf>=3.0.0 in /usr/local/lib/python3.7/dist-packages (from chainer) (3.17.3)\n",
            "Requirement already satisfied: six>=1.9.0 in /usr/local/lib/python3.7/dist-packages (from chainer) (1.15.0)\n",
            "Building wheels for collected packages: chainer\n",
            "  Building wheel for chainer (setup.py) ... \u001b[?25l\u001b[?25hdone\n",
            "  Created wheel for chainer: filename=chainer-7.8.0-py3-none-any.whl size=967734 sha256=f9ae18dacfe1b53b6c42982b3c769ae2456908859f2afbd39f3fd61a1b0fd4d2\n",
            "  Stored in directory: /root/.cache/pip/wheels/8d/45/4c/c961846626d4db2511e4acbd5056eefb2aeedcec8208a3ca42\n",
            "Successfully built chainer\n",
            "Installing collected packages: chainer\n",
            "Successfully installed chainer-7.8.0\n"
          ]
        }
      ]
    },
    {
      "cell_type": "code",
      "metadata": {
        "id": "SXgwaVvYAOdY",
        "colab": {
          "base_uri": "https://localhost:8080/"
        },
        "outputId": "9707d2de-ef36-4139-ae4e-b115ab874b5d"
      },
      "source": [
        "# Импорт библиотеки chainer\n",
        "import chainer\n",
        "\n",
        "# Присвоим псевдоним ее функциям\n",
        "import chainer.functions as F\n",
        "\n",
        "# Присвоим псевдоним ее ссылкам\n",
        "import chainer.links as L\n",
        "\n",
        "# Загрузим библиотеку chainerx\n",
        "import chainerx\n",
        "\n",
        "# Загрузим функции работы с GPU\n",
        "import chainer.backends.cuda\n",
        "\n",
        "# Загрузим массив со структурой для отслеживания вычислений\n",
        "from chainer import Variable\n",
        "\n",
        "# Загрузим стандартный обучающий массив из chainer\n",
        "from chainer import training\n",
        "\n",
        "# Импорт расширений\n",
        "from chainer.training import extensions\n",
        "\n",
        "# Библиотека для работы с файловой системой виртуальной машины\n",
        "import os\n",
        "\n",
        "# Numpy массивы\n",
        "import numpy as np\n",
        "\n",
        "# Модуль для обработки аргументов командной строки\n",
        "import argparse\n",
        "\n",
        "# Модуль предупреждений\n",
        "import warnings\n",
        "\n",
        "# # Библиотека для отрисовки графиков\n",
        "import matplotlib.pyplot as plt\n",
        "\n",
        "# Модуль отрисовки изображений\n",
        "from PIL import Image"
      ],
      "execution_count": null,
      "outputs": [
        {
          "output_type": "stream",
          "name": "stderr",
          "text": [
            "/usr/local/lib/python3.7/dist-packages/chainer/_environment_check.py:75: UserWarning: \n",
            "--------------------------------------------------------------------------------\n",
            "CuPy (cupy-cuda111) version 9.4.0 may not be compatible with this version of Chainer.\n",
            "Please consider installing the supported version by running:\n",
            "  $ pip install 'cupy-cuda111>=7.7.0,<8.0.0'\n",
            "\n",
            "See the following page for more details:\n",
            "  https://docs.cupy.dev/en/latest/install.html\n",
            "--------------------------------------------------------------------------------\n",
            "\n",
            "  requirement=requirement, help=help))\n"
          ]
        }
      ]
    },
    {
      "cell_type": "markdown",
      "metadata": {
        "id": "701T8mw2BBgo"
      },
      "source": [
        "## Классы "
      ]
    },
    {
      "cell_type": "markdown",
      "metadata": {
        "id": "IFx8MtepEsmw"
      },
      "source": [
        "### Класс DCGANUpdate\n",
        "\n",
        "Он будет отвечать за вычисление ошибок генератора и дискриминатора, а также за их оптимизацию.\n",
        "\n",
        "\n"
      ]
    },
    {
      "cell_type": "code",
      "metadata": {
        "id": "yG8ioS3tBE1M"
      },
      "source": [
        "class DCGANUpdater(chainer.training.updaters.StandardUpdater):\n",
        "    '''\n",
        "    Данный класс является наследником класса chainer.training.updaters.StandardUpdater.\n",
        "    При инициализации создает объект из двух классов - генератора и дискриминатора.\n",
        "\n",
        "    Содержит функции: \n",
        "    loss_dis - ошибка дискриминатора;\n",
        "    loss_gen - ошибка генератора;\n",
        "    update_core - дообучает генератор и дискриминатор\n",
        "    '''\n",
        "\n",
        "    def __init__(self, \n",
        "                 *args, \n",
        "                 **kwargs):                                        # Конструктор класса\n",
        "        \n",
        "        self.gen, self.dis = kwargs.pop('models')                               # Создаем генератор и дискриминатор  \n",
        "        super(DCGANUpdater, self).__init__(*args, **kwargs)                     # Получим доступ к методам класса родителя\n",
        "\n",
        "    def loss_dis(self, \n",
        "                 dis, \n",
        "                 y_fake, \n",
        "                 y_real):                                    # Создадим функцию подсчета ошибки дискриминатора\n",
        "        '''\n",
        "        Данная функция занимается подсчетом ошибки дискриминатора\n",
        "\n",
        "        Args:\n",
        "          self - аргумент ссылка на атрибуты\n",
        "          dis - модель дискриминатора\n",
        "          y_fake - ложная картинка\n",
        "          y_real - реальная картинка\n",
        "\n",
        "        Returns:\n",
        "          loss - ошибка дискриминатора\n",
        "        '''\n",
        "\n",
        "        batchsize = len(y_fake)                                                 # Длина массива ложной картинки\n",
        "        L1 = F.sum(F.softplus(-y_real)) / batchsize                             # Вычислим ошибку на реальной картинке  \n",
        "        L2 = F.sum(F.softplus(y_fake)) / batchsize                              # Вычислим ошибку на ложной картинке\n",
        "        loss = L1 + L2                                                          # Суммируем обе ошибки\n",
        "        chainer.report({'loss': loss}, dis)                                     # Сообщает наблюдаемые значения \n",
        "\n",
        "        # Возвращаем ошибку дискриминатора\n",
        "        return loss                                           \n",
        "\n",
        "    def loss_gen(self, \n",
        "                 gen, \n",
        "                 y_fake):                                            # Создадим функцию подсчета ошибки генератора\n",
        "        '''\n",
        "        Данная функция занимается подсчетом ошибки генератора\n",
        "\n",
        "        Args:\n",
        "          self - аргумент ссылка на атрибуты\n",
        "          gen - модель генератора\n",
        "          y_fake - ложная картинка\n",
        "\n",
        "        Returns:\n",
        "          loss - ошибка дискриминатора\n",
        "        '''\n",
        "\n",
        "        batchsize = len(y_fake)                                                 # Длина массива ложной картинки\n",
        "        loss = F.sum(F.softplus(-y_fake)) / batchsize                           # Вычислим ошибку на ложной картинке\n",
        "        chainer.report({'loss': loss}, gen)                                     # Сообщает наблюдаемые значения\n",
        "\n",
        "        # Возвращаем ошибку генератора\n",
        "        return loss\n",
        "\n",
        "    def update_core(self):                                                      # Создадим функцию изменения параметров ген. и диск.\n",
        "        '''\n",
        "        Данная функция занимается обучением генеартора и дискриминатора по полученным данным от\n",
        "        функций loss_dis и loss_gen\n",
        "\n",
        "        Args:\n",
        "          self - аргумент ссылка на атрибуты\n",
        "\n",
        "        Функция ничего не возвращает\n",
        "        '''\n",
        "\n",
        "        gen_optimizer = self.get_optimizer('gen')                               # Получение данных оптимизатора для генератора    \n",
        "        dis_optimizer = self.get_optimizer('dis')                               # Получение данных оптимизатора для дискриминатора\n",
        "\n",
        "        batch = self.get_iterator('main').next()                                # В батч запишем очередную итерацию\n",
        "        device = self.device                                                    # Возьмем параметры оборудования  \n",
        "        x_real = Variable(self.converter(batch, device)) / 255.                 # Конвертируем и нормализуем данные\n",
        "\n",
        "        gen, dis = self.gen, self.dis                                           # Запишем атрибуты моделей\n",
        "        batchsize = len(batch)                                                  # Длина массива батча\n",
        "\n",
        "        y_real = dis(x_real)                                                    # В дискриминатор запишем действительную картинку\n",
        "\n",
        "        z = Variable(device.xp.asarray(gen.make_hidden(batchsize)))             # Подготовим картинку для подачи в генератор\n",
        "        x_fake = gen(z)                                                         # Получаем картинку из генератора\n",
        "        y_fake = dis(x_fake)                                                    # Теперь получим ложную картинку из дискриминатора    \n",
        "\n",
        "        dis_optimizer.update(self.loss_dis, dis, y_fake, y_real)                # Обновим параметры оптимизатора из дискриминатора\n",
        "        gen_optimizer.update(self.loss_gen, gen, y_fake)                        # Обновим параметры оптимизатора из генератора"
      ],
      "execution_count": null,
      "outputs": []
    },
    {
      "cell_type": "markdown",
      "metadata": {
        "id": "iIzn0GgrBQYr"
      },
      "source": [
        "### Генератор"
      ]
    },
    {
      "cell_type": "markdown",
      "metadata": {
        "id": "bXPqIQROblA0"
      },
      "source": [
        "Поскольку мы решили использовать ООП в нашем проекте, то надо сделать отдельные классы для генератора и дискриминатора. "
      ]
    },
    {
      "cell_type": "markdown",
      "metadata": {
        "id": "CjpDiRGRbu8f"
      },
      "source": [
        "Начнем с создания класса генератора (Generator). Архитектура, которую предлагает нам библиотека chainer довольно специфичная и не похожа на ту что мы привыкли в keras. Тут создается отдельная функция для слоев, отдельная функция для активационных функций. "
      ]
    },
    {
      "cell_type": "code",
      "metadata": {
        "id": "FvVB8LTHBStw"
      },
      "source": [
        "class Generator(chainer.Chain):\n",
        "    '''\n",
        "    Данный класс отвечает за создание объекта Генератор. Позволяет собрать архитектуру нейронной сети.\n",
        "    Является дочерним от класса chainer.Chain\n",
        "\n",
        "    Содержит функции:\n",
        "    make_hidden - сделает массив для случайной картинки\n",
        "    forward     - набор активационных функций\n",
        "    '''  \n",
        "    def __init__(self, \n",
        "                 n_hidden, \n",
        "                 bottom_width=4, \n",
        "                 ch=512, \n",
        "                 wscale=0.02):          # Конструктор класса\n",
        "\n",
        "        super(Generator, self).__init__()                                       # Создаем объект\n",
        "        self.n_hidden = n_hidden                                                # Зададим атрибут n_hidden\n",
        "        self.ch = ch                                                            # Зададим атрибут ch\n",
        "        self.bottom_width = bottom_width                                        # Зададим атрибут bottom_width (габарит картинки)\n",
        "\n",
        "        with self.init_scope():                                                 # Начинаем сборку сети\n",
        "            w = chainer.initializers.Normal(wscale)                             # Инициализирует массив с нормальным распределением\n",
        "            self.l0 = L.Linear(self.n_hidden, bottom_width * bottom_width * ch, # Линейный слой (он же полносвязный)\n",
        "                               initialW=w)\n",
        "            self.dc1 = L.Deconvolution2D(ch, ch // 2, 4, 2, 1, initialW=w)      # Добавим слой развертки \n",
        "            self.dc2 = L.Deconvolution2D(ch // 2, ch // 4, 4, 2, 1, initialW=w) # Добавим слой развертки \n",
        "            self.dc3 = L.Deconvolution2D(ch // 4, ch // 8, 4, 2, 1, initialW=w) # Добавим слой развертки  \n",
        "            self.dc4 = L.Deconvolution2D(ch // 8, 3, 3, 1, 1, initialW=w)       # Добавим слой развертки \n",
        "            self.bn0 = L.BatchNormalization(bottom_width * bottom_width * ch)   # Добавим слой нормализации\n",
        "            self.bn1 = L.BatchNormalization(ch // 2)                            # Добавим слой нормализации \n",
        "            self.bn2 = L.BatchNormalization(ch // 4)                            # Добавим слой нормализации\n",
        "            self.bn3 = L.BatchNormalization(ch // 8)                            # Добавим слой нормализации \n",
        "\n",
        "    def make_hidden(self, \n",
        "                    batchsize):               \n",
        "        '''\n",
        "        Функция генерирует случайный массив (картинку) для подачи в генератор \n",
        "\n",
        "        Args:\n",
        "          self      - аргумент ссылка на атрибуты\n",
        "          batchsize - размер батча\n",
        "        \n",
        "        Returns:\n",
        "          Массив случайных значений размером (батчсайз,n_hidden,1,1)  \n",
        "        '''\n",
        "        dtype = chainer.get_dtype()                                             # Получим тип создаваемого объекта\n",
        "\n",
        "        # Вернем Numpy-массив случайных значений от -1 до 1 нужного размера \n",
        "        return np.random.uniform(-1, 1, (batchsize, self.n_hidden, 1, 1))\\\n",
        "            .astype(dtype)\n",
        "\n",
        "    def forward(self, \n",
        "                z):\n",
        "        '''\n",
        "        Функция предоставляет набор активационных функций\n",
        "\n",
        "        Args:\n",
        "          self - аргумент ссылка на атрибуты\n",
        "          z    - аргумент для подачи картинки\n",
        "        Returns:\n",
        "          x    - массив, который преобразовывается в картинку\n",
        "        '''\n",
        "        h = F.reshape(F.relu(self.bn0(self.l0(z))),                             # Активационная функция relu\n",
        "                      (len(z), self.ch, self.bottom_width, self.bottom_width))  # Здесь она также преобразовывается \n",
        "        h = F.relu(self.bn1(self.dc1(h)))                                       # Добавим еще одну relu-функцию  \n",
        "        h = F.relu(self.bn2(self.dc2(h)))                                       # Добавим еще одну relu-функцию\n",
        "        h = F.relu(self.bn3(self.dc3(h)))                                       # Добавим еще одну relu-функцию\n",
        "        x = F.sigmoid(self.dc4(h))                                              # Добавим sigmoid-функцию (на самом последнем слое)\n",
        "\n",
        "        # Вернем что получилось в итоге\n",
        "        return x"
      ],
      "execution_count": null,
      "outputs": []
    },
    {
      "cell_type": "markdown",
      "metadata": {
        "id": "khaTtG7bBUTW"
      },
      "source": [
        "### Класс Дискриминатор"
      ]
    },
    {
      "cell_type": "markdown",
      "metadata": {
        "id": "HnXsE-mgc51U"
      },
      "source": [
        "Теперь создадим класс для дискриминатора (Discriminator). "
      ]
    },
    {
      "cell_type": "code",
      "metadata": {
        "id": "2cJ8q17jBb_e"
      },
      "source": [
        "class Discriminator(chainer.Chain):\n",
        "    '''\n",
        "    Данный класс отвечает за создание объекта Дискриминатор. Позволяет собрать архитектуру нейронной сети.\n",
        "    Является дочерним от класса chainer.Chain\n",
        "\n",
        "    Содержит функцию:\n",
        "    forward     - набор активационных функций\n",
        "    '''  \n",
        "    def __init__(self, \n",
        "                 bottom_width=4, \n",
        "                 ch=512, \n",
        "                 wscale=0.02):                    # Конструктор класса \n",
        "                 \n",
        "        w = chainer.initializers.Normal(wscale)                                 # Инициализирует массив с нормальным распределением\n",
        "        super(Discriminator, self).__init__()                                   # Создаем объект  \n",
        "        with self.init_scope():\n",
        "            self.c0_0 = L.Convolution2D(3, ch // 8, 3, 1, 1, initialW=w)        # Добавим сверточный слой\n",
        "            self.c0_1 = L.Convolution2D(ch // 8, ch // 4, 4, 2, 1, initialW=w)  # Добавим сверточный слой   \n",
        "            self.c1_0 = L.Convolution2D(ch // 4, ch // 4, 3, 1, 1, initialW=w)  # Добавим сверточный слой\n",
        "            self.c1_1 = L.Convolution2D(ch // 4, ch // 2, 4, 2, 1, initialW=w)  # Добавим сверточный слой\n",
        "            self.c2_0 = L.Convolution2D(ch // 2, ch // 2, 3, 1, 1, initialW=w)  # Добавим сверточный слой\n",
        "            self.c2_1 = L.Convolution2D(ch // 2, ch // 1, 4, 2, 1, initialW=w)  # Добавим сверточный слой\n",
        "            self.c3_0 = L.Convolution2D(ch // 1, ch // 1, 3, 1, 1, initialW=w)  # Добавим сверточный слой\n",
        "            self.l4 = L.Linear(bottom_width * bottom_width * ch, 1, initialW=w) # Добавим полносвязный слой (l4 - выходной)\n",
        "            self.bn0_1 = L.BatchNormalization(ch // 4, use_gamma=False)         # Добавим слой нормализации\n",
        "            self.bn1_0 = L.BatchNormalization(ch // 4, use_gamma=False)         # Добавим слой нормализации\n",
        "            self.bn1_1 = L.BatchNormalization(ch // 2, use_gamma=False)         # Добавим слой нормализации\n",
        "            self.bn2_0 = L.BatchNormalization(ch // 2, use_gamma=False)         # Добавим слой нормализации\n",
        "            self.bn2_1 = L.BatchNormalization(ch // 1, use_gamma=False)         # Добавим слой нормализации\n",
        "            self.bn3_0 = L.BatchNormalization(ch // 1, use_gamma=False)         # Добавим слой нормализации\n",
        "\n",
        "    def forward(self, x):\n",
        "        '''\n",
        "        Функция предоставляет набор активационных функций\n",
        "\n",
        "        Args:\n",
        "          self - аргумент ссылка на атрибуты\n",
        "          x    - аргумент для подачи картинки из генератора\n",
        "        Returns:\n",
        "          self.l4(h) - в данном случае выдает результат работы полносвязного \n",
        "          слоя размерностью (bottom_width * bottom_width * ch)\n",
        "        '''\n",
        "        device = self.device                                                    # Параметры оборудования\n",
        "        h = add_noise(device, x)                                                # Добавим шум\n",
        "        h = F.leaky_relu(add_noise(device, self.c0_0(h)))                       # Добавим активационную функцию LeakyReLU \n",
        "        h = F.leaky_relu(add_noise(device, self.bn0_1(self.c0_1(h))))           # Добавим активационную функцию LeakyReLU\n",
        "        h = F.leaky_relu(add_noise(device, self.bn1_0(self.c1_0(h))))           # Добавим активационную функцию LeakyReLU\n",
        "        h = F.leaky_relu(add_noise(device, self.bn1_1(self.c1_1(h))))           # Добавим активационную функцию LeakyReLU  \n",
        "        h = F.leaky_relu(add_noise(device, self.bn2_0(self.c2_0(h))))           # Добавим активационную функцию LeakyReLU\n",
        "        h = F.leaky_relu(add_noise(device, self.bn2_1(self.c2_1(h))))           # Добавим активационную функцию LeakyReLU\n",
        "        h = F.leaky_relu(add_noise(device, self.bn3_0(self.c3_0(h))))           # Добавим активационную функцию LeakyReLU\n",
        "\n",
        "        # Вернем результат работы полносвязного слоя дискриминатора\n",
        "        return self.l4(h)"
      ],
      "execution_count": null,
      "outputs": []
    },
    {
      "cell_type": "markdown",
      "metadata": {
        "id": "c8FU9DULuQKs"
      },
      "source": [
        "## Функции"
      ]
    },
    {
      "cell_type": "markdown",
      "metadata": {
        "id": "fg4SmUv9Bn7Z"
      },
      "source": [
        "### Вывод картинок"
      ]
    },
    {
      "cell_type": "code",
      "metadata": {
        "id": "aIIkksiXBkLu"
      },
      "source": [
        "def out_generated_image(gen, \n",
        "                        dis, \n",
        "                        rows, \n",
        "                        cols, \n",
        "                        seed, \n",
        "                        dst):\n",
        "    '''\n",
        "    Данная функция занимается созданием картинки для сохранения ее на виртуальной машине\n",
        "\n",
        "    Args:\n",
        "      gen  - модель генератора\n",
        "      dis  - модель дискриминатора (внутри функции не используется)\n",
        "      rows - количество строк\n",
        "      cols - количество столбцов\n",
        "      seed - начальные условия для генератора случайных чисел\n",
        "      dst  - адрес папки проекта\n",
        "\n",
        "    Returns:\n",
        "      make_image - результат работы внутреней функции \n",
        "    '''\n",
        "    @chainer.training.make_extension()                                          # Декоратор для превращения заданных функций \n",
        "    def make_image(trainer):                                                    \n",
        "        '''\n",
        "        Данная функция занимается преобразованием полученных данных из \n",
        "        генератора в набор картинок\n",
        "        \n",
        "        Args:\n",
        "          trainer - объект для обучения сети\n",
        "\n",
        "        Функция ничего не возвращает \n",
        "        '''\n",
        "        np.random.seed(seed)                                                    # \"Останавливает\" генератор случайных чисел  \n",
        "        n_images = rows * cols                                                  # Задаем количество картинок\n",
        "        xp = gen.xp                                                             # Параметры оборудования от генератора\n",
        "        z = Variable(xp.asarray(gen.make_hidden(n_images)))                     # Создадим массив картинок  \n",
        "        with chainer.using_config('train', False):                              # При этом используя режим обучения 'train'  \n",
        "            x = gen(z)                                                          # для генератора\n",
        "        x = chainer.backends.cuda.to_cpu(x.array)                               # Копирует выданный GPU массив в CPU \n",
        "        np.random.seed()                                                        # Снова задаем генератор случайных чисел\n",
        "\n",
        "        x = np.asarray(np.clip(x * 255, 0.0, 255.0), dtype=np.uint8)            # Создадим целочисленный массив   \n",
        "        _, _, H, W = x.shape                                                    # Зададим высоту (H) и ширину (W) одной картинки  \n",
        "        x = x.reshape((rows, cols, 3, H, W))                                    # Решэйпим картинки\n",
        "        x = x.transpose(0, 3, 1, 4, 2)                                          # Транспонируем полученный массив\n",
        "        x = x.reshape((rows * H, cols * W, 3))                                  # Создаем цветной массив из картинок (rows,cols)  \n",
        "\n",
        "        preview_dir = '{}/preview'.format(dst)                                  # Сформируем адрес папки для preview\n",
        "        # Сформируем адрес папки image и сохраним картинку\n",
        "        preview_path = preview_dir +'/image{:0>8}.png'.format(trainer.updater.iteration) \n",
        "                            \n",
        "             \n",
        "        # Если папка preview_dir не существует, \n",
        "        if not os.path.exists(preview_dir):\n",
        "            # нужно создать эту папку\n",
        "            os.makedirs(preview_dir)\n",
        "        \n",
        "        # Получим картинку из массива x и сохраним в папку preview_path\n",
        "        Image.fromarray(x).save(preview_path)\n",
        "\n",
        "    # Вернем результат работы функции make_image    \n",
        "    return make_image"
      ],
      "execution_count": null,
      "outputs": []
    },
    {
      "cell_type": "markdown",
      "metadata": {
        "id": "aoeOPfGOq7qw"
      },
      "source": [
        "### Добавление шума"
      ]
    },
    {
      "cell_type": "code",
      "metadata": {
        "id": "t1QuwZcjq-Zw"
      },
      "source": [
        "def add_noise(device, \n",
        "              h, \n",
        "              sigma=0.2):\n",
        "    '''\n",
        "    Функция добавления шума.\n",
        "\n",
        "    Args:\n",
        "      device - параметры оборудования\n",
        "      h - параметры слоя\n",
        "    \n",
        "    Returns:\n",
        "      h - параметры слоя     \n",
        "    '''\n",
        "\n",
        "    # Если включен режим обучения ('train')\n",
        "    if chainer.config.train:\n",
        "        # Параметры оборудования\n",
        "        xp = device.xp\n",
        "\n",
        "        # Если описание оборудования поддерживается chainerx\n",
        "        if device.xp is chainerx:\n",
        "            # Определим резервное устройство (для устройства native: 0 это CpuDevice, для cuda: 1 - GpuDevice)\n",
        "            # Подробнее об атрибуте см. https://docs.chainer.org/en/latest/reference/generated/chainer.backend.ChainerxDevice.html\n",
        "            fallback_device = device.fallback_device\n",
        "            # Используя данные параметры\n",
        "            with chainer.using_device(fallback_device):\n",
        "                # передаем заданные массивы на устройство\n",
        "                randn = device.send(fallback_device.xp.random.randn(*h.shape))\n",
        "        else:\n",
        "            # В противном случае просто заполним случайными данными существующий слой\n",
        "            randn = xp.random.randn(*h.shape)\n",
        "\n",
        "        # Вернем данные слоя плюс случайные шумы    \n",
        "        return h + sigma * randn\n",
        "    # Если режим обучения ('train') не включен,\n",
        "    else:\n",
        "        # то возвращаем только данные слоя\n",
        "        return h"
      ],
      "execution_count": null,
      "outputs": []
    },
    {
      "cell_type": "markdown",
      "metadata": {
        "id": "tj5QwIXgCLCT"
      },
      "source": [
        "### Запуск обучения"
      ]
    },
    {
      "cell_type": "markdown",
      "metadata": {
        "id": "TCPcrFNiA951"
      },
      "source": [
        "Для начала разберем модуль работы с командной строкой (argparse). Есть у него функция ArgumentParser, которая позволяет собрать набор аргументов.   "
      ]
    },
    {
      "cell_type": "markdown",
      "metadata": {
        "id": "dSW-lc5rFGqK"
      },
      "source": [
        "## Строка аргументов"
      ]
    },
    {
      "cell_type": "code",
      "metadata": {
        "id": "yT_FPeciRiNP"
      },
      "source": [
        "# Инициализируем создание объекта парсера аргументов\n",
        " \n",
        "parser = argparse.ArgumentParser(description='Chainer example: DCGAN')"
      ],
      "execution_count": null,
      "outputs": []
    },
    {
      "cell_type": "code",
      "metadata": {
        "id": "csimqHNJRjV_",
        "colab": {
          "base_uri": "https://localhost:8080/"
        },
        "outputId": "ef4a4bb9-d0aa-4832-d44d-77ad907f78fb"
      },
      "source": [
        "# Введем аргумент отвечающий за размер батча (batchsize). Определим его тип и размер\n",
        "\n",
        "parser.add_argument('--batchsize', '-b', type=int, default=50,help='Number of images in each mini-batch')"
      ],
      "execution_count": null,
      "outputs": [
        {
          "output_type": "execute_result",
          "data": {
            "text/plain": [
              "_StoreAction(option_strings=['--batchsize', '-b'], dest='batchsize', nargs=None, const=None, default=50, type=<class 'int'>, choices=None, help='Number of images in each mini-batch', metavar=None)"
            ]
          },
          "metadata": {},
          "execution_count": 58
        }
      ]
    },
    {
      "cell_type": "code",
      "metadata": {
        "id": "tncd3PfhRou1",
        "colab": {
          "base_uri": "https://localhost:8080/"
        },
        "outputId": "77dd571f-d9ff-4b32-d578-85e526ecd91a"
      },
      "source": [
        "# Введем аргумент отвечающий за количество эпох (epoch). Определим тип и количество\n",
        "\n",
        "parser.add_argument('--epoch', '-e', type=int, default=2,help='Number of sweeps over the dataset to train')"
      ],
      "execution_count": null,
      "outputs": [
        {
          "output_type": "execute_result",
          "data": {
            "text/plain": [
              "_StoreAction(option_strings=['--epoch', '-e'], dest='epoch', nargs=None, const=None, default=2, type=<class 'int'>, choices=None, help='Number of sweeps over the dataset to train', metavar=None)"
            ]
          },
          "metadata": {},
          "execution_count": 59
        }
      ]
    },
    {
      "cell_type": "code",
      "metadata": {
        "id": "PuENeQjgRxui",
        "colab": {
          "base_uri": "https://localhost:8080/"
        },
        "outputId": "9baf3b9c-9c91-42e2-ffa1-111e70cad6d0"
      },
      "source": [
        "# Введем аргумент отвечающий за оборудование. Спецификатор устройства. Либо спецификатор устройства ChainerX, либо целое число. \n",
        "# Если целое неотрицательное число, Используются массивы CuPy с указанным идентификатором устройства. \n",
        "# Если целое отрицательное, используются массивы NumPy\n",
        "\n",
        "parser.add_argument('--device', '-d', type=str, default='-1',\n",
        "                        help='Device specifier. Either ChainerX device '\n",
        "                        'specifier or an integer. If non-negative integer, '\n",
        "                        'CuPy arrays with specified device id are used. If '\n",
        "                        'negative integer, NumPy arrays are used')"
      ],
      "execution_count": null,
      "outputs": [
        {
          "output_type": "execute_result",
          "data": {
            "text/plain": [
              "_StoreAction(option_strings=['--device', '-d'], dest='device', nargs=None, const=None, default='-1', type=<class 'str'>, choices=None, help='Device specifier. Either ChainerX device specifier or an integer. If non-negative integer, CuPy arrays with specified device id are used. If negative integer, NumPy arrays are used', metavar=None)"
            ]
          },
          "metadata": {},
          "execution_count": 60
        }
      ]
    },
    {
      "cell_type": "code",
      "metadata": {
        "id": "lfb8yQ55R14S",
        "colab": {
          "base_uri": "https://localhost:8080/"
        },
        "outputId": "e1664664-33cf-47e6-fcf7-0875c92534c4"
      },
      "source": [
        "# Введем аргумент отвечающий за датсет. Директорию с .img файлами. По умолчанию CIFAR10\n",
        "\n",
        "parser.add_argument('--dataset', '-i', default='',help='Directory of image files.  Default is cifar-10.')"
      ],
      "execution_count": null,
      "outputs": [
        {
          "output_type": "execute_result",
          "data": {
            "text/plain": [
              "_StoreAction(option_strings=['--dataset', '-i'], dest='dataset', nargs=None, const=None, default='', type=None, choices=None, help='Directory of image files.  Default is cifar-10.', metavar=None)"
            ]
          },
          "metadata": {},
          "execution_count": 61
        }
      ]
    },
    {
      "cell_type": "code",
      "metadata": {
        "id": "Ll02Q_9MThjZ",
        "colab": {
          "base_uri": "https://localhost:8080/"
        },
        "outputId": "a31e490d-2cc1-49b6-c2bc-ce7d806cbc6d"
      },
      "source": [
        "# Введем аргумент отвечающий за вывод результата. Название папки с полученными картинками\n",
        "\n",
        "parser.add_argument('--out', '-o', default='result',help='Directory to output the result')"
      ],
      "execution_count": null,
      "outputs": [
        {
          "output_type": "execute_result",
          "data": {
            "text/plain": [
              "_StoreAction(option_strings=['--out', '-o'], dest='out', nargs=None, const=None, default='result', type=None, choices=None, help='Directory to output the result', metavar=None)"
            ]
          },
          "metadata": {},
          "execution_count": 62
        }
      ]
    },
    {
      "cell_type": "code",
      "metadata": {
        "id": "-AGWJPPLUC-J",
        "colab": {
          "base_uri": "https://localhost:8080/"
        },
        "outputId": "dae83567-127c-46e1-cf24-c6261f6526a4"
      },
      "source": [
        "# Введем аргумент для возобновления обучения\n",
        "\n",
        "parser.add_argument('--resume', '-r', type=str,help='Resume the training from snapshot')"
      ],
      "execution_count": null,
      "outputs": [
        {
          "output_type": "execute_result",
          "data": {
            "text/plain": [
              "_StoreAction(option_strings=['--resume', '-r'], dest='resume', nargs=None, const=None, default=None, type=<class 'str'>, choices=None, help='Resume the training from snapshot', metavar=None)"
            ]
          },
          "metadata": {},
          "execution_count": 63
        }
      ]
    },
    {
      "cell_type": "code",
      "metadata": {
        "id": "Ds-LW5WlUPGH",
        "colab": {
          "base_uri": "https://localhost:8080/"
        },
        "outputId": "5a2286c6-ebeb-48f8-9eaf-92247af410b6"
      },
      "source": [
        "# Введем аргумент для количества скрытых элементов (z). Тип - int. По умолчанию - 100\n",
        "\n",
        "parser.add_argument('--n_hidden', '-n', type=int, default=100,help='Number of hidden units (z)')"
      ],
      "execution_count": null,
      "outputs": [
        {
          "output_type": "execute_result",
          "data": {
            "text/plain": [
              "_StoreAction(option_strings=['--n_hidden', '-n'], dest='n_hidden', nargs=None, const=None, default=100, type=<class 'int'>, choices=None, help='Number of hidden units (z)', metavar=None)"
            ]
          },
          "metadata": {},
          "execution_count": 64
        }
      ]
    },
    {
      "cell_type": "code",
      "metadata": {
        "id": "2jGLUft9UUu9",
        "colab": {
          "base_uri": "https://localhost:8080/"
        },
        "outputId": "6f60a69c-2ea8-438e-9849-0705d703a26f"
      },
      "source": [
        "# Введем аргумент для случайного начального числа z на этапе визуализации. По умолчанию - 0\n",
        "\n",
        "parser.add_argument('--seed', type=int, default=0,help='Random seed of z at visualization stage')"
      ],
      "execution_count": null,
      "outputs": [
        {
          "output_type": "execute_result",
          "data": {
            "text/plain": [
              "_StoreAction(option_strings=['--seed'], dest='seed', nargs=None, const=None, default=0, type=<class 'int'>, choices=None, help='Random seed of z at visualization stage', metavar=None)"
            ]
          },
          "metadata": {},
          "execution_count": 65
        }
      ]
    },
    {
      "cell_type": "code",
      "metadata": {
        "id": "ssRJodmHUeA3",
        "colab": {
          "base_uri": "https://localhost:8080/"
        },
        "outputId": "8f51f1ac-413b-4d4e-b8c4-41a5724c61ec"
      },
      "source": [
        "# Введем аргумент, который будет отвечать за интервал сохранения картинок. По умолчанию - 100\n",
        "\n",
        "parser.add_argument('--snapshot_interval', type=int, default=100,help='Interval of snapshot')"
      ],
      "execution_count": null,
      "outputs": [
        {
          "output_type": "execute_result",
          "data": {
            "text/plain": [
              "_StoreAction(option_strings=['--snapshot_interval'], dest='snapshot_interval', nargs=None, const=None, default=100, type=<class 'int'>, choices=None, help='Interval of snapshot', metavar=None)"
            ]
          },
          "metadata": {},
          "execution_count": 66
        }
      ]
    },
    {
      "cell_type": "code",
      "metadata": {
        "id": "56wxeBUIU45g",
        "colab": {
          "base_uri": "https://localhost:8080/"
        },
        "outputId": "5cb59e7d-d8a0-442e-a792-c5c5f1d925a6"
      },
      "source": [
        "# Введем аргумент, который будет отвечать за интервал отображения логов в консоли. По умолчанию - 100\n",
        "\n",
        "parser.add_argument('--display_interval', type=int, default=100,help='Interval of displaying log to console')"
      ],
      "execution_count": null,
      "outputs": [
        {
          "output_type": "execute_result",
          "data": {
            "text/plain": [
              "_StoreAction(option_strings=['--display_interval'], dest='display_interval', nargs=None, const=None, default=100, type=<class 'int'>, choices=None, help='Interval of displaying log to console', metavar=None)"
            ]
          },
          "metadata": {},
          "execution_count": 67
        }
      ]
    },
    {
      "cell_type": "code",
      "metadata": {
        "id": "oS2ez4mVU9ZF"
      },
      "source": [
        "# Сгруппируем аргументы в старшие аргументы\n",
        "\n",
        "group = parser.add_argument_group('deprecated arguments')"
      ],
      "execution_count": null,
      "outputs": []
    },
    {
      "cell_type": "code",
      "metadata": {
        "id": "HBuZKlPTVDOi",
        "colab": {
          "base_uri": "https://localhost:8080/"
        },
        "outputId": "3e892a5c-48b3-4abf-aeb7-f2dce79b43d4"
      },
      "source": [
        "# Добавим аргумент, отвечающий за устройство на котором будет проводиться обучение\n",
        "\n",
        "group.add_argument('--gpu', '-g', dest='device',type=int, nargs='?', const=0,help='GPU ID (negative value indicates CPU)')"
      ],
      "execution_count": null,
      "outputs": [
        {
          "output_type": "execute_result",
          "data": {
            "text/plain": [
              "_StoreAction(option_strings=['--gpu', '-g'], dest='device', nargs='?', const=0, default=None, type=<class 'int'>, choices=None, help='GPU ID (negative value indicates CPU)', metavar=None)"
            ]
          },
          "metadata": {},
          "execution_count": 69
        }
      ]
    },
    {
      "cell_type": "code",
      "metadata": {
        "id": "n-0sUJ--V_SJ"
      },
      "source": [
        "# Создадим строку из наших аргументов\n",
        "\n",
        "args, unknown = parser.parse_known_args()"
      ],
      "execution_count": null,
      "outputs": []
    },
    {
      "cell_type": "code",
      "metadata": {
        "id": "uirzMrYqWPNB"
      },
      "source": [
        "# Если тип данных с плавающей точкой\n",
        "\n",
        "if chainer.get_dtype() == np.float16:\n",
        "        # Отобразить предупреждение о то что пример может вызвать NaN в режиме FP16\n",
        "        warnings.warn('This example may cause NaN in FP16 mode.', RuntimeWarning)"
      ],
      "execution_count": null,
      "outputs": []
    },
    {
      "cell_type": "code",
      "metadata": {
        "id": "4NqXfeh6WT0I"
      },
      "source": [
        "# Возвращает объект устройства и включим\n",
        "\n",
        "device = chainer.get_device(args.device)\n",
        "device.use()"
      ],
      "execution_count": null,
      "outputs": []
    },
    {
      "cell_type": "code",
      "metadata": {
        "id": "XzFo8e5mWYq7",
        "colab": {
          "base_uri": "https://localhost:8080/"
        },
        "outputId": "240f31e9-c0c6-4fd1-d22b-28857a82ea17"
      },
      "source": [
        "# Выведем информацию\n",
        "\n",
        "print('Device: {}'.format(device))                                              \n",
        "print('# Minibatch-size: {}'.format(args.batchsize))\n",
        "print('# n_hidden: {}'.format(args.n_hidden))\n",
        "print('# epoch: {}'.format(args.epoch))\n",
        "print('')"
      ],
      "execution_count": null,
      "outputs": [
        {
          "output_type": "stream",
          "name": "stdout",
          "text": [
            "Device: @numpy\n",
            "# Minibatch-size: 50\n",
            "# n_hidden: 100\n",
            "# epoch: 2\n",
            "\n"
          ]
        }
      ]
    },
    {
      "cell_type": "markdown",
      "metadata": {
        "id": "adQc1nXWFPTk"
      },
      "source": [
        "## Создаем объекты классов"
      ]
    },
    {
      "cell_type": "code",
      "metadata": {
        "id": "-lJsiWzcGzfD"
      },
      "source": [
        "# Создадим объект Генератор\n",
        "\n",
        "gen = Generator(n_hidden=args.n_hidden)"
      ],
      "execution_count": null,
      "outputs": []
    },
    {
      "cell_type": "code",
      "metadata": {
        "id": "9X4kozGDG1zc"
      },
      "source": [
        "# Создадим объект Дискриминатор\n",
        "\n",
        "dis = Discriminator()"
      ],
      "execution_count": null,
      "outputs": []
    },
    {
      "cell_type": "code",
      "metadata": {
        "id": "GIXZ-AEFG5zW",
        "colab": {
          "base_uri": "https://localhost:8080/"
        },
        "outputId": "09b3382f-24af-4c81-aecf-8f5afef8391e"
      },
      "source": [
        "# Разместим генератор на устройстве\n",
        "\n",
        "gen.to_device(device) "
      ],
      "execution_count": null,
      "outputs": [
        {
          "output_type": "execute_result",
          "data": {
            "text/plain": [
              "<__main__.Generator at 0x7f4f0bd2f550>"
            ]
          },
          "metadata": {},
          "execution_count": 76
        }
      ]
    },
    {
      "cell_type": "code",
      "metadata": {
        "id": "IRM90ykcG7va",
        "colab": {
          "base_uri": "https://localhost:8080/"
        },
        "outputId": "3778e9ba-5a3b-40f0-9b79-e8624258a50a"
      },
      "source": [
        "# Разместим дискриминатор на устройстве\n",
        "\n",
        "dis.to_device(device)"
      ],
      "execution_count": null,
      "outputs": [
        {
          "output_type": "execute_result",
          "data": {
            "text/plain": [
              "<__main__.Discriminator at 0x7f4f0bcd81d0>"
            ]
          },
          "metadata": {},
          "execution_count": 77
        }
      ]
    },
    {
      "cell_type": "markdown",
      "metadata": {
        "id": "BSIPfsx15uqA"
      },
      "source": [
        "В библиотеке chainer есть свой оптимизатор Adam. Применим его. Подробнее про этот оптимизатор можно посмотреть здесь https://docs.chainer.org/en/latest/reference/generated/chainer.optimizers.Adam.html . "
      ]
    },
    {
      "cell_type": "code",
      "metadata": {
        "id": "p6zsT-XyG-Bu"
      },
      "source": [
        "def make_optimizer(model, \n",
        "                   alpha=0.0002, \n",
        "                   beta1=0.5):\n",
        "        '''\n",
        "        Функция применяет оптимизатор к заданной модели.\n",
        "\n",
        "        Args:\n",
        "          model - модель для компиляции\n",
        "          alpha - коэффициент обучения (learning_rate) \n",
        "          beta1 - коэффициент экспоненциальной скорости затухания момента первого порядка\n",
        "        \n",
        "        Returns:\n",
        "          optimizer - готовая для обучения сеть\n",
        "        '''\n",
        "        optimizer = chainer.optimizers.legacy.Adam(alpha=alpha, beta1=beta1)           # Создадим объект оптимизатор\n",
        "        optimizer.setup(model)                                                  # Применим к модели \n",
        "        optimizer.add_hook(                                                     # Функция перехвата\n",
        "            chainer.optimizer_hooks.WeightDecay(0.0001), 'hook_dec')\n",
        "        \n",
        "        # Возвращает сокмпонованную сеть\n",
        "        return optimizer"
      ],
      "execution_count": null,
      "outputs": []
    },
    {
      "cell_type": "code",
      "metadata": {
        "id": "__NaAXeWHQZL"
      },
      "source": [
        "# Оптимизировать генератор\n",
        "\n",
        "opt_gen = make_optimizer(gen)"
      ],
      "execution_count": null,
      "outputs": []
    },
    {
      "cell_type": "code",
      "metadata": {
        "id": "hIiiorPzHSko"
      },
      "source": [
        "# Оптимизировать дискриминатор\n",
        "\n",
        "opt_dis = make_optimizer(dis)"
      ],
      "execution_count": null,
      "outputs": []
    },
    {
      "cell_type": "code",
      "metadata": {
        "id": "IIYUs1Z7HVaF"
      },
      "source": [
        "# Если аргумент датасета \"пустой\" (не используем свой датасет)\n",
        "if args.dataset == '':\n",
        "        # Загружаем CIFAR10 в обучающую выборку\n",
        "        train, _ = chainer.datasets.get_cifar10(withlabel=False, scale=255.)\n",
        "\n",
        "# В противном случае        \n",
        "else:        \n",
        "        all_files = os.listdir(args.dataset)                                    # Определим названия всех файлов из папки датасета\n",
        "        image_files = [f for f in all_files if ('png' in f or 'jpg' in f)]      # Определим пути к файлам\n",
        "\n",
        "        # Отобразим адрес папки и количество картинок которое она содержит\n",
        "        print('{} contains {} image files'.format(args.dataset, len(image_files)))\n",
        "        # Создадим обучающую выборку из нашего датасета \n",
        "        train = chainer.datasets.ImageDataset(paths=image_files, root=args.dataset) "
      ],
      "execution_count": null,
      "outputs": []
    },
    {
      "cell_type": "code",
      "metadata": {
        "id": "97_u6QhpHi3a"
      },
      "source": [
        "# Установим итератор\n",
        "\n",
        "train_iter = chainer.iterators.SerialIterator(train, args.batchsize)"
      ],
      "execution_count": null,
      "outputs": []
    },
    {
      "cell_type": "code",
      "metadata": {
        "id": "Nh2v7xmXnqGz"
      },
      "source": [
        "# Создадим объект класса DCGANUpdater (определили его выше)\n",
        "\n",
        "updater = DCGANUpdater(models=(gen, dis),iterator=train_iter,optimizer={'gen': opt_gen, 'dis': opt_dis},device=device)"
      ],
      "execution_count": null,
      "outputs": []
    },
    {
      "cell_type": "code",
      "metadata": {
        "id": "k4IxX2NEnxjG"
      },
      "source": [
        "# Установим объект класса Trainer \n",
        "\n",
        "trainer = training.Trainer(updater, (args.epoch, 'epoch'), out=args.out)"
      ],
      "execution_count": null,
      "outputs": []
    },
    {
      "cell_type": "code",
      "metadata": {
        "id": "V7-ed6zon1SC"
      },
      "source": [
        "# Выделим значения интервалов отображения картинок и логов в отдельные переменные \n",
        "\n",
        "snapshot_interval = (args.snapshot_interval, 'iteration')\n",
        "display_interval = (args.display_interval, 'iteration')"
      ],
      "execution_count": null,
      "outputs": []
    },
    {
      "cell_type": "code",
      "metadata": {
        "id": "s5KImFW4n7tJ"
      },
      "source": [
        "# Определим название файла для вывода логов после каждого интервала\n",
        "trainer.extend(extensions.snapshot(filename='snapshot_iter_{.updater.iteration}.npz'),trigger=snapshot_interval)"
      ],
      "execution_count": null,
      "outputs": []
    },
    {
      "cell_type": "code",
      "metadata": {
        "id": "IKeirIc7oBr5"
      },
      "source": [
        "# Определим название файла для вывода логов генератора после каждого интервала\n",
        "\n",
        "trainer.extend(extensions.snapshot_object(gen, 'gen_iter_{.updater.iteration}.npz'), trigger=snapshot_interval)"
      ],
      "execution_count": null,
      "outputs": []
    },
    {
      "cell_type": "code",
      "metadata": {
        "id": "4Gt0pzKGoJS0"
      },
      "source": [
        "# Определим название файла для вывода логов дискриминатора после каждого интервала\n",
        "\n",
        "trainer.extend(extensions.snapshot_object(dis, 'dis_iter_{.updater.iteration}.npz'), trigger=snapshot_interval)"
      ],
      "execution_count": null,
      "outputs": []
    },
    {
      "cell_type": "code",
      "metadata": {
        "id": "BUylAkcfoO8m"
      },
      "source": [
        "# Расширение трейнера для вывода накопленных результатов в файл журнала\n",
        "trainer.extend(extensions.LogReport(trigger=display_interval)) \n",
        "\n",
        "# Определим в каком виде будем отображать данные о прошедшей эпохе, итерации, ошибке генератора и дискриминатора\n",
        "trainer.extend(extensions.PrintReport(['epoch', 'iteration', 'gen/loss', 'dis/loss',]), trigger=display_interval)"
      ],
      "execution_count": null,
      "outputs": []
    },
    {
      "cell_type": "code",
      "metadata": {
        "id": "i5Rm2kIFoicI"
      },
      "source": [
        "# Отобразим прогресс бар\n",
        "\n",
        "trainer.extend(extensions.ProgressBar(update_interval=10))"
      ],
      "execution_count": null,
      "outputs": []
    },
    {
      "cell_type": "code",
      "metadata": {
        "id": "8fEHyN8yomcf"
      },
      "source": [
        "# Укажем обучающему объекту функцию для отображения картинок\n",
        "\n",
        "trainer.extend(out_generated_image(gen, dis,10, 10, args.seed, args.out),trigger=snapshot_interval)"
      ],
      "execution_count": null,
      "outputs": []
    },
    {
      "cell_type": "code",
      "metadata": {
        "id": "cEyGWybUosWu"
      },
      "source": [
        "# Если аргументы не пустые\n",
        "if args.resume is not None:\n",
        "        # Загружаем объект из trainer в формате NPZ\n",
        "        chainer.serializers.load_npz(args.resume, trainer)"
      ],
      "execution_count": null,
      "outputs": []
    },
    {
      "cell_type": "code",
      "metadata": {
        "id": "1hEq1-ARo153",
        "colab": {
          "base_uri": "https://localhost:8080/"
        },
        "outputId": "6db88f40-2147-4be7-b260-7190ffb904fb"
      },
      "source": [
        "# Запускаем обучение\n",
        "\n",
        "trainer.run()"
      ],
      "execution_count": null,
      "outputs": [
        {
          "output_type": "stream",
          "name": "stdout",
          "text": [
            "\u001b[J     total [..................................................]  0.50%\n",
            "this epoch [..................................................]  1.00%\n",
            "        10 iter, 0 epoch / 2 epochs\n",
            "       inf iters/sec. Estimated time to finish: 0:00:00.\n",
            "\u001b[4A\u001b[J     total [..................................................]  1.00%\n",
            "this epoch [#.................................................]  2.00%\n",
            "        20 iter, 0 epoch / 2 epochs\n",
            "   0.11662 iters/sec. Estimated time to finish: 4:42:58.600409.\n",
            "\u001b[4A\u001b[J     total [..................................................]  1.50%\n",
            "this epoch [#.................................................]  3.00%\n",
            "        30 iter, 0 epoch / 2 epochs\n",
            "   0.11913 iters/sec. Estimated time to finish: 4:35:36.375212.\n",
            "\u001b[4A\u001b[J     total [#.................................................]  2.00%\n",
            "this epoch [##................................................]  4.00%\n",
            "        40 iter, 0 epoch / 2 epochs\n",
            "   0.12002 iters/sec. Estimated time to finish: 4:32:10.031155.\n",
            "\u001b[4A\u001b[J     total [#.................................................]  2.50%\n",
            "this epoch [##................................................]  5.00%\n",
            "        50 iter, 0 epoch / 2 epochs\n",
            "   0.12048 iters/sec. Estimated time to finish: 4:29:45.347839.\n",
            "\u001b[4A\u001b[J     total [#.................................................]  3.00%\n",
            "this epoch [###...............................................]  6.00%\n",
            "        60 iter, 0 epoch / 2 epochs\n",
            "   0.12006 iters/sec. Estimated time to finish: 4:29:18.655494.\n",
            "\u001b[4A\u001b[J     total [#.................................................]  3.50%\n",
            "this epoch [###...............................................]  7.00%\n",
            "        70 iter, 0 epoch / 2 epochs\n",
            "   0.11976 iters/sec. Estimated time to finish: 4:28:35.132373.\n",
            "\u001b[4A\u001b[J     total [##................................................]  4.00%\n",
            "this epoch [####..............................................]  8.00%\n",
            "        80 iter, 0 epoch / 2 epochs\n",
            "   0.11941 iters/sec. Estimated time to finish: 4:27:58.474738.\n",
            "\u001b[4A\u001b[J     total [##................................................]  4.50%\n",
            "this epoch [####..............................................]  9.00%\n",
            "        90 iter, 0 epoch / 2 epochs\n",
            "   0.11924 iters/sec. Estimated time to finish: 4:26:57.526935.\n",
            "\u001b[4Aepoch       iteration   gen/loss    dis/loss  \n",
            "\u001b[J0           100         1.25911     1.67116     \n",
            "\u001b[J     total [##................................................]  5.00%\n",
            "this epoch [#####.............................................] 10.00%\n",
            "       100 iter, 0 epoch / 2 epochs\n",
            "   0.11909 iters/sec. Estimated time to finish: 4:25:54.884470.\n",
            "\u001b[4A\u001b[J     total [##................................................]  5.50%\n",
            "this epoch [#####.............................................] 11.00%\n",
            "       110 iter, 0 epoch / 2 epochs\n",
            "    0.1178 iters/sec. Estimated time to finish: 4:27:23.857254.\n",
            "\u001b[4A\u001b[J     total [###...............................................]  6.00%\n",
            "this epoch [######............................................] 12.00%\n",
            "       120 iter, 0 epoch / 2 epochs\n",
            "   0.11802 iters/sec. Estimated time to finish: 4:25:29.528967.\n",
            "\u001b[4A\u001b[J     total [###...............................................]  6.50%\n",
            "this epoch [######............................................] 13.00%\n",
            "       130 iter, 0 epoch / 2 epochs\n",
            "   0.11857 iters/sec. Estimated time to finish: 4:22:51.494728.\n",
            "\u001b[4A\u001b[J     total [###...............................................]  7.00%\n",
            "this epoch [#######...........................................] 14.00%\n",
            "       140 iter, 0 epoch / 2 epochs\n",
            "   0.11899 iters/sec. Estimated time to finish: 4:20:31.912767.\n",
            "\u001b[4A\u001b[J     total [###...............................................]  7.50%\n",
            "this epoch [#######...........................................] 15.00%\n",
            "       150 iter, 0 epoch / 2 epochs\n",
            "   0.11942 iters/sec. Estimated time to finish: 4:18:11.517874.\n",
            "\u001b[4A\u001b[J     total [####..............................................]  8.00%\n",
            "this epoch [########..........................................] 16.00%\n",
            "       160 iter, 0 epoch / 2 epochs\n",
            "   0.11974 iters/sec. Estimated time to finish: 4:16:06.259994.\n",
            "\u001b[4A\u001b[J     total [####..............................................]  8.50%\n",
            "this epoch [########..........................................] 17.00%\n",
            "       170 iter, 0 epoch / 2 epochs\n",
            "   0.12001 iters/sec. Estimated time to finish: 4:14:09.042466.\n",
            "\u001b[4A\u001b[J     total [####..............................................]  9.00%\n",
            "this epoch [#########.........................................] 18.00%\n",
            "       180 iter, 0 epoch / 2 epochs\n",
            "   0.12029 iters/sec. Estimated time to finish: 4:12:10.292018.\n",
            "\u001b[4A\u001b[J     total [####..............................................]  9.50%\n",
            "this epoch [#########.........................................] 19.00%\n",
            "       190 iter, 0 epoch / 2 epochs\n",
            "   0.12056 iters/sec. Estimated time to finish: 4:10:13.655918.\n",
            "\u001b[4A\u001b[J0           200         0.933147    1.48035     \n",
            "\u001b[J     total [#####.............................................] 10.00%\n",
            "this epoch [##########........................................] 20.00%\n",
            "       200 iter, 0 epoch / 2 epochs\n",
            "   0.12079 iters/sec. Estimated time to finish: 4:08:22.344491.\n",
            "\u001b[4A\u001b[J     total [#####.............................................] 10.50%\n",
            "this epoch [##########........................................] 21.00%\n",
            "       210 iter, 0 epoch / 2 epochs\n",
            "   0.12039 iters/sec. Estimated time to finish: 4:07:48.936760.\n",
            "\u001b[4A\u001b[J     total [#####.............................................] 11.00%\n",
            "this epoch [###########.......................................] 22.00%\n",
            "       220 iter, 0 epoch / 2 epochs\n",
            "    0.1206 iters/sec. Estimated time to finish: 4:05:59.222873.\n",
            "\u001b[4A\u001b[J     total [#####.............................................] 11.50%\n",
            "this epoch [###########.......................................] 23.00%\n",
            "       230 iter, 0 epoch / 2 epochs\n",
            "   0.12081 iters/sec. Estimated time to finish: 4:04:11.484305.\n",
            "\u001b[4A\u001b[J     total [######............................................] 12.00%\n",
            "this epoch [############......................................] 24.00%\n",
            "       240 iter, 0 epoch / 2 epochs\n",
            "   0.12073 iters/sec. Estimated time to finish: 4:02:57.858560.\n",
            "\u001b[4A\u001b[J     total [######............................................] 12.50%\n",
            "this epoch [############......................................] 25.00%\n",
            "       250 iter, 0 epoch / 2 epochs\n",
            "   0.12063 iters/sec. Estimated time to finish: 4:01:47.014028.\n",
            "\u001b[4A\u001b[J     total [######............................................] 13.00%\n",
            "this epoch [#############.....................................] 26.00%\n",
            "       260 iter, 0 epoch / 2 epochs\n",
            "   0.12058 iters/sec. Estimated time to finish: 4:00:30.499414.\n",
            "\u001b[4A\u001b[J     total [######............................................] 13.50%\n",
            "this epoch [#############.....................................] 27.00%\n",
            "       270 iter, 0 epoch / 2 epochs\n",
            "   0.12052 iters/sec. Estimated time to finish: 3:59:14.142706.\n",
            "\u001b[4A\u001b[J     total [#######...........................................] 14.00%\n",
            "this epoch [##############....................................] 28.00%\n",
            "       280 iter, 0 epoch / 2 epochs\n",
            "   0.12045 iters/sec. Estimated time to finish: 3:57:59.829907.\n",
            "\u001b[4A\u001b[J     total [#######...........................................] 14.50%\n",
            "this epoch [##############....................................] 29.00%\n",
            "       290 iter, 0 epoch / 2 epochs\n",
            "    0.1204 iters/sec. Estimated time to finish: 3:56:42.797608.\n",
            "\u001b[4A\u001b[J0           300         0.836149    1.38304     \n",
            "\u001b[J     total [#######...........................................] 15.00%\n",
            "this epoch [###############...................................] 30.00%\n",
            "       300 iter, 0 epoch / 2 epochs\n",
            "   0.12046 iters/sec. Estimated time to finish: 3:55:12.776190.\n",
            "\u001b[4A\u001b[J     total [#######...........................................] 15.50%\n",
            "this epoch [###############...................................] 31.00%\n",
            "       310 iter, 0 epoch / 2 epochs\n",
            "   0.12023 iters/sec. Estimated time to finish: 3:54:16.084541.\n",
            "\u001b[4A\u001b[J     total [########..........................................] 16.00%\n",
            "this epoch [################..................................] 32.00%\n",
            "       320 iter, 0 epoch / 2 epochs\n",
            "   0.12038 iters/sec. Estimated time to finish: 3:52:35.631607.\n",
            "\u001b[4A\u001b[J     total [########..........................................] 16.50%\n",
            "this epoch [################..................................] 33.00%\n",
            "       330 iter, 0 epoch / 2 epochs\n",
            "   0.12054 iters/sec. Estimated time to finish: 3:50:54.550776.\n",
            "\u001b[4A\u001b[J     total [########..........................................] 17.00%\n",
            "this epoch [#################.................................] 34.00%\n",
            "       340 iter, 0 epoch / 2 epochs\n",
            "   0.12068 iters/sec. Estimated time to finish: 3:49:15.022174.\n",
            "\u001b[4A\u001b[J     total [########..........................................] 17.50%\n",
            "this epoch [#################.................................] 35.00%\n",
            "       350 iter, 0 epoch / 2 epochs\n",
            "   0.12082 iters/sec. Estimated time to finish: 3:47:36.498258.\n",
            "\u001b[4A\u001b[J     total [#########.........................................] 18.00%\n",
            "this epoch [##################................................] 36.00%\n",
            "       360 iter, 0 epoch / 2 epochs\n",
            "   0.12095 iters/sec. Estimated time to finish: 3:45:59.842432.\n",
            "\u001b[4A\u001b[J     total [#########.........................................] 18.50%\n",
            "this epoch [##################................................] 37.00%\n",
            "       370 iter, 0 epoch / 2 epochs\n",
            "   0.12096 iters/sec. Estimated time to finish: 3:44:35.952495.\n",
            "\u001b[4A\u001b[J     total [#########.........................................] 19.00%\n",
            "this epoch [###################...............................] 38.00%\n",
            "       380 iter, 0 epoch / 2 epochs\n",
            "   0.12091 iters/sec. Estimated time to finish: 3:43:18.428109.\n",
            "\u001b[4A\u001b[J     total [#########.........................................] 19.50%\n",
            "this epoch [###################...............................] 39.00%\n",
            "       390 iter, 0 epoch / 2 epochs\n",
            "   0.12086 iters/sec. Estimated time to finish: 3:42:01.297555.\n",
            "\u001b[4A\u001b[J0           400         0.817323    1.4232      \n",
            "\u001b[J     total [##########........................................] 20.00%\n",
            "this epoch [####################..............................] 40.00%\n",
            "       400 iter, 0 epoch / 2 epochs\n",
            "   0.12081 iters/sec. Estimated time to finish: 3:40:44.310940.\n",
            "\u001b[4A\u001b[J     total [##########........................................] 20.50%\n",
            "this epoch [####################..............................] 41.00%\n",
            "       410 iter, 0 epoch / 2 epochs\n",
            "   0.12044 iters/sec. Estimated time to finish: 3:40:01.776284.\n",
            "\u001b[4A\u001b[J     total [##########........................................] 21.00%\n",
            "this epoch [#####################.............................] 42.00%\n",
            "       420 iter, 0 epoch / 2 epochs\n",
            "    0.1204 iters/sec. Estimated time to finish: 3:38:42.721078.\n",
            "\u001b[4A\u001b[J     total [##########........................................] 21.50%\n",
            "this epoch [#####################.............................] 43.00%\n",
            "       430 iter, 0 epoch / 2 epochs\n",
            "   0.12043 iters/sec. Estimated time to finish: 3:37:17.103727.\n",
            "\u001b[4A\u001b[J     total [###########.......................................] 22.00%\n",
            "this epoch [######################............................] 44.00%\n",
            "       440 iter, 0 epoch / 2 epochs\n",
            "   0.12054 iters/sec. Estimated time to finish: 3:35:41.810939.\n",
            "\u001b[4A\u001b[J     total [###########.......................................] 22.50%\n",
            "this epoch [######################............................] 45.00%\n",
            "       450 iter, 0 epoch / 2 epochs\n",
            "   0.12066 iters/sec. Estimated time to finish: 3:34:06.004407.\n",
            "\u001b[4A\u001b[J     total [###########.......................................] 23.00%\n",
            "this epoch [#######################...........................] 46.00%\n",
            "       460 iter, 0 epoch / 2 epochs\n",
            "   0.12074 iters/sec. Estimated time to finish: 3:32:34.339357.\n",
            "\u001b[4A\u001b[J     total [###########.......................................] 23.50%\n",
            "this epoch [#######################...........................] 47.00%\n",
            "       470 iter, 0 epoch / 2 epochs\n",
            "   0.12084 iters/sec. Estimated time to finish: 3:31:01.331784.\n",
            "\u001b[4A\u001b[J     total [############......................................] 24.00%\n",
            "this epoch [########################..........................] 48.00%\n",
            "       480 iter, 0 epoch / 2 epochs\n",
            "   0.12094 iters/sec. Estimated time to finish: 3:29:27.813409.\n",
            "\u001b[4A\u001b[J     total [############......................................] 24.50%\n",
            "this epoch [########################..........................] 49.00%\n",
            "       490 iter, 0 epoch / 2 epochs\n",
            "   0.12104 iters/sec. Estimated time to finish: 3:27:55.040015.\n",
            "\u001b[4A\u001b[J0           500         0.811618    1.38358     \n",
            "\u001b[J     total [############......................................] 25.00%\n",
            "this epoch [#########################.........................] 50.00%\n",
            "       500 iter, 0 epoch / 2 epochs\n",
            "   0.12113 iters/sec. Estimated time to finish: 3:26:23.555399.\n",
            "\u001b[4A\u001b[J     total [############......................................] 25.50%\n",
            "this epoch [#########################.........................] 51.00%\n",
            "       510 iter, 0 epoch / 2 epochs\n",
            "   0.12098 iters/sec. Estimated time to finish: 3:25:16.336227.\n",
            "\u001b[4A\u001b[J     total [#############.....................................] 26.00%\n",
            "this epoch [##########################........................] 52.00%\n",
            "       520 iter, 0 epoch / 2 epochs\n",
            "   0.12106 iters/sec. Estimated time to finish: 3:23:44.862213.\n",
            "\u001b[4A\u001b[J     total [#############.....................................] 26.50%\n",
            "this epoch [##########################........................] 53.00%\n",
            "       530 iter, 0 epoch / 2 epochs\n",
            "   0.12115 iters/sec. Estimated time to finish: 3:22:14.039114.\n",
            "\u001b[4A\u001b[J     total [#############.....................................] 27.00%\n",
            "this epoch [###########################.......................] 54.00%\n",
            "       540 iter, 0 epoch / 2 epochs\n",
            "   0.12123 iters/sec. Estimated time to finish: 3:20:43.515232.\n",
            "\u001b[4A\u001b[J     total [#############.....................................] 27.50%\n",
            "this epoch [###########################.......................] 55.00%\n",
            "       550 iter, 0 epoch / 2 epochs\n",
            "    0.1213 iters/sec. Estimated time to finish: 3:19:13.392394.\n",
            "\u001b[4A\u001b[J     total [##############....................................] 28.00%\n",
            "this epoch [############################......................] 56.00%\n",
            "       560 iter, 0 epoch / 2 epochs\n",
            "   0.12139 iters/sec. Estimated time to finish: 3:17:42.935043.\n",
            "\u001b[4A\u001b[J     total [##############....................................] 28.50%\n",
            "this epoch [############################......................] 57.00%\n",
            "       570 iter, 0 epoch / 2 epochs\n",
            "   0.12147 iters/sec. Estimated time to finish: 3:16:12.794134.\n",
            "\u001b[4A\u001b[J     total [##############....................................] 29.00%\n",
            "this epoch [############################......................] 58.00%\n",
            "       580 iter, 0 epoch / 2 epochs\n",
            "   0.12142 iters/sec. Estimated time to finish: 3:14:54.546467.\n",
            "\u001b[4A\u001b[J     total [##############....................................] 29.50%\n",
            "this epoch [#############################.....................] 59.00%\n",
            "       590 iter, 0 epoch / 2 epochs\n",
            "   0.12139 iters/sec. Estimated time to finish: 3:13:34.989642.\n",
            "\u001b[4A\u001b[J0           600         0.970037    1.31036     \n",
            "\u001b[J     total [###############...................................] 30.00%\n",
            "this epoch [##############################....................] 60.00%\n",
            "       600 iter, 0 epoch / 2 epochs\n",
            "   0.12136 iters/sec. Estimated time to finish: 3:12:15.603164.\n",
            "\u001b[4A\u001b[J     total [###############...................................] 30.50%\n",
            "this epoch [##############################....................] 61.00%\n",
            "       610 iter, 0 epoch / 2 epochs\n",
            "   0.12112 iters/sec. Estimated time to finish: 3:11:16.570962.\n",
            "\u001b[4A\u001b[J     total [###############...................................] 31.00%\n",
            "this epoch [###############################...................] 62.00%\n",
            "       620 iter, 0 epoch / 2 epochs\n",
            "   0.12109 iters/sec. Estimated time to finish: 3:09:56.500409.\n",
            "\u001b[4A\u001b[J     total [###############...................................] 31.50%\n",
            "this epoch [###############################...................] 63.00%\n",
            "       630 iter, 0 epoch / 2 epochs\n",
            "   0.12107 iters/sec. Estimated time to finish: 3:08:36.003192.\n",
            "\u001b[4A\u001b[J     total [################..................................] 32.00%\n",
            "this epoch [################################..................] 64.00%\n",
            "       640 iter, 0 epoch / 2 epochs\n",
            "   0.12111 iters/sec. Estimated time to finish: 3:07:09.138214.\n",
            "\u001b[4A\u001b[J     total [################..................................] 32.50%\n",
            "this epoch [################################..................] 65.00%\n",
            "       650 iter, 0 epoch / 2 epochs\n",
            "   0.12118 iters/sec. Estimated time to finish: 3:05:40.214058.\n",
            "\u001b[4A\u001b[J     total [################..................................] 33.00%\n",
            "this epoch [#################################.................] 66.00%\n",
            "       660 iter, 0 epoch / 2 epochs\n",
            "   0.12125 iters/sec. Estimated time to finish: 3:04:11.513517.\n",
            "\u001b[4A\u001b[J     total [################..................................] 33.50%\n",
            "this epoch [#################################.................] 67.00%\n",
            "       670 iter, 0 epoch / 2 epochs\n",
            "   0.12129 iters/sec. Estimated time to finish: 3:02:45.350583.\n",
            "\u001b[4A\u001b[J     total [#################.................................] 34.00%\n",
            "this epoch [##################################................] 68.00%\n",
            "       680 iter, 0 epoch / 2 epochs\n",
            "   0.12124 iters/sec. Estimated time to finish: 3:01:27.857179.\n",
            "\u001b[4A\u001b[J     total [#################.................................] 34.50%\n",
            "this epoch [##################################................] 69.00%\n",
            "       690 iter, 0 epoch / 2 epochs\n",
            "   0.12114 iters/sec. Estimated time to finish: 3:00:13.545582.\n",
            "\u001b[4A\u001b[J0           700         0.905816    1.37499     \n",
            "\u001b[J     total [#################.................................] 35.00%\n",
            "this epoch [###################################...............] 70.00%\n",
            "       700 iter, 0 epoch / 2 epochs\n",
            "   0.12105 iters/sec. Estimated time to finish: 2:58:59.361632.\n",
            "\u001b[4A\u001b[J     total [#################.................................] 35.50%\n",
            "this epoch [###################################...............] 71.00%\n",
            "       710 iter, 0 epoch / 2 epochs\n",
            "   0.12079 iters/sec. Estimated time to finish: 2:57:59.470911.\n",
            "\u001b[4A\u001b[J     total [##################................................] 36.00%\n",
            "this epoch [####################################..............] 72.00%\n",
            "       720 iter, 0 epoch / 2 epochs\n",
            "   0.12086 iters/sec. Estimated time to finish: 2:56:30.889599.\n",
            "\u001b[4A\u001b[J     total [##################................................] 36.50%\n",
            "this epoch [####################################..............] 73.00%\n",
            "       730 iter, 0 epoch / 2 epochs\n",
            "   0.12093 iters/sec. Estimated time to finish: 2:55:02.281575.\n",
            "\u001b[4A\u001b[J     total [##################................................] 37.00%\n",
            "this epoch [#####################################.............] 74.00%\n",
            "       740 iter, 0 epoch / 2 epochs\n",
            "   0.12099 iters/sec. Estimated time to finish: 2:53:34.504078.\n",
            "\u001b[4A\u001b[J     total [##################................................] 37.50%\n",
            "this epoch [#####################################.............] 75.00%\n",
            "       750 iter, 0 epoch / 2 epochs\n",
            "   0.12094 iters/sec. Estimated time to finish: 2:52:16.063550.\n",
            "\u001b[4A\u001b[J     total [###################...............................] 38.00%\n",
            "this epoch [######################################............] 76.00%\n",
            "       760 iter, 0 epoch / 2 epochs\n",
            "   0.12086 iters/sec. Estimated time to finish: 2:50:59.415647.\n",
            "\u001b[4A"
          ]
        }
      ]
    },
    {
      "cell_type": "code",
      "metadata": {
        "id": "lfJMbxJzacNb"
      },
      "source": [
        "# По данному адресу появится картинка\n",
        "\n",
        "picture_path = '/content/result/preview/image00002000.png'"
      ],
      "execution_count": null,
      "outputs": []
    },
    {
      "cell_type": "code",
      "metadata": {
        "id": "2ZPUERPubAWz"
      },
      "source": [
        "# Загрузим картинку в переменную\n",
        "image_1 = Image.open(picture_path) \n",
        "\n",
        "# Рисуем изображение\n",
        "plt.imshow(image_1)\n",
        "plt.show()"
      ],
      "execution_count": null,
      "outputs": []
    }
  ]
}