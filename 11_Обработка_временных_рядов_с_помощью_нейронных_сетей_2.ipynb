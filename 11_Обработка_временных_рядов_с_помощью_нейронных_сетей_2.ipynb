{
  "nbformat": 4,
  "nbformat_minor": 0,
  "metadata": {
    "accelerator": "GPU",
    "colab": {
      "name": "Базовый блок | Обработка временных рядов с помощью нейронных сетей (Практика 2) |  УИИ",
      "provenance": [],
      "collapsed_sections": [],
      "machine_shape": "hm"
    },
    "kernelspec": {
      "display_name": "Python 3",
      "language": "python",
      "name": "python3"
    },
    "language_info": {
      "codemirror_mode": {
        "name": "ipython",
        "version": 3
      },
      "file_extension": ".py",
      "mimetype": "text/x-python",
      "name": "python",
      "nbconvert_exporter": "python",
      "pygments_lexer": "ipython3",
      "version": "3.8.2"
    }
  },
  "cells": [
    {
      "cell_type": "markdown",
      "metadata": {
        "id": "j6wXQHNqayHI"
      },
      "source": [
        "**Содержание темы**\n",
        "\n",
        "1. [Теория](https://colab.research.google.com/drive/1i7yg4JvtG_L24T_2VPVTTWlXWrRdgvqQ?usp=sharing)\n",
        "\n",
        "2. [Практический ноутбук 1](https://colab.research.google.com/drive/1JhNKmphhIAZ9MCqm9_-vsnJkiLxTTv5d?usp=sharing)\n",
        "\n",
        "3. Практический ноутбук 2\n"
      ]
    },
    {
      "cell_type": "markdown",
      "metadata": {
        "id": "5NUT6eCXG6HM"
      },
      "source": [
        "Данный блок во многом повторяет предыдущий, за исключением некоторых особенностей. В разбираемых моделях будем работать только с ценой закрытия."
      ]
    },
    {
      "cell_type": "markdown",
      "metadata": {
        "id": "-p4B169KRNOV"
      },
      "source": [
        "# Обработка временных рядов с помощью нейронных сетей"
      ]
    },
    {
      "cell_type": "markdown",
      "metadata": {
        "id": "JOh_g2CLcILF"
      },
      "source": [
        "# Задача: Предсказание тренда акций Сбербанка"
      ]
    },
    {
      "cell_type": "markdown",
      "metadata": {
        "id": "e0kwb74IyoBp"
      },
      "source": [
        "##Загрузка библиотек"
      ]
    },
    {
      "cell_type": "markdown",
      "metadata": {
        "id": "a95XdrTSKR28"
      },
      "source": [
        "Подгрузим библиотеки и необходимые инструменты:"
      ]
    },
    {
      "cell_type": "code",
      "metadata": {
        "id": "OOweilL20R7n"
      },
      "source": [
        "# Работа с массивами\n",
        "import numpy as np\n",
        "\n",
        "# Работа с таблицами\n",
        "import pandas as pd\n",
        "\n",
        "# Кодирование категориальных данных в формате OHE\n",
        "from tensorflow.keras.utils import to_categorical\n",
        "\n",
        "# Классы-конструкторы моделей нейронных сетей\n",
        "from tensorflow.keras.models import Sequential, Model\n",
        "\n",
        "# Основные слои\n",
        "from tensorflow.keras.layers import concatenate, Input, Dense, Dropout, BatchNormalization, Flatten, Conv1D, Conv2D, LSTM, GlobalMaxPooling1D, MaxPooling1D, RepeatVector\n",
        "\n",
        "# Оптимизаторы\n",
        "from tensorflow.keras.optimizers import Adam\n",
        "\n",
        "# Нормировщики\n",
        "from sklearn.preprocessing import StandardScaler, MinMaxScaler \n",
        "\n",
        "# Матрица ошибок классификатора\n",
        "from sklearn.metrics import confusion_matrix, ConfusionMatrixDisplay\n",
        "\n",
        "# Загрузка датасетов из облака google\n",
        "import gdown\n",
        "\n",
        "# Отрисовка графиков\n",
        "import matplotlib.pyplot as plt\n",
        "\n",
        "# Отрисовка графики в ячейке colab\n",
        "%matplotlib inline\n",
        "\n",
        "# Отключение предупреждений\n",
        "import warnings\n",
        "warnings.filterwarnings('ignore')"
      ],
      "execution_count": null,
      "outputs": []
    },
    {
      "cell_type": "code",
      "metadata": {
        "id": "WGk09Kc7v4_X"
      },
      "source": [
        "# Назначение размера и стиля графиков по умолчанию\n",
        "from pylab import rcParams\n",
        "plt.style.use('ggplot')\n",
        "rcParams['figure.figsize'] = (14, 7)"
      ],
      "execution_count": null,
      "outputs": []
    },
    {
      "cell_type": "markdown",
      "metadata": {
        "id": "PhoCV8mIc9j8"
      },
      "source": [
        "##Загрузка датасета и подготовка данных"
      ]
    },
    {
      "cell_type": "markdown",
      "metadata": {
        "id": "U6g0lBfI8QQC"
      },
      "source": [
        "###Загрузка данных"
      ]
    },
    {
      "cell_type": "code",
      "metadata": {
        "colab": {
          "base_uri": "https://localhost:8080/",
          "height": 35
        },
        "id": "FBwSCEV-n_P3",
        "outputId": "7e17b19c-3c7e-450c-e37a-f7ee4b360379"
      },
      "source": [
        "# Загрузка датасетов из облака\n",
        "gdown.download('https://storage.yandexcloud.net/aiueducation/Content/base/l11/SBER_MIN60.txt', None, quiet=True)"
      ],
      "execution_count": null,
      "outputs": [
        {
          "output_type": "execute_result",
          "data": {
            "text/plain": [
              "'SBER_MIN60.txt'"
            ],
            "application/vnd.google.colaboratory.intrinsic+json": {
              "type": "string"
            }
          },
          "metadata": {},
          "execution_count": 3
        }
      ]
    },
    {
      "cell_type": "code",
      "metadata": {
        "id": "P3K08guAoJfs"
      },
      "source": [
        "# Чтение данных в таблицу Pandas и назначение имен столбцов\n",
        "data = pd.read_csv('SBER_MIN60.txt', sep=\"\\t\", names=['Datetime', 'Open', 'High', 'Low', 'Close'])"
      ],
      "execution_count": null,
      "outputs": []
    },
    {
      "cell_type": "code",
      "metadata": {
        "id": "veKToILNUqT3"
      },
      "source": [
        "# Настройка имен столбцов\n",
        "COL_DATE = 'Datetime'\n",
        "COL_CLOSE = 'Close'\n",
        "\n",
        "# Настройка временного интервала для ограничения данных\n",
        "TIME_RANGE = ('2010-09-01 10:00:00.000', '2018-12-31 23:59:00.000')"
      ],
      "execution_count": null,
      "outputs": []
    },
    {
      "cell_type": "code",
      "metadata": {
        "colab": {
          "base_uri": "https://localhost:8080/",
          "height": 455
        },
        "id": "jfBpKsPyU4ZV",
        "outputId": "6fd7f2dd-76fa-4080-fc52-69219854ddc2"
      },
      "source": [
        "# Преобразование столбца даты в индекс таблицы и удаление ненужного столбца даты\n",
        "data.index = pd.to_datetime(data[COL_DATE])\n",
        "data.drop(columns=COL_DATE, inplace=True)\n",
        "\n",
        "# Отбор данных по заданному временному интервалу\n",
        "mask = (data.index >= TIME_RANGE[0]) & (data.index <= TIME_RANGE[1])\n",
        "data = data[mask]\n",
        "data"
      ],
      "execution_count": null,
      "outputs": [
        {
          "output_type": "execute_result",
          "data": {
            "text/plain": [
              "                       Open    High     Low   Close\n",
              "Datetime                                           \n",
              "2010-09-01 10:00:00   78.55   78.67   77.94   78.04\n",
              "2010-09-01 11:00:00   78.04   78.10   77.60   78.00\n",
              "2010-09-01 12:00:00   78.00   78.88   77.98   78.88\n",
              "2010-09-01 13:00:00   78.89   79.19   78.80   78.85\n",
              "2010-09-01 14:00:00   78.85   78.99   78.61   78.86\n",
              "...                     ...     ...     ...     ...\n",
              "2018-12-29 14:00:00  186.07  186.08  185.78  185.88\n",
              "2018-12-29 15:00:00  185.88  185.95  185.70  185.70\n",
              "2018-12-29 16:00:00  185.70  186.15  185.70  186.15\n",
              "2018-12-29 17:00:00  186.15  186.35  186.00  186.02\n",
              "2018-12-29 18:00:00  186.05  186.49  185.97  186.34\n",
              "\n",
              "[18818 rows x 4 columns]"
            ],
            "text/html": [
              "\n",
              "  <div id=\"df-bcca6a9d-c675-45b1-9242-059419cd4b89\">\n",
              "    <div class=\"colab-df-container\">\n",
              "      <div>\n",
              "<style scoped>\n",
              "    .dataframe tbody tr th:only-of-type {\n",
              "        vertical-align: middle;\n",
              "    }\n",
              "\n",
              "    .dataframe tbody tr th {\n",
              "        vertical-align: top;\n",
              "    }\n",
              "\n",
              "    .dataframe thead th {\n",
              "        text-align: right;\n",
              "    }\n",
              "</style>\n",
              "<table border=\"1\" class=\"dataframe\">\n",
              "  <thead>\n",
              "    <tr style=\"text-align: right;\">\n",
              "      <th></th>\n",
              "      <th>Open</th>\n",
              "      <th>High</th>\n",
              "      <th>Low</th>\n",
              "      <th>Close</th>\n",
              "    </tr>\n",
              "    <tr>\n",
              "      <th>Datetime</th>\n",
              "      <th></th>\n",
              "      <th></th>\n",
              "      <th></th>\n",
              "      <th></th>\n",
              "    </tr>\n",
              "  </thead>\n",
              "  <tbody>\n",
              "    <tr>\n",
              "      <th>2010-09-01 10:00:00</th>\n",
              "      <td>78.55</td>\n",
              "      <td>78.67</td>\n",
              "      <td>77.94</td>\n",
              "      <td>78.04</td>\n",
              "    </tr>\n",
              "    <tr>\n",
              "      <th>2010-09-01 11:00:00</th>\n",
              "      <td>78.04</td>\n",
              "      <td>78.10</td>\n",
              "      <td>77.60</td>\n",
              "      <td>78.00</td>\n",
              "    </tr>\n",
              "    <tr>\n",
              "      <th>2010-09-01 12:00:00</th>\n",
              "      <td>78.00</td>\n",
              "      <td>78.88</td>\n",
              "      <td>77.98</td>\n",
              "      <td>78.88</td>\n",
              "    </tr>\n",
              "    <tr>\n",
              "      <th>2010-09-01 13:00:00</th>\n",
              "      <td>78.89</td>\n",
              "      <td>79.19</td>\n",
              "      <td>78.80</td>\n",
              "      <td>78.85</td>\n",
              "    </tr>\n",
              "    <tr>\n",
              "      <th>2010-09-01 14:00:00</th>\n",
              "      <td>78.85</td>\n",
              "      <td>78.99</td>\n",
              "      <td>78.61</td>\n",
              "      <td>78.86</td>\n",
              "    </tr>\n",
              "    <tr>\n",
              "      <th>...</th>\n",
              "      <td>...</td>\n",
              "      <td>...</td>\n",
              "      <td>...</td>\n",
              "      <td>...</td>\n",
              "    </tr>\n",
              "    <tr>\n",
              "      <th>2018-12-29 14:00:00</th>\n",
              "      <td>186.07</td>\n",
              "      <td>186.08</td>\n",
              "      <td>185.78</td>\n",
              "      <td>185.88</td>\n",
              "    </tr>\n",
              "    <tr>\n",
              "      <th>2018-12-29 15:00:00</th>\n",
              "      <td>185.88</td>\n",
              "      <td>185.95</td>\n",
              "      <td>185.70</td>\n",
              "      <td>185.70</td>\n",
              "    </tr>\n",
              "    <tr>\n",
              "      <th>2018-12-29 16:00:00</th>\n",
              "      <td>185.70</td>\n",
              "      <td>186.15</td>\n",
              "      <td>185.70</td>\n",
              "      <td>186.15</td>\n",
              "    </tr>\n",
              "    <tr>\n",
              "      <th>2018-12-29 17:00:00</th>\n",
              "      <td>186.15</td>\n",
              "      <td>186.35</td>\n",
              "      <td>186.00</td>\n",
              "      <td>186.02</td>\n",
              "    </tr>\n",
              "    <tr>\n",
              "      <th>2018-12-29 18:00:00</th>\n",
              "      <td>186.05</td>\n",
              "      <td>186.49</td>\n",
              "      <td>185.97</td>\n",
              "      <td>186.34</td>\n",
              "    </tr>\n",
              "  </tbody>\n",
              "</table>\n",
              "<p>18818 rows × 4 columns</p>\n",
              "</div>\n",
              "      <button class=\"colab-df-convert\" onclick=\"convertToInteractive('df-bcca6a9d-c675-45b1-9242-059419cd4b89')\"\n",
              "              title=\"Convert this dataframe to an interactive table.\"\n",
              "              style=\"display:none;\">\n",
              "        \n",
              "  <svg xmlns=\"http://www.w3.org/2000/svg\" height=\"24px\"viewBox=\"0 0 24 24\"\n",
              "       width=\"24px\">\n",
              "    <path d=\"M0 0h24v24H0V0z\" fill=\"none\"/>\n",
              "    <path d=\"M18.56 5.44l.94 2.06.94-2.06 2.06-.94-2.06-.94-.94-2.06-.94 2.06-2.06.94zm-11 1L8.5 8.5l.94-2.06 2.06-.94-2.06-.94L8.5 2.5l-.94 2.06-2.06.94zm10 10l.94 2.06.94-2.06 2.06-.94-2.06-.94-.94-2.06-.94 2.06-2.06.94z\"/><path d=\"M17.41 7.96l-1.37-1.37c-.4-.4-.92-.59-1.43-.59-.52 0-1.04.2-1.43.59L10.3 9.45l-7.72 7.72c-.78.78-.78 2.05 0 2.83L4 21.41c.39.39.9.59 1.41.59.51 0 1.02-.2 1.41-.59l7.78-7.78 2.81-2.81c.8-.78.8-2.07 0-2.86zM5.41 20L4 18.59l7.72-7.72 1.47 1.35L5.41 20z\"/>\n",
              "  </svg>\n",
              "      </button>\n",
              "      \n",
              "  <style>\n",
              "    .colab-df-container {\n",
              "      display:flex;\n",
              "      flex-wrap:wrap;\n",
              "      gap: 12px;\n",
              "    }\n",
              "\n",
              "    .colab-df-convert {\n",
              "      background-color: #E8F0FE;\n",
              "      border: none;\n",
              "      border-radius: 50%;\n",
              "      cursor: pointer;\n",
              "      display: none;\n",
              "      fill: #1967D2;\n",
              "      height: 32px;\n",
              "      padding: 0 0 0 0;\n",
              "      width: 32px;\n",
              "    }\n",
              "\n",
              "    .colab-df-convert:hover {\n",
              "      background-color: #E2EBFA;\n",
              "      box-shadow: 0px 1px 2px rgba(60, 64, 67, 0.3), 0px 1px 3px 1px rgba(60, 64, 67, 0.15);\n",
              "      fill: #174EA6;\n",
              "    }\n",
              "\n",
              "    [theme=dark] .colab-df-convert {\n",
              "      background-color: #3B4455;\n",
              "      fill: #D2E3FC;\n",
              "    }\n",
              "\n",
              "    [theme=dark] .colab-df-convert:hover {\n",
              "      background-color: #434B5C;\n",
              "      box-shadow: 0px 1px 3px 1px rgba(0, 0, 0, 0.15);\n",
              "      filter: drop-shadow(0px 1px 2px rgba(0, 0, 0, 0.3));\n",
              "      fill: #FFFFFF;\n",
              "    }\n",
              "  </style>\n",
              "\n",
              "      <script>\n",
              "        const buttonEl =\n",
              "          document.querySelector('#df-bcca6a9d-c675-45b1-9242-059419cd4b89 button.colab-df-convert');\n",
              "        buttonEl.style.display =\n",
              "          google.colab.kernel.accessAllowed ? 'block' : 'none';\n",
              "\n",
              "        async function convertToInteractive(key) {\n",
              "          const element = document.querySelector('#df-bcca6a9d-c675-45b1-9242-059419cd4b89');\n",
              "          const dataTable =\n",
              "            await google.colab.kernel.invokeFunction('convertToInteractive',\n",
              "                                                     [key], {});\n",
              "          if (!dataTable) return;\n",
              "\n",
              "          const docLinkHtml = 'Like what you see? Visit the ' +\n",
              "            '<a target=\"_blank\" href=https://colab.research.google.com/notebooks/data_table.ipynb>data table notebook</a>'\n",
              "            + ' to learn more about interactive tables.';\n",
              "          element.innerHTML = '';\n",
              "          dataTable['output_type'] = 'display_data';\n",
              "          await google.colab.output.renderOutput(dataTable, element);\n",
              "          const docLink = document.createElement('div');\n",
              "          docLink.innerHTML = docLinkHtml;\n",
              "          element.appendChild(docLink);\n",
              "        }\n",
              "      </script>\n",
              "    </div>\n",
              "  </div>\n",
              "  "
            ]
          },
          "metadata": {},
          "execution_count": 6
        }
      ]
    },
    {
      "cell_type": "markdown",
      "metadata": {
        "id": "nyqigyYT8TLj"
      },
      "source": [
        "###Иллюстрация данных в графическом виде"
      ]
    },
    {
      "cell_type": "code",
      "metadata": {
        "id": "kChuauc8oTjr",
        "colab": {
          "base_uri": "https://localhost:8080/",
          "height": 500
        },
        "outputId": "820d4b10-5803-476a-d1ab-24e96beeb912"
      },
      "source": [
        "# Отображение временного ряда в графическом виде\n",
        "plt.figure(figsize=(20, 8))\n",
        "plt.plot(data.index, data[COL_CLOSE])\n",
        "plt.title('График цены на SBER (1h)')\n",
        "plt.show()"
      ],
      "execution_count": null,
      "outputs": [
        {
          "output_type": "display_data",
          "data": {
            "text/plain": [
              "<Figure size 1440x576 with 1 Axes>"
            ],
            "image/png": "[encoded data removed]"
          },
          "metadata": {}
        }
      ]
    },
    {
      "cell_type": "markdown",
      "metadata": {
        "id": "CKpTtma9Vw8W"
      },
      "source": [
        "### Подготовка выборок данных для нейросети\n",
        "\n",
        "\n"
      ]
    },
    {
      "cell_type": "markdown",
      "metadata": {
        "id": "gU6oQM_w2HaY"
      },
      "source": [
        "####**Задание гиперпараметров**"
      ]
    },
    {
      "cell_type": "markdown",
      "metadata": {
        "id": "vtd_LrQV_Sx2"
      },
      "source": [
        "Длина элемента выборки равна 19, а нейронка предсказывает два варианта – Нисходящий или Восходящий тренд (0 или 1) (простыми словами: цена упадет или вырастет)\n",
        "\n",
        "**Indicator_Depth** – В НС будет подаваться не только цена закрытия, но и разница между значениями. Данный параметр показывает насколько глубоко мы будем анализировать разницу в индикаторах.\n",
        "\n",
        "Особенность выборок в данной задаче в том, что в обучающей наблюдается растущий тренд, а в тестовой – наоборот. "
      ]
    },
    {
      "cell_type": "code",
      "metadata": {
        "id": "3ibYUQH8oFYk"
      },
      "source": [
        "# Задание гиперпараметров\n",
        "INDICATOR_DEPTH = 14                      # Глубина расчета индикаторов тренда (шаги)\n",
        "SEQ_LEN = 19                              # Длина серии (подпоследовательности) входных данных для анализа\n",
        "PREDICT_LAG = 1                           # Количество шагов в будущее для предсказания\n",
        "TEST_LEN = 600                            # Объем тестовой выборки (в конце данных)\n",
        "CLASS_LABELS = ['Нисходящий/боковой', \n",
        "                'Восходящий']             # Метки классов: 0-нисходящий/боковой тренд, 1-восходящий тренд"
      ],
      "execution_count": null,
      "outputs": []
    },
    {
      "cell_type": "markdown",
      "metadata": {
        "id": "HTwMS1gr2NDd"
      },
      "source": [
        "####**Расчет признаков тренда**"
      ]
    },
    {
      "cell_type": "markdown",
      "metadata": {
        "id": "rhq_e26R_0Nf"
      },
      "source": [
        "Добавим дополнительные 14 колонок. При помощи pct_change() получим необходимые значения. \n",
        "\n",
        "Принцип работы таков: следующее значение делится на предыдущее и вычитается 1. \n",
        "\n",
        "Логика этих 14 столбцов заключается в том, что происходит фиксация изменения цены закрытия по отношению к 14-ти предыдущим ценам закрытия. "
      ]
    },
    {
      "cell_type": "code",
      "metadata": {
        "id": "XVxiRBZtoWmb",
        "colab": {
          "base_uri": "https://localhost:8080/",
          "height": 492
        },
        "outputId": "91ab0738-2c91-4b64-847c-c27ba1b767ee"
      },
      "source": [
        "# Расчет индикаторов относительной доходности\n",
        "for i in range(1, INDICATOR_DEPTH + 1):\n",
        "    indicator_change = f'Close_chng_{i}'\n",
        "    # Относительная доходность в сотых долях за период i шагов назад\n",
        "    data[indicator_change] = data[COL_CLOSE].pct_change(i)\n",
        "\n",
        "# Проверка результата\n",
        "print(data.shape)\n",
        "data[:5]"
      ],
      "execution_count": null,
      "outputs": [
        {
          "output_type": "stream",
          "name": "stdout",
          "text": [
            "(18818, 18)\n"
          ]
        },
        {
          "output_type": "execute_result",
          "data": {
            "text/plain": [
              "                      Open   High    Low  Close  Close_chng_1  Close_chng_2  \\\n",
              "Datetime                                                                      \n",
              "2010-09-01 10:00:00  78.55  78.67  77.94  78.04           NaN           NaN   \n",
              "2010-09-01 11:00:00  78.04  78.10  77.60  78.00     -0.000513           NaN   \n",
              "2010-09-01 12:00:00  78.00  78.88  77.98  78.88      0.011282      0.010764   \n",
              "2010-09-01 13:00:00  78.89  79.19  78.80  78.85     -0.000380      0.010897   \n",
              "2010-09-01 14:00:00  78.85  78.99  78.61  78.86      0.000127     -0.000254   \n",
              "\n",
              "                     Close_chng_3  Close_chng_4  Close_chng_5  Close_chng_6  \\\n",
              "Datetime                                                                      \n",
              "2010-09-01 10:00:00           NaN           NaN           NaN           NaN   \n",
              "2010-09-01 11:00:00           NaN           NaN           NaN           NaN   \n",
              "2010-09-01 12:00:00           NaN           NaN           NaN           NaN   \n",
              "2010-09-01 13:00:00      0.010379           NaN           NaN           NaN   \n",
              "2010-09-01 14:00:00      0.011026      0.010507           NaN           NaN   \n",
              "\n",
              "                     Close_chng_7  Close_chng_8  Close_chng_9  Close_chng_10  \\\n",
              "Datetime                                                                       \n",
              "2010-09-01 10:00:00           NaN           NaN           NaN            NaN   \n",
              "2010-09-01 11:00:00           NaN           NaN           NaN            NaN   \n",
              "2010-09-01 12:00:00           NaN           NaN           NaN            NaN   \n",
              "2010-09-01 13:00:00           NaN           NaN           NaN            NaN   \n",
              "2010-09-01 14:00:00           NaN           NaN           NaN            NaN   \n",
              "\n",
              "                     Close_chng_11  Close_chng_12  Close_chng_13  \\\n",
              "Datetime                                                           \n",
              "2010-09-01 10:00:00            NaN            NaN            NaN   \n",
              "2010-09-01 11:00:00            NaN            NaN            NaN   \n",
              "2010-09-01 12:00:00            NaN            NaN            NaN   \n",
              "2010-09-01 13:00:00            NaN            NaN            NaN   \n",
              "2010-09-01 14:00:00            NaN            NaN            NaN   \n",
              "\n",
              "                     Close_chng_14  \n",
              "Datetime                            \n",
              "2010-09-01 10:00:00            NaN  \n",
              "2010-09-01 11:00:00            NaN  \n",
              "2010-09-01 12:00:00            NaN  \n",
              "2010-09-01 13:00:00            NaN  \n",
              "2010-09-01 14:00:00            NaN  "
            ],
            "text/html": [
              "\n",
              "  <div id=\"df-17386919-7569-415d-98dc-78456efffc24\">\n",
              "    <div class=\"colab-df-container\">\n",
              "      <div>\n",
              "<style scoped>\n",
              "    .dataframe tbody tr th:only-of-type {\n",
              "        vertical-align: middle;\n",
              "    }\n",
              "\n",
              "    .dataframe tbody tr th {\n",
              "        vertical-align: top;\n",
              "    }\n",
              "\n",
              "    .dataframe thead th {\n",
              "        text-align: right;\n",
              "    }\n",
              "</style>\n",
              "<table border=\"1\" class=\"dataframe\">\n",
              "  <thead>\n",
              "    <tr style=\"text-align: right;\">\n",
              "      <th></th>\n",
              "      <th>Open</th>\n",
              "      <th>High</th>\n",
              "      <th>Low</th>\n",
              "      <th>Close</th>\n",
              "      <th>Close_chng_1</th>\n",
              "      <th>Close_chng_2</th>\n",
              "      <th>Close_chng_3</th>\n",
              "      <th>Close_chng_4</th>\n",
              "      <th>Close_chng_5</th>\n",
              "      <th>Close_chng_6</th>\n",
              "      <th>Close_chng_7</th>\n",
              "      <th>Close_chng_8</th>\n",
              "      <th>Close_chng_9</th>\n",
              "      <th>Close_chng_10</th>\n",
              "      <th>Close_chng_11</th>\n",
              "      <th>Close_chng_12</th>\n",
              "      <th>Close_chng_13</th>\n",
              "      <th>Close_chng_14</th>\n",
              "    </tr>\n",
              "    <tr>\n",
              "      <th>Datetime</th>\n",
              "      <th></th>\n",
              "      <th></th>\n",
              "      <th></th>\n",
              "      <th></th>\n",
              "      <th></th>\n",
              "      <th></th>\n",
              "      <th></th>\n",
              "      <th></th>\n",
              "      <th></th>\n",
              "      <th></th>\n",
              "      <th></th>\n",
              "      <th></th>\n",
              "      <th></th>\n",
              "      <th></th>\n",
              "      <th></th>\n",
              "      <th></th>\n",
              "      <th></th>\n",
              "      <th></th>\n",
              "    </tr>\n",
              "  </thead>\n",
              "  <tbody>\n",
              "    <tr>\n",
              "      <th>2010-09-01 10:00:00</th>\n",
              "      <td>78.55</td>\n",
              "      <td>78.67</td>\n",
              "      <td>77.94</td>\n",
              "      <td>78.04</td>\n",
              "      <td>NaN</td>\n",
              "      <td>NaN</td>\n",
              "      <td>NaN</td>\n",
              "      <td>NaN</td>\n",
              "      <td>NaN</td>\n",
              "      <td>NaN</td>\n",
              "      <td>NaN</td>\n",
              "      <td>NaN</td>\n",
              "      <td>NaN</td>\n",
              "      <td>NaN</td>\n",
              "      <td>NaN</td>\n",
              "      <td>NaN</td>\n",
              "      <td>NaN</td>\n",
              "      <td>NaN</td>\n",
              "    </tr>\n",
              "    <tr>\n",
              "      <th>2010-09-01 11:00:00</th>\n",
              "      <td>78.04</td>\n",
              "      <td>78.10</td>\n",
              "      <td>77.60</td>\n",
              "      <td>78.00</td>\n",
              "      <td>-0.000513</td>\n",
              "      <td>NaN</td>\n",
              "      <td>NaN</td>\n",
              "      <td>NaN</td>\n",
              "      <td>NaN</td>\n",
              "      <td>NaN</td>\n",
              "      <td>NaN</td>\n",
              "      <td>NaN</td>\n",
              "      <td>NaN</td>\n",
              "      <td>NaN</td>\n",
              "      <td>NaN</td>\n",
              "      <td>NaN</td>\n",
              "      <td>NaN</td>\n",
              "      <td>NaN</td>\n",
              "    </tr>\n",
              "    <tr>\n",
              "      <th>2010-09-01 12:00:00</th>\n",
              "      <td>78.00</td>\n",
              "      <td>78.88</td>\n",
              "      <td>77.98</td>\n",
              "      <td>78.88</td>\n",
              "      <td>0.011282</td>\n",
              "      <td>0.010764</td>\n",
              "      <td>NaN</td>\n",
              "      <td>NaN</td>\n",
              "      <td>NaN</td>\n",
              "      <td>NaN</td>\n",
              "      <td>NaN</td>\n",
              "      <td>NaN</td>\n",
              "      <td>NaN</td>\n",
              "      <td>NaN</td>\n",
              "      <td>NaN</td>\n",
              "      <td>NaN</td>\n",
              "      <td>NaN</td>\n",
              "      <td>NaN</td>\n",
              "    </tr>\n",
              "    <tr>\n",
              "      <th>2010-09-01 13:00:00</th>\n",
              "      <td>78.89</td>\n",
              "      <td>79.19</td>\n",
              "      <td>78.80</td>\n",
              "      <td>78.85</td>\n",
              "      <td>-0.000380</td>\n",
              "      <td>0.010897</td>\n",
              "      <td>0.010379</td>\n",
              "      <td>NaN</td>\n",
              "      <td>NaN</td>\n",
              "      <td>NaN</td>\n",
              "      <td>NaN</td>\n",
              "      <td>NaN</td>\n",
              "      <td>NaN</td>\n",
              "      <td>NaN</td>\n",
              "      <td>NaN</td>\n",
              "      <td>NaN</td>\n",
              "      <td>NaN</td>\n",
              "      <td>NaN</td>\n",
              "    </tr>\n",
              "    <tr>\n",
              "      <th>2010-09-01 14:00:00</th>\n",
              "      <td>78.85</td>\n",
              "      <td>78.99</td>\n",
              "      <td>78.61</td>\n",
              "      <td>78.86</td>\n",
              "      <td>0.000127</td>\n",
              "      <td>-0.000254</td>\n",
              "      <td>0.011026</td>\n",
              "      <td>0.010507</td>\n",
              "      <td>NaN</td>\n",
              "      <td>NaN</td>\n",
              "      <td>NaN</td>\n",
              "      <td>NaN</td>\n",
              "      <td>NaN</td>\n",
              "      <td>NaN</td>\n",
              "      <td>NaN</td>\n",
              "      <td>NaN</td>\n",
              "      <td>NaN</td>\n",
              "      <td>NaN</td>\n",
              "    </tr>\n",
              "  </tbody>\n",
              "</table>\n",
              "</div>\n",
              "      <button class=\"colab-df-convert\" onclick=\"convertToInteractive('df-17386919-7569-415d-98dc-78456efffc24')\"\n",
              "              title=\"Convert this dataframe to an interactive table.\"\n",
              "              style=\"display:none;\">\n",
              "        \n",
              "  <svg xmlns=\"http://www.w3.org/2000/svg\" height=\"24px\"viewBox=\"0 0 24 24\"\n",
              "       width=\"24px\">\n",
              "    <path d=\"M0 0h24v24H0V0z\" fill=\"none\"/>\n",
              "    <path d=\"M18.56 5.44l.94 2.06.94-2.06 2.06-.94-2.06-.94-.94-2.06-.94 2.06-2.06.94zm-11 1L8.5 8.5l.94-2.06 2.06-.94-2.06-.94L8.5 2.5l-.94 2.06-2.06.94zm10 10l.94 2.06.94-2.06 2.06-.94-2.06-.94-.94-2.06-.94 2.06-2.06.94z\"/><path d=\"M17.41 7.96l-1.37-1.37c-.4-.4-.92-.59-1.43-.59-.52 0-1.04.2-1.43.59L10.3 9.45l-7.72 7.72c-.78.78-.78 2.05 0 2.83L4 21.41c.39.39.9.59 1.41.59.51 0 1.02-.2 1.41-.59l7.78-7.78 2.81-2.81c.8-.78.8-2.07 0-2.86zM5.41 20L4 18.59l7.72-7.72 1.47 1.35L5.41 20z\"/>\n",
              "  </svg>\n",
              "      </button>\n",
              "      \n",
              "  <style>\n",
              "    .colab-df-container {\n",
              "      display:flex;\n",
              "      flex-wrap:wrap;\n",
              "      gap: 12px;\n",
              "    }\n",
              "\n",
              "    .colab-df-convert {\n",
              "      background-color: #E8F0FE;\n",
              "      border: none;\n",
              "      border-radius: 50%;\n",
              "      cursor: pointer;\n",
              "      display: none;\n",
              "      fill: #1967D2;\n",
              "      height: 32px;\n",
              "      padding: 0 0 0 0;\n",
              "      width: 32px;\n",
              "    }\n",
              "\n",
              "    .colab-df-convert:hover {\n",
              "      background-color: #E2EBFA;\n",
              "      box-shadow: 0px 1px 2px rgba(60, 64, 67, 0.3), 0px 1px 3px 1px rgba(60, 64, 67, 0.15);\n",
              "      fill: #174EA6;\n",
              "    }\n",
              "\n",
              "    [theme=dark] .colab-df-convert {\n",
              "      background-color: #3B4455;\n",
              "      fill: #D2E3FC;\n",
              "    }\n",
              "\n",
              "    [theme=dark] .colab-df-convert:hover {\n",
              "      background-color: #434B5C;\n",
              "      box-shadow: 0px 1px 3px 1px rgba(0, 0, 0, 0.15);\n",
              "      filter: drop-shadow(0px 1px 2px rgba(0, 0, 0, 0.3));\n",
              "      fill: #FFFFFF;\n",
              "    }\n",
              "  </style>\n",
              "\n",
              "      <script>\n",
              "        const buttonEl =\n",
              "          document.querySelector('#df-17386919-7569-415d-98dc-78456efffc24 button.colab-df-convert');\n",
              "        buttonEl.style.display =\n",
              "          google.colab.kernel.accessAllowed ? 'block' : 'none';\n",
              "\n",
              "        async function convertToInteractive(key) {\n",
              "          const element = document.querySelector('#df-17386919-7569-415d-98dc-78456efffc24');\n",
              "          const dataTable =\n",
              "            await google.colab.kernel.invokeFunction('convertToInteractive',\n",
              "                                                     [key], {});\n",
              "          if (!dataTable) return;\n",
              "\n",
              "          const docLinkHtml = 'Like what you see? Visit the ' +\n",
              "            '<a target=\"_blank\" href=https://colab.research.google.com/notebooks/data_table.ipynb>data table notebook</a>'\n",
              "            + ' to learn more about interactive tables.';\n",
              "          element.innerHTML = '';\n",
              "          dataTable['output_type'] = 'display_data';\n",
              "          await google.colab.output.renderOutput(dataTable, element);\n",
              "          const docLink = document.createElement('div');\n",
              "          docLink.innerHTML = docLinkHtml;\n",
              "          element.appendChild(docLink);\n",
              "        }\n",
              "      </script>\n",
              "    </div>\n",
              "  </div>\n",
              "  "
            ]
          },
          "metadata": {},
          "execution_count": 9
        }
      ]
    },
    {
      "cell_type": "markdown",
      "metadata": {
        "id": "M8sY1DFrIM9K"
      },
      "source": [
        "Удалим строчки, в которых есть **NaN** (это будут первые 13 строк):"
      ]
    },
    {
      "cell_type": "code",
      "metadata": {
        "id": "jJ4pQh4PrCEi",
        "colab": {
          "base_uri": "https://localhost:8080/",
          "height": 492
        },
        "outputId": "401f1af6-3750-44d1-c3fe-6b19bf5a2773"
      },
      "source": [
        "# Удаление строк с неполными данными\n",
        "data.dropna(inplace=True)\n",
        "\n",
        "# Проверка результата\n",
        "print(data.shape)\n",
        "data[:5]"
      ],
      "execution_count": null,
      "outputs": [
        {
          "output_type": "stream",
          "name": "stdout",
          "text": [
            "(18804, 18)\n"
          ]
        },
        {
          "output_type": "execute_result",
          "data": {
            "text/plain": [
              "                      Open   High    Low  Close  Close_chng_1  Close_chng_2  \\\n",
              "Datetime                                                                      \n",
              "2010-09-02 15:00:00  80.87  81.00  80.12  80.40     -0.005566     -0.010340   \n",
              "2010-09-02 16:00:00  80.40  81.18  80.20  80.83      0.005348     -0.000247   \n",
              "2010-09-02 17:00:00  80.83  80.96  80.51  80.85      0.000247      0.005597   \n",
              "2010-09-02 18:00:00  80.85  81.17  80.14  80.63     -0.002721     -0.002474   \n",
              "2010-09-03 10:00:00  80.70  80.79  80.27  80.77      0.001736     -0.000989   \n",
              "\n",
              "                     Close_chng_3  Close_chng_4  Close_chng_5  Close_chng_6  \\\n",
              "Datetime                                                                      \n",
              "2010-09-02 15:00:00     -0.002853      0.002744      0.001121     -0.000249   \n",
              "2010-09-02 16:00:00     -0.005047      0.002480      0.008107      0.006475   \n",
              "2010-09-02 17:00:00      0.000000     -0.004801      0.002729      0.008356   \n",
              "2010-09-02 18:00:00      0.002861     -0.002721     -0.007509      0.000000   \n",
              "2010-09-03 10:00:00     -0.000742      0.004602     -0.000989     -0.005785   \n",
              "\n",
              "                     Close_chng_7  Close_chng_8  Close_chng_9  Close_chng_10  \\\n",
              "Datetime                                                                       \n",
              "2010-09-02 15:00:00      0.019270      0.016563      0.018882       0.019528   \n",
              "2010-09-02 16:00:00      0.005098      0.024721      0.022000       0.024332   \n",
              "2010-09-02 17:00:00      0.006724      0.005347      0.024975       0.022253   \n",
              "2010-09-02 18:00:00      0.005612      0.003985      0.002611       0.022186   \n",
              "2010-09-03 10:00:00      0.001736      0.007358      0.005728       0.004352   \n",
              "\n",
              "                     Close_chng_11  Close_chng_12  Close_chng_13  \\\n",
              "Datetime                                                           \n",
              "2010-09-02 15:00:00       0.019658       0.019270       0.030769   \n",
              "2010-09-02 16:00:00       0.024981       0.025111       0.024721   \n",
              "2010-09-02 17:00:00       0.024585       0.025235       0.025365   \n",
              "2010-09-02 18:00:00       0.019471       0.021797       0.022445   \n",
              "2010-09-03 10:00:00       0.023960       0.021242       0.023571   \n",
              "\n",
              "                     Close_chng_14  \n",
              "Datetime                            \n",
              "2010-09-02 15:00:00       0.030241  \n",
              "2010-09-02 16:00:00       0.036282  \n",
              "2010-09-02 17:00:00       0.024975  \n",
              "2010-09-02 18:00:00       0.022575  \n",
              "2010-09-03 10:00:00       0.024220  "
            ],
            "text/html": [
              "\n",
              "  <div id=\"df-d862af5d-ea51-452d-99b5-af1d65702b71\">\n",
              "    <div class=\"colab-df-container\">\n",
              "      <div>\n",
              "<style scoped>\n",
              "    .dataframe tbody tr th:only-of-type {\n",
              "        vertical-align: middle;\n",
              "    }\n",
              "\n",
              "    .dataframe tbody tr th {\n",
              "        vertical-align: top;\n",
              "    }\n",
              "\n",
              "    .dataframe thead th {\n",
              "        text-align: right;\n",
              "    }\n",
              "</style>\n",
              "<table border=\"1\" class=\"dataframe\">\n",
              "  <thead>\n",
              "    <tr style=\"text-align: right;\">\n",
              "      <th></th>\n",
              "      <th>Open</th>\n",
              "      <th>High</th>\n",
              "      <th>Low</th>\n",
              "      <th>Close</th>\n",
              "      <th>Close_chng_1</th>\n",
              "      <th>Close_chng_2</th>\n",
              "      <th>Close_chng_3</th>\n",
              "      <th>Close_chng_4</th>\n",
              "      <th>Close_chng_5</th>\n",
              "      <th>Close_chng_6</th>\n",
              "      <th>Close_chng_7</th>\n",
              "      <th>Close_chng_8</th>\n",
              "      <th>Close_chng_9</th>\n",
              "      <th>Close_chng_10</th>\n",
              "      <th>Close_chng_11</th>\n",
              "      <th>Close_chng_12</th>\n",
              "      <th>Close_chng_13</th>\n",
              "      <th>Close_chng_14</th>\n",
              "    </tr>\n",
              "    <tr>\n",
              "      <th>Datetime</th>\n",
              "      <th></th>\n",
              "      <th></th>\n",
              "      <th></th>\n",
              "      <th></th>\n",
              "      <th></th>\n",
              "      <th></th>\n",
              "      <th></th>\n",
              "      <th></th>\n",
              "      <th></th>\n",
              "      <th></th>\n",
              "      <th></th>\n",
              "      <th></th>\n",
              "      <th></th>\n",
              "      <th></th>\n",
              "      <th></th>\n",
              "      <th></th>\n",
              "      <th></th>\n",
              "      <th></th>\n",
              "    </tr>\n",
              "  </thead>\n",
              "  <tbody>\n",
              "    <tr>\n",
              "      <th>2010-09-02 15:00:00</th>\n",
              "      <td>80.87</td>\n",
              "      <td>81.00</td>\n",
              "      <td>80.12</td>\n",
              "      <td>80.40</td>\n",
              "      <td>-0.005566</td>\n",
              "      <td>-0.010340</td>\n",
              "      <td>-0.002853</td>\n",
              "      <td>0.002744</td>\n",
              "      <td>0.001121</td>\n",
              "      <td>-0.000249</td>\n",
              "      <td>0.019270</td>\n",
              "      <td>0.016563</td>\n",
              "      <td>0.018882</td>\n",
              "      <td>0.019528</td>\n",
              "      <td>0.019658</td>\n",
              "      <td>0.019270</td>\n",
              "      <td>0.030769</td>\n",
              "      <td>0.030241</td>\n",
              "    </tr>\n",
              "    <tr>\n",
              "      <th>2010-09-02 16:00:00</th>\n",
              "      <td>80.40</td>\n",
              "      <td>81.18</td>\n",
              "      <td>80.20</td>\n",
              "      <td>80.83</td>\n",
              "      <td>0.005348</td>\n",
              "      <td>-0.000247</td>\n",
              "      <td>-0.005047</td>\n",
              "      <td>0.002480</td>\n",
              "      <td>0.008107</td>\n",
              "      <td>0.006475</td>\n",
              "      <td>0.005098</td>\n",
              "      <td>0.024721</td>\n",
              "      <td>0.022000</td>\n",
              "      <td>0.024332</td>\n",
              "      <td>0.024981</td>\n",
              "      <td>0.025111</td>\n",
              "      <td>0.024721</td>\n",
              "      <td>0.036282</td>\n",
              "    </tr>\n",
              "    <tr>\n",
              "      <th>2010-09-02 17:00:00</th>\n",
              "      <td>80.83</td>\n",
              "      <td>80.96</td>\n",
              "      <td>80.51</td>\n",
              "      <td>80.85</td>\n",
              "      <td>0.000247</td>\n",
              "      <td>0.005597</td>\n",
              "      <td>0.000000</td>\n",
              "      <td>-0.004801</td>\n",
              "      <td>0.002729</td>\n",
              "      <td>0.008356</td>\n",
              "      <td>0.006724</td>\n",
              "      <td>0.005347</td>\n",
              "      <td>0.024975</td>\n",
              "      <td>0.022253</td>\n",
              "      <td>0.024585</td>\n",
              "      <td>0.025235</td>\n",
              "      <td>0.025365</td>\n",
              "      <td>0.024975</td>\n",
              "    </tr>\n",
              "    <tr>\n",
              "      <th>2010-09-02 18:00:00</th>\n",
              "      <td>80.85</td>\n",
              "      <td>81.17</td>\n",
              "      <td>80.14</td>\n",
              "      <td>80.63</td>\n",
              "      <td>-0.002721</td>\n",
              "      <td>-0.002474</td>\n",
              "      <td>0.002861</td>\n",
              "      <td>-0.002721</td>\n",
              "      <td>-0.007509</td>\n",
              "      <td>0.000000</td>\n",
              "      <td>0.005612</td>\n",
              "      <td>0.003985</td>\n",
              "      <td>0.002611</td>\n",
              "      <td>0.022186</td>\n",
              "      <td>0.019471</td>\n",
              "      <td>0.021797</td>\n",
              "      <td>0.022445</td>\n",
              "      <td>0.022575</td>\n",
              "    </tr>\n",
              "    <tr>\n",
              "      <th>2010-09-03 10:00:00</th>\n",
              "      <td>80.70</td>\n",
              "      <td>80.79</td>\n",
              "      <td>80.27</td>\n",
              "      <td>80.77</td>\n",
              "      <td>0.001736</td>\n",
              "      <td>-0.000989</td>\n",
              "      <td>-0.000742</td>\n",
              "      <td>0.004602</td>\n",
              "      <td>-0.000989</td>\n",
              "      <td>-0.005785</td>\n",
              "      <td>0.001736</td>\n",
              "      <td>0.007358</td>\n",
              "      <td>0.005728</td>\n",
              "      <td>0.004352</td>\n",
              "      <td>0.023960</td>\n",
              "      <td>0.021242</td>\n",
              "      <td>0.023571</td>\n",
              "      <td>0.024220</td>\n",
              "    </tr>\n",
              "  </tbody>\n",
              "</table>\n",
              "</div>\n",
              "      <button class=\"colab-df-convert\" onclick=\"convertToInteractive('df-d862af5d-ea51-452d-99b5-af1d65702b71')\"\n",
              "              title=\"Convert this dataframe to an interactive table.\"\n",
              "              style=\"display:none;\">\n",
              "        \n",
              "  <svg xmlns=\"http://www.w3.org/2000/svg\" height=\"24px\"viewBox=\"0 0 24 24\"\n",
              "       width=\"24px\">\n",
              "    <path d=\"M0 0h24v24H0V0z\" fill=\"none\"/>\n",
              "    <path d=\"M18.56 5.44l.94 2.06.94-2.06 2.06-.94-2.06-.94-.94-2.06-.94 2.06-2.06.94zm-11 1L8.5 8.5l.94-2.06 2.06-.94-2.06-.94L8.5 2.5l-.94 2.06-2.06.94zm10 10l.94 2.06.94-2.06 2.06-.94-2.06-.94-.94-2.06-.94 2.06-2.06.94z\"/><path d=\"M17.41 7.96l-1.37-1.37c-.4-.4-.92-.59-1.43-.59-.52 0-1.04.2-1.43.59L10.3 9.45l-7.72 7.72c-.78.78-.78 2.05 0 2.83L4 21.41c.39.39.9.59 1.41.59.51 0 1.02-.2 1.41-.59l7.78-7.78 2.81-2.81c.8-.78.8-2.07 0-2.86zM5.41 20L4 18.59l7.72-7.72 1.47 1.35L5.41 20z\"/>\n",
              "  </svg>\n",
              "      </button>\n",
              "      \n",
              "  <style>\n",
              "    .colab-df-container {\n",
              "      display:flex;\n",
              "      flex-wrap:wrap;\n",
              "      gap: 12px;\n",
              "    }\n",
              "\n",
              "    .colab-df-convert {\n",
              "      background-color: #E8F0FE;\n",
              "      border: none;\n",
              "      border-radius: 50%;\n",
              "      cursor: pointer;\n",
              "      display: none;\n",
              "      fill: #1967D2;\n",
              "      height: 32px;\n",
              "      padding: 0 0 0 0;\n",
              "      width: 32px;\n",
              "    }\n",
              "\n",
              "    .colab-df-convert:hover {\n",
              "      background-color: #E2EBFA;\n",
              "      box-shadow: 0px 1px 2px rgba(60, 64, 67, 0.3), 0px 1px 3px 1px rgba(60, 64, 67, 0.15);\n",
              "      fill: #174EA6;\n",
              "    }\n",
              "\n",
              "    [theme=dark] .colab-df-convert {\n",
              "      background-color: #3B4455;\n",
              "      fill: #D2E3FC;\n",
              "    }\n",
              "\n",
              "    [theme=dark] .colab-df-convert:hover {\n",
              "      background-color: #434B5C;\n",
              "      box-shadow: 0px 1px 3px 1px rgba(0, 0, 0, 0.15);\n",
              "      filter: drop-shadow(0px 1px 2px rgba(0, 0, 0, 0.3));\n",
              "      fill: #FFFFFF;\n",
              "    }\n",
              "  </style>\n",
              "\n",
              "      <script>\n",
              "        const buttonEl =\n",
              "          document.querySelector('#df-d862af5d-ea51-452d-99b5-af1d65702b71 button.colab-df-convert');\n",
              "        buttonEl.style.display =\n",
              "          google.colab.kernel.accessAllowed ? 'block' : 'none';\n",
              "\n",
              "        async function convertToInteractive(key) {\n",
              "          const element = document.querySelector('#df-d862af5d-ea51-452d-99b5-af1d65702b71');\n",
              "          const dataTable =\n",
              "            await google.colab.kernel.invokeFunction('convertToInteractive',\n",
              "                                                     [key], {});\n",
              "          if (!dataTable) return;\n",
              "\n",
              "          const docLinkHtml = 'Like what you see? Visit the ' +\n",
              "            '<a target=\"_blank\" href=https://colab.research.google.com/notebooks/data_table.ipynb>data table notebook</a>'\n",
              "            + ' to learn more about interactive tables.';\n",
              "          element.innerHTML = '';\n",
              "          dataTable['output_type'] = 'display_data';\n",
              "          await google.colab.output.renderOutput(dataTable, element);\n",
              "          const docLink = document.createElement('div');\n",
              "          docLink.innerHTML = docLinkHtml;\n",
              "          element.appendChild(docLink);\n",
              "        }\n",
              "      </script>\n",
              "    </div>\n",
              "  </div>\n",
              "  "
            ]
          },
          "metadata": {},
          "execution_count": 10
        }
      ]
    },
    {
      "cell_type": "markdown",
      "metadata": {
        "id": "0YDas5RBAV91"
      },
      "source": [
        "Возможны два варианта формирования выборки: подавать данные как есть, либо заменить значения на 0, где значение отрицательное и на 1, где положительное.\n"
      ]
    },
    {
      "cell_type": "code",
      "metadata": {
        "id": "foe0zdJmrGMx",
        "colab": {
          "base_uri": "https://localhost:8080/",
          "height": 284
        },
        "outputId": "c6cf0f41-ef7d-4f09-fa9d-55e4277c15ac"
      },
      "source": [
        "# Вычисление индикаторов направления тренда\n",
        "for i in range(1, INDICATOR_DEPTH + 1):\n",
        "    indicator_change = f'Close_chng_{i}'\n",
        "    indicator_trend = f'Y_{i}'\n",
        "    # Заполнение столбца индикатора тренда нулями (нисходящий/боковой тренд)\n",
        "    data[indicator_trend] = 0.\n",
        "    # Если индикатор изменения периода на i шагов положителен, то тренд восходящий\n",
        "    data.loc[data[indicator_change] > 0. , indicator_trend] = 1.\n",
        "\n",
        "# Проверка результата\n",
        "print(data.shape)\n",
        "data[:5]"
      ],
      "execution_count": null,
      "outputs": [
        {
          "output_type": "stream",
          "name": "stdout",
          "text": [
            "(18804, 32)\n"
          ]
        },
        {
          "output_type": "execute_result",
          "data": {
            "text/plain": [
              "                      Open   High    Low  Close  Close_chng_1  Close_chng_2  \\\n",
              "Datetime                                                                      \n",
              "2010-09-02 15:00:00  80.87  81.00  80.12  80.40     -0.005566     -0.010340   \n",
              "2010-09-02 16:00:00  80.40  81.18  80.20  80.83      0.005348     -0.000247   \n",
              "2010-09-02 17:00:00  80.83  80.96  80.51  80.85      0.000247      0.005597   \n",
              "2010-09-02 18:00:00  80.85  81.17  80.14  80.63     -0.002721     -0.002474   \n",
              "2010-09-03 10:00:00  80.70  80.79  80.27  80.77      0.001736     -0.000989   \n",
              "\n",
              "                     Close_chng_3  Close_chng_4  Close_chng_5  Close_chng_6  \\\n",
              "Datetime                                                                      \n",
              "2010-09-02 15:00:00     -0.002853      0.002744      0.001121     -0.000249   \n",
              "2010-09-02 16:00:00     -0.005047      0.002480      0.008107      0.006475   \n",
              "2010-09-02 17:00:00      0.000000     -0.004801      0.002729      0.008356   \n",
              "2010-09-02 18:00:00      0.002861     -0.002721     -0.007509      0.000000   \n",
              "2010-09-03 10:00:00     -0.000742      0.004602     -0.000989     -0.005785   \n",
              "\n",
              "                     ...  Y_5  Y_6  Y_7  Y_8  Y_9  Y_10  Y_11  Y_12  Y_13  \\\n",
              "Datetime             ...                                                    \n",
              "2010-09-02 15:00:00  ...  1.0  0.0  1.0  1.0  1.0   1.0   1.0   1.0   1.0   \n",
              "2010-09-02 16:00:00  ...  1.0  1.0  1.0  1.0  1.0   1.0   1.0   1.0   1.0   \n",
              "2010-09-02 17:00:00  ...  1.0  1.0  1.0  1.0  1.0   1.0   1.0   1.0   1.0   \n",
              "2010-09-02 18:00:00  ...  0.0  0.0  1.0  1.0  1.0   1.0   1.0   1.0   1.0   \n",
              "2010-09-03 10:00:00  ...  0.0  0.0  1.0  1.0  1.0   1.0   1.0   1.0   1.0   \n",
              "\n",
              "                     Y_14  \n",
              "Datetime                   \n",
              "2010-09-02 15:00:00   1.0  \n",
              "2010-09-02 16:00:00   1.0  \n",
              "2010-09-02 17:00:00   1.0  \n",
              "2010-09-02 18:00:00   1.0  \n",
              "2010-09-03 10:00:00   1.0  \n",
              "\n",
              "[5 rows x 32 columns]"
            ],
            "text/html": [
              "\n",
              "  <div id=\"df-51805c9e-efa1-48de-aea6-ef1766c3d456\">\n",
              "    <div class=\"colab-df-container\">\n",
              "      <div>\n",
              "<style scoped>\n",
              "    .dataframe tbody tr th:only-of-type {\n",
              "        vertical-align: middle;\n",
              "    }\n",
              "\n",
              "    .dataframe tbody tr th {\n",
              "        vertical-align: top;\n",
              "    }\n",
              "\n",
              "    .dataframe thead th {\n",
              "        text-align: right;\n",
              "    }\n",
              "</style>\n",
              "<table border=\"1\" class=\"dataframe\">\n",
              "  <thead>\n",
              "    <tr style=\"text-align: right;\">\n",
              "      <th></th>\n",
              "      <th>Open</th>\n",
              "      <th>High</th>\n",
              "      <th>Low</th>\n",
              "      <th>Close</th>\n",
              "      <th>Close_chng_1</th>\n",
              "      <th>Close_chng_2</th>\n",
              "      <th>Close_chng_3</th>\n",
              "      <th>Close_chng_4</th>\n",
              "      <th>Close_chng_5</th>\n",
              "      <th>Close_chng_6</th>\n",
              "      <th>...</th>\n",
              "      <th>Y_5</th>\n",
              "      <th>Y_6</th>\n",
              "      <th>Y_7</th>\n",
              "      <th>Y_8</th>\n",
              "      <th>Y_9</th>\n",
              "      <th>Y_10</th>\n",
              "      <th>Y_11</th>\n",
              "      <th>Y_12</th>\n",
              "      <th>Y_13</th>\n",
              "      <th>Y_14</th>\n",
              "    </tr>\n",
              "    <tr>\n",
              "      <th>Datetime</th>\n",
              "      <th></th>\n",
              "      <th></th>\n",
              "      <th></th>\n",
              "      <th></th>\n",
              "      <th></th>\n",
              "      <th></th>\n",
              "      <th></th>\n",
              "      <th></th>\n",
              "      <th></th>\n",
              "      <th></th>\n",
              "      <th></th>\n",
              "      <th></th>\n",
              "      <th></th>\n",
              "      <th></th>\n",
              "      <th></th>\n",
              "      <th></th>\n",
              "      <th></th>\n",
              "      <th></th>\n",
              "      <th></th>\n",
              "      <th></th>\n",
              "      <th></th>\n",
              "    </tr>\n",
              "  </thead>\n",
              "  <tbody>\n",
              "    <tr>\n",
              "      <th>2010-09-02 15:00:00</th>\n",
              "      <td>80.87</td>\n",
              "      <td>81.00</td>\n",
              "      <td>80.12</td>\n",
              "      <td>80.40</td>\n",
              "      <td>-0.005566</td>\n",
              "      <td>-0.010340</td>\n",
              "      <td>-0.002853</td>\n",
              "      <td>0.002744</td>\n",
              "      <td>0.001121</td>\n",
              "      <td>-0.000249</td>\n",
              "      <td>...</td>\n",
              "      <td>1.0</td>\n",
              "      <td>0.0</td>\n",
              "      <td>1.0</td>\n",
              "      <td>1.0</td>\n",
              "      <td>1.0</td>\n",
              "      <td>1.0</td>\n",
              "      <td>1.0</td>\n",
              "      <td>1.0</td>\n",
              "      <td>1.0</td>\n",
              "      <td>1.0</td>\n",
              "    </tr>\n",
              "    <tr>\n",
              "      <th>2010-09-02 16:00:00</th>\n",
              "      <td>80.40</td>\n",
              "      <td>81.18</td>\n",
              "      <td>80.20</td>\n",
              "      <td>80.83</td>\n",
              "      <td>0.005348</td>\n",
              "      <td>-0.000247</td>\n",
              "      <td>-0.005047</td>\n",
              "      <td>0.002480</td>\n",
              "      <td>0.008107</td>\n",
              "      <td>0.006475</td>\n",
              "      <td>...</td>\n",
              "      <td>1.0</td>\n",
              "      <td>1.0</td>\n",
              "      <td>1.0</td>\n",
              "      <td>1.0</td>\n",
              "      <td>1.0</td>\n",
              "      <td>1.0</td>\n",
              "      <td>1.0</td>\n",
              "      <td>1.0</td>\n",
              "      <td>1.0</td>\n",
              "      <td>1.0</td>\n",
              "    </tr>\n",
              "    <tr>\n",
              "      <th>2010-09-02 17:00:00</th>\n",
              "      <td>80.83</td>\n",
              "      <td>80.96</td>\n",
              "      <td>80.51</td>\n",
              "      <td>80.85</td>\n",
              "      <td>0.000247</td>\n",
              "      <td>0.005597</td>\n",
              "      <td>0.000000</td>\n",
              "      <td>-0.004801</td>\n",
              "      <td>0.002729</td>\n",
              "      <td>0.008356</td>\n",
              "      <td>...</td>\n",
              "      <td>1.0</td>\n",
              "      <td>1.0</td>\n",
              "      <td>1.0</td>\n",
              "      <td>1.0</td>\n",
              "      <td>1.0</td>\n",
              "      <td>1.0</td>\n",
              "      <td>1.0</td>\n",
              "      <td>1.0</td>\n",
              "      <td>1.0</td>\n",
              "      <td>1.0</td>\n",
              "    </tr>\n",
              "    <tr>\n",
              "      <th>2010-09-02 18:00:00</th>\n",
              "      <td>80.85</td>\n",
              "      <td>81.17</td>\n",
              "      <td>80.14</td>\n",
              "      <td>80.63</td>\n",
              "      <td>-0.002721</td>\n",
              "      <td>-0.002474</td>\n",
              "      <td>0.002861</td>\n",
              "      <td>-0.002721</td>\n",
              "      <td>-0.007509</td>\n",
              "      <td>0.000000</td>\n",
              "      <td>...</td>\n",
              "      <td>0.0</td>\n",
              "      <td>0.0</td>\n",
              "      <td>1.0</td>\n",
              "      <td>1.0</td>\n",
              "      <td>1.0</td>\n",
              "      <td>1.0</td>\n",
              "      <td>1.0</td>\n",
              "      <td>1.0</td>\n",
              "      <td>1.0</td>\n",
              "      <td>1.0</td>\n",
              "    </tr>\n",
              "    <tr>\n",
              "      <th>2010-09-03 10:00:00</th>\n",
              "      <td>80.70</td>\n",
              "      <td>80.79</td>\n",
              "      <td>80.27</td>\n",
              "      <td>80.77</td>\n",
              "      <td>0.001736</td>\n",
              "      <td>-0.000989</td>\n",
              "      <td>-0.000742</td>\n",
              "      <td>0.004602</td>\n",
              "      <td>-0.000989</td>\n",
              "      <td>-0.005785</td>\n",
              "      <td>...</td>\n",
              "      <td>0.0</td>\n",
              "      <td>0.0</td>\n",
              "      <td>1.0</td>\n",
              "      <td>1.0</td>\n",
              "      <td>1.0</td>\n",
              "      <td>1.0</td>\n",
              "      <td>1.0</td>\n",
              "      <td>1.0</td>\n",
              "      <td>1.0</td>\n",
              "      <td>1.0</td>\n",
              "    </tr>\n",
              "  </tbody>\n",
              "</table>\n",
              "<p>5 rows × 32 columns</p>\n",
              "</div>\n",
              "      <button class=\"colab-df-convert\" onclick=\"convertToInteractive('df-51805c9e-efa1-48de-aea6-ef1766c3d456')\"\n",
              "              title=\"Convert this dataframe to an interactive table.\"\n",
              "              style=\"display:none;\">\n",
              "        \n",
              "  <svg xmlns=\"http://www.w3.org/2000/svg\" height=\"24px\"viewBox=\"0 0 24 24\"\n",
              "       width=\"24px\">\n",
              "    <path d=\"M0 0h24v24H0V0z\" fill=\"none\"/>\n",
              "    <path d=\"M18.56 5.44l.94 2.06.94-2.06 2.06-.94-2.06-.94-.94-2.06-.94 2.06-2.06.94zm-11 1L8.5 8.5l.94-2.06 2.06-.94-2.06-.94L8.5 2.5l-.94 2.06-2.06.94zm10 10l.94 2.06.94-2.06 2.06-.94-2.06-.94-.94-2.06-.94 2.06-2.06.94z\"/><path d=\"M17.41 7.96l-1.37-1.37c-.4-.4-.92-.59-1.43-.59-.52 0-1.04.2-1.43.59L10.3 9.45l-7.72 7.72c-.78.78-.78 2.05 0 2.83L4 21.41c.39.39.9.59 1.41.59.51 0 1.02-.2 1.41-.59l7.78-7.78 2.81-2.81c.8-.78.8-2.07 0-2.86zM5.41 20L4 18.59l7.72-7.72 1.47 1.35L5.41 20z\"/>\n",
              "  </svg>\n",
              "      </button>\n",
              "      \n",
              "  <style>\n",
              "    .colab-df-container {\n",
              "      display:flex;\n",
              "      flex-wrap:wrap;\n",
              "      gap: 12px;\n",
              "    }\n",
              "\n",
              "    .colab-df-convert {\n",
              "      background-color: #E8F0FE;\n",
              "      border: none;\n",
              "      border-radius: 50%;\n",
              "      cursor: pointer;\n",
              "      display: none;\n",
              "      fill: #1967D2;\n",
              "      height: 32px;\n",
              "      padding: 0 0 0 0;\n",
              "      width: 32px;\n",
              "    }\n",
              "\n",
              "    .colab-df-convert:hover {\n",
              "      background-color: #E2EBFA;\n",
              "      box-shadow: 0px 1px 2px rgba(60, 64, 67, 0.3), 0px 1px 3px 1px rgba(60, 64, 67, 0.15);\n",
              "      fill: #174EA6;\n",
              "    }\n",
              "\n",
              "    [theme=dark] .colab-df-convert {\n",
              "      background-color: #3B4455;\n",
              "      fill: #D2E3FC;\n",
              "    }\n",
              "\n",
              "    [theme=dark] .colab-df-convert:hover {\n",
              "      background-color: #434B5C;\n",
              "      box-shadow: 0px 1px 3px 1px rgba(0, 0, 0, 0.15);\n",
              "      filter: drop-shadow(0px 1px 2px rgba(0, 0, 0, 0.3));\n",
              "      fill: #FFFFFF;\n",
              "    }\n",
              "  </style>\n",
              "\n",
              "      <script>\n",
              "        const buttonEl =\n",
              "          document.querySelector('#df-51805c9e-efa1-48de-aea6-ef1766c3d456 button.colab-df-convert');\n",
              "        buttonEl.style.display =\n",
              "          google.colab.kernel.accessAllowed ? 'block' : 'none';\n",
              "\n",
              "        async function convertToInteractive(key) {\n",
              "          const element = document.querySelector('#df-51805c9e-efa1-48de-aea6-ef1766c3d456');\n",
              "          const dataTable =\n",
              "            await google.colab.kernel.invokeFunction('convertToInteractive',\n",
              "                                                     [key], {});\n",
              "          if (!dataTable) return;\n",
              "\n",
              "          const docLinkHtml = 'Like what you see? Visit the ' +\n",
              "            '<a target=\"_blank\" href=https://colab.research.google.com/notebooks/data_table.ipynb>data table notebook</a>'\n",
              "            + ' to learn more about interactive tables.';\n",
              "          element.innerHTML = '';\n",
              "          dataTable['output_type'] = 'display_data';\n",
              "          await google.colab.output.renderOutput(dataTable, element);\n",
              "          const docLink = document.createElement('div');\n",
              "          docLink.innerHTML = docLinkHtml;\n",
              "          element.appendChild(docLink);\n",
              "        }\n",
              "      </script>\n",
              "    </div>\n",
              "  </div>\n",
              "  "
            ]
          },
          "metadata": {},
          "execution_count": 11
        }
      ]
    },
    {
      "cell_type": "markdown",
      "metadata": {
        "id": "fiJSSWW8SUu2"
      },
      "source": [
        "####**Формирование входных данных**"
      ]
    },
    {
      "cell_type": "code",
      "metadata": {
        "id": "7OJaLHQqr3MZ",
        "colab": {
          "base_uri": "https://localhost:8080/"
        },
        "outputId": "2c4b6696-93e6-4cad-d5b6-ee37ade8d05f"
      },
      "source": [
        "x_col = [COL_CLOSE] + [f'Y_{i}' for i in range(1, INDICATOR_DEPTH + 1)]\n",
        "x_data = data[x_col].values\n",
        "\n",
        "# Проверка результата\n",
        "print(x_data.shape, type(x_data))"
      ],
      "execution_count": null,
      "outputs": [
        {
          "output_type": "stream",
          "name": "stdout",
          "text": [
            "(18804, 15) <class 'numpy.ndarray'>\n"
          ]
        }
      ]
    },
    {
      "cell_type": "markdown",
      "metadata": {
        "id": "Y5kv8Of0rQaP"
      },
      "source": [
        "####**Формирование выходных данных**"
      ]
    },
    {
      "cell_type": "code",
      "metadata": {
        "id": "ngPuqQJQrOHy",
        "colab": {
          "base_uri": "https://localhost:8080/"
        },
        "outputId": "962def94-fe0b-4cd0-f161-8cb758717926"
      },
      "source": [
        "indicator_name = f'Y_{INDICATOR_DEPTH}'\n",
        "y_class = data[indicator_name]\n",
        "\n",
        "# Проверка результата\n",
        "y_class[:5]"
      ],
      "execution_count": null,
      "outputs": [
        {
          "output_type": "execute_result",
          "data": {
            "text/plain": [
              "Datetime\n",
              "2010-09-02 15:00:00    1.0\n",
              "2010-09-02 16:00:00    1.0\n",
              "2010-09-02 17:00:00    1.0\n",
              "2010-09-02 18:00:00    1.0\n",
              "2010-09-03 10:00:00    1.0\n",
              "Name: Y_14, dtype: float64"
            ]
          },
          "metadata": {},
          "execution_count": 13
        }
      ]
    },
    {
      "cell_type": "code",
      "metadata": {
        "id": "qEdHvwGurUZs",
        "colab": {
          "base_uri": "https://localhost:8080/"
        },
        "outputId": "ec6792e4-47ae-41b1-a7e5-a7308a2a8ac2"
      },
      "source": [
        "# Кодирование признака класса в one hot encoding\n",
        "y_data = to_categorical(y_class)\n",
        "\n",
        "# Проверка результата\n",
        "print(y_data.shape)\n",
        "y_data[:5]"
      ],
      "execution_count": null,
      "outputs": [
        {
          "output_type": "stream",
          "name": "stdout",
          "text": [
            "(18804, 2)\n"
          ]
        },
        {
          "output_type": "execute_result",
          "data": {
            "text/plain": [
              "array([[0., 1.],\n",
              "       [0., 1.],\n",
              "       [0., 1.],\n",
              "       [0., 1.],\n",
              "       [0., 1.]], dtype=float32)"
            ]
          },
          "metadata": {},
          "execution_count": 14
        }
      ]
    },
    {
      "cell_type": "markdown",
      "metadata": {
        "id": "VZdTiVzjr6J0"
      },
      "source": [
        "####**Разделение данных на обучающую и проверочную выборки**"
      ]
    },
    {
      "cell_type": "code",
      "metadata": {
        "id": "jCUv_OwKsCTV",
        "colab": {
          "base_uri": "https://localhost:8080/"
        },
        "outputId": "dce5f455-37c7-4226-c3e9-5eead64128a0"
      },
      "source": [
        "x_train_data, y_train_data = x_data[:-TEST_LEN-SEQ_LEN], y_data[:-TEST_LEN-SEQ_LEN]\n",
        "x_test_data, y_test_data = x_data[-TEST_LEN:], y_data[-TEST_LEN:]\n",
        "\n",
        "# Проверка результата\n",
        "print('train_data: ', x_train_data.shape, y_train_data.shape,\n",
        "      '\\ntest_data:  ', x_test_data.shape, y_test_data.shape,\n",
        "      '\\nОбщая длина:', x_train_data.shape[0] + x_test_data.shape[0])"
      ],
      "execution_count": null,
      "outputs": [
        {
          "output_type": "stream",
          "name": "stdout",
          "text": [
            "train_data:  (18185, 15) (18185, 2) \n",
            "test_data:   (600, 15) (600, 2) \n",
            "Общая длина: 18785\n"
          ]
        }
      ]
    },
    {
      "cell_type": "markdown",
      "metadata": {
        "id": "ZMxrv0rgdxOZ"
      },
      "source": [
        "####**Масштабирование входных данных**"
      ]
    },
    {
      "cell_type": "code",
      "metadata": {
        "id": "ak7BlgYzsEI8",
        "colab": {
          "base_uri": "https://localhost:8080/"
        },
        "outputId": "fbba1731-96ba-461e-f91a-bc519c768c2f"
      },
      "source": [
        "x_scaler = StandardScaler()\n",
        "x_scaler.fit(x_train_data)\n",
        "x_train_data = x_scaler.transform(x_train_data)\n",
        "x_test_data = x_scaler.transform(x_test_data)\n",
        "\n",
        "# Проверка результата\n",
        "print(x_train_data.shape, x_test_data.shape, type(x_train_data))\n",
        "x_test_data[-1:]"
      ],
      "execution_count": null,
      "outputs": [
        {
          "output_type": "stream",
          "name": "stdout",
          "text": [
            "(18185, 15) (600, 15) <class 'numpy.ndarray'>\n"
          ]
        },
        {
          "output_type": "execute_result",
          "data": {
            "text/plain": [
              "array([[ 1.40650193,  1.00247764,  0.99271283,  0.99522723,  0.99053149,\n",
              "         0.98401555,  0.9820689 ,  0.97678842, -1.02331264, -1.02353787,\n",
              "        -1.02286232,  0.97904815,  0.97431919, -1.02952561, -1.02794036]])"
            ]
          },
          "metadata": {},
          "execution_count": 16
        }
      ]
    },
    {
      "cell_type": "markdown",
      "metadata": {
        "id": "uNV735KfsLi9"
      },
      "source": [
        "####**Формирование выборок для нейросети**"
      ]
    },
    {
      "cell_type": "code",
      "metadata": {
        "id": "9qV-Wl-esIky"
      },
      "source": [
        "# Функция разделения набора данных на выборки для обучения нейросети \n",
        "# x_data - набор входных данных\n",
        "# y_data - набор выходных данных\n",
        "# seq_len - длина серии (подпоследовательности) входных данных для анализа\n",
        "# predict_lag - количество шагов в будущее для предсказания\n",
        "def split_sequence(x_data, y_data, seq_len, predict_lag):\n",
        "    # Определение максимального индекса начала подпоследовательности\n",
        "    x_len = x_data.shape[0] - seq_len - (predict_lag - 1)\n",
        "    # Формирование подпоследовательностей входных данных\n",
        "    x = [x_data[i:i + seq_len] for i in range(x_len)]\n",
        "    # Формирование меток выходных данных, \n",
        "    # отстоящих на predict_lag шагов после конца подпоследовательности\n",
        "    y = [y_data[i + seq_len + predict_lag - 1] for i in range(x_len)]\n",
        "    # Возврат результатов в виде массивов numpy\n",
        "    return np.array(x), np.array(y)"
      ],
      "execution_count": null,
      "outputs": []
    },
    {
      "cell_type": "code",
      "metadata": {
        "id": "C-WVvK98sTJv",
        "colab": {
          "base_uri": "https://localhost:8080/"
        },
        "outputId": "c08b2e5e-b22a-49b7-b9cf-c780d1525190"
      },
      "source": [
        "# Формирование выборок для обучения нейросети\n",
        "x_train, y_train = split_sequence(x_train_data, y_train_data, SEQ_LEN, PREDICT_LAG)\n",
        "x_test, y_test = split_sequence(x_test_data, y_test_data, SEQ_LEN, PREDICT_LAG)\n",
        "\n",
        "# Проверка результата\n",
        "print('Массивы x_train и y_train:\\t', x_train.shape, y_train.shape)\n",
        "print('Массивы x_test и y_test:\\t', x_test.shape, y_test.shape)"
      ],
      "execution_count": null,
      "outputs": [
        {
          "output_type": "stream",
          "name": "stdout",
          "text": [
            "Массивы x_train и y_train:\t (18166, 19, 15) (18166, 2)\n",
            "Массивы x_test и y_test:\t (581, 19, 15) (581, 2)\n"
          ]
        }
      ]
    },
    {
      "cell_type": "markdown",
      "metadata": {
        "id": "55emZYtd3OuV"
      },
      "source": [
        "## Сервисные функции"
      ]
    },
    {
      "cell_type": "code",
      "metadata": {
        "id": "opDRhySY3NTB"
      },
      "source": [
        "# Функция вывода результатов оценки модели на заданных данных\n",
        "def eval_model(model, x, y_true,\n",
        "               class_labels=[],\n",
        "               cm_round=3,\n",
        "               title='',\n",
        "               figsize=(8, 8)):\n",
        "    # Вычисление предсказания сети\n",
        "    y_pred = model.predict(x)\n",
        "    # Построение матрицы ошибок\n",
        "    cm = confusion_matrix(np.argmax(y_true, axis=1),\n",
        "                          np.argmax(y_pred, axis=1),\n",
        "                          normalize='true')\n",
        "    # Округление значений матрицы ошибок\n",
        "    cm = np.around(cm, cm_round)\n",
        "\n",
        "    # Задание размера шрифта по умолчанию для текста в клетках матрицы\n",
        "    old_font_size = rcParams['font.size']\n",
        "    rcParams['font.size'] = 30\n",
        "\n",
        "    # Отрисовка матрицы ошибок\n",
        "    fig, ax = plt.subplots(figsize=figsize)\n",
        "    ax.set_title(f'Нейросеть {title}: матрица ошибок нормализованная', fontsize=18)\n",
        "    disp = ConfusionMatrixDisplay(confusion_matrix=cm, display_labels=class_labels)\n",
        "    disp.plot(ax=ax, cmap='cividis')\n",
        "    ax.images[-1].colorbar.remove()       # Стирание ненужной цветовой шкалы\n",
        "    plt.xticks(fontsize=12)\n",
        "    plt.xlabel('Предсказанные классы', fontsize=16)\n",
        "    plt.yticks(fontsize=12)\n",
        "    plt.ylabel('Верные классы', fontsize=16)\n",
        "    plt.show()    \n",
        "\n",
        "    # Восстановление размера шрифта по умолчанию\n",
        "    rcParams['font.size'] = old_font_size\n",
        "\n",
        "\n",
        "# Функция обучения модели и отрисовки прогресса и оценки результатов \n",
        "# На входе - модель, генераторы обучающей и проверочной выборок\n",
        "# и список эпох в виде [(epochs1, opt1), (epochs2, opt2), ...].\n",
        "# Модель последовательно обучается в течение epochs1 эпох с оптимизатором opt1 и т.д.\n",
        "def train_eval_model(model, x_train, y_train, epoch_list,\n",
        "                     x_test, y_test, title=''):\n",
        "    # Отображение сводки модели\n",
        "    model.summary()\n",
        "\n",
        "    # Обучение модели в несколько фаз в соответствии со списком epoch_list\n",
        "    for epochs, opt in epoch_list:\n",
        "        # Компиляция модели\n",
        "        model.compile(loss='binary_crossentropy',\n",
        "                      metrics=['accuracy'],\n",
        "                      optimizer=opt)\n",
        "        \n",
        "        # Фаза обучения модели\n",
        "        print(f'Обучение {epochs} эпох')\n",
        "        history = model.fit(x_train, y_train,\n",
        "                            epochs=epochs,\n",
        "                            validation_data=(x_test, y_test),\n",
        "                            verbose=1)\n",
        "\n",
        "\n",
        "        # Рисование графиков прошедшей фазы обучения\n",
        "        fig, (ax1, ax2) = plt.subplots(2, 1, figsize=(10, 6), sharex=True)\n",
        "        ax1.set_title(f'{title}: График прогресса обучения')\n",
        "        ax1.plot(history.history['loss'], label='Ошибка на обучающем наборе')\n",
        "        ax1.plot(history.history['val_loss'], label='Ошибка на проверочном наборе')\n",
        "        ax1.set_ylabel('Средняя ошибка')\n",
        "        ax1.legend()\n",
        "\n",
        "        ax2.plot(history.history['accuracy'], label='Точность на обучающем наборе')\n",
        "        ax2.plot(history.history['val_accuracy'], label='Точность на проверочном наборе')\n",
        "        ax2.set_ylabel('Точность классификации')\n",
        "        ax2.legend()\n",
        "\n",
        "        # Указание показывать только целые метки шкалы оси x\n",
        "        fig.gca().xaxis.get_major_locator().set_params(integer=True)\n",
        "        plt.xlabel('Эпоха обучения')\n",
        "        plt.show()\n",
        "\n",
        "        # Рисование графиков оценки результата работы модели после фазы обучения\n",
        "        eval_model(model, x_test, y_test, title=title)"
      ],
      "execution_count": null,
      "outputs": []
    },
    {
      "cell_type": "markdown",
      "metadata": {
        "id": "96ub2gj5so0Q"
      },
      "source": [
        "## Модель нейронной сети"
      ]
    },
    {
      "cell_type": "code",
      "metadata": {
        "id": "PQvjXS9hsi6e"
      },
      "source": [
        "# Входной слой\n",
        "input = Input(shape=x_train.shape[1:])\n",
        "# Преобразование в одномерный вектор\n",
        "x = Flatten()(input)\n",
        "# Повтор вектора несколько раз\n",
        "x = RepeatVector(4)(x)\n",
        "# Одномерная свертка\n",
        "x = Conv1D(SEQ_LEN * 2, 5, padding='same', activation='relu')(x)\n",
        "# Макспулинг и понижение размерности\n",
        "x = MaxPooling1D(pool_size=2)(x)\n",
        "# Преобразование в одномерный вектор\n",
        "x = Flatten()(x)\n",
        "# Повтор вектора несколько раз\n",
        "x = RepeatVector(4)(x)\n",
        "# Одномерная свертка\n",
        "x = Conv1D(SEQ_LEN, 5, padding='same', activation='relu')(x)\n",
        "# Макспулинг и понижение размерности\n",
        "x = MaxPooling1D(pool_size=2)(x)\n",
        "# Преобразование в одномерный вектор\n",
        "x = Flatten()(x)\n",
        "# Полносвязный слой\n",
        "x = Dense(SEQ_LEN * 100, activation='relu')(x)\n",
        "# Слой регуляризации\n",
        "x = Dropout(0.4)(x)\n",
        "# Финальный слой классификатора\n",
        "x = Dense(y_train.shape[1], activation='sigmoid')(x)\n",
        "\n",
        "# Сборка модели из входа и выхода\n",
        "model = Model(input, x)"
      ],
      "execution_count": null,
      "outputs": []
    },
    {
      "cell_type": "markdown",
      "metadata": {
        "id": "-OSnEXq2u2co"
      },
      "source": [
        "Слой RepeatVector() занимается построчным копированием вектора. Если вектор был 1,200, он превратит его в 4,200."
      ]
    },
    {
      "cell_type": "code",
      "metadata": {
        "id": "n9LQW3s5s63F",
        "colab": {
          "base_uri": "https://localhost:8080/",
          "height": 1000
        },
        "outputId": "607c456c-7ccb-452d-b5f6-c82e1cf0fe37"
      },
      "source": [
        "# Обучение и вывод результатов работы модели\n",
        "train_eval_model(model, x_train, y_train, [(6, Adam(learning_rate=1e-04))],\n",
        "                 x_test, y_test, title='предсказание тренда')"
      ],
      "execution_count": null,
      "outputs": [
        {
          "output_type": "stream",
          "name": "stdout",
          "text": [
            "Model: \"model\"\n",
            "_________________________________________________________________\n",
            " Layer (type)                Output Shape              Param #   \n",
            "=================================================================\n",
            " input_1 (InputLayer)        [(None, 19, 15)]          0         \n",
            "                                                                 \n",
            " flatten (Flatten)           (None, 285)               0         \n",
            "                                                                 \n",
            " repeat_vector (RepeatVector  (None, 4, 285)           0         \n",
            " )                                                               \n",
            "                                                                 \n",
            " conv1d (Conv1D)             (None, 4, 38)             54188     \n",
            "                                                                 \n",
            " max_pooling1d (MaxPooling1D  (None, 2, 38)            0         \n",
            " )                                                               \n",
            "                                                                 \n",
            " flatten_1 (Flatten)         (None, 76)                0         \n",
            "                                                                 \n",
            " repeat_vector_1 (RepeatVect  (None, 4, 76)            0         \n",
            " or)                                                             \n",
            "                                                                 \n",
            " conv1d_1 (Conv1D)           (None, 4, 19)             7239      \n",
            "                                                                 \n",
            " max_pooling1d_1 (MaxPooling  (None, 2, 19)            0         \n",
            " 1D)                                                             \n",
            "                                                                 \n",
            " flatten_2 (Flatten)         (None, 38)                0         \n",
            "                                                                 \n",
            " dense (Dense)               (None, 1900)              74100     \n",
            "                                                                 \n",
            " dropout (Dropout)           (None, 1900)              0         \n",
            "                                                                 \n",
            " dense_1 (Dense)             (None, 2)                 3802      \n",
            "                                                                 \n",
            "=================================================================\n",
            "Total params: 139,329\n",
            "Trainable params: 139,329\n",
            "Non-trainable params: 0\n",
            "_________________________________________________________________\n",
            "Обучение 6 эпох\n",
            "Epoch 1/6\n",
            "568/568 [==============================] - 15s 7ms/step - loss: 0.2539 - accuracy: 0.8998 - val_loss: 0.1509 - val_accuracy: 0.9535\n",
            "Epoch 2/6\n",
            "568/568 [==============================] - 3s 6ms/step - loss: 0.2021 - accuracy: 0.9243 - val_loss: 0.1531 - val_accuracy: 0.9587\n",
            "Epoch 3/6\n",
            "568/568 [==============================] - 3s 6ms/step - loss: 0.1948 - accuracy: 0.9279 - val_loss: 0.1562 - val_accuracy: 0.9449\n",
            "Epoch 4/6\n",
            "568/568 [==============================] - 3s 6ms/step - loss: 0.1890 - accuracy: 0.9303 - val_loss: 0.1469 - val_accuracy: 0.9484\n",
            "Epoch 5/6\n",
            "568/568 [==============================] - 3s 6ms/step - loss: 0.1828 - accuracy: 0.9313 - val_loss: 0.1464 - val_accuracy: 0.9518\n",
            "Epoch 6/6\n",
            "568/568 [==============================] - 3s 6ms/step - loss: 0.1771 - accuracy: 0.9343 - val_loss: 0.1491 - val_accuracy: 0.9449\n"
          ]
        },
        {
          "output_type": "display_data",
          "data": {
            "text/plain": [
              "<Figure size 720x432 with 2 Axes>"
            ],
            "image/png": "[encoded data removed]"
          },
          "metadata": {}
        },
        {
          "output_type": "display_data",
          "data": {
            "text/plain": [
              "<Figure size 576x576 with 1 Axes>"
            ],
            "image/png": "[encoded data removed]"
          },
          "metadata": {}
        }
      ]
    },
    {
      "cell_type": "markdown",
      "metadata": {
        "id": "xpKnFR8bqqyY"
      },
      "source": [
        "**Вывод**: данная сеть неплохо справляется с предсказанием тренда роста цены акций. Если поэкспериментировать с архитектурой, возможно, удастся достичь ещё большей точности. "
      ]
    },
    {
      "cell_type": "markdown",
      "metadata": {
        "id": "2jdGuhi61hzh"
      },
      "source": [
        "**Содержание темы**\n",
        "\n",
        "1. [Теория](https://colab.research.google.com/drive/1i7yg4JvtG_L24T_2VPVTTWlXWrRdgvqQ?usp=sharing)\n",
        "\n",
        "2. [Практический ноутбук 1](https://colab.research.google.com/drive/1JhNKmphhIAZ9MCqm9_-vsnJkiLxTTv5d?usp=sharing)\n",
        "\n",
        "3. Практический ноутбук 2\n"
      ]
    },
    {
      "cell_type": "code",
      "source": [
        ""
      ],
      "metadata": {
        "id": "b77l2ivjggiR"
      },
      "execution_count": null,
      "outputs": []
    }
  ]
}