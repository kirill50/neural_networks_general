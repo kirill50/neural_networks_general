{
  "nbformat": 4,
  "nbformat_minor": 0,
  "metadata": {
    "colab": {
      "name": "Создание_простого_веб_сервера_и_настройка_параметров_работы_|_ДЗ_Ultra_Pro.ipynb",
      "provenance": [],
      "collapsed_sections": []
    },
    "kernelspec": {
      "name": "python3",
      "display_name": "Python 3"
    },
    "language_info": {
      "name": "python"
    }
  },
  "cells": [
    {
      "cell_type": "markdown",
      "metadata": {
        "id": "28f6MlicpuFL"
      },
      "source": [
        "Найдите любой другой сервис, подходящий для развертывания моделей и реализуйте произвольную задачу (разбор данного задания будет осуществлен на сервисе https://anvil.works/ для задачи классификации базы Ирисов)\n",
        "\n",
        "P.s. вы можете взять любой другой сервис и любую другую задачу"
      ]
    },
    {
      "cell_type": "code",
      "source": [
        "!pip install anvil-uplink"
      ],
      "metadata": {
        "id": "WyjNAkT9Qy_A",
        "colab": {
          "base_uri": "https://localhost:8080/",
          "height": 412
        },
        "outputId": "7acdb9ce-476e-466f-b437-a3210e97f46c"
      },
      "execution_count": null,
      "outputs": [
        {
          "output_type": "stream",
          "name": "stdout",
          "text": [
            "Collecting anvil-uplink\n",
            "  Downloading anvil_uplink-0.3.42-py2.py3-none-any.whl (64 kB)\n",
            "\u001b[?25l\r\u001b[K     |█████                           | 10 kB 17.7 MB/s eta 0:00:01\r\u001b[K     |██████████▏                     | 20 kB 7.6 MB/s eta 0:00:01\r\u001b[K     |███████████████▏                | 30 kB 8.5 MB/s eta 0:00:01\r\u001b[K     |████████████████████▎           | 40 kB 8.4 MB/s eta 0:00:01\r\u001b[K     |█████████████████████████▎      | 51 kB 4.3 MB/s eta 0:00:01\r\u001b[K     |██████████████████████████████▍ | 61 kB 5.0 MB/s eta 0:00:01\r\u001b[K     |████████████████████████████████| 64 kB 2.2 MB/s \n",
            "\u001b[?25hRequirement already satisfied: future in /usr/local/lib/python3.7/dist-packages (from anvil-uplink) (0.16.0)\n",
            "Collecting ws4py\n",
            "  Downloading ws4py-0.5.1.tar.gz (51 kB)\n",
            "\u001b[?25l\r\u001b[K     |██████▍                         | 10 kB 23.7 MB/s eta 0:00:01\r\u001b[K     |████████████▊                   | 20 kB 33.3 MB/s eta 0:00:01\r\u001b[K     |███████████████████▏            | 30 kB 42.6 MB/s eta 0:00:01\r\u001b[K     |█████████████████████████▌      | 40 kB 50.0 MB/s eta 0:00:01\r\u001b[K     |███████████████████████████████▉| 51 kB 55.6 MB/s eta 0:00:01\r\u001b[K     |████████████████████████████████| 51 kB 208 kB/s \n",
            "\u001b[?25hRequirement already satisfied: six in /usr/local/lib/python3.7/dist-packages (from anvil-uplink) (1.15.0)\n",
            "Collecting argparse\n",
            "  Downloading argparse-1.4.0-py2.py3-none-any.whl (23 kB)\n",
            "Building wheels for collected packages: ws4py\n",
            "  Building wheel for ws4py (setup.py) ... \u001b[?25l\u001b[?25hdone\n",
            "  Created wheel for ws4py: filename=ws4py-0.5.1-py3-none-any.whl size=45229 sha256=6f0b547de5e24af287451e2ebf21dcf4790a8ac75a964146ab0321329423d796\n",
            "  Stored in directory: /root/.cache/pip/wheels/29/ea/7d/3410aa0aa0e4402ead9a7a97ab2214804887e0f5c2b76f0c96\n",
            "Successfully built ws4py\n",
            "Installing collected packages: ws4py, argparse, anvil-uplink\n",
            "Successfully installed anvil-uplink-0.3.42 argparse-1.4.0 ws4py-0.5.1\n"
          ]
        },
        {
          "output_type": "display_data",
          "data": {
            "application/vnd.colab-display-data+json": {
              "pip_warning": {
                "packages": [
                  "argparse",
                  "google"
                ]
              }
            }
          },
          "metadata": {}
        }
      ]
    },
    {
      "cell_type": "code",
      "source": [
        "import anvil.server\n",
        "\n",
        "anvil.server.connect(\"server_VBPBM537EJAT47OEGZV66ESB-C7Y5PZSKJINU3ADV\")"
      ],
      "metadata": {
        "colab": {
          "base_uri": "https://localhost:8080/"
        },
        "id": "fmXnv8Z9Y6Yq",
        "outputId": "d03d2137-46e3-43ca-df51-789147a71e3d"
      },
      "execution_count": null,
      "outputs": [
        {
          "output_type": "stream",
          "name": "stdout",
          "text": [
            "Connecting to wss://anvil.works/uplink\n",
            "Anvil websocket open\n",
            "Connected to \"Default Environment\" as SERVER\n"
          ]
        }
      ]
    },
    {
      "cell_type": "code",
      "source": [
        "# Имя файла с весами модели\n",
        "MODEL_NAME =   'model_air.h5'"
      ],
      "metadata": {
        "id": "bxKfIPjfRj_8"
      },
      "execution_count": null,
      "outputs": []
    },
    {
      "cell_type": "code",
      "source": [
        "import gdown\n",
        "\n",
        "# Загрузка файла модели из облака\n",
        "gdown.download('https://storage.yandexcloud.net/aiueducation/Content/base/l15/model_air.h5', None, quiet=True)"
      ],
      "metadata": {
        "colab": {
          "base_uri": "https://localhost:8080/",
          "height": 37
        },
        "id": "vSxka1f8XpGs",
        "outputId": "5884fe30-7580-4c0f-fe31-9adc3e8a9744"
      },
      "execution_count": null,
      "outputs": [
        {
          "output_type": "execute_result",
          "data": {
            "text/plain": [
              "'model_air.h5'"
            ],
            "application/vnd.google.colaboratory.intrinsic+json": {
              "type": "string"
            }
          },
          "metadata": {},
          "execution_count": 4
        }
      ]
    },
    {
      "cell_type": "code",
      "source": [
        "from tensorflow.keras.models import load_model\n",
        "import numpy as np\n",
        "from PIL import Image \n",
        "from matplotlib import cm\n",
        "import io\n",
        "\n",
        "MODEL_NAME = 'model_air.h5'\n",
        "model = load_model(MODEL_NAME)                                              # Загрузка весов модели\n",
        "INPUT_SHAPE = (256, 456, 3)"
      ],
      "metadata": {
        "id": "nYGZOK0dXrgg"
      },
      "execution_count": null,
      "outputs": []
    },
    {
      "cell_type": "code",
      "source": [
        "# Загрузка тестовых изображений 10 классов\n",
        "import gdown\n",
        "gdown.download('https://storage.yandexcloud.net/aiueducation/Content/knowledge/test_images.zip', None, quiet=True)\n",
        "\n",
        "# Распаковка архива\n",
        "!unzip -qo test_images.zip"
      ],
      "metadata": {
        "id": "QKoL17FpXyKn"
      },
      "execution_count": null,
      "outputs": []
    },
    {
      "cell_type": "code",
      "source": [
        "@anvil.server.callable\n",
        "\n",
        "def original_image(image_number=1):\n",
        "    # Просмотр тестового изображения\n",
        "    # Путь к файлу изображения\n",
        "    test_path = f'/content/test_images/{image_number}.jpg'  \n",
        "    img = Image.open(test_path)\n",
        "    \n",
        "    img_byte_arr = io.BytesIO()\n",
        "    img.save(img_byte_arr, format='JPEG')\n",
        "    img_byte_arr = img_byte_arr.getvalue()\n",
        "    media_obj = anvil.BlobMedia(content_type=\"image/jpeg\", content=img_byte_arr)\n",
        "   \n",
        "    return media_obj"
      ],
      "metadata": {
        "id": "-AvlGzX5aKFI"
      },
      "execution_count": null,
      "outputs": []
    },
    {
      "cell_type": "code",
      "source": [
        "@anvil.server.callable\n",
        "\n",
        "def process(image_number=1):\n",
        "    test_path = f'/content/test_images/{image_number}.jpg'  \n",
        "    image = Image.open(test_path)\n",
        "    resized_image = image.resize((INPUT_SHAPE[1], INPUT_SHAPE[0]))          # Изменение размера изображения в соответствии со входом сети\n",
        "    array = np.array(resized_image)[..., :3][np.newaxis, ..., np.newaxis]   # Регулировка формы тензора для подачи в сеть\n",
        "    prediction_array = (255 * model.predict(array)).astype(int)             # Запуск предсказания сети\n",
        "    prediction_array = np.split(prediction_array, 2, axis = -1)[0]          # Нулевой канал предсказания (значения 0 - самолет, 1 - фон)\n",
        "    zeros = np.zeros_like(prediction_array)                                 # Создание массива нулей\n",
        "    ones = np.ones_like(prediction_array)                                   # Создание массива единиц\n",
        "    prediction_array_4d = np.concatenate([255 * (prediction_array > 100), zeros, zeros, 128 * ones], axis=3)[0].astype(np.uint8)  # Формирование тензора для наложения найденной маски\n",
        "    mask_image = Image.fromarray(prediction_array_4d).resize(image.size)    # Преобразование тензора в изображение и подгонка его размера к исходному\n",
        "    image.paste(mask_image, (0, 0), mask_image)                             # Добавление маски на исходное изображение\n",
        "\n",
        "    #convert img to anvil's data format\n",
        "    img_byte_arr = io.BytesIO()\n",
        "    resized_image.save(img_byte_arr, format='JPEG')\n",
        "    img_byte_arr = img_byte_arr.getvalue()\n",
        "    resized_image_anvil = anvil.BlobMedia(content_type=\"image/jpeg\", content=img_byte_arr)\n",
        "\n",
        "    #convert numpy array to image\n",
        "    prediction_array = Image.fromarray(np.uint8(cm.gist_earth(prediction_array[0].squeeze(axis=2))*255))\n",
        "    prediction_array = prediction_array.convert('RGB')\n",
        "    #convert img to anvil's data format\n",
        "    img_byte_arr = io.BytesIO()\n",
        "    prediction_array.save(img_byte_arr, format='JPEG')\n",
        "    img_byte_arr = img_byte_arr.getvalue()\n",
        "    prediction_array_anvil = anvil.BlobMedia(content_type=\"image/jpeg\", content=img_byte_arr)\n",
        "    \n",
        "    #convert img to anvil's data format\n",
        "    img_byte_arr = io.BytesIO()\n",
        "    image.save(img_byte_arr, format='JPEG')\n",
        "    img_byte_arr = img_byte_arr.getvalue()\n",
        "    image_anvil = anvil.BlobMedia(content_type=\"image/jpeg\", content=img_byte_arr)\n",
        "\n",
        "    return resized_image_anvil, prediction_array_anvil, image_anvil"
      ],
      "metadata": {
        "id": "TCjx0cNioYFp"
      },
      "execution_count": null,
      "outputs": []
    },
    {
      "cell_type": "code",
      "source": [
        ""
      ],
      "metadata": {
        "id": "6-MZuGAgr16V"
      },
      "execution_count": null,
      "outputs": []
    }
  ]
}