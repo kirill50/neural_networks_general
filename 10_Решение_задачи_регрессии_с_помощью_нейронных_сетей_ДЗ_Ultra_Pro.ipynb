{
  "nbformat": 4,
  "nbformat_minor": 0,
  "metadata": {
    "colab": {
      "name": "Решение задачи регрессии с помощью нейронных сетей | ДЗ Ultra Pro",
      "provenance": [],
      "collapsed_sections": []
    },
    "kernelspec": {
      "name": "python3",
      "display_name": "Python 3"
    },
    "language_info": {
      "name": "python"
    }
  },
  "cells": [
    {
      "cell_type": "markdown",
      "metadata": {
        "id": "31cbeZ-A5L3N"
      },
      "source": [
        "По базе машин с ЮЛЫ данным обучите модель для предсказания цен на машины.\n",
        "\n",
        "1. Создайте обучающую, тестовую и проверочную выборки. \n",
        "\n",
        "2. Оцените качество работы созданной сети, определив средний процент ошибки на проверочной выборке. (Для этого потребуется привести предсказанные моделью значения к первоначальному диапазону цен.)  \n",
        "\n",
        "3. Подсчитайте ошибку на каждом примере тестовой выборки и суммарный процент ошибки.\n",
        "\n",
        "\n",
        "Рекомендации:\n",
        "- в качестве ошибки рекомендуется использовать среднеквадратическую ошибку (mse).\n",
        "- метрику для данной задачи можно не использовать.\n",
        "- последний слой модели должен иметь 1 нейрон.\n",
        "- суммарный процент ошибки = средний модуль ошибки (MAE) / среднюю цену машины. Например, если средняя цена машины 560.000 р, а средняя ошибка 56.000р, то процент ошибки равен 10%.\n"
      ]
    },
    {
      "cell_type": "code",
      "source": [
        "import numpy as np  # Работа с массивами данных\n",
        "import pandas as pd # Работа с табличными данными\n",
        "\n",
        "from tensorflow.keras import utils                     # Функции-утилиты для работы с категориальными данными\n",
        "from tensorflow.keras.models import Sequential, Model  # Класс для конструирования последовательной модели нейронной сети\n",
        "\n",
        "# Основные слои\n",
        "from tensorflow.keras.layers import Dense, Dropout, SpatialDropout1D, BatchNormalization, Embedding, Flatten, Activation, Input, concatenate\n",
        "from tensorflow.keras.layers import SimpleRNN, GRU, LSTM, Bidirectional, Conv1D, MaxPooling1D, GlobalMaxPooling1D\n",
        "\n",
        "from tensorflow.keras.optimizers import Adam, Adadelta, SGD, Adagrad, RMSprop # Оптимизаторы\n",
        "# Токенизатор для преобразование текстов в последовательности\n",
        "from tensorflow.keras.preprocessing.text import Tokenizer\n",
        "\n",
        "from sklearn.preprocessing import MinMaxScaler\n",
        "from sklearn.preprocessing import StandardScaler      # Масштабирование данных\n",
        "\n",
        "import gdown                    # Загрузка датасетов из облака google\n",
        "import re                       # Регулярные выражения\n",
        "import matplotlib.pyplot as plt # Отрисовка графиков\n",
        "\n",
        "# Метрики для расчета ошибок\n",
        "from sklearn.metrics import mean_squared_error, mean_absolute_error\n",
        "\n",
        "%matplotlib inline"
      ],
      "metadata": {
        "id": "IZYzCRZpsTJE"
      },
      "execution_count": null,
      "outputs": []
    },
    {
      "cell_type": "markdown",
      "source": [
        "## Upload data"
      ],
      "metadata": {
        "id": "OL1D11g4tYLU"
      }
    },
    {
      "cell_type": "code",
      "metadata": {
        "id": "DSW-0LMrsBqD",
        "colab": {
          "base_uri": "https://localhost:8080/",
          "height": 37
        },
        "outputId": "a8791aad-20a2-4b65-abd5-1c8ea9fa8833"
      },
      "source": [
        "gdown.download('https://storage.googleapis.com/datasets_ai/Base/10_regression/cars_new.csv', None, quiet=True)"
      ],
      "execution_count": null,
      "outputs": [
        {
          "output_type": "execute_result",
          "data": {
            "application/vnd.google.colaboratory.intrinsic+json": {
              "type": "string"
            },
            "text/plain": [
              "'cars_new.csv'"
            ]
          },
          "metadata": {},
          "execution_count": 230
        }
      ]
    },
    {
      "cell_type": "code",
      "metadata": {
        "id": "n_VxsmeHo8vb"
      },
      "source": [
        "auto_data = pd.read_csv('cars_new.csv')"
      ],
      "execution_count": null,
      "outputs": []
    },
    {
      "cell_type": "markdown",
      "source": [
        ""
      ],
      "metadata": {
        "id": "iJFSTqOqtYHb"
      }
    },
    {
      "cell_type": "code",
      "source": [
        "auto_data.head()"
      ],
      "metadata": {
        "colab": {
          "base_uri": "https://localhost:8080/",
          "height": 204
        },
        "id": "0IYeyaUEsJ5l",
        "outputId": "1bf33d8f-0244-4d4c-ca1e-44846b404706"
      },
      "execution_count": null,
      "outputs": [
        {
          "output_type": "execute_result",
          "data": {
            "text/html": [
              "\n",
              "  <div id=\"df-ff52499e-b5e3-456c-8299-4ded781c8944\">\n",
              "    <div class=\"colab-df-container\">\n",
              "      <div>\n",
              "<style scoped>\n",
              "    .dataframe tbody tr th:only-of-type {\n",
              "        vertical-align: middle;\n",
              "    }\n",
              "\n",
              "    .dataframe tbody tr th {\n",
              "        vertical-align: top;\n",
              "    }\n",
              "\n",
              "    .dataframe thead th {\n",
              "        text-align: right;\n",
              "    }\n",
              "</style>\n",
              "<table border=\"1\" class=\"dataframe\">\n",
              "  <thead>\n",
              "    <tr style=\"text-align: right;\">\n",
              "      <th></th>\n",
              "      <th>mark</th>\n",
              "      <th>model</th>\n",
              "      <th>price</th>\n",
              "      <th>year</th>\n",
              "      <th>mileage</th>\n",
              "      <th>body</th>\n",
              "      <th>kpp</th>\n",
              "      <th>fuel</th>\n",
              "      <th>volume</th>\n",
              "      <th>power</th>\n",
              "    </tr>\n",
              "  </thead>\n",
              "  <tbody>\n",
              "    <tr>\n",
              "      <th>0</th>\n",
              "      <td>kia</td>\n",
              "      <td>cerato</td>\n",
              "      <td>996000</td>\n",
              "      <td>2018</td>\n",
              "      <td>28000</td>\n",
              "      <td>седан</td>\n",
              "      <td>автомат</td>\n",
              "      <td>бензин</td>\n",
              "      <td>2.0</td>\n",
              "      <td>150.0</td>\n",
              "    </tr>\n",
              "    <tr>\n",
              "      <th>1</th>\n",
              "      <td>daewoo</td>\n",
              "      <td>nexia 1 поколение [2-й рестайлинг]</td>\n",
              "      <td>140200</td>\n",
              "      <td>2012</td>\n",
              "      <td>60500</td>\n",
              "      <td>седан</td>\n",
              "      <td>механика</td>\n",
              "      <td>бензин</td>\n",
              "      <td>1.5</td>\n",
              "      <td>80.0</td>\n",
              "    </tr>\n",
              "    <tr>\n",
              "      <th>2</th>\n",
              "      <td>suzuki</td>\n",
              "      <td>jimny 3 поколение [рестайлинг]</td>\n",
              "      <td>750000</td>\n",
              "      <td>2011</td>\n",
              "      <td>29000</td>\n",
              "      <td>внедорожник</td>\n",
              "      <td>автомат</td>\n",
              "      <td>бензин</td>\n",
              "      <td>1.3</td>\n",
              "      <td>85.0</td>\n",
              "    </tr>\n",
              "    <tr>\n",
              "      <th>3</th>\n",
              "      <td>bmw</td>\n",
              "      <td>x1 18 e84 [рестайлинг]</td>\n",
              "      <td>970000</td>\n",
              "      <td>2014</td>\n",
              "      <td>49500</td>\n",
              "      <td>кроссовер</td>\n",
              "      <td>автомат</td>\n",
              "      <td>бензин</td>\n",
              "      <td>2.0</td>\n",
              "      <td>150.0</td>\n",
              "    </tr>\n",
              "    <tr>\n",
              "      <th>4</th>\n",
              "      <td>chevrolet</td>\n",
              "      <td>lacetti 1 поколение</td>\n",
              "      <td>205000</td>\n",
              "      <td>2007</td>\n",
              "      <td>151445</td>\n",
              "      <td>седан</td>\n",
              "      <td>механика</td>\n",
              "      <td>бензин</td>\n",
              "      <td>1.4</td>\n",
              "      <td>95.0</td>\n",
              "    </tr>\n",
              "  </tbody>\n",
              "</table>\n",
              "</div>\n",
              "      <button class=\"colab-df-convert\" onclick=\"convertToInteractive('df-ff52499e-b5e3-456c-8299-4ded781c8944')\"\n",
              "              title=\"Convert this dataframe to an interactive table.\"\n",
              "              style=\"display:none;\">\n",
              "        \n",
              "  <svg xmlns=\"http://www.w3.org/2000/svg\" height=\"24px\"viewBox=\"0 0 24 24\"\n",
              "       width=\"24px\">\n",
              "    <path d=\"M0 0h24v24H0V0z\" fill=\"none\"/>\n",
              "    <path d=\"M18.56 5.44l.94 2.06.94-2.06 2.06-.94-2.06-.94-.94-2.06-.94 2.06-2.06.94zm-11 1L8.5 8.5l.94-2.06 2.06-.94-2.06-.94L8.5 2.5l-.94 2.06-2.06.94zm10 10l.94 2.06.94-2.06 2.06-.94-2.06-.94-.94-2.06-.94 2.06-2.06.94z\"/><path d=\"M17.41 7.96l-1.37-1.37c-.4-.4-.92-.59-1.43-.59-.52 0-1.04.2-1.43.59L10.3 9.45l-7.72 7.72c-.78.78-.78 2.05 0 2.83L4 21.41c.39.39.9.59 1.41.59.51 0 1.02-.2 1.41-.59l7.78-7.78 2.81-2.81c.8-.78.8-2.07 0-2.86zM5.41 20L4 18.59l7.72-7.72 1.47 1.35L5.41 20z\"/>\n",
              "  </svg>\n",
              "      </button>\n",
              "      \n",
              "  <style>\n",
              "    .colab-df-container {\n",
              "      display:flex;\n",
              "      flex-wrap:wrap;\n",
              "      gap: 12px;\n",
              "    }\n",
              "\n",
              "    .colab-df-convert {\n",
              "      background-color: #E8F0FE;\n",
              "      border: none;\n",
              "      border-radius: 50%;\n",
              "      cursor: pointer;\n",
              "      display: none;\n",
              "      fill: #1967D2;\n",
              "      height: 32px;\n",
              "      padding: 0 0 0 0;\n",
              "      width: 32px;\n",
              "    }\n",
              "\n",
              "    .colab-df-convert:hover {\n",
              "      background-color: #E2EBFA;\n",
              "      box-shadow: 0px 1px 2px rgba(60, 64, 67, 0.3), 0px 1px 3px 1px rgba(60, 64, 67, 0.15);\n",
              "      fill: #174EA6;\n",
              "    }\n",
              "\n",
              "    [theme=dark] .colab-df-convert {\n",
              "      background-color: #3B4455;\n",
              "      fill: #D2E3FC;\n",
              "    }\n",
              "\n",
              "    [theme=dark] .colab-df-convert:hover {\n",
              "      background-color: #434B5C;\n",
              "      box-shadow: 0px 1px 3px 1px rgba(0, 0, 0, 0.15);\n",
              "      filter: drop-shadow(0px 1px 2px rgba(0, 0, 0, 0.3));\n",
              "      fill: #FFFFFF;\n",
              "    }\n",
              "  </style>\n",
              "\n",
              "      <script>\n",
              "        const buttonEl =\n",
              "          document.querySelector('#df-ff52499e-b5e3-456c-8299-4ded781c8944 button.colab-df-convert');\n",
              "        buttonEl.style.display =\n",
              "          google.colab.kernel.accessAllowed ? 'block' : 'none';\n",
              "\n",
              "        async function convertToInteractive(key) {\n",
              "          const element = document.querySelector('#df-ff52499e-b5e3-456c-8299-4ded781c8944');\n",
              "          const dataTable =\n",
              "            await google.colab.kernel.invokeFunction('convertToInteractive',\n",
              "                                                     [key], {});\n",
              "          if (!dataTable) return;\n",
              "\n",
              "          const docLinkHtml = 'Like what you see? Visit the ' +\n",
              "            '<a target=\"_blank\" href=https://colab.research.google.com/notebooks/data_table.ipynb>data table notebook</a>'\n",
              "            + ' to learn more about interactive tables.';\n",
              "          element.innerHTML = '';\n",
              "          dataTable['output_type'] = 'display_data';\n",
              "          await google.colab.output.renderOutput(dataTable, element);\n",
              "          const docLink = document.createElement('div');\n",
              "          docLink.innerHTML = docLinkHtml;\n",
              "          element.appendChild(docLink);\n",
              "        }\n",
              "      </script>\n",
              "    </div>\n",
              "  </div>\n",
              "  "
            ],
            "text/plain": [
              "        mark                               model   price  ...    fuel  volume  power\n",
              "0        kia                              cerato  996000  ...  бензин     2.0  150.0\n",
              "1     daewoo  nexia 1 поколение [2-й рестайлинг]  140200  ...  бензин     1.5   80.0\n",
              "2     suzuki      jimny 3 поколение [рестайлинг]  750000  ...  бензин     1.3   85.0\n",
              "3        bmw              x1 18 e84 [рестайлинг]  970000  ...  бензин     2.0  150.0\n",
              "4  chevrolet                 lacetti 1 поколение  205000  ...  бензин     1.4   95.0\n",
              "\n",
              "[5 rows x 10 columns]"
            ]
          },
          "metadata": {},
          "execution_count": 232
        }
      ]
    },
    {
      "cell_type": "code",
      "source": [
        "auto_data.info()"
      ],
      "metadata": {
        "colab": {
          "base_uri": "https://localhost:8080/"
        },
        "id": "aTv4L7rntAZO",
        "outputId": "5f1c1acb-947c-4422-d6df-060de2fdb159"
      },
      "execution_count": null,
      "outputs": [
        {
          "output_type": "stream",
          "name": "stdout",
          "text": [
            "<class 'pandas.core.frame.DataFrame'>\n",
            "RangeIndex: 70119 entries, 0 to 70118\n",
            "Data columns (total 10 columns):\n",
            " #   Column   Non-Null Count  Dtype  \n",
            "---  ------   --------------  -----  \n",
            " 0   mark     70119 non-null  object \n",
            " 1   model    70119 non-null  object \n",
            " 2   price    70119 non-null  int64  \n",
            " 3   year     70119 non-null  int64  \n",
            " 4   mileage  70119 non-null  int64  \n",
            " 5   body     70116 non-null  object \n",
            " 6   kpp      70115 non-null  object \n",
            " 7   fuel     70119 non-null  object \n",
            " 8   volume   70119 non-null  float64\n",
            " 9   power    70119 non-null  float64\n",
            "dtypes: float64(2), int64(3), object(5)\n",
            "memory usage: 5.3+ MB\n"
          ]
        }
      ]
    },
    {
      "cell_type": "code",
      "source": [
        "auto_data.describe()"
      ],
      "metadata": {
        "colab": {
          "base_uri": "https://localhost:8080/",
          "height": 297
        },
        "id": "ueHRSCGv2WOp",
        "outputId": "64405e88-8632-49a2-a963-b4175b83d38a"
      },
      "execution_count": null,
      "outputs": [
        {
          "output_type": "execute_result",
          "data": {
            "text/html": [
              "\n",
              "  <div id=\"df-a36524fd-4344-4102-85ff-1b31c0db6674\">\n",
              "    <div class=\"colab-df-container\">\n",
              "      <div>\n",
              "<style scoped>\n",
              "    .dataframe tbody tr th:only-of-type {\n",
              "        vertical-align: middle;\n",
              "    }\n",
              "\n",
              "    .dataframe tbody tr th {\n",
              "        vertical-align: top;\n",
              "    }\n",
              "\n",
              "    .dataframe thead th {\n",
              "        text-align: right;\n",
              "    }\n",
              "</style>\n",
              "<table border=\"1\" class=\"dataframe\">\n",
              "  <thead>\n",
              "    <tr style=\"text-align: right;\">\n",
              "      <th></th>\n",
              "      <th>price</th>\n",
              "      <th>year</th>\n",
              "      <th>mileage</th>\n",
              "      <th>volume</th>\n",
              "      <th>power</th>\n",
              "    </tr>\n",
              "  </thead>\n",
              "  <tbody>\n",
              "    <tr>\n",
              "      <th>count</th>\n",
              "      <td>7.011900e+04</td>\n",
              "      <td>70119.000000</td>\n",
              "      <td>70119.000000</td>\n",
              "      <td>70119.000000</td>\n",
              "      <td>70119.000000</td>\n",
              "    </tr>\n",
              "    <tr>\n",
              "      <th>mean</th>\n",
              "      <td>5.277261e+05</td>\n",
              "      <td>2007.228668</td>\n",
              "      <td>162237.510988</td>\n",
              "      <td>1.917526</td>\n",
              "      <td>136.473381</td>\n",
              "    </tr>\n",
              "    <tr>\n",
              "      <th>std</th>\n",
              "      <td>6.236842e+05</td>\n",
              "      <td>7.086385</td>\n",
              "      <td>95872.148255</td>\n",
              "      <td>0.671154</td>\n",
              "      <td>59.054250</td>\n",
              "    </tr>\n",
              "    <tr>\n",
              "      <th>min</th>\n",
              "      <td>1.600000e+04</td>\n",
              "      <td>1949.000000</td>\n",
              "      <td>1.000000</td>\n",
              "      <td>0.300000</td>\n",
              "      <td>11.000000</td>\n",
              "    </tr>\n",
              "    <tr>\n",
              "      <th>25%</th>\n",
              "      <td>2.050000e+05</td>\n",
              "      <td>2004.000000</td>\n",
              "      <td>96980.000000</td>\n",
              "      <td>1.600000</td>\n",
              "      <td>102.000000</td>\n",
              "    </tr>\n",
              "    <tr>\n",
              "      <th>50%</th>\n",
              "      <td>3.800000e+05</td>\n",
              "      <td>2008.000000</td>\n",
              "      <td>147000.000000</td>\n",
              "      <td>1.800000</td>\n",
              "      <td>123.000000</td>\n",
              "    </tr>\n",
              "    <tr>\n",
              "      <th>75%</th>\n",
              "      <td>6.400000e+05</td>\n",
              "      <td>2012.000000</td>\n",
              "      <td>210000.000000</td>\n",
              "      <td>2.000000</td>\n",
              "      <td>152.000000</td>\n",
              "    </tr>\n",
              "    <tr>\n",
              "      <th>max</th>\n",
              "      <td>2.450000e+07</td>\n",
              "      <td>2019.000000</td>\n",
              "      <td>999999.000000</td>\n",
              "      <td>10.000000</td>\n",
              "      <td>1400.000000</td>\n",
              "    </tr>\n",
              "  </tbody>\n",
              "</table>\n",
              "</div>\n",
              "      <button class=\"colab-df-convert\" onclick=\"convertToInteractive('df-a36524fd-4344-4102-85ff-1b31c0db6674')\"\n",
              "              title=\"Convert this dataframe to an interactive table.\"\n",
              "              style=\"display:none;\">\n",
              "        \n",
              "  <svg xmlns=\"http://www.w3.org/2000/svg\" height=\"24px\"viewBox=\"0 0 24 24\"\n",
              "       width=\"24px\">\n",
              "    <path d=\"M0 0h24v24H0V0z\" fill=\"none\"/>\n",
              "    <path d=\"M18.56 5.44l.94 2.06.94-2.06 2.06-.94-2.06-.94-.94-2.06-.94 2.06-2.06.94zm-11 1L8.5 8.5l.94-2.06 2.06-.94-2.06-.94L8.5 2.5l-.94 2.06-2.06.94zm10 10l.94 2.06.94-2.06 2.06-.94-2.06-.94-.94-2.06-.94 2.06-2.06.94z\"/><path d=\"M17.41 7.96l-1.37-1.37c-.4-.4-.92-.59-1.43-.59-.52 0-1.04.2-1.43.59L10.3 9.45l-7.72 7.72c-.78.78-.78 2.05 0 2.83L4 21.41c.39.39.9.59 1.41.59.51 0 1.02-.2 1.41-.59l7.78-7.78 2.81-2.81c.8-.78.8-2.07 0-2.86zM5.41 20L4 18.59l7.72-7.72 1.47 1.35L5.41 20z\"/>\n",
              "  </svg>\n",
              "      </button>\n",
              "      \n",
              "  <style>\n",
              "    .colab-df-container {\n",
              "      display:flex;\n",
              "      flex-wrap:wrap;\n",
              "      gap: 12px;\n",
              "    }\n",
              "\n",
              "    .colab-df-convert {\n",
              "      background-color: #E8F0FE;\n",
              "      border: none;\n",
              "      border-radius: 50%;\n",
              "      cursor: pointer;\n",
              "      display: none;\n",
              "      fill: #1967D2;\n",
              "      height: 32px;\n",
              "      padding: 0 0 0 0;\n",
              "      width: 32px;\n",
              "    }\n",
              "\n",
              "    .colab-df-convert:hover {\n",
              "      background-color: #E2EBFA;\n",
              "      box-shadow: 0px 1px 2px rgba(60, 64, 67, 0.3), 0px 1px 3px 1px rgba(60, 64, 67, 0.15);\n",
              "      fill: #174EA6;\n",
              "    }\n",
              "\n",
              "    [theme=dark] .colab-df-convert {\n",
              "      background-color: #3B4455;\n",
              "      fill: #D2E3FC;\n",
              "    }\n",
              "\n",
              "    [theme=dark] .colab-df-convert:hover {\n",
              "      background-color: #434B5C;\n",
              "      box-shadow: 0px 1px 3px 1px rgba(0, 0, 0, 0.15);\n",
              "      filter: drop-shadow(0px 1px 2px rgba(0, 0, 0, 0.3));\n",
              "      fill: #FFFFFF;\n",
              "    }\n",
              "  </style>\n",
              "\n",
              "      <script>\n",
              "        const buttonEl =\n",
              "          document.querySelector('#df-a36524fd-4344-4102-85ff-1b31c0db6674 button.colab-df-convert');\n",
              "        buttonEl.style.display =\n",
              "          google.colab.kernel.accessAllowed ? 'block' : 'none';\n",
              "\n",
              "        async function convertToInteractive(key) {\n",
              "          const element = document.querySelector('#df-a36524fd-4344-4102-85ff-1b31c0db6674');\n",
              "          const dataTable =\n",
              "            await google.colab.kernel.invokeFunction('convertToInteractive',\n",
              "                                                     [key], {});\n",
              "          if (!dataTable) return;\n",
              "\n",
              "          const docLinkHtml = 'Like what you see? Visit the ' +\n",
              "            '<a target=\"_blank\" href=https://colab.research.google.com/notebooks/data_table.ipynb>data table notebook</a>'\n",
              "            + ' to learn more about interactive tables.';\n",
              "          element.innerHTML = '';\n",
              "          dataTable['output_type'] = 'display_data';\n",
              "          await google.colab.output.renderOutput(dataTable, element);\n",
              "          const docLink = document.createElement('div');\n",
              "          docLink.innerHTML = docLinkHtml;\n",
              "          element.appendChild(docLink);\n",
              "        }\n",
              "      </script>\n",
              "    </div>\n",
              "  </div>\n",
              "  "
            ],
            "text/plain": [
              "              price          year        mileage        volume         power\n",
              "count  7.011900e+04  70119.000000   70119.000000  70119.000000  70119.000000\n",
              "mean   5.277261e+05   2007.228668  162237.510988      1.917526    136.473381\n",
              "std    6.236842e+05      7.086385   95872.148255      0.671154     59.054250\n",
              "min    1.600000e+04   1949.000000       1.000000      0.300000     11.000000\n",
              "25%    2.050000e+05   2004.000000   96980.000000      1.600000    102.000000\n",
              "50%    3.800000e+05   2008.000000  147000.000000      1.800000    123.000000\n",
              "75%    6.400000e+05   2012.000000  210000.000000      2.000000    152.000000\n",
              "max    2.450000e+07   2019.000000  999999.000000     10.000000   1400.000000"
            ]
          },
          "metadata": {},
          "execution_count": 234
        }
      ]
    },
    {
      "cell_type": "code",
      "source": [
        "str_columns = auto_data.select_dtypes(include=[object]).columns.to_list()\n",
        "str_columns"
      ],
      "metadata": {
        "colab": {
          "base_uri": "https://localhost:8080/"
        },
        "id": "8zWkj5UApWTk",
        "outputId": "c243501c-9410-4d9b-a60d-9c44bafcf949"
      },
      "execution_count": null,
      "outputs": [
        {
          "output_type": "execute_result",
          "data": {
            "text/plain": [
              "['mark', 'model', 'body', 'kpp', 'fuel']"
            ]
          },
          "metadata": {},
          "execution_count": 235
        }
      ]
    },
    {
      "cell_type": "code",
      "source": [
        "for column in str_columns:\n",
        "    print(f'Column name: {column}')\n",
        "    print(auto_data[column].value_counts())\n",
        "    print()"
      ],
      "metadata": {
        "colab": {
          "base_uri": "https://localhost:8080/"
        },
        "id": "DDiQYKHsTZc8",
        "outputId": "8ea68c2e-ba82-43c3-df0f-5cd26f21f8ad"
      },
      "execution_count": null,
      "outputs": [
        {
          "output_type": "stream",
          "name": "stdout",
          "text": [
            "Column name: mark\n",
            "toyota           4043\n",
            "mercedes-benz    4032\n",
            "ford             4031\n",
            "opel             4023\n",
            "mitsubishi       4023\n",
            "bmw              4019\n",
            "chevrolet        3999\n",
            "volkswagen       3997\n",
            "nissan           3988\n",
            "hyundai          3975\n",
            "kia              3957\n",
            "renault          3931\n",
            "audi             3781\n",
            "mazda            3770\n",
            "daewoo           3260\n",
            "skoda            2931\n",
            "honda            2528\n",
            "peugeot          2167\n",
            "suzuki           1320\n",
            "chery            1206\n",
            "subaru           1138\n",
            "Name: mark, dtype: int64\n",
            "\n",
            "Column name: model\n",
            "matiz m150 [рестайлинг]               1062\n",
            "focus 3 поколение                      827\n",
            "nexia 1 поколение [2-й рестайлинг]     811\n",
            "nexia 1 поколение [рестайлинг]         732\n",
            "lacetti 1 поколение                    625\n",
            "                                      ... \n",
            "i40                                      1\n",
            "fto 1 поколение                          1\n",
            "jetta 3 поколение                        1\n",
            "aristo s14 [рестайлинг]                  1\n",
            "x3 f25                                   1\n",
            "Name: model, Length: 3156, dtype: int64\n",
            "\n",
            "Column name: body\n",
            "седан           29455\n",
            "хетчбэк         12898\n",
            "кроссовер       12682\n",
            "минивэн          3725\n",
            "внедорожник      3563\n",
            "универсал        3500\n",
            "лифтбэк          3073\n",
            "купе              754\n",
            "пикап             265\n",
            "хардтоп            80\n",
            "кабриолет          68\n",
            "родстер            41\n",
            "микроавтобус        7\n",
            "тарга               2\n",
            "лимузин             2\n",
            "фастбэк             1\n",
            "Name: body, dtype: int64\n",
            "\n",
            "Column name: kpp\n",
            "механика    31053\n",
            "автомат     30577\n",
            "вариатор     4436\n",
            "робот        4049\n",
            "Name: kpp, dtype: int64\n",
            "\n",
            "Column name: fuel\n",
            "бензин     63719\n",
            "дизель      6132\n",
            "гибрид       237\n",
            "электро       26\n",
            "газ            5\n",
            "Name: fuel, dtype: int64\n",
            "\n"
          ]
        }
      ]
    },
    {
      "cell_type": "markdown",
      "source": [
        "## Preprocess the data"
      ],
      "metadata": {
        "id": "YaFLkMSU2kpZ"
      }
    },
    {
      "cell_type": "code",
      "source": [
        "# change minor auto types to similar classes\n",
        "auto_data.loc[auto_data.body.isin(\n",
        "          ['тарга', 'фастбэк', 'родстер', 'хардтоп']), 'body'] = 'кабриолет'\n",
        "auto_data.loc[auto_data.body.isin(\n",
        "          ['микроавтобус']), 'body'] = 'минивэн'\n",
        "auto_data.loc[auto_data.body.isin(\n",
        "          ['лифтбэк']), 'body'] = 'хетчбэк'"
      ],
      "metadata": {
        "id": "d8gM28BSX8I0"
      },
      "execution_count": null,
      "outputs": []
    },
    {
      "cell_type": "code",
      "source": [
        "# get rid of outliers\n",
        "upper_limit = auto_data.mileage.quantile(0.99)\n",
        "auto_data.loc[auto_data.mileage > upper_limit, 'mileage'] = upper_limit\n",
        "\n",
        "upper_limit = auto_data.power.quantile(0.99)\n",
        "auto_data.loc[auto_data.power > upper_limit, 'power'] = upper_limit\n",
        "\n",
        "upper_limit = auto_data.volume.quantile(0.99)\n",
        "auto_data.loc[auto_data.volume > upper_limit, 'volume'] = upper_limit"
      ],
      "metadata": {
        "id": "e2a005wCfgSB"
      },
      "execution_count": null,
      "outputs": []
    },
    {
      "cell_type": "code",
      "source": [
        "# Преобразование model в числовые/векторные для обучения нейросетью\n",
        "\n",
        "# Используется встроенный в Keras токенизатор для разбиения текста и построения частотного словаря\n",
        "tokenizer = Tokenizer(num_words=800, # объем словаря\n",
        "                      filters='!\"#$%&()*+,-–—./:;<=>?@[\\\\]^_`{|}~\\t\\n\\xa0', # убираемые из текста ненужные символы \n",
        "                      lower=True, # приведение слов к нижнему регистру\n",
        "                      split=' ', # разделитель слов\n",
        "                      oov_token='unknown', # указание разделять по словам, а не по единичным символам\n",
        "                      char_level=False # токен для слов, которые не вошли в словарь\n",
        "                      )\n",
        "\n",
        "# Построение частотного словаря по текстам профессий\n",
        "tokenizer.fit_on_texts(auto_data['model']) \n",
        "\n",
        "items = list(tokenizer.word_index.items())       # Получение индексов слов\n",
        "print(items[:50])                                # Посмотр 50 самых часто встречающихся слов\n",
        "print(\"Размер словаря\", len(items))              # Длина словаря"
      ],
      "metadata": {
        "colab": {
          "base_uri": "https://localhost:8080/"
        },
        "id": "Gio42O5gWpn8",
        "outputId": "68cf99fa-51bb-4c64-92bb-66b6d27a4af7"
      },
      "execution_count": null,
      "outputs": [
        {
          "output_type": "stream",
          "name": "stdout",
          "text": [
            "[('unknown', 1), ('поколение', 2), ('рестайлинг', 3), ('1', 4), ('2', 5), ('3', 6), ('класс', 7), ('5', 8), ('серия', 9), ('focus', 10), ('astra', 11), ('nexia', 12), ('й', 13), ('4', 14), ('6', 15), ('octavia', 16), ('rio', 17), ('e', 18), ('lancer', 19), ('solaris', 20), ('logan', 21), ('h', 22), ('matiz', 23), ('passat', 24), ('7', 25), ('m150', 26), ('c', 27), ('niva', 28), ('family', 29), ('a6', 30), ('x', 31), ('a4', 32), ('200', 33), ('polo', 34), ('pajero', 35), ('cx', 36), ('cruze', 37), ('grand', 38), ('j300', 39), ('ix', 40), ('sportage', 41), ('s', 42), ('lacetti', 43), ('corolla', 44), ('duster', 45), ('x5', 46), ('outlander', 47), ('a', 48), ('308', 49), ('b3', 50)]\n",
            "Размер словаря 1454\n"
          ]
        }
      ]
    },
    {
      "cell_type": "code",
      "source": [
        "# Преобразование текстов в последовательность индексов согласно частотному словарю\n",
        "exp_seq = tokenizer.texts_to_sequences(auto_data['model'])\n",
        "# Преобразование последовательностей индексов в bag of words\n",
        "model_processed = tokenizer.sequences_to_matrix(exp_seq)"
      ],
      "metadata": {
        "id": "hmE73haZdRVT"
      },
      "execution_count": null,
      "outputs": []
    },
    {
      "cell_type": "code",
      "source": [
        "# Проверка результата\n",
        "print(model_processed.shape)\n",
        "print(model_processed[0][0:100])"
      ],
      "metadata": {
        "colab": {
          "base_uri": "https://localhost:8080/"
        },
        "id": "wTtIUBWCdirf",
        "outputId": "3a9ba0b1-24e6-405e-e9ea-ff1e5417f5b1"
      },
      "execution_count": null,
      "outputs": [
        {
          "output_type": "stream",
          "name": "stdout",
          "text": [
            "(70119, 800)\n",
            "[0. 0. 0. 0. 0. 0. 0. 0. 0. 0. 0. 0. 0. 0. 0. 0. 0. 0. 0. 0. 0. 0. 0. 0.\n",
            " 0. 0. 0. 0. 0. 0. 0. 0. 0. 0. 0. 0. 0. 0. 0. 0. 0. 0. 0. 0. 0. 0. 0. 0.\n",
            " 0. 0. 0. 0. 0. 0. 0. 0. 0. 0. 0. 0. 0. 0. 0. 0. 0. 0. 0. 0. 0. 0. 0. 0.\n",
            " 0. 0. 0. 0. 0. 0. 0. 0. 0. 0. 0. 0. 0. 0. 0. 0. 0. 0. 0. 0. 0. 0. 0. 0.\n",
            " 0. 0. 0. 0.]\n"
          ]
        }
      ]
    },
    {
      "cell_type": "code",
      "source": [
        "# Remove models from initil dataframe\n",
        "str_columns.remove('model')\n",
        "del auto_data['model']"
      ],
      "metadata": {
        "id": "dflKFT4jd9tI"
      },
      "execution_count": null,
      "outputs": []
    },
    {
      "cell_type": "markdown",
      "source": [
        "## Data standartization"
      ],
      "metadata": {
        "id": "U0r-bUPxUqrk"
      }
    },
    {
      "cell_type": "code",
      "source": [
        "# choose only numerical columns\n",
        "list2scale = list(set(auto_data.columns) - set(str_columns) - set(['price']))"
      ],
      "metadata": {
        "id": "4uRLJN4sVJ4v"
      },
      "execution_count": null,
      "outputs": []
    },
    {
      "cell_type": "code",
      "source": [
        "list2scale"
      ],
      "metadata": {
        "colab": {
          "base_uri": "https://localhost:8080/"
        },
        "id": "TUjP00QRVn_j",
        "outputId": "369a65cf-d2b0-41ca-aba8-240bf56ba978"
      },
      "execution_count": null,
      "outputs": [
        {
          "output_type": "execute_result",
          "data": {
            "text/plain": [
              "['mileage', 'year', 'power', 'volume']"
            ]
          },
          "metadata": {},
          "execution_count": 244
        }
      ]
    },
    {
      "cell_type": "code",
      "source": [
        "# apply standartization\n",
        "trans = MinMaxScaler()\n",
        "auto_data[list2scale] = trans.fit_transform(auto_data[list2scale])"
      ],
      "metadata": {
        "id": "klWv2sOzUqCC"
      },
      "execution_count": null,
      "outputs": []
    },
    {
      "cell_type": "code",
      "source": [
        "auto_data.head()"
      ],
      "metadata": {
        "colab": {
          "base_uri": "https://localhost:8080/",
          "height": 204
        },
        "id": "N-Sz83kUWY8i",
        "outputId": "070bb0bd-9f9d-489b-92f8-fd6e40cfa651"
      },
      "execution_count": null,
      "outputs": [
        {
          "output_type": "execute_result",
          "data": {
            "text/html": [
              "\n",
              "  <div id=\"df-ba264bfe-d683-43f4-83bb-6d5cad395392\">\n",
              "    <div class=\"colab-df-container\">\n",
              "      <div>\n",
              "<style scoped>\n",
              "    .dataframe tbody tr th:only-of-type {\n",
              "        vertical-align: middle;\n",
              "    }\n",
              "\n",
              "    .dataframe tbody tr th {\n",
              "        vertical-align: top;\n",
              "    }\n",
              "\n",
              "    .dataframe thead th {\n",
              "        text-align: right;\n",
              "    }\n",
              "</style>\n",
              "<table border=\"1\" class=\"dataframe\">\n",
              "  <thead>\n",
              "    <tr style=\"text-align: right;\">\n",
              "      <th></th>\n",
              "      <th>mark</th>\n",
              "      <th>price</th>\n",
              "      <th>year</th>\n",
              "      <th>mileage</th>\n",
              "      <th>body</th>\n",
              "      <th>kpp</th>\n",
              "      <th>fuel</th>\n",
              "      <th>volume</th>\n",
              "      <th>power</th>\n",
              "    </tr>\n",
              "  </thead>\n",
              "  <tbody>\n",
              "    <tr>\n",
              "      <th>0</th>\n",
              "      <td>kia</td>\n",
              "      <td>996000</td>\n",
              "      <td>0.985714</td>\n",
              "      <td>0.062220</td>\n",
              "      <td>седан</td>\n",
              "      <td>автомат</td>\n",
              "      <td>бензин</td>\n",
              "      <td>0.175258</td>\n",
              "      <td>0.100072</td>\n",
              "    </tr>\n",
              "    <tr>\n",
              "      <th>1</th>\n",
              "      <td>daewoo</td>\n",
              "      <td>140200</td>\n",
              "      <td>0.900000</td>\n",
              "      <td>0.134443</td>\n",
              "      <td>седан</td>\n",
              "      <td>механика</td>\n",
              "      <td>бензин</td>\n",
              "      <td>0.123711</td>\n",
              "      <td>0.049676</td>\n",
              "    </tr>\n",
              "    <tr>\n",
              "      <th>2</th>\n",
              "      <td>suzuki</td>\n",
              "      <td>750000</td>\n",
              "      <td>0.885714</td>\n",
              "      <td>0.064442</td>\n",
              "      <td>внедорожник</td>\n",
              "      <td>автомат</td>\n",
              "      <td>бензин</td>\n",
              "      <td>0.103093</td>\n",
              "      <td>0.053276</td>\n",
              "    </tr>\n",
              "    <tr>\n",
              "      <th>3</th>\n",
              "      <td>bmw</td>\n",
              "      <td>970000</td>\n",
              "      <td>0.928571</td>\n",
              "      <td>0.109998</td>\n",
              "      <td>кроссовер</td>\n",
              "      <td>автомат</td>\n",
              "      <td>бензин</td>\n",
              "      <td>0.175258</td>\n",
              "      <td>0.100072</td>\n",
              "    </tr>\n",
              "    <tr>\n",
              "      <th>4</th>\n",
              "      <td>chevrolet</td>\n",
              "      <td>205000</td>\n",
              "      <td>0.828571</td>\n",
              "      <td>0.336543</td>\n",
              "      <td>седан</td>\n",
              "      <td>механика</td>\n",
              "      <td>бензин</td>\n",
              "      <td>0.113402</td>\n",
              "      <td>0.060475</td>\n",
              "    </tr>\n",
              "  </tbody>\n",
              "</table>\n",
              "</div>\n",
              "      <button class=\"colab-df-convert\" onclick=\"convertToInteractive('df-ba264bfe-d683-43f4-83bb-6d5cad395392')\"\n",
              "              title=\"Convert this dataframe to an interactive table.\"\n",
              "              style=\"display:none;\">\n",
              "        \n",
              "  <svg xmlns=\"http://www.w3.org/2000/svg\" height=\"24px\"viewBox=\"0 0 24 24\"\n",
              "       width=\"24px\">\n",
              "    <path d=\"M0 0h24v24H0V0z\" fill=\"none\"/>\n",
              "    <path d=\"M18.56 5.44l.94 2.06.94-2.06 2.06-.94-2.06-.94-.94-2.06-.94 2.06-2.06.94zm-11 1L8.5 8.5l.94-2.06 2.06-.94-2.06-.94L8.5 2.5l-.94 2.06-2.06.94zm10 10l.94 2.06.94-2.06 2.06-.94-2.06-.94-.94-2.06-.94 2.06-2.06.94z\"/><path d=\"M17.41 7.96l-1.37-1.37c-.4-.4-.92-.59-1.43-.59-.52 0-1.04.2-1.43.59L10.3 9.45l-7.72 7.72c-.78.78-.78 2.05 0 2.83L4 21.41c.39.39.9.59 1.41.59.51 0 1.02-.2 1.41-.59l7.78-7.78 2.81-2.81c.8-.78.8-2.07 0-2.86zM5.41 20L4 18.59l7.72-7.72 1.47 1.35L5.41 20z\"/>\n",
              "  </svg>\n",
              "      </button>\n",
              "      \n",
              "  <style>\n",
              "    .colab-df-container {\n",
              "      display:flex;\n",
              "      flex-wrap:wrap;\n",
              "      gap: 12px;\n",
              "    }\n",
              "\n",
              "    .colab-df-convert {\n",
              "      background-color: #E8F0FE;\n",
              "      border: none;\n",
              "      border-radius: 50%;\n",
              "      cursor: pointer;\n",
              "      display: none;\n",
              "      fill: #1967D2;\n",
              "      height: 32px;\n",
              "      padding: 0 0 0 0;\n",
              "      width: 32px;\n",
              "    }\n",
              "\n",
              "    .colab-df-convert:hover {\n",
              "      background-color: #E2EBFA;\n",
              "      box-shadow: 0px 1px 2px rgba(60, 64, 67, 0.3), 0px 1px 3px 1px rgba(60, 64, 67, 0.15);\n",
              "      fill: #174EA6;\n",
              "    }\n",
              "\n",
              "    [theme=dark] .colab-df-convert {\n",
              "      background-color: #3B4455;\n",
              "      fill: #D2E3FC;\n",
              "    }\n",
              "\n",
              "    [theme=dark] .colab-df-convert:hover {\n",
              "      background-color: #434B5C;\n",
              "      box-shadow: 0px 1px 3px 1px rgba(0, 0, 0, 0.15);\n",
              "      filter: drop-shadow(0px 1px 2px rgba(0, 0, 0, 0.3));\n",
              "      fill: #FFFFFF;\n",
              "    }\n",
              "  </style>\n",
              "\n",
              "      <script>\n",
              "        const buttonEl =\n",
              "          document.querySelector('#df-ba264bfe-d683-43f4-83bb-6d5cad395392 button.colab-df-convert');\n",
              "        buttonEl.style.display =\n",
              "          google.colab.kernel.accessAllowed ? 'block' : 'none';\n",
              "\n",
              "        async function convertToInteractive(key) {\n",
              "          const element = document.querySelector('#df-ba264bfe-d683-43f4-83bb-6d5cad395392');\n",
              "          const dataTable =\n",
              "            await google.colab.kernel.invokeFunction('convertToInteractive',\n",
              "                                                     [key], {});\n",
              "          if (!dataTable) return;\n",
              "\n",
              "          const docLinkHtml = 'Like what you see? Visit the ' +\n",
              "            '<a target=\"_blank\" href=https://colab.research.google.com/notebooks/data_table.ipynb>data table notebook</a>'\n",
              "            + ' to learn more about interactive tables.';\n",
              "          element.innerHTML = '';\n",
              "          dataTable['output_type'] = 'display_data';\n",
              "          await google.colab.output.renderOutput(dataTable, element);\n",
              "          const docLink = document.createElement('div');\n",
              "          docLink.innerHTML = docLinkHtml;\n",
              "          element.appendChild(docLink);\n",
              "        }\n",
              "      </script>\n",
              "    </div>\n",
              "  </div>\n",
              "  "
            ],
            "text/plain": [
              "        mark   price      year   mileage  ...       kpp    fuel    volume     power\n",
              "0        kia  996000  0.985714  0.062220  ...   автомат  бензин  0.175258  0.100072\n",
              "1     daewoo  140200  0.900000  0.134443  ...  механика  бензин  0.123711  0.049676\n",
              "2     suzuki  750000  0.885714  0.064442  ...   автомат  бензин  0.103093  0.053276\n",
              "3        bmw  970000  0.928571  0.109998  ...   автомат  бензин  0.175258  0.100072\n",
              "4  chevrolet  205000  0.828571  0.336543  ...  механика  бензин  0.113402  0.060475\n",
              "\n",
              "[5 rows x 9 columns]"
            ]
          },
          "metadata": {},
          "execution_count": 246
        }
      ]
    },
    {
      "cell_type": "markdown",
      "source": [
        "### Split on train and test df"
      ],
      "metadata": {
        "id": "spKT0lUxB74a"
      }
    },
    {
      "cell_type": "code",
      "source": [
        "# get answers as separate variable\n",
        "y = np.array(auto_data['price']/1000)\n",
        "del auto_data['price']"
      ],
      "metadata": {
        "id": "IKT-jMZ3tj4D"
      },
      "execution_count": null,
      "outputs": []
    },
    {
      "cell_type": "code",
      "source": [
        "from sklearn.model_selection import train_test_split\n",
        "\n",
        "X_train, X_test, y_train, y_test = train_test_split(auto_data,\n",
        "                                                    y,\n",
        "                                                    test_size=0.2)\n",
        "\n",
        "#split the data about automotive models\n",
        "model_processed_train = model_processed[X_train.index]\n",
        "model_processed_test = model_processed[X_test.index]"
      ],
      "metadata": {
        "id": "itnz1-sSB7n2"
      },
      "execution_count": null,
      "outputs": []
    },
    {
      "cell_type": "markdown",
      "source": [
        "### One hot encoding"
      ],
      "metadata": {
        "id": "-pJVdKFllsta"
      }
    },
    {
      "cell_type": "code",
      "source": [
        "from sklearn.preprocessing import OneHotEncoder\n",
        "\n",
        "# Apply one-hot encoder to each column with categorical data\n",
        "OH_encoder = OneHotEncoder(handle_unknown='ignore', sparse=False)\n",
        "OH_cols_train = pd.DataFrame(OH_encoder.fit_transform(X_train[str_columns]))\n",
        "OH_cols_valid = pd.DataFrame(OH_encoder.transform(X_test[str_columns]))\n",
        "\n",
        "# One-hot encoding removed index; put it back\n",
        "OH_cols_train.index = X_train.index\n",
        "OH_cols_valid.index = X_test.index\n",
        "\n",
        "# Remove categorical columns (will replace with one-hot encoding)\n",
        "num_X_train = X_train.drop(str_columns, axis=1)\n",
        "num_X_valid = X_test.drop(str_columns, axis=1)\n",
        "\n",
        "# Add one-hot encoded columns to numerical features\n",
        "OH_X_train = pd.concat([num_X_train, OH_cols_train], axis=1)\n",
        "OH_X_valid = pd.concat([num_X_valid, OH_cols_valid], axis=1)\n",
        "print(OH_X_train)"
      ],
      "metadata": {
        "colab": {
          "base_uri": "https://localhost:8080/"
        },
        "id": "pekxViBS5MSq",
        "outputId": "ca1ec14c-50d6-4f83-dd61-66c831ee685f"
      },
      "execution_count": null,
      "outputs": [
        {
          "output_type": "stream",
          "name": "stdout",
          "text": [
            "           year   mileage    volume     power    0  ...   37   38   39   40   41\n",
            "42277  0.942857  0.162220  0.134021  0.080634  0.0  ...  1.0  0.0  0.0  0.0  0.0\n",
            "2683   0.842857  0.433332  0.134021  0.069114  0.0  ...  1.0  0.0  0.0  0.0  0.0\n",
            "66745  0.871429  0.284443  0.134021  0.084233  0.0  ...  0.0  0.0  0.0  1.0  0.0\n",
            "45893  0.742857  0.593332  0.278351  0.133909  0.0  ...  1.0  0.0  0.0  0.0  0.0\n",
            "39132  0.842857  0.399999  0.154639  0.095032  0.0  ...  1.0  0.0  0.0  0.0  0.0\n",
            "...         ...       ...       ...       ...  ...  ...  ...  ...  ...  ...  ...\n",
            "32864  0.900000  0.267934  0.092784  0.067675  1.0  ...  1.0  0.0  0.0  0.0  0.0\n",
            "44243  0.757143  0.659999  0.154639  0.100072  0.0  ...  1.0  0.0  0.0  0.0  0.0\n",
            "67182  0.914286  0.298887  0.134021  0.080634  0.0  ...  1.0  0.0  0.0  0.0  0.0\n",
            "6056   0.914286  0.191109  0.154639  0.092873  0.0  ...  1.0  0.0  0.0  0.0  0.0\n",
            "56239  0.542857  0.288887  0.154639  0.072714  1.0  ...  1.0  0.0  0.0  0.0  0.0\n",
            "\n",
            "[56095 rows x 46 columns]\n"
          ]
        }
      ]
    },
    {
      "cell_type": "markdown",
      "source": [
        "## Models"
      ],
      "metadata": {
        "id": "-y1CcEet7mKj"
      }
    },
    {
      "cell_type": "markdown",
      "source": [
        "Result evaluation functions"
      ],
      "metadata": {
        "id": "H5ZALYwjCLMI"
      }
    },
    {
      "cell_type": "code",
      "source": [
        "def plot_history(history):\n",
        "    plt.plot(history.history['mae'], \n",
        "            label='Средняя абсолютная ошибка на обучающем наборе')\n",
        "    plt.plot(history.history['val_mae'], \n",
        "            label='Средняя абсолютная ошибка на проверочном наборе')\n",
        "    plt.xlabel('Эпоха обучения')\n",
        "    plt.ylabel('Средняя абсолютная ошибка')\n",
        "    plt.legend()\n",
        "    plt.show()"
      ],
      "metadata": {
        "id": "DBSuWlac7q6M"
      },
      "execution_count": null,
      "outputs": []
    },
    {
      "cell_type": "code",
      "source": [
        "# Функция оценки результатов и вывода оценки\n",
        "def eval_net(model, x_train, y_train, y_scaler = None, n = 10, limit = 1000.):\n",
        "  \n",
        "    pred = model.predict(x_train)             # Предсказание на тренировочной выборке\n",
        "    if y_scaler:                              # Если есть нормирование - то денормировать\n",
        "        pred = y_scaler.inverse_transform(pred)\n",
        "\n",
        "    print('Средняя абсолютная ошибка:', mean_absolute_error(pred, y_train), '\\n')\n",
        "\n",
        "    for i in range(n):\n",
        "        print('Реальное значение: {:6.2f} Предсказанное значение: {:6.2f} Разница: {:6.2f}'.format(y_train[i],\n",
        "                                                                                                    pred[i, 0],\n",
        "                                                                                                    abs(y_train[i] - pred[i, 0])))\n",
        "    # Построение картинки разброса предсказанных и верных значений зарплаты\n",
        "    fig, ax = plt.subplots(figsize=(6, 6))\n",
        "    ax.scatter(y_train, pred)                 # Отрисовка точечного графика\n",
        "    ax.set_xlim(0, limit)                     # Пределы по x, y\n",
        "    ax.set_ylim(0, limit)\n",
        "    ax.plot(plt.xlim(), plt.ylim(), 'r')      # Отрисовка диагональной линии\n",
        "    plt.xlabel('Правильные значения')\n",
        "    plt.ylabel('Предсказания')\n",
        "    plt.grid()\n",
        "    plt.show()      "
      ],
      "metadata": {
        "id": "HC2tQtDQFUFV"
      },
      "execution_count": null,
      "outputs": []
    },
    {
      "cell_type": "markdown",
      "source": [
        "## First model with two chanels. Process separately data about model's and other"
      ],
      "metadata": {
        "id": "4oBhx4kfxTRl"
      }
    },
    {
      "cell_type": "code",
      "source": [
        "input1 = Input((OH_X_train.shape[1],))\n",
        "input2 = Input((model_processed_train.shape[1],))\n",
        "\n",
        "x1 = input1                               # Ветка 1\n",
        "x1 = Dense(128, activation=\"relu\")(x1)\n",
        "x1 = Dense(1000, activation=\"tanh\")(x1)\n",
        "x1 = Dense(100, activation=\"relu\")(x1)\n",
        "\n",
        "x2 = input2                               # Ветка 2\n",
        "x2 = Dense(25, activation=\"relu\")(x2)\n",
        "x2 = Dense(750, activation=\"relu\")(x2)\n",
        "x2 = Dropout(0.3)(x2)\n",
        "\n",
        "x = concatenate([x1, x2])             # Объединение трех веток\n",
        "\n",
        "x = Dense(15, activation='relu')(x)       # Промежуточный слой\n",
        "x = Dropout(0.5)(x)\n",
        "x = Dense(1, activation='linear')(x)      # Финальный регрессирующий нейрон\n",
        "\n",
        "# В Model передаются входы и выход\n",
        "model_final = Model((input1, input2), x)"
      ],
      "metadata": {
        "id": "FvVq7ulbzyhN"
      },
      "execution_count": null,
      "outputs": []
    },
    {
      "cell_type": "code",
      "source": [
        "model_final.compile(optimizer=Adam(learning_rate=1e-3), loss='mse', metrics=['mae'])\n",
        "\n",
        "history = model_final.fit([OH_X_train, model_processed_train], \n",
        "                           y_train,\n",
        "                           batch_size=256, \n",
        "                           epochs=100, \n",
        "                           validation_split=0.15,\n",
        "                           verbose=1)\n",
        "\n",
        "plot_history(history)"
      ],
      "metadata": {
        "colab": {
          "base_uri": "https://localhost:8080/",
          "height": 1000
        },
        "id": "G_WSI2A-0Ogu",
        "outputId": "a9423e3e-bc58-4c3b-871b-e8ab26c2df95"
      },
      "execution_count": null,
      "outputs": [
        {
          "output_type": "stream",
          "name": "stdout",
          "text": [
            "Epoch 1/100\n",
            "187/187 [==============================] - 4s 21ms/step - loss: 379308.3750 - mae: 331.3677 - val_loss: 191302.7969 - val_mae: 158.6962\n",
            "Epoch 2/100\n",
            "187/187 [==============================] - 4s 20ms/step - loss: 171970.9062 - mae: 204.5931 - val_loss: 106341.3828 - val_mae: 120.7010\n",
            "Epoch 3/100\n",
            "187/187 [==============================] - 4s 19ms/step - loss: 149981.3281 - mae: 195.5180 - val_loss: 91553.9297 - val_mae: 123.9341\n",
            "Epoch 4/100\n",
            "187/187 [==============================] - 4s 19ms/step - loss: 141901.5156 - mae: 192.2705 - val_loss: 94102.4219 - val_mae: 121.9540\n",
            "Epoch 5/100\n",
            "187/187 [==============================] - 4s 20ms/step - loss: 138539.2031 - mae: 193.3548 - val_loss: 76528.5781 - val_mae: 116.5354\n",
            "Epoch 6/100\n",
            "187/187 [==============================] - 4s 19ms/step - loss: 129815.1875 - mae: 189.1928 - val_loss: 83688.7188 - val_mae: 113.0887\n",
            "Epoch 7/100\n",
            "187/187 [==============================] - 4s 19ms/step - loss: 127374.5938 - mae: 188.3765 - val_loss: 83680.8594 - val_mae: 125.6043\n",
            "Epoch 8/100\n",
            "187/187 [==============================] - 4s 20ms/step - loss: 126587.1172 - mae: 187.4301 - val_loss: 74161.2188 - val_mae: 110.1476\n",
            "Epoch 9/100\n",
            "187/187 [==============================] - 4s 20ms/step - loss: 131741.6094 - mae: 186.4520 - val_loss: 77599.4219 - val_mae: 122.2118\n",
            "Epoch 10/100\n",
            "187/187 [==============================] - 4s 20ms/step - loss: 122458.6953 - mae: 185.5199 - val_loss: 75926.5703 - val_mae: 110.5555\n",
            "Epoch 11/100\n",
            "187/187 [==============================] - 4s 20ms/step - loss: 130330.7734 - mae: 184.1163 - val_loss: 76086.7188 - val_mae: 126.1763\n",
            "Epoch 12/100\n",
            "187/187 [==============================] - 4s 19ms/step - loss: 118820.1016 - mae: 182.7542 - val_loss: 60094.7578 - val_mae: 107.0337\n",
            "Epoch 13/100\n",
            "187/187 [==============================] - 4s 20ms/step - loss: 119778.7578 - mae: 182.3263 - val_loss: 59524.5117 - val_mae: 116.3514\n",
            "Epoch 14/100\n",
            "187/187 [==============================] - 4s 20ms/step - loss: 108732.4688 - mae: 179.9874 - val_loss: 59915.8633 - val_mae: 103.8884\n",
            "Epoch 15/100\n",
            "187/187 [==============================] - 4s 19ms/step - loss: 117231.2031 - mae: 181.4816 - val_loss: 73307.4297 - val_mae: 115.8369\n",
            "Epoch 16/100\n",
            "187/187 [==============================] - 4s 19ms/step - loss: 113117.7578 - mae: 178.6568 - val_loss: 72970.9922 - val_mae: 102.3358\n",
            "Epoch 17/100\n",
            "187/187 [==============================] - 4s 20ms/step - loss: 113903.1719 - mae: 179.6991 - val_loss: 59613.7148 - val_mae: 122.3951\n",
            "Epoch 18/100\n",
            "187/187 [==============================] - 4s 23ms/step - loss: 107712.7969 - mae: 177.9821 - val_loss: 71511.7891 - val_mae: 114.6454\n",
            "Epoch 19/100\n",
            "187/187 [==============================] - 4s 20ms/step - loss: 119834.7734 - mae: 179.7778 - val_loss: 65450.4531 - val_mae: 104.1724\n",
            "Epoch 20/100\n",
            "187/187 [==============================] - 4s 20ms/step - loss: 119973.2656 - mae: 180.1357 - val_loss: 93882.0859 - val_mae: 126.1432\n",
            "Epoch 21/100\n",
            "187/187 [==============================] - 4s 20ms/step - loss: 108592.0312 - mae: 177.9938 - val_loss: 54911.7812 - val_mae: 108.9510\n",
            "Epoch 22/100\n",
            "187/187 [==============================] - 4s 20ms/step - loss: 125011.1172 - mae: 181.4793 - val_loss: 63322.5312 - val_mae: 114.5023\n",
            "Epoch 23/100\n",
            "187/187 [==============================] - 4s 20ms/step - loss: 116488.3203 - mae: 177.6521 - val_loss: 76849.3281 - val_mae: 109.3026\n",
            "Epoch 24/100\n",
            "187/187 [==============================] - 4s 20ms/step - loss: 111517.3594 - mae: 178.5535 - val_loss: 69747.5234 - val_mae: 98.6336\n",
            "Epoch 25/100\n",
            "187/187 [==============================] - 4s 20ms/step - loss: 117851.1328 - mae: 177.9547 - val_loss: 64608.9336 - val_mae: 130.8433\n",
            "Epoch 26/100\n",
            "187/187 [==============================] - 4s 20ms/step - loss: 114267.8359 - mae: 177.4070 - val_loss: 58405.1367 - val_mae: 102.0547\n",
            "Epoch 27/100\n",
            "187/187 [==============================] - 4s 19ms/step - loss: 110086.4844 - mae: 175.5313 - val_loss: 67743.3125 - val_mae: 100.3662\n",
            "Epoch 28/100\n",
            "187/187 [==============================] - 4s 20ms/step - loss: 114479.7344 - mae: 174.7070 - val_loss: 64283.6172 - val_mae: 105.6941\n",
            "Epoch 29/100\n",
            "187/187 [==============================] - 4s 20ms/step - loss: 111445.8750 - mae: 177.9682 - val_loss: 73384.1484 - val_mae: 127.2447\n",
            "Epoch 30/100\n",
            "187/187 [==============================] - 4s 20ms/step - loss: 114151.0469 - mae: 177.7744 - val_loss: 54598.1680 - val_mae: 97.1185\n",
            "Epoch 31/100\n",
            "187/187 [==============================] - 4s 20ms/step - loss: 119317.3906 - mae: 176.6841 - val_loss: 71190.7344 - val_mae: 120.9208\n",
            "Epoch 32/100\n",
            "187/187 [==============================] - 4s 20ms/step - loss: 114487.4297 - mae: 176.3281 - val_loss: 68968.0391 - val_mae: 106.3487\n",
            "Epoch 33/100\n",
            "187/187 [==============================] - 4s 20ms/step - loss: 115689.4375 - mae: 176.4249 - val_loss: 58918.1797 - val_mae: 93.4517\n",
            "Epoch 34/100\n",
            "187/187 [==============================] - 4s 20ms/step - loss: 106566.3750 - mae: 174.4688 - val_loss: 52776.8164 - val_mae: 108.8887\n",
            "Epoch 35/100\n",
            "187/187 [==============================] - 4s 20ms/step - loss: 108620.7656 - mae: 174.6396 - val_loss: 55319.1406 - val_mae: 95.6678\n",
            "Epoch 36/100\n",
            "187/187 [==============================] - 4s 20ms/step - loss: 103108.0469 - mae: 174.0854 - val_loss: 58868.2188 - val_mae: 113.0406\n",
            "Epoch 37/100\n",
            "187/187 [==============================] - 4s 20ms/step - loss: 104777.9688 - mae: 174.6190 - val_loss: 59525.0977 - val_mae: 98.2135\n",
            "Epoch 38/100\n",
            "187/187 [==============================] - 4s 20ms/step - loss: 114447.3672 - mae: 176.1278 - val_loss: 57173.6094 - val_mae: 95.5678\n",
            "Epoch 39/100\n",
            "187/187 [==============================] - 4s 20ms/step - loss: 112621.0547 - mae: 174.0802 - val_loss: 68017.5703 - val_mae: 110.0520\n",
            "Epoch 40/100\n",
            "187/187 [==============================] - 4s 20ms/step - loss: 108529.9688 - mae: 175.9817 - val_loss: 55549.3047 - val_mae: 118.1995\n",
            "Epoch 41/100\n",
            "187/187 [==============================] - 4s 20ms/step - loss: 110564.5859 - mae: 175.7058 - val_loss: 68275.5781 - val_mae: 112.9040\n",
            "Epoch 42/100\n",
            "187/187 [==============================] - 4s 20ms/step - loss: 116977.4688 - mae: 174.9376 - val_loss: 57931.9961 - val_mae: 106.5309\n",
            "Epoch 43/100\n",
            "187/187 [==============================] - 4s 20ms/step - loss: 113700.8359 - mae: 174.8318 - val_loss: 55413.9531 - val_mae: 103.8454\n",
            "Epoch 44/100\n",
            "187/187 [==============================] - 4s 20ms/step - loss: 104981.8203 - mae: 172.6128 - val_loss: 65602.1016 - val_mae: 98.5339\n",
            "Epoch 45/100\n",
            "187/187 [==============================] - 4s 20ms/step - loss: 102913.6250 - mae: 171.6742 - val_loss: 63215.0977 - val_mae: 119.2675\n",
            "Epoch 46/100\n",
            "187/187 [==============================] - 4s 20ms/step - loss: 107963.9922 - mae: 172.6921 - val_loss: 47182.9688 - val_mae: 90.9075\n",
            "Epoch 47/100\n",
            "187/187 [==============================] - 4s 20ms/step - loss: 109739.6719 - mae: 171.0538 - val_loss: 63417.9023 - val_mae: 116.7701\n",
            "Epoch 48/100\n",
            "187/187 [==============================] - 4s 20ms/step - loss: 112354.9609 - mae: 173.7118 - val_loss: 68376.6562 - val_mae: 119.5446\n",
            "Epoch 49/100\n",
            "187/187 [==============================] - 4s 20ms/step - loss: 103442.5859 - mae: 171.5677 - val_loss: 50564.9414 - val_mae: 86.0461\n",
            "Epoch 50/100\n",
            "187/187 [==============================] - 4s 20ms/step - loss: 119511.7891 - mae: 174.2999 - val_loss: 49916.2734 - val_mae: 93.9964\n",
            "Epoch 51/100\n",
            "187/187 [==============================] - 4s 20ms/step - loss: 102201.7109 - mae: 171.6293 - val_loss: 57566.4531 - val_mae: 100.8588\n",
            "Epoch 52/100\n",
            "187/187 [==============================] - 4s 20ms/step - loss: 111118.8750 - mae: 173.9722 - val_loss: 56763.3828 - val_mae: 100.8274\n",
            "Epoch 53/100\n",
            "187/187 [==============================] - 4s 20ms/step - loss: 112324.2656 - mae: 174.3777 - val_loss: 78415.9219 - val_mae: 113.7187\n",
            "Epoch 54/100\n",
            "187/187 [==============================] - 4s 20ms/step - loss: 112224.2969 - mae: 173.0216 - val_loss: 54847.7266 - val_mae: 98.9363\n",
            "Epoch 55/100\n",
            "187/187 [==============================] - 4s 20ms/step - loss: 117469.1797 - mae: 173.2814 - val_loss: 52481.8164 - val_mae: 105.2855\n",
            "Epoch 56/100\n",
            "187/187 [==============================] - 4s 20ms/step - loss: 105442.7812 - mae: 173.4989 - val_loss: 59427.3828 - val_mae: 100.7662\n",
            "Epoch 57/100\n",
            "187/187 [==============================] - 4s 20ms/step - loss: 99325.4297 - mae: 171.1317 - val_loss: 56889.4844 - val_mae: 92.8302\n",
            "Epoch 58/100\n",
            "187/187 [==============================] - 4s 20ms/step - loss: 104042.9219 - mae: 170.8119 - val_loss: 46301.6016 - val_mae: 79.6000\n",
            "Epoch 59/100\n",
            "187/187 [==============================] - 4s 20ms/step - loss: 92976.0625 - mae: 171.2083 - val_loss: 59888.2344 - val_mae: 95.8454\n",
            "Epoch 60/100\n",
            "187/187 [==============================] - 4s 20ms/step - loss: 97573.0391 - mae: 169.5331 - val_loss: 56853.0938 - val_mae: 116.6799\n",
            "Epoch 61/100\n",
            "187/187 [==============================] - 4s 20ms/step - loss: 109207.0625 - mae: 170.4350 - val_loss: 49335.1445 - val_mae: 96.0471\n",
            "Epoch 62/100\n",
            "187/187 [==============================] - 4s 20ms/step - loss: 101985.6094 - mae: 169.7320 - val_loss: 46984.8398 - val_mae: 95.2307\n",
            "Epoch 63/100\n",
            "187/187 [==============================] - 4s 20ms/step - loss: 105673.3203 - mae: 171.7156 - val_loss: 48880.6211 - val_mae: 97.4790\n",
            "Epoch 64/100\n",
            "187/187 [==============================] - 4s 21ms/step - loss: 103316.5312 - mae: 170.6400 - val_loss: 59360.6953 - val_mae: 103.7109\n",
            "Epoch 65/100\n",
            "187/187 [==============================] - 4s 20ms/step - loss: 112544.9219 - mae: 172.9423 - val_loss: 60171.9141 - val_mae: 115.2416\n",
            "Epoch 66/100\n",
            "187/187 [==============================] - 4s 20ms/step - loss: 114377.0078 - mae: 172.3360 - val_loss: 57294.5586 - val_mae: 89.7598\n",
            "Epoch 67/100\n",
            "187/187 [==============================] - 4s 20ms/step - loss: 105837.5391 - mae: 170.3772 - val_loss: 66226.7656 - val_mae: 110.8770\n",
            "Epoch 68/100\n",
            "187/187 [==============================] - 4s 20ms/step - loss: 100263.7188 - mae: 171.0595 - val_loss: 49277.6094 - val_mae: 90.0365\n",
            "Epoch 69/100\n",
            "187/187 [==============================] - 4s 20ms/step - loss: 126802.2891 - mae: 170.9715 - val_loss: 53104.3711 - val_mae: 97.2254\n",
            "Epoch 70/100\n",
            "187/187 [==============================] - 4s 20ms/step - loss: 111675.0312 - mae: 171.1353 - val_loss: 59480.8984 - val_mae: 125.6711\n",
            "Epoch 71/100\n",
            "187/187 [==============================] - 4s 20ms/step - loss: 104240.0312 - mae: 169.7885 - val_loss: 54301.7578 - val_mae: 98.7254\n",
            "Epoch 72/100\n",
            "187/187 [==============================] - 4s 20ms/step - loss: 103148.0781 - mae: 169.9208 - val_loss: 54185.2188 - val_mae: 88.6880\n",
            "Epoch 73/100\n",
            "187/187 [==============================] - 4s 20ms/step - loss: 104386.4844 - mae: 171.0373 - val_loss: 53316.6797 - val_mae: 95.4049\n",
            "Epoch 74/100\n",
            "187/187 [==============================] - 4s 20ms/step - loss: 98281.8438 - mae: 167.6294 - val_loss: 52018.4023 - val_mae: 103.2411\n",
            "Epoch 75/100\n",
            "187/187 [==============================] - 4s 20ms/step - loss: 106727.5156 - mae: 169.5234 - val_loss: 56858.1094 - val_mae: 98.8131\n",
            "Epoch 76/100\n",
            "187/187 [==============================] - 4s 20ms/step - loss: 103226.0000 - mae: 169.7660 - val_loss: 54000.5859 - val_mae: 92.3613\n",
            "Epoch 77/100\n",
            "187/187 [==============================] - 4s 20ms/step - loss: 105197.6250 - mae: 168.1991 - val_loss: 52108.0625 - val_mae: 97.4073\n",
            "Epoch 78/100\n",
            "187/187 [==============================] - 4s 20ms/step - loss: 107297.3672 - mae: 168.6631 - val_loss: 47537.4453 - val_mae: 93.8322\n",
            "Epoch 79/100\n",
            "187/187 [==============================] - 4s 20ms/step - loss: 101112.3516 - mae: 169.8625 - val_loss: 56544.7969 - val_mae: 101.9597\n",
            "Epoch 80/100\n",
            "187/187 [==============================] - 4s 20ms/step - loss: 107580.6719 - mae: 169.7337 - val_loss: 49555.4727 - val_mae: 89.7808\n",
            "Epoch 81/100\n",
            "187/187 [==============================] - 4s 20ms/step - loss: 96142.2266 - mae: 167.8681 - val_loss: 47448.8984 - val_mae: 90.1558\n",
            "Epoch 82/100\n",
            "187/187 [==============================] - 4s 20ms/step - loss: 106549.4219 - mae: 170.3085 - val_loss: 50253.6875 - val_mae: 95.8282\n",
            "Epoch 83/100\n",
            "187/187 [==============================] - 4s 20ms/step - loss: 98190.5469 - mae: 168.8900 - val_loss: 55700.9883 - val_mae: 97.6727\n",
            "Epoch 84/100\n",
            "187/187 [==============================] - 4s 20ms/step - loss: 105967.2500 - mae: 169.8517 - val_loss: 59015.8203 - val_mae: 116.4428\n",
            "Epoch 85/100\n",
            "187/187 [==============================] - 4s 20ms/step - loss: 108787.5781 - mae: 168.5321 - val_loss: 64522.8672 - val_mae: 115.4435\n",
            "Epoch 86/100\n",
            "187/187 [==============================] - 4s 20ms/step - loss: 104424.8984 - mae: 169.6127 - val_loss: 64391.8711 - val_mae: 99.3966\n",
            "Epoch 87/100\n",
            "187/187 [==============================] - 4s 20ms/step - loss: 106454.8594 - mae: 168.9466 - val_loss: 59683.9414 - val_mae: 122.3434\n",
            "Epoch 88/100\n",
            "187/187 [==============================] - 4s 20ms/step - loss: 97257.6016 - mae: 168.9246 - val_loss: 50183.8008 - val_mae: 99.7812\n",
            "Epoch 89/100\n",
            "187/187 [==============================] - 4s 20ms/step - loss: 94259.5078 - mae: 167.7681 - val_loss: 55942.5664 - val_mae: 88.3182\n",
            "Epoch 90/100\n",
            "187/187 [==============================] - 4s 20ms/step - loss: 107015.3984 - mae: 169.7297 - val_loss: 61338.0781 - val_mae: 90.7861\n",
            "Epoch 91/100\n",
            "187/187 [==============================] - 4s 20ms/step - loss: 109507.9531 - mae: 169.8766 - val_loss: 53589.6211 - val_mae: 96.3280\n",
            "Epoch 92/100\n",
            "187/187 [==============================] - 4s 20ms/step - loss: 91783.4922 - mae: 166.7218 - val_loss: 48617.1250 - val_mae: 91.9615\n",
            "Epoch 93/100\n",
            "187/187 [==============================] - 4s 20ms/step - loss: 106266.6094 - mae: 169.8920 - val_loss: 54564.3750 - val_mae: 94.3582\n",
            "Epoch 94/100\n",
            "187/187 [==============================] - 4s 20ms/step - loss: 102345.9688 - mae: 168.6769 - val_loss: 48043.5586 - val_mae: 83.8300\n",
            "Epoch 95/100\n",
            "187/187 [==============================] - 4s 20ms/step - loss: 108422.4844 - mae: 168.6241 - val_loss: 47655.6641 - val_mae: 80.2050\n",
            "Epoch 96/100\n",
            "187/187 [==============================] - 4s 20ms/step - loss: 96956.1328 - mae: 168.2788 - val_loss: 55507.1055 - val_mae: 103.4591\n",
            "Epoch 97/100\n",
            "187/187 [==============================] - 4s 20ms/step - loss: 101999.3672 - mae: 168.0889 - val_loss: 63619.4609 - val_mae: 85.2123\n",
            "Epoch 98/100\n",
            "187/187 [==============================] - 4s 20ms/step - loss: 114057.4609 - mae: 170.3468 - val_loss: 57891.2148 - val_mae: 119.0115\n",
            "Epoch 99/100\n",
            "187/187 [==============================] - 4s 20ms/step - loss: 93741.6719 - mae: 165.9071 - val_loss: 63257.6172 - val_mae: 99.9459\n",
            "Epoch 100/100\n",
            "187/187 [==============================] - 4s 20ms/step - loss: 100541.5000 - mae: 167.2583 - val_loss: 62885.9805 - val_mae: 122.0544\n"
          ]
        },
        {
          "output_type": "display_data",
          "data": {
            "image/png": "[encoded data removed]",
            "text/plain": [
              "<Figure size 432x288 with 1 Axes>"
            ]
          },
          "metadata": {
            "needs_background": "light"
          }
        }
      ]
    },
    {
      "cell_type": "code",
      "source": [
        "eval_net(model_final, [OH_X_train, model_processed_train], y_train)"
      ],
      "metadata": {
        "colab": {
          "base_uri": "https://localhost:8080/",
          "height": 596
        },
        "id": "sj86SBq-2oj4",
        "outputId": "aabf2221-8450-42c6-dc02-04b8cdbd3e79"
      },
      "execution_count": null,
      "outputs": [
        {
          "output_type": "stream",
          "name": "stdout",
          "text": [
            "Средняя абсолютная ошибка: 117.37459805632406 \n",
            "\n",
            "Реальное значение: 550.00 Предсказанное значение: 412.67 Разница: 137.33\n",
            "Реальное значение: 283.30 Предсказанное значение: 219.40 Разница:  63.89\n",
            "Реальное значение: 510.00 Предсказанное значение: 429.64 Разница:  80.36\n",
            "Реальное значение: 290.00 Предсказанное значение: 216.87 Разница:  73.13\n",
            "Реальное значение: 330.00 Предсказанное значение: 280.68 Разница:  49.32\n",
            "Реальное значение: 200.00 Предсказанное значение: 138.13 Разница:  61.87\n",
            "Реальное значение: 490.00 Предсказанное значение: 408.36 Разница:  81.64\n",
            "Реальное значение: 300.00 Предсказанное значение: 220.67 Разница:  79.33\n",
            "Реальное значение: 449.00 Предсказанное значение: 364.29 Разница:  84.71\n",
            "Реальное значение: 260.00 Предсказанное значение: 189.61 Разница:  70.39\n"
          ]
        },
        {
          "output_type": "display_data",
          "data": {
            "image/png": "[encoded data removed]",
            "text/plain": [
              "<Figure size 432x432 with 1 Axes>"
            ]
          },
          "metadata": {
            "needs_background": "light"
          }
        }
      ]
    },
    {
      "cell_type": "markdown",
      "source": [
        "## Second model process all variables at once"
      ],
      "metadata": {
        "id": "iDV5gnzU7tMG"
      }
    },
    {
      "cell_type": "code",
      "source": [
        "# add suffix to columns names to keep them unique after the concatenation \n",
        "OH_X_train = OH_X_train.add_suffix('_first')\n",
        "\n",
        "# # Add bag of the word to the initial df\n",
        "OH_X_train = pd.concat([OH_X_train.reset_index(),\n",
        "                        pd.DataFrame(model_processed_train)], axis=1)"
      ],
      "metadata": {
        "id": "_apYBQ-l7joQ"
      },
      "execution_count": null,
      "outputs": []
    },
    {
      "cell_type": "code",
      "source": [
        "# Обучение модели на простых данных\n",
        "model_prof = Sequential()\n",
        "model_prof.add(Dense(20, activation='relu', input_dim=OH_X_train.shape[1]))\n",
        "model_prof.add(Dense(500, activation='relu'))\n",
        "model_prof.add(Dropout(0.3))\n",
        "model_prof.add(Dense(750, activation='relu'))\n",
        "model_prof.add(Dense(1, activation='linear'))\n",
        "\n",
        "model_prof.compile(optimizer=Adam(learning_rate=0.0007),\n",
        "                   loss='mse',\n",
        "                   metrics=['mae'])\n",
        "\n",
        "history = model_prof.fit(OH_X_train, \n",
        "                    y_train, \n",
        "                    batch_size=256,\n",
        "                    epochs=50, \n",
        "                    validation_split=0.15, \n",
        "                    verbose=1)\n",
        "\n",
        "plot_history(history)"
      ],
      "metadata": {
        "colab": {
          "base_uri": "https://localhost:8080/",
          "height": 1000
        },
        "id": "amIAlInb6abV",
        "outputId": "ad03a728-7591-4c9e-92a0-ac5ba962cd9f"
      },
      "execution_count": null,
      "outputs": [
        {
          "output_type": "stream",
          "name": "stdout",
          "text": [
            "Epoch 1/50\n",
            "187/187 [==============================] - 5s 24ms/step - loss: 456293.2812 - mae: 394.5261 - val_loss: 477096.2500 - val_mae: 372.2488\n",
            "Epoch 2/50\n",
            "187/187 [==============================] - 4s 22ms/step - loss: 445495.6250 - mae: 384.9677 - val_loss: 470385.8125 - val_mae: 382.7751\n",
            "Epoch 3/50\n",
            "187/187 [==============================] - 4s 22ms/step - loss: 445662.2812 - mae: 384.7856 - val_loss: 472629.0938 - val_mae: 373.9150\n",
            "Epoch 4/50\n",
            "187/187 [==============================] - 4s 22ms/step - loss: 443658.6250 - mae: 383.1697 - val_loss: 473438.9375 - val_mae: 371.1058\n",
            "Epoch 5/50\n",
            "187/187 [==============================] - 4s 22ms/step - loss: 443094.0312 - mae: 382.7713 - val_loss: 470291.1250 - val_mae: 370.2326\n",
            "Epoch 6/50\n",
            "187/187 [==============================] - 4s 22ms/step - loss: 442099.4062 - mae: 382.1010 - val_loss: 468553.9688 - val_mae: 380.1360\n",
            "Epoch 7/50\n",
            "187/187 [==============================] - 4s 22ms/step - loss: 441691.7500 - mae: 382.0354 - val_loss: 469790.5312 - val_mae: 373.0187\n",
            "Epoch 8/50\n",
            "187/187 [==============================] - 4s 22ms/step - loss: 441112.2812 - mae: 381.0959 - val_loss: 467662.7812 - val_mae: 388.0103\n",
            "Epoch 9/50\n",
            "187/187 [==============================] - 4s 22ms/step - loss: 439904.4375 - mae: 380.9248 - val_loss: 468033.4375 - val_mae: 371.6194\n",
            "Epoch 10/50\n",
            "187/187 [==============================] - 4s 22ms/step - loss: 439464.7500 - mae: 379.8841 - val_loss: 465487.3125 - val_mae: 392.8664\n",
            "Epoch 11/50\n",
            "187/187 [==============================] - 4s 22ms/step - loss: 440725.8750 - mae: 380.9220 - val_loss: 465568.4375 - val_mae: 380.7413\n",
            "Epoch 12/50\n",
            "187/187 [==============================] - 4s 22ms/step - loss: 438754.5625 - mae: 379.4749 - val_loss: 463384.2812 - val_mae: 380.5275\n",
            "Epoch 13/50\n",
            "187/187 [==============================] - 4s 22ms/step - loss: 436850.3750 - mae: 378.1924 - val_loss: 465314.4375 - val_mae: 362.5244\n",
            "Epoch 14/50\n",
            "187/187 [==============================] - 4s 21ms/step - loss: 434867.0000 - mae: 376.2575 - val_loss: 459346.4062 - val_mae: 366.2724\n",
            "Epoch 15/50\n",
            "187/187 [==============================] - 4s 22ms/step - loss: 428564.4062 - mae: 371.2791 - val_loss: 440730.0000 - val_mae: 365.0843\n",
            "Epoch 16/50\n",
            "187/187 [==============================] - 4s 22ms/step - loss: 403050.6250 - mae: 350.4772 - val_loss: 380751.6875 - val_mae: 302.4816\n",
            "Epoch 17/50\n",
            "187/187 [==============================] - 4s 21ms/step - loss: 345661.7812 - mae: 310.1187 - val_loss: 335173.8125 - val_mae: 251.4816\n",
            "Epoch 18/50\n",
            "187/187 [==============================] - 4s 22ms/step - loss: 326402.0312 - mae: 304.6613 - val_loss: 289895.7188 - val_mae: 270.1542\n",
            "Epoch 19/50\n",
            "187/187 [==============================] - 4s 22ms/step - loss: 303140.8438 - mae: 290.7242 - val_loss: 306189.4688 - val_mae: 246.8684\n",
            "Epoch 20/50\n",
            "187/187 [==============================] - 4s 21ms/step - loss: 277812.4375 - mae: 274.2047 - val_loss: 276646.8125 - val_mae: 240.3036\n",
            "Epoch 21/50\n",
            "187/187 [==============================] - 4s 22ms/step - loss: 265478.8438 - mae: 266.3201 - val_loss: 268232.6250 - val_mae: 238.4445\n",
            "Epoch 22/50\n",
            "187/187 [==============================] - 4s 21ms/step - loss: 254562.4844 - mae: 256.3852 - val_loss: 258561.9531 - val_mae: 226.8270\n",
            "Epoch 23/50\n",
            "187/187 [==============================] - 4s 22ms/step - loss: 258965.1719 - mae: 260.0961 - val_loss: 273061.8125 - val_mae: 229.3546\n",
            "Epoch 24/50\n",
            "187/187 [==============================] - 4s 22ms/step - loss: 251605.2031 - mae: 254.6392 - val_loss: 249796.2344 - val_mae: 244.5795\n",
            "Epoch 25/50\n",
            "187/187 [==============================] - 4s 22ms/step - loss: 249135.1250 - mae: 256.5326 - val_loss: 257672.0781 - val_mae: 223.3425\n",
            "Epoch 26/50\n",
            "187/187 [==============================] - 4s 22ms/step - loss: 228151.0938 - mae: 237.9406 - val_loss: 253024.1875 - val_mae: 263.8156\n",
            "Epoch 27/50\n",
            "187/187 [==============================] - 4s 22ms/step - loss: 239242.3906 - mae: 248.0159 - val_loss: 247050.5312 - val_mae: 215.5379\n",
            "Epoch 28/50\n",
            "187/187 [==============================] - 4s 22ms/step - loss: 231009.4375 - mae: 243.4221 - val_loss: 268682.0312 - val_mae: 229.4569\n",
            "Epoch 29/50\n",
            "187/187 [==============================] - 5s 28ms/step - loss: 230783.5312 - mae: 245.4601 - val_loss: 235281.0156 - val_mae: 226.3120\n",
            "Epoch 30/50\n",
            "187/187 [==============================] - 4s 24ms/step - loss: 215979.0625 - mae: 232.1790 - val_loss: 291704.3750 - val_mae: 249.1479\n",
            "Epoch 31/50\n",
            "187/187 [==============================] - 4s 21ms/step - loss: 217173.0312 - mae: 235.9856 - val_loss: 260241.5000 - val_mae: 223.8794\n",
            "Epoch 32/50\n",
            "187/187 [==============================] - 4s 22ms/step - loss: 222879.7500 - mae: 239.1383 - val_loss: 219427.3438 - val_mae: 204.6001\n",
            "Epoch 33/50\n",
            "187/187 [==============================] - 4s 22ms/step - loss: 212636.4844 - mae: 233.2377 - val_loss: 216911.1250 - val_mae: 204.0067\n",
            "Epoch 34/50\n",
            "187/187 [==============================] - 4s 22ms/step - loss: 194228.2500 - mae: 214.5788 - val_loss: 213849.3906 - val_mae: 199.3778\n",
            "Epoch 35/50\n",
            "187/187 [==============================] - 4s 22ms/step - loss: 208995.3125 - mae: 230.4273 - val_loss: 210878.4219 - val_mae: 202.5769\n",
            "Epoch 36/50\n",
            "187/187 [==============================] - 4s 22ms/step - loss: 200987.6250 - mae: 225.5847 - val_loss: 212051.9375 - val_mae: 205.2107\n",
            "Epoch 37/50\n",
            "187/187 [==============================] - 4s 21ms/step - loss: 200104.6719 - mae: 221.3488 - val_loss: 303476.4062 - val_mae: 266.5374\n",
            "Epoch 38/50\n",
            "187/187 [==============================] - 4s 22ms/step - loss: 236472.7031 - mae: 249.7991 - val_loss: 243901.4531 - val_mae: 218.3774\n",
            "Epoch 39/50\n",
            "187/187 [==============================] - 4s 22ms/step - loss: 211429.8594 - mae: 235.9151 - val_loss: 246390.9219 - val_mae: 219.2445\n",
            "Epoch 40/50\n",
            "187/187 [==============================] - 4s 22ms/step - loss: 198101.7344 - mae: 225.5944 - val_loss: 203470.5000 - val_mae: 191.2063\n",
            "Epoch 41/50\n",
            "187/187 [==============================] - 4s 22ms/step - loss: 198688.7344 - mae: 223.5462 - val_loss: 195543.4375 - val_mae: 193.1141\n",
            "Epoch 42/50\n",
            "187/187 [==============================] - 4s 22ms/step - loss: 180835.3906 - mae: 207.0019 - val_loss: 262635.9375 - val_mae: 228.9078\n",
            "Epoch 43/50\n",
            "187/187 [==============================] - 4s 22ms/step - loss: 208126.4375 - mae: 233.4984 - val_loss: 229887.2812 - val_mae: 221.0117\n",
            "Epoch 44/50\n",
            "187/187 [==============================] - 4s 22ms/step - loss: 192838.3281 - mae: 220.7980 - val_loss: 193051.1875 - val_mae: 189.5325\n",
            "Epoch 45/50\n",
            "187/187 [==============================] - 4s 22ms/step - loss: 201409.7188 - mae: 230.0597 - val_loss: 196493.4219 - val_mae: 183.7877\n",
            "Epoch 46/50\n",
            "187/187 [==============================] - 4s 22ms/step - loss: 179909.4688 - mae: 210.4757 - val_loss: 199527.6094 - val_mae: 223.4066\n",
            "Epoch 47/50\n",
            "187/187 [==============================] - 4s 22ms/step - loss: 206970.8281 - mae: 227.8870 - val_loss: 261786.2656 - val_mae: 285.2178\n",
            "Epoch 48/50\n",
            "187/187 [==============================] - 4s 22ms/step - loss: 184206.7812 - mae: 215.4511 - val_loss: 243336.4219 - val_mae: 300.6885\n",
            "Epoch 49/50\n",
            "187/187 [==============================] - 4s 22ms/step - loss: 194791.4062 - mae: 227.8174 - val_loss: 195872.3906 - val_mae: 229.3667\n",
            "Epoch 50/50\n",
            "187/187 [==============================] - 4s 21ms/step - loss: 186809.8125 - mae: 217.6091 - val_loss: 203164.0156 - val_mae: 239.0487\n"
          ]
        },
        {
          "output_type": "display_data",
          "data": {
            "image/png": "[encoded data removed]",
            "text/plain": [
              "<Figure size 432x288 with 1 Axes>"
            ]
          },
          "metadata": {
            "needs_background": "light"
          }
        }
      ]
    },
    {
      "cell_type": "code",
      "source": [
        "eval_net(model_prof, OH_X_train, y_train)"
      ],
      "metadata": {
        "colab": {
          "base_uri": "https://localhost:8080/",
          "height": 596
        },
        "id": "Ovvu7BgqUuLV",
        "outputId": "ad27afbc-23ed-4bda-8717-d833ffb866ed"
      },
      "execution_count": null,
      "outputs": [
        {
          "output_type": "stream",
          "name": "stdout",
          "text": [
            "Средняя абсолютная ошибка: 235.0123692264771 \n",
            "\n",
            "Реальное значение: 550.00 Предсказанное значение: 426.96 Разница: 123.04\n",
            "Реальное значение: 283.30 Предсказанное значение: 125.46 Разница: 157.83\n",
            "Реальное значение: 510.00 Предсказанное значение: 830.32 Разница: 320.32\n",
            "Реальное значение: 290.00 Предсказанное значение: 516.38 Разница: 226.38\n",
            "Реальное значение: 330.00 Предсказанное значение: 387.20 Разница:  57.20\n",
            "Реальное значение: 200.00 Предсказанное значение: 484.57 Разница: 284.57\n",
            "Реальное значение: 490.00 Предсказанное значение: 631.47 Разница: 141.47\n",
            "Реальное значение: 300.00 Предсказанное значение: 407.78 Разница: 107.78\n",
            "Реальное значение: 449.00 Предсказанное значение: 801.75 Разница: 352.75\n",
            "Реальное значение: 260.00 Предсказанное значение: 230.63 Разница:  29.37\n"
          ]
        },
        {
          "output_type": "display_data",
          "data": {
            "image/png": "[encoded data removed]",
            "text/plain": [
              "<Figure size 432x432 with 1 Axes>"
            ]
          },
          "metadata": {
            "needs_background": "light"
          }
        }
      ]
    },
    {
      "cell_type": "code",
      "source": [
        ""
      ],
      "metadata": {
        "id": "A3k2NvQ9X03C"
      },
      "execution_count": null,
      "outputs": []
    }
  ]
}