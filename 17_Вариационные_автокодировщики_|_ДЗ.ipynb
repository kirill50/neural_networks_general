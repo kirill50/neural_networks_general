{
  "nbformat": 4,
  "nbformat_minor": 0,
  "metadata": {
    "colab": {
      "provenance": []
    },
    "kernelspec": {
      "name": "python3",
      "display_name": "Python 3"
    },
    "language_info": {
      "name": "python"
    }
  },
  "cells": [
    {
      "cell_type": "markdown",
      "metadata": {
        "id": "nde1jT2_lxE5"
      },
      "source": [
        "# Задание 1"
      ]
    },
    {
      "cell_type": "markdown",
      "metadata": {
        "id": "_3EhLLpsl1yE"
      },
      "source": [
        "### Импортируем модули для разработки автокодировщиков"
      ]
    },
    {
      "cell_type": "code",
      "metadata": {
        "id": "mhbcFZjmln3v"
      },
      "source": [
        "# Подключим Numpy\n",
        "import numpy as np\n",
        "\n",
        "# Подключим библиотеку отображения графиков\n",
        "import matplotlib.pyplot as plt\n",
        "\n",
        "# Подключим датасет рукописных цифр MNIST\n",
        "from tensorflow.keras.datasets import mnist\n",
        "\n",
        "# Импортируем Keras\n",
        "from tensorflow import keras\n",
        "\n",
        "# Подключим все необходимые слои Keras\n",
        "from tensorflow.keras.layers import Dense, Flatten, Reshape, Input, Lambda, LeakyReLU\n",
        "from tensorflow.keras.layers import BatchNormalization, Dropout, concatenate, Conv2D, Conv2DTranspose\n",
        "\n",
        "# Подключим модуль вычислений на Keras\n",
        "import keras.backend as K"
      ],
      "execution_count": null,
      "outputs": []
    },
    {
      "cell_type": "markdown",
      "metadata": {
        "id": "ftBw9WgFmN00"
      },
      "source": [
        "# Задание 2"
      ]
    },
    {
      "cell_type": "markdown",
      "metadata": {
        "id": "xk6Swhi-mRv4"
      },
      "source": [
        "Создадим вариационный автокодировщик для генерации рукописных цифр. В качестве обучающего датасета возьмем набор цифр MNIST. Размер изображнения 28х28, градации серого. Допустим, что изображения уже подготовлены, а именно выполнен решейп изображений, значения пикселей приведены к диапазону [0...1]. В работе пользуйтесь техникой функционального программирования. Размерность скрытого пространства =3"
      ]
    },
    {
      "cell_type": "markdown",
      "metadata": {
        "id": "0-dQzb91mh_l"
      },
      "source": [
        "## 2.1 Создайте энкодер"
      ]
    },
    {
      "cell_type": "markdown",
      "metadata": {
        "id": "EPhqg43GnZRb"
      },
      "source": [
        "Напишем входной слой энкодера. Назовем вход энкодера - \"input_img\". Размерность входного тензора (28, 28, 1)"
      ]
    },
    {
      "cell_type": "code",
      "metadata": {
        "id": "VBwtusdMnv6c"
      },
      "source": [
        "input_img = Input(shape=(28, 28, 1)) "
      ],
      "execution_count": null,
      "outputs": []
    },
    {
      "cell_type": "markdown",
      "metadata": {
        "id": "NDJD6R8Hnwmg"
      },
      "source": [
        "Добавим слой Flatten"
      ]
    },
    {
      "cell_type": "code",
      "metadata": {
        "id": "SMgnJ_k8n4Cg"
      },
      "source": [
        "x = Flatten()(input_img)  "
      ],
      "execution_count": null,
      "outputs": []
    },
    {
      "cell_type": "markdown",
      "metadata": {
        "id": "eNKPSgLRoNmj"
      },
      "source": [
        "Добавим Dense слой с параметрами: 256 нейронов, функция активации \"relu\""
      ]
    },
    {
      "cell_type": "code",
      "metadata": {
        "id": "Bm7GSJrbobQC"
      },
      "source": [
        "x = Dense(256,activation='relu')(x)"
      ],
      "execution_count": null,
      "outputs": []
    },
    {
      "cell_type": "markdown",
      "metadata": {
        "id": "tdBkeu3PoqFV"
      },
      "source": [
        "Добавим Dense слой с параметрами: 16 нейронов, функция активации \"relu\""
      ]
    },
    {
      "cell_type": "code",
      "metadata": {
        "id": "GnfbdtOdooQB"
      },
      "source": [
        "x = Dense(16,activation='relu')(x)"
      ],
      "execution_count": null,
      "outputs": []
    },
    {
      "cell_type": "markdown",
      "metadata": {
        "id": "YwjMy1Xhot6_"
      },
      "source": [
        "Добавим выходной Dense слой с параметрами число нейронов равно размерности скрытого постранства, функция активации \"linear\". Назовем выход энкодера - h"
      ]
    },
    {
      "cell_type": "code",
      "metadata": {
        "id": "Xtz-7kAqpCct"
      },
      "source": [
        "h = Dense(3,activation='linear')(x)"
      ],
      "execution_count": null,
      "outputs": []
    },
    {
      "cell_type": "markdown",
      "metadata": {
        "id": "FE8-Svct4vJz"
      },
      "source": [
        "Подключим параллельно ко выходу энкодера 2 dense слоя для оценки мат.ожидания и логарифма дисперсии. Выходы слоев назовем z_mean и z_log_var."
      ]
    },
    {
      "cell_type": "code",
      "metadata": {
        "id": "PYgTTgCp7x8v"
      },
      "source": [
        "z_mean = Dense(3)(h)       \n",
        "z_log_var = Dense(3)(h)     "
      ],
      "execution_count": null,
      "outputs": []
    },
    {
      "cell_type": "markdown",
      "metadata": {
        "id": "Ml_8HqaW8Wgc"
      },
      "source": [
        "Создадим функцию - генератор тензоров из нормальных случайных чисел с заданным мат.ожидаением и дисперсией. Функцию принимает на вход список параметров args. \n",
        "Функция назовем noiser(). Функция содержит 4 строки. Далее построчно:\n",
        "\n",
        "1. Разделим список args на отдельные параметры z_mean и z_log_var\n",
        "2. Заполним случайный тензор размерностью [K.shape(z_mean)[0], hidden dim] = [32,3] нормальным случайными числами с нулевым мат.ожидание и единичной дисперсией\n",
        "3. Изменим дисперсию чисел в тензоре домножением на K.exp(z_log_var / 2), добавим мат.ожидание. Здесь необходимо пользоваться математикой от keras- backend.\n",
        "4. Вернем полученный тензор"
      ]
    },
    {
      "cell_type": "code",
      "metadata": {
        "id": "_3Yb1E7E84AK"
      },
      "source": [
        "def noiser(args):\n",
        "  z_mean, z_log_var = args\n",
        "  N = K.random_normal(shape=(K.shape(z_mean)[0], 3), mean=0., stddev=1.0)\n",
        "  N = K.exp(z_log_var / 2) * N + z_mean \n",
        "  return N"
      ],
      "execution_count": null,
      "outputs": []
    },
    {
      "cell_type": "markdown",
      "metadata": {
        "id": "cJdzJcsh_Syr"
      },
      "source": [
        "Напишем lambda слой - генератор случайных тензоров. На вход принимает список [z_mean, z_log_var], исполняемая функия noiser. Выход функции назовем h"
      ]
    },
    {
      "cell_type": "code",
      "metadata": {
        "id": "_MCxKj4m-uBe"
      },
      "source": [
        "h = Lambda(noiser, output_shape=(3,))([z_mean, z_log_var])"
      ],
      "execution_count": null,
      "outputs": []
    },
    {
      "cell_type": "markdown",
      "metadata": {
        "id": "kswrewAFvsc-"
      },
      "source": [
        "Соберем модель энкодера методом keras.Model(). Вход - input_img. Выходы - [z_mean, z_log_var, h]"
      ]
    },
    {
      "cell_type": "code",
      "metadata": {
        "id": "j02xe3TKwHVb"
      },
      "source": [
        "encoder = keras.Model(input_img, [z_mean, z_log_var, h]) "
      ],
      "execution_count": null,
      "outputs": []
    },
    {
      "cell_type": "markdown",
      "metadata": {
        "id": "Ta671WaHwSdP"
      },
      "source": [
        "## 2.2 Создайте декодер"
      ]
    },
    {
      "cell_type": "markdown",
      "metadata": {
        "id": "9i7ro-mwweaO"
      },
      "source": [
        "Напишем входной слой Input декодера. Назовем вход - \"input_enc\". Размерность входного тензора равна размерность скрытого пространства - (3,)"
      ]
    },
    {
      "cell_type": "code",
      "metadata": {
        "id": "XCxSyHXOwuQf"
      },
      "source": [
        "input_enc = Input(shape=(3,))  "
      ],
      "execution_count": null,
      "outputs": []
    },
    {
      "cell_type": "markdown",
      "metadata": {
        "id": "5hWi7K2hxoRi"
      },
      "source": [
        "Добавим Dense слой с параметрами: 16 нейронов, функция активации \"relu\""
      ]
    },
    {
      "cell_type": "code",
      "metadata": {
        "id": "uLa_h2S_wiMM"
      },
      "source": [
        "x = Dense(16,activation='relu')(input_enc)"
      ],
      "execution_count": null,
      "outputs": []
    },
    {
      "cell_type": "markdown",
      "metadata": {
        "id": "cWu23UOzxttz"
      },
      "source": [
        "Добавим Dense слой с параметрами: 784 нейронов, функция активации \"relu\""
      ]
    },
    {
      "cell_type": "code",
      "metadata": {
        "id": "-2P8UJ5LyCob"
      },
      "source": [
        "x = Dense(784,activation='relu')(x)"
      ],
      "execution_count": null,
      "outputs": []
    },
    {
      "cell_type": "markdown",
      "metadata": {
        "id": "BXiO3OXbyGlB"
      },
      "source": [
        "Выполним изменение размерности тензора до исходной - (28, 28, 1). Выход слоя назовите \"decoded\""
      ]
    },
    {
      "cell_type": "code",
      "metadata": {
        "id": "3SGsYGyTyWUY"
      },
      "source": [
        "decoded = Reshape((28, 28, 1))(x)"
      ],
      "execution_count": null,
      "outputs": []
    },
    {
      "cell_type": "markdown",
      "metadata": {
        "id": "UcGpWfxRym1V"
      },
      "source": [
        "Соберем модель декодера keras.Model(). Вход \"input_enc', выход \"decoded\"."
      ]
    },
    {
      "cell_type": "code",
      "metadata": {
        "id": "n0PF0a-IzDO2"
      },
      "source": [
        "decoder = keras.Model(input_enc, decoded)  "
      ],
      "execution_count": null,
      "outputs": []
    },
    {
      "cell_type": "markdown",
      "metadata": {
        "id": "3HefV7ENy1cB"
      },
      "source": [
        "Соберем модель AE целиком, из готового энкодера и декодера. Не забудем, что на вход декодера подается только один, а именно последный выход энкодера. Для сборки используем метод keras.Model()"
      ]
    },
    {
      "cell_type": "code",
      "metadata": {
        "id": "6UPx1eBxy_PJ"
      },
      "source": [
        "autoencoder = keras.Model(input_img, decoder(encoder(input_img)[2]))"
      ],
      "execution_count": null,
      "outputs": []
    },
    {
      "cell_type": "markdown",
      "metadata": {
        "id": "A-mFzYC_GqWn"
      },
      "source": [
        "С помощью метода .summary() выведем на экран структуру энкодера."
      ]
    },
    {
      "cell_type": "code",
      "metadata": {
        "colab": {
          "base_uri": "https://localhost:8080/"
        },
        "id": "T4omttTDTALZ",
        "outputId": "5c754f81-26f3-422a-9a72-7fd07aa777a7"
      },
      "source": [
        "encoder.summary()"
      ],
      "execution_count": null,
      "outputs": [
        {
          "output_type": "stream",
          "name": "stdout",
          "text": [
            "Model: \"model\"\n",
            "__________________________________________________________________________________________________\n",
            "Layer (type)                    Output Shape         Param #     Connected to                     \n",
            "==================================================================================================\n",
            "input_1 (InputLayer)            [(None, 28, 28, 1)]  0                                            \n",
            "__________________________________________________________________________________________________\n",
            "flatten (Flatten)               (None, 784)          0           input_1[0][0]                    \n",
            "__________________________________________________________________________________________________\n",
            "dense (Dense)                   (None, 256)          200960      flatten[0][0]                    \n",
            "__________________________________________________________________________________________________\n",
            "dense_1 (Dense)                 (None, 16)           4112        dense[0][0]                      \n",
            "__________________________________________________________________________________________________\n",
            "dense_2 (Dense)                 (None, 3)            51          dense_1[0][0]                    \n",
            "__________________________________________________________________________________________________\n",
            "dense_3 (Dense)                 (None, 3)            12          dense_2[0][0]                    \n",
            "__________________________________________________________________________________________________\n",
            "dense_4 (Dense)                 (None, 3)            12          dense_2[0][0]                    \n",
            "__________________________________________________________________________________________________\n",
            "lambda (Lambda)                 (None, 3)            0           dense_3[0][0]                    \n",
            "                                                                 dense_4[0][0]                    \n",
            "==================================================================================================\n",
            "Total params: 205,147\n",
            "Trainable params: 205,147\n",
            "Non-trainable params: 0\n",
            "__________________________________________________________________________________________________\n"
          ]
        }
      ]
    },
    {
      "cell_type": "markdown",
      "metadata": {
        "id": "IaZp3QE4G6xQ"
      },
      "source": [
        "С помощью метода .summary() выведем на экран структуру декодера."
      ]
    },
    {
      "cell_type": "code",
      "metadata": {
        "colab": {
          "base_uri": "https://localhost:8080/"
        },
        "id": "TI8DzWB7G_Ce",
        "outputId": "a9ad7c6d-003a-4e85-efde-78872d883323"
      },
      "source": [
        "decoder.summary()"
      ],
      "execution_count": null,
      "outputs": [
        {
          "output_type": "stream",
          "name": "stdout",
          "text": [
            "Model: \"model_1\"\n",
            "_________________________________________________________________\n",
            "Layer (type)                 Output Shape              Param #   \n",
            "=================================================================\n",
            "input_2 (InputLayer)         [(None, 3)]               0         \n",
            "_________________________________________________________________\n",
            "dense_5 (Dense)              (None, 16)                64        \n",
            "_________________________________________________________________\n",
            "dense_6 (Dense)              (None, 784)               13328     \n",
            "_________________________________________________________________\n",
            "reshape (Reshape)            (None, 28, 28, 1)         0         \n",
            "=================================================================\n",
            "Total params: 13,392\n",
            "Trainable params: 13,392\n",
            "Non-trainable params: 0\n",
            "_________________________________________________________________\n"
          ]
        }
      ]
    },
    {
      "cell_type": "markdown",
      "metadata": {
        "id": "CaADEnTezVIb"
      },
      "source": [
        "# Задание 3"
      ]
    },
    {
      "cell_type": "markdown",
      "metadata": {
        "id": "hza74A3zz1jO"
      },
      "source": [
        "Создадим сверточный автокодирощик с условием для генерации цветных изображений. В качестве обучающего датасета возьмем CIFAR-10. Размер изображнения 32х32, цвет, 10 классов. Допустим, что изображения уже подготовлены,  значения пикселей приведены к диапазону [0...1]. Метки классов преобразованы в one-hot encoding. В работе пользуйемся техникой функционального программирования. Размерность скрытого пространства =8"
      ]
    },
    {
      "cell_type": "markdown",
      "metadata": {
        "id": "Wwt5NGgw2d4W"
      },
      "source": [
        "## 3.1 Создадим энкодер"
      ]
    },
    {
      "cell_type": "markdown",
      "metadata": {
        "id": "PeuItf9L2ISS"
      },
      "source": [
        "Напишем входной слой энкодера дя изображения. Назовем вход энкодера - input_img. Размерность входного тензора (32, 32,  3)"
      ]
    },
    {
      "cell_type": "code",
      "metadata": {
        "id": "R5gzGBAoT-ys"
      },
      "source": [
        "input_img = Input(shape=(32, 32, 3))"
      ],
      "execution_count": null,
      "outputs": []
    },
    {
      "cell_type": "markdown",
      "metadata": {
        "id": "xLisFaXk3Nz9"
      },
      "source": [
        "Добавим сверточный слой. Число нейронов - 128, ядро - 3, сохраняем размер слоя"
      ]
    },
    {
      "cell_type": "code",
      "metadata": {
        "id": "REhbvWRz3dJm"
      },
      "source": [
        "x = Conv2D(128, kernel_size=3, padding='same')(input_img)"
      ],
      "execution_count": null,
      "outputs": []
    },
    {
      "cell_type": "markdown",
      "metadata": {
        "id": "LW_-qJwS3nep"
      },
      "source": [
        "Добавим сверточный слой. Число нейронов - 64, ядро - 3, сохраняем размер слоя"
      ]
    },
    {
      "cell_type": "code",
      "metadata": {
        "id": "gBg1wRXE3rlQ"
      },
      "source": [
        "x = Conv2D(64, kernel_size=3, padding='same')(x)"
      ],
      "execution_count": null,
      "outputs": []
    },
    {
      "cell_type": "markdown",
      "metadata": {
        "id": "vZAMUwA_306y"
      },
      "source": [
        "Добавим 1 слой Flatten. Выход слоя назовем x"
      ]
    },
    {
      "cell_type": "code",
      "metadata": {
        "id": "KK-VJ8hP34E6"
      },
      "source": [
        "x = Flatten()(x)  "
      ],
      "execution_count": null,
      "outputs": []
    },
    {
      "cell_type": "markdown",
      "metadata": {
        "id": "lTT6kRx14UKk"
      },
      "source": [
        "Напишем входной слой энкодера для метки класса. Назовем вход энкодера - lb. Размерность входного тензора (10,)"
      ]
    },
    {
      "cell_type": "code",
      "metadata": {
        "id": "w7n7y6y_4UWU"
      },
      "source": [
        "lb = Input(shape=(10,)) "
      ],
      "execution_count": null,
      "outputs": []
    },
    {
      "cell_type": "markdown",
      "metadata": {
        "id": "liYz11DSRlre"
      },
      "source": [
        "Добавим слой конкатенации x и lb"
      ]
    },
    {
      "cell_type": "code",
      "metadata": {
        "id": "P5KuXt5QRmfZ"
      },
      "source": [
        "x = concatenate([x, lb])"
      ],
      "execution_count": null,
      "outputs": []
    },
    {
      "cell_type": "markdown",
      "metadata": {
        "id": "MDmc_-j2HDX2"
      },
      "source": [
        "Добавим Dense слой с параметрами: 125 нейронов, функция активации \"relu\""
      ]
    },
    {
      "cell_type": "code",
      "metadata": {
        "id": "VG-1U4c9HR0L"
      },
      "source": [
        "x = Dense(125,activation='relu')(x)"
      ],
      "execution_count": null,
      "outputs": []
    },
    {
      "cell_type": "markdown",
      "metadata": {
        "id": "XIVu1kvIHNJJ"
      },
      "source": [
        "Добавим Dense слой с параметрами: 8 нейронов, функция активации \"relu\""
      ]
    },
    {
      "cell_type": "code",
      "metadata": {
        "id": "cxtVurepHSgS"
      },
      "source": [
        "x = Dense(8, activation='relu')(x)"
      ],
      "execution_count": null,
      "outputs": []
    },
    {
      "cell_type": "markdown",
      "metadata": {
        "id": "IDqqbTdqHadF"
      },
      "source": [
        "Подключим к выходу энкодера 2 dense слоя для оценки мат.ожидания и логарифма дисперсии. Выходы слоев назовем z_mean и z_log_var."
      ]
    },
    {
      "cell_type": "code",
      "metadata": {
        "id": "s1gKwdS3HiCn"
      },
      "source": [
        "z_mean = Dense(8)(x)       \n",
        "z_log_var = Dense(8)(x)  "
      ],
      "execution_count": null,
      "outputs": []
    },
    {
      "cell_type": "markdown",
      "metadata": {
        "id": "LikFrQWvHu10"
      },
      "source": [
        "Создадим функцию - генератор тензоров из нормальных случайных чисел с заданным мат.ожидаением и дисперсией. Функцию принимает на вход список параметров args. \n",
        "Функция назовем noiser(). Функция содержит 4 строки. Далее построчно:\n",
        "\n",
        "1. Разделим список args на отдельные параметры z_mean и z_log_var\n",
        "2. Заполним случайный тензор размерностью [K.shape(z_mean)[0], hidden dim] = [32,3] нормальным случайными числами с нулевым мат.ожидание и единичной дисперсией\n",
        "3. Изменим дисперсию чисел в тензоре домножением на K.exp(z_log_var / 2), добавим мат.ожидание. Здесь необходимо пользоваться математикой от keras- backend.\n",
        "4. Вернем полученный тензор"
      ]
    },
    {
      "cell_type": "code",
      "metadata": {
        "id": "B__5qsarHvPE"
      },
      "source": [
        "def noiser(args):\n",
        "  z_mean, z_log_var = args\n",
        "  N = K.random_normal(shape=(K.shape(z_mean)[0], 8), mean=0., stddev=1.0)\n",
        "  N = K.exp(z_log_var / 2) * N + z_mean \n",
        "  return N"
      ],
      "execution_count": null,
      "outputs": []
    },
    {
      "cell_type": "markdown",
      "metadata": {
        "id": "fLr4_-AyIUlV"
      },
      "source": [
        "Напишем lambda слой - генератор случайных тензоров. На ход принимает список [z_mean, z_log_var], исполняемая функия noiser. Выход слоя назовем h"
      ]
    },
    {
      "cell_type": "code",
      "metadata": {
        "id": "JpF3Y4wUIeZD"
      },
      "source": [
        "h = Lambda(noiser, output_shape=(8,))([z_mean, z_log_var])"
      ],
      "execution_count": null,
      "outputs": []
    },
    {
      "cell_type": "markdown",
      "metadata": {
        "id": "ucmDAyRkImgq"
      },
      "source": [
        "Соберем модель энкодера методом keras.Model(). Вход - input_img. Выходы - [z_mean, z_log_var, h]"
      ]
    },
    {
      "cell_type": "code",
      "metadata": {
        "id": "Q7kMV-QuIqwM"
      },
      "source": [
        "encoder = keras.Model([input_img, lb ], [z_mean, z_log_var, h]) "
      ],
      "execution_count": null,
      "outputs": []
    },
    {
      "cell_type": "markdown",
      "metadata": {
        "id": "dNorcNfOJGT8"
      },
      "source": [
        "## 3.2 Создадим декодер"
      ]
    },
    {
      "cell_type": "markdown",
      "metadata": {
        "id": "EAQoSJ7gJLGy"
      },
      "source": [
        "Напишем входной слой Input декодера для точек скрытого пространства. Назовем вход - \"input_enc\". Размерность входного тензора равна размерность скрытого пространства - (8,)"
      ]
    },
    {
      "cell_type": "code",
      "metadata": {
        "id": "O3FRQFPgJNWp"
      },
      "source": [
        "input_enc = Input(shape=(8,))  "
      ],
      "execution_count": null,
      "outputs": []
    },
    {
      "cell_type": "markdown",
      "metadata": {
        "id": "BCfZCRQJMuAF"
      },
      "source": [
        "Напишем входной слой Input декодера для меток класса. Назовем вход - \"lb_dec \". Размерность входного тензора равна числу классов - (10,)"
      ]
    },
    {
      "cell_type": "code",
      "metadata": {
        "id": "6_e75ATkMuoi"
      },
      "source": [
        "lb_dec = Input(shape=(10,)) "
      ],
      "execution_count": null,
      "outputs": []
    },
    {
      "cell_type": "markdown",
      "metadata": {
        "id": "jWtzqC72NAnO"
      },
      "source": [
        "Добавим слой конкатенации input_enc и lb_dec\n",
        "\n"
      ]
    },
    {
      "cell_type": "code",
      "metadata": {
        "id": "_0AkYZ2RNAyn"
      },
      "source": [
        "x = concatenate([input_enc, lb_dec])"
      ],
      "execution_count": null,
      "outputs": []
    },
    {
      "cell_type": "markdown",
      "metadata": {
        "id": "sD-D32nONK9M"
      },
      "source": [
        "Добавим Dense слой с параметрами: 2048 нейронов, функция активации \"relu\""
      ]
    },
    {
      "cell_type": "code",
      "metadata": {
        "id": "IIdnmFjbNLEM"
      },
      "source": [
        "x = Dense(2048 ,activation='relu')(x)"
      ],
      "execution_count": null,
      "outputs": []
    },
    {
      "cell_type": "markdown",
      "metadata": {
        "id": "yJukSi9ROAQX"
      },
      "source": [
        "Выполним решейп до размерности [8,8,32]"
      ]
    },
    {
      "cell_type": "code",
      "metadata": {
        "id": "nGrtDjeFN_n7"
      },
      "source": [
        "x = Reshape((8, 8, 32))(x) "
      ],
      "execution_count": null,
      "outputs": []
    },
    {
      "cell_type": "markdown",
      "metadata": {
        "id": "bpmnNnoJOmfr"
      },
      "source": [
        "Добавим обратную свертку с параметрами: число нейронов 64, ядро 3, шаг = 2, padding='same', функция активации 'relu'"
      ]
    },
    {
      "cell_type": "code",
      "metadata": {
        "id": "DvJ4zFtXOkRn"
      },
      "source": [
        "x = Conv2DTranspose(64, kernel_size=3, strides= 2, padding='same',  activation='relu')(x) "
      ],
      "execution_count": null,
      "outputs": []
    },
    {
      "cell_type": "markdown",
      "metadata": {
        "id": "LSF0N7pGPKnC"
      },
      "source": [
        "Добавим обратную свертку с параметрами: число нейронов 64, ядро 3, шаг = 2, padding='same', функция активации 'relu'"
      ]
    },
    {
      "cell_type": "code",
      "metadata": {
        "id": "FNboBkZJPLkV"
      },
      "source": [
        "decoded = Conv2DTranspose(3, kernel_size=3, strides= 2, padding='same',  activation='relu')(x)"
      ],
      "execution_count": null,
      "outputs": []
    },
    {
      "cell_type": "markdown",
      "metadata": {
        "id": "IsE0aD6OQCcN"
      },
      "source": [
        "Соберем декодер. Входы input_enc и lb_dec. Выход decoded.\n",
        "\n",
        "\n"
      ]
    },
    {
      "cell_type": "code",
      "metadata": {
        "id": "6ken18W5QXyB"
      },
      "source": [
        "decoder = keras.Model([input_enc , lb_dec], decoded)  "
      ],
      "execution_count": null,
      "outputs": []
    },
    {
      "cell_type": "markdown",
      "metadata": {
        "id": "LvhfP8-YQoMz"
      },
      "source": [
        "Соберем CVAE. Входы input_img, lb, lb_dec. Выход decoded . У энкодера необходимо взять 2й выход и подать на декодер\n"
      ]
    },
    {
      "cell_type": "code",
      "metadata": {
        "id": "HdZgh5fsQyIt"
      },
      "source": [
        "cvae = keras.Model([input_img, lb, lb_dec], decoder([encoder([input_img, lb])[2], lb_dec])) "
      ],
      "execution_count": null,
      "outputs": []
    },
    {
      "cell_type": "markdown",
      "metadata": {
        "id": "9flVlE6rSBI3"
      },
      "source": [
        "С помощью метода .summary() выведем на экран структуру энкодера."
      ]
    },
    {
      "cell_type": "code",
      "metadata": {
        "colab": {
          "base_uri": "https://localhost:8080/"
        },
        "id": "iS5RCRdvSGsi",
        "outputId": "107d9a75-08ee-48bc-cf3c-1dff61723c72"
      },
      "source": [
        "encoder.summary()"
      ],
      "execution_count": null,
      "outputs": [
        {
          "output_type": "stream",
          "name": "stdout",
          "text": [
            "Model: \"model_3\"\n",
            "__________________________________________________________________________________________________\n",
            "Layer (type)                    Output Shape         Param #     Connected to                     \n",
            "==================================================================================================\n",
            "input_3 (InputLayer)            [(None, 32, 32, 3)]  0                                            \n",
            "__________________________________________________________________________________________________\n",
            "conv2d (Conv2D)                 (None, 32, 32, 128)  3584        input_3[0][0]                    \n",
            "__________________________________________________________________________________________________\n",
            "conv2d_1 (Conv2D)               (None, 32, 32, 64)   73792       conv2d[0][0]                     \n",
            "__________________________________________________________________________________________________\n",
            "flatten_1 (Flatten)             (None, 65536)        0           conv2d_1[0][0]                   \n",
            "__________________________________________________________________________________________________\n",
            "input_4 (InputLayer)            [(None, 10)]         0                                            \n",
            "__________________________________________________________________________________________________\n",
            "concatenate (Concatenate)       (None, 65546)        0           flatten_1[0][0]                  \n",
            "                                                                 input_4[0][0]                    \n",
            "__________________________________________________________________________________________________\n",
            "dense_7 (Dense)                 (None, 125)          8193375     concatenate[0][0]                \n",
            "__________________________________________________________________________________________________\n",
            "dense_8 (Dense)                 (None, 8)            1008        dense_7[0][0]                    \n",
            "__________________________________________________________________________________________________\n",
            "dense_9 (Dense)                 (None, 8)            72          dense_8[0][0]                    \n",
            "__________________________________________________________________________________________________\n",
            "dense_10 (Dense)                (None, 8)            72          dense_8[0][0]                    \n",
            "__________________________________________________________________________________________________\n",
            "lambda_1 (Lambda)               (None, 8)            0           dense_9[0][0]                    \n",
            "                                                                 dense_10[0][0]                   \n",
            "==================================================================================================\n",
            "Total params: 8,271,903\n",
            "Trainable params: 8,271,903\n",
            "Non-trainable params: 0\n",
            "__________________________________________________________________________________________________\n"
          ]
        }
      ]
    },
    {
      "cell_type": "markdown",
      "metadata": {
        "id": "zDvHqe7jSEnQ"
      },
      "source": [
        "С помощью метода .summary() выведем на экран структуру декодера."
      ]
    },
    {
      "cell_type": "code",
      "metadata": {
        "colab": {
          "base_uri": "https://localhost:8080/"
        },
        "id": "9N2xDAHaSH06",
        "outputId": "7aa769a5-9652-487f-a0e8-d8264786da07"
      },
      "source": [
        "decoder.summary()"
      ],
      "execution_count": null,
      "outputs": [
        {
          "output_type": "stream",
          "name": "stdout",
          "text": [
            "Model: \"model_4\"\n",
            "__________________________________________________________________________________________________\n",
            "Layer (type)                    Output Shape         Param #     Connected to                     \n",
            "==================================================================================================\n",
            "input_5 (InputLayer)            [(None, 8)]          0                                            \n",
            "__________________________________________________________________________________________________\n",
            "input_6 (InputLayer)            [(None, 10)]         0                                            \n",
            "__________________________________________________________________________________________________\n",
            "concatenate_1 (Concatenate)     (None, 18)           0           input_5[0][0]                    \n",
            "                                                                 input_6[0][0]                    \n",
            "__________________________________________________________________________________________________\n",
            "dense_11 (Dense)                (None, 2048)         38912       concatenate_1[0][0]              \n",
            "__________________________________________________________________________________________________\n",
            "reshape_1 (Reshape)             (None, 8, 8, 32)     0           dense_11[0][0]                   \n",
            "__________________________________________________________________________________________________\n",
            "conv2d_transpose (Conv2DTranspo (None, 16, 16, 64)   18496       reshape_1[0][0]                  \n",
            "__________________________________________________________________________________________________\n",
            "conv2d_transpose_1 (Conv2DTrans (None, 32, 32, 3)    1731        conv2d_transpose[0][0]           \n",
            "==================================================================================================\n",
            "Total params: 59,139\n",
            "Trainable params: 59,139\n",
            "Non-trainable params: 0\n",
            "__________________________________________________________________________________________________\n"
          ]
        }
      ]
    }
  ]
}