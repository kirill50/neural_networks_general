{
  "nbformat": 4,
  "nbformat_minor": 0,
  "metadata": {
    "colab": {
      "name": "Базовый блок | Библиотека requests. Обращение к модели по API | УИИ",
      "provenance": [],
      "collapsed_sections": []
    },
    "kernelspec": {
      "name": "python3",
      "display_name": "Python 3"
    },
    "language_info": {
      "name": "python"
    }
  },
  "cells": [
    {
      "cell_type": "markdown",
      "metadata": {
        "id": "nuKWwedv29k0"
      },
      "source": [
        "# Интеграция ML-решений: REST-архитектура\n",
        "\n"
      ]
    },
    {
      "cell_type": "markdown",
      "metadata": {
        "id": "-2QaOvfL3GlE"
      },
      "source": [
        "Ранее вы уже могли заметить, что создание модели является важным и достаточно сложным этапом разработки продукта с использованием машинного обучения (ML). Практика показывает, что создание инфраструктуры для использования модели оказывается не менее важной задачей. \n",
        "\n",
        "Самый простой вариант в этом случае - создание приложения (web-, мобильного или настольного) для доступа к обученной модели. \n",
        "\n",
        "Такая программа чаще всего представляет собой простое приложение-обертку с минималистичным интерфейсом, позволяющее загружать данные, обрабатывать их и получать результат, возвращаемый моделью."
      ]
    },
    {
      "cell_type": "markdown",
      "metadata": {
        "id": "UJPcIpOJuaP-"
      },
      "source": [
        "Однако зачастую возникает необходимость в использовании ML-модели в рамках крупной системы, содержащей множество компонентов, отвечающих за ту или иную функциональность. В таком случае вам необходимо создать такой компонент, который будет отвечать за получение предсказаний от модели, и который будет совместим с другими компонентами системы."
      ]
    },
    {
      "cell_type": "markdown",
      "metadata": {
        "id": "lOLizVpcuaDm"
      },
      "source": [
        "Для этого потребуется изучить некоторые темы, связанные с web-разработкой и проектированием архитектуры приложений. \n",
        "\n",
        "В данном занятии:\n",
        "- разберем, что такое программные архитектуры **REST** и **API**, зачем они нужны;\n",
        "- вспомним, как создать свой веб-сервис, предоставляющий **API** для использования ML-модели, \n",
        "- разместим этот сервис на хостинге; \n",
        "- разберемся, как использовать сервис в сторонних приложениях или компонентах более крупного программного решения."
      ]
    },
    {
      "cell_type": "markdown",
      "metadata": {
        "id": "9VmN0pj7uZ0v"
      },
      "source": [
        "План:\n",
        "\n",
        "0. Описание **REST** и **REST API**. Примеры на языке **Python**\n",
        "1. Создание и обучение ML-модели, написание кода для инференса модели\n",
        "2. Создание веб-сервиса с помощью **FastAPI**\n",
        "3. Деплой (развертывание) сервиса на бесплатный хостинг"
      ]
    },
    {
      "cell_type": "markdown",
      "metadata": {
        "id": "RPxkLuqeuoCl"
      },
      "source": [
        "# 0. Описание REST и REST API. Примеры на языке Python"
      ]
    },
    {
      "cell_type": "markdown",
      "metadata": {
        "id": "o8w-dl7uv8sS"
      },
      "source": [
        "**_REST (Representational state transfer)_** – это стиль архитектуры программного обеспечения для распределенных систем, чаще всего используемый для построения веб-служб. Термин **REST** был введен в 2000 году Роем Филдингом, одним из авторов протокола **HTTP**. Системы, поддерживающие **REST**, называются **RESTful**-системами."
      ]
    },
    {
      "cell_type": "markdown",
      "metadata": {
        "id": "aoqgnBDJ0pcR"
      },
      "source": [
        "**REST**-архитектура определяет требования к построению распределенных приложений, направленные на улучшение их масштабируемости и производительности. Среди всех этих требований нас интересуют следующие:\n",
        "1. Использование модели \"клиент - сервер\";\n",
        "2. Единообразие интерфейса."
      ]
    },
    {
      "cell_type": "markdown",
      "metadata": {
        "id": "nmJ_kpIQ4c2D"
      },
      "source": [
        "Еще одно важное понятие, которое требует разбора - **_API_** или **_Application Programming Interface_** (дословно: интерфейс прикладного программирования).\n",
        "\n",
        "**API** - это набор правил взаимодействия одной программы с другой. Речь в данном случае может идти как о веб-сервисах, так и о внутренних методах операционной системы или методах, предоставляемых какой-либо программной библиотекой.\n",
        "\n",
        "Например, бибиотека **Tensorflow** предоставляет **API** для таких языков, как **Python**, **С++**, **JavaScript** и **Java** - это значит, что писать и выполнять код, реализующий одни и те же операции, можно на любом из этих языков."
      ]
    },
    {
      "cell_type": "markdown",
      "metadata": {
        "id": "VAGM9twP3A5j"
      },
      "source": [
        "В данном занятии **API** будет рассматриваться только применительно к веб-сервисам. Кроме того, речь будет идти об **API** в контексте **REST**-архитектуры - так называемых **_RESTful API_**."
      ]
    },
    {
      "cell_type": "markdown",
      "metadata": {
        "id": "veOkBtvkwRSi"
      },
      "source": [
        "![7bd2d33d-c5d6-41a9-9233-ace73a3f4ea1.jpeg](data:image/jpeg;base64,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)"
      ]
    },
    {
      "cell_type": "markdown",
      "metadata": {
        "id": "8jYQlbSDEvuE"
      },
      "source": [
        "### Разберем работу c протоколом REST более подробно.\n",
        "\n",
        "**REST API** позволяет использовать для взаимодействия между программами протокол **HTTP** (зашифрованная версия — **HTTPS**), с помощью которого мы получаем и отправляем большую часть информации в интернете.\n",
        "\n",
        "Протокол **HTTP** довольно прост. Рассмотрим его работу на примере.\n",
        "\n",
        "Допустим, есть адрес **http://website.com/samples**. \n",
        "\n",
        "Он состоит из двух частей: первая — это адрес сайта или сервера, то есть **http://website.com**.\n",
        "\n",
        "Вторая — адрес ресурса на удаленном сервере, в данном примере — **/samples**.\n",
        "\n",
        "Набирая в адресной строке URL-адрес **http://website.com/samples**, мы на самом деле отправляем запрос на сервер **website.com** и запрашиваем ресурс под названием **/samples**. «Пойди туда, принеси мне вот это» — и есть **HTTP**-запрос.\n",
        "\n",
        "Теперь представим, что по адресу **website.com** работает программа, к которой хочет обратиться другая программа. Чтобы программа понимала, какие именно функции нужны, для разных функций используются различные адреса.\n",
        "\n"
      ]
    },
    {
      "cell_type": "markdown",
      "metadata": {
        "id": "yVbQzLtIGr6H"
      },
      "source": [
        "### Методы HTTP: основа работы REST API\n",
        "\n",
        "Чтобы ресурс, который вы запрашиваете, выполнял нужные действия, используются разные способы обращения к нему. Например, если вы работаете с выборками с помощью ресурса **/samples**, то можете их просматривать, редактировать или удалять.\n",
        "\n",
        "В **API**-системе четыре классических метода:\n",
        "\n",
        "1. **GET** — метод чтения информации. **GET**-запросы всегда только возвращают данные с сервера, но никогда их не изменяют и не удаляют. Например, в приложении при помощи запроса **GET /samples** вы открываете список выборок данных.\n",
        "\n",
        "2. **POST** — создание новых записей. В приложении запрос **POST /samples** будет использоваться для создания новой выборки.\n",
        "\n",
        "3. **PUT** — редактирование записей. Например, запросом **PUT /samples** вы исправляете выборку.\n",
        "\n",
        "4. **DELETE** — удаление записей. В нашем приложении запрос **DELETE /samples** удаляет старые или ненужные выборки.\n",
        "\n",
        "Таким образом, вы получаете четыре функции, которые программа может использовать при обращении к данным одного и того же ресурса, в примере — ресурса для работы со выборками **/samples**."
      ]
    },
    {
      "cell_type": "markdown",
      "metadata": {
        "id": "CRpPxT0vGxnD"
      },
      "source": [
        "### Для чего используют REST API\n",
        "\n",
        "Архитектура **REST API** — самое популярное решение для организации взаимодействия между различными программами. Так произошло, поскольку протокол **HTTP** реализован во всех языках программирования и всех операционных системах, в отличие от проприетарных протоколов.\n",
        "\n",
        "Чаще всего **REST API** применяют:\n",
        "\n",
        "- Для связи мобильных приложений с серверными;\n",
        "- Для построения микросервисных серверных приложений. Это архитектурный подход, при котором большие приложения разбиваются на много маленьких частей;\n",
        "- Для предоставления доступа к программам сторонних разработчиков. Например, **Stripe API** позволяет программистам встраивать обработку платежей в свои приложения."
      ]
    },
    {
      "cell_type": "markdown",
      "metadata": {
        "id": "L3XDihGrKB2d"
      },
      "source": [
        "### Что еще важно знать при работе с REST API\n",
        "\n",
        "Каждый запрос **REST API** сообщает о результатах работы числовыми кодами — **_статусами HTTP_**.\n",
        "\n",
        "Например, редактирование записи на сервере может отработать успешно (код **200**), может быть заблокировано по соображениям безопасности (код **401** или **403**), а то и вообще сломаться в процессе из-за ошибки сервера (код **500**). Числовые коды ошибок — аналог пользовательских сообщений о результатах работы программы.\n",
        "\n",
        "Также **REST API** позволяет обмениваться не только текстовой информацией. С помощью этого инструмента можно передавать файлы и данные в специальных форматах: **_XML, JSON, Protobuf_**."
      ]
    },
    {
      "cell_type": "markdown",
      "metadata": {
        "id": "-lcKGG7pKHrt"
      },
      "source": [
        "### Шаблоны использования REST API\n",
        "\n",
        "Соглашения об использовании тех или иных **HTTP**-методов для различных функций в **REST** называются **_шаблонами REST_**, или **_REST-паттернами_**.\n",
        "\n",
        "В частности, разные паттерны по-разному рассматривают методы **POST** и **PUT**. Если **PUT** предназначен для создания, замены или редактирования, то для **POST** требования гораздо менее строги. Поэтому пример ниже будет правильным и в таком виде, и если поменять местами **POST** и **PUT**.\n",
        "\n",
        "Вообще говоря, **POST** может использоваться одновременно для всех действий изменения:\n",
        "\n",
        "- **POST /sample/** – добавление выборки (данные в теле запроса)\n",
        "\n",
        "- **POST /sample/3** – изменение конкретной выборки (данные в теле запроса)\n",
        "\n",
        "- **POST /sample/3** – удаление конкретной выборки (тело запроса пустое)\n",
        "\n",
        "Это позволяет иногда обходить неприятные моменты, связанные с использованием **PUT** и **DELETE**. \n",
        "\n",
        "Из приведенного примера можно видеть, что составленные определенным образом шаблоны (паттерны) **REST** позволяют обходится только одним типом запроса, например, **POST**. Остается лишь правильно сформировать тело запроса с командами и данными.\n"
      ]
    },
    {
      "cell_type": "markdown",
      "metadata": {
        "id": "k5h0imbILFsl"
      },
      "source": [
        "### REST API и PYTHON\n",
        "\n",
        "Стандартная библиотека языка **Python** имеет ряд готовых модулей по работе с **HTTP**.\n",
        "\n",
        "- **urllib**\n",
        "\n",
        "- **httplib**\n",
        "\n",
        "Более низкий уровень обслуживает модуль **socket**.\n",
        "\n",
        "Но у всех этих модулей есть существенный недостаток - неудобство работы. Многие программисты любят **Python** за его элегантность и простоту, поэтому и был создан модуль, призванный решить эту проблему. Модуль называется **_requests_** (или \"HTTP для людей\"). \n",
        "\n",
        "Рассмотрим реализацию основных методов **REST API** с использованием модуля **requests**.\n"
      ]
    },
    {
      "cell_type": "markdown",
      "metadata": {
        "id": "VBXi6VQfNYw6"
      },
      "source": [
        "Попробуем получить веб-страницу с помощью **GET**-запроса. В этом примере обратимся к общей ленте событий **GitHub**:"
      ]
    },
    {
      "cell_type": "code",
      "metadata": {
        "id": "qwMSC-rPNcpt"
      },
      "source": [
        "import requests\n",
        "r = requests.get('https://api.github.com/events')"
      ],
      "execution_count": null,
      "outputs": []
    },
    {
      "cell_type": "markdown",
      "metadata": {
        "id": "XiYCbFDDOxV2"
      },
      "source": [
        "Мы получили объект **Response** с именем **r**. С помощью этого объекта можно получить всю необходимую информацию.\n",
        "\n",
        "Прикладной интерфейс (API) модуля **requests** прост: типы запросов **HTTP** очевидны. Ниже приведен пример вызова запроса **POST**:"
      ]
    },
    {
      "cell_type": "code",
      "metadata": {
        "id": "DCuttdz4ONtS"
      },
      "source": [
        "r = requests.post('https://httpbin.org/post', data = {'key':'value'})  "
      ],
      "execution_count": null,
      "outputs": []
    },
    {
      "cell_type": "markdown",
      "metadata": {
        "id": "c2HmhOjtO3Lh"
      },
      "source": [
        "Другие типы запросов **HTTP**, такие как **PUT**, **DELETE**, **HEAD** и **OPTIONS** выполняются так же легко:"
      ]
    },
    {
      "cell_type": "code",
      "metadata": {
        "id": "5paM2O_jORb7"
      },
      "source": [
        "r = requests.put('https://httpbin.org/put', data = {'key':'value'})  \n",
        "r = requests.delete('https://httpbin.org/delete')  \n",
        "r = requests.head('https://httpbin.org/get')  \n",
        "r = requests.options('https://httpbin.org/get')  "
      ],
      "execution_count": null,
      "outputs": []
    },
    {
      "cell_type": "markdown",
      "metadata": {
        "id": "BQvVIGVSPH09"
      },
      "source": [
        "### Передача параметров в URL\n",
        "\n",
        "Часто может понадобиться отправить какие-то данные в строке запроса **URL**. Если вы настраиваете **URL** вручную, то эти данные будут представлены в строке виде пар \"ключ=значение\" после знака вопроса. \n",
        "\n",
        "Например, **https://httpbin.org/get?key=val**. \n",
        "\n",
        "Модуль **requests** позволяет передать эти аргументы в качестве словаря, используя аргумент **params**. Если вы хотите передать `key1=value1` и `key2=value2` ресурсу **https://httpbin.org/get**, используйте  следующий код:"
      ]
    },
    {
      "cell_type": "code",
      "metadata": {
        "id": "ZTjuxpr2OW3t",
        "colab": {
          "base_uri": "https://localhost:8080/"
        },
        "outputId": "4d108afd-6e76-4c6b-875b-304b1eafe12f"
      },
      "source": [
        "payload = {'key1': 'value1', 'key2': 'value2'}  \n",
        "r = requests.get('https://httpbin.org/get', params=payload)\n",
        "print(r.url) \n",
        "# https://httpbin.org/get?key2=value2&key1=value1"
      ],
      "execution_count": null,
      "outputs": [
        {
          "output_type": "stream",
          "name": "stdout",
          "text": [
            "https://httpbin.org/get?key1=value1&key2=value2\n"
          ]
        }
      ]
    },
    {
      "cell_type": "markdown",
      "metadata": {
        "id": "ptPEwJU_P1BI"
      },
      "source": [
        "В качестве значения переменных можно передавать и списки:"
      ]
    },
    {
      "cell_type": "code",
      "metadata": {
        "id": "VUmBiHcvOga7",
        "colab": {
          "base_uri": "https://localhost:8080/"
        },
        "outputId": "e2f0809b-0ca3-4032-f2da-d149f84471d4"
      },
      "source": [
        "payload = {'key1': 'value1', 'key2': ['value2', 'value3']}  \n",
        "r = requests.get('https://httpbin.org/get', params=payload)  \n",
        "print(r.url)  \n",
        "# https://httpbin.org/get?key1=value1&key2=value2&key2=value3 "
      ],
      "execution_count": null,
      "outputs": [
        {
          "output_type": "stream",
          "name": "stdout",
          "text": [
            "https://httpbin.org/get?key1=value1&key2=value2&key2=value3\n"
          ]
        }
      ]
    },
    {
      "cell_type": "markdown",
      "metadata": {
        "id": "JwkfjoVPQyBy"
      },
      "source": [
        "### Передача параметров в запросе POST\n",
        "\n",
        "А если надо отправить большой набор различных данных? Здесь пригодится формат данных **JSON**."
      ]
    },
    {
      "cell_type": "code",
      "metadata": {
        "id": "jHi0RABURHwb"
      },
      "source": [
        "url = 'https://api.github.com/some/endpoint'  \n",
        "payload = {'some': 'data'}  \n",
        "r = requests.post(url, json=payload) \n"
      ],
      "execution_count": null,
      "outputs": []
    },
    {
      "cell_type": "markdown",
      "metadata": {
        "id": "Gk933h00P7Lf"
      },
      "source": [
        "### Содержимое ответа (объект Response)\n",
        "\n",
        "Вы можете прочитать содержимое ответа сервера на отправленный запрос.\n",
        "\n",
        "На примере ленты событий **GitHub** это выглядит так:"
      ]
    },
    {
      "cell_type": "code",
      "metadata": {
        "id": "wN9wVmM4OjRu",
        "colab": {
          "base_uri": "https://localhost:8080/",
          "height": 105
        },
        "outputId": "131ab0e3-6ce1-487e-a334-d625d68fa66b"
      },
      "source": [
        "import requests\n",
        "r = requests.get('https://api.github.com/events')\n",
        "r.text\n",
        "#'[{\"repository\":{\"open_issues\":0,\"url\":\"https://github.com/...\n"
      ],
      "execution_count": null,
      "outputs": [
        {
          "output_type": "execute_result",
          "data": {
            "text/plain": [
              "'[{\"id\":\"21088048423\",\"type\":\"PushEvent\",\"actor\":{\"id\":3195906,\"login\":\"adamhsparks\",\"display_login\":\"adamhsparks\",\"gravatar_id\":\"\",\"url\":\"https://api.github.com/users/adamhsparks\",\"avatar_url\":\"https://avatars.githubusercontent.com/u/3195906?\"},\"repo\":{\"id\":225693680,\"name\":\"ropensci/chirps\",\"url\":\"https://api.github.com/repos/ropensci/chirps\"},\"payload\":{\"push_id\":9526020664,\"size\":5,\"distinct_size\":2,\"ref\":\"refs/heads/devel\",\"head\":\"9111cbd5b1804e8c2049b3417fd224915c085cae\",\"before\":\"21bf1bd100e7166a130048b2c9c1a232893c4046\",\"commits\":[{\"sha\":\"6ad41396a438738c75ea18f6fcc0be5fab2f92f2\",\"author\":{\"email\":\"adamhsparks@icloud.com\",\"name\":\"Adam Sparks\"},\"message\":\"update .gitignore\",\"distinct\":false,\"url\":\"https://api.github.com/repos/ropensci/chirps/commits/6ad41396a438738c75ea18f6fcc0be5fab2f92f2\"},{\"sha\":\"5824e86d10e91d25d6c9aee80507067cc3b39acd\",\"author\":{\"email\":\"adamhsparks@icloud.com\",\"name\":\"Adam Sparks\"},\"message\":\"Try using the tic\\'s own tic.yml file\",\"distinct\":false,\"url\":\"https://api.github.com/repos/ropensci/chirps/commits/5824e86d10e91d25d6c9aee80507067cc3b39acd\"},{\"sha\":\"edbb8e84add9b23c541f914cc05794d1c0bf46fe\",\"author\":{\"email\":\"adamhsparks@icloud.com\",\"name\":\"Adam Sparks\"},\"message\":\"try using update-tic.yml\",\"distinct\":false,\"url\":\"https://api.github.com/repos/ropensci/chirps/commits/edbb8e84add9b23c541f914cc05794d1c0bf46fe\"},{\"sha\":\"6dd783094b8800a84bad4eaeee7fb8f1fc7f83e0\",\"author\":{\"email\":\"adamhsparks@gmail.com\",\"name\":\"Adam H. Sparks\"},\"message\":\"Merge branch \\'master\\' into devel\",\"distinct\":true,\"url\":\"https://api.github.com/repos/ropensci/chirps/commits/6dd783094b8800a84bad4eaeee7fb8f1fc7f83e0\"},{\"sha\":\"9111cbd5b1804e8c2049b3417fd224915c085cae\",\"author\":{\"email\":\"adamhsparks@icloud.com\",\"name\":\"Adam Sparks\"},\"message\":\"Fix incomplete line\",\"distinct\":true,\"url\":\"https://api.github.com/repos/ropensci/chirps/commits/9111cbd5b1804e8c2049b3417fd224915c085cae\"}]},\"public\":true,\"created_at\":\"2022-04-03T22:21:31Z\",\"org\":{\"id\":1200269,\"login\":\"ropensci\",\"gravatar_id\":\"\",\"url\":\"https://api.github.com/orgs/ropensci\",\"avatar_url\":\"https://avatars.githubusercontent.com/u/1200269?\"}},{\"id\":\"21088048408\",\"type\":\"PushEvent\",\"actor\":{\"id\":91356545,\"login\":\"ALI0ne\",\"display_login\":\"ALI0ne\",\"gravatar_id\":\"\",\"url\":\"https://api.github.com/users/ALI0ne\",\"avatar_url\":\"https://avatars.githubusercontent.com/u/91356545?\"},\"repo\":{\"id\":410237088,\"name\":\"ALI0ne/extensions\",\"url\":\"https://api.github.com/repos/ALI0ne/extensions\"},\"payload\":{\"push_id\":9526020655,\"size\":1,\"distinct_size\":1,\"ref\":\"refs/heads/snyk-upgrade-71778862b36a346e8cdb2400b229cea8\",\"head\":\"4dfd95f7a357199e30fdbe570459efe3119e18d0\",\"before\":\"9a60a0677c1477191308858bbc2f245d3c4f36b3\",\"commits\":[{\"sha\":\"4dfd95f7a357199e30fdbe570459efe3119e18d0\",\"author\":{\"email\":\"snyk-bot@snyk.io\",\"name\":\"snyk-bot\"},\"message\":\"feat: upgrade uuid from 3.4.0 to 8.3.2\\\\n\\\\nSnyk has created this PR to upgrade uuid from 3.4.0 to 8.3.2.\\\\n\\\\nSee this package in npm:\\\\nhttps://www.npmjs.com/package/uuid\\\\n\\\\nSee this project in Snyk:\\\\nhttps://app.snyk.io/org/alimazloum0ne/project/8562e21b-4a4f-4538-bee7-293762a73157?utm_source=github&utm_medium=referral&page=upgrade-pr\",\"distinct\":true,\"url\":\"https://api.github.com/repos/ALI0ne/extensions/commits/4dfd95f7a357199e30fdbe570459efe3119e18d0\"}]},\"public\":true,\"created_at\":\"2022-04-03T22:21:31Z\"},{\"id\":\"21088048414\",\"type\":\"PushEvent\",\"actor\":{\"id\":58833107,\"login\":\"cufnqn370\",\"display_login\":\"cufnqn370\",\"gravatar_id\":\"\",\"url\":\"https://api.github.com/users/cufnqn370\",\"avatar_url\":\"https://avatars.githubusercontent.com/u/58833107?\"},\"repo\":{\"id\":227725053,\"name\":\"cufnqn370/ntdtv\",\"url\":\"https://api.github.com/repos/cufnqn370/ntdtv\"},\"payload\":{\"push_id\":9526020661,\"size\":1,\"distinct_size\":1,\"ref\":\"refs/heads/master\",\"head\":\"9e829cb4d8d30188c1755a708bc1fd1c13384d6e\",\"before\":\"be891c9d62c02534ca1fae7d5ea5845f01da263b\",\"commits\":[{\"sha\":\"9e829cb4d8d30188c1755a708bc1fd1c13384d6e\",\"author\":{\"email\":\"58833107+cufnqn370@users.noreply.github.com\",\"name\":\"cufnqn370\"},\"message\":\"Update prog448635_1.md\",\"distinct\":true,\"url\":\"https://api.github.com/repos/cufnqn370/ntdtv/commits/9e829cb4d8d30188c1755a708bc1fd1c13384d6e\"}]},\"public\":true,\"created_at\":\"2022-04-03T22:21:31Z\"},{\"id\":\"21088048411\",\"type\":\"DeleteEvent\",\"actor\":{\"id\":71354125,\"login\":\"aws-connector-for-github[bot]\",\"display_login\":\"aws-connector-for-github\",\"gravatar_id\":\"\",\"url\":\"https://api.github.com/users/aws-connector-for-github[bot]\",\"avatar_url\":\"https://avatars.githubusercontent.com/u/71354125?\"},\"repo\":{\"id\":429551228,\"name\":\"bullet-dev-team/python-pyramid-public\",\"url\":\"https://api.github.com/repos/bullet-dev-team/python-pyramid-public\"},\"payload\":{\"ref\":\"cicd-e2e-kdq52z\",\"ref_type\":\"branch\",\"pusher_type\":\"user\"},\"public\":true,\"created_at\":\"2022-04-03T22:21:31Z\"},{\"id\":\"21088048416\",\"type\":\"CreateEvent\",\"actor\":{\"id\":988193,\"login\":\"KaimingTao\",\"display_login\":\"KaimingTao\",\"gravatar_id\":\"\",\"url\":\"https://api.github.com/users/KaimingTao\",\"avatar_url\":\"https://avatars.githubusercontent.com/u/988193?\"},\"repo\":{\"id\":477480217,\"name\":\"KaimingTao/kendo\",\"url\":\"https://api.github.com/repos/KaimingTao/kendo\"},\"payload\":{\"ref\":null,\"ref_type\":\"repository\",\"master_branch\":\"master\",\"description\":\"a record of my kendo life\",\"pusher_type\":\"user\"},\"public\":true,\"created_at\":\"2022-04-03T22:21:31Z\"},{\"id\":\"21088048406\",\"type\":\"PushEvent\",\"actor\":{\"id\":101464201,\"login\":\"capacitacionContinuaJava\",\"display_login\":\"capacitacionContinuaJava\",\"gravatar_id\":\"\",\"url\":\"https://api.github.com/users/capacitacionContinuaJava\",\"avatar_url\":\"https://avatars.githubusercontent.com/u/101464201?\"},\"repo\":{\"id\":469108102,\"name\":\"capacitacionContinuaJava/gestion-usuarios-root\",\"url\":\"https://api.github.com/repos/capacitacionContinuaJava/gestion-usuarios-root\"},\"payload\":{\"push_id\":9526020647,\"size\":1,\"distinct_size\":1,\"ref\":\"refs/heads/develop\",\"head\":\"2f7e6b1dcd5de849b0dd5ae185a4d86c7206f6b9\",\"before\":\"1eae2ef84c2909dd836bc8e9dad1cb037510df81\",\"commits\":[{\"sha\":\"2f7e6b1dcd5de849b0dd5ae185a4d86c7206f6b9\",\"author\":{\"email\":\"patocriss@gmail.com\",\"name\":\"DESKTOP-L9A14P8\\\\\\\\PC-F\"},\"message\":\"new changes\",\"distinct\":true,\"url\":\"https://api.github.com/repos/capacitacionContinuaJava/gestion-usuarios-root/commits/2f7e6b1dcd5de849b0dd5ae185a4d86c7206f6b9\"}]},\"public\":true,\"created_at\":\"2022-04-03T22:21:31Z\"},{\"id\":\"21088048413\",\"type\":\"PushEvent\",\"actor\":{\"id\":100386752,\"login\":\"RichCyph\",\"display_login\":\"RichCyph\",\"gravatar_id\":\"\",\"url\":\"https://api.github.com/users/RichCyph\",\"avatar_url\":\"https://avatars.githubusercontent.com/u/100386752?\"},\"repo\":{\"id\":471988478,\"name\":\"RichCyph/test\",\"url\":\"https://api.github.com/repos/RichCyph/test\"},\"payload\":{\"push_id\":9526020654,\"size\":1,\"distinct_size\":1,\"ref\":\"refs/heads/main\",\"head\":\"8c0875f76751e975521b0876f0a2bcc8b3197adc\",\"before\":\"a4657ac501364dc97e003afeb12cf5c5a6292493\",\"commits\":[{\"sha\":\"8c0875f76751e975521b0876f0a2bcc8b3197adc\",\"author\":{\"email\":\"100386752+RichCyph@users.noreply.github.com\",\"name\":\"RichCyph\"},\"message\":\"commiting update\",\"distinct\":true,\"url\":\"https://api.github.com/repos/RichCyph/test/commits/8c0875f76751e975521b0876f0a2bcc8b3197adc\"}]},\"public\":true,\"created_at\":\"2022-04-03T22:21:31Z\"},{\"id\":\"21088048407\",\"type\":\"PushEvent\",\"actor\":{\"id\":17258621,\"login\":\"svteichman\",\"display_login\":\"svteichman\",\"gravatar_id\":\"\",\"url\":\"https://api.github.com/users/svteichman\",\"avatar_url\":\"https://avatars.githubusercontent.com/u/17258621?\"},\"repo\":{\"id\":472096303,\"name\":\"svteichman/STAT302-SPR2022\",\"url\":\"https://api.github.com/repos/svteichman/STAT302-SPR2022\"},\"payload\":{\"push_id\":9526020656,\"size\":1,\"distinct_size\":1,\"ref\":\"refs/heads/main\",\"head\":\"26a156a2a3cbc0cda45f756cc3faad74b503ed2a\",\"before\":\"3f599177b51d92499e8b77eed28303998bd048b3\",\"commits\":[{\"sha\":\"26a156a2a3cbc0cda45f756cc3faad74b503ed2a\",\"author\":{\"email\":\"teichs@uw.edu\",\"name\":\"Sarah Teichman\"},\"message\":\"updates to lecture 1 and lab 1\",\"distinct\":true,\"url\":\"https://api.github.com/repos/svteichman/STAT302-SPR2022/commits/26a156a2a3cbc0cda45f756cc3faad74b503ed2a\"}]},\"public\":true,\"created_at\":\"2022-04-03T22:21:31Z\"},{\"id\":\"21088048402\",\"type\":\"CreateEvent\",\"actor\":{\"id\":91356545,\"login\":\"ALI0ne\",\"display_login\":\"ALI0ne\",\"gravatar_id\":\"\",\"url\":\"https://api.github.com/users/ALI0ne\",\"avatar_url\":\"https://avatars.githubusercontent.com/u/91356545?\"},\"repo\":{\"id\":410237088,\"name\":\"ALI0ne/extensions\",\"url\":\"https://api.github.com/repos/ALI0ne/extensions\"},\"payload\":{\"ref\":\"snyk-upgrade-9b99ef69fda673688c0748fa61dea233\",\"ref_type\":\"branch\",\"master_branch\":\"next\",\"description\":\"Source code for official Firebase extensions\",\"pusher_type\":\"user\"},\"public\":true,\"created_at\":\"2022-04-03T22:21:31Z\"},{\"id\":\"21088048398\",\"type\":\"PushEvent\",\"actor\":{\"id\":51968178,\"login\":\"angela139\",\"display_login\":\"angela139\",\"gravatar_id\":\"\",\"url\":\"https://api.github.com/users/angela139\",\"avatar_url\":\"https://avatars.githubusercontent.com/u/51968178?\"},\"repo\":{\"id\":477284848,\"name\":\"angela139/heart_story\",\"url\":\"https://api.github.com/repos/angela139/heart_story\"},\"payload\":{\"push_id\":9526020651,\"size\":1,\"distinct_size\":1,\"ref\":\"refs/heads/main\",\"head\":\"c4b29c8ef7ccb8c5fa390a2ad1068a35b6142f21\",\"before\":\"25e1a31e7dfd7e46b2c2a902629e899cc97ad71e\",\"commits\":[{\"sha\":\"c4b29c8ef7ccb8c5fa390a2ad1068a35b6142f21\",\"author\":{\"email\":\"51968178+angela139@users.noreply.github.com\",\"name\":\"angela139\"},\"message\":\"Update index.html\",\"distinct\":true,\"url\":\"https://api.github.com/repos/angela139/heart_story/commits/c4b29c8ef7ccb8c5fa390a2ad1068a35b6142f21\"}]},\"public\":true,\"created_at\":\"2022-04-03T22:21:31Z\"},{\"id\":\"21088048401\",\"type\":\"PublicEvent\",\"actor\":{\"id\":33735410,\"login\":\"GabrielCFigueira\",\"display_login\":\"GabrielCFigueira\",\"gravatar_id\":\"\",\"url\":\"https://api.github.com/users/GabrielCFigueira\",\"avatar_url\":\"https://avatars.githubusercontent.com/u/33735410?\"},\"repo\":{\"id\":416037990,\"name\":\"GabrielCFigueira/stegozoa\",\"url\":\"https://api.github.com/repos/GabrielCFigueira/stegozoa\"},\"payload\":{},\"public\":true,\"created_at\":\"2022-04-03T22:21:31Z\"},{\"id\":\"21088048410\",\"type\":\"DeleteEvent\",\"actor\":{\"id\":91356545,\"login\":\"ALI0ne\",\"display_login\":\"ALI0ne\",\"gravatar_id\":\"\",\"url\":\"https://api.github.com/users/ALI0ne\",\"avatar_url\":\"https://avatars.githubusercontent.com/u/91356545?\"},\"repo\":{\"id\":411020993,\"name\":\"ALI0ne/vscode-extension-samples\",\"url\":\"https://api.github.com/repos/ALI0ne/vscode-extension-samples\"},\"payload\":{\"ref\":\"snyk-upgrade-d8a2f296df3cf13342a88b7bada321c7\",\"ref_type\":\"branch\",\"pusher_type\":\"user\"},\"public\":true,\"created_at\":\"2022-04-03T22:21:31Z\"},{\"id\":\"21088048409\",\"type\":\"CreateEvent\",\"actor\":{\"id\":61233039,\"login\":\"charlinto\",\"display_login\":\"charlinto\",\"gravatar_id\":\"\",\"url\":\"https://api.github.com/users/charlinto\",\"avatar_url\":\"https://avatars.githubusercontent.com/u/61233039?\"},\"repo\":{\"id\":477479890,\"name\":\"charlinto/NAER\",\"url\":\"https://api.github.com/repos/charlinto/NAER\"},\"payload\":{\"ref\":\"main\",\"ref_type\":\"branch\",\"master_branch\":\"main\",\"description\":null,\"pusher_type\":\"user\"},\"public\":true,\"created_at\":\"2022-04-03T22:21:31Z\"},{\"id\":\"21088048397\",\"type\":\"IssueCommentEvent\",\"actor\":{\"id\":813732,\"login\":\"glasnt\",\"display_login\":\"glasnt\",\"gravatar_id\":\"\",\"url\":\"https://api.github.com/users/glasnt\",\"avatar_url\":\"https://avatars.githubusercontent.com/u/813732?\"},\"repo\":{\"id\":352854477,\"name\":\"GoogleCloudPlatform/cloud-run-microservice-template-python\",\"url\":\"https://api.github.com/repos/GoogleCloudPlatform/cloud-run-microservice-template-python\"},\"payload\":{\"action\":\"created\",\"issue\":{\"url\":\"https://api.github.com/repos/GoogleCloudPlatform/cloud-run-microservice-template-python/issues/57\",\"repository_url\":\"https://api.github.com/repos/GoogleCloudPlatform/cloud-run-microservice-template-python\",\"labels_url\":\"https://api.github.com/repos/GoogleCloudPlatform/cloud-run-microservice-template-python/issues/57/labels{/name}\",\"comments_url\":\"https://api.github.com/repos/GoogleCloudPlatform/cloud-run-microservice-template-python/issues/57/comments\",\"events_url\":\"https://api.github.com/repos/GoogleCloudPlatform/cloud-run-microservice-template-python/issues/57/events\",\"html_url\":\"https://github.com/GoogleCloudPlatform/cloud-run-microservice-template-python/pull/57\",\"id\":1189223903,\"node_id\":\"PR_kwDOFQghzc41dc4s\",\"number\":57,\"title\":\"chore(deps): update dependency invoke to v1.7.0\",\"user\":{\"login\":\"renovate-bot\",\"id\":25180681,\"node_id\":\"MDQ6VXNlcjI1MTgwNjgx\",\"avatar_url\":\"https://avatars.githubusercontent.com/u/25180681?v=4\",\"gravatar_id\":\"\",\"url\":\"https://api.github.com/users/renovate-bot\",\"html_url\":\"https://github.com/renovate-bot\",\"followers_url\":\"https://api.github.com/users/renovate-bot/followers\",\"following_url\":\"https://api.github.com/users/renovate-bot/following{/other_user}\",\"gists_url\":\"https://api.github.com/users/renovate-bot/gists{/gist_id}\",\"starred_url\":\"https://api.github.com/users/renovate-bot/starred{/owner}{/repo}\",\"subscriptions_url\":\"https://api.github.com/users/renovate-bot/subscriptions\",\"organizations_url\":\"https://api.github.com/users/renovate-bot/orgs\",\"repos_url\":\"https://api.github.com/users/renovate-bot/repos\",\"events_url\":\"https://api.github.com/users/renovate-bot/events{/privacy}\",\"received_events_url\":\"https://api.github.com/users/renovate-bot/received_events\",\"type\":\"User\",\"site_admin\":false},\"labels\":[],\"state\":\"open\",\"locked\":false,\"assignee\":null,\"assignees\":[],\"milestone\":null,\"comments\":1,\"created_at\":\"2022-04-01T04:38:37Z\",\"updated_at\":\"2022-04-03T22:21:31Z\",\"closed_at\":null,\"author_association\":\"CONTRIBUTOR\",\"active_lock_reason\":null,\"draft\":false,\"pull_request\":{\"url\":\"https://api.github.com/repos/GoogleCloudPlatform/cloud-run-microservice-template-python/pulls/57\",\"html_url\":\"https://github.com/GoogleCloudPlatform/cloud-run-microservice-template-python/pull/57\",\"diff_url\":\"https://github.com/GoogleCloudPlatform/cloud-run-microservice-template-python/pull/57.diff\",\"patch_url\":\"https://github.com/GoogleCloudPlatform/cloud-run-microservice-template-python/pull/57.patch\",\"merged_at\":null},\"body\":\"[![WhiteSource Renovate](https://app.renovatebot.com/images/banner.svg)](https://renovatebot.com)\\\\n\\\\nThis PR contains the following updates:\\\\n\\\\n| Package | Change | Age | Adoption | Passing | Confidence |\\\\n|---|---|---|---|---|---|\\\\n| [invoke](https://pyinvoke.org) ([source](https://togithub.com/pyinvoke/invoke), [changelog](https://www.pyinvoke.org/changelog.html)) | `==1.6.0` -> `==1.7.0` | [![age](https://badges.renovateapi.com/packages/pypi/invoke/1.7.0/age-slim)](https://docs.renovatebot.com/merge-confidence/) | [![adoption](https://badges.renovateapi.com/packages/pypi/invoke/1.7.0/adoption-slim)](https://docs.renovatebot.com/merge-confidence/) | [![passing](https://badges.renovateapi.com/packages/pypi/invoke/1.7.0/compatibility-slim/1.6.0)](https://docs.renovatebot.com/merge-confidence/) | [![confidence](https://badges.renovateapi.com/packages/pypi/invoke/1.7.0/confidence-slim/1.6.0)](https://docs.renovatebot.com/merge-confidence/) |\\\\n\\\\n---\\\\n\\\\n### Release Notes\\\\n\\\\n<details>\\\\n<summary>pyinvoke/invoke</summary>\\\\n\\\\n### [`v1.7.0`](https://togithub.com/pyinvoke/invoke/compare/1.6.0...1.7.0)\\\\n\\\\n[Compare Source](https://togithub.com/pyinvoke/invoke/compare/1.6.0...1.7.0)\\\\n\\\\n</details>\\\\n\\\\n---\\\\n\\\\n### Configuration\\\\n\\\\n📅 **Schedule**: \\\\\"before 8am on the first day of the month\\\\\" (UTC).\\\\n\\\\n🚦 **Automerge**: Disabled by config. Please merge this manually once you are satisfied.\\\\n\\\\n♻ **Rebasing**: Never, or you tick the rebase/retry checkbox.\\\\n\\\\n🔕 **Ignore**: Close this PR and you won\\'t be reminded about this update again.\\\\n\\\\n---\\\\n\\\\n - [ ] <!-- rebase-check -->If you want to rebase/retry this PR, click this checkbox.\\\\n\\\\n---\\\\n\\\\nThis PR has been generated by [WhiteSource Renovate](https://renovate.whitesourcesoftware.com). View repository job log [here](https://app.renovatebot.com/dashboard#github/GoogleCloudPlatform/cloud-run-microservice-template-python).\",\"reactions\":{\"url\":\"https://api.github.com/repos/GoogleCloudPlatform/cloud-run-microservice-template-python/issues/57/reactions\",\"total_count\":0,\"+1\":0,\"-1\":0,\"laugh\":0,\"hooray\":0,\"confused\":0,\"heart\":0,\"rocket\":0,\"eyes\":0},\"timeline_url\":\"https://api.github.com/repos/GoogleCloudPlatform/cloud-run-microservice-template-python/issues/57/timeline\",\"performed_via_github_app\":null},\"comment\":{\"url\":\"https://api.github.com/repos/GoogleCloudPlatform/cloud-run-microservice-template-python/issues/comments/1086961403\",\"html_url\":\"https://github.com/GoogleCloudPlatform/cloud-run-microservice-template-python/pull/57#issuecomment-1086961403\",\"issue_url\":\"https://api.github.com/repos/GoogleCloudPlatform/cloud-run-microservice-template-python/issues/57\",\"id\":1086961403,\"node_id\":\"IC_kwDOFQghzc5Aybb7\",\"user\":{\"login\":\"glasnt\",\"id\":813732,\"node_id\":\"MDQ6VXNlcjgxMzczMg==\",\"avatar_url\":\"https://avatars.githubusercontent.com/u/813732?v=4\",\"gravatar_id\":\"\",\"url\":\"https://api.github.com/users/glasnt\",\"html_url\":\"https://github.com/glasnt\",\"followers_url\":\"https://api.github.com/users/glasnt/followers\",\"following_url\":\"https://api.github.com/users/glasnt/following{/other_user}\",\"gists_url\":\"https://api.github.com/users/glasnt/gists{/gist_id}\",\"starred_url\":\"https://api.github.com/users/glasnt/starred{/owner}{/repo}\",\"subscriptions_url\":\"https://api.github.com/users/glasnt/subscriptions\",\"organizations_url\":\"https://api.github.com/users/glasnt/orgs\",\"repos_url\":\"https://api.github.com/users/glasnt/repos\",\"events_url\":\"https://api.github.com/users/glasnt/events{/privacy}\",\"received_events_url\":\"https://api.github.com/users/glasnt/received_events\",\"type\":\"User\",\"site_admin\":false},\"created_at\":\"2022-04-03T22:21:31Z\",\"updated_at\":\"2022-04-03T22:21:31Z\",\"author_association\":\"COLLABORATOR\",\"body\":\"/gcbrun\",\"reactions\":{\"url\":\"https://api.github.com/repos/GoogleCloudPlatform/cloud-run-microservice-template-python/issues/comments/1086961403/reactions\",\"total_count\":0,\"+1\":0,\"-1\":0,\"laugh\":0,\"hooray\":0,\"confused\":0,\"heart\":0,\"rocket\":0,\"eyes\":0},\"performed_via_github_app\":null}},\"public\":true,\"created_at\":\"2022-04-03T22:21:31Z\",\"org\":{\"id\":2810941,\"login\":\"GoogleCloudPlatform\",\"gravatar_id\":\"\",\"url\":\"https://api.github.com/orgs/GoogleCloudPlatform\",\"avatar_url\":\"https://avatars.githubusercontent.com/u/2810941?\"}},{\"id\":\"21088048386\",\"type\":\"PushEvent\",\"actor\":{\"id\":98743880,\"login\":\"beniwein\",\"display_login\":\"beniwein\",\"gravatar_id\":\"\",\"url\":\"https://api.github.com/users/beniwein\",\"avatar_url\":\"https://avatars.githubusercontent.com/u/98743880?\"},\"repo\":{\"id\":473614381,\"name\":\"beniwein/TechQuest\",\"url\":\"https://api.github.com/repos/beniwein/TechQuest\"},\"payload\":{\"push_id\":9526020643,\"size\":1,\"distinct_size\":1,\"ref\":\"refs/heads/main\",\"head\":\"d0882832c5a4ecf84978c32ef7fb170546e4ff45\",\"before\":\"6936ad2be7b326af631f7d8061872383a9e5c01e\",\"commits\":[{\"sha\":\"d0882832c5a4ecf84978c32ef7fb170546e4ff45\",\"author\":{\"email\":\"98743880+beniwein@users.noreply.github.com\",\"name\":\"Beni Weinmann\"},\"message\":\"Update README.md\",\"distinct\":true,\"url\":\"https://api.github.com/repos/beniwein/TechQuest/commits/d0882832c5a4ecf84978c32ef7fb170546e4ff45\"}]},\"public\":true,\"created_at\":\"2022-04-03T22:21:31Z\"},{\"id\":\"21088048385\",\"type\":\"PushEvent\",\"actor\":{\"id\":95590244,\"login\":\"jambrose0\",\"display_login\":\"jambrose0\",\"gravatar_id\":\"\",\"url\":\"https://api.github.com/users/jambrose0\",\"avatar_url\":\"https://avatars.githubusercontent.com/u/95590244?\"},\"repo\":{\"id\":476902117,\"name\":\"jambrose0/ecommerce-backend\",\"url\":\"https://api.github.com/repos/jambrose0/ecommerce-backend\"},\"payload\":{\"push_id\":9526020634,\"size\":1,\"distinct_size\":1,\"ref\":\"refs/heads/feature/routes\",\"head\":\"2aed6a9d5a94e1905ad011606f0daeee9fe41ed4\",\"before\":\"17beede76feed2a83be98e3a927bcf5852a2edf1\",\"commits\":[{\"sha\":\"2aed6a9d5a94e1905ad011606f0daeee9fe41ed4\",\"author\":{\"email\":\"jambrose0518@gmail.com\",\"name\":\"jambrose0\"},\"message\":\"all routes and readme finalized\",\"distinct\":true,\"url\":\"https://api.github.com/repos/jambrose0/ecommerce-backend/commits/2aed6a9d5a94e1905ad011606f0daeee9fe41ed4\"}]},\"public\":true,\"created_at\":\"2022-04-03T22:21:31Z\"},{\"id\":\"21088048376\",\"type\":\"IssueCommentEvent\",\"actor\":{\"id\":74690677,\"login\":\"Magicboy-Zhang\",\"display_login\":\"Magicboy-Zhang\",\"gravatar_id\":\"\",\"url\":\"https://api.github.com/users/Magicboy-Zhang\",\"avatar_url\":\"https://avatars.githubusercontent.com/u/74690677?\"},\"repo\":{\"id\":453590044,\"name\":\"CMPUT301W22T01/QRpokemon\",\"url\":\"https://api.github.com/repos/CMPUT301W22T01/QRpokemon\"},\"payload\":{\"action\":\"created\",\"issue\":{\"url\":\"https://api.github.com/repos/CMPUT301W22T01/QRpokemon/issues/80\",\"repository_url\":\"https://api.github.com/repos/CMPUT301W22T01/QRpokemon\",\"labels_url\":\"https://api.github.com/repos/CMPUT301W22T01/QRpokemon/issues/80/labels{/name}\",\"comments_url\":\"https://api.github.com/repos/CMPUT301W22T01/QRpokemon/issues/80/comments\",\"events_url\":\"https://api.github.com/repos/CMPUT301W22T01/QRpokemon/issues/80/events\",\"html_url\":\"https://github.com/CMPUT301W22T01/QRpokemon/issues/80\",\"id\":1191035406,\"node_id\":\"I_kwDOGwk8HM5G_cIO\",\"number\":80,\"title\":\"Final testing of all the user stroies \",\"user\":{\"login\":\"Magicboy-Zhang\",\"id\":74690677,\"node_id\":\"MDQ6VXNlcjc0NjkwNjc3\",\"avatar_url\":\"https://avatars.githubusercontent.com/u/74690677?v=4\",\"gravatar_id\":\"\",\"url\":\"https://api.github.com/users/Magicboy-Zhang\",\"html_url\":\"https://github.com/Magicboy-Zhang\",\"followers_url\":\"https://api.github.com/users/Magicboy-Zhang/followers\",\"following_url\":\"https://api.github.com/users/Magicboy-Zhang/following{/other_user}\",\"gists_url\":\"https://api.github.com/users/Magicboy-Zhang/gists{/gist_id}\",\"starred_url\":\"https://api.github.com/users/Magicboy-Zhang/starred{/owner}{/repo}\",\"subscriptions_url\":\"https://api.github.com/users/Magicboy-Zhang/subscriptions\",\"organizations_url\":\"https://api.github.com/users/Magicboy-Zhang/orgs\",\"repos_url\":\"https://api.github.com/users/Magicboy-Zhang/repos\",\"events_url\":\"https://api.github.com/users/Magicboy-Zhang/events{/privacy}\",\"received_events_url\":\"https://api.github.com/users/Magicboy-Zhang/received_events\",\"type\":\"User\",\"site_admin\":false},\"labels\":[],\"state\":\"open\",\"locked\":false,\"assignee\":null,\"assignees\":[],\"milestone\":null,\"comments\":10,\"created_at\":\"2022-04-03T20:22:09Z\",\"updated_at\":\"2022-04-03T22:21:31Z\",\"closed_at\":null,\"author_association\":\"COLLABORATOR\",\"active_lock_reason\":null,\"body\":\"Now start testing all User Stories, will report success or problems here.\",\"reactions\":{\"url\":\"https://api.github.com/repos/CMPUT301W22T01/QRpokemon/issues/80/reactions\",\"total_count\":0,\"+1\":0,\"-1\":0,\"laugh\":0,\"hooray\":0,\"confused\":0,\"heart\":0,\"rocket\":0,\"eyes\":0},\"timeline_url\":\"https://api.github.com/repos/CMPUT301W22T01/QRpokemon/issues/80/timeline\",\"performed_via_github_app\":null},\"comment\":{\"url\":\"https://api.github.com/repos/CMPUT301W22T01/QRpokemon/issues/comments/1086961401\",\"html_url\":\"https://github.com/CMPUT301W22T01/QRpokemon/issues/80#issuecomment-1086961401\",\"issue_url\":\"https://api.github.com/repos/CMPUT301W22T01/QRpokemon/issues/80\",\"id\":1086961401,\"node_id\":\"IC_kwDOGwk8HM5Aybb5\",\"user\":{\"login\":\"Magicboy-Zhang\",\"id\":74690677,\"node_id\":\"MDQ6VXNlcjc0NjkwNjc3\",\"avatar_url\":\"https://avatars.githubusercontent.com/u/74690677?v=4\",\"gravatar_id\":\"\",\"url\":\"https://api.github.com/users/Magicboy-Zhang\",\"html_url\":\"https://github.com/Magicboy-Zhang\",\"followers_url\":\"https://api.github.com/users/Magicboy-Zhang/followers\",\"following_url\":\"https://api.github.com/users/Magicboy-Zhang/following{/other_user}\",\"gists_url\":\"https://api.github.com/users/Magicboy-Zhang/gists{/gist_id}\",\"starred_url\":\"https://api.github.com/users/Magicboy-Zhang/starred{/owner}{/repo}\",\"subscriptions_url\":\"https://api.github.com/users/Magicboy-Zhang/subscriptions\",\"organizations_url\":\"https://api.github.com/users/Magicboy-Zhang/orgs\",\"repos_url\":\"https://api.github.com/users/Magicboy-Zhang/repos\",\"events_url\":\"https://api.github.com/users/Magicboy-Zhang/events{/privacy}\",\"received_events_url\":\"https://api.github.com/users/Magicboy-Zhang/received_events\",\"type\":\"User\",\"site_admin\":false},\"created_at\":\"2022-04-03T22:21:31Z\",\"updated_at\":\"2022-04-03T22:21:31Z\",\"author_association\":\"COLLABORATOR\",\"body\":\"US 02.01.01\\\\r\\\\n\\\\r\\\\nAs a player, I want to be able to scan QR codes and record a photo of the location or object, and the geolocation of the location or object.\\\\r\\\\n\\\\r\\\\n- [ ] 1. Enable \\'Save QR\\' only, check if the QR code is correctly recorded without saving location\\\\r\\\\n- [ ] 2. Enable \\'Save Location\\' only, check if the QR code is correctly recorded without saving the photo\\\\r\\\\n- [ ] 3. Enable both \\'Save Location\\' and \\'Save QR\\', check if the QR code is correctly recorded with both location and photo\\\\r\\\\n- [ ] 4. Do not enable \\'Save Location\\' and \\'Save QR\\', check if the QR code is correctly recorded without location and photo\\\\r\\\\n\\\\r\\\\n\",\"reactions\":{\"url\":\"https://api.github.com/repos/CMPUT301W22T01/QRpokemon/issues/comments/1086961401/reactions\",\"total_count\":0,\"+1\":0,\"-1\":0,\"laugh\":0,\"hooray\":0,\"confused\":0,\"heart\":0,\"rocket\":0,\"eyes\":0},\"performed_via_github_app\":null}},\"public\":true,\"created_at\":\"2022-04-03T22:21:31Z\",\"org\":{\"id\":98678774,\"login\":\"CMPUT301W22T01\",\"gravatar_id\":\"\",\"url\":\"https://api.github.com/orgs/CMPUT301W22T01\",\"avatar_url\":\"https://avatars.githubusercontent.com/u/98678774?\"}},{\"id\":\"21088048381\",\"type\":\"IssuesEvent\",\"actor\":{\"id\":44785097,\"login\":\"ShadowMario\",\"display_login\":\"ShadowMario\",\"gravatar_id\":\"\",\"url\":\"https://api.github.com/users/ShadowMario\",\"avatar_url\":\"https://avatars.githubusercontent.com/u/44785097?\"},\"repo\":{\"id\":383940088,\"name\":\"ShadowMario/FNF-PsychEngine\",\"url\":\"https://api.github.com/repos/ShadowMario/FNF-PsychEngine\"},\"payload\":{\"action\":\"closed\",\"issue\":{\"url\":\"https://api.github.com/repos/ShadowMario/FNF-PsychEngine/issues/7913\",\"repository_url\":\"https://api.github.com/repos/ShadowMario/FNF-PsychEngine\",\"labels_url\":\"https://api.github.com/repos/ShadowMario/FNF-PsychEngine/issues/7913/labels{/name}\",\"comments_url\":\"https://api.github.com/repos/ShadowMario/FNF-PsychEngine/issues/7913/comments\",\"events_url\":\"https://api.github.com/repos/ShadowMario/FNF-PsychEngine/issues/7913/events\",\"html_url\":\"https://github.com/ShadowMario/FNF-PsychEngine/issues/7913\",\"id\":1190631695,\"node_id\":\"I_kwDOFuJ1-M5G95kP\",\"number\":7913,\"title\":\"Is there a *chance* of discussions coming back?\",\"user\":{\"login\":\"ItsCapp\",\"id\":93293747,\"node_id\":\"U_kgDOBY-Msw\",\"avatar_url\":\"https://avatars.githubusercontent.com/u/93293747?v=4\",\"gravatar_id\":\"\",\"url\":\"https://api.github.com/users/ItsCapp\",\"html_url\":\"https://github.com/ItsCapp\",\"followers_url\":\"https://api.github.com/users/ItsCapp/followers\",\"following_url\":\"https://api.github.com/users/ItsCapp/following{/other_user}\",\"gists_url\":\"https://api.github.com/users/ItsCapp/gists{/gist_id}\",\"starred_url\":\"https://api.github.com/users/ItsCapp/starred{/owner}{/repo}\",\"subscriptions_url\":\"https://api.github.com/users/ItsCapp/subscriptions\",\"organizations_url\":\"https://api.github.com/users/ItsCapp/orgs\",\"repos_url\":\"https://api.github.com/users/ItsCapp/repos\",\"events_url\":\"https://api.github.com/users/ItsCapp/events{/privacy}\",\"received_events_url\":\"https://api.github.com/users/ItsCapp/received_events\",\"type\":\"User\",\"site_admin\":false},\"labels\":[{\"id\":3149894278,\"node_id\":\"MDU6TGFiZWwzMTQ5ODk0Mjc4\",\"url\":\"https://api.github.com/repos/ShadowMario/FNF-PsychEngine/labels/question\",\"name\":\"question\",\"color\":\"d876e3\",\"default\":true,\"description\":\"Further information is requested\"}],\"state\":\"closed\",\"locked\":false,\"assignee\":null,\"assignees\":[],\"milestone\":null,\"comments\":9,\"created_at\":\"2022-04-02T13:21:11Z\",\"updated_at\":\"2022-04-03T22:21:31Z\",\"closed_at\":\"2022-04-03T22:21:30Z\",\"author_association\":\"NONE\",\"active_lock_reason\":null,\"body\":\"### What is your question?\\\\n\\\\nThis is not a request to bring discussions back, this is simply a question asking whether discussions will ever come back in the future, as I found it incredibly useful up until the spam begun.\",\"reactions\":{\"url\":\"https://api.github.com/repos/ShadowMario/FNF-PsychEngine/issues/7913/reactions\",\"total_count\":0,\"+1\":0,\"-1\":0,\"laugh\":0,\"hooray\":0,\"confused\":0,\"heart\":0,\"rocket\":0,\"eyes\":0},\"timeline_url\":\"https://api.github.com/repos/ShadowMario/FNF-PsychEngine/issues/7913/timeline\",\"performed_via_github_app\":null}},\"public\":true,\"created_at\":\"2022-04-03T22:21:31Z\"},{\"id\":\"21088048390\",\"type\":\"CreateEvent\",\"actor\":{\"id\":12127408,\"login\":\"ytakefuji\",\"display_login\":\"ytakefuji\",\"gravatar_id\":\"\",\"url\":\"https://api.github.com/users/ytakefuji\",\"avatar_url\":\"https://avatars.githubusercontent.com/u/12127408?\"},\"repo\":{\"id\":475327602,\"name\":\"ytakefuji/dyDNS\",\"url\":\"https://api.github.com/repos/ytakefuji/dyDNS\"},\"payload\":{\"ref\":\"add-license-1\",\"ref_type\":\"branch\",\"master_branch\":\"main\",\"description\":null,\"pusher_type\":\"user\"},\"public\":true,\"created_at\":\"2022-04-03T22:21:31Z\"},{\"id\":\"21088048388\",\"type\":\"PushEvent\",\"actor\":{\"id\":41898282,\"login\":\"github-actions[bot]\",\"display_login\":\"github-actions\",\"gravatar_id\":\"\",\"url\":\"https://api.github.com/users/github-actions[bot]\",\"avatar_url\":\"https://avatars.githubusercontent.com/u/41898282?\"},\"repo\":{\"id\":328220286,\"name\":\"BrunoWilkinson/BrunoWilkinson\",\"url\":\"https://api.github.com/repos/BrunoWilkinson/BrunoWilkinson\"},\"payload\":{\"push_id\":9526020645,\"size\":1,\"distinct_size\":1,\"ref\":\"refs/heads/main\",\"head\":\"d20b7b21aa655c839512e21bbc30cadb5bc34936\",\"before\":\"15884c6923082d0655e0a790a02825c80ae401a4\",\"commits\":[{\"sha\":\"d20b7b21aa655c839512e21bbc30cadb5bc34936\",\"author\":{\"email\":\"41898282+github-actions[bot]@users.noreply.github.com\",\"name\":\"github-actions[bot]\"},\"message\":\"Update github-metrics.svg - [Skip GitHub Action]\",\"distinct\":true,\"url\":\"https://api.github.com/repos/BrunoWilkinson/BrunoWilkinson/commits/d20b7b21aa655c839512e21bbc30cadb5bc34936\"}]},\"public\":true,\"created_at\":\"2022-04-03T22:21:31Z\"},{\"id\":\"21088048389\",\"type\":\"PushEvent\",\"actor\":{\"id\":91356545,\"login\":\"ALI0ne\",\"display_login\":\"ALI0ne\",\"gravatar_id\":\"\",\"url\":\"https://api.github.com/users/ALI0ne\",\"avatar_url\":\"https://avatars.githubusercontent.com/u/91356545?\"},\"repo\":{\"id\":411020993,\"name\":\"ALI0ne/vscode-extension-samples\",\"url\":\"https://api.github.com/repos/ALI0ne/vscode-extension-samples\"},\"payload\":{\"push_id\":9526020642,\"size\":1,\"distinct_size\":1,\"ref\":\"refs/heads/snyk-upgrade-d8a2f296df3cf13342a88b7bada321c7\",\"head\":\"5886cc099cac6f9890e0a9afc49f39a36c1acaad\",\"before\":\"57bcea06b04b0f602c9e702147c831dccd0eee4f\",\"commits\":[{\"sha\":\"5886cc099cac6f9890e0a9afc49f39a36c1acaad\",\"author\":{\"email\":\"snyk-bot@snyk.io\",\"name\":\"snyk-bot\"},\"message\":\"feat: upgrade vscode-html-languageservice from 3.0.3 to 4.2.2\\\\n\\\\nSnyk has created this PR to upgrade vscode-html-languageservice from 3.0.3 to 4.2.2.\\\\n\\\\nSee this package in npm:\\\\nhttps://www.npmjs.com/package/vscode-html-languageservice\\\\n\\\\nSee this project in Snyk:\\\\nhttps://app.snyk.io/org/alimazloum0ne/project/1a7e0a1c-579c-45da-bd74-4cdcaaf21596?utm_source=github&utm_medium=referral&page=upgrade-pr\",\"distinct\":true,\"url\":\"https://api.github.com/repos/ALI0ne/vscode-extension-samples/commits/5886cc099cac6f9890e0a9afc49f39a36c1acaad\"}]},\"public\":true,\"created_at\":\"2022-04-03T22:21:31Z\"},{\"id\":\"21088048375\",\"type\":\"PushEvent\",\"actor\":{\"id\":41898282,\"login\":\"github-actions[bot]\",\"display_login\":\"github-actions\",\"gravatar_id\":\"\",\"url\":\"https://api.github.com/users/github-actions[bot]\",\"avatar_url\":\"https://avatars.githubusercontent.com/u/41898282?\"},\"repo\":{\"id\":458644720,\"name\":\"cnftstats/claynation\",\"url\":\"https://api.github.com/repos/cnftstats/claynation\"},\"payload\":{\"push_id\":9526020635,\"size\":1,\"distinct_size\":1,\"ref\":\"refs/heads/main\",\"head\":\"0675473e73b19b3e0244dc764fbb3ed5d94bc338\",\"before\":\"460273f80dee68aba0a4de29a915f3fa6025ccde\",\"commits\":[{\"sha\":\"0675473e73b19b3e0244dc764fbb3ed5d94bc338\",\"author\":{\"email\":\"actions@github.com\",\"name\":\"actions-user\"},\"message\":\"DTE updated Sun Apr  3 22:21:27 UTC 2022\",\"distinct\":true,\"url\":\"https://api.github.com/repos/cnftstats/claynation/commits/0675473e73b19b3e0244dc764fbb3ed5d94bc338\"}]},\"public\":true,\"created_at\":\"2022-04-03T22:21:31Z\"},{\"id\":\"21088048379\",\"type\":\"PullRequestEvent\",\"actor\":{\"id\":49699333,\"login\":\"dependabot[bot]\",\"display_login\":\"dependabot\",\"gravatar_id\":\"\",\"url\":\"https://api.github.com/users/dependabot[bot]\",\"avatar_url\":\"https://avatars.githubusercontent.com/u/49699333?\"},\"repo\":{\"id\":405431736,\"name\":\"jamescurtin/jamesandelizedotcom\",\"url\":\"https://api.github.com/repos/jamescurtin/jamesandelizedotcom\"},\"payload\":{\"action\":\"opened\",\"number\":262,\"pull_request\":{\"url\":\"https://api.github.com/repos/jamescurtin/jamesandelizedotcom/pulls/262\",\"id\":898393747,\"node_id\":\"PR_kwDOGCpluM41jGaT\",\"html_url\":\"https://github.com/jamescurtin/jamesandelizedotcom/pull/262\",\"diff_url\":\"https://github.com/jamescurtin/jamesandelizedotcom/pull/262.diff\",\"patch_url\":\"https://github.com/jamescurtin/jamesandelizedotcom/pull/262.patch\",\"issue_url\":\"https://api.github.com/repos/jamescurtin/jamesandelizedotcom/issues/262\",\"number\":262,\"state\":\"open\",\"locked\":false,\"title\":\"Bump gatsby-source-filesystem from 4.6.0 to 4.11.1\",\"user\":{\"login\":\"dependabot[bot]\",\"id\":49699333,\"node_id\":\"MDM6Qm90NDk2OTkzMzM=\",\"avatar_url\":\"https://avatars.githubusercontent.com/in/29110?v=4\",\"gravatar_id\":\"\",\"url\":\"https://api.github.com/users/dependabot%5Bbot%5D\",\"html_url\":\"https://github.com/apps/dependabot\",\"followers_url\":\"https://api.github.com/users/dependabot%5Bbot%5D/followers\",\"following_url\":\"https://api.github.com/users/dependabot%5Bbot%5D/following{/other_user}\",\"gists_url\":\"https://api.github.com/users/dependabot%5Bbot%5D/gists{/gist_id}\",\"starred_url\":\"https://api.github.com/users/dependabot%5Bbot%5D/starred{/owner}{/repo}\",\"subscriptions_url\":\"https://api.github.com/users/dependabot%5Bbot%5D/subscriptions\",\"organizations_url\":\"https://api.github.com/users/dependabot%5Bbot%5D/orgs\",\"repos_url\":\"https://api.github.com/users/dependabot%5Bbot%5D/repos\",\"events_url\":\"https://api.github.com/users/dependabot%5Bbot%5D/events{/privacy}\",\"received_events_url\":\"https://api.github.com/users/dependabot%5Bbot%5D/received_events\",\"type\":\"Bot\",\"site_admin\":false},\"body\":\"Bumps [gatsby-source-filesystem](https://github.com/gatsbyjs/gatsby/tree/HEAD/packages/gatsby-source-filesystem) from 4.6.0 to 4.11.1.\\\\n<details>\\\\n<summary>Release notes</summary>\\\\n<p><em>Sourced from <a href=\\\\\"https://github.com/gatsbyjs/gatsby/releases\\\\\">gatsby-source-filesystem\\'s releases</a>.</em></p>\\\\n<blockquote>\\\\n<h2>v4.11</h2>\\\\n<p>Welcome to <code>gatsby@4.11.0</code> release (March 2022  #<!-- raw HTML omitted --><!-- raw HTML omitted -->3)</p>\\\\n<p>Key highlights of this release:</p>\\\\n<ul>\\\\n<li><a href=\\\\\"https://www.gatsbyjs.com/docs/reference/release-notes/v4.11#gatsby-source-shopify-v7\\\\\"><code>gatsby-source-shopify</code> v7</a></li>\\\\n<li><a href=\\\\\"https://www.gatsbyjs.com/docs/reference/release-notes/v4.11#react-18\\\\\">React 18</a></li>\\\\n</ul>\\\\n<p>Also check out <a href=\\\\\"https://www.gatsbyjs.com/docs/reference/release-notes/v4.11#notable-bugfixes--improvements\\\\\">notable bugfixes</a>.</p>\\\\n<p><strong>Bleeding Edge:</strong> Want to try new features as soon as possible? Install <code>gatsby@next</code> and let us know\\\\nif you have any <a href=\\\\\"https://github.com/gatsbyjs/gatsby/issues\\\\\">issues</a>.</p>\\\\n<p><a href=\\\\\"https://www.gatsbyjs.com/docs/reference/release-notes/v4.10\\\\\">Previous release notes</a></p>\\\\n<p><a href=\\\\\"https://github.com/gatsbyjs/gatsby/compare/gatsby@4.11.0-next.0...gatsby@4.11.0\\\\\">Full changelog</a></p>\\\\n<h2>v4.10</h2>\\\\n<p>Welcome to <code>gatsby@4.10.0</code> release (March 2022 #<!-- raw HTML omitted --><!-- raw HTML omitted -->2)</p>\\\\n<p>Key highlights of this release:</p>\\\\n<ul>\\\\n<li><a href=\\\\\"https://www.gatsbyjs.com/docs/reference/release-notes/v4.10#image-cdn\\\\\">Image CDN</a></li>\\\\n</ul>\\\\n<p>Also check out <a href=\\\\\"https://www.gatsbyjs.com/docs/reference/release-notes/v4.10#notable-bugfixes--improvements\\\\\">notable bugfixes</a>.</p>\\\\n<p><strong>Bleeding Edge:</strong> Want to try new features as soon as possible? Install <code>gatsby@next</code> and let us know\\\\nif you have any <a href=\\\\\"https://github.com/gatsbyjs/gatsby/issues\\\\\">issues</a>.</p>\\\\n<p><a href=\\\\\"https://www.gatsbyjs.com/docs/reference/release-notes/v4.9\\\\\">Previous release notes</a></p>\\\\n<p><a href=\\\\\"https://github.com/gatsbyjs/gatsby/compare/gatsby@4.11.0-next.0...gatsby@4.11.0\\\\\">Full changelog</a></p>\\\\n<h2>v4.9</h2>\\\\n<p>Welcome to <code>gatsby@4.9.0</code> release (March 2022 #<!-- raw HTML omitted --><!-- raw HTML omitted -->1)</p>\\\\n<p>Key highlights of this release:</p>\\\\n<ul>\\\\n<li><a href=\\\\\"https://www.gatsbyjs.com/docs/reference/release-notes/v4.9#support-for-typescript-in-gatsby-config-and-gatsby-node\\\\\">Support for TypeScript in <code>gatsby-config</code> and <code>gatsby-node</code></a></li>\\\\n</ul>\\\\n<p>Also check out <a href=\\\\\"https://www.gatsbyjs.com/docs/reference/release-notes/v4.9#notable-bugfixes--improvements\\\\\">notable bugfixes</a>.</p>\\\\n<p><strong>Bleeding Edge:</strong> Want to try new features as soon as possible? Install <code>gatsby@next</code> and let us know if you have any <a href=\\\\\"https://github.com/gatsbyjs/gatsby/issues\\\\\">issues</a>.</p>\\\\n<p><a href=\\\\\"https://www.gatsbyjs.com/docs/reference/release-notes/v4.8\\\\\">Previous release notes</a></p>\\\\n<!-- raw HTML omitted -->\\\\n</blockquote>\\\\n<p>... (truncated)</p>\\\\n</details>\\\\n<details>\\\\n<summary>Changelog</summary>\\\\n<p><em>Sourced from <a href=\\\\\"https://github.com/gatsbyjs/gatsby/blob/master/packages/gatsby-source-filesystem/CHANGELOG.md\\\\\">gatsby-source-filesystem\\'s changelog</a>.</em></p>\\\\n<blockquote>\\\\n<h3><a href=\\\\\"https://github.com/gatsbyjs/gatsby/commits/gatsby-source-filesystem@4.11.1/packages/gatsby-source-filesystem\\\\\">4.11.1</a> (2022-03-31)</h3>\\\\n<p><strong>Note:</strong> Version bump only for package gatsby-source-filesystem</p>\\\\n<h2><a href=\\\\\"https://github.com/gatsbyjs/gatsby/commits/gatsby-source-filesystem@4.11.0/packages/gatsby-source-filesystem\\\\\">4.11.0</a> (2022-03-29)</h2>\\\\n<p><a href=\\\\\"https://www.gatsbyjs.com/docs/reference/release-notes/v4.11\\\\\">🧾 Release notes</a></p>\\\\n<h4>Bug Fixes</h4>\\\\n<ul>\\\\n<li>cleanup tests <a href=\\\\\"https://github-redirect.dependabot.com/gatsbyjs/gatsby/issues/35200\\\\\">#35200</a> (<a href=\\\\\"https://github.com/gatsbyjs/gatsby/commit/f4121fbd7fce0034816e3e743481c13cb4181d07\\\\\">f4121fb</a>)</li>\\\\n</ul>\\\\n<h4>Chores</h4>\\\\n<ul>\\\\n<li>replace all uses of gatsbyjs.org with gatsbyjs.com <a href=\\\\\"https://github-redirect.dependabot.com/gatsbyjs/gatsby/issues/35101\\\\\">#35101</a> (<a href=\\\\\"https://github.com/gatsbyjs/gatsby/commit/16cff413e154dc4e74fc5be631d52c76273e5cbc\\\\\">16cff41</a>)</li>\\\\n</ul>\\\\n<h3><a href=\\\\\"https://github.com/gatsbyjs/gatsby/commits/gatsby-source-filesystem@4.10.1/packages/gatsby-source-filesystem\\\\\">4.10.1</a> (2022-03-23)</h3>\\\\n<p><strong>Note:</strong> Version bump only for package gatsby-source-filesystem</p>\\\\n<h2><a href=\\\\\"https://github.com/gatsbyjs/gatsby/commits/gatsby-source-filesystem@4.10.0/packages/gatsby-source-filesystem\\\\\">4.10.0</a> (2022-03-16)</h2>\\\\n<p><a href=\\\\\"https://www.gatsbyjs.com/docs/reference/release-notes/v4.10\\\\\">🧾 Release notes</a></p>\\\\n<p><strong>Note:</strong> Version bump only for package gatsby-source-filesystem</p>\\\\n<h3><a href=\\\\\"https://github.com/gatsbyjs/gatsby/commits/gatsby-source-filesystem@4.9.1/packages/gatsby-source-filesystem\\\\\">4.9.1</a> (2022-03-09)</h3>\\\\n<p><strong>Note:</strong> Version bump only for package gatsby-source-filesystem</p>\\\\n<h2><a href=\\\\\"https://github.com/gatsbyjs/gatsby/commits/gatsby-source-filesystem@4.9.0/packages/gatsby-source-filesystem\\\\\">4.9.0</a> (2022-03-01)</h2>\\\\n<p><a href=\\\\\"https://www.gatsbyjs.com/docs/reference/release-notes/v4.9\\\\\">🧾 Release notes</a></p>\\\\n<h4>Chores</h4>\\\\n<ul>\\\\n<li>Format changelog files (<a href=\\\\\"https://github.com/gatsbyjs/gatsby/commit/088f23b084b67f746a383e06e9216cef83270317\\\\\">088f23b</a>)</li>\\\\n</ul>\\\\n<h3><a href=\\\\\"https://github.com/gatsbyjs/gatsby/commits/gatsby-source-filesystem@4.8.2/packages/gatsby-source-filesystem\\\\\">4.8.2</a> (2022-03-01)</h3>\\\\n<p><strong>Note:</strong> Version bump only for package gatsby-source-filesystem</p>\\\\n<h3><a href=\\\\\"https://github.com/gatsbyjs/gatsby/commits/gatsby-source-filesystem@4.8.1/packages/gatsby-source-filesystem\\\\\">4.8.1</a> (2022-02-25)</h3>\\\\n<p><strong>Note:</strong> Version bump only for package gatsby-source-filesystem</p>\\\\n<h2><a href=\\\\\"https://github.com/gatsbyjs/gatsby/commits/gatsby-source-filesystem@4.8.0/packages/gatsby-source-filesystem\\\\\">4.8.0</a> (2022-02-22)</h2>\\\\n<p><a href=\\\\\"https://www.gatsbyjs.com/docs/reference/release-notes/v4.8\\\\\">🧾 Release notes</a></p>\\\\n<!-- raw HTML omitted -->\\\\n</blockquote>\\\\n<p>... (truncated)</p>\\\\n</details>\\\\n<details>\\\\n<summary>Commits</summary>\\\\n<ul>\\\\n<li><a href=\\\\\"https://github.com/gatsbyjs/gatsby/commit/ad8c330df7b452b2e515b20d0d11dcb1385b9f6b\\\\\"><code>ad8c330</code></a> chore(release): Publish</li>\\\\n<li><a href=\\\\\"https://github.com/gatsbyjs/gatsby/commit/ac3f088a160cfb4913310a6992b106f760c2cafd\\\\\"><code>ac3f088</code></a> chore(release): Publish</li>\\\\n<li><a href=\\\\\"https://github.com/gatsbyjs/gatsby/commit/d278739399df5e1cfdaabecbaa9c06957d5b05f0\\\\\"><code>d278739</code></a> chore(release): Publish next</li>\\\\n<li><a href=\\\\\"https://github.com/gatsbyjs/gatsby/commit/ecd1120f9b89ec99edec0c20ce5611ac1483f687\\\\\"><code>ecd1120</code></a> chore(changelogs): update changelogs (<a href=\\\\\"https://github.com/gatsbyjs/gatsby/tree/HEAD/packages/gatsby-source-filesystem/issues/35217\\\\\">#35217</a>)</li>\\\\n<li><a href=\\\\\"https://github.com/gatsbyjs/gatsby/commit/f4121fbd7fce0034816e3e743481c13cb4181d07\\\\\"><code>f4121fb</code></a> fix(gatsby-source-filesystem): cleanup tests (<a href=\\\\\"https://github.com/gatsbyjs/gatsby/tree/HEAD/packages/gatsby-source-filesystem/issues/35200\\\\\">#35200</a>)</li>\\\\n<li><a href=\\\\\"https://github.com/gatsbyjs/gatsby/commit/a9fd6bef3b2b9150de31e1632bfd383ec331743a\\\\\"><code>a9fd6be</code></a> chore(release): Publish next</li>\\\\n<li><a href=\\\\\"https://github.com/gatsbyjs/gatsby/commit/16cff413e154dc4e74fc5be631d52c76273e5cbc\\\\\"><code>16cff41</code></a> chore: replace all uses of gatsbyjs.org with gatsbyjs.com (<a href=\\\\\"https://github.com/gatsbyjs/gatsby/tree/HEAD/packages/gatsby-source-filesystem/issues/35101\\\\\">#35101</a>)</li>\\\\n<li><a href=\\\\\"https://github.com/gatsbyjs/gatsby/commit/2cfd7dc3db6e4a6325962160170edf8c51053217\\\\\"><code>2cfd7dc</code></a> chore(release): Publish next</li>\\\\n<li><a href=\\\\\"https://github.com/gatsbyjs/gatsby/commit/b3f330aa8a82a1b33a39e6f2b76f9d4a7ce35600\\\\\"><code>b3f330a</code></a> chore(changelogs): update changelogs (<a href=\\\\\"https://github.com/gatsbyjs/gatsby/tree/HEAD/packages/gatsby-source-filesystem/issues/35149\\\\\">#35149</a>)</li>\\\\n<li><a href=\\\\\"https://github.com/gatsbyjs/gatsby/commit/e0f8815c007b7915f4d69264b8a5714a4c0ed31b\\\\\"><code>e0f8815</code></a> chore(release): Publish next pre-minor</li>\\\\n<li>Additional commits viewable in <a href=\\\\\"https://github.com/gatsbyjs/gatsby/commits/gatsby-source-filesystem@4.11.1/packages/gatsby-source-filesystem\\\\\">compare view</a></li>\\\\n</ul>\\\\n</details>\\\\n<br />\\\\n\\\\n\\\\n[![Dependabot compatibility score](https://dependabot-badges.githubapp.com/badges/compatibility_score?dependency-name=gatsby-source-filesystem&package-manager=npm_and_yarn&previous-version=4.6.0&new-version=4.11.1)](https://docs.github.com/en/github/managing-security-vulnerabilities/about-dependabot-security-updates#about-compatibility-scores)\\\\n\\\\nDependabot will resolve any conflicts with this PR as long as you don\\'t alter it yourself. You can also trigger a rebase manually by commenting `@dependabot rebase`.\\\\n\\\\n[//]: # (dependabot-automerge-start)\\\\n[//]: # (dependabot-automerge-end)\\\\n\\\\n---\\\\n\\\\n<details>\\\\n<summary>Dependabot commands and options</summary>\\\\n<br />\\\\n\\\\nYou can trigger Dependabot actions by commenting on this PR:\\\\n- `@dependabot rebase` will rebase this PR\\\\n- `@dependabot recreate` will recreate this PR, overwriting any edits that have been made to it\\\\n- `@dependabot merge` will merge this PR after your CI passes on it\\\\n- `@dependabot squash and merge` will squash and merge this PR after your CI passes on it\\\\n- `@dependabot cancel merge` will cancel a previously requested merge and block automerging\\\\n- `@dependabot reopen` will reopen this PR if it is closed\\\\n- `@dependabot close` will close this PR and stop Dependabot recreating it. You can achieve the same result by closing it manually\\\\n- `@dependabot ignore this major version` will close this PR and stop Dependabot creating any more for this major version (unless you reopen the PR or upgrade to it yourself)\\\\n- `@dependabot ignore this minor version` will close this PR and stop Dependabot creating any more for this minor version (unless you reopen the PR or upgrade to it yourself)\\\\n- `@dependabot ignore this dependency` will close this PR and stop Dependabot creating any more for this dependency (unless you reopen the PR or upgrade to it yourself)\\\\n\\\\n\\\\n</details>\",\"created_at\":\"2022-04-03T22:21:30Z\",\"updated_at\":\"2022-04-03T22:21:30Z\",\"closed_at\":null,\"merged_at\":null,\"merge_commit_sha\":null,\"assignee\":null,\"assignees\":[],\"requested_reviewers\":[],\"requested_teams\":[],\"labels\":[],\"milestone\":null,\"draft\":false,\"commits_url\":\"https://api.github.com/repos/jamescurtin/jamesandelizedotcom/pulls/262/commits\",\"review_comments_url\":\"https://api.github.com/repos/jamescurtin/jamesandelizedotcom/pulls/262/comments\",\"review_comment_url\":\"https://api.github.com/repos/jamescurtin/jamesandelizedotcom/pulls/comments{/number}\",\"comments_url\":\"https://api.github.com/repos/jamescurtin/jamesandelizedotcom/issues/262/comments\",\"statuses_url\":\"https://api.github.com/repos/jamescurtin/jamesandelizedotcom/statuses/eaa857ef7d379867665e240d0b55ab4710825a2e\",\"head\":{\"label\":\"jamescurtin:dependabot/npm_and_yarn/gatsby-source-filesystem-4.11.1\",\"ref\":\"dependabot/npm_and_yarn/gatsby-source-filesystem-4.11.1\",\"sha\":\"eaa857ef7d379867665e240d0b55ab4710825a2e\",\"user\":{\"login\":\"jamescurtin\",\"id\":10189269,\"node_id\":\"MDQ6VXNlcjEwMTg5MjY5\",\"avatar_url\":\"https://avatars.githubusercontent.com/u/10189269?v=4\",\"gravatar_id\":\"\",\"url\":\"https://api.github.com/users/jamescurtin\",\"html_url\":\"https://github.com/jamescurtin\",\"followers_url\":\"https://api.github.com/users/jamescurtin/followers\",\"following_url\":\"https://api.github.com/users/jamescurtin/following{/other_user}\",\"gists_url\":\"https://api.github.com/users/jamescurtin/gists{/gist_id}\",\"starred_url\":\"https://api.github.com/users/jamescurtin/starred{/owner}{/repo}\",\"subscriptions_url\":\"https://api.github.com/users/jamescurtin/subscriptions\",\"organizations_url\":\"https://api.github.com/users/jamescurtin/orgs\",\"repos_url\":\"https://api.github.com/users/jamescurtin/repos\",\"events_url\":\"https://api.github.com/users/jamescurtin/events{/privacy}\",\"received_events_url\":\"https://api.github.com/users/jamescurtin/received_events\",\"type\":\"User\",\"site_admin\":false},\"repo\":{\"id\":405431736,\"node_id\":\"MDEwOlJlcG9zaXRvcnk0MDU0MzE3MzY=\",\"name\":\"jamesandelizedotcom\",\"full_name\":\"jamescurtin/jamesandelizedotcom\",\"private\":false,\"owner\":{\"login\":\"jamescurtin\",\"id\":10189269,\"node_id\":\"MDQ6VXNlcjEwMTg5MjY5\",\"avatar_url\":\"https://avatars.githubusercontent.com/u/10189269?v=4\",\"gravatar_id\":\"\",\"url\":\"https://api.github.com/users/jamescurtin\",\"html_url\":\"https://github.com/jamescurtin\",\"followers_url\":\"https://api.github.com/users/jamescurtin/followers\",\"following_url\":\"https://api.github.com/users/jamescurtin/following{/other_user}\",\"gists_url\":\"https://api.github.com/users/jamescurtin/gists{/gist_id}\",\"starred_url\":\"https://api.github.com/users/jamescurtin/starred{/owner}{/repo}\",\"subscriptions_url\":\"https://api.github.com/users/jamescurtin/subscriptions\",\"organizations_url\":\"https://api.github.com/users/jamescurtin/orgs\",\"repos_url\":\"https://api.github.com/users/jamescurtin/repos\",\"events_url\":\"https://api.github.com/users/jamescurtin/events{/privacy}\",\"received_events_url\":\"https://api.github.com/users/jamescurtin/received_events\",\"type\":\"User\",\"site_admin\":false},\"html_url\":\"https://github.com/jamescurtin/jamesandelizedotcom\",\"description\":\"James and Elize\\'s Wedding Website\",\"fork\":false,\"url\":\"https://api.github.com/repos/jamescurtin/jamesandelizedotcom\",\"forks_url\":\"https://api.github.com/repos/jamescurtin/jamesandelizedotcom/forks\",\"keys_url\":\"https://api.github.com/repos/jamescurtin/jamesandelizedotcom/keys{/key_id}\",\"collaborators_url\":\"https://api.github.com/repos/jamescurtin/jamesandelizedotcom/collaborators{/collaborator}\",\"teams_url\":\"https://api.github.com/repos/jamescurtin/jamesandelizedotcom/teams\",\"hooks_url\":\"https://api.github.com/repos/jamescurtin/jamesandelizedotcom/hooks\",\"issue_events_url\":\"https://api.github.com/repos/jamescurtin/jamesandelizedotcom/issues/events{/number}\",\"events_url\":\"https://api.github.com/repos/jamescurtin/jamesandelizedotcom/events\",\"assignees_url\":\"https://api.github.com/repos/jamescurtin/jamesandelizedotcom/assignees{/user}\",\"branches_url\":\"https://api.github.com/repos/jamescurtin/jamesandelizedotcom/branches{/branch}\",\"tags_url\":\"https://api.github.com/repos/jamescurtin/jamesandelizedotcom/tags\",\"blobs_url\":\"https://api.github.com/repos/jamescurtin/jamesandelizedotcom/git/blobs{/sha}\",\"git_tags_url\":\"https://api.github.com/repos/jamescurtin/jamesandelizedotcom/git/tags{/sha}\",\"git_refs_url\":\"https://api.github.com/repos/jamescurtin/jamesandelizedotcom/git/refs{/sha}\",\"trees_url\":\"https://api.github.com/repos/jamescurtin/jamesandelizedotcom/git/trees{/sha}\",\"statuses_url\":\"https://api.github.com/repos/jamescurtin/jamesandelizedotcom/statuses/{sha}\",\"languages_url\":\"https://api.github.com/repos/jamescurtin/jamesandelizedotcom/languages\",\"stargazers_url\":\"https://api.github.com/repos/jamescurtin/jamesandelizedotcom/stargazers\",\"contributors_url\":\"https://api.github.com/repos/jamescurtin/jamesandelizedotcom/contributors\",\"subscribers_url\":\"https://api.github.com/repos/jamescurtin/jamesandelizedotcom/subscribers\",\"subscription_url\":\"https://api.github.com/repos/jamescurtin/jamesandelizedotcom/subscription\",\"commits_url\":\"https://api.github.com/repos/jamescurtin/jamesandelizedotcom/commits{/sha}\",\"git_commits_url\":\"https://api.github.com/repos/jamescurtin/jamesandelizedotcom/git/commits{/sha}\",\"comments_url\":\"https://api.github.com/repos/jamescurtin/jamesandelizedotcom/comments{/number}\",\"issue_comment_url\":\"https://api.github.com/repos/jamescurtin/jamesandelizedotcom/issues/comments{/number}\",\"contents_url\":\"https://api.github.com/repos/jamescurtin/jamesandelizedotcom/contents/{+path}\",\"compare_url\":\"https://api.github.com/repos/jamescurtin/jamesandelizedotcom/compare/{base}...{head}\",\"merges_url\":\"https://api.github.com/repos/jamescurtin/jamesandelizedotcom/merges\",\"archive_url\":\"https://api.github.com/repos/jamescurtin/jamesandelizedotcom/{archive_format}{/ref}\",\"downloads_url\":\"https://api.github.com/repos/jamescurtin/jamesandelizedotcom/downloads\",\"issues_url\":\"https://api.github.com/repos/jamescurtin/jamesandelizedotcom/issues{/number}\",\"pulls_url\":\"https://api.github.com/repos/jamescurtin/jamesandelizedotcom/pulls{/number}\",\"milestones_url\":\"https://api.github.com/repos/jamescurtin/jamesandelizedotcom/milestones{/number}\",\"notifications_url\":\"https://api.github.com/repos/jamescurtin/jamesandelizedotcom/notifications{?since,all,participating}\",\"labels_url\":\"https://api.github.com/repos/jamescurtin/jamesandelizedotcom/labels{/name}\",\"releases_url\":\"https://api.github.com/repos/jamescurtin/jamesandelizedotcom/releases{/id}\",\"deployments_url\":\"https://api.github.com/repos/jamescurtin/jamesandelizedotcom/deployments\",\"created_at\":\"2021-09-11T16:45:46Z\",\"updated_at\":\"2022-01-10T21:50:38Z\",\"pushed_at\":\"2022-04-03T22:21:31Z\",\"git_url\":\"git://github.com/jamescurtin/jamesandelizedotcom.git\",\"ssh_url\":\"git@github.com:jamescurtin/jamesandelizedotcom.git\",\"clone_url\":\"https://github.com/jamescurtin/jamesandelizedotcom.git\",\"svn_url\":\"https://github.com/jamescurtin/jamesandelizedotcom\",\"homepage\":\"https://jamesandelize.com\",\"size\":38654,\"stargazers_count\":0,\"watchers_count\":0,\"language\":\"JavaScript\",\"has_issues\":true,\"has_projects\":false,\"has_downloads\":true,\"has_wiki\":false,\"has_pages\":true,\"forks_count\":0,\"mirror_url\":null,\"archived\":false,\"disabled\":false,\"open_issues_count\":4,\"license\":{\"key\":\"mit\",\"name\":\"MIT License\",\"spdx_id\":\"MIT\",\"url\":\"https://api.github.com/licenses/mit\",\"node_id\":\"MDc6TGljZW5zZTEz\"},\"allow_forking\":true,\"is_template\":false,\"topics\":[],\"visibility\":\"public\",\"forks\":0,\"open_issues\":4,\"watchers\":0,\"default_branch\":\"main\"}},\"base\":{\"label\":\"jamescurtin:main\",\"ref\":\"main\",\"sha\":\"03066b85b4b0a73711783fc467eee279ec5cf615\",\"user\":{\"login\":\"jamescurtin\",\"id\":10189269,\"node_id\":\"MDQ6VXNlcjEwMTg5MjY5\",\"avatar_url\":\"https://avatars.githubusercontent.com/u/10189269?v=4\",\"gravatar_id\":\"\",\"url\":\"https://api.github.com/users/jamescurtin\",\"html_url\":\"https://github.com/jamescurtin\",\"followers_url\":\"https://api.github.com/users/jamescurtin/followers\",\"following_url\":\"https://api.github.com/users/jamescurtin/following{/other_user}\",\"gists_url\":\"https://api.github.com/users/jamescurtin/gists{/gist_id}\",\"starred_url\":\"https://api.github.com/users/jamescurtin/starred{/owner}{/repo}\",\"subscriptions_url\":\"https://api.github.com/users/jamescurtin/subscriptions\",\"organizations_url\":\"https://api.github.com/users/jamescurtin/orgs\",\"repos_url\":\"https://api.github.com/users/jamescurtin/repos\",\"events_url\":\"https://api.github.com/users/jamescurtin/events{/privacy}\",\"received_events_url\":\"https://api.github.com/users/jamescurtin/received_events\",\"type\":\"User\",\"site_admin\":false},\"repo\":{\"id\":405431736,\"node_id\":\"MDEwOlJlcG9zaXRvcnk0MDU0MzE3MzY=\",\"name\":\"jamesandelizedotcom\",\"full_name\":\"jamescurtin/jamesandelizedotcom\",\"private\":false,\"owner\":{\"login\":\"jamescurtin\",\"id\":10189269,\"node_id\":\"MDQ6VXNlcjEwMTg5MjY5\",\"avatar_url\":\"https://avatars.githubusercontent.com/u/10189269?v=4\",\"gravatar_id\":\"\",\"url\":\"https://api.github.com/users/jamescurtin\",\"html_url\":\"https://github.com/jamescurtin\",\"followers_url\":\"https://api.github.com/users/jamescurtin/followers\",\"following_url\":\"https://api.github.com/users/jamescurtin/following{/other_user}\",\"gists_url\":\"https://api.github.com/users/jamescurtin/gists{/gist_id}\",\"starred_url\":\"https://api.github.com/users/jamescurtin/starred{/owner}{/repo}\",\"subscriptions_url\":\"https://api.github.com/users/jamescurtin/subscriptions\",\"organizations_url\":\"https://api.github.com/users/jamescurtin/orgs\",\"repos_url\":\"https://api.github.com/users/jamescurtin/repos\",\"events_url\":\"https://api.github.com/users/jamescurtin/events{/privacy}\",\"received_events_url\":\"https://api.github.com/users/jamescurtin/received_events\",\"type\":\"User\",\"site_admin\":false},\"html_url\":\"https://github.com/jamescurtin/jamesandelizedotcom\",\"description\":\"James and Elize\\'s Wedding Website\",\"fork\":false,\"url\":\"https://api.github.com/repos/jamescurtin/jamesandelizedotcom\",\"forks_url\":\"https://api.github.com/repos/jamescurtin/jamesandelizedotcom/forks\",\"keys_url\":\"https://api.github.com/repos/jamescurtin/jamesandelizedotcom/keys{/key_id}\",\"collaborators_url\":\"https://api.github.com/repos/jamescurtin/jamesandelizedotcom/collaborators{/collaborator}\",\"teams_url\":\"https://api.github.com/repos/jamescurtin/jamesandelizedotcom/teams\",\"hooks_url\":\"https://api.github.com/repos/jamescurtin/jamesandelizedotcom/hooks\",\"issue_events_url\":\"https://api.github.com/repos/jamescurtin/jamesandelizedotcom/issues/events{/number}\",\"events_url\":\"https://api.github.com/repos/jamescurtin/jamesandelizedotcom/events\",\"assignees_url\":\"https://api.github.com/repos/jamescurtin/jamesandelizedotcom/assignees{/user}\",\"branches_url\":\"https://api.github.com/repos/jamescurtin/jamesandelizedotcom/branches{/branch}\",\"tags_url\":\"https://api.github.com/repos/jamescurtin/jamesandelizedotcom/tags\",\"blobs_url\":\"https://api.github.com/repos/jamescurtin/jamesandelizedotcom/git/blobs{/sha}\",\"git_tags_url\":\"https://api.github.com/repos/jamescurtin/jamesandelizedotcom/git/tags{/sha}\",\"git_refs_url\":\"https://api.github.com/repos/jamescurtin/jamesandelizedotcom/git/refs{/sha}\",\"trees_url\":\"https://api.github.com/repos/jamescurtin/jamesandelizedotcom/git/trees{/sha}\",\"statuses_url\":\"https://api.github.com/repos/jamescurtin/jamesandelizedotcom/statuses/{sha}\",\"languages_url\":\"https://api.github.com/repos/jamescurtin/jamesandelizedotcom/languages\",\"stargazers_url\":\"https://api.github.com/repos/jamescurtin/jamesandelizedotcom/stargazers\",\"contributors_url\":\"https://api.github.com/repos/jamescurtin/jamesandelizedotcom/contributors\",\"subscribers_url\":\"https://api.github.com/repos/jamescurtin/jamesandelizedotcom/subscribers\",\"subscription_url\":\"https://api.github.com/repos/jamescurtin/jamesandelizedotcom/subscription\",\"commits_url\":\"https://api.github.com/repos/jamescurtin/jamesandelizedotcom/commits{/sha}\",\"git_commits_url\":\"https://api.github.com/repos/jamescurtin/jamesandelizedotcom/git/commits{/sha}\",\"comments_url\":\"https://api.github.com/repos/jamescurtin/jamesandelizedotcom/comments{/number}\",\"issue_comment_url\":\"https://api.github.com/repos/jamescurtin/jamesandelizedotcom/issues/comments{/number}\",\"contents_url\":\"https://api.github.com/repos/jamescurtin/jamesandelizedotcom/contents/{+path}\",\"compare_url\":\"https://api.github.com/repos/jamescurtin/jamesandelizedotcom/compare/{base}...{head}\",\"merges_url\":\"https://api.github.com/repos/jamescurtin/jamesandelizedotcom/merges\",\"archive_url\":\"https://api.github.com/repos/jamescurtin/jamesandelizedotcom/{archive_format}{/ref}\",\"downloads_url\":\"https://api.github.com/repos/jamescurtin/jamesandelizedotcom/downloads\",\"issues_url\":\"https://api.github.com/repos/jamescurtin/jamesandelizedotcom/issues{/number}\",\"pulls_url\":\"https://api.github.com/repos/jamescurtin/jamesandelizedotcom/pulls{/number}\",\"milestones_url\":\"https://api.github.com/repos/jamescurtin/jamesandelizedotcom/milestones{/number}\",\"notifications_url\":\"https://api.github.com/repos/jamescurtin/jamesandelizedotcom/notifications{?since,all,participating}\",\"labels_url\":\"https://api.github.com/repos/jamescurtin/jamesandelizedotcom/labels{/name}\",\"releases_url\":\"https://api.github.com/repos/jamescurtin/jamesandelizedotcom/releases{/id}\",\"deployments_url\":\"https://api.github.com/repos/jamescurtin/jamesandelizedotcom/deployments\",\"created_at\":\"2021-09-11T16:45:46Z\",\"updated_at\":\"2022-01-10T21:50:38Z\",\"pushed_at\":\"2022-04-03T22:21:31Z\",\"git_url\":\"git://github.com/jamescurtin/jamesandelizedotcom.git\",\"ssh_url\":\"git@github.com:jamescurtin/jamesandelizedotcom.git\",\"clone_url\":\"https://github.com/jamescurtin/jamesandelizedotcom.git\",\"svn_url\":\"https://github.com/jamescurtin/jamesandelizedotcom\",\"homepage\":\"https://jamesandelize.com\",\"size\":38654,\"stargazers_count\":0,\"watchers_count\":0,\"language\":\"JavaScript\",\"has_issues\":true,\"has_projects\":false,\"has_downloads\":true,\"has_wiki\":false,\"has_pages\":true,\"forks_count\":0,\"mirror_url\":null,\"archived\":false,\"disabled\":false,\"open_issues_count\":4,\"license\":{\"key\":\"mit\",\"name\":\"MIT License\",\"spdx_id\":\"MIT\",\"url\":\"https://api.github.com/licenses/mit\",\"node_id\":\"MDc6TGljZW5zZTEz\"},\"allow_forking\":true,\"is_template\":false,\"topics\":[],\"visibility\":\"public\",\"forks\":0,\"open_issues\":4,\"watchers\":0,\"default_branch\":\"main\"}},\"_links\":{\"self\":{\"href\":\"https://api.github.com/repos/jamescurtin/jamesandelizedotcom/pulls/262\"},\"html\":{\"href\":\"https://github.com/jamescurtin/jamesandelizedotcom/pull/262\"},\"issue\":{\"href\":\"https://api.github.com/repos/jamescurtin/jamesandelizedotcom/issues/262\"},\"comments\":{\"href\":\"https://api.github.com/repos/jamescurtin/jamesandelizedotcom/issues/262/comments\"},\"review_comments\":{\"href\":\"https://api.github.com/repos/jamescurtin/jamesandelizedotcom/pulls/262/comments\"},\"review_comment\":{\"href\":\"https://api.github.com/repos/jamescurtin/jamesandelizedotcom/pulls/comments{/number}\"},\"commits\":{\"href\":\"https://api.github.com/repos/jamescurtin/jamesandelizedotcom/pulls/262/commits\"},\"statuses\":{\"href\":\"https://api.github.com/repos/jamescurtin/jamesandelizedotcom/statuses/eaa857ef7d379867665e240d0b55ab4710825a2e\"}},\"author_association\":\"CONTRIBUTOR\",\"auto_merge\":null,\"active_lock_reason\":null,\"merged\":false,\"mergeable\":null,\"rebaseable\":null,\"mergeable_state\":\"unknown\",\"merged_by\":null,\"comments\":0,\"review_comments\":0,\"maintainer_can_modify\":false,\"commits\":1,\"additions\":6,\"deletions\":7,\"changed_files\":2}},\"public\":true,\"created_at\":\"2022-04-03T22:21:31Z\"},{\"id\":\"21088048377\",\"type\":\"IssueCommentEvent\",\"actor\":{\"id\":44785097,\"login\":\"ShadowMario\",\"display_login\":\"ShadowMario\",\"gravatar_id\":\"\",\"url\":\"https://api.github.com/users/ShadowMario\",\"avatar_url\":\"https://avatars.githubusercontent.com/u/44785097?\"},\"repo\":{\"id\":383940088,\"name\":\"ShadowMario/FNF-PsychEngine\",\"url\":\"https://api.github.com/repos/ShadowMario/FNF-PsychEngine\"},\"payload\":{\"action\":\"created\",\"issue\":{\"url\":\"https://api.github.com/repos/ShadowMario/FNF-PsychEngine/issues/7913\",\"repository_url\":\"https://api.github.com/repos/ShadowMario/FNF-PsychEngine\",\"labels_url\":\"https://api.github.com/repos/ShadowMario/FNF-PsychEngine/issues/7913/labels{/name}\",\"comments_url\":\"https://api.github.com/repos/ShadowMario/FNF-PsychEngine/issues/7913/comments\",\"events_url\":\"https://api.github.com/repos/ShadowMario/FNF-PsychEngine/issues/7913/events\",\"html_url\":\"https://github.com/ShadowMario/FNF-PsychEngine/issues/7913\",\"id\":1190631695,\"node_id\":\"I_kwDOFuJ1-M5G95kP\",\"number\":7913,\"title\":\"Is there a *chance* of discussions coming back?\",\"user\":{\"login\":\"ItsCapp\",\"id\":93293747,\"node_id\":\"U_kgDOBY-Msw\",\"avatar_url\":\"https://avatars.githubusercontent.com/u/93293747?v=4\",\"gravatar_id\":\"\",\"url\":\"https://api.github.com/users/ItsCapp\",\"html_url\":\"https://github.com/ItsCapp\",\"followers_url\":\"https://api.github.com/users/ItsCapp/followers\",\"following_url\":\"https://api.github.com/users/ItsCapp/following{/other_user}\",\"gists_url\":\"https://api.github.com/users/ItsCapp/gists{/gist_id}\",\"starred_url\":\"https://api.github.com/users/ItsCapp/starred{/owner}{/repo}\",\"subscriptions_url\":\"https://api.github.com/users/ItsCapp/subscriptions\",\"organizations_url\":\"https://api.github.com/users/ItsCapp/orgs\",\"repos_url\":\"https://api.github.com/users/ItsCapp/repos\",\"events_url\":\"https://api.github.com/users/ItsCapp/events{/privacy}\",\"received_events_url\":\"https://api.github.com/users/ItsCapp/received_events\",\"type\":\"User\",\"site_admin\":false},\"labels\":[{\"id\":3149894278,\"node_id\":\"MDU6TGFiZWwzMTQ5ODk0Mjc4\",\"url\":\"https://api.github.com/repos/ShadowMario/FNF-PsychEngine/labels/question\",\"name\":\"question\",\"color\":\"d876e3\",\"default\":true,\"description\":\"Further information is requested\"}],\"state\":\"closed\",\"locked\":false,\"assignee\":null,\"assignees\":[],\"milestone\":null,\"comments\":9,\"created_at\":\"2022-04-02T13:21:11Z\",\"updated_at\":\"2022-04-03T22:21:31Z\",\"closed_at\":\"2022-04-03T22:21:30Z\",\"author_association\":\"NONE\",\"active_lock_reason\":null,\"body\":\"### What is your question?\\\\n\\\\nThis is not a request to bring discussions back, this is simply a question asking whether discussions will ever come back in the future, as I found it incredibly useful up until the spam begun.\",\"reactions\":{\"url\":\"https://api.github.com/repos/ShadowMario/FNF-PsychEngine/issues/7913/reactions\",\"total_count\":0,\"+1\":0,\"-1\":0,\"laugh\":0,\"hooray\":0,\"confused\":0,\"heart\":0,\"rocket\":0,\"eyes\":0},\"timeline_url\":\"https://api.github.com/repos/ShadowMario/FNF-PsychEngine/issues/7913/timeline\",\"performed_via_github_app\":null},\"comment\":{\"url\":\"https://api.github.com/repos/ShadowMario/FNF-PsychEngine/issues/comments/1086961399\",\"html_url\":\"https://github.com/ShadowMario/FNF-PsychEngine/issues/7913#issuecomment-1086961399\",\"issue_url\":\"https://api.github.com/repos/ShadowMario/FNF-PsychEngine/issues/7913\",\"id\":1086961399,\"node_id\":\"IC_kwDOFuJ1-M5Aybb3\",\"user\":{\"login\":\"ShadowMario\",\"id\":44785097,\"node_id\":\"MDQ6VXNlcjQ0Nzg1MDk3\",\"avatar_url\":\"https://avatars.githubusercontent.com/u/44785097?v=4\",\"gravatar_id\":\"\",\"url\":\"https://api.github.com/users/ShadowMario\",\"html_url\":\"https://github.com/ShadowMario\",\"followers_url\":\"https://api.github.com/users/ShadowMario/followers\",\"following_url\":\"https://api.github.com/users/ShadowMario/following{/other_user}\",\"gists_url\":\"https://api.github.com/users/ShadowMario/gists{/gist_id}\",\"starred_url\":\"https://api.github.com/users/ShadowMario/starred{/owner}{/repo}\",\"subscriptions_url\":\"https://api.github.com/users/ShadowMario/subscriptions\",\"organizations_url\":\"https://api.github.com/users/ShadowMario/orgs\",\"repos_url\":\"https://api.github.com/users/ShadowMario/repos\",\"events_url\":\"https://api.github.com/users/ShadowMario/events{/privacy}\",\"received_events_url\":\"https://api.github.com/users/ShadowMario/received_events\",\"type\":\"User\",\"site_admin\":false},\"created_at\":\"2022-04-03T22:21:30Z\",\"updated_at\":\"2022-04-03T22:21:30Z\",\"author_association\":\"OWNER\",\"body\":\"> yeah but somebody messaged shadow and he said that it will comeback\\\\r\\\\n\\\\r\\\\n![image](https://user-images.githubusercontent.com/44785097/161451228-a21f81fd-a98f-4226-8348-d5d56b60391f.png)\\\\r\\\\n\",\"reactions\":{\"url\":\"https://api.github.com/repos/ShadowMario/FNF-PsychEngine/issues/comments/1086961399/reactions\",\"total_count\":0,\"+1\":0,\"-1\":0,\"laugh\":0,\"hooray\":0,\"confused\":0,\"heart\":0,\"rocket\":0,\"eyes\":0},\"performed_via_github_app\":null}},\"public\":true,\"created_at\":\"2022-04-03T22:21:31Z\"},{\"id\":\"21088048368\",\"type\":\"PushEvent\",\"actor\":{\"id\":100386752,\"login\":\"RichCyph\",\"display_login\":\"RichCyph\",\"gravatar_id\":\"\",\"url\":\"https://api.github.com/users/RichCyph\",\"avatar_url\":\"https://avatars.githubusercontent.com/u/100386752?\"},\"repo\":{\"id\":471988478,\"name\":\"RichCyph/test\",\"url\":\"https://api.github.com/repos/RichCyph/test\"},\"payload\":{\"push_id\":9526020623,\"size\":1,\"distinct_size\":1,\"ref\":\"refs/heads/main\",\"head\":\"a4657ac501364dc97e003afeb12cf5c5a6292493\",\"before\":\"7b00728716f986acd894f7771f5db57242f7663c\",\"commits\":[{\"sha\":\"a4657ac501364dc97e003afeb12cf5c5a6292493\",\"author\":{\"email\":\"100386752+RichCyph@users.noreply.github.com\",\"name\":\"RichCyph\"},\"message\":\"commiting update\",\"distinct\":true,\"url\":\"https://api.github.com/repos/RichCyph/test/commits/a4657ac501364dc97e003afeb12cf5c5a6292493\"}]},\"public\":true,\"created_at\":\"2022-04-03T22:21:31Z\"},{\"id\":\"21088048369\",\"type\":\"PushEvent\",\"actor\":{\"id\":25180681,\"login\":\"renovate-bot\",\"display_login\":\"renovate-bot\",\"gravatar_id\":\"\",\"url\":\"https://api.github.com/users/renovate-bot\",\"avatar_url\":\"https://avatars.githubusercontent.com/u/25180681?\"},\"repo\":{\"id\":198908219,\"name\":\"renovate-bot/nodejs-dialogflow\",\"url\":\"https://api.github.com/repos/renovate-bot/nodejs-dialogflow\"},\"payload\":{\"push_id\":9526020625,\"size\":0,\"distinct_size\":0,\"ref\":\"refs/heads/main\",\"head\":\"18f1d4072b53667d73aaf3a33ae1a7564252ba7c\",\"before\":\"18f1d4072b53667d73aaf3a33ae1a7564252ba7c\",\"commits\":[]},\"public\":true,\"created_at\":\"2022-04-03T22:21:31Z\"},{\"id\":\"21088048373\",\"type\":\"PushEvent\",\"actor\":{\"id\":50020240,\"login\":\"LarryPrato\",\"display_login\":\"LarryPrato\",\"gravatar_id\":\"\",\"url\":\"https://api.github.com/users/LarryPrato\",\"avatar_url\":\"https://avatars.githubusercontent.com/u/50020240?\"},\"repo\":{\"id\":421938118,\"name\":\"LarryPrato/EAD_PI\",\"url\":\"https://api.github.com/repos/LarryPrato/EAD_PI\"},\"payload\":{\"push_id\":9526020624,\"size\":1,\"distinct_size\":1,\"ref\":\"refs/heads/main\",\"head\":\"16815dda5a93ff7138d57e761f535ac91c3e38bb\",\"before\":\"569f661be6eefbedcf4d8ab18fb6de86850d93c0\",\"commits\":[{\"sha\":\"16815dda5a93ff7138d57e761f535ac91c3e38bb\",\"author\":{\"email\":\"50020240+LarryPrato@users.noreply.github.com\",\"name\":\"larryprato\"},\"message\":\"Add files via upload\",\"distinct\":true,\"url\":\"https://api.github.com/repos/LarryPrato/EAD_PI/commits/16815dda5a93ff7138d57e761f535ac91c3e38bb\"}]},\"public\":true,\"created_at\":\"2022-04-03T22:21:31Z\"},{\"id\":\"21088048372\",\"type\":\"IssueCommentEvent\",\"actor\":{\"id\":72047001,\"login\":\"DanteOz\",\"display_login\":\"DanteOz\",\"gravatar_id\":\"\",\"url\":\"https://api.github.com/users/DanteOz\",\"avatar_url\":\"https://avatars.githubusercontent.com/u/72047001?\"},\"repo\":{\"id\":273582663,\"name\":\"JuliaLang/juliaup\",\"url\":\"https://api.github.com/repos/JuliaLang/juliaup\"},\"payload\":{\"action\":\"created\",\"issue\":{\"url\":\"https://api.github.com/repos/JuliaLang/juliaup/issues/253\",\"repository_url\":\"https://api.github.com/repos/JuliaLang/juliaup\",\"labels_url\":\"https://api.github.com/repos/JuliaLang/juliaup/issues/253/labels{/name}\",\"comments_url\":\"https://api.github.com/repos/JuliaLang/juliaup/issues/253/comments\",\"events_url\":\"https://api.github.com/repos/JuliaLang/juliaup/issues/253/events\",\"html_url\":\"https://github.com/JuliaLang/juliaup/issues/253\",\"id\":1147280472,\"node_id\":\"I_kwDOEE6KR85EYhxY\",\"number\":253,\"title\":\"Allow disable prompting or answer \\\\\"yes\\\\\" to all questions\",\"user\":{\"login\":\"jlapeyre\",\"id\":1969884,\"node_id\":\"MDQ6VXNlcjE5Njk4ODQ=\",\"avatar_url\":\"https://avatars.githubusercontent.com/u/1969884?v=4\",\"gravatar_id\":\"\",\"url\":\"https://api.github.com/users/jlapeyre\",\"html_url\":\"https://github.com/jlapeyre\",\"followers_url\":\"https://api.github.com/users/jlapeyre/followers\",\"following_url\":\"https://api.github.com/users/jlapeyre/following{/other_user}\",\"gists_url\":\"https://api.github.com/users/jlapeyre/gists{/gist_id}\",\"starred_url\":\"https://api.github.com/users/jlapeyre/starred{/owner}{/repo}\",\"subscriptions_url\":\"https://api.github.com/users/jlapeyre/subscriptions\",\"organizations_url\":\"https://api.github.com/users/jlapeyre/orgs\",\"repos_url\":\"https://api.github.com/users/jlapeyre/repos\",\"events_url\":\"https://api.github.com/users/jlapeyre/events{/privacy}\",\"received_events_url\":\"https://api.github.com/users/jlapeyre/received_events\",\"type\":\"User\",\"site_admin\":false},\"labels\":[{\"id\":2148665200,\"node_id\":\"MDU6TGFiZWwyMTQ4NjY1MjAw\",\"url\":\"https://api.github.com/repos/JuliaLang/juliaup/labels/enhancement\",\"name\":\"enhancement\",\"color\":\"a2eeef\",\"default\":true,\"description\":\"New feature or request\"}],\"state\":\"open\",\"locked\":false,\"assignee\":null,\"assignees\":[],\"milestone\":{\"url\":\"https://api.github.com/repos/JuliaLang/juliaup/milestones/2\",\"html_url\":\"https://github.com/JuliaLang/juliaup/milestone/2\",\"labels_url\":\"https://api.github.com/repos/JuliaLang/juliaup/milestones/2/labels\",\"id\":6833585,\"node_id\":\"MDk6TWlsZXN0b25lNjgzMzU4NQ==\",\"number\":2,\"title\":\"Backlog\",\"description\":\"\",\"creator\":{\"login\":\"davidanthoff\",\"id\":1036561,\"node_id\":\"MDQ6VXNlcjEwMzY1NjE=\",\"avatar_url\":\"https://avatars.githubusercontent.com/u/1036561?v=4\",\"gravatar_id\":\"\",\"url\":\"https://api.github.com/users/davidanthoff\",\"html_url\":\"https://github.com/davidanthoff\",\"followers_url\":\"https://api.github.com/users/davidanthoff/followers\",\"following_url\":\"https://api.github.com/users/davidanthoff/following{/other_user}\",\"gists_url\":\"https://api.github.com/users/davidanthoff/gists{/gist_id}\",\"starred_url\":\"https://api.github.com/users/davidanthoff/starred{/owner}{/repo}\",\"subscriptions_url\":\"https://api.github.com/users/davidanthoff/subscriptions\",\"organizations_url\":\"https://api.github.com/users/davidanthoff/orgs\",\"repos_url\":\"https://api.github.com/users/davidanthoff/repos\",\"events_url\":\"https://api.github.com/users/davidanthoff/events{/privacy}\",\"received_events_url\":\"https://api.github.com/users/davidanthoff/received_events\",\"type\":\"User\",\"site_admin\":false},\"open_issues\":47,\"closed_issues\":30,\"state\":\"open\",\"created_at\":\"2021-06-08T03:59:03Z\",\"updated_at\":\"2022-03-27T05:10:09Z\",\"due_on\":null,\"closed_at\":null},\"comments\":4,\"created_at\":\"2022-02-22T19:19:44Z\",\"updated_at\":\"2022-04-03T22:21:31Z\",\"closed_at\":null,\"author_association\":\"NONE\",\"active_lock_reason\":null,\"body\":\"Doing non-interactive installation is sometimes needed for installing to containers and for test environments. Perhaps via environment variables. \\\\r\\\\n\\\\r\\\\nHope this is not a dup. I looked for a while.\\\\r\\\\n\\\\r\\\\nI am not sure when `with_prompt` is called. `juliaup` is already installed on my machine. When I try to add a new version with `juliaup add x.y.z` I get no prompting. But, at least the first time I installed julia, I was prompted.\",\"reactions\":{\"url\":\"https://api.github.com/repos/JuliaLang/juliaup/issues/253/reactions\",\"total_count\":2,\"+1\":2,\"-1\":0,\"laugh\":0,\"hooray\":0,\"confused\":0,\"heart\":0,\"rocket\":0,\"eyes\":0},\"timeline_url\":\"https://api.github.com/repos/JuliaLang/juliaup/issues/253/timeline\",\"performed_via_github_app\":null},\"comment\":{\"url\":\"https://api.github.com/repos/JuliaLang/juliaup/issues/comments/1086961400\",\"html_url\":\"https://github.com/JuliaLang/juliaup/issues/253#issuecomment-1086961400\",\"issue_url\":\"https://api.github.com/repos/JuliaLang/juliaup/issues/253\",\"id\":1086961400,\"node_id\":\"IC_kwDOEE6KR85Aybb4\",\"user\":{\"login\":\"DanteOz\",\"id\":72047001,\"node_id\":\"MDQ6VXNlcjcyMDQ3MDAx\",\"avatar_url\":\"https://avatars.githubusercontent.com/u/72047001?v=4\",\"gravatar_id\":\"\",\"url\":\"https://api.github.com/users/DanteOz\",\"html_url\":\"https://github.com/DanteOz\",\"followers_url\":\"https://api.github.com/users/DanteOz/followers\",\"following_url\":\"https://api.github.com/users/DanteOz/following{/other_user}\",\"gists_url\":\"https://api.github.com/users/DanteOz/gists{/gist_id}\",\"starred_url\":\"https://api.github.com/users/DanteOz/starred{/owner}{/repo}\",\"subscriptions_url\":\"https://api.github.com/users/DanteOz/subscriptions\",\"organizations_url\":\"https://api.github.com/users/DanteOz/orgs\",\"repos_url\":\"https://api.github.com/users/DanteOz/repos\",\"events_url\":\"https://api.github.com/users/DanteOz/events{/privacy}\",\"received_events_url\":\"https://api.github.com/users/DanteOz/received_events\",\"type\":\"User\",\"site_admin\":false},\"created_at\":\"2022-04-03T22:21:30Z\",\"updated_at\":\"2022-04-03T22:21:30Z\",\"author_association\":\"NONE\",\"body\":\"I would also be interested in this use case.\",\"reactions\":{\"url\":\"https://api.github.com/repos/JuliaLang/juliaup/issues/comments/1086961400/reactions\",\"total_count\":0,\"+1\":0,\"-1\":0,\"laugh\":0,\"hooray\":0,\"confused\":0,\"heart\":0,\"rocket\":0,\"eyes\":0},\"performed_via_github_app\":null}},\"public\":true,\"created_at\":\"2022-04-03T22:21:31Z\",\"org\":{\"id\":743164,\"login\":\"JuliaLang\",\"gravatar_id\":\"\",\"url\":\"https://api.github.com/orgs/JuliaLang\",\"avatar_url\":\"https://avatars.githubusercontent.com/u/743164?\"}},{\"id\":\"21088048374\",\"type\":\"PullRequestEvent\",\"actor\":{\"id\":49699333,\"login\":\"dependabot[bot]\",\"display_login\":\"dependabot\",\"gravatar_id\":\"\",\"url\":\"https://api.github.com/users/dependabot[bot]\",\"avatar_url\":\"https://avatars.githubusercontent.com/u/49699333?\"},\"repo\":{\"id\":425350609,\"name\":\"BudgetMC/unitedfruitcompany\",\"url\":\"https://api.github.com/repos/BudgetMC/unitedfruitcompany\"},\"payload\":{\"action\":\"opened\",\"number\":70,\"pull_request\":{\"url\":\"https://api.github.com/repos/BudgetMC/unitedfruitcompany/pulls/70\",\"id\":898393746,\"node_id\":\"PR_kwDOGVpV0c41jGaS\",\"html_url\":\"https://github.com/BudgetMC/unitedfruitcompany/pull/70\",\"diff_url\":\"https://github.com/BudgetMC/unitedfruitcompany/pull/70.diff\",\"patch_url\":\"https://github.com/BudgetMC/unitedfruitcompany/pull/70.patch\",\"issue_url\":\"https://api.github.com/repos/BudgetMC/unitedfruitcompany/issues/70\",\"number\":70,\"state\":\"open\",\"locked\":false,\"title\":\"Bump @types/react from 17.0.39 to 17.0.43\",\"user\":{\"login\":\"dependabot[bot]\",\"id\":49699333,\"node_id\":\"MDM6Qm90NDk2OTkzMzM=\",\"avatar_url\":\"https://avatars.githubusercontent.com/in/29110?v=4\",\"gravatar_id\":\"\",\"url\":\"https://api.github.com/users/dependabot%5Bbot%5D\",\"html_url\":\"https://github.com/apps/dependabot\",\"followers_url\":\"https://api.github.com/users/dependabot%5Bbot%5D/followers\",\"following_url\":\"https://api.github.com/users/dependabot%5Bbot%5D/following{/other_user}\",\"gists_url\":\"https://api.github.com/users/dependabot%5Bbot%5D/gists{/gist_id}\",\"starred_url\":\"https://api.github.com/users/dependabot%5Bbot%5D/starred{/owner}{/repo}\",\"subscriptions_url\":\"https://api.github.com/users/dependabot%5Bbot%5D/subscriptions\",\"organizations_url\":\"https://api.github.com/users/dependabot%5Bbot%5D/orgs\",\"repos_url\":\"https://api.github.com/users/dependabot%5Bbot%5D/repos\",\"events_url\":\"https://api.github.com/users/dependabot%5Bbot%5D/events{/privacy}\",\"received_events_url\":\"https://api.github.com/users/dependabot%5Bbot%5D/received_events\",\"type\":\"Bot\",\"site_admin\":false},\"body\":\"Bumps [@types/react](https://github.com/DefinitelyTyped/DefinitelyTyped/tree/HEAD/types/react) from 17.0.39 to 17.0.43.\\\\n<details>\\\\n<summary>Commits</summary>\\\\n<ul>\\\\n<li>See full diff in <a href=\\\\\"https://github.com/DefinitelyTyped/DefinitelyTyped/commits/HEAD/types/react\\\\\">compare view</a></li>\\\\n</ul>\\\\n</details>\\\\n<br />\\\\n\\\\n\\\\n[![Dependabot compatibility score](https://dependabot-badges.githubapp.com/badges/compatibility_score?dependency-name=@types/react&package-manager=npm_and_yarn&previous-version=17.0.39&new-version=17.0.43)](https://docs.github.com/en/github/managing-security-vulnerabilities/about-dependabot-security-updates#about-compatibility-scores)\\\\n\\\\nDependabot will resolve any conflicts with this PR as long as you don\\'t alter it yourself. You can also trigger a rebase manually by commenting `@dependabot rebase`.\\\\n\\\\n[//]: # (dependabot-automerge-start)\\\\n[//]: # (dependabot-automerge-end)\\\\n\\\\n---\\\\n\\\\n<details>\\\\n<summary>Dependabot commands and options</summary>\\\\n<br />\\\\n\\\\nYou can trigger Dependabot actions by commenting on this PR:\\\\n- `@dependabot rebase` will rebase this PR\\\\n- `@dependabot recreate` will recreate this PR, overwriting any edits that have been made to it\\\\n- `@dependabot merge` will merge this PR after your CI passes on it\\\\n- `@dependabot squash and merge` will squash and merge this PR after your CI passes on it\\\\n- `@dependabot cancel merge` will cancel a previously requested merge and block automerging\\\\n- `@dependabot reopen` will reopen this PR if it is closed\\\\n- `@dependabot close` will close this PR and stop Dependabot recreating it. You can achieve the same result by closing it manually\\\\n- `@dependabot ignore this major version` will close this PR and stop Dependabot creating any more for this major version (unless you reopen the PR or upgrade to it yourself)\\\\n- `@dependabot ignore this minor version` will close this PR and stop Dependabot creating any more for this minor version (unless you reopen the PR or upgrade to it yourself)\\\\n- `@dependabot ignore this dependency` will close this PR and stop Dependabot creating any more for this dependency (unless you reopen the PR or upgrade to it yourself)\\\\n\\\\n\\\\n</details>\",\"created_at\":\"2022-04-03T22:21:30Z\",\"updated_at\":\"2022-04-03T22:21:30Z\",\"closed_at\":null,\"merged_at\":null,\"merge_commit_sha\":null,\"assignee\":null,\"assignees\":[],\"requested_reviewers\":[],\"requested_teams\":[],\"labels\":[],\"milestone\":null,\"draft\":false,\"commits_url\":\"https://api.github.com/repos/BudgetMC/unitedfruitcompany/pulls/70/commits\",\"review_comments_url\":\"https://api.github.com/repos/BudgetMC/unitedfruitcompany/pulls/70/comments\",\"review_comment_url\":\"https://api.github.com/repos/BudgetMC/unitedfruitcompany/pulls/comments{/number}\",\"comments_url\":\"https://api.github.com/repos/BudgetMC/unitedfruitcompany/issues/70/comments\",\"statuses_url\":\"https://api.github.com/repos/BudgetMC/unitedfruitcompany/statuses/14027f823247ba3fb46774b2a77152de20f95b36\",\"head\":{\"label\":\"BudgetMC:dependabot/npm_and_yarn/types/react-17.0.43\",\"ref\":\"dependabot/npm_and_yarn/types/react-17.0.43\",\"sha\":\"14027f823247ba3fb46774b2a77152de20f95b36\",\"user\":{\"login\":\"BudgetMC\",\"id\":94200178,\"node_id\":\"U_kgDOBZ1hcg\",\"avatar_url\":\"https://avatars.githubusercontent.com/u/94200178?v=4\",\"gravatar_id\":\"\",\"url\":\"https://api.github.com/users/BudgetMC\",\"html_url\":\"https://github.com/BudgetMC\",\"followers_url\":\"https://api.github.com/users/BudgetMC/followers\",\"following_url\":\"https://api.github.com/users/BudgetMC/following{/other_user}\",\"gists_url\":\"https://api.github.com/users/BudgetMC/gists{/gist_id}\",\"starred_url\":\"https://api.github.com/users/BudgetMC/starred{/owner}{/repo}\",\"subscriptions_url\":\"https://api.github.com/users/BudgetMC/subscriptions\",\"organizations_url\":\"https://api.github.com/users/BudgetMC/orgs\",\"repos_url\":\"https://api.github.com/users/BudgetMC/repos\",\"events_url\":\"https://api.github.com/users/BudgetMC/events{/privacy}\",\"received_events_url\":\"https://api.github.com/users/BudgetMC/received_events\",\"type\":\"User\",\"site_admin\":false},\"repo\":{\"id\":425350609,\"node_id\":\"R_kgDOGVpV0Q\",\"name\":\"unitedfruitcompany\",\"full_name\":\"BudgetMC/unitedfruitcompany\",\"private\":false,\"owner\":{\"login\":\"BudgetMC\",\"id\":94200178,\"node_id\":\"U_kgDOBZ1hcg\",\"avatar_url\":\"https://avatars.githubusercontent.com/u/94200178?v=4\",\"gravatar_id\":\"\",\"url\":\"https://api.github.com/users/BudgetMC\",\"html_url\":\"https://github.com/BudgetMC\",\"followers_url\":\"https://api.github.com/users/BudgetMC/followers\",\"following_url\":\"https://api.github.com/users/BudgetMC/following{/other_user}\",\"gists_url\":\"https://api.github.com/users/BudgetMC/gists{/gist_id}\",\"starred_url\":\"https://api.github.com/users/BudgetMC/starred{/owner}{/repo}\",\"subscriptions_url\":\"https://api.github.com/users/BudgetMC/subscriptions\",\"organizations_url\":\"https://api.github.com/users/BudgetMC/orgs\",\"repos_url\":\"https://api.github.com/users/BudgetMC/repos\",\"events_url\":\"https://api.github.com/users/BudgetMC/events{/privacy}\",\"received_events_url\":\"https://api.github.com/users/BudgetMC/received_events\",\"type\":\"User\",\"site_admin\":false},\"html_url\":\"https://github.com/BudgetMC/unitedfruitcompany\",\"description\":\"a website about the United Fruit Company\",\"fork\":false,\"url\":\"https://api.github.com/repos/BudgetMC/unitedfruitcompany\",\"forks_url\":\"https://api.github.com/repos/BudgetMC/unitedfruitcompany/forks\",\"keys_url\":\"https://api.github.com/repos/BudgetMC/unitedfruitcompany/keys{/key_id}\",\"collaborators_url\":\"https://api.github.com/repos/BudgetMC/unitedfruitcompany/collaborators{/collaborator}\",\"teams_url\":\"https://api.github.com/repos/BudgetMC/unitedfruitcompany/teams\",\"hooks_url\":\"https://api.github.com/repos/BudgetMC/unitedfruitcompany/hooks\",\"issue_events_url\":\"https://api.github.com/repos/BudgetMC/unitedfruitcompany/issues/events{/number}\",\"events_url\":\"https://api.github.com/repos/BudgetMC/unitedfruitcompany/events\",\"assignees_url\":\"https://api.github.com/repos/BudgetMC/unitedfruitcompany/assignees{/user}\",\"branches_url\":\"https://api.github.com/repos/BudgetMC/unitedfruitcompany/branches{/branch}\",\"tags_url\":\"https://api.github.com/repos/BudgetMC/unitedfruitcompany/tags\",\"blobs_url\":\"https://api.github.com/repos/BudgetMC/unitedfruitcompany/git/blobs{/sha}\",\"git_tags_url\":\"https://api.github.com/repos/BudgetMC/unitedfruitcompany/git/tags{/sha}\",\"git_refs_url\":\"https://api.github.com/repos/BudgetMC/unitedfruitcompany/git/refs{/sha}\",\"trees_url\":\"https://api.github.com/repos/BudgetMC/unitedfruitcompany/git/trees{/sha}\",\"statuses_url\":\"https://api.github.com/repos/BudgetMC/unitedfruitcompany/statuses/{sha}\",\"languages_url\":\"https://api.github.com/repos/BudgetMC/unitedfruitcompany/languages\",\"stargazers_url\":\"https://api.github.com/repos/BudgetMC/unitedfruitcompany/stargazers\",\"contributors_url\":\"https://api.github.com/repos/BudgetMC/unitedfruitcompany/contributors\",\"subscribers_url\":\"https://api.github.com/repos/BudgetMC/unitedfruitcompany/subscribers\",\"subscription_url\":\"https://api.github.com/repos/BudgetMC/unitedfruitcompany/subscription\",\"commits_url\":\"https://api.github.com/repos/BudgetMC/unitedfruitcompany/commits{/sha}\",\"git_commits_url\":\"https://api.github.com/repos/BudgetMC/unitedfruitcompany/git/commits{/sha}\",\"comments_url\":\"https://api.github.com/repos/BudgetMC/unitedfruitcompany/comments{/number}\",\"issue_comment_url\":\"https://api.github.com/repos/BudgetMC/unitedfruitcompany/issues/comments{/number}\",\"contents_url\":\"https://api.github.com/repos/BudgetMC/unitedfruitcompany/contents/{+path}\",\"compare_url\":\"https://api.github.com/repos/BudgetMC/unitedfruitcompany/compare/{base}...{head}\",\"merges_url\":\"https://api.github.com/repos/BudgetMC/unitedfruitcompany/merges\",\"archive_url\":\"https://api.github.com/repos/BudgetMC/unitedfruitcompany/{archive_format}{/ref}\",\"downloads_url\":\"https://api.github.com/repos/BudgetMC/unitedfruitcompany/downloads\",\"issues_url\":\"https://api.github.com/repos/BudgetMC/unitedfruitcompany/issues{/number}\",\"pulls_url\":\"https://api.github.com/repos/BudgetMC/unitedfruitcompany/pulls{/number}\",\"milestones_url\":\"https://api.github.com/repos/BudgetMC/unitedfruitcompany/milestones{/number}\",\"notifications_url\":\"https://api.github.com/repos/BudgetMC/unitedfruitcompany/notifications{?since,all,participating}\",\"labels_url\":\"https://api.github.com/repos/BudgetMC/unitedfruitcompany/labels{/name}\",\"releases_url\":\"https://api.github.com/repos/BudgetMC/unitedfruitcompany/releases{/id}\",\"deployments_url\":\"https://api.github.com/repos/BudgetMC/unitedfruitcompany/deployments\",\"created_at\":\"2021-11-06T21:18:32Z\",\"updated_at\":\"2022-01-03T03:42:57Z\",\"pushed_at\":\"2022-04-03T22:21:30Z\",\"git_url\":\"git://github.com/BudgetMC/unitedfruitcompany.git\",\"ssh_url\":\"git@github.com:BudgetMC/unitedfruitcompany.git\",\"clone_url\":\"https://github.com/BudgetMC/unitedfruitcompany.git\",\"svn_url\":\"https://github.com/BudgetMC/unitedfruitcompany\",\"homepage\":\"unitedfruitcompany.vercel.app\",\"size\":15284,\"stargazers_count\":0,\"watchers_count\":0,\"language\":\"TypeScript\",\"has_issues\":true,\"has_projects\":true,\"has_downloads\":true,\"has_wiki\":true,\"has_pages\":false,\"forks_count\":0,\"mirror_url\":null,\"archived\":false,\"disabled\":false,\"open_issues_count\":6,\"license\":null,\"allow_forking\":true,\"is_template\":false,\"topics\":[],\"visibility\":\"public\",\"forks\":0,\"open_issues\":6,\"watchers\":0,\"default_branch\":\"main\"}},\"base\":{\"label\":\"BudgetMC:main\",\"ref\":\"main\",\"sha\":\"96ef911fc109a69eb35b1eaecb69370e06454946\",\"user\":{\"login\":\"BudgetMC\",\"id\":94200178,\"node_id\":\"U_kgDOBZ1hcg\",\"avatar_url\":\"https://avatars.githubusercontent.com/u/94200178?v=4\",\"gravatar_id\":\"\",\"url\":\"https://api.github.com/users/BudgetMC\",\"html_url\":\"https://github.com/BudgetMC\",\"followers_url\":\"https://api.github.com/users/BudgetMC/followers\",\"following_url\":\"https://api.github.com/users/BudgetMC/following{/other_user}\",\"gists_url\":\"https://api.github.com/users/BudgetMC/gists{/gist_id}\",\"starred_url\":\"https://api.github.com/users/BudgetMC/starred{/owner}{/repo}\",\"subscriptions_url\":\"https://api.github.com/users/BudgetMC/subscriptions\",\"organizations_url\":\"https://api.github.com/users/BudgetMC/orgs\",\"repos_url\":\"https://api.github.com/users/BudgetMC/repos\",\"events_url\":\"https://api.github.com/users/BudgetMC/events{/privacy}\",\"received_events_url\":\"https://api.github.com/users/BudgetMC/received_events\",\"type\":\"User\",\"site_admin\":false},\"repo\":{\"id\":425350609,\"node_id\":\"R_kgDOGVpV0Q\",\"name\":\"unitedfruitcompany\",\"full_name\":\"BudgetMC/unitedfruitcompany\",\"private\":false,\"owner\":{\"login\":\"BudgetMC\",\"id\":94200178,\"node_id\":\"U_kgDOBZ1hcg\",\"avatar_url\":\"https://avatars.githubusercontent.com/u/94200178?v=4\",\"gravatar_id\":\"\",\"url\":\"https://api.github.com/users/BudgetMC\",\"html_url\":\"https://github.com/BudgetMC\",\"followers_url\":\"https://api.github.com/users/BudgetMC/followers\",\"following_url\":\"https://api.github.com/users/BudgetMC/following{/other_user}\",\"gists_url\":\"https://api.github.com/users/BudgetMC/gists{/gist_id}\",\"starred_url\":\"https://api.github.com/users/BudgetMC/starred{/owner}{/repo}\",\"subscriptions_url\":\"https://api.github.com/users/BudgetMC/subscriptions\",\"organizations_url\":\"https://api.github.com/users/BudgetMC/orgs\",\"repos_url\":\"https://api.github.com/users/BudgetMC/repos\",\"events_url\":\"https://api.github.com/users/BudgetMC/events{/privacy}\",\"received_events_url\":\"https://api.github.com/users/BudgetMC/received_events\",\"type\":\"User\",\"site_admin\":false},\"html_url\":\"https://github.com/BudgetMC/unitedfruitcompany\",\"description\":\"a website about the United Fruit Company\",\"fork\":false,\"url\":\"https://api.github.com/repos/BudgetMC/unitedfruitcompany\",\"forks_url\":\"https://api.github.com/repos/BudgetMC/unitedfruitcompany/forks\",\"keys_url\":\"https://api.github.com/repos/BudgetMC/unitedfruitcompany/keys{/key_id}\",\"collaborators_url\":\"https://api.github.com/repos/BudgetMC/unitedfruitcompany/collaborators{/collaborator}\",\"teams_url\":\"https://api.github.com/repos/BudgetMC/unitedfruitcompany/teams\",\"hooks_url\":\"https://api.github.com/repos/BudgetMC/unitedfruitcompany/hooks\",\"issue_events_url\":\"https://api.github.com/repos/BudgetMC/unitedfruitcompany/issues/events{/number}\",\"events_url\":\"https://api.github.com/repos/BudgetMC/unitedfruitcompany/events\",\"assignees_url\":\"https://api.github.com/repos/BudgetMC/unitedfruitcompany/assignees{/user}\",\"branches_url\":\"https://api.github.com/repos/BudgetMC/unitedfruitcompany/branches{/branch}\",\"tags_url\":\"https://api.github.com/repos/BudgetMC/unitedfruitcompany/tags\",\"blobs_url\":\"https://api.github.com/repos/BudgetMC/unitedfruitcompany/git/blobs{/sha}\",\"git_tags_url\":\"https://api.github.com/repos/BudgetMC/unitedfruitcompany/git/tags{/sha}\",\"git_refs_url\":\"https://api.github.com/repos/BudgetMC/unitedfruitcompany/git/refs{/sha}\",\"trees_url\":\"https://api.github.com/repos/BudgetMC/unitedfruitcompany/git/trees{/sha}\",\"statuses_url\":\"https://api.github.com/repos/BudgetMC/unitedfruitcompany/statuses/{sha}\",\"languages_url\":\"https://api.github.com/repos/BudgetMC/unitedfruitcompany/languages\",\"stargazers_url\":\"https://api.github.com/repos/BudgetMC/unitedfruitcompany/stargazers\",\"contributors_url\":\"https://api.github.com/repos/BudgetMC/unitedfruitcompany/contributors\",\"subscribers_url\":\"https://api.github.com/repos/BudgetMC/unitedfruitcompany/subscribers\",\"subscription_url\":\"https://api.github.com/repos/BudgetMC/unitedfruitcompany/subscription\",\"commits_url\":\"https://api.github.com/repos/BudgetMC/unitedfruitcompany/commits{/sha}\",\"git_commits_url\":\"https://api.github.com/repos/BudgetMC/unitedfruitcompany/git/commits{/sha}\",\"comments_url\":\"https://api.github.com/repos/BudgetMC/unitedfruitcompany/comments{/number}\",\"issue_comment_url\":\"https://api.github.com/repos/BudgetMC/unitedfruitcompany/issues/comments{/number}\",\"contents_url\":\"https://api.github.com/repos/BudgetMC/unitedfruitcompany/contents/{+path}\",\"compare_url\":\"https://api.github.com/repos/BudgetMC/unitedfruitcompany/compare/{base}...{head}\",\"merges_url\":\"https://api.github.com/repos/BudgetMC/unitedfruitcompany/merges\",\"archive_url\":\"https://api.github.com/repos/BudgetMC/unitedfruitcompany/{archive_format}{/ref}\",\"downloads_url\":\"https://api.github.com/repos/BudgetMC/unitedfruitcompany/downloads\",\"issues_url\":\"https://api.github.com/repos/BudgetMC/unitedfruitcompany/issues{/number}\",\"pulls_url\":\"https://api.github.com/repos/BudgetMC/unitedfruitcompany/pulls{/number}\",\"milestones_url\":\"https://api.github.com/repos/BudgetMC/unitedfruitcompany/milestones{/number}\",\"notifications_url\":\"https://api.github.com/repos/BudgetMC/unitedfruitcompany/notifications{?since,all,participating}\",\"labels_url\":\"https://api.github.com/repos/BudgetMC/unitedfruitcompany/labels{/name}\",\"releases_url\":\"https://api.github.com/repos/BudgetMC/unitedfruitcompany/releases{/id}\",\"deployments_url\":\"https://api.github.com/repos/BudgetMC/unitedfruitcompany/deployments\",\"created_at\":\"2021-11-06T21:18:32Z\",\"updated_at\":\"2022-01-03T03:42:57Z\",\"pushed_at\":\"2022-04-03T22:21:30Z\",\"git_url\":\"git://github.com/BudgetMC/unitedfruitcompany.git\",\"ssh_url\":\"git@github.com:BudgetMC/unitedfruitcompany.git\",\"clone_url\":\"https://github.com/BudgetMC/unitedfruitcompany.git\",\"svn_url\":\"https://github.com/BudgetMC/unitedfruitcompany\",\"homepage\":\"unitedfruitcompany.vercel.app\",\"size\":15284,\"stargazers_count\":0,\"watchers_count\":0,\"language\":\"TypeScript\",\"has_issues\":true,\"has_projects\":true,\"has_downloads\":true,\"has_wiki\":true,\"has_pages\":false,\"forks_count\":0,\"mirror_url\":null,\"archived\":false,\"disabled\":false,\"open_issues_count\":6,\"license\":null,\"allow_forking\":true,\"is_template\":false,\"topics\":[],\"visibility\":\"public\",\"forks\":0,\"open_issues\":6,\"watchers\":0,\"default_branch\":\"main\"}},\"_links\":{\"self\":{\"href\":\"https://api.github.com/repos/BudgetMC/unitedfruitcompany/pulls/70\"},\"html\":{\"href\":\"https://github.com/BudgetMC/unitedfruitcompany/pull/70\"},\"issue\":{\"href\":\"https://api.github.com/repos/BudgetMC/unitedfruitcompany/issues/70\"},\"comments\":{\"href\":\"https://api.github.com/repos/BudgetMC/unitedfruitcompany/issues/70/comments\"},\"review_comments\":{\"href\":\"https://api.github.com/repos/BudgetMC/unitedfruitcompany/pulls/70/comments\"},\"review_comment\":{\"href\":\"https://api.github.com/repos/BudgetMC/unitedfruitcompany/pulls/comments{/number}\"},\"commits\":{\"href\":\"https://api.github.com/repos/BudgetMC/unitedfruitcompany/pulls/70/commits\"},\"statuses\":{\"href\":\"https://api.github.com/repos/BudgetMC/unitedfruitcompany/statuses/14027f823247ba3fb46774b2a77152de20f95b36\"}},\"author_association\":\"CONTRIBUTOR\",\"auto_merge\":null,\"active_lock_reason\":null,\"merged\":false,\"mergeable\":null,\"rebaseable\":null,\"mergeable_state\":\"unknown\",\"merged_by\":null,\"comments\":0,\"review_comments\":0,\"maintainer_can_modify\":false,\"commits\":1,\"additions\":32,\"deletions\":49,\"changed_files\":2}},\"public\":true,\"created_at\":\"2022-04-03T22:21:31Z\"},{\"id\":\"21088048359\",\"type\":\"DeleteEvent\",\"actor\":{\"id\":91356545,\"login\":\"ALI0ne\",\"display_login\":\"ALI0ne\",\"gravatar_id\":\"\",\"url\":\"https://api.github.com/users/ALI0ne\",\"avatar_url\":\"https://avatars.githubusercontent.com/u/91356545?\"},\"repo\":{\"id\":411020993,\"name\":\"ALI0ne/vscode-extension-samples\",\"url\":\"https://api.github.com/repos/ALI0ne/vscode-extension-samples\"},\"payload\":{\"ref\":\"snyk-upgrade-18e1d3cd5874d3be927fe878e538f844\",\"ref_type\":\"branch\",\"pusher_type\":\"user\"},\"public\":true,\"created_at\":\"2022-04-03T22:21:31Z\"}]'"
            ],
            "application/vnd.google.colaboratory.intrinsic+json": {
              "type": "string"
            }
          },
          "metadata": {},
          "execution_count": 7
        }
      ]
    },
    {
      "cell_type": "markdown",
      "metadata": {
        "id": "J7Tfp268QDJR"
      },
      "source": [
        "Модуль **requests** будет автоматически декодировать содержимое ответа сервера. Большинство кодировок **unicode** декодируются без проблем.\n",
        "\n",
        "Когда вы делаете запрос, **requests** пытается определить кодировку на основании заголовков **HTTP**. Та же кодировка текста используется при обращении к **r.text**.\n",
        "\n",
        "Свойство **r.encoding** позволяет узнать, какую кодировку использует **requests** и при необходимости сменить её на другую."
      ]
    },
    {
      "cell_type": "markdown",
      "metadata": {
        "id": "p9e_5aidSDrf"
      },
      "source": [
        "### Содержимое ответа в JSON\n",
        "\n",
        "Если вы работаете с данными в формате **JSON**, воспользуйтесь встроенным декодером **JSON**:"
      ]
    },
    {
      "cell_type": "code",
      "metadata": {
        "id": "YpPPm2fROmt-",
        "colab": {
          "base_uri": "https://localhost:8080/"
        },
        "outputId": "a21dd471-fc43-4cf8-d9d2-8a5e4fda9cc9"
      },
      "source": [
        "import requests\n",
        "r = requests.get('https://api.github.com/events')\n",
        "r.json()\n",
        "# [{'repository': {'open_issues': 0, 'url': 'https://github.com/...\n"
      ],
      "execution_count": null,
      "outputs": [
        {
          "output_type": "execute_result",
          "data": {
            "text/plain": [
              "[{'actor': {'avatar_url': 'https://avatars.githubusercontent.com/u/3195906?',\n",
              "   'display_login': 'adamhsparks',\n",
              "   'gravatar_id': '',\n",
              "   'id': 3195906,\n",
              "   'login': 'adamhsparks',\n",
              "   'url': 'https://api.github.com/users/adamhsparks'},\n",
              "  'created_at': '2022-04-03T22:21:31Z',\n",
              "  'id': '21088048423',\n",
              "  'org': {'avatar_url': 'https://avatars.githubusercontent.com/u/1200269?',\n",
              "   'gravatar_id': '',\n",
              "   'id': 1200269,\n",
              "   'login': 'ropensci',\n",
              "   'url': 'https://api.github.com/orgs/ropensci'},\n",
              "  'payload': {'before': '21bf1bd100e7166a130048b2c9c1a232893c4046',\n",
              "   'commits': [{'author': {'email': 'adamhsparks@icloud.com',\n",
              "      'name': 'Adam Sparks'},\n",
              "     'distinct': False,\n",
              "     'message': 'update .gitignore',\n",
              "     'sha': '6ad41396a438738c75ea18f6fcc0be5fab2f92f2',\n",
              "     'url': 'https://api.github.com/repos/ropensci/chirps/commits/6ad41396a438738c75ea18f6fcc0be5fab2f92f2'},\n",
              "    {'author': {'email': 'adamhsparks@icloud.com', 'name': 'Adam Sparks'},\n",
              "     'distinct': False,\n",
              "     'message': \"Try using the tic's own tic.yml file\",\n",
              "     'sha': '5824e86d10e91d25d6c9aee80507067cc3b39acd',\n",
              "     'url': 'https://api.github.com/repos/ropensci/chirps/commits/5824e86d10e91d25d6c9aee80507067cc3b39acd'},\n",
              "    {'author': {'email': 'adamhsparks@icloud.com', 'name': 'Adam Sparks'},\n",
              "     'distinct': False,\n",
              "     'message': 'try using update-tic.yml',\n",
              "     'sha': 'edbb8e84add9b23c541f914cc05794d1c0bf46fe',\n",
              "     'url': 'https://api.github.com/repos/ropensci/chirps/commits/edbb8e84add9b23c541f914cc05794d1c0bf46fe'},\n",
              "    {'author': {'email': 'adamhsparks@gmail.com', 'name': 'Adam H. Sparks'},\n",
              "     'distinct': True,\n",
              "     'message': \"Merge branch 'master' into devel\",\n",
              "     'sha': '6dd783094b8800a84bad4eaeee7fb8f1fc7f83e0',\n",
              "     'url': 'https://api.github.com/repos/ropensci/chirps/commits/6dd783094b8800a84bad4eaeee7fb8f1fc7f83e0'},\n",
              "    {'author': {'email': 'adamhsparks@icloud.com', 'name': 'Adam Sparks'},\n",
              "     'distinct': True,\n",
              "     'message': 'Fix incomplete line',\n",
              "     'sha': '9111cbd5b1804e8c2049b3417fd224915c085cae',\n",
              "     'url': 'https://api.github.com/repos/ropensci/chirps/commits/9111cbd5b1804e8c2049b3417fd224915c085cae'}],\n",
              "   'distinct_size': 2,\n",
              "   'head': '9111cbd5b1804e8c2049b3417fd224915c085cae',\n",
              "   'push_id': 9526020664,\n",
              "   'ref': 'refs/heads/devel',\n",
              "   'size': 5},\n",
              "  'public': True,\n",
              "  'repo': {'id': 225693680,\n",
              "   'name': 'ropensci/chirps',\n",
              "   'url': 'https://api.github.com/repos/ropensci/chirps'},\n",
              "  'type': 'PushEvent'},\n",
              " {'actor': {'avatar_url': 'https://avatars.githubusercontent.com/u/91356545?',\n",
              "   'display_login': 'ALI0ne',\n",
              "   'gravatar_id': '',\n",
              "   'id': 91356545,\n",
              "   'login': 'ALI0ne',\n",
              "   'url': 'https://api.github.com/users/ALI0ne'},\n",
              "  'created_at': '2022-04-03T22:21:31Z',\n",
              "  'id': '21088048408',\n",
              "  'payload': {'before': '9a60a0677c1477191308858bbc2f245d3c4f36b3',\n",
              "   'commits': [{'author': {'email': 'snyk-bot@snyk.io', 'name': 'snyk-bot'},\n",
              "     'distinct': True,\n",
              "     'message': 'feat: upgrade uuid from 3.4.0 to 8.3.2\\n\\nSnyk has created this PR to upgrade uuid from 3.4.0 to 8.3.2.\\n\\nSee this package in npm:\\nhttps://www.npmjs.com/package/uuid\\n\\nSee this project in Snyk:\\nhttps://app.snyk.io/org/alimazloum0ne/project/8562e21b-4a4f-4538-bee7-293762a73157?utm_source=github&utm_medium=referral&page=upgrade-pr',\n",
              "     'sha': '4dfd95f7a357199e30fdbe570459efe3119e18d0',\n",
              "     'url': 'https://api.github.com/repos/ALI0ne/extensions/commits/4dfd95f7a357199e30fdbe570459efe3119e18d0'}],\n",
              "   'distinct_size': 1,\n",
              "   'head': '4dfd95f7a357199e30fdbe570459efe3119e18d0',\n",
              "   'push_id': 9526020655,\n",
              "   'ref': 'refs/heads/snyk-upgrade-71778862b36a346e8cdb2400b229cea8',\n",
              "   'size': 1},\n",
              "  'public': True,\n",
              "  'repo': {'id': 410237088,\n",
              "   'name': 'ALI0ne/extensions',\n",
              "   'url': 'https://api.github.com/repos/ALI0ne/extensions'},\n",
              "  'type': 'PushEvent'},\n",
              " {'actor': {'avatar_url': 'https://avatars.githubusercontent.com/u/58833107?',\n",
              "   'display_login': 'cufnqn370',\n",
              "   'gravatar_id': '',\n",
              "   'id': 58833107,\n",
              "   'login': 'cufnqn370',\n",
              "   'url': 'https://api.github.com/users/cufnqn370'},\n",
              "  'created_at': '2022-04-03T22:21:31Z',\n",
              "  'id': '21088048414',\n",
              "  'payload': {'before': 'be891c9d62c02534ca1fae7d5ea5845f01da263b',\n",
              "   'commits': [{'author': {'email': '58833107+cufnqn370@users.noreply.github.com',\n",
              "      'name': 'cufnqn370'},\n",
              "     'distinct': True,\n",
              "     'message': 'Update prog448635_1.md',\n",
              "     'sha': '9e829cb4d8d30188c1755a708bc1fd1c13384d6e',\n",
              "     'url': 'https://api.github.com/repos/cufnqn370/ntdtv/commits/9e829cb4d8d30188c1755a708bc1fd1c13384d6e'}],\n",
              "   'distinct_size': 1,\n",
              "   'head': '9e829cb4d8d30188c1755a708bc1fd1c13384d6e',\n",
              "   'push_id': 9526020661,\n",
              "   'ref': 'refs/heads/master',\n",
              "   'size': 1},\n",
              "  'public': True,\n",
              "  'repo': {'id': 227725053,\n",
              "   'name': 'cufnqn370/ntdtv',\n",
              "   'url': 'https://api.github.com/repos/cufnqn370/ntdtv'},\n",
              "  'type': 'PushEvent'},\n",
              " {'actor': {'avatar_url': 'https://avatars.githubusercontent.com/u/71354125?',\n",
              "   'display_login': 'aws-connector-for-github',\n",
              "   'gravatar_id': '',\n",
              "   'id': 71354125,\n",
              "   'login': 'aws-connector-for-github[bot]',\n",
              "   'url': 'https://api.github.com/users/aws-connector-for-github[bot]'},\n",
              "  'created_at': '2022-04-03T22:21:31Z',\n",
              "  'id': '21088048411',\n",
              "  'payload': {'pusher_type': 'user',\n",
              "   'ref': 'cicd-e2e-kdq52z',\n",
              "   'ref_type': 'branch'},\n",
              "  'public': True,\n",
              "  'repo': {'id': 429551228,\n",
              "   'name': 'bullet-dev-team/python-pyramid-public',\n",
              "   'url': 'https://api.github.com/repos/bullet-dev-team/python-pyramid-public'},\n",
              "  'type': 'DeleteEvent'},\n",
              " {'actor': {'avatar_url': 'https://avatars.githubusercontent.com/u/988193?',\n",
              "   'display_login': 'KaimingTao',\n",
              "   'gravatar_id': '',\n",
              "   'id': 988193,\n",
              "   'login': 'KaimingTao',\n",
              "   'url': 'https://api.github.com/users/KaimingTao'},\n",
              "  'created_at': '2022-04-03T22:21:31Z',\n",
              "  'id': '21088048416',\n",
              "  'payload': {'description': 'a record of my kendo life',\n",
              "   'master_branch': 'master',\n",
              "   'pusher_type': 'user',\n",
              "   'ref': None,\n",
              "   'ref_type': 'repository'},\n",
              "  'public': True,\n",
              "  'repo': {'id': 477480217,\n",
              "   'name': 'KaimingTao/kendo',\n",
              "   'url': 'https://api.github.com/repos/KaimingTao/kendo'},\n",
              "  'type': 'CreateEvent'},\n",
              " {'actor': {'avatar_url': 'https://avatars.githubusercontent.com/u/101464201?',\n",
              "   'display_login': 'capacitacionContinuaJava',\n",
              "   'gravatar_id': '',\n",
              "   'id': 101464201,\n",
              "   'login': 'capacitacionContinuaJava',\n",
              "   'url': 'https://api.github.com/users/capacitacionContinuaJava'},\n",
              "  'created_at': '2022-04-03T22:21:31Z',\n",
              "  'id': '21088048406',\n",
              "  'payload': {'before': '1eae2ef84c2909dd836bc8e9dad1cb037510df81',\n",
              "   'commits': [{'author': {'email': 'patocriss@gmail.com',\n",
              "      'name': 'DESKTOP-L9A14P8\\\\PC-F'},\n",
              "     'distinct': True,\n",
              "     'message': 'new changes',\n",
              "     'sha': '2f7e6b1dcd5de849b0dd5ae185a4d86c7206f6b9',\n",
              "     'url': 'https://api.github.com/repos/capacitacionContinuaJava/gestion-usuarios-root/commits/2f7e6b1dcd5de849b0dd5ae185a4d86c7206f6b9'}],\n",
              "   'distinct_size': 1,\n",
              "   'head': '2f7e6b1dcd5de849b0dd5ae185a4d86c7206f6b9',\n",
              "   'push_id': 9526020647,\n",
              "   'ref': 'refs/heads/develop',\n",
              "   'size': 1},\n",
              "  'public': True,\n",
              "  'repo': {'id': 469108102,\n",
              "   'name': 'capacitacionContinuaJava/gestion-usuarios-root',\n",
              "   'url': 'https://api.github.com/repos/capacitacionContinuaJava/gestion-usuarios-root'},\n",
              "  'type': 'PushEvent'},\n",
              " {'actor': {'avatar_url': 'https://avatars.githubusercontent.com/u/100386752?',\n",
              "   'display_login': 'RichCyph',\n",
              "   'gravatar_id': '',\n",
              "   'id': 100386752,\n",
              "   'login': 'RichCyph',\n",
              "   'url': 'https://api.github.com/users/RichCyph'},\n",
              "  'created_at': '2022-04-03T22:21:31Z',\n",
              "  'id': '21088048413',\n",
              "  'payload': {'before': 'a4657ac501364dc97e003afeb12cf5c5a6292493',\n",
              "   'commits': [{'author': {'email': '100386752+RichCyph@users.noreply.github.com',\n",
              "      'name': 'RichCyph'},\n",
              "     'distinct': True,\n",
              "     'message': 'commiting update',\n",
              "     'sha': '8c0875f76751e975521b0876f0a2bcc8b3197adc',\n",
              "     'url': 'https://api.github.com/repos/RichCyph/test/commits/8c0875f76751e975521b0876f0a2bcc8b3197adc'}],\n",
              "   'distinct_size': 1,\n",
              "   'head': '8c0875f76751e975521b0876f0a2bcc8b3197adc',\n",
              "   'push_id': 9526020654,\n",
              "   'ref': 'refs/heads/main',\n",
              "   'size': 1},\n",
              "  'public': True,\n",
              "  'repo': {'id': 471988478,\n",
              "   'name': 'RichCyph/test',\n",
              "   'url': 'https://api.github.com/repos/RichCyph/test'},\n",
              "  'type': 'PushEvent'},\n",
              " {'actor': {'avatar_url': 'https://avatars.githubusercontent.com/u/17258621?',\n",
              "   'display_login': 'svteichman',\n",
              "   'gravatar_id': '',\n",
              "   'id': 17258621,\n",
              "   'login': 'svteichman',\n",
              "   'url': 'https://api.github.com/users/svteichman'},\n",
              "  'created_at': '2022-04-03T22:21:31Z',\n",
              "  'id': '21088048407',\n",
              "  'payload': {'before': '3f599177b51d92499e8b77eed28303998bd048b3',\n",
              "   'commits': [{'author': {'email': 'teichs@uw.edu', 'name': 'Sarah Teichman'},\n",
              "     'distinct': True,\n",
              "     'message': 'updates to lecture 1 and lab 1',\n",
              "     'sha': '26a156a2a3cbc0cda45f756cc3faad74b503ed2a',\n",
              "     'url': 'https://api.github.com/repos/svteichman/STAT302-SPR2022/commits/26a156a2a3cbc0cda45f756cc3faad74b503ed2a'}],\n",
              "   'distinct_size': 1,\n",
              "   'head': '26a156a2a3cbc0cda45f756cc3faad74b503ed2a',\n",
              "   'push_id': 9526020656,\n",
              "   'ref': 'refs/heads/main',\n",
              "   'size': 1},\n",
              "  'public': True,\n",
              "  'repo': {'id': 472096303,\n",
              "   'name': 'svteichman/STAT302-SPR2022',\n",
              "   'url': 'https://api.github.com/repos/svteichman/STAT302-SPR2022'},\n",
              "  'type': 'PushEvent'},\n",
              " {'actor': {'avatar_url': 'https://avatars.githubusercontent.com/u/91356545?',\n",
              "   'display_login': 'ALI0ne',\n",
              "   'gravatar_id': '',\n",
              "   'id': 91356545,\n",
              "   'login': 'ALI0ne',\n",
              "   'url': 'https://api.github.com/users/ALI0ne'},\n",
              "  'created_at': '2022-04-03T22:21:31Z',\n",
              "  'id': '21088048402',\n",
              "  'payload': {'description': 'Source code for official Firebase extensions',\n",
              "   'master_branch': 'next',\n",
              "   'pusher_type': 'user',\n",
              "   'ref': 'snyk-upgrade-9b99ef69fda673688c0748fa61dea233',\n",
              "   'ref_type': 'branch'},\n",
              "  'public': True,\n",
              "  'repo': {'id': 410237088,\n",
              "   'name': 'ALI0ne/extensions',\n",
              "   'url': 'https://api.github.com/repos/ALI0ne/extensions'},\n",
              "  'type': 'CreateEvent'},\n",
              " {'actor': {'avatar_url': 'https://avatars.githubusercontent.com/u/51968178?',\n",
              "   'display_login': 'angela139',\n",
              "   'gravatar_id': '',\n",
              "   'id': 51968178,\n",
              "   'login': 'angela139',\n",
              "   'url': 'https://api.github.com/users/angela139'},\n",
              "  'created_at': '2022-04-03T22:21:31Z',\n",
              "  'id': '21088048398',\n",
              "  'payload': {'before': '25e1a31e7dfd7e46b2c2a902629e899cc97ad71e',\n",
              "   'commits': [{'author': {'email': '51968178+angela139@users.noreply.github.com',\n",
              "      'name': 'angela139'},\n",
              "     'distinct': True,\n",
              "     'message': 'Update index.html',\n",
              "     'sha': 'c4b29c8ef7ccb8c5fa390a2ad1068a35b6142f21',\n",
              "     'url': 'https://api.github.com/repos/angela139/heart_story/commits/c4b29c8ef7ccb8c5fa390a2ad1068a35b6142f21'}],\n",
              "   'distinct_size': 1,\n",
              "   'head': 'c4b29c8ef7ccb8c5fa390a2ad1068a35b6142f21',\n",
              "   'push_id': 9526020651,\n",
              "   'ref': 'refs/heads/main',\n",
              "   'size': 1},\n",
              "  'public': True,\n",
              "  'repo': {'id': 477284848,\n",
              "   'name': 'angela139/heart_story',\n",
              "   'url': 'https://api.github.com/repos/angela139/heart_story'},\n",
              "  'type': 'PushEvent'},\n",
              " {'actor': {'avatar_url': 'https://avatars.githubusercontent.com/u/33735410?',\n",
              "   'display_login': 'GabrielCFigueira',\n",
              "   'gravatar_id': '',\n",
              "   'id': 33735410,\n",
              "   'login': 'GabrielCFigueira',\n",
              "   'url': 'https://api.github.com/users/GabrielCFigueira'},\n",
              "  'created_at': '2022-04-03T22:21:31Z',\n",
              "  'id': '21088048401',\n",
              "  'payload': {},\n",
              "  'public': True,\n",
              "  'repo': {'id': 416037990,\n",
              "   'name': 'GabrielCFigueira/stegozoa',\n",
              "   'url': 'https://api.github.com/repos/GabrielCFigueira/stegozoa'},\n",
              "  'type': 'PublicEvent'},\n",
              " {'actor': {'avatar_url': 'https://avatars.githubusercontent.com/u/91356545?',\n",
              "   'display_login': 'ALI0ne',\n",
              "   'gravatar_id': '',\n",
              "   'id': 91356545,\n",
              "   'login': 'ALI0ne',\n",
              "   'url': 'https://api.github.com/users/ALI0ne'},\n",
              "  'created_at': '2022-04-03T22:21:31Z',\n",
              "  'id': '21088048410',\n",
              "  'payload': {'pusher_type': 'user',\n",
              "   'ref': 'snyk-upgrade-d8a2f296df3cf13342a88b7bada321c7',\n",
              "   'ref_type': 'branch'},\n",
              "  'public': True,\n",
              "  'repo': {'id': 411020993,\n",
              "   'name': 'ALI0ne/vscode-extension-samples',\n",
              "   'url': 'https://api.github.com/repos/ALI0ne/vscode-extension-samples'},\n",
              "  'type': 'DeleteEvent'},\n",
              " {'actor': {'avatar_url': 'https://avatars.githubusercontent.com/u/61233039?',\n",
              "   'display_login': 'charlinto',\n",
              "   'gravatar_id': '',\n",
              "   'id': 61233039,\n",
              "   'login': 'charlinto',\n",
              "   'url': 'https://api.github.com/users/charlinto'},\n",
              "  'created_at': '2022-04-03T22:21:31Z',\n",
              "  'id': '21088048409',\n",
              "  'payload': {'description': None,\n",
              "   'master_branch': 'main',\n",
              "   'pusher_type': 'user',\n",
              "   'ref': 'main',\n",
              "   'ref_type': 'branch'},\n",
              "  'public': True,\n",
              "  'repo': {'id': 477479890,\n",
              "   'name': 'charlinto/NAER',\n",
              "   'url': 'https://api.github.com/repos/charlinto/NAER'},\n",
              "  'type': 'CreateEvent'},\n",
              " {'actor': {'avatar_url': 'https://avatars.githubusercontent.com/u/813732?',\n",
              "   'display_login': 'glasnt',\n",
              "   'gravatar_id': '',\n",
              "   'id': 813732,\n",
              "   'login': 'glasnt',\n",
              "   'url': 'https://api.github.com/users/glasnt'},\n",
              "  'created_at': '2022-04-03T22:21:31Z',\n",
              "  'id': '21088048397',\n",
              "  'org': {'avatar_url': 'https://avatars.githubusercontent.com/u/2810941?',\n",
              "   'gravatar_id': '',\n",
              "   'id': 2810941,\n",
              "   'login': 'GoogleCloudPlatform',\n",
              "   'url': 'https://api.github.com/orgs/GoogleCloudPlatform'},\n",
              "  'payload': {'action': 'created',\n",
              "   'comment': {'author_association': 'COLLABORATOR',\n",
              "    'body': '/gcbrun',\n",
              "    'created_at': '2022-04-03T22:21:31Z',\n",
              "    'html_url': 'https://github.com/GoogleCloudPlatform/cloud-run-microservice-template-python/pull/57#issuecomment-1086961403',\n",
              "    'id': 1086961403,\n",
              "    'issue_url': 'https://api.github.com/repos/GoogleCloudPlatform/cloud-run-microservice-template-python/issues/57',\n",
              "    'node_id': 'IC_kwDOFQghzc5Aybb7',\n",
              "    'performed_via_github_app': None,\n",
              "    'reactions': {'+1': 0,\n",
              "     '-1': 0,\n",
              "     'confused': 0,\n",
              "     'eyes': 0,\n",
              "     'heart': 0,\n",
              "     'hooray': 0,\n",
              "     'laugh': 0,\n",
              "     'rocket': 0,\n",
              "     'total_count': 0,\n",
              "     'url': 'https://api.github.com/repos/GoogleCloudPlatform/cloud-run-microservice-template-python/issues/comments/1086961403/reactions'},\n",
              "    'updated_at': '2022-04-03T22:21:31Z',\n",
              "    'url': 'https://api.github.com/repos/GoogleCloudPlatform/cloud-run-microservice-template-python/issues/comments/1086961403',\n",
              "    'user': {'avatar_url': 'https://avatars.githubusercontent.com/u/813732?v=4',\n",
              "     'events_url': 'https://api.github.com/users/glasnt/events{/privacy}',\n",
              "     'followers_url': 'https://api.github.com/users/glasnt/followers',\n",
              "     'following_url': 'https://api.github.com/users/glasnt/following{/other_user}',\n",
              "     'gists_url': 'https://api.github.com/users/glasnt/gists{/gist_id}',\n",
              "     'gravatar_id': '',\n",
              "     'html_url': 'https://github.com/glasnt',\n",
              "     'id': 813732,\n",
              "     'login': 'glasnt',\n",
              "     'node_id': 'MDQ6VXNlcjgxMzczMg==',\n",
              "     'organizations_url': 'https://api.github.com/users/glasnt/orgs',\n",
              "     'received_events_url': 'https://api.github.com/users/glasnt/received_events',\n",
              "     'repos_url': 'https://api.github.com/users/glasnt/repos',\n",
              "     'site_admin': False,\n",
              "     'starred_url': 'https://api.github.com/users/glasnt/starred{/owner}{/repo}',\n",
              "     'subscriptions_url': 'https://api.github.com/users/glasnt/subscriptions',\n",
              "     'type': 'User',\n",
              "     'url': 'https://api.github.com/users/glasnt'}},\n",
              "   'issue': {'active_lock_reason': None,\n",
              "    'assignee': None,\n",
              "    'assignees': [],\n",
              "    'author_association': 'CONTRIBUTOR',\n",
              "    'body': '[![WhiteSource Renovate](https://app.renovatebot.com/images/banner.svg)](https://renovatebot.com)\\n\\nThis PR contains the following updates:\\n\\n| Package | Change | Age | Adoption | Passing | Confidence |\\n|---|---|---|---|---|---|\\n| [invoke](https://pyinvoke.org) ([source](https://togithub.com/pyinvoke/invoke), [changelog](https://www.pyinvoke.org/changelog.html)) | `==1.6.0` -> `==1.7.0` | [![age](https://badges.renovateapi.com/packages/pypi/invoke/1.7.0/age-slim)](https://docs.renovatebot.com/merge-confidence/) | [![adoption](https://badges.renovateapi.com/packages/pypi/invoke/1.7.0/adoption-slim)](https://docs.renovatebot.com/merge-confidence/) | [![passing](https://badges.renovateapi.com/packages/pypi/invoke/1.7.0/compatibility-slim/1.6.0)](https://docs.renovatebot.com/merge-confidence/) | [![confidence](https://badges.renovateapi.com/packages/pypi/invoke/1.7.0/confidence-slim/1.6.0)](https://docs.renovatebot.com/merge-confidence/) |\\n\\n---\\n\\n### Release Notes\\n\\n<details>\\n<summary>pyinvoke/invoke</summary>\\n\\n### [`v1.7.0`](https://togithub.com/pyinvoke/invoke/compare/1.6.0...1.7.0)\\n\\n[Compare Source](https://togithub.com/pyinvoke/invoke/compare/1.6.0...1.7.0)\\n\\n</details>\\n\\n---\\n\\n### Configuration\\n\\n📅 **Schedule**: \"before 8am on the first day of the month\" (UTC).\\n\\n🚦 **Automerge**: Disabled by config. Please merge this manually once you are satisfied.\\n\\n♻ **Rebasing**: Never, or you tick the rebase/retry checkbox.\\n\\n🔕 **Ignore**: Close this PR and you won\\'t be reminded about this update again.\\n\\n---\\n\\n - [ ] <!-- rebase-check -->If you want to rebase/retry this PR, click this checkbox.\\n\\n---\\n\\nThis PR has been generated by [WhiteSource Renovate](https://renovate.whitesourcesoftware.com). View repository job log [here](https://app.renovatebot.com/dashboard#github/GoogleCloudPlatform/cloud-run-microservice-template-python).',\n",
              "    'closed_at': None,\n",
              "    'comments': 1,\n",
              "    'comments_url': 'https://api.github.com/repos/GoogleCloudPlatform/cloud-run-microservice-template-python/issues/57/comments',\n",
              "    'created_at': '2022-04-01T04:38:37Z',\n",
              "    'draft': False,\n",
              "    'events_url': 'https://api.github.com/repos/GoogleCloudPlatform/cloud-run-microservice-template-python/issues/57/events',\n",
              "    'html_url': 'https://github.com/GoogleCloudPlatform/cloud-run-microservice-template-python/pull/57',\n",
              "    'id': 1189223903,\n",
              "    'labels': [],\n",
              "    'labels_url': 'https://api.github.com/repos/GoogleCloudPlatform/cloud-run-microservice-template-python/issues/57/labels{/name}',\n",
              "    'locked': False,\n",
              "    'milestone': None,\n",
              "    'node_id': 'PR_kwDOFQghzc41dc4s',\n",
              "    'number': 57,\n",
              "    'performed_via_github_app': None,\n",
              "    'pull_request': {'diff_url': 'https://github.com/GoogleCloudPlatform/cloud-run-microservice-template-python/pull/57.diff',\n",
              "     'html_url': 'https://github.com/GoogleCloudPlatform/cloud-run-microservice-template-python/pull/57',\n",
              "     'merged_at': None,\n",
              "     'patch_url': 'https://github.com/GoogleCloudPlatform/cloud-run-microservice-template-python/pull/57.patch',\n",
              "     'url': 'https://api.github.com/repos/GoogleCloudPlatform/cloud-run-microservice-template-python/pulls/57'},\n",
              "    'reactions': {'+1': 0,\n",
              "     '-1': 0,\n",
              "     'confused': 0,\n",
              "     'eyes': 0,\n",
              "     'heart': 0,\n",
              "     'hooray': 0,\n",
              "     'laugh': 0,\n",
              "     'rocket': 0,\n",
              "     'total_count': 0,\n",
              "     'url': 'https://api.github.com/repos/GoogleCloudPlatform/cloud-run-microservice-template-python/issues/57/reactions'},\n",
              "    'repository_url': 'https://api.github.com/repos/GoogleCloudPlatform/cloud-run-microservice-template-python',\n",
              "    'state': 'open',\n",
              "    'timeline_url': 'https://api.github.com/repos/GoogleCloudPlatform/cloud-run-microservice-template-python/issues/57/timeline',\n",
              "    'title': 'chore(deps): update dependency invoke to v1.7.0',\n",
              "    'updated_at': '2022-04-03T22:21:31Z',\n",
              "    'url': 'https://api.github.com/repos/GoogleCloudPlatform/cloud-run-microservice-template-python/issues/57',\n",
              "    'user': {'avatar_url': 'https://avatars.githubusercontent.com/u/25180681?v=4',\n",
              "     'events_url': 'https://api.github.com/users/renovate-bot/events{/privacy}',\n",
              "     'followers_url': 'https://api.github.com/users/renovate-bot/followers',\n",
              "     'following_url': 'https://api.github.com/users/renovate-bot/following{/other_user}',\n",
              "     'gists_url': 'https://api.github.com/users/renovate-bot/gists{/gist_id}',\n",
              "     'gravatar_id': '',\n",
              "     'html_url': 'https://github.com/renovate-bot',\n",
              "     'id': 25180681,\n",
              "     'login': 'renovate-bot',\n",
              "     'node_id': 'MDQ6VXNlcjI1MTgwNjgx',\n",
              "     'organizations_url': 'https://api.github.com/users/renovate-bot/orgs',\n",
              "     'received_events_url': 'https://api.github.com/users/renovate-bot/received_events',\n",
              "     'repos_url': 'https://api.github.com/users/renovate-bot/repos',\n",
              "     'site_admin': False,\n",
              "     'starred_url': 'https://api.github.com/users/renovate-bot/starred{/owner}{/repo}',\n",
              "     'subscriptions_url': 'https://api.github.com/users/renovate-bot/subscriptions',\n",
              "     'type': 'User',\n",
              "     'url': 'https://api.github.com/users/renovate-bot'}}},\n",
              "  'public': True,\n",
              "  'repo': {'id': 352854477,\n",
              "   'name': 'GoogleCloudPlatform/cloud-run-microservice-template-python',\n",
              "   'url': 'https://api.github.com/repos/GoogleCloudPlatform/cloud-run-microservice-template-python'},\n",
              "  'type': 'IssueCommentEvent'},\n",
              " {'actor': {'avatar_url': 'https://avatars.githubusercontent.com/u/98743880?',\n",
              "   'display_login': 'beniwein',\n",
              "   'gravatar_id': '',\n",
              "   'id': 98743880,\n",
              "   'login': 'beniwein',\n",
              "   'url': 'https://api.github.com/users/beniwein'},\n",
              "  'created_at': '2022-04-03T22:21:31Z',\n",
              "  'id': '21088048386',\n",
              "  'payload': {'before': '6936ad2be7b326af631f7d8061872383a9e5c01e',\n",
              "   'commits': [{'author': {'email': '98743880+beniwein@users.noreply.github.com',\n",
              "      'name': 'Beni Weinmann'},\n",
              "     'distinct': True,\n",
              "     'message': 'Update README.md',\n",
              "     'sha': 'd0882832c5a4ecf84978c32ef7fb170546e4ff45',\n",
              "     'url': 'https://api.github.com/repos/beniwein/TechQuest/commits/d0882832c5a4ecf84978c32ef7fb170546e4ff45'}],\n",
              "   'distinct_size': 1,\n",
              "   'head': 'd0882832c5a4ecf84978c32ef7fb170546e4ff45',\n",
              "   'push_id': 9526020643,\n",
              "   'ref': 'refs/heads/main',\n",
              "   'size': 1},\n",
              "  'public': True,\n",
              "  'repo': {'id': 473614381,\n",
              "   'name': 'beniwein/TechQuest',\n",
              "   'url': 'https://api.github.com/repos/beniwein/TechQuest'},\n",
              "  'type': 'PushEvent'},\n",
              " {'actor': {'avatar_url': 'https://avatars.githubusercontent.com/u/95590244?',\n",
              "   'display_login': 'jambrose0',\n",
              "   'gravatar_id': '',\n",
              "   'id': 95590244,\n",
              "   'login': 'jambrose0',\n",
              "   'url': 'https://api.github.com/users/jambrose0'},\n",
              "  'created_at': '2022-04-03T22:21:31Z',\n",
              "  'id': '21088048385',\n",
              "  'payload': {'before': '17beede76feed2a83be98e3a927bcf5852a2edf1',\n",
              "   'commits': [{'author': {'email': 'jambrose0518@gmail.com',\n",
              "      'name': 'jambrose0'},\n",
              "     'distinct': True,\n",
              "     'message': 'all routes and readme finalized',\n",
              "     'sha': '2aed6a9d5a94e1905ad011606f0daeee9fe41ed4',\n",
              "     'url': 'https://api.github.com/repos/jambrose0/ecommerce-backend/commits/2aed6a9d5a94e1905ad011606f0daeee9fe41ed4'}],\n",
              "   'distinct_size': 1,\n",
              "   'head': '2aed6a9d5a94e1905ad011606f0daeee9fe41ed4',\n",
              "   'push_id': 9526020634,\n",
              "   'ref': 'refs/heads/feature/routes',\n",
              "   'size': 1},\n",
              "  'public': True,\n",
              "  'repo': {'id': 476902117,\n",
              "   'name': 'jambrose0/ecommerce-backend',\n",
              "   'url': 'https://api.github.com/repos/jambrose0/ecommerce-backend'},\n",
              "  'type': 'PushEvent'},\n",
              " {'actor': {'avatar_url': 'https://avatars.githubusercontent.com/u/74690677?',\n",
              "   'display_login': 'Magicboy-Zhang',\n",
              "   'gravatar_id': '',\n",
              "   'id': 74690677,\n",
              "   'login': 'Magicboy-Zhang',\n",
              "   'url': 'https://api.github.com/users/Magicboy-Zhang'},\n",
              "  'created_at': '2022-04-03T22:21:31Z',\n",
              "  'id': '21088048376',\n",
              "  'org': {'avatar_url': 'https://avatars.githubusercontent.com/u/98678774?',\n",
              "   'gravatar_id': '',\n",
              "   'id': 98678774,\n",
              "   'login': 'CMPUT301W22T01',\n",
              "   'url': 'https://api.github.com/orgs/CMPUT301W22T01'},\n",
              "  'payload': {'action': 'created',\n",
              "   'comment': {'author_association': 'COLLABORATOR',\n",
              "    'body': \"US 02.01.01\\r\\n\\r\\nAs a player, I want to be able to scan QR codes and record a photo of the location or object, and the geolocation of the location or object.\\r\\n\\r\\n- [ ] 1. Enable 'Save QR' only, check if the QR code is correctly recorded without saving location\\r\\n- [ ] 2. Enable 'Save Location' only, check if the QR code is correctly recorded without saving the photo\\r\\n- [ ] 3. Enable both 'Save Location' and 'Save QR', check if the QR code is correctly recorded with both location and photo\\r\\n- [ ] 4. Do not enable 'Save Location' and 'Save QR', check if the QR code is correctly recorded without location and photo\\r\\n\\r\\n\",\n",
              "    'created_at': '2022-04-03T22:21:31Z',\n",
              "    'html_url': 'https://github.com/CMPUT301W22T01/QRpokemon/issues/80#issuecomment-1086961401',\n",
              "    'id': 1086961401,\n",
              "    'issue_url': 'https://api.github.com/repos/CMPUT301W22T01/QRpokemon/issues/80',\n",
              "    'node_id': 'IC_kwDOGwk8HM5Aybb5',\n",
              "    'performed_via_github_app': None,\n",
              "    'reactions': {'+1': 0,\n",
              "     '-1': 0,\n",
              "     'confused': 0,\n",
              "     'eyes': 0,\n",
              "     'heart': 0,\n",
              "     'hooray': 0,\n",
              "     'laugh': 0,\n",
              "     'rocket': 0,\n",
              "     'total_count': 0,\n",
              "     'url': 'https://api.github.com/repos/CMPUT301W22T01/QRpokemon/issues/comments/1086961401/reactions'},\n",
              "    'updated_at': '2022-04-03T22:21:31Z',\n",
              "    'url': 'https://api.github.com/repos/CMPUT301W22T01/QRpokemon/issues/comments/1086961401',\n",
              "    'user': {'avatar_url': 'https://avatars.githubusercontent.com/u/74690677?v=4',\n",
              "     'events_url': 'https://api.github.com/users/Magicboy-Zhang/events{/privacy}',\n",
              "     'followers_url': 'https://api.github.com/users/Magicboy-Zhang/followers',\n",
              "     'following_url': 'https://api.github.com/users/Magicboy-Zhang/following{/other_user}',\n",
              "     'gists_url': 'https://api.github.com/users/Magicboy-Zhang/gists{/gist_id}',\n",
              "     'gravatar_id': '',\n",
              "     'html_url': 'https://github.com/Magicboy-Zhang',\n",
              "     'id': 74690677,\n",
              "     'login': 'Magicboy-Zhang',\n",
              "     'node_id': 'MDQ6VXNlcjc0NjkwNjc3',\n",
              "     'organizations_url': 'https://api.github.com/users/Magicboy-Zhang/orgs',\n",
              "     'received_events_url': 'https://api.github.com/users/Magicboy-Zhang/received_events',\n",
              "     'repos_url': 'https://api.github.com/users/Magicboy-Zhang/repos',\n",
              "     'site_admin': False,\n",
              "     'starred_url': 'https://api.github.com/users/Magicboy-Zhang/starred{/owner}{/repo}',\n",
              "     'subscriptions_url': 'https://api.github.com/users/Magicboy-Zhang/subscriptions',\n",
              "     'type': 'User',\n",
              "     'url': 'https://api.github.com/users/Magicboy-Zhang'}},\n",
              "   'issue': {'active_lock_reason': None,\n",
              "    'assignee': None,\n",
              "    'assignees': [],\n",
              "    'author_association': 'COLLABORATOR',\n",
              "    'body': 'Now start testing all User Stories, will report success or problems here.',\n",
              "    'closed_at': None,\n",
              "    'comments': 10,\n",
              "    'comments_url': 'https://api.github.com/repos/CMPUT301W22T01/QRpokemon/issues/80/comments',\n",
              "    'created_at': '2022-04-03T20:22:09Z',\n",
              "    'events_url': 'https://api.github.com/repos/CMPUT301W22T01/QRpokemon/issues/80/events',\n",
              "    'html_url': 'https://github.com/CMPUT301W22T01/QRpokemon/issues/80',\n",
              "    'id': 1191035406,\n",
              "    'labels': [],\n",
              "    'labels_url': 'https://api.github.com/repos/CMPUT301W22T01/QRpokemon/issues/80/labels{/name}',\n",
              "    'locked': False,\n",
              "    'milestone': None,\n",
              "    'node_id': 'I_kwDOGwk8HM5G_cIO',\n",
              "    'number': 80,\n",
              "    'performed_via_github_app': None,\n",
              "    'reactions': {'+1': 0,\n",
              "     '-1': 0,\n",
              "     'confused': 0,\n",
              "     'eyes': 0,\n",
              "     'heart': 0,\n",
              "     'hooray': 0,\n",
              "     'laugh': 0,\n",
              "     'rocket': 0,\n",
              "     'total_count': 0,\n",
              "     'url': 'https://api.github.com/repos/CMPUT301W22T01/QRpokemon/issues/80/reactions'},\n",
              "    'repository_url': 'https://api.github.com/repos/CMPUT301W22T01/QRpokemon',\n",
              "    'state': 'open',\n",
              "    'timeline_url': 'https://api.github.com/repos/CMPUT301W22T01/QRpokemon/issues/80/timeline',\n",
              "    'title': 'Final testing of all the user stroies ',\n",
              "    'updated_at': '2022-04-03T22:21:31Z',\n",
              "    'url': 'https://api.github.com/repos/CMPUT301W22T01/QRpokemon/issues/80',\n",
              "    'user': {'avatar_url': 'https://avatars.githubusercontent.com/u/74690677?v=4',\n",
              "     'events_url': 'https://api.github.com/users/Magicboy-Zhang/events{/privacy}',\n",
              "     'followers_url': 'https://api.github.com/users/Magicboy-Zhang/followers',\n",
              "     'following_url': 'https://api.github.com/users/Magicboy-Zhang/following{/other_user}',\n",
              "     'gists_url': 'https://api.github.com/users/Magicboy-Zhang/gists{/gist_id}',\n",
              "     'gravatar_id': '',\n",
              "     'html_url': 'https://github.com/Magicboy-Zhang',\n",
              "     'id': 74690677,\n",
              "     'login': 'Magicboy-Zhang',\n",
              "     'node_id': 'MDQ6VXNlcjc0NjkwNjc3',\n",
              "     'organizations_url': 'https://api.github.com/users/Magicboy-Zhang/orgs',\n",
              "     'received_events_url': 'https://api.github.com/users/Magicboy-Zhang/received_events',\n",
              "     'repos_url': 'https://api.github.com/users/Magicboy-Zhang/repos',\n",
              "     'site_admin': False,\n",
              "     'starred_url': 'https://api.github.com/users/Magicboy-Zhang/starred{/owner}{/repo}',\n",
              "     'subscriptions_url': 'https://api.github.com/users/Magicboy-Zhang/subscriptions',\n",
              "     'type': 'User',\n",
              "     'url': 'https://api.github.com/users/Magicboy-Zhang'}}},\n",
              "  'public': True,\n",
              "  'repo': {'id': 453590044,\n",
              "   'name': 'CMPUT301W22T01/QRpokemon',\n",
              "   'url': 'https://api.github.com/repos/CMPUT301W22T01/QRpokemon'},\n",
              "  'type': 'IssueCommentEvent'},\n",
              " {'actor': {'avatar_url': 'https://avatars.githubusercontent.com/u/44785097?',\n",
              "   'display_login': 'ShadowMario',\n",
              "   'gravatar_id': '',\n",
              "   'id': 44785097,\n",
              "   'login': 'ShadowMario',\n",
              "   'url': 'https://api.github.com/users/ShadowMario'},\n",
              "  'created_at': '2022-04-03T22:21:31Z',\n",
              "  'id': '21088048381',\n",
              "  'payload': {'action': 'closed',\n",
              "   'issue': {'active_lock_reason': None,\n",
              "    'assignee': None,\n",
              "    'assignees': [],\n",
              "    'author_association': 'NONE',\n",
              "    'body': '### What is your question?\\n\\nThis is not a request to bring discussions back, this is simply a question asking whether discussions will ever come back in the future, as I found it incredibly useful up until the spam begun.',\n",
              "    'closed_at': '2022-04-03T22:21:30Z',\n",
              "    'comments': 9,\n",
              "    'comments_url': 'https://api.github.com/repos/ShadowMario/FNF-PsychEngine/issues/7913/comments',\n",
              "    'created_at': '2022-04-02T13:21:11Z',\n",
              "    'events_url': 'https://api.github.com/repos/ShadowMario/FNF-PsychEngine/issues/7913/events',\n",
              "    'html_url': 'https://github.com/ShadowMario/FNF-PsychEngine/issues/7913',\n",
              "    'id': 1190631695,\n",
              "    'labels': [{'color': 'd876e3',\n",
              "      'default': True,\n",
              "      'description': 'Further information is requested',\n",
              "      'id': 3149894278,\n",
              "      'name': 'question',\n",
              "      'node_id': 'MDU6TGFiZWwzMTQ5ODk0Mjc4',\n",
              "      'url': 'https://api.github.com/repos/ShadowMario/FNF-PsychEngine/labels/question'}],\n",
              "    'labels_url': 'https://api.github.com/repos/ShadowMario/FNF-PsychEngine/issues/7913/labels{/name}',\n",
              "    'locked': False,\n",
              "    'milestone': None,\n",
              "    'node_id': 'I_kwDOFuJ1-M5G95kP',\n",
              "    'number': 7913,\n",
              "    'performed_via_github_app': None,\n",
              "    'reactions': {'+1': 0,\n",
              "     '-1': 0,\n",
              "     'confused': 0,\n",
              "     'eyes': 0,\n",
              "     'heart': 0,\n",
              "     'hooray': 0,\n",
              "     'laugh': 0,\n",
              "     'rocket': 0,\n",
              "     'total_count': 0,\n",
              "     'url': 'https://api.github.com/repos/ShadowMario/FNF-PsychEngine/issues/7913/reactions'},\n",
              "    'repository_url': 'https://api.github.com/repos/ShadowMario/FNF-PsychEngine',\n",
              "    'state': 'closed',\n",
              "    'timeline_url': 'https://api.github.com/repos/ShadowMario/FNF-PsychEngine/issues/7913/timeline',\n",
              "    'title': 'Is there a *chance* of discussions coming back?',\n",
              "    'updated_at': '2022-04-03T22:21:31Z',\n",
              "    'url': 'https://api.github.com/repos/ShadowMario/FNF-PsychEngine/issues/7913',\n",
              "    'user': {'avatar_url': 'https://avatars.githubusercontent.com/u/93293747?v=4',\n",
              "     'events_url': 'https://api.github.com/users/ItsCapp/events{/privacy}',\n",
              "     'followers_url': 'https://api.github.com/users/ItsCapp/followers',\n",
              "     'following_url': 'https://api.github.com/users/ItsCapp/following{/other_user}',\n",
              "     'gists_url': 'https://api.github.com/users/ItsCapp/gists{/gist_id}',\n",
              "     'gravatar_id': '',\n",
              "     'html_url': 'https://github.com/ItsCapp',\n",
              "     'id': 93293747,\n",
              "     'login': 'ItsCapp',\n",
              "     'node_id': 'U_kgDOBY-Msw',\n",
              "     'organizations_url': 'https://api.github.com/users/ItsCapp/orgs',\n",
              "     'received_events_url': 'https://api.github.com/users/ItsCapp/received_events',\n",
              "     'repos_url': 'https://api.github.com/users/ItsCapp/repos',\n",
              "     'site_admin': False,\n",
              "     'starred_url': 'https://api.github.com/users/ItsCapp/starred{/owner}{/repo}',\n",
              "     'subscriptions_url': 'https://api.github.com/users/ItsCapp/subscriptions',\n",
              "     'type': 'User',\n",
              "     'url': 'https://api.github.com/users/ItsCapp'}}},\n",
              "  'public': True,\n",
              "  'repo': {'id': 383940088,\n",
              "   'name': 'ShadowMario/FNF-PsychEngine',\n",
              "   'url': 'https://api.github.com/repos/ShadowMario/FNF-PsychEngine'},\n",
              "  'type': 'IssuesEvent'},\n",
              " {'actor': {'avatar_url': 'https://avatars.githubusercontent.com/u/12127408?',\n",
              "   'display_login': 'ytakefuji',\n",
              "   'gravatar_id': '',\n",
              "   'id': 12127408,\n",
              "   'login': 'ytakefuji',\n",
              "   'url': 'https://api.github.com/users/ytakefuji'},\n",
              "  'created_at': '2022-04-03T22:21:31Z',\n",
              "  'id': '21088048390',\n",
              "  'payload': {'description': None,\n",
              "   'master_branch': 'main',\n",
              "   'pusher_type': 'user',\n",
              "   'ref': 'add-license-1',\n",
              "   'ref_type': 'branch'},\n",
              "  'public': True,\n",
              "  'repo': {'id': 475327602,\n",
              "   'name': 'ytakefuji/dyDNS',\n",
              "   'url': 'https://api.github.com/repos/ytakefuji/dyDNS'},\n",
              "  'type': 'CreateEvent'},\n",
              " {'actor': {'avatar_url': 'https://avatars.githubusercontent.com/u/41898282?',\n",
              "   'display_login': 'github-actions',\n",
              "   'gravatar_id': '',\n",
              "   'id': 41898282,\n",
              "   'login': 'github-actions[bot]',\n",
              "   'url': 'https://api.github.com/users/github-actions[bot]'},\n",
              "  'created_at': '2022-04-03T22:21:31Z',\n",
              "  'id': '21088048388',\n",
              "  'payload': {'before': '15884c6923082d0655e0a790a02825c80ae401a4',\n",
              "   'commits': [{'author': {'email': '41898282+github-actions[bot]@users.noreply.github.com',\n",
              "      'name': 'github-actions[bot]'},\n",
              "     'distinct': True,\n",
              "     'message': 'Update github-metrics.svg - [Skip GitHub Action]',\n",
              "     'sha': 'd20b7b21aa655c839512e21bbc30cadb5bc34936',\n",
              "     'url': 'https://api.github.com/repos/BrunoWilkinson/BrunoWilkinson/commits/d20b7b21aa655c839512e21bbc30cadb5bc34936'}],\n",
              "   'distinct_size': 1,\n",
              "   'head': 'd20b7b21aa655c839512e21bbc30cadb5bc34936',\n",
              "   'push_id': 9526020645,\n",
              "   'ref': 'refs/heads/main',\n",
              "   'size': 1},\n",
              "  'public': True,\n",
              "  'repo': {'id': 328220286,\n",
              "   'name': 'BrunoWilkinson/BrunoWilkinson',\n",
              "   'url': 'https://api.github.com/repos/BrunoWilkinson/BrunoWilkinson'},\n",
              "  'type': 'PushEvent'},\n",
              " {'actor': {'avatar_url': 'https://avatars.githubusercontent.com/u/91356545?',\n",
              "   'display_login': 'ALI0ne',\n",
              "   'gravatar_id': '',\n",
              "   'id': 91356545,\n",
              "   'login': 'ALI0ne',\n",
              "   'url': 'https://api.github.com/users/ALI0ne'},\n",
              "  'created_at': '2022-04-03T22:21:31Z',\n",
              "  'id': '21088048389',\n",
              "  'payload': {'before': '57bcea06b04b0f602c9e702147c831dccd0eee4f',\n",
              "   'commits': [{'author': {'email': 'snyk-bot@snyk.io', 'name': 'snyk-bot'},\n",
              "     'distinct': True,\n",
              "     'message': 'feat: upgrade vscode-html-languageservice from 3.0.3 to 4.2.2\\n\\nSnyk has created this PR to upgrade vscode-html-languageservice from 3.0.3 to 4.2.2.\\n\\nSee this package in npm:\\nhttps://www.npmjs.com/package/vscode-html-languageservice\\n\\nSee this project in Snyk:\\nhttps://app.snyk.io/org/alimazloum0ne/project/1a7e0a1c-579c-45da-bd74-4cdcaaf21596?utm_source=github&utm_medium=referral&page=upgrade-pr',\n",
              "     'sha': '5886cc099cac6f9890e0a9afc49f39a36c1acaad',\n",
              "     'url': 'https://api.github.com/repos/ALI0ne/vscode-extension-samples/commits/5886cc099cac6f9890e0a9afc49f39a36c1acaad'}],\n",
              "   'distinct_size': 1,\n",
              "   'head': '5886cc099cac6f9890e0a9afc49f39a36c1acaad',\n",
              "   'push_id': 9526020642,\n",
              "   'ref': 'refs/heads/snyk-upgrade-d8a2f296df3cf13342a88b7bada321c7',\n",
              "   'size': 1},\n",
              "  'public': True,\n",
              "  'repo': {'id': 411020993,\n",
              "   'name': 'ALI0ne/vscode-extension-samples',\n",
              "   'url': 'https://api.github.com/repos/ALI0ne/vscode-extension-samples'},\n",
              "  'type': 'PushEvent'},\n",
              " {'actor': {'avatar_url': 'https://avatars.githubusercontent.com/u/41898282?',\n",
              "   'display_login': 'github-actions',\n",
              "   'gravatar_id': '',\n",
              "   'id': 41898282,\n",
              "   'login': 'github-actions[bot]',\n",
              "   'url': 'https://api.github.com/users/github-actions[bot]'},\n",
              "  'created_at': '2022-04-03T22:21:31Z',\n",
              "  'id': '21088048375',\n",
              "  'payload': {'before': '460273f80dee68aba0a4de29a915f3fa6025ccde',\n",
              "   'commits': [{'author': {'email': 'actions@github.com',\n",
              "      'name': 'actions-user'},\n",
              "     'distinct': True,\n",
              "     'message': 'DTE updated Sun Apr  3 22:21:27 UTC 2022',\n",
              "     'sha': '0675473e73b19b3e0244dc764fbb3ed5d94bc338',\n",
              "     'url': 'https://api.github.com/repos/cnftstats/claynation/commits/0675473e73b19b3e0244dc764fbb3ed5d94bc338'}],\n",
              "   'distinct_size': 1,\n",
              "   'head': '0675473e73b19b3e0244dc764fbb3ed5d94bc338',\n",
              "   'push_id': 9526020635,\n",
              "   'ref': 'refs/heads/main',\n",
              "   'size': 1},\n",
              "  'public': True,\n",
              "  'repo': {'id': 458644720,\n",
              "   'name': 'cnftstats/claynation',\n",
              "   'url': 'https://api.github.com/repos/cnftstats/claynation'},\n",
              "  'type': 'PushEvent'},\n",
              " {'actor': {'avatar_url': 'https://avatars.githubusercontent.com/u/49699333?',\n",
              "   'display_login': 'dependabot',\n",
              "   'gravatar_id': '',\n",
              "   'id': 49699333,\n",
              "   'login': 'dependabot[bot]',\n",
              "   'url': 'https://api.github.com/users/dependabot[bot]'},\n",
              "  'created_at': '2022-04-03T22:21:31Z',\n",
              "  'id': '21088048379',\n",
              "  'payload': {'action': 'opened',\n",
              "   'number': 262,\n",
              "   'pull_request': {'_links': {'comments': {'href': 'https://api.github.com/repos/jamescurtin/jamesandelizedotcom/issues/262/comments'},\n",
              "     'commits': {'href': 'https://api.github.com/repos/jamescurtin/jamesandelizedotcom/pulls/262/commits'},\n",
              "     'html': {'href': 'https://github.com/jamescurtin/jamesandelizedotcom/pull/262'},\n",
              "     'issue': {'href': 'https://api.github.com/repos/jamescurtin/jamesandelizedotcom/issues/262'},\n",
              "     'review_comment': {'href': 'https://api.github.com/repos/jamescurtin/jamesandelizedotcom/pulls/comments{/number}'},\n",
              "     'review_comments': {'href': 'https://api.github.com/repos/jamescurtin/jamesandelizedotcom/pulls/262/comments'},\n",
              "     'self': {'href': 'https://api.github.com/repos/jamescurtin/jamesandelizedotcom/pulls/262'},\n",
              "     'statuses': {'href': 'https://api.github.com/repos/jamescurtin/jamesandelizedotcom/statuses/eaa857ef7d379867665e240d0b55ab4710825a2e'}},\n",
              "    'active_lock_reason': None,\n",
              "    'additions': 6,\n",
              "    'assignee': None,\n",
              "    'assignees': [],\n",
              "    'author_association': 'CONTRIBUTOR',\n",
              "    'auto_merge': None,\n",
              "    'base': {'label': 'jamescurtin:main',\n",
              "     'ref': 'main',\n",
              "     'repo': {'allow_forking': True,\n",
              "      'archive_url': 'https://api.github.com/repos/jamescurtin/jamesandelizedotcom/{archive_format}{/ref}',\n",
              "      'archived': False,\n",
              "      'assignees_url': 'https://api.github.com/repos/jamescurtin/jamesandelizedotcom/assignees{/user}',\n",
              "      'blobs_url': 'https://api.github.com/repos/jamescurtin/jamesandelizedotcom/git/blobs{/sha}',\n",
              "      'branches_url': 'https://api.github.com/repos/jamescurtin/jamesandelizedotcom/branches{/branch}',\n",
              "      'clone_url': 'https://github.com/jamescurtin/jamesandelizedotcom.git',\n",
              "      'collaborators_url': 'https://api.github.com/repos/jamescurtin/jamesandelizedotcom/collaborators{/collaborator}',\n",
              "      'comments_url': 'https://api.github.com/repos/jamescurtin/jamesandelizedotcom/comments{/number}',\n",
              "      'commits_url': 'https://api.github.com/repos/jamescurtin/jamesandelizedotcom/commits{/sha}',\n",
              "      'compare_url': 'https://api.github.com/repos/jamescurtin/jamesandelizedotcom/compare/{base}...{head}',\n",
              "      'contents_url': 'https://api.github.com/repos/jamescurtin/jamesandelizedotcom/contents/{+path}',\n",
              "      'contributors_url': 'https://api.github.com/repos/jamescurtin/jamesandelizedotcom/contributors',\n",
              "      'created_at': '2021-09-11T16:45:46Z',\n",
              "      'default_branch': 'main',\n",
              "      'deployments_url': 'https://api.github.com/repos/jamescurtin/jamesandelizedotcom/deployments',\n",
              "      'description': \"James and Elize's Wedding Website\",\n",
              "      'disabled': False,\n",
              "      'downloads_url': 'https://api.github.com/repos/jamescurtin/jamesandelizedotcom/downloads',\n",
              "      'events_url': 'https://api.github.com/repos/jamescurtin/jamesandelizedotcom/events',\n",
              "      'fork': False,\n",
              "      'forks': 0,\n",
              "      'forks_count': 0,\n",
              "      'forks_url': 'https://api.github.com/repos/jamescurtin/jamesandelizedotcom/forks',\n",
              "      'full_name': 'jamescurtin/jamesandelizedotcom',\n",
              "      'git_commits_url': 'https://api.github.com/repos/jamescurtin/jamesandelizedotcom/git/commits{/sha}',\n",
              "      'git_refs_url': 'https://api.github.com/repos/jamescurtin/jamesandelizedotcom/git/refs{/sha}',\n",
              "      'git_tags_url': 'https://api.github.com/repos/jamescurtin/jamesandelizedotcom/git/tags{/sha}',\n",
              "      'git_url': 'git://github.com/jamescurtin/jamesandelizedotcom.git',\n",
              "      'has_downloads': True,\n",
              "      'has_issues': True,\n",
              "      'has_pages': True,\n",
              "      'has_projects': False,\n",
              "      'has_wiki': False,\n",
              "      'homepage': 'https://jamesandelize.com',\n",
              "      'hooks_url': 'https://api.github.com/repos/jamescurtin/jamesandelizedotcom/hooks',\n",
              "      'html_url': 'https://github.com/jamescurtin/jamesandelizedotcom',\n",
              "      'id': 405431736,\n",
              "      'is_template': False,\n",
              "      'issue_comment_url': 'https://api.github.com/repos/jamescurtin/jamesandelizedotcom/issues/comments{/number}',\n",
              "      'issue_events_url': 'https://api.github.com/repos/jamescurtin/jamesandelizedotcom/issues/events{/number}',\n",
              "      'issues_url': 'https://api.github.com/repos/jamescurtin/jamesandelizedotcom/issues{/number}',\n",
              "      'keys_url': 'https://api.github.com/repos/jamescurtin/jamesandelizedotcom/keys{/key_id}',\n",
              "      'labels_url': 'https://api.github.com/repos/jamescurtin/jamesandelizedotcom/labels{/name}',\n",
              "      'language': 'JavaScript',\n",
              "      'languages_url': 'https://api.github.com/repos/jamescurtin/jamesandelizedotcom/languages',\n",
              "      'license': {'key': 'mit',\n",
              "       'name': 'MIT License',\n",
              "       'node_id': 'MDc6TGljZW5zZTEz',\n",
              "       'spdx_id': 'MIT',\n",
              "       'url': 'https://api.github.com/licenses/mit'},\n",
              "      'merges_url': 'https://api.github.com/repos/jamescurtin/jamesandelizedotcom/merges',\n",
              "      'milestones_url': 'https://api.github.com/repos/jamescurtin/jamesandelizedotcom/milestones{/number}',\n",
              "      'mirror_url': None,\n",
              "      'name': 'jamesandelizedotcom',\n",
              "      'node_id': 'MDEwOlJlcG9zaXRvcnk0MDU0MzE3MzY=',\n",
              "      'notifications_url': 'https://api.github.com/repos/jamescurtin/jamesandelizedotcom/notifications{?since,all,participating}',\n",
              "      'open_issues': 4,\n",
              "      'open_issues_count': 4,\n",
              "      'owner': {'avatar_url': 'https://avatars.githubusercontent.com/u/10189269?v=4',\n",
              "       'events_url': 'https://api.github.com/users/jamescurtin/events{/privacy}',\n",
              "       'followers_url': 'https://api.github.com/users/jamescurtin/followers',\n",
              "       'following_url': 'https://api.github.com/users/jamescurtin/following{/other_user}',\n",
              "       'gists_url': 'https://api.github.com/users/jamescurtin/gists{/gist_id}',\n",
              "       'gravatar_id': '',\n",
              "       'html_url': 'https://github.com/jamescurtin',\n",
              "       'id': 10189269,\n",
              "       'login': 'jamescurtin',\n",
              "       'node_id': 'MDQ6VXNlcjEwMTg5MjY5',\n",
              "       'organizations_url': 'https://api.github.com/users/jamescurtin/orgs',\n",
              "       'received_events_url': 'https://api.github.com/users/jamescurtin/received_events',\n",
              "       'repos_url': 'https://api.github.com/users/jamescurtin/repos',\n",
              "       'site_admin': False,\n",
              "       'starred_url': 'https://api.github.com/users/jamescurtin/starred{/owner}{/repo}',\n",
              "       'subscriptions_url': 'https://api.github.com/users/jamescurtin/subscriptions',\n",
              "       'type': 'User',\n",
              "       'url': 'https://api.github.com/users/jamescurtin'},\n",
              "      'private': False,\n",
              "      'pulls_url': 'https://api.github.com/repos/jamescurtin/jamesandelizedotcom/pulls{/number}',\n",
              "      'pushed_at': '2022-04-03T22:21:31Z',\n",
              "      'releases_url': 'https://api.github.com/repos/jamescurtin/jamesandelizedotcom/releases{/id}',\n",
              "      'size': 38654,\n",
              "      'ssh_url': 'git@github.com:jamescurtin/jamesandelizedotcom.git',\n",
              "      'stargazers_count': 0,\n",
              "      'stargazers_url': 'https://api.github.com/repos/jamescurtin/jamesandelizedotcom/stargazers',\n",
              "      'statuses_url': 'https://api.github.com/repos/jamescurtin/jamesandelizedotcom/statuses/{sha}',\n",
              "      'subscribers_url': 'https://api.github.com/repos/jamescurtin/jamesandelizedotcom/subscribers',\n",
              "      'subscription_url': 'https://api.github.com/repos/jamescurtin/jamesandelizedotcom/subscription',\n",
              "      'svn_url': 'https://github.com/jamescurtin/jamesandelizedotcom',\n",
              "      'tags_url': 'https://api.github.com/repos/jamescurtin/jamesandelizedotcom/tags',\n",
              "      'teams_url': 'https://api.github.com/repos/jamescurtin/jamesandelizedotcom/teams',\n",
              "      'topics': [],\n",
              "      'trees_url': 'https://api.github.com/repos/jamescurtin/jamesandelizedotcom/git/trees{/sha}',\n",
              "      'updated_at': '2022-01-10T21:50:38Z',\n",
              "      'url': 'https://api.github.com/repos/jamescurtin/jamesandelizedotcom',\n",
              "      'visibility': 'public',\n",
              "      'watchers': 0,\n",
              "      'watchers_count': 0},\n",
              "     'sha': '03066b85b4b0a73711783fc467eee279ec5cf615',\n",
              "     'user': {'avatar_url': 'https://avatars.githubusercontent.com/u/10189269?v=4',\n",
              "      'events_url': 'https://api.github.com/users/jamescurtin/events{/privacy}',\n",
              "      'followers_url': 'https://api.github.com/users/jamescurtin/followers',\n",
              "      'following_url': 'https://api.github.com/users/jamescurtin/following{/other_user}',\n",
              "      'gists_url': 'https://api.github.com/users/jamescurtin/gists{/gist_id}',\n",
              "      'gravatar_id': '',\n",
              "      'html_url': 'https://github.com/jamescurtin',\n",
              "      'id': 10189269,\n",
              "      'login': 'jamescurtin',\n",
              "      'node_id': 'MDQ6VXNlcjEwMTg5MjY5',\n",
              "      'organizations_url': 'https://api.github.com/users/jamescurtin/orgs',\n",
              "      'received_events_url': 'https://api.github.com/users/jamescurtin/received_events',\n",
              "      'repos_url': 'https://api.github.com/users/jamescurtin/repos',\n",
              "      'site_admin': False,\n",
              "      'starred_url': 'https://api.github.com/users/jamescurtin/starred{/owner}{/repo}',\n",
              "      'subscriptions_url': 'https://api.github.com/users/jamescurtin/subscriptions',\n",
              "      'type': 'User',\n",
              "      'url': 'https://api.github.com/users/jamescurtin'}},\n",
              "    'body': 'Bumps [gatsby-source-filesystem](https://github.com/gatsbyjs/gatsby/tree/HEAD/packages/gatsby-source-filesystem) from 4.6.0 to 4.11.1.\\n<details>\\n<summary>Release notes</summary>\\n<p><em>Sourced from <a href=\"https://github.com/gatsbyjs/gatsby/releases\">gatsby-source-filesystem\\'s releases</a>.</em></p>\\n<blockquote>\\n<h2>v4.11</h2>\\n<p>Welcome to <code>gatsby@4.11.0</code> release (March 2022  #<!-- raw HTML omitted --><!-- raw HTML omitted -->3)</p>\\n<p>Key highlights of this release:</p>\\n<ul>\\n<li><a href=\"https://www.gatsbyjs.com/docs/reference/release-notes/v4.11#gatsby-source-shopify-v7\"><code>gatsby-source-shopify</code> v7</a></li>\\n<li><a href=\"https://www.gatsbyjs.com/docs/reference/release-notes/v4.11#react-18\">React 18</a></li>\\n</ul>\\n<p>Also check out <a href=\"https://www.gatsbyjs.com/docs/reference/release-notes/v4.11#notable-bugfixes--improvements\">notable bugfixes</a>.</p>\\n<p><strong>Bleeding Edge:</strong> Want to try new features as soon as possible? Install <code>gatsby@next</code> and let us know\\nif you have any <a href=\"https://github.com/gatsbyjs/gatsby/issues\">issues</a>.</p>\\n<p><a href=\"https://www.gatsbyjs.com/docs/reference/release-notes/v4.10\">Previous release notes</a></p>\\n<p><a href=\"https://github.com/gatsbyjs/gatsby/compare/gatsby@4.11.0-next.0...gatsby@4.11.0\">Full changelog</a></p>\\n<h2>v4.10</h2>\\n<p>Welcome to <code>gatsby@4.10.0</code> release (March 2022 #<!-- raw HTML omitted --><!-- raw HTML omitted -->2)</p>\\n<p>Key highlights of this release:</p>\\n<ul>\\n<li><a href=\"https://www.gatsbyjs.com/docs/reference/release-notes/v4.10#image-cdn\">Image CDN</a></li>\\n</ul>\\n<p>Also check out <a href=\"https://www.gatsbyjs.com/docs/reference/release-notes/v4.10#notable-bugfixes--improvements\">notable bugfixes</a>.</p>\\n<p><strong>Bleeding Edge:</strong> Want to try new features as soon as possible? Install <code>gatsby@next</code> and let us know\\nif you have any <a href=\"https://github.com/gatsbyjs/gatsby/issues\">issues</a>.</p>\\n<p><a href=\"https://www.gatsbyjs.com/docs/reference/release-notes/v4.9\">Previous release notes</a></p>\\n<p><a href=\"https://github.com/gatsbyjs/gatsby/compare/gatsby@4.11.0-next.0...gatsby@4.11.0\">Full changelog</a></p>\\n<h2>v4.9</h2>\\n<p>Welcome to <code>gatsby@4.9.0</code> release (March 2022 #<!-- raw HTML omitted --><!-- raw HTML omitted -->1)</p>\\n<p>Key highlights of this release:</p>\\n<ul>\\n<li><a href=\"https://www.gatsbyjs.com/docs/reference/release-notes/v4.9#support-for-typescript-in-gatsby-config-and-gatsby-node\">Support for TypeScript in <code>gatsby-config</code> and <code>gatsby-node</code></a></li>\\n</ul>\\n<p>Also check out <a href=\"https://www.gatsbyjs.com/docs/reference/release-notes/v4.9#notable-bugfixes--improvements\">notable bugfixes</a>.</p>\\n<p><strong>Bleeding Edge:</strong> Want to try new features as soon as possible? Install <code>gatsby@next</code> and let us know if you have any <a href=\"https://github.com/gatsbyjs/gatsby/issues\">issues</a>.</p>\\n<p><a href=\"https://www.gatsbyjs.com/docs/reference/release-notes/v4.8\">Previous release notes</a></p>\\n<!-- raw HTML omitted -->\\n</blockquote>\\n<p>... (truncated)</p>\\n</details>\\n<details>\\n<summary>Changelog</summary>\\n<p><em>Sourced from <a href=\"https://github.com/gatsbyjs/gatsby/blob/master/packages/gatsby-source-filesystem/CHANGELOG.md\">gatsby-source-filesystem\\'s changelog</a>.</em></p>\\n<blockquote>\\n<h3><a href=\"https://github.com/gatsbyjs/gatsby/commits/gatsby-source-filesystem@4.11.1/packages/gatsby-source-filesystem\">4.11.1</a> (2022-03-31)</h3>\\n<p><strong>Note:</strong> Version bump only for package gatsby-source-filesystem</p>\\n<h2><a href=\"https://github.com/gatsbyjs/gatsby/commits/gatsby-source-filesystem@4.11.0/packages/gatsby-source-filesystem\">4.11.0</a> (2022-03-29)</h2>\\n<p><a href=\"https://www.gatsbyjs.com/docs/reference/release-notes/v4.11\">🧾 Release notes</a></p>\\n<h4>Bug Fixes</h4>\\n<ul>\\n<li>cleanup tests <a href=\"https://github-redirect.dependabot.com/gatsbyjs/gatsby/issues/35200\">#35200</a> (<a href=\"https://github.com/gatsbyjs/gatsby/commit/f4121fbd7fce0034816e3e743481c13cb4181d07\">f4121fb</a>)</li>\\n</ul>\\n<h4>Chores</h4>\\n<ul>\\n<li>replace all uses of gatsbyjs.org with gatsbyjs.com <a href=\"https://github-redirect.dependabot.com/gatsbyjs/gatsby/issues/35101\">#35101</a> (<a href=\"https://github.com/gatsbyjs/gatsby/commit/16cff413e154dc4e74fc5be631d52c76273e5cbc\">16cff41</a>)</li>\\n</ul>\\n<h3><a href=\"https://github.com/gatsbyjs/gatsby/commits/gatsby-source-filesystem@4.10.1/packages/gatsby-source-filesystem\">4.10.1</a> (2022-03-23)</h3>\\n<p><strong>Note:</strong> Version bump only for package gatsby-source-filesystem</p>\\n<h2><a href=\"https://github.com/gatsbyjs/gatsby/commits/gatsby-source-filesystem@4.10.0/packages/gatsby-source-filesystem\">4.10.0</a> (2022-03-16)</h2>\\n<p><a href=\"https://www.gatsbyjs.com/docs/reference/release-notes/v4.10\">🧾 Release notes</a></p>\\n<p><strong>Note:</strong> Version bump only for package gatsby-source-filesystem</p>\\n<h3><a href=\"https://github.com/gatsbyjs/gatsby/commits/gatsby-source-filesystem@4.9.1/packages/gatsby-source-filesystem\">4.9.1</a> (2022-03-09)</h3>\\n<p><strong>Note:</strong> Version bump only for package gatsby-source-filesystem</p>\\n<h2><a href=\"https://github.com/gatsbyjs/gatsby/commits/gatsby-source-filesystem@4.9.0/packages/gatsby-source-filesystem\">4.9.0</a> (2022-03-01)</h2>\\n<p><a href=\"https://www.gatsbyjs.com/docs/reference/release-notes/v4.9\">🧾 Release notes</a></p>\\n<h4>Chores</h4>\\n<ul>\\n<li>Format changelog files (<a href=\"https://github.com/gatsbyjs/gatsby/commit/088f23b084b67f746a383e06e9216cef83270317\">088f23b</a>)</li>\\n</ul>\\n<h3><a href=\"https://github.com/gatsbyjs/gatsby/commits/gatsby-source-filesystem@4.8.2/packages/gatsby-source-filesystem\">4.8.2</a> (2022-03-01)</h3>\\n<p><strong>Note:</strong> Version bump only for package gatsby-source-filesystem</p>\\n<h3><a href=\"https://github.com/gatsbyjs/gatsby/commits/gatsby-source-filesystem@4.8.1/packages/gatsby-source-filesystem\">4.8.1</a> (2022-02-25)</h3>\\n<p><strong>Note:</strong> Version bump only for package gatsby-source-filesystem</p>\\n<h2><a href=\"https://github.com/gatsbyjs/gatsby/commits/gatsby-source-filesystem@4.8.0/packages/gatsby-source-filesystem\">4.8.0</a> (2022-02-22)</h2>\\n<p><a href=\"https://www.gatsbyjs.com/docs/reference/release-notes/v4.8\">🧾 Release notes</a></p>\\n<!-- raw HTML omitted -->\\n</blockquote>\\n<p>... (truncated)</p>\\n</details>\\n<details>\\n<summary>Commits</summary>\\n<ul>\\n<li><a href=\"https://github.com/gatsbyjs/gatsby/commit/ad8c330df7b452b2e515b20d0d11dcb1385b9f6b\"><code>ad8c330</code></a> chore(release): Publish</li>\\n<li><a href=\"https://github.com/gatsbyjs/gatsby/commit/ac3f088a160cfb4913310a6992b106f760c2cafd\"><code>ac3f088</code></a> chore(release): Publish</li>\\n<li><a href=\"https://github.com/gatsbyjs/gatsby/commit/d278739399df5e1cfdaabecbaa9c06957d5b05f0\"><code>d278739</code></a> chore(release): Publish next</li>\\n<li><a href=\"https://github.com/gatsbyjs/gatsby/commit/ecd1120f9b89ec99edec0c20ce5611ac1483f687\"><code>ecd1120</code></a> chore(changelogs): update changelogs (<a href=\"https://github.com/gatsbyjs/gatsby/tree/HEAD/packages/gatsby-source-filesystem/issues/35217\">#35217</a>)</li>\\n<li><a href=\"https://github.com/gatsbyjs/gatsby/commit/f4121fbd7fce0034816e3e743481c13cb4181d07\"><code>f4121fb</code></a> fix(gatsby-source-filesystem): cleanup tests (<a href=\"https://github.com/gatsbyjs/gatsby/tree/HEAD/packages/gatsby-source-filesystem/issues/35200\">#35200</a>)</li>\\n<li><a href=\"https://github.com/gatsbyjs/gatsby/commit/a9fd6bef3b2b9150de31e1632bfd383ec331743a\"><code>a9fd6be</code></a> chore(release): Publish next</li>\\n<li><a href=\"https://github.com/gatsbyjs/gatsby/commit/16cff413e154dc4e74fc5be631d52c76273e5cbc\"><code>16cff41</code></a> chore: replace all uses of gatsbyjs.org with gatsbyjs.com (<a href=\"https://github.com/gatsbyjs/gatsby/tree/HEAD/packages/gatsby-source-filesystem/issues/35101\">#35101</a>)</li>\\n<li><a href=\"https://github.com/gatsbyjs/gatsby/commit/2cfd7dc3db6e4a6325962160170edf8c51053217\"><code>2cfd7dc</code></a> chore(release): Publish next</li>\\n<li><a href=\"https://github.com/gatsbyjs/gatsby/commit/b3f330aa8a82a1b33a39e6f2b76f9d4a7ce35600\"><code>b3f330a</code></a> chore(changelogs): update changelogs (<a href=\"https://github.com/gatsbyjs/gatsby/tree/HEAD/packages/gatsby-source-filesystem/issues/35149\">#35149</a>)</li>\\n<li><a href=\"https://github.com/gatsbyjs/gatsby/commit/e0f8815c007b7915f4d69264b8a5714a4c0ed31b\"><code>e0f8815</code></a> chore(release): Publish next pre-minor</li>\\n<li>Additional commits viewable in <a href=\"https://github.com/gatsbyjs/gatsby/commits/gatsby-source-filesystem@4.11.1/packages/gatsby-source-filesystem\">compare view</a></li>\\n</ul>\\n</details>\\n<br />\\n\\n\\n[![Dependabot compatibility score](https://dependabot-badges.githubapp.com/badges/compatibility_score?dependency-name=gatsby-source-filesystem&package-manager=npm_and_yarn&previous-version=4.6.0&new-version=4.11.1)](https://docs.github.com/en/github/managing-security-vulnerabilities/about-dependabot-security-updates#about-compatibility-scores)\\n\\nDependabot will resolve any conflicts with this PR as long as you don\\'t alter it yourself. You can also trigger a rebase manually by commenting `@dependabot rebase`.\\n\\n[//]: # (dependabot-automerge-start)\\n[//]: # (dependabot-automerge-end)\\n\\n---\\n\\n<details>\\n<summary>Dependabot commands and options</summary>\\n<br />\\n\\nYou can trigger Dependabot actions by commenting on this PR:\\n- `@dependabot rebase` will rebase this PR\\n- `@dependabot recreate` will recreate this PR, overwriting any edits that have been made to it\\n- `@dependabot merge` will merge this PR after your CI passes on it\\n- `@dependabot squash and merge` will squash and merge this PR after your CI passes on it\\n- `@dependabot cancel merge` will cancel a previously requested merge and block automerging\\n- `@dependabot reopen` will reopen this PR if it is closed\\n- `@dependabot close` will close this PR and stop Dependabot recreating it. You can achieve the same result by closing it manually\\n- `@dependabot ignore this major version` will close this PR and stop Dependabot creating any more for this major version (unless you reopen the PR or upgrade to it yourself)\\n- `@dependabot ignore this minor version` will close this PR and stop Dependabot creating any more for this minor version (unless you reopen the PR or upgrade to it yourself)\\n- `@dependabot ignore this dependency` will close this PR and stop Dependabot creating any more for this dependency (unless you reopen the PR or upgrade to it yourself)\\n\\n\\n</details>',\n",
              "    'changed_files': 2,\n",
              "    'closed_at': None,\n",
              "    'comments': 0,\n",
              "    'comments_url': 'https://api.github.com/repos/jamescurtin/jamesandelizedotcom/issues/262/comments',\n",
              "    'commits': 1,\n",
              "    'commits_url': 'https://api.github.com/repos/jamescurtin/jamesandelizedotcom/pulls/262/commits',\n",
              "    'created_at': '2022-04-03T22:21:30Z',\n",
              "    'deletions': 7,\n",
              "    'diff_url': 'https://github.com/jamescurtin/jamesandelizedotcom/pull/262.diff',\n",
              "    'draft': False,\n",
              "    'head': {'label': 'jamescurtin:dependabot/npm_and_yarn/gatsby-source-filesystem-4.11.1',\n",
              "     'ref': 'dependabot/npm_and_yarn/gatsby-source-filesystem-4.11.1',\n",
              "     'repo': {'allow_forking': True,\n",
              "      'archive_url': 'https://api.github.com/repos/jamescurtin/jamesandelizedotcom/{archive_format}{/ref}',\n",
              "      'archived': False,\n",
              "      'assignees_url': 'https://api.github.com/repos/jamescurtin/jamesandelizedotcom/assignees{/user}',\n",
              "      'blobs_url': 'https://api.github.com/repos/jamescurtin/jamesandelizedotcom/git/blobs{/sha}',\n",
              "      'branches_url': 'https://api.github.com/repos/jamescurtin/jamesandelizedotcom/branches{/branch}',\n",
              "      'clone_url': 'https://github.com/jamescurtin/jamesandelizedotcom.git',\n",
              "      'collaborators_url': 'https://api.github.com/repos/jamescurtin/jamesandelizedotcom/collaborators{/collaborator}',\n",
              "      'comments_url': 'https://api.github.com/repos/jamescurtin/jamesandelizedotcom/comments{/number}',\n",
              "      'commits_url': 'https://api.github.com/repos/jamescurtin/jamesandelizedotcom/commits{/sha}',\n",
              "      'compare_url': 'https://api.github.com/repos/jamescurtin/jamesandelizedotcom/compare/{base}...{head}',\n",
              "      'contents_url': 'https://api.github.com/repos/jamescurtin/jamesandelizedotcom/contents/{+path}',\n",
              "      'contributors_url': 'https://api.github.com/repos/jamescurtin/jamesandelizedotcom/contributors',\n",
              "      'created_at': '2021-09-11T16:45:46Z',\n",
              "      'default_branch': 'main',\n",
              "      'deployments_url': 'https://api.github.com/repos/jamescurtin/jamesandelizedotcom/deployments',\n",
              "      'description': \"James and Elize's Wedding Website\",\n",
              "      'disabled': False,\n",
              "      'downloads_url': 'https://api.github.com/repos/jamescurtin/jamesandelizedotcom/downloads',\n",
              "      'events_url': 'https://api.github.com/repos/jamescurtin/jamesandelizedotcom/events',\n",
              "      'fork': False,\n",
              "      'forks': 0,\n",
              "      'forks_count': 0,\n",
              "      'forks_url': 'https://api.github.com/repos/jamescurtin/jamesandelizedotcom/forks',\n",
              "      'full_name': 'jamescurtin/jamesandelizedotcom',\n",
              "      'git_commits_url': 'https://api.github.com/repos/jamescurtin/jamesandelizedotcom/git/commits{/sha}',\n",
              "      'git_refs_url': 'https://api.github.com/repos/jamescurtin/jamesandelizedotcom/git/refs{/sha}',\n",
              "      'git_tags_url': 'https://api.github.com/repos/jamescurtin/jamesandelizedotcom/git/tags{/sha}',\n",
              "      'git_url': 'git://github.com/jamescurtin/jamesandelizedotcom.git',\n",
              "      'has_downloads': True,\n",
              "      'has_issues': True,\n",
              "      'has_pages': True,\n",
              "      'has_projects': False,\n",
              "      'has_wiki': False,\n",
              "      'homepage': 'https://jamesandelize.com',\n",
              "      'hooks_url': 'https://api.github.com/repos/jamescurtin/jamesandelizedotcom/hooks',\n",
              "      'html_url': 'https://github.com/jamescurtin/jamesandelizedotcom',\n",
              "      'id': 405431736,\n",
              "      'is_template': False,\n",
              "      'issue_comment_url': 'https://api.github.com/repos/jamescurtin/jamesandelizedotcom/issues/comments{/number}',\n",
              "      'issue_events_url': 'https://api.github.com/repos/jamescurtin/jamesandelizedotcom/issues/events{/number}',\n",
              "      'issues_url': 'https://api.github.com/repos/jamescurtin/jamesandelizedotcom/issues{/number}',\n",
              "      'keys_url': 'https://api.github.com/repos/jamescurtin/jamesandelizedotcom/keys{/key_id}',\n",
              "      'labels_url': 'https://api.github.com/repos/jamescurtin/jamesandelizedotcom/labels{/name}',\n",
              "      'language': 'JavaScript',\n",
              "      'languages_url': 'https://api.github.com/repos/jamescurtin/jamesandelizedotcom/languages',\n",
              "      'license': {'key': 'mit',\n",
              "       'name': 'MIT License',\n",
              "       'node_id': 'MDc6TGljZW5zZTEz',\n",
              "       'spdx_id': 'MIT',\n",
              "       'url': 'https://api.github.com/licenses/mit'},\n",
              "      'merges_url': 'https://api.github.com/repos/jamescurtin/jamesandelizedotcom/merges',\n",
              "      'milestones_url': 'https://api.github.com/repos/jamescurtin/jamesandelizedotcom/milestones{/number}',\n",
              "      'mirror_url': None,\n",
              "      'name': 'jamesandelizedotcom',\n",
              "      'node_id': 'MDEwOlJlcG9zaXRvcnk0MDU0MzE3MzY=',\n",
              "      'notifications_url': 'https://api.github.com/repos/jamescurtin/jamesandelizedotcom/notifications{?since,all,participating}',\n",
              "      'open_issues': 4,\n",
              "      'open_issues_count': 4,\n",
              "      'owner': {'avatar_url': 'https://avatars.githubusercontent.com/u/10189269?v=4',\n",
              "       'events_url': 'https://api.github.com/users/jamescurtin/events{/privacy}',\n",
              "       'followers_url': 'https://api.github.com/users/jamescurtin/followers',\n",
              "       'following_url': 'https://api.github.com/users/jamescurtin/following{/other_user}',\n",
              "       'gists_url': 'https://api.github.com/users/jamescurtin/gists{/gist_id}',\n",
              "       'gravatar_id': '',\n",
              "       'html_url': 'https://github.com/jamescurtin',\n",
              "       'id': 10189269,\n",
              "       'login': 'jamescurtin',\n",
              "       'node_id': 'MDQ6VXNlcjEwMTg5MjY5',\n",
              "       'organizations_url': 'https://api.github.com/users/jamescurtin/orgs',\n",
              "       'received_events_url': 'https://api.github.com/users/jamescurtin/received_events',\n",
              "       'repos_url': 'https://api.github.com/users/jamescurtin/repos',\n",
              "       'site_admin': False,\n",
              "       'starred_url': 'https://api.github.com/users/jamescurtin/starred{/owner}{/repo}',\n",
              "       'subscriptions_url': 'https://api.github.com/users/jamescurtin/subscriptions',\n",
              "       'type': 'User',\n",
              "       'url': 'https://api.github.com/users/jamescurtin'},\n",
              "      'private': False,\n",
              "      'pulls_url': 'https://api.github.com/repos/jamescurtin/jamesandelizedotcom/pulls{/number}',\n",
              "      'pushed_at': '2022-04-03T22:21:31Z',\n",
              "      'releases_url': 'https://api.github.com/repos/jamescurtin/jamesandelizedotcom/releases{/id}',\n",
              "      'size': 38654,\n",
              "      'ssh_url': 'git@github.com:jamescurtin/jamesandelizedotcom.git',\n",
              "      'stargazers_count': 0,\n",
              "      'stargazers_url': 'https://api.github.com/repos/jamescurtin/jamesandelizedotcom/stargazers',\n",
              "      'statuses_url': 'https://api.github.com/repos/jamescurtin/jamesandelizedotcom/statuses/{sha}',\n",
              "      'subscribers_url': 'https://api.github.com/repos/jamescurtin/jamesandelizedotcom/subscribers',\n",
              "      'subscription_url': 'https://api.github.com/repos/jamescurtin/jamesandelizedotcom/subscription',\n",
              "      'svn_url': 'https://github.com/jamescurtin/jamesandelizedotcom',\n",
              "      'tags_url': 'https://api.github.com/repos/jamescurtin/jamesandelizedotcom/tags',\n",
              "      'teams_url': 'https://api.github.com/repos/jamescurtin/jamesandelizedotcom/teams',\n",
              "      'topics': [],\n",
              "      'trees_url': 'https://api.github.com/repos/jamescurtin/jamesandelizedotcom/git/trees{/sha}',\n",
              "      'updated_at': '2022-01-10T21:50:38Z',\n",
              "      'url': 'https://api.github.com/repos/jamescurtin/jamesandelizedotcom',\n",
              "      'visibility': 'public',\n",
              "      'watchers': 0,\n",
              "      'watchers_count': 0},\n",
              "     'sha': 'eaa857ef7d379867665e240d0b55ab4710825a2e',\n",
              "     'user': {'avatar_url': 'https://avatars.githubusercontent.com/u/10189269?v=4',\n",
              "      'events_url': 'https://api.github.com/users/jamescurtin/events{/privacy}',\n",
              "      'followers_url': 'https://api.github.com/users/jamescurtin/followers',\n",
              "      'following_url': 'https://api.github.com/users/jamescurtin/following{/other_user}',\n",
              "      'gists_url': 'https://api.github.com/users/jamescurtin/gists{/gist_id}',\n",
              "      'gravatar_id': '',\n",
              "      'html_url': 'https://github.com/jamescurtin',\n",
              "      'id': 10189269,\n",
              "      'login': 'jamescurtin',\n",
              "      'node_id': 'MDQ6VXNlcjEwMTg5MjY5',\n",
              "      'organizations_url': 'https://api.github.com/users/jamescurtin/orgs',\n",
              "      'received_events_url': 'https://api.github.com/users/jamescurtin/received_events',\n",
              "      'repos_url': 'https://api.github.com/users/jamescurtin/repos',\n",
              "      'site_admin': False,\n",
              "      'starred_url': 'https://api.github.com/users/jamescurtin/starred{/owner}{/repo}',\n",
              "      'subscriptions_url': 'https://api.github.com/users/jamescurtin/subscriptions',\n",
              "      'type': 'User',\n",
              "      'url': 'https://api.github.com/users/jamescurtin'}},\n",
              "    'html_url': 'https://github.com/jamescurtin/jamesandelizedotcom/pull/262',\n",
              "    'id': 898393747,\n",
              "    'issue_url': 'https://api.github.com/repos/jamescurtin/jamesandelizedotcom/issues/262',\n",
              "    'labels': [],\n",
              "    'locked': False,\n",
              "    'maintainer_can_modify': False,\n",
              "    'merge_commit_sha': None,\n",
              "    'mergeable': None,\n",
              "    'mergeable_state': 'unknown',\n",
              "    'merged': False,\n",
              "    'merged_at': None,\n",
              "    'merged_by': None,\n",
              "    'milestone': None,\n",
              "    'node_id': 'PR_kwDOGCpluM41jGaT',\n",
              "    'number': 262,\n",
              "    'patch_url': 'https://github.com/jamescurtin/jamesandelizedotcom/pull/262.patch',\n",
              "    'rebaseable': None,\n",
              "    'requested_reviewers': [],\n",
              "    'requested_teams': [],\n",
              "    'review_comment_url': 'https://api.github.com/repos/jamescurtin/jamesandelizedotcom/pulls/comments{/number}',\n",
              "    'review_comments': 0,\n",
              "    'review_comments_url': 'https://api.github.com/repos/jamescurtin/jamesandelizedotcom/pulls/262/comments',\n",
              "    'state': 'open',\n",
              "    'statuses_url': 'https://api.github.com/repos/jamescurtin/jamesandelizedotcom/statuses/eaa857ef7d379867665e240d0b55ab4710825a2e',\n",
              "    'title': 'Bump gatsby-source-filesystem from 4.6.0 to 4.11.1',\n",
              "    'updated_at': '2022-04-03T22:21:30Z',\n",
              "    'url': 'https://api.github.com/repos/jamescurtin/jamesandelizedotcom/pulls/262',\n",
              "    'user': {'avatar_url': 'https://avatars.githubusercontent.com/in/29110?v=4',\n",
              "     'events_url': 'https://api.github.com/users/dependabot%5Bbot%5D/events{/privacy}',\n",
              "     'followers_url': 'https://api.github.com/users/dependabot%5Bbot%5D/followers',\n",
              "     'following_url': 'https://api.github.com/users/dependabot%5Bbot%5D/following{/other_user}',\n",
              "     'gists_url': 'https://api.github.com/users/dependabot%5Bbot%5D/gists{/gist_id}',\n",
              "     'gravatar_id': '',\n",
              "     'html_url': 'https://github.com/apps/dependabot',\n",
              "     'id': 49699333,\n",
              "     'login': 'dependabot[bot]',\n",
              "     'node_id': 'MDM6Qm90NDk2OTkzMzM=',\n",
              "     'organizations_url': 'https://api.github.com/users/dependabot%5Bbot%5D/orgs',\n",
              "     'received_events_url': 'https://api.github.com/users/dependabot%5Bbot%5D/received_events',\n",
              "     'repos_url': 'https://api.github.com/users/dependabot%5Bbot%5D/repos',\n",
              "     'site_admin': False,\n",
              "     'starred_url': 'https://api.github.com/users/dependabot%5Bbot%5D/starred{/owner}{/repo}',\n",
              "     'subscriptions_url': 'https://api.github.com/users/dependabot%5Bbot%5D/subscriptions',\n",
              "     'type': 'Bot',\n",
              "     'url': 'https://api.github.com/users/dependabot%5Bbot%5D'}}},\n",
              "  'public': True,\n",
              "  'repo': {'id': 405431736,\n",
              "   'name': 'jamescurtin/jamesandelizedotcom',\n",
              "   'url': 'https://api.github.com/repos/jamescurtin/jamesandelizedotcom'},\n",
              "  'type': 'PullRequestEvent'},\n",
              " {'actor': {'avatar_url': 'https://avatars.githubusercontent.com/u/44785097?',\n",
              "   'display_login': 'ShadowMario',\n",
              "   'gravatar_id': '',\n",
              "   'id': 44785097,\n",
              "   'login': 'ShadowMario',\n",
              "   'url': 'https://api.github.com/users/ShadowMario'},\n",
              "  'created_at': '2022-04-03T22:21:31Z',\n",
              "  'id': '21088048377',\n",
              "  'payload': {'action': 'created',\n",
              "   'comment': {'author_association': 'OWNER',\n",
              "    'body': '> yeah but somebody messaged shadow and he said that it will comeback\\r\\n\\r\\n![image](https://user-images.githubusercontent.com/44785097/161451228-a21f81fd-a98f-4226-8348-d5d56b60391f.png)\\r\\n',\n",
              "    'created_at': '2022-04-03T22:21:30Z',\n",
              "    'html_url': 'https://github.com/ShadowMario/FNF-PsychEngine/issues/7913#issuecomment-1086961399',\n",
              "    'id': 1086961399,\n",
              "    'issue_url': 'https://api.github.com/repos/ShadowMario/FNF-PsychEngine/issues/7913',\n",
              "    'node_id': 'IC_kwDOFuJ1-M5Aybb3',\n",
              "    'performed_via_github_app': None,\n",
              "    'reactions': {'+1': 0,\n",
              "     '-1': 0,\n",
              "     'confused': 0,\n",
              "     'eyes': 0,\n",
              "     'heart': 0,\n",
              "     'hooray': 0,\n",
              "     'laugh': 0,\n",
              "     'rocket': 0,\n",
              "     'total_count': 0,\n",
              "     'url': 'https://api.github.com/repos/ShadowMario/FNF-PsychEngine/issues/comments/1086961399/reactions'},\n",
              "    'updated_at': '2022-04-03T22:21:30Z',\n",
              "    'url': 'https://api.github.com/repos/ShadowMario/FNF-PsychEngine/issues/comments/1086961399',\n",
              "    'user': {'avatar_url': 'https://avatars.githubusercontent.com/u/44785097?v=4',\n",
              "     'events_url': 'https://api.github.com/users/ShadowMario/events{/privacy}',\n",
              "     'followers_url': 'https://api.github.com/users/ShadowMario/followers',\n",
              "     'following_url': 'https://api.github.com/users/ShadowMario/following{/other_user}',\n",
              "     'gists_url': 'https://api.github.com/users/ShadowMario/gists{/gist_id}',\n",
              "     'gravatar_id': '',\n",
              "     'html_url': 'https://github.com/ShadowMario',\n",
              "     'id': 44785097,\n",
              "     'login': 'ShadowMario',\n",
              "     'node_id': 'MDQ6VXNlcjQ0Nzg1MDk3',\n",
              "     'organizations_url': 'https://api.github.com/users/ShadowMario/orgs',\n",
              "     'received_events_url': 'https://api.github.com/users/ShadowMario/received_events',\n",
              "     'repos_url': 'https://api.github.com/users/ShadowMario/repos',\n",
              "     'site_admin': False,\n",
              "     'starred_url': 'https://api.github.com/users/ShadowMario/starred{/owner}{/repo}',\n",
              "     'subscriptions_url': 'https://api.github.com/users/ShadowMario/subscriptions',\n",
              "     'type': 'User',\n",
              "     'url': 'https://api.github.com/users/ShadowMario'}},\n",
              "   'issue': {'active_lock_reason': None,\n",
              "    'assignee': None,\n",
              "    'assignees': [],\n",
              "    'author_association': 'NONE',\n",
              "    'body': '### What is your question?\\n\\nThis is not a request to bring discussions back, this is simply a question asking whether discussions will ever come back in the future, as I found it incredibly useful up until the spam begun.',\n",
              "    'closed_at': '2022-04-03T22:21:30Z',\n",
              "    'comments': 9,\n",
              "    'comments_url': 'https://api.github.com/repos/ShadowMario/FNF-PsychEngine/issues/7913/comments',\n",
              "    'created_at': '2022-04-02T13:21:11Z',\n",
              "    'events_url': 'https://api.github.com/repos/ShadowMario/FNF-PsychEngine/issues/7913/events',\n",
              "    'html_url': 'https://github.com/ShadowMario/FNF-PsychEngine/issues/7913',\n",
              "    'id': 1190631695,\n",
              "    'labels': [{'color': 'd876e3',\n",
              "      'default': True,\n",
              "      'description': 'Further information is requested',\n",
              "      'id': 3149894278,\n",
              "      'name': 'question',\n",
              "      'node_id': 'MDU6TGFiZWwzMTQ5ODk0Mjc4',\n",
              "      'url': 'https://api.github.com/repos/ShadowMario/FNF-PsychEngine/labels/question'}],\n",
              "    'labels_url': 'https://api.github.com/repos/ShadowMario/FNF-PsychEngine/issues/7913/labels{/name}',\n",
              "    'locked': False,\n",
              "    'milestone': None,\n",
              "    'node_id': 'I_kwDOFuJ1-M5G95kP',\n",
              "    'number': 7913,\n",
              "    'performed_via_github_app': None,\n",
              "    'reactions': {'+1': 0,\n",
              "     '-1': 0,\n",
              "     'confused': 0,\n",
              "     'eyes': 0,\n",
              "     'heart': 0,\n",
              "     'hooray': 0,\n",
              "     'laugh': 0,\n",
              "     'rocket': 0,\n",
              "     'total_count': 0,\n",
              "     'url': 'https://api.github.com/repos/ShadowMario/FNF-PsychEngine/issues/7913/reactions'},\n",
              "    'repository_url': 'https://api.github.com/repos/ShadowMario/FNF-PsychEngine',\n",
              "    'state': 'closed',\n",
              "    'timeline_url': 'https://api.github.com/repos/ShadowMario/FNF-PsychEngine/issues/7913/timeline',\n",
              "    'title': 'Is there a *chance* of discussions coming back?',\n",
              "    'updated_at': '2022-04-03T22:21:31Z',\n",
              "    'url': 'https://api.github.com/repos/ShadowMario/FNF-PsychEngine/issues/7913',\n",
              "    'user': {'avatar_url': 'https://avatars.githubusercontent.com/u/93293747?v=4',\n",
              "     'events_url': 'https://api.github.com/users/ItsCapp/events{/privacy}',\n",
              "     'followers_url': 'https://api.github.com/users/ItsCapp/followers',\n",
              "     'following_url': 'https://api.github.com/users/ItsCapp/following{/other_user}',\n",
              "     'gists_url': 'https://api.github.com/users/ItsCapp/gists{/gist_id}',\n",
              "     'gravatar_id': '',\n",
              "     'html_url': 'https://github.com/ItsCapp',\n",
              "     'id': 93293747,\n",
              "     'login': 'ItsCapp',\n",
              "     'node_id': 'U_kgDOBY-Msw',\n",
              "     'organizations_url': 'https://api.github.com/users/ItsCapp/orgs',\n",
              "     'received_events_url': 'https://api.github.com/users/ItsCapp/received_events',\n",
              "     'repos_url': 'https://api.github.com/users/ItsCapp/repos',\n",
              "     'site_admin': False,\n",
              "     'starred_url': 'https://api.github.com/users/ItsCapp/starred{/owner}{/repo}',\n",
              "     'subscriptions_url': 'https://api.github.com/users/ItsCapp/subscriptions',\n",
              "     'type': 'User',\n",
              "     'url': 'https://api.github.com/users/ItsCapp'}}},\n",
              "  'public': True,\n",
              "  'repo': {'id': 383940088,\n",
              "   'name': 'ShadowMario/FNF-PsychEngine',\n",
              "   'url': 'https://api.github.com/repos/ShadowMario/FNF-PsychEngine'},\n",
              "  'type': 'IssueCommentEvent'},\n",
              " {'actor': {'avatar_url': 'https://avatars.githubusercontent.com/u/100386752?',\n",
              "   'display_login': 'RichCyph',\n",
              "   'gravatar_id': '',\n",
              "   'id': 100386752,\n",
              "   'login': 'RichCyph',\n",
              "   'url': 'https://api.github.com/users/RichCyph'},\n",
              "  'created_at': '2022-04-03T22:21:31Z',\n",
              "  'id': '21088048368',\n",
              "  'payload': {'before': '7b00728716f986acd894f7771f5db57242f7663c',\n",
              "   'commits': [{'author': {'email': '100386752+RichCyph@users.noreply.github.com',\n",
              "      'name': 'RichCyph'},\n",
              "     'distinct': True,\n",
              "     'message': 'commiting update',\n",
              "     'sha': 'a4657ac501364dc97e003afeb12cf5c5a6292493',\n",
              "     'url': 'https://api.github.com/repos/RichCyph/test/commits/a4657ac501364dc97e003afeb12cf5c5a6292493'}],\n",
              "   'distinct_size': 1,\n",
              "   'head': 'a4657ac501364dc97e003afeb12cf5c5a6292493',\n",
              "   'push_id': 9526020623,\n",
              "   'ref': 'refs/heads/main',\n",
              "   'size': 1},\n",
              "  'public': True,\n",
              "  'repo': {'id': 471988478,\n",
              "   'name': 'RichCyph/test',\n",
              "   'url': 'https://api.github.com/repos/RichCyph/test'},\n",
              "  'type': 'PushEvent'},\n",
              " {'actor': {'avatar_url': 'https://avatars.githubusercontent.com/u/25180681?',\n",
              "   'display_login': 'renovate-bot',\n",
              "   'gravatar_id': '',\n",
              "   'id': 25180681,\n",
              "   'login': 'renovate-bot',\n",
              "   'url': 'https://api.github.com/users/renovate-bot'},\n",
              "  'created_at': '2022-04-03T22:21:31Z',\n",
              "  'id': '21088048369',\n",
              "  'payload': {'before': '18f1d4072b53667d73aaf3a33ae1a7564252ba7c',\n",
              "   'commits': [],\n",
              "   'distinct_size': 0,\n",
              "   'head': '18f1d4072b53667d73aaf3a33ae1a7564252ba7c',\n",
              "   'push_id': 9526020625,\n",
              "   'ref': 'refs/heads/main',\n",
              "   'size': 0},\n",
              "  'public': True,\n",
              "  'repo': {'id': 198908219,\n",
              "   'name': 'renovate-bot/nodejs-dialogflow',\n",
              "   'url': 'https://api.github.com/repos/renovate-bot/nodejs-dialogflow'},\n",
              "  'type': 'PushEvent'},\n",
              " {'actor': {'avatar_url': 'https://avatars.githubusercontent.com/u/50020240?',\n",
              "   'display_login': 'LarryPrato',\n",
              "   'gravatar_id': '',\n",
              "   'id': 50020240,\n",
              "   'login': 'LarryPrato',\n",
              "   'url': 'https://api.github.com/users/LarryPrato'},\n",
              "  'created_at': '2022-04-03T22:21:31Z',\n",
              "  'id': '21088048373',\n",
              "  'payload': {'before': '569f661be6eefbedcf4d8ab18fb6de86850d93c0',\n",
              "   'commits': [{'author': {'email': '50020240+LarryPrato@users.noreply.github.com',\n",
              "      'name': 'larryprato'},\n",
              "     'distinct': True,\n",
              "     'message': 'Add files via upload',\n",
              "     'sha': '16815dda5a93ff7138d57e761f535ac91c3e38bb',\n",
              "     'url': 'https://api.github.com/repos/LarryPrato/EAD_PI/commits/16815dda5a93ff7138d57e761f535ac91c3e38bb'}],\n",
              "   'distinct_size': 1,\n",
              "   'head': '16815dda5a93ff7138d57e761f535ac91c3e38bb',\n",
              "   'push_id': 9526020624,\n",
              "   'ref': 'refs/heads/main',\n",
              "   'size': 1},\n",
              "  'public': True,\n",
              "  'repo': {'id': 421938118,\n",
              "   'name': 'LarryPrato/EAD_PI',\n",
              "   'url': 'https://api.github.com/repos/LarryPrato/EAD_PI'},\n",
              "  'type': 'PushEvent'},\n",
              " {'actor': {'avatar_url': 'https://avatars.githubusercontent.com/u/72047001?',\n",
              "   'display_login': 'DanteOz',\n",
              "   'gravatar_id': '',\n",
              "   'id': 72047001,\n",
              "   'login': 'DanteOz',\n",
              "   'url': 'https://api.github.com/users/DanteOz'},\n",
              "  'created_at': '2022-04-03T22:21:31Z',\n",
              "  'id': '21088048372',\n",
              "  'org': {'avatar_url': 'https://avatars.githubusercontent.com/u/743164?',\n",
              "   'gravatar_id': '',\n",
              "   'id': 743164,\n",
              "   'login': 'JuliaLang',\n",
              "   'url': 'https://api.github.com/orgs/JuliaLang'},\n",
              "  'payload': {'action': 'created',\n",
              "   'comment': {'author_association': 'NONE',\n",
              "    'body': 'I would also be interested in this use case.',\n",
              "    'created_at': '2022-04-03T22:21:30Z',\n",
              "    'html_url': 'https://github.com/JuliaLang/juliaup/issues/253#issuecomment-1086961400',\n",
              "    'id': 1086961400,\n",
              "    'issue_url': 'https://api.github.com/repos/JuliaLang/juliaup/issues/253',\n",
              "    'node_id': 'IC_kwDOEE6KR85Aybb4',\n",
              "    'performed_via_github_app': None,\n",
              "    'reactions': {'+1': 0,\n",
              "     '-1': 0,\n",
              "     'confused': 0,\n",
              "     'eyes': 0,\n",
              "     'heart': 0,\n",
              "     'hooray': 0,\n",
              "     'laugh': 0,\n",
              "     'rocket': 0,\n",
              "     'total_count': 0,\n",
              "     'url': 'https://api.github.com/repos/JuliaLang/juliaup/issues/comments/1086961400/reactions'},\n",
              "    'updated_at': '2022-04-03T22:21:30Z',\n",
              "    'url': 'https://api.github.com/repos/JuliaLang/juliaup/issues/comments/1086961400',\n",
              "    'user': {'avatar_url': 'https://avatars.githubusercontent.com/u/72047001?v=4',\n",
              "     'events_url': 'https://api.github.com/users/DanteOz/events{/privacy}',\n",
              "     'followers_url': 'https://api.github.com/users/DanteOz/followers',\n",
              "     'following_url': 'https://api.github.com/users/DanteOz/following{/other_user}',\n",
              "     'gists_url': 'https://api.github.com/users/DanteOz/gists{/gist_id}',\n",
              "     'gravatar_id': '',\n",
              "     'html_url': 'https://github.com/DanteOz',\n",
              "     'id': 72047001,\n",
              "     'login': 'DanteOz',\n",
              "     'node_id': 'MDQ6VXNlcjcyMDQ3MDAx',\n",
              "     'organizations_url': 'https://api.github.com/users/DanteOz/orgs',\n",
              "     'received_events_url': 'https://api.github.com/users/DanteOz/received_events',\n",
              "     'repos_url': 'https://api.github.com/users/DanteOz/repos',\n",
              "     'site_admin': False,\n",
              "     'starred_url': 'https://api.github.com/users/DanteOz/starred{/owner}{/repo}',\n",
              "     'subscriptions_url': 'https://api.github.com/users/DanteOz/subscriptions',\n",
              "     'type': 'User',\n",
              "     'url': 'https://api.github.com/users/DanteOz'}},\n",
              "   'issue': {'active_lock_reason': None,\n",
              "    'assignee': None,\n",
              "    'assignees': [],\n",
              "    'author_association': 'NONE',\n",
              "    'body': 'Doing non-interactive installation is sometimes needed for installing to containers and for test environments. Perhaps via environment variables. \\r\\n\\r\\nHope this is not a dup. I looked for a while.\\r\\n\\r\\nI am not sure when `with_prompt` is called. `juliaup` is already installed on my machine. When I try to add a new version with `juliaup add x.y.z` I get no prompting. But, at least the first time I installed julia, I was prompted.',\n",
              "    'closed_at': None,\n",
              "    'comments': 4,\n",
              "    'comments_url': 'https://api.github.com/repos/JuliaLang/juliaup/issues/253/comments',\n",
              "    'created_at': '2022-02-22T19:19:44Z',\n",
              "    'events_url': 'https://api.github.com/repos/JuliaLang/juliaup/issues/253/events',\n",
              "    'html_url': 'https://github.com/JuliaLang/juliaup/issues/253',\n",
              "    'id': 1147280472,\n",
              "    'labels': [{'color': 'a2eeef',\n",
              "      'default': True,\n",
              "      'description': 'New feature or request',\n",
              "      'id': 2148665200,\n",
              "      'name': 'enhancement',\n",
              "      'node_id': 'MDU6TGFiZWwyMTQ4NjY1MjAw',\n",
              "      'url': 'https://api.github.com/repos/JuliaLang/juliaup/labels/enhancement'}],\n",
              "    'labels_url': 'https://api.github.com/repos/JuliaLang/juliaup/issues/253/labels{/name}',\n",
              "    'locked': False,\n",
              "    'milestone': {'closed_at': None,\n",
              "     'closed_issues': 30,\n",
              "     'created_at': '2021-06-08T03:59:03Z',\n",
              "     'creator': {'avatar_url': 'https://avatars.githubusercontent.com/u/1036561?v=4',\n",
              "      'events_url': 'https://api.github.com/users/davidanthoff/events{/privacy}',\n",
              "      'followers_url': 'https://api.github.com/users/davidanthoff/followers',\n",
              "      'following_url': 'https://api.github.com/users/davidanthoff/following{/other_user}',\n",
              "      'gists_url': 'https://api.github.com/users/davidanthoff/gists{/gist_id}',\n",
              "      'gravatar_id': '',\n",
              "      'html_url': 'https://github.com/davidanthoff',\n",
              "      'id': 1036561,\n",
              "      'login': 'davidanthoff',\n",
              "      'node_id': 'MDQ6VXNlcjEwMzY1NjE=',\n",
              "      'organizations_url': 'https://api.github.com/users/davidanthoff/orgs',\n",
              "      'received_events_url': 'https://api.github.com/users/davidanthoff/received_events',\n",
              "      'repos_url': 'https://api.github.com/users/davidanthoff/repos',\n",
              "      'site_admin': False,\n",
              "      'starred_url': 'https://api.github.com/users/davidanthoff/starred{/owner}{/repo}',\n",
              "      'subscriptions_url': 'https://api.github.com/users/davidanthoff/subscriptions',\n",
              "      'type': 'User',\n",
              "      'url': 'https://api.github.com/users/davidanthoff'},\n",
              "     'description': '',\n",
              "     'due_on': None,\n",
              "     'html_url': 'https://github.com/JuliaLang/juliaup/milestone/2',\n",
              "     'id': 6833585,\n",
              "     'labels_url': 'https://api.github.com/repos/JuliaLang/juliaup/milestones/2/labels',\n",
              "     'node_id': 'MDk6TWlsZXN0b25lNjgzMzU4NQ==',\n",
              "     'number': 2,\n",
              "     'open_issues': 47,\n",
              "     'state': 'open',\n",
              "     'title': 'Backlog',\n",
              "     'updated_at': '2022-03-27T05:10:09Z',\n",
              "     'url': 'https://api.github.com/repos/JuliaLang/juliaup/milestones/2'},\n",
              "    'node_id': 'I_kwDOEE6KR85EYhxY',\n",
              "    'number': 253,\n",
              "    'performed_via_github_app': None,\n",
              "    'reactions': {'+1': 2,\n",
              "     '-1': 0,\n",
              "     'confused': 0,\n",
              "     'eyes': 0,\n",
              "     'heart': 0,\n",
              "     'hooray': 0,\n",
              "     'laugh': 0,\n",
              "     'rocket': 0,\n",
              "     'total_count': 2,\n",
              "     'url': 'https://api.github.com/repos/JuliaLang/juliaup/issues/253/reactions'},\n",
              "    'repository_url': 'https://api.github.com/repos/JuliaLang/juliaup',\n",
              "    'state': 'open',\n",
              "    'timeline_url': 'https://api.github.com/repos/JuliaLang/juliaup/issues/253/timeline',\n",
              "    'title': 'Allow disable prompting or answer \"yes\" to all questions',\n",
              "    'updated_at': '2022-04-03T22:21:31Z',\n",
              "    'url': 'https://api.github.com/repos/JuliaLang/juliaup/issues/253',\n",
              "    'user': {'avatar_url': 'https://avatars.githubusercontent.com/u/1969884?v=4',\n",
              "     'events_url': 'https://api.github.com/users/jlapeyre/events{/privacy}',\n",
              "     'followers_url': 'https://api.github.com/users/jlapeyre/followers',\n",
              "     'following_url': 'https://api.github.com/users/jlapeyre/following{/other_user}',\n",
              "     'gists_url': 'https://api.github.com/users/jlapeyre/gists{/gist_id}',\n",
              "     'gravatar_id': '',\n",
              "     'html_url': 'https://github.com/jlapeyre',\n",
              "     'id': 1969884,\n",
              "     'login': 'jlapeyre',\n",
              "     'node_id': 'MDQ6VXNlcjE5Njk4ODQ=',\n",
              "     'organizations_url': 'https://api.github.com/users/jlapeyre/orgs',\n",
              "     'received_events_url': 'https://api.github.com/users/jlapeyre/received_events',\n",
              "     'repos_url': 'https://api.github.com/users/jlapeyre/repos',\n",
              "     'site_admin': False,\n",
              "     'starred_url': 'https://api.github.com/users/jlapeyre/starred{/owner}{/repo}',\n",
              "     'subscriptions_url': 'https://api.github.com/users/jlapeyre/subscriptions',\n",
              "     'type': 'User',\n",
              "     'url': 'https://api.github.com/users/jlapeyre'}}},\n",
              "  'public': True,\n",
              "  'repo': {'id': 273582663,\n",
              "   'name': 'JuliaLang/juliaup',\n",
              "   'url': 'https://api.github.com/repos/JuliaLang/juliaup'},\n",
              "  'type': 'IssueCommentEvent'},\n",
              " {'actor': {'avatar_url': 'https://avatars.githubusercontent.com/u/49699333?',\n",
              "   'display_login': 'dependabot',\n",
              "   'gravatar_id': '',\n",
              "   'id': 49699333,\n",
              "   'login': 'dependabot[bot]',\n",
              "   'url': 'https://api.github.com/users/dependabot[bot]'},\n",
              "  'created_at': '2022-04-03T22:21:31Z',\n",
              "  'id': '21088048374',\n",
              "  'payload': {'action': 'opened',\n",
              "   'number': 70,\n",
              "   'pull_request': {'_links': {'comments': {'href': 'https://api.github.com/repos/BudgetMC/unitedfruitcompany/issues/70/comments'},\n",
              "     'commits': {'href': 'https://api.github.com/repos/BudgetMC/unitedfruitcompany/pulls/70/commits'},\n",
              "     'html': {'href': 'https://github.com/BudgetMC/unitedfruitcompany/pull/70'},\n",
              "     'issue': {'href': 'https://api.github.com/repos/BudgetMC/unitedfruitcompany/issues/70'},\n",
              "     'review_comment': {'href': 'https://api.github.com/repos/BudgetMC/unitedfruitcompany/pulls/comments{/number}'},\n",
              "     'review_comments': {'href': 'https://api.github.com/repos/BudgetMC/unitedfruitcompany/pulls/70/comments'},\n",
              "     'self': {'href': 'https://api.github.com/repos/BudgetMC/unitedfruitcompany/pulls/70'},\n",
              "     'statuses': {'href': 'https://api.github.com/repos/BudgetMC/unitedfruitcompany/statuses/14027f823247ba3fb46774b2a77152de20f95b36'}},\n",
              "    'active_lock_reason': None,\n",
              "    'additions': 32,\n",
              "    'assignee': None,\n",
              "    'assignees': [],\n",
              "    'author_association': 'CONTRIBUTOR',\n",
              "    'auto_merge': None,\n",
              "    'base': {'label': 'BudgetMC:main',\n",
              "     'ref': 'main',\n",
              "     'repo': {'allow_forking': True,\n",
              "      'archive_url': 'https://api.github.com/repos/BudgetMC/unitedfruitcompany/{archive_format}{/ref}',\n",
              "      'archived': False,\n",
              "      'assignees_url': 'https://api.github.com/repos/BudgetMC/unitedfruitcompany/assignees{/user}',\n",
              "      'blobs_url': 'https://api.github.com/repos/BudgetMC/unitedfruitcompany/git/blobs{/sha}',\n",
              "      'branches_url': 'https://api.github.com/repos/BudgetMC/unitedfruitcompany/branches{/branch}',\n",
              "      'clone_url': 'https://github.com/BudgetMC/unitedfruitcompany.git',\n",
              "      'collaborators_url': 'https://api.github.com/repos/BudgetMC/unitedfruitcompany/collaborators{/collaborator}',\n",
              "      'comments_url': 'https://api.github.com/repos/BudgetMC/unitedfruitcompany/comments{/number}',\n",
              "      'commits_url': 'https://api.github.com/repos/BudgetMC/unitedfruitcompany/commits{/sha}',\n",
              "      'compare_url': 'https://api.github.com/repos/BudgetMC/unitedfruitcompany/compare/{base}...{head}',\n",
              "      'contents_url': 'https://api.github.com/repos/BudgetMC/unitedfruitcompany/contents/{+path}',\n",
              "      'contributors_url': 'https://api.github.com/repos/BudgetMC/unitedfruitcompany/contributors',\n",
              "      'created_at': '2021-11-06T21:18:32Z',\n",
              "      'default_branch': 'main',\n",
              "      'deployments_url': 'https://api.github.com/repos/BudgetMC/unitedfruitcompany/deployments',\n",
              "      'description': 'a website about the United Fruit Company',\n",
              "      'disabled': False,\n",
              "      'downloads_url': 'https://api.github.com/repos/BudgetMC/unitedfruitcompany/downloads',\n",
              "      'events_url': 'https://api.github.com/repos/BudgetMC/unitedfruitcompany/events',\n",
              "      'fork': False,\n",
              "      'forks': 0,\n",
              "      'forks_count': 0,\n",
              "      'forks_url': 'https://api.github.com/repos/BudgetMC/unitedfruitcompany/forks',\n",
              "      'full_name': 'BudgetMC/unitedfruitcompany',\n",
              "      'git_commits_url': 'https://api.github.com/repos/BudgetMC/unitedfruitcompany/git/commits{/sha}',\n",
              "      'git_refs_url': 'https://api.github.com/repos/BudgetMC/unitedfruitcompany/git/refs{/sha}',\n",
              "      'git_tags_url': 'https://api.github.com/repos/BudgetMC/unitedfruitcompany/git/tags{/sha}',\n",
              "      'git_url': 'git://github.com/BudgetMC/unitedfruitcompany.git',\n",
              "      'has_downloads': True,\n",
              "      'has_issues': True,\n",
              "      'has_pages': False,\n",
              "      'has_projects': True,\n",
              "      'has_wiki': True,\n",
              "      'homepage': 'unitedfruitcompany.vercel.app',\n",
              "      'hooks_url': 'https://api.github.com/repos/BudgetMC/unitedfruitcompany/hooks',\n",
              "      'html_url': 'https://github.com/BudgetMC/unitedfruitcompany',\n",
              "      'id': 425350609,\n",
              "      'is_template': False,\n",
              "      'issue_comment_url': 'https://api.github.com/repos/BudgetMC/unitedfruitcompany/issues/comments{/number}',\n",
              "      'issue_events_url': 'https://api.github.com/repos/BudgetMC/unitedfruitcompany/issues/events{/number}',\n",
              "      'issues_url': 'https://api.github.com/repos/BudgetMC/unitedfruitcompany/issues{/number}',\n",
              "      'keys_url': 'https://api.github.com/repos/BudgetMC/unitedfruitcompany/keys{/key_id}',\n",
              "      'labels_url': 'https://api.github.com/repos/BudgetMC/unitedfruitcompany/labels{/name}',\n",
              "      'language': 'TypeScript',\n",
              "      'languages_url': 'https://api.github.com/repos/BudgetMC/unitedfruitcompany/languages',\n",
              "      'license': None,\n",
              "      'merges_url': 'https://api.github.com/repos/BudgetMC/unitedfruitcompany/merges',\n",
              "      'milestones_url': 'https://api.github.com/repos/BudgetMC/unitedfruitcompany/milestones{/number}',\n",
              "      'mirror_url': None,\n",
              "      'name': 'unitedfruitcompany',\n",
              "      'node_id': 'R_kgDOGVpV0Q',\n",
              "      'notifications_url': 'https://api.github.com/repos/BudgetMC/unitedfruitcompany/notifications{?since,all,participating}',\n",
              "      'open_issues': 6,\n",
              "      'open_issues_count': 6,\n",
              "      'owner': {'avatar_url': 'https://avatars.githubusercontent.com/u/94200178?v=4',\n",
              "       'events_url': 'https://api.github.com/users/BudgetMC/events{/privacy}',\n",
              "       'followers_url': 'https://api.github.com/users/BudgetMC/followers',\n",
              "       'following_url': 'https://api.github.com/users/BudgetMC/following{/other_user}',\n",
              "       'gists_url': 'https://api.github.com/users/BudgetMC/gists{/gist_id}',\n",
              "       'gravatar_id': '',\n",
              "       'html_url': 'https://github.com/BudgetMC',\n",
              "       'id': 94200178,\n",
              "       'login': 'BudgetMC',\n",
              "       'node_id': 'U_kgDOBZ1hcg',\n",
              "       'organizations_url': 'https://api.github.com/users/BudgetMC/orgs',\n",
              "       'received_events_url': 'https://api.github.com/users/BudgetMC/received_events',\n",
              "       'repos_url': 'https://api.github.com/users/BudgetMC/repos',\n",
              "       'site_admin': False,\n",
              "       'starred_url': 'https://api.github.com/users/BudgetMC/starred{/owner}{/repo}',\n",
              "       'subscriptions_url': 'https://api.github.com/users/BudgetMC/subscriptions',\n",
              "       'type': 'User',\n",
              "       'url': 'https://api.github.com/users/BudgetMC'},\n",
              "      'private': False,\n",
              "      'pulls_url': 'https://api.github.com/repos/BudgetMC/unitedfruitcompany/pulls{/number}',\n",
              "      'pushed_at': '2022-04-03T22:21:30Z',\n",
              "      'releases_url': 'https://api.github.com/repos/BudgetMC/unitedfruitcompany/releases{/id}',\n",
              "      'size': 15284,\n",
              "      'ssh_url': 'git@github.com:BudgetMC/unitedfruitcompany.git',\n",
              "      'stargazers_count': 0,\n",
              "      'stargazers_url': 'https://api.github.com/repos/BudgetMC/unitedfruitcompany/stargazers',\n",
              "      'statuses_url': 'https://api.github.com/repos/BudgetMC/unitedfruitcompany/statuses/{sha}',\n",
              "      'subscribers_url': 'https://api.github.com/repos/BudgetMC/unitedfruitcompany/subscribers',\n",
              "      'subscription_url': 'https://api.github.com/repos/BudgetMC/unitedfruitcompany/subscription',\n",
              "      'svn_url': 'https://github.com/BudgetMC/unitedfruitcompany',\n",
              "      'tags_url': 'https://api.github.com/repos/BudgetMC/unitedfruitcompany/tags',\n",
              "      'teams_url': 'https://api.github.com/repos/BudgetMC/unitedfruitcompany/teams',\n",
              "      'topics': [],\n",
              "      'trees_url': 'https://api.github.com/repos/BudgetMC/unitedfruitcompany/git/trees{/sha}',\n",
              "      'updated_at': '2022-01-03T03:42:57Z',\n",
              "      'url': 'https://api.github.com/repos/BudgetMC/unitedfruitcompany',\n",
              "      'visibility': 'public',\n",
              "      'watchers': 0,\n",
              "      'watchers_count': 0},\n",
              "     'sha': '96ef911fc109a69eb35b1eaecb69370e06454946',\n",
              "     'user': {'avatar_url': 'https://avatars.githubusercontent.com/u/94200178?v=4',\n",
              "      'events_url': 'https://api.github.com/users/BudgetMC/events{/privacy}',\n",
              "      'followers_url': 'https://api.github.com/users/BudgetMC/followers',\n",
              "      'following_url': 'https://api.github.com/users/BudgetMC/following{/other_user}',\n",
              "      'gists_url': 'https://api.github.com/users/BudgetMC/gists{/gist_id}',\n",
              "      'gravatar_id': '',\n",
              "      'html_url': 'https://github.com/BudgetMC',\n",
              "      'id': 94200178,\n",
              "      'login': 'BudgetMC',\n",
              "      'node_id': 'U_kgDOBZ1hcg',\n",
              "      'organizations_url': 'https://api.github.com/users/BudgetMC/orgs',\n",
              "      'received_events_url': 'https://api.github.com/users/BudgetMC/received_events',\n",
              "      'repos_url': 'https://api.github.com/users/BudgetMC/repos',\n",
              "      'site_admin': False,\n",
              "      'starred_url': 'https://api.github.com/users/BudgetMC/starred{/owner}{/repo}',\n",
              "      'subscriptions_url': 'https://api.github.com/users/BudgetMC/subscriptions',\n",
              "      'type': 'User',\n",
              "      'url': 'https://api.github.com/users/BudgetMC'}},\n",
              "    'body': 'Bumps [@types/react](https://github.com/DefinitelyTyped/DefinitelyTyped/tree/HEAD/types/react) from 17.0.39 to 17.0.43.\\n<details>\\n<summary>Commits</summary>\\n<ul>\\n<li>See full diff in <a href=\"https://github.com/DefinitelyTyped/DefinitelyTyped/commits/HEAD/types/react\">compare view</a></li>\\n</ul>\\n</details>\\n<br />\\n\\n\\n[![Dependabot compatibility score](https://dependabot-badges.githubapp.com/badges/compatibility_score?dependency-name=@types/react&package-manager=npm_and_yarn&previous-version=17.0.39&new-version=17.0.43)](https://docs.github.com/en/github/managing-security-vulnerabilities/about-dependabot-security-updates#about-compatibility-scores)\\n\\nDependabot will resolve any conflicts with this PR as long as you don\\'t alter it yourself. You can also trigger a rebase manually by commenting `@dependabot rebase`.\\n\\n[//]: # (dependabot-automerge-start)\\n[//]: # (dependabot-automerge-end)\\n\\n---\\n\\n<details>\\n<summary>Dependabot commands and options</summary>\\n<br />\\n\\nYou can trigger Dependabot actions by commenting on this PR:\\n- `@dependabot rebase` will rebase this PR\\n- `@dependabot recreate` will recreate this PR, overwriting any edits that have been made to it\\n- `@dependabot merge` will merge this PR after your CI passes on it\\n- `@dependabot squash and merge` will squash and merge this PR after your CI passes on it\\n- `@dependabot cancel merge` will cancel a previously requested merge and block automerging\\n- `@dependabot reopen` will reopen this PR if it is closed\\n- `@dependabot close` will close this PR and stop Dependabot recreating it. You can achieve the same result by closing it manually\\n- `@dependabot ignore this major version` will close this PR and stop Dependabot creating any more for this major version (unless you reopen the PR or upgrade to it yourself)\\n- `@dependabot ignore this minor version` will close this PR and stop Dependabot creating any more for this minor version (unless you reopen the PR or upgrade to it yourself)\\n- `@dependabot ignore this dependency` will close this PR and stop Dependabot creating any more for this dependency (unless you reopen the PR or upgrade to it yourself)\\n\\n\\n</details>',\n",
              "    'changed_files': 2,\n",
              "    'closed_at': None,\n",
              "    'comments': 0,\n",
              "    'comments_url': 'https://api.github.com/repos/BudgetMC/unitedfruitcompany/issues/70/comments',\n",
              "    'commits': 1,\n",
              "    'commits_url': 'https://api.github.com/repos/BudgetMC/unitedfruitcompany/pulls/70/commits',\n",
              "    'created_at': '2022-04-03T22:21:30Z',\n",
              "    'deletions': 49,\n",
              "    'diff_url': 'https://github.com/BudgetMC/unitedfruitcompany/pull/70.diff',\n",
              "    'draft': False,\n",
              "    'head': {'label': 'BudgetMC:dependabot/npm_and_yarn/types/react-17.0.43',\n",
              "     'ref': 'dependabot/npm_and_yarn/types/react-17.0.43',\n",
              "     'repo': {'allow_forking': True,\n",
              "      'archive_url': 'https://api.github.com/repos/BudgetMC/unitedfruitcompany/{archive_format}{/ref}',\n",
              "      'archived': False,\n",
              "      'assignees_url': 'https://api.github.com/repos/BudgetMC/unitedfruitcompany/assignees{/user}',\n",
              "      'blobs_url': 'https://api.github.com/repos/BudgetMC/unitedfruitcompany/git/blobs{/sha}',\n",
              "      'branches_url': 'https://api.github.com/repos/BudgetMC/unitedfruitcompany/branches{/branch}',\n",
              "      'clone_url': 'https://github.com/BudgetMC/unitedfruitcompany.git',\n",
              "      'collaborators_url': 'https://api.github.com/repos/BudgetMC/unitedfruitcompany/collaborators{/collaborator}',\n",
              "      'comments_url': 'https://api.github.com/repos/BudgetMC/unitedfruitcompany/comments{/number}',\n",
              "      'commits_url': 'https://api.github.com/repos/BudgetMC/unitedfruitcompany/commits{/sha}',\n",
              "      'compare_url': 'https://api.github.com/repos/BudgetMC/unitedfruitcompany/compare/{base}...{head}',\n",
              "      'contents_url': 'https://api.github.com/repos/BudgetMC/unitedfruitcompany/contents/{+path}',\n",
              "      'contributors_url': 'https://api.github.com/repos/BudgetMC/unitedfruitcompany/contributors',\n",
              "      'created_at': '2021-11-06T21:18:32Z',\n",
              "      'default_branch': 'main',\n",
              "      'deployments_url': 'https://api.github.com/repos/BudgetMC/unitedfruitcompany/deployments',\n",
              "      'description': 'a website about the United Fruit Company',\n",
              "      'disabled': False,\n",
              "      'downloads_url': 'https://api.github.com/repos/BudgetMC/unitedfruitcompany/downloads',\n",
              "      'events_url': 'https://api.github.com/repos/BudgetMC/unitedfruitcompany/events',\n",
              "      'fork': False,\n",
              "      'forks': 0,\n",
              "      'forks_count': 0,\n",
              "      'forks_url': 'https://api.github.com/repos/BudgetMC/unitedfruitcompany/forks',\n",
              "      'full_name': 'BudgetMC/unitedfruitcompany',\n",
              "      'git_commits_url': 'https://api.github.com/repos/BudgetMC/unitedfruitcompany/git/commits{/sha}',\n",
              "      'git_refs_url': 'https://api.github.com/repos/BudgetMC/unitedfruitcompany/git/refs{/sha}',\n",
              "      'git_tags_url': 'https://api.github.com/repos/BudgetMC/unitedfruitcompany/git/tags{/sha}',\n",
              "      'git_url': 'git://github.com/BudgetMC/unitedfruitcompany.git',\n",
              "      'has_downloads': True,\n",
              "      'has_issues': True,\n",
              "      'has_pages': False,\n",
              "      'has_projects': True,\n",
              "      'has_wiki': True,\n",
              "      'homepage': 'unitedfruitcompany.vercel.app',\n",
              "      'hooks_url': 'https://api.github.com/repos/BudgetMC/unitedfruitcompany/hooks',\n",
              "      'html_url': 'https://github.com/BudgetMC/unitedfruitcompany',\n",
              "      'id': 425350609,\n",
              "      'is_template': False,\n",
              "      'issue_comment_url': 'https://api.github.com/repos/BudgetMC/unitedfruitcompany/issues/comments{/number}',\n",
              "      'issue_events_url': 'https://api.github.com/repos/BudgetMC/unitedfruitcompany/issues/events{/number}',\n",
              "      'issues_url': 'https://api.github.com/repos/BudgetMC/unitedfruitcompany/issues{/number}',\n",
              "      'keys_url': 'https://api.github.com/repos/BudgetMC/unitedfruitcompany/keys{/key_id}',\n",
              "      'labels_url': 'https://api.github.com/repos/BudgetMC/unitedfruitcompany/labels{/name}',\n",
              "      'language': 'TypeScript',\n",
              "      'languages_url': 'https://api.github.com/repos/BudgetMC/unitedfruitcompany/languages',\n",
              "      'license': None,\n",
              "      'merges_url': 'https://api.github.com/repos/BudgetMC/unitedfruitcompany/merges',\n",
              "      'milestones_url': 'https://api.github.com/repos/BudgetMC/unitedfruitcompany/milestones{/number}',\n",
              "      'mirror_url': None,\n",
              "      'name': 'unitedfruitcompany',\n",
              "      'node_id': 'R_kgDOGVpV0Q',\n",
              "      'notifications_url': 'https://api.github.com/repos/BudgetMC/unitedfruitcompany/notifications{?since,all,participating}',\n",
              "      'open_issues': 6,\n",
              "      'open_issues_count': 6,\n",
              "      'owner': {'avatar_url': 'https://avatars.githubusercontent.com/u/94200178?v=4',\n",
              "       'events_url': 'https://api.github.com/users/BudgetMC/events{/privacy}',\n",
              "       'followers_url': 'https://api.github.com/users/BudgetMC/followers',\n",
              "       'following_url': 'https://api.github.com/users/BudgetMC/following{/other_user}',\n",
              "       'gists_url': 'https://api.github.com/users/BudgetMC/gists{/gist_id}',\n",
              "       'gravatar_id': '',\n",
              "       'html_url': 'https://github.com/BudgetMC',\n",
              "       'id': 94200178,\n",
              "       'login': 'BudgetMC',\n",
              "       'node_id': 'U_kgDOBZ1hcg',\n",
              "       'organizations_url': 'https://api.github.com/users/BudgetMC/orgs',\n",
              "       'received_events_url': 'https://api.github.com/users/BudgetMC/received_events',\n",
              "       'repos_url': 'https://api.github.com/users/BudgetMC/repos',\n",
              "       'site_admin': False,\n",
              "       'starred_url': 'https://api.github.com/users/BudgetMC/starred{/owner}{/repo}',\n",
              "       'subscriptions_url': 'https://api.github.com/users/BudgetMC/subscriptions',\n",
              "       'type': 'User',\n",
              "       'url': 'https://api.github.com/users/BudgetMC'},\n",
              "      'private': False,\n",
              "      'pulls_url': 'https://api.github.com/repos/BudgetMC/unitedfruitcompany/pulls{/number}',\n",
              "      'pushed_at': '2022-04-03T22:21:30Z',\n",
              "      'releases_url': 'https://api.github.com/repos/BudgetMC/unitedfruitcompany/releases{/id}',\n",
              "      'size': 15284,\n",
              "      'ssh_url': 'git@github.com:BudgetMC/unitedfruitcompany.git',\n",
              "      'stargazers_count': 0,\n",
              "      'stargazers_url': 'https://api.github.com/repos/BudgetMC/unitedfruitcompany/stargazers',\n",
              "      'statuses_url': 'https://api.github.com/repos/BudgetMC/unitedfruitcompany/statuses/{sha}',\n",
              "      'subscribers_url': 'https://api.github.com/repos/BudgetMC/unitedfruitcompany/subscribers',\n",
              "      'subscription_url': 'https://api.github.com/repos/BudgetMC/unitedfruitcompany/subscription',\n",
              "      'svn_url': 'https://github.com/BudgetMC/unitedfruitcompany',\n",
              "      'tags_url': 'https://api.github.com/repos/BudgetMC/unitedfruitcompany/tags',\n",
              "      'teams_url': 'https://api.github.com/repos/BudgetMC/unitedfruitcompany/teams',\n",
              "      'topics': [],\n",
              "      'trees_url': 'https://api.github.com/repos/BudgetMC/unitedfruitcompany/git/trees{/sha}',\n",
              "      'updated_at': '2022-01-03T03:42:57Z',\n",
              "      'url': 'https://api.github.com/repos/BudgetMC/unitedfruitcompany',\n",
              "      'visibility': 'public',\n",
              "      'watchers': 0,\n",
              "      'watchers_count': 0},\n",
              "     'sha': '14027f823247ba3fb46774b2a77152de20f95b36',\n",
              "     'user': {'avatar_url': 'https://avatars.githubusercontent.com/u/94200178?v=4',\n",
              "      'events_url': 'https://api.github.com/users/BudgetMC/events{/privacy}',\n",
              "      'followers_url': 'https://api.github.com/users/BudgetMC/followers',\n",
              "      'following_url': 'https://api.github.com/users/BudgetMC/following{/other_user}',\n",
              "      'gists_url': 'https://api.github.com/users/BudgetMC/gists{/gist_id}',\n",
              "      'gravatar_id': '',\n",
              "      'html_url': 'https://github.com/BudgetMC',\n",
              "      'id': 94200178,\n",
              "      'login': 'BudgetMC',\n",
              "      'node_id': 'U_kgDOBZ1hcg',\n",
              "      'organizations_url': 'https://api.github.com/users/BudgetMC/orgs',\n",
              "      'received_events_url': 'https://api.github.com/users/BudgetMC/received_events',\n",
              "      'repos_url': 'https://api.github.com/users/BudgetMC/repos',\n",
              "      'site_admin': False,\n",
              "      'starred_url': 'https://api.github.com/users/BudgetMC/starred{/owner}{/repo}',\n",
              "      'subscriptions_url': 'https://api.github.com/users/BudgetMC/subscriptions',\n",
              "      'type': 'User',\n",
              "      'url': 'https://api.github.com/users/BudgetMC'}},\n",
              "    'html_url': 'https://github.com/BudgetMC/unitedfruitcompany/pull/70',\n",
              "    'id': 898393746,\n",
              "    'issue_url': 'https://api.github.com/repos/BudgetMC/unitedfruitcompany/issues/70',\n",
              "    'labels': [],\n",
              "    'locked': False,\n",
              "    'maintainer_can_modify': False,\n",
              "    'merge_commit_sha': None,\n",
              "    'mergeable': None,\n",
              "    'mergeable_state': 'unknown',\n",
              "    'merged': False,\n",
              "    'merged_at': None,\n",
              "    'merged_by': None,\n",
              "    'milestone': None,\n",
              "    'node_id': 'PR_kwDOGVpV0c41jGaS',\n",
              "    'number': 70,\n",
              "    'patch_url': 'https://github.com/BudgetMC/unitedfruitcompany/pull/70.patch',\n",
              "    'rebaseable': None,\n",
              "    'requested_reviewers': [],\n",
              "    'requested_teams': [],\n",
              "    'review_comment_url': 'https://api.github.com/repos/BudgetMC/unitedfruitcompany/pulls/comments{/number}',\n",
              "    'review_comments': 0,\n",
              "    'review_comments_url': 'https://api.github.com/repos/BudgetMC/unitedfruitcompany/pulls/70/comments',\n",
              "    'state': 'open',\n",
              "    'statuses_url': 'https://api.github.com/repos/BudgetMC/unitedfruitcompany/statuses/14027f823247ba3fb46774b2a77152de20f95b36',\n",
              "    'title': 'Bump @types/react from 17.0.39 to 17.0.43',\n",
              "    'updated_at': '2022-04-03T22:21:30Z',\n",
              "    'url': 'https://api.github.com/repos/BudgetMC/unitedfruitcompany/pulls/70',\n",
              "    'user': {'avatar_url': 'https://avatars.githubusercontent.com/in/29110?v=4',\n",
              "     'events_url': 'https://api.github.com/users/dependabot%5Bbot%5D/events{/privacy}',\n",
              "     'followers_url': 'https://api.github.com/users/dependabot%5Bbot%5D/followers',\n",
              "     'following_url': 'https://api.github.com/users/dependabot%5Bbot%5D/following{/other_user}',\n",
              "     'gists_url': 'https://api.github.com/users/dependabot%5Bbot%5D/gists{/gist_id}',\n",
              "     'gravatar_id': '',\n",
              "     'html_url': 'https://github.com/apps/dependabot',\n",
              "     'id': 49699333,\n",
              "     'login': 'dependabot[bot]',\n",
              "     'node_id': 'MDM6Qm90NDk2OTkzMzM=',\n",
              "     'organizations_url': 'https://api.github.com/users/dependabot%5Bbot%5D/orgs',\n",
              "     'received_events_url': 'https://api.github.com/users/dependabot%5Bbot%5D/received_events',\n",
              "     'repos_url': 'https://api.github.com/users/dependabot%5Bbot%5D/repos',\n",
              "     'site_admin': False,\n",
              "     'starred_url': 'https://api.github.com/users/dependabot%5Bbot%5D/starred{/owner}{/repo}',\n",
              "     'subscriptions_url': 'https://api.github.com/users/dependabot%5Bbot%5D/subscriptions',\n",
              "     'type': 'Bot',\n",
              "     'url': 'https://api.github.com/users/dependabot%5Bbot%5D'}}},\n",
              "  'public': True,\n",
              "  'repo': {'id': 425350609,\n",
              "   'name': 'BudgetMC/unitedfruitcompany',\n",
              "   'url': 'https://api.github.com/repos/BudgetMC/unitedfruitcompany'},\n",
              "  'type': 'PullRequestEvent'},\n",
              " {'actor': {'avatar_url': 'https://avatars.githubusercontent.com/u/91356545?',\n",
              "   'display_login': 'ALI0ne',\n",
              "   'gravatar_id': '',\n",
              "   'id': 91356545,\n",
              "   'login': 'ALI0ne',\n",
              "   'url': 'https://api.github.com/users/ALI0ne'},\n",
              "  'created_at': '2022-04-03T22:21:31Z',\n",
              "  'id': '21088048359',\n",
              "  'payload': {'pusher_type': 'user',\n",
              "   'ref': 'snyk-upgrade-18e1d3cd5874d3be927fe878e538f844',\n",
              "   'ref_type': 'branch'},\n",
              "  'public': True,\n",
              "  'repo': {'id': 411020993,\n",
              "   'name': 'ALI0ne/vscode-extension-samples',\n",
              "   'url': 'https://api.github.com/repos/ALI0ne/vscode-extension-samples'},\n",
              "  'type': 'DeleteEvent'}]"
            ]
          },
          "metadata": {},
          "execution_count": 8
        }
      ]
    },
    {
      "cell_type": "markdown",
      "metadata": {
        "id": "yylQx26OQM0n"
      },
      "source": [
        "Если декодирование в **JSON** не удалось, `r.json()` вызовет ошибку (исключение). Например, если сервер ответил кодом **204** (No Content), либо ответ содержит неправильный по формату **JSON**, то попытка обращения к `r.json()` приведет к ошибке **ValueError: No JSON object could be decoded**.\n",
        "\n",
        "Следует иметь в виду, что успешный вызов `r.json()` не означает, что ответ сервера был успешным. Некоторые серверы могут возвращать объект **JSON** и при неудачном ответе (например, сведения об ошибке **HTTP 500**). Такой объект **JSON** будет декодирован при вызове `r.json()` и успешно возвращен. Чтобы проверить, успешен ли был запрос, используйте `r.raise_for_status()` или проверьте содержимое **r.status_code**."
      ]
    },
    {
      "cell_type": "markdown",
      "metadata": {
        "id": "F5-jkXGZBd1c"
      },
      "source": [
        "# 1. Создание и обучение ML-модели, написание кода для инференса (режима предсказания) модели"
      ]
    },
    {
      "cell_type": "markdown",
      "metadata": {
        "id": "wDF3TQqTRb9S"
      },
      "source": [
        "Для дальнейшей работы воспользуемся моделью, изученной на одном из первых занятий, для классификации автомобилей по трем маркам: **Ferrari**, **Renault** и **Mercedes**.\n",
        "\n",
        "В рамках данного этапа работы мы должны создать файл с кодом для:\n",
        "- инициализации модели;\n",
        "- загрузки ее весов;\n",
        "- предобработки изображения;\n",
        "- подачи его в сеть и получения предсказания.\n",
        "\n",
        "Также нам нужно загрузить файл с весами в ноутбук для последующей отправки на удаленный сервер."
      ]
    },
    {
      "cell_type": "markdown",
      "metadata": {
        "id": "v8KbHf6wWZ_U"
      },
      "source": [
        "Загрузим модель из облака:"
      ]
    },
    {
      "cell_type": "code",
      "metadata": {
        "colab": {
          "base_uri": "https://localhost:8080/",
          "height": 35
        },
        "id": "LUO1znMyWa5c",
        "outputId": "4748c150-3f32-44aa-b3f9-49e37d70f0af"
      },
      "source": [
        "import gdown\n",
        "\n",
        "# Загрузка файла модели из облака\n",
        "gdown.download('https://storage.yandexcloud.net/aiueducation/Content/base/l16/cars3.h5', None, quiet=True)"
      ],
      "execution_count": null,
      "outputs": [
        {
          "output_type": "execute_result",
          "data": {
            "text/plain": [
              "'cars3.h5'"
            ],
            "application/vnd.google.colaboratory.intrinsic+json": {
              "type": "string"
            }
          },
          "metadata": {},
          "execution_count": 9
        }
      ]
    },
    {
      "cell_type": "markdown",
      "metadata": {
        "id": "Cy797xVmRvdZ"
      },
      "source": [
        "Создадим файл с кодом для инициализации модели, загрузки весов, предобработки изображения и инференса (режима предсказания) модели:"
      ]
    },
    {
      "cell_type": "code",
      "metadata": {
        "id": "sy0YcMMsCko9"
      },
      "source": [
        "predict_file = '''\n",
        "\n",
        "from tensorflow.keras.models import load_model\n",
        "import numpy as np\n",
        "from io import BytesIO\n",
        "from PIL import Image \n",
        "\n",
        "INPUT_SHAPE = (96, 54, 3)\n",
        "\n",
        "model = load_model('cars3.h5')  # Инициализация модели\n",
        "\n",
        "\n",
        "def process(image_file):\n",
        "    \n",
        "    # Открытие обрабатываемого файла\n",
        "    image = Image.open(BytesIO(image_file)) \n",
        "\n",
        "    # Изменение размера изображения в соответствии со входом сети\n",
        "    resized_image = image.resize((INPUT_SHAPE[1], INPUT_SHAPE[0])) \n",
        "\n",
        "    # Подгонка формы тензора для подачи в модель\n",
        "    array = np.array(resized_image)[np.newaxis, ...] \n",
        "\n",
        "    # Запуск предсказания\n",
        "    prediction_array = model.predict(array)[0] \n",
        "\n",
        "    # Возврат предсказания сети в виде текстовой переменной, хранящей список\n",
        "    return str(list(prediction_array))\n",
        "'''\n",
        "\n",
        "# Сохранение кода в файл\n",
        "with open('predict.py', 'w') as file:\n",
        "    file.write(predict_file)"
      ],
      "execution_count": null,
      "outputs": []
    },
    {
      "cell_type": "markdown",
      "metadata": {
        "id": "nFZB-urcBaE1"
      },
      "source": [
        "# 2. Создание веб-сервиса с помощью FastAPI"
      ]
    },
    {
      "cell_type": "markdown",
      "metadata": {
        "id": "4H-xtr10CdLP"
      },
      "source": [
        "В данном разделе будет создан веб-сервис, предоставляющий API для получения предсказания из модели нейронной сети."
      ]
    },
    {
      "cell_type": "markdown",
      "metadata": {
        "id": "XnVbdXcvPDT4"
      },
      "source": [
        "Существует большое количество веб-фреймворков, позволяющих это сделать, например, **Flask** или **Django**. Однако последние содержат слишком много функций для разработки веб-приложений, которые нам просто не понадобятся (мы не будем работать с веб-страницами, обращаться к базам данных и т.п.). \n",
        "\n",
        "Поэтому воспользуемся специализированным веб-фреймворком, который был разработан специально для создания API - **_FastAPI_**. \n"
      ]
    },
    {
      "cell_type": "markdown",
      "metadata": {
        "id": "1fTK8AUuID58"
      },
      "source": [
        "Для начала разберемся, как создавать веб-сервисы с помощью **FastAPI** и обращаться к созданному API. Также в конце раздела сохраним наши наработки в файл для будущего его размещения на сервере хостинга."
      ]
    },
    {
      "cell_type": "markdown",
      "metadata": {
        "id": "-Cugq8_WlHf6"
      },
      "source": [
        "[Документация FAST API](https://fastapi.tiangolo.com/)"
      ]
    },
    {
      "cell_type": "markdown",
      "metadata": {
        "id": "zPcRPN_FJvXt"
      },
      "source": [
        "Установим библиотеку **FastAPI** и вспомогательные компоненты:"
      ]
    },
    {
      "cell_type": "code",
      "metadata": {
        "colab": {
          "base_uri": "https://localhost:8080/"
        },
        "id": "Rr0LqM4MI3zK",
        "outputId": "dbd51b4e-6be9-4770-e5d8-5288909019bc"
      },
      "source": [
        "!pip install fastapi\n",
        "!pip install uvicorn\n",
        "!pip install python-multipart"
      ],
      "execution_count": null,
      "outputs": [
        {
          "output_type": "stream",
          "name": "stdout",
          "text": [
            "Collecting fastapi\n",
            "  Downloading fastapi-0.75.1-py3-none-any.whl (54 kB)\n",
            "\u001b[K     |████████████████████████████████| 54 kB 1.9 MB/s \n",
            "\u001b[?25hCollecting pydantic!=1.7,!=1.7.1,!=1.7.2,!=1.7.3,!=1.8,!=1.8.1,<2.0.0,>=1.6.2\n",
            "  Downloading pydantic-1.9.0-cp37-cp37m-manylinux_2_17_x86_64.manylinux2014_x86_64.whl (10.9 MB)\n",
            "\u001b[K     |████████████████████████████████| 10.9 MB 9.7 MB/s \n",
            "\u001b[?25hCollecting starlette==0.17.1\n",
            "  Downloading starlette-0.17.1-py3-none-any.whl (58 kB)\n",
            "\u001b[K     |████████████████████████████████| 58 kB 4.1 MB/s \n",
            "\u001b[?25hRequirement already satisfied: typing-extensions in /usr/local/lib/python3.7/dist-packages (from starlette==0.17.1->fastapi) (3.10.0.2)\n",
            "Collecting anyio<4,>=3.0.0\n",
            "  Downloading anyio-3.5.0-py3-none-any.whl (79 kB)\n",
            "\u001b[K     |████████████████████████████████| 79 kB 6.6 MB/s \n",
            "\u001b[?25hCollecting sniffio>=1.1\n",
            "  Downloading sniffio-1.2.0-py3-none-any.whl (10 kB)\n",
            "Requirement already satisfied: idna>=2.8 in /usr/local/lib/python3.7/dist-packages (from anyio<4,>=3.0.0->starlette==0.17.1->fastapi) (2.10)\n",
            "Installing collected packages: sniffio, anyio, starlette, pydantic, fastapi\n",
            "Successfully installed anyio-3.5.0 fastapi-0.75.1 pydantic-1.9.0 sniffio-1.2.0 starlette-0.17.1\n",
            "Collecting uvicorn\n",
            "  Downloading uvicorn-0.17.6-py3-none-any.whl (53 kB)\n",
            "\u001b[K     |████████████████████████████████| 53 kB 1.5 MB/s \n",
            "\u001b[?25hCollecting asgiref>=3.4.0\n",
            "  Downloading asgiref-3.5.0-py3-none-any.whl (22 kB)\n",
            "Collecting h11>=0.8\n",
            "  Downloading h11-0.13.0-py3-none-any.whl (58 kB)\n",
            "\u001b[K     |████████████████████████████████| 58 kB 5.3 MB/s \n",
            "\u001b[?25hRequirement already satisfied: click>=7.0 in /usr/local/lib/python3.7/dist-packages (from uvicorn) (7.1.2)\n",
            "Requirement already satisfied: typing-extensions in /usr/local/lib/python3.7/dist-packages (from uvicorn) (3.10.0.2)\n",
            "Installing collected packages: h11, asgiref, uvicorn\n",
            "Successfully installed asgiref-3.5.0 h11-0.13.0 uvicorn-0.17.6\n",
            "Collecting python-multipart\n",
            "  Downloading python-multipart-0.0.5.tar.gz (32 kB)\n",
            "Requirement already satisfied: six>=1.4.0 in /usr/local/lib/python3.7/dist-packages (from python-multipart) (1.15.0)\n",
            "Building wheels for collected packages: python-multipart\n",
            "  Building wheel for python-multipart (setup.py) ... \u001b[?25l\u001b[?25hdone\n",
            "  Created wheel for python-multipart: filename=python_multipart-0.0.5-py3-none-any.whl size=31678 sha256=a24a7fed024d5651f433157d295d8bb187bf9696e115d622377f44c2fd16dcda\n",
            "  Stored in directory: /root/.cache/pip/wheels/2c/41/7c/bfd1c180534ffdcc0972f78c5758f89881602175d48a8bcd2c\n",
            "Successfully built python-multipart\n",
            "Installing collected packages: python-multipart\n",
            "Successfully installed python-multipart-0.0.5\n"
          ]
        }
      ]
    },
    {
      "cell_type": "markdown",
      "metadata": {
        "id": "UFYKqNV8Orsv"
      },
      "source": [
        "Создадим файл с тестовым API:"
      ]
    },
    {
      "cell_type": "code",
      "metadata": {
        "id": "d1z17XZwI2tm"
      },
      "source": [
        "main_file = '''from fastapi import FastAPI\n",
        "\n",
        "app = FastAPI()\n",
        "\n",
        "@app.get(\"/test\")\n",
        "def read_root():\n",
        "    return {\"Hello\": \"World\"}\n",
        "'''\n",
        "\n",
        "with open('main.py', 'w') as file:\n",
        "    file.write(main_file)"
      ],
      "execution_count": null,
      "outputs": []
    },
    {
      "cell_type": "markdown",
      "metadata": {
        "id": "VNJTt-a4O3nC"
      },
      "source": [
        "Запустим http-сервер **uvicorn** с указанием приложения, которое будет запускаться (**app** из файла **main.py**):"
      ]
    },
    {
      "cell_type": "code",
      "metadata": {
        "colab": {
          "base_uri": "https://localhost:8080/"
        },
        "id": "xfqr05_nJ_Sg",
        "outputId": "3a4523e0-31ce-4efc-8b86-1744fa395fc4"
      },
      "source": [
        "!nohup uvicorn main:app --reload &\n",
        "# nohup и & - прописываются для запуска процесса в фоне (чтобы не блокировать Colab)\n",
        "# параметр --reload позволяет автоматически перезапускать uvicorn при изменениях в файле main.py"
      ],
      "execution_count": null,
      "outputs": [
        {
          "output_type": "stream",
          "name": "stdout",
          "text": [
            "nohup: appending output to 'nohup.out'\n"
          ]
        }
      ]
    },
    {
      "cell_type": "markdown",
      "metadata": {
        "id": "hOB3MGGQQMy6"
      },
      "source": [
        "Логи http-сервера теперь выводятся в файл **nohup.out**:"
      ]
    },
    {
      "cell_type": "code",
      "metadata": {
        "id": "_XntMEpsP9bp"
      },
      "source": [
        "!cat nohup.out"
      ],
      "execution_count": null,
      "outputs": []
    },
    {
      "cell_type": "markdown",
      "metadata": {
        "id": "puBSIeC-QeC3"
      },
      "source": [
        "Сделаем пробный запрос к созданнму эндпойнту (одному из адресов для запросов через API):"
      ]
    },
    {
      "cell_type": "code",
      "metadata": {
        "id": "3xUIRbGMK6yc"
      },
      "source": [
        "import requests"
      ],
      "execution_count": null,
      "outputs": []
    },
    {
      "cell_type": "code",
      "metadata": {
        "colab": {
          "base_uri": "https://localhost:8080/"
        },
        "id": "YIPqOGvALdMb",
        "outputId": "99646d38-cdbe-45cc-b4bb-b739358ba9cb"
      },
      "source": [
        "r = requests.get('http://127.0.0.1:8000/test')\n",
        "print(r.status_code)\n",
        "print(r.text)"
      ],
      "execution_count": null,
      "outputs": [
        {
          "output_type": "stream",
          "name": "stdout",
          "text": [
            "200\n",
            "{\"Hello\":\"World\"}\n"
          ]
        }
      ]
    },
    {
      "cell_type": "markdown",
      "metadata": {
        "id": "vY_4tIdBEnch"
      },
      "source": [
        "При возникновении ошибки просто перезапустите ячейку."
      ]
    },
    {
      "cell_type": "markdown",
      "metadata": {
        "id": "Q8kUNCOrQz_S"
      },
      "source": [
        "Создадим новый эндпойнт, который будет принимать файл с изображением и возвращать результат:"
      ]
    },
    {
      "cell_type": "code",
      "metadata": {
        "id": "FlsYv96OM9vo"
      },
      "source": [
        "main_file = '''from fastapi import FastAPI, File\n",
        "from predict import process\n",
        "\n",
        "app = FastAPI()\n",
        "\n",
        "\n",
        "@app.post(\"/predict\")\n",
        "async def create_file(file: bytes = File(...)):\n",
        "    return {\"result\": process(file)}\n",
        "'''\n",
        "\n",
        "with open('main.py', 'w') as file:\n",
        "    file.write(main_file)"
      ],
      "execution_count": null,
      "outputs": []
    },
    {
      "cell_type": "markdown",
      "metadata": {
        "id": "qP5pSi0_Z_6L"
      },
      "source": [
        "Отправим изображение на эндпойнт для классификации:"
      ]
    },
    {
      "cell_type": "code",
      "metadata": {
        "colab": {
          "base_uri": "https://localhost:8080/",
          "height": 35
        },
        "id": "q5GuslwWDI4R",
        "outputId": "0a2742ab-e5ae-4067-ee6b-9008919c849b"
      },
      "source": [
        "# Загрузка тестового изображения:\n",
        "gdown.download('https://storage.yandexcloud.net/aiueducation/Content/base/l16/auto.jpg', None, quiet=True)"
      ],
      "execution_count": null,
      "outputs": [
        {
          "output_type": "execute_result",
          "data": {
            "text/plain": [
              "'auto.jpg'"
            ],
            "application/vnd.google.colaboratory.intrinsic+json": {
              "type": "string"
            }
          },
          "metadata": {},
          "execution_count": 20
        }
      ]
    },
    {
      "cell_type": "code",
      "metadata": {
        "id": "cNTS2C7SNf1F",
        "colab": {
          "base_uri": "https://localhost:8080/"
        },
        "outputId": "9693fe84-ef93-4e38-e90b-3606545f77b2"
      },
      "source": [
        "files = {'file': open('auto.jpg','rb')}\n",
        "r = requests.post('http://127.0.0.1:8000/predict', files=files)\n",
        "print(r.text)"
      ],
      "execution_count": null,
      "outputs": [
        {
          "output_type": "stream",
          "name": "stdout",
          "text": [
            "{\"result\":\"[0.0, 1.0, 0.0]\"}\n"
          ]
        }
      ]
    },
    {
      "cell_type": "markdown",
      "metadata": {
        "id": "nGZavyT6i1fq"
      },
      "source": [
        "Проверим текст ответа на запрос (мы должны получить вероятности принадлежности изображения к каждому из трех классов):"
      ]
    },
    {
      "cell_type": "code",
      "metadata": {
        "id": "WhFjgLwDDgbd"
      },
      "source": [
        "class_names = ['Ferrari', 'Mercedes', 'Renault']"
      ],
      "execution_count": null,
      "outputs": []
    },
    {
      "cell_type": "code",
      "metadata": {
        "colab": {
          "base_uri": "https://localhost:8080/",
          "height": 269
        },
        "id": "RlMRWWGzEf7v",
        "outputId": "0947e65c-0493-4fab-9249-99e331be4466"
      },
      "source": [
        "import matplotlib.pyplot as plt\n",
        "from PIL import Image \n",
        "\n",
        "plt.imshow(Image.open('auto.jpg'))\n",
        "plt.show()"
      ],
      "execution_count": null,
      "outputs": [
        {
          "output_type": "display_data",
          "data": {
            "text/plain": [
              "<Figure size 432x288 with 1 Axes>"
            ],
            "image/png": "[encoded data removed]"
          },
          "metadata": {
            "needs_background": "light"
          }
        }
      ]
    },
    {
      "cell_type": "markdown",
      "metadata": {
        "id": "UG-CYd5xaIjI"
      },
      "source": [
        "Создадим файл для запуска веб-службы:"
      ]
    },
    {
      "cell_type": "code",
      "metadata": {
        "id": "z5A1I3l1aHtC"
      },
      "source": [
        "proc_file = 'web: uvicorn main:app --host=0.0.0.0 --port=${PORT:-5000}'\n",
        "\n",
        "with open('Procfile', 'w') as file:\n",
        "    file.write(proc_file)"
      ],
      "execution_count": null,
      "outputs": []
    },
    {
      "cell_type": "markdown",
      "metadata": {
        "id": "n-p0rV3GbZpe"
      },
      "source": [
        "Создадим файл зависимостей. В нем перечисляются требуемые пакеты **Python** и их версии:"
      ]
    },
    {
      "cell_type": "code",
      "metadata": {
        "id": "ZgxXWs_QbY8y"
      },
      "source": [
        "requirements_file = '''\n",
        "\n",
        "fastapi==0.68.1\n",
        "tensorflow-cpu==2.8.0\n",
        "uvicorn==0.15.0\n",
        "Pillow==7.1.2\n",
        "python-multipart==0.0.5\n",
        "\n",
        "'''\n",
        "\n",
        "with open('requirements.txt', 'w') as file:\n",
        "    file.write(requirements_file)"
      ],
      "execution_count": null,
      "outputs": []
    },
    {
      "cell_type": "markdown",
      "metadata": {
        "id": "RhMg7OaD4z_s"
      },
      "source": [
        "Удалим лишние файлы, по умолчанию находящиеся в текущей папке Colab:"
      ]
    },
    {
      "cell_type": "code",
      "metadata": {
        "id": "umIFFDVs4zWy"
      },
      "source": [
        "!rm -rf sample_data"
      ],
      "execution_count": null,
      "outputs": []
    },
    {
      "cell_type": "markdown",
      "metadata": {
        "id": "ohl-sz7628vE"
      },
      "source": [
        "# 3. Деплой (развертывание) сервиса на бесплатный хостинг"
      ]
    },
    {
      "cell_type": "markdown",
      "metadata": {
        "id": "km-THXUQEtP9"
      },
      "source": [
        "Используем сервис **Heroku** так же, как в предыдущем занятии:\n",
        "\n",
        "[Создание простого веб-сервера и настройка параметров работы\n",
        "](https://colab.research.google.com/drive/1YHmT3lrgcX0tc5UBAF1EpardAuaEjj3F?usp=sharing)"
      ]
    },
    {
      "cell_type": "markdown",
      "metadata": {
        "id": "GJmV7h_EcYA1"
      },
      "source": [
        "## Регистрация аккаунта на Heroku"
      ]
    },
    {
      "cell_type": "markdown",
      "metadata": {
        "id": "ie3NLjgLcdEN"
      },
      "source": [
        "Пройдите регистрацию аккаунта на Heroku по данной [ссылке](https://signup.heroku.com/dc).<br>\n",
        "Этот шаг можно пропустить, если у вас уже есть аккаунт.<br>\n",
        "![1.png](data:image/png;base64,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)"
      ]
    },
    {
      "cell_type": "markdown",
      "metadata": {
        "id": "ugVPvL6ikmcA"
      },
      "source": [
        "## Установка **Git** и **Heroku CLI**"
      ]
    },
    {
      "cell_type": "markdown",
      "metadata": {
        "id": "mqFB2LtGdQ1B"
      },
      "source": [
        "Шаг с установкой **Git** можно пропустить, так как виртуальные машины Google Colab уже содержат предустановленный пакет **Git**.\n",
        "\n",
        "Проверим наличие и версию **Git**:"
      ]
    },
    {
      "cell_type": "code",
      "metadata": {
        "colab": {
          "base_uri": "https://localhost:8080/"
        },
        "id": "JL1Ud90Wb3Hj",
        "outputId": "97b4a82b-0823-48d7-de6a-b2b2f685e44c"
      },
      "source": [
        "!git --version"
      ],
      "execution_count": null,
      "outputs": [
        {
          "output_type": "stream",
          "name": "stdout",
          "text": [
            "git version 2.17.1\n"
          ]
        }
      ]
    },
    {
      "cell_type": "markdown",
      "metadata": {
        "id": "Od0LH3H4hac9"
      },
      "source": [
        "Зададим имя пользователя и e-mail для **Git**:"
      ]
    },
    {
      "cell_type": "code",
      "metadata": {
        "id": "X1TMtXCFhQso"
      },
      "source": [
        "# Укажите свои данные\n",
        "!git config --global user.email \"seregaak3@gmail.com\"\n",
        "!git config --global user.name \"serega\""
      ],
      "execution_count": null,
      "outputs": []
    },
    {
      "cell_type": "markdown",
      "metadata": {
        "id": "72A9bsRDdpm5"
      },
      "source": [
        "Установим **Heroku CLI** (интерфейс командной строки):"
      ]
    },
    {
      "cell_type": "code",
      "metadata": {
        "colab": {
          "base_uri": "https://localhost:8080/"
        },
        "id": "xA20zJswdpAo",
        "outputId": "b0a3a4b2-0e04-4e2a-ea30-83c0c94aafcd"
      },
      "source": [
        "!curl https://cli-assets.heroku.com/install-ubuntu.sh | sh > /dev/null"
      ],
      "execution_count": null,
      "outputs": [
        {
          "output_type": "stream",
          "name": "stdout",
          "text": [
            "  % Total    % Received % Xferd  Average Speed   Time    Time     Time  Current\n",
            "                                 Dload  Upload   Total   Spent    Left  Speed\n",
            "100  1232  100  1232    0     0   6623      0 --:--:-- --:--:-- --:--:--  6623\n",
            "+ dpkg -s apt-transport-https\n",
            "+ echo \n",
            "+ apt-get update\n",
            "+ apt-get install -y apt-transport-https\n",
            "+ echo deb https://cli-assets.heroku.com/apt ./\n",
            "+ dpkg -s heroku-toolbelt\n",
            "+ true\n",
            "+ apt-key add -\n",
            "+ curl https://cli-assets.heroku.com/apt/release.key\n",
            "  % Total    % Received % Xferd  Average Speed   Time    Time     Time  Current\n",
            "                                 Dload  Upload   Total   Spent    Left  Speed\n",
            "  0     0    0     0    0     0      0      0 --:--:-- --:--:-- --:--:--     0Warning: apt-key output should not be parsed (stdout is not a terminal)\n",
            "100  5393  100  5393    0     0  23145      0 --:--:-- --:--:-- --:--:-- 23145\n",
            "+ apt-get update\n",
            "+ apt-get install -y heroku\n",
            " ›   Warning: Our terms of service have changed: \n",
            " ›   https://dashboard.heroku.com/terms-of-service\n"
          ]
        }
      ]
    },
    {
      "cell_type": "markdown",
      "metadata": {
        "id": "V9hxnDUPeQHB"
      },
      "source": [
        "Проверим установку **Heroku CLI**:"
      ]
    },
    {
      "cell_type": "code",
      "metadata": {
        "colab": {
          "base_uri": "https://localhost:8080/"
        },
        "id": "mf8C8Mq5eV5z",
        "outputId": "a52f2ef7-eddc-4d30-e8f3-525179757e02"
      },
      "source": [
        "!heroku --version"
      ],
      "execution_count": null,
      "outputs": [
        {
          "output_type": "stream",
          "name": "stdout",
          "text": [
            "heroku/7.60.1 linux-x64 node-v14.19.0\n"
          ]
        }
      ]
    },
    {
      "cell_type": "markdown",
      "metadata": {
        "id": "16yIQN4R3dRX"
      },
      "source": [
        "Для авторизации в Heroku необходимо перейти на [страницу с настройками Heroku](https://dashboard.heroku.com/account), скопировать **API Key** и создать файл **.netrc** в домашней папке с указанием логина и скопированного токена:"
      ]
    },
    {
      "cell_type": "code",
      "metadata": {
        "id": "nMzbiOygyakE"
      },
      "source": [
        "LOGIN = 'seregaak3@gmail.com'  # Укажите свой логин\n",
        "API_KEY = 'xxxxxxxx-xxxx-xxxx-xxxx-xxxxxxxxxxxx'  # Укажите свой API-key\n",
        "           \n",
        "\n",
        "auth_file = '''machine api.heroku.com\n",
        "  login {login}\n",
        "  password {password}\n",
        "machine git.heroku.com\n",
        "  login {login}\n",
        "  password {password}\n",
        "'''.format(login=LOGIN, password=API_KEY)\n",
        "\n",
        "with open('/root/.netrc', 'w') as file:\n",
        "    file.write(auth_file)"
      ],
      "execution_count": null,
      "outputs": []
    },
    {
      "cell_type": "markdown",
      "metadata": {
        "id": "ovOBzFN-fLwd"
      },
      "source": [
        "## Отслеживание проекта в **Git**"
      ]
    },
    {
      "cell_type": "markdown",
      "metadata": {
        "id": "puKPMuejfTZ-"
      },
      "source": [
        "Перед развертыванием приложения в **Heroku** вам необходимо инициализировать локальный репозиторий **Git** и зафиксировать в нем код приложения:"
      ]
    },
    {
      "cell_type": "code",
      "metadata": {
        "colab": {
          "base_uri": "https://localhost:8080/"
        },
        "id": "IYioYenIfS89",
        "outputId": "5134b4df-0fec-4f53-dab5-ec0dc60a69c4"
      },
      "source": [
        "!git init\n",
        "!git add .\n",
        "!git commit -m \"My first commit\""
      ],
      "execution_count": null,
      "outputs": [
        {
          "output_type": "stream",
          "name": "stdout",
          "text": [
            "Initialized empty Git repository in /content/.git/\n",
            "[master (root-commit) 947f21e] My first commit\n",
            " 24 files changed, 712 insertions(+)\n",
            " create mode 100644 .config/.feature_flags_config.yaml\n",
            " create mode 100644 .config/.last_opt_in_prompt.yaml\n",
            " create mode 100644 .config/.last_survey_prompt.yaml\n",
            " create mode 100644 .config/.last_update_check.json\n",
            " create mode 100644 .config/.metricsUUID\n",
            " create mode 100644 .config/active_config\n",
            " create mode 100644 .config/config_sentinel\n",
            " create mode 100644 .config/configurations/config_default\n",
            " create mode 100644 .config/gce\n",
            " create mode 100644 .config/logs/2022.03.23/14.20.51.700340.log\n",
            " create mode 100644 .config/logs/2022.03.23/14.21.15.158122.log\n",
            " create mode 100644 .config/logs/2022.03.23/14.21.37.874736.log\n",
            " create mode 100644 .config/logs/2022.03.23/14.21.47.434153.log\n",
            " create mode 100644 .config/logs/2022.03.23/14.22.10.115472.log\n",
            " create mode 100644 .config/logs/2022.03.23/14.22.11.024461.log\n",
            " create mode 100644 Procfile\n",
            " create mode 100644 __pycache__/main.cpython-37.pyc\n",
            " create mode 100644 __pycache__/predict.cpython-37.pyc\n",
            " create mode 100644 auto.jpg\n",
            " create mode 100644 cars3.h5\n",
            " create mode 100644 main.py\n",
            " create mode 100644 nohup.out\n",
            " create mode 100644 predict.py\n",
            " create mode 100644 requirements.txt\n"
          ]
        }
      ]
    },
    {
      "cell_type": "markdown",
      "metadata": {
        "id": "5NeveOF_gOaV"
      },
      "source": [
        "Код приложения теперь отслеживается в локальном репозитории **Git**. Он еще не отправлен на удаленный сервер."
      ]
    },
    {
      "cell_type": "markdown",
      "metadata": {
        "id": "c9pc5TKNfpzV"
      },
      "source": [
        "## Создание удаленного репозитория **Heroku**"
      ]
    },
    {
      "cell_type": "markdown",
      "metadata": {
        "id": "feGT38KNfw2N"
      },
      "source": [
        "**Git remotes** - это версии вашего репозитория, которые находятся на других серверах. Вы развертываете свое приложение, отправляя его код на специальный удаленный сервер **Heroku**, который предоставит доступ к приложению по сети."
      ]
    },
    {
      "cell_type": "markdown",
      "metadata": {
        "id": "FomkhZ3fgYw0"
      },
      "source": [
        "Команда `heroku create` создает новое пустое приложение на **Heroku** вместе с соответствующим репозиторием **Git**. Если вы запустите эту команду из корневого каталога вашего приложения, то пустой репозиторий **Heroku Git** автоматически станет удаленным для локального репозитория."
      ]
    },
    {
      "cell_type": "code",
      "metadata": {
        "colab": {
          "base_uri": "https://localhost:8080/"
        },
        "id": "KDqz4d76gh6l",
        "outputId": "312b1fc7-fcb2-4a8f-a9e3-e906621131d2"
      },
      "source": [
        "!heroku create"
      ],
      "execution_count": null,
      "outputs": [
        {
          "output_type": "stream",
          "name": "stdout",
          "text": [
            "\u001b[G\u001b[2K\u001b[?25lCreating app... \u001b[35m⣾\u001b[39m \n",
            "\u001b[1A\u001b[16C\u001b[35m⣽\u001b[39m\u001b[1B\u001b[G\u001b[2K\u001b[1A\u001b[16C\u001b[35m⣻\u001b[39m\u001b[1B\u001b[G\u001b[2K\u001b[1A\u001b[16C\u001b[35m⢿\u001b[39m\u001b[1B\u001b[G\u001b[2K\u001b[1A\u001b[16C\u001b[35m⡿\u001b[39m\u001b[1B\u001b[G\u001b[2K\u001b[1A\u001b[16C\u001b[35m⣟\u001b[39m\u001b[1B\u001b[G\u001b[2K\u001b[1A\u001b[16C\u001b[35m⣯\u001b[39m\u001b[1B\u001b[G\u001b[2K\u001b[1A\u001b[JCreating app... done, \u001b[35m⬢ warm-wave-73221\u001b[39m\n",
            "\u001b[?25h\u001b[36mhttps://warm-wave-73221.herokuapp.com/\u001b[39m | \u001b[32mhttps://git.heroku.com/warm-wave-73221.git\u001b[39m\n",
            "\u001b[?25h"
          ]
        }
      ]
    },
    {
      "cell_type": "markdown",
      "metadata": {
        "id": "SbV5JVVGghO1"
      },
      "source": [
        "Вы можете использовать команду `git remote`, чтобы проверить, что для вашего приложения установлен удаленный репозиторий с именем **heroku**:"
      ]
    },
    {
      "cell_type": "code",
      "metadata": {
        "id": "_sfCSmJdgrrD",
        "colab": {
          "base_uri": "https://localhost:8080/"
        },
        "outputId": "6a53cc20-f1b0-4e65-dfc7-bac8c99f8466"
      },
      "source": [
        "!git remote -v"
      ],
      "execution_count": null,
      "outputs": [
        {
          "output_type": "stream",
          "name": "stdout",
          "text": [
            "heroku\thttps://git.heroku.com/warm-wave-73221.git (fetch)\n",
            "heroku\thttps://git.heroku.com/warm-wave-73221.git (push)\n"
          ]
        }
      ]
    },
    {
      "cell_type": "markdown",
      "metadata": {
        "id": "45buxi4vPkmu"
      },
      "source": [
        "Для того, чтобы разорвать текущее соединение с удаленным репоизорием используйте команду:\n",
        "\n",
        "        !git remote rm heroku"
      ]
    },
    {
      "cell_type": "markdown",
      "metadata": {
        "id": "5UIXLauTgyVV"
      },
      "source": [
        "## Развертывание кода"
      ]
    },
    {
      "cell_type": "markdown",
      "metadata": {
        "id": "kanKHJQng0_d"
      },
      "source": [
        "Для развертывания приложения в **Heroku** нужно использовать команду `git push`, чтобы отправить код из главной или основной ветки локального репозитория на удаленный сервер **heroku**:"
      ]
    },
    {
      "cell_type": "code",
      "metadata": {
        "id": "lyhOjRjag0KS",
        "colab": {
          "base_uri": "https://localhost:8080/"
        },
        "outputId": "eb6ce149-c128-4e47-b3b7-86ddb9f051fb"
      },
      "source": [
        "!git push heroku master"
      ],
      "execution_count": null,
      "outputs": [
        {
          "output_type": "stream",
          "name": "stdout",
          "text": [
            "Counting objects: 31, done.\n",
            "Delta compression using up to 2 threads.\n",
            "Compressing objects:   4% (1/23)   \rCompressing objects:   8% (2/23)   \rCompressing objects:  13% (3/23)   \rCompressing objects:  17% (4/23)   \rCompressing objects:  21% (5/23)   \rCompressing objects:  26% (6/23)   \rCompressing objects:  30% (7/23)   \rCompressing objects:  34% (8/23)   \rCompressing objects:  39% (9/23)   \rCompressing objects:  43% (10/23)   \rCompressing objects:  47% (11/23)   \rCompressing objects:  52% (12/23)   \rCompressing objects:  56% (13/23)   \rCompressing objects:  60% (14/23)   \rCompressing objects:  65% (15/23)   \rCompressing objects:  69% (16/23)   \rCompressing objects:  73% (17/23)   \rCompressing objects:  78% (18/23)   \rCompressing objects:  82% (19/23)   \rCompressing objects:  86% (20/23)   \rCompressing objects:  91% (21/23)   \rCompressing objects:  95% (22/23)   \rCompressing objects: 100% (23/23)   \rCompressing objects: 100% (23/23), done.\n",
            "Writing objects:   3% (1/31)   \rWriting objects:   6% (2/31)   \rWriting objects:   9% (3/31)   \rWriting objects:  12% (4/31)   \rWriting objects:  16% (5/31)   \rWriting objects:  19% (6/31)   \rWriting objects:  22% (7/31)   \rWriting objects:  25% (8/31)   \rWriting objects:  29% (9/31)   \rWriting objects:  32% (10/31)   \rWriting objects:  35% (11/31)   \rWriting objects:  38% (12/31)   \rWriting objects:  41% (13/31)   \rWriting objects:  45% (14/31)   \rWriting objects:  48% (15/31)   \rWriting objects:  51% (16/31)   \rWriting objects:  61% (19/31)   \rWriting objects:  64% (20/31)   \rWriting objects:  67% (21/31)   \rWriting objects:  70% (22/31)   \rWriting objects:  74% (23/31)   \rWriting objects:  77% (24/31)   \rWriting objects:  80% (25/31)   \rWriting objects:  83% (26/31)   \rWriting objects:  87% (27/31)   \rWriting objects:  90% (28/31)   \rWriting objects:  93% (29/31)   \rWriting objects:  96% (30/31)   \rWriting objects: 100% (31/31)   \rWriting objects: 100% (31/31), 903.75 KiB | 12.38 MiB/s, done.\n",
            "Total 31 (delta 3), reused 0 (delta 0)\n",
            "remote: Compressing source files... done.\u001b[K\n",
            "remote: Building source:\u001b[K\n",
            "remote: \n",
            "remote: -----> Building on the Heroku-20 stack\u001b[K\n",
            "remote: -----> Determining which buildpack to use for this app\u001b[K\n",
            "remote: -----> Python app detected\u001b[K\n",
            "remote: -----> No Python version was specified. Using the buildpack default: python-3.10.4\u001b[K\n",
            "remote:        To use a different version, see: https://devcenter.heroku.com/articles/python-runtimes\u001b[K\n",
            "remote: -----> Installing python-3.10.4\u001b[K\n",
            "remote: -----> Installing pip 21.3.1, setuptools 57.5.0 and wheel 0.37.0\u001b[K\n",
            "remote: -----> Installing SQLite3\u001b[K\n",
            "remote: -----> Installing requirements with pip\u001b[K\n",
            "remote:        Collecting fastapi==0.68.1\u001b[K\n",
            "remote:          Downloading fastapi-0.68.1-py3-none-any.whl (52 kB)\u001b[K\n",
            "remote:        Collecting tensorflow-cpu==2.8.0\u001b[K\n",
            "remote:          Downloading tensorflow_cpu-2.8.0-cp310-cp310-manylinux2010_x86_64.whl (190.6 MB)\u001b[K\n",
            "remote:        Collecting uvicorn==0.15.0\u001b[K\n",
            "remote:          Downloading uvicorn-0.15.0-py3-none-any.whl (54 kB)\u001b[K\n",
            "remote:        Collecting Pillow==7.1.2\u001b[K\n",
            "remote:          Downloading Pillow-7.1.2.tar.gz (38.9 MB)\u001b[K\n",
            "remote:          Preparing metadata (setup.py): started\u001b[K\n",
            "remote:          Preparing metadata (setup.py): finished with status 'done'\u001b[K\n",
            "remote:        Collecting python-multipart==0.0.5\u001b[K\n",
            "remote:          Downloading python-multipart-0.0.5.tar.gz (32 kB)\u001b[K\n",
            "remote:          Preparing metadata (setup.py): started\u001b[K\n",
            "remote:          Preparing metadata (setup.py): finished with status 'done'\u001b[K\n",
            "remote:        Collecting pydantic!=1.7,!=1.7.1,!=1.7.2,!=1.7.3,!=1.8,!=1.8.1,<2.0.0,>=1.6.2\u001b[K\n",
            "remote:          Downloading pydantic-1.9.0-cp310-cp310-manylinux_2_17_x86_64.manylinux2014_x86_64.whl (12.3 MB)\u001b[K\n",
            "remote:        Collecting starlette==0.14.2\u001b[K\n",
            "remote:          Downloading starlette-0.14.2-py3-none-any.whl (60 kB)\u001b[K\n",
            "remote:        Collecting keras<2.9,>=2.8.0rc0\u001b[K\n",
            "remote:          Downloading keras-2.8.0-py2.py3-none-any.whl (1.4 MB)\u001b[K\n",
            "remote:        Collecting grpcio<2.0,>=1.24.3\u001b[K\n",
            "remote:          Downloading grpcio-1.44.0-cp310-cp310-manylinux_2_17_x86_64.manylinux2014_x86_64.whl (4.3 MB)\u001b[K\n",
            "remote:        Collecting tensorflow-io-gcs-filesystem>=0.23.1\u001b[K\n",
            "remote:          Downloading tensorflow_io_gcs_filesystem-0.24.0-cp310-cp310-manylinux_2_12_x86_64.manylinux2010_x86_64.whl (2.1 MB)\u001b[K\n",
            "remote:        Collecting google-pasta>=0.1.1\u001b[K\n",
            "remote:          Downloading google_pasta-0.2.0-py3-none-any.whl (57 kB)\u001b[K\n",
            "remote:        Collecting opt-einsum>=2.3.2\u001b[K\n",
            "remote:          Downloading opt_einsum-3.3.0-py3-none-any.whl (65 kB)\u001b[K\n",
            "remote:        Collecting astunparse>=1.6.0\u001b[K\n",
            "remote:          Downloading astunparse-1.6.3-py2.py3-none-any.whl (12 kB)\u001b[K\n",
            "remote:        Collecting keras-preprocessing>=1.1.1\u001b[K\n",
            "remote:          Downloading Keras_Preprocessing-1.1.2-py2.py3-none-any.whl (42 kB)\u001b[K\n",
            "remote:        Collecting numpy>=1.20\u001b[K\n",
            "remote:          Downloading numpy-1.22.3-cp310-cp310-manylinux_2_17_x86_64.manylinux2014_x86_64.whl (16.8 MB)\u001b[K\n",
            "remote:        Collecting termcolor>=1.1.0\u001b[K\n",
            "remote:          Downloading termcolor-1.1.0.tar.gz (3.9 kB)\u001b[K\n",
            "remote:          Preparing metadata (setup.py): started\u001b[K\n",
            "remote:          Preparing metadata (setup.py): finished with status 'done'\u001b[K\n",
            "remote:        Collecting six>=1.12.0\u001b[K\n",
            "remote:          Downloading six-1.16.0-py2.py3-none-any.whl (11 kB)\u001b[K\n",
            "remote:        Collecting h5py>=2.9.0\u001b[K\n",
            "remote:          Downloading h5py-3.6.0-cp310-cp310-manylinux_2_12_x86_64.manylinux2010_x86_64.whl (4.5 MB)\u001b[K\n",
            "remote:        Collecting protobuf>=3.9.2\u001b[K\n",
            "remote:          Downloading protobuf-3.20.0-cp310-cp310-manylinux_2_12_x86_64.manylinux2010_x86_64.whl (1.1 MB)\u001b[K\n",
            "remote:        Collecting gast>=0.2.1\u001b[K\n",
            "remote:          Downloading gast-0.5.3-py3-none-any.whl (19 kB)\u001b[K\n",
            "remote:        Collecting libclang>=9.0.1\u001b[K\n",
            "remote:          Downloading libclang-13.0.0-py2.py3-none-manylinux1_x86_64.whl (14.5 MB)\u001b[K\n",
            "remote:        Collecting wrapt>=1.11.0\u001b[K\n",
            "remote:          Downloading wrapt-1.14.0-cp310-cp310-manylinux_2_5_x86_64.manylinux1_x86_64.manylinux_2_17_x86_64.manylinux2014_x86_64.whl (77 kB)\u001b[K\n",
            "remote:        Collecting typing-extensions>=3.6.6\u001b[K\n",
            "remote:          Downloading typing_extensions-4.1.1-py3-none-any.whl (26 kB)\u001b[K\n",
            "remote:        Collecting tensorboard<2.9,>=2.8\u001b[K\n",
            "remote:          Downloading tensorboard-2.8.0-py3-none-any.whl (5.8 MB)\u001b[K\n",
            "remote:        Collecting flatbuffers>=1.12\u001b[K\n",
            "remote:          Downloading flatbuffers-2.0-py2.py3-none-any.whl (26 kB)\u001b[K\n",
            "remote:        Collecting absl-py>=0.4.0\u001b[K\n",
            "remote:          Downloading absl_py-1.0.0-py3-none-any.whl (126 kB)\u001b[K\n",
            "remote:        Collecting tf-estimator-nightly==2.8.0.dev2021122109\u001b[K\n",
            "remote:          Downloading tf_estimator_nightly-2.8.0.dev2021122109-py2.py3-none-any.whl (462 kB)\u001b[K\n",
            "remote:        Collecting h11>=0.8\u001b[K\n",
            "remote:          Downloading h11-0.13.0-py3-none-any.whl (58 kB)\u001b[K\n",
            "remote:        Collecting asgiref>=3.4.0\u001b[K\n",
            "remote:          Downloading asgiref-3.5.0-py3-none-any.whl (22 kB)\u001b[K\n",
            "remote:        Collecting click>=7.0\u001b[K\n",
            "remote:          Downloading click-8.1.2-py3-none-any.whl (96 kB)\u001b[K\n",
            "remote:        Collecting google-auth<3,>=1.6.3\u001b[K\n",
            "remote:          Downloading google_auth-2.6.2-py2.py3-none-any.whl (156 kB)\u001b[K\n",
            "remote:        Collecting requests<3,>=2.21.0\u001b[K\n",
            "remote:          Downloading requests-2.27.1-py2.py3-none-any.whl (63 kB)\u001b[K\n",
            "remote:        Collecting tensorboard-data-server<0.7.0,>=0.6.0\u001b[K\n",
            "remote:          Downloading tensorboard_data_server-0.6.1-py3-none-manylinux2010_x86_64.whl (4.9 MB)\u001b[K\n",
            "remote:        Collecting google-auth-oauthlib<0.5,>=0.4.1\u001b[K\n",
            "remote:          Downloading google_auth_oauthlib-0.4.6-py2.py3-none-any.whl (18 kB)\u001b[K\n",
            "remote:        Collecting tensorboard-plugin-wit>=1.6.0\u001b[K\n",
            "remote:          Downloading tensorboard_plugin_wit-1.8.1-py3-none-any.whl (781 kB)\u001b[K\n",
            "remote:        Collecting werkzeug>=0.11.15\u001b[K\n",
            "remote:          Downloading Werkzeug-2.1.1-py3-none-any.whl (224 kB)\u001b[K\n",
            "remote:        Collecting markdown>=2.6.8\u001b[K\n",
            "remote:          Downloading Markdown-3.3.6-py3-none-any.whl (97 kB)\u001b[K\n",
            "remote:        Collecting rsa<5,>=3.1.4\u001b[K\n",
            "remote:          Downloading rsa-4.8-py3-none-any.whl (39 kB)\u001b[K\n",
            "remote:        Collecting pyasn1-modules>=0.2.1\u001b[K\n",
            "remote:          Downloading pyasn1_modules-0.2.8-py2.py3-none-any.whl (155 kB)\u001b[K\n",
            "remote:        Collecting cachetools<6.0,>=2.0.0\u001b[K\n",
            "remote:          Downloading cachetools-5.0.0-py3-none-any.whl (9.1 kB)\u001b[K\n",
            "remote:        Collecting requests-oauthlib>=0.7.0\u001b[K\n",
            "remote:          Downloading requests_oauthlib-1.3.1-py2.py3-none-any.whl (23 kB)\u001b[K\n",
            "remote:        Collecting idna<4,>=2.5\u001b[K\n",
            "remote:          Downloading idna-3.3-py3-none-any.whl (61 kB)\u001b[K\n",
            "remote:        Collecting certifi>=2017.4.17\u001b[K\n",
            "remote:          Downloading certifi-2021.10.8-py2.py3-none-any.whl (149 kB)\u001b[K\n",
            "remote:        Collecting urllib3<1.27,>=1.21.1\u001b[K\n",
            "remote:          Downloading urllib3-1.26.9-py2.py3-none-any.whl (138 kB)\u001b[K\n",
            "remote:        Collecting charset-normalizer~=2.0.0\u001b[K\n",
            "remote:          Downloading charset_normalizer-2.0.12-py3-none-any.whl (39 kB)\u001b[K\n",
            "remote:        Collecting pyasn1<0.5.0,>=0.4.6\u001b[K\n",
            "remote:          Downloading pyasn1-0.4.8-py2.py3-none-any.whl (77 kB)\u001b[K\n",
            "remote:        Collecting oauthlib>=3.0.0\u001b[K\n",
            "remote:          Downloading oauthlib-3.2.0-py3-none-any.whl (151 kB)\u001b[K\n",
            "remote:        Building wheels for collected packages: Pillow, python-multipart, termcolor\u001b[K\n",
            "remote:          Building wheel for Pillow (setup.py): started\u001b[K\n",
            "remote:          Building wheel for Pillow (setup.py): finished with status 'done'\u001b[K\n",
            "remote:          Created wheel for Pillow: filename=Pillow-7.1.2-cp310-cp310-linux_x86_64.whl size=1498845 sha256=e5279826eb0fedf7a8e00e02f1c2aba6df3796278adb02488f59cb684453a760\u001b[K\n",
            "remote:          Stored in directory: /tmp/pip-ephem-wheel-cache-htdh9hmk/wheels/b1/33/ce/d1c30cb9fc3ba1b8e60a01d4f49e35a1e65b6911bd3722e3e9\u001b[K\n",
            "remote:          Building wheel for python-multipart (setup.py): started\u001b[K\n",
            "remote:          Building wheel for python-multipart (setup.py): finished with status 'done'\u001b[K\n",
            "remote:          Created wheel for python-multipart: filename=python_multipart-0.0.5-py3-none-any.whl size=31678 sha256=22bca4ca6a528caa75ac62859c955f64d4b2aedd22ec0a841b31dcf1b9c67e03\u001b[K\n",
            "remote:          Stored in directory: /tmp/pip-ephem-wheel-cache-htdh9hmk/wheels/ae/3f/03/fa4bd98cd7f4a25e63b6a0b61a7a8352e0f874cd9de1f3390d\u001b[K\n",
            "remote:          Building wheel for termcolor (setup.py): started\u001b[K\n",
            "remote:          Building wheel for termcolor (setup.py): finished with status 'done'\u001b[K\n",
            "remote:          Created wheel for termcolor: filename=termcolor-1.1.0-py3-none-any.whl size=4847 sha256=3a94a5780c8eba10d15f7ccb6bdf564443a1fb44792ea9ddbcf68b1b70064995\u001b[K\n",
            "remote:          Stored in directory: /tmp/pip-ephem-wheel-cache-htdh9hmk/wheels/a1/49/46/1b13a65d8da11238af9616b00fdde6d45b0f95d9291bac8452\u001b[K\n",
            "remote:        Successfully built Pillow python-multipart termcolor\u001b[K\n",
            "remote:        Installing collected packages: urllib3, pyasn1, idna, charset-normalizer, certifi, six, rsa, requests, pyasn1-modules, oauthlib, cachetools, requests-oauthlib, google-auth, werkzeug, typing-extensions, tensorboard-plugin-wit, tensorboard-data-server, protobuf, numpy, markdown, grpcio, google-auth-oauthlib, absl-py, wrapt, tf-estimator-nightly, termcolor, tensorflow-io-gcs-filesystem, tensorboard, starlette, pydantic, opt-einsum, libclang, keras-preprocessing, keras, h5py, h11, google-pasta, gast, flatbuffers, click, astunparse, asgiref, uvicorn, tensorflow-cpu, python-multipart, Pillow, fastapi\u001b[K\n",
            "remote:        Successfully installed Pillow-7.1.2 absl-py-1.0.0 asgiref-3.5.0 astunparse-1.6.3 cachetools-5.0.0 certifi-2021.10.8 charset-normalizer-2.0.12 click-8.1.2 fastapi-0.68.1 flatbuffers-2.0 gast-0.5.3 google-auth-2.6.2 google-auth-oauthlib-0.4.6 google-pasta-0.2.0 grpcio-1.44.0 h11-0.13.0 h5py-3.6.0 idna-3.3 keras-2.8.0 keras-preprocessing-1.1.2 libclang-13.0.0 markdown-3.3.6 numpy-1.22.3 oauthlib-3.2.0 opt-einsum-3.3.0 protobuf-3.20.0 pyasn1-0.4.8 pyasn1-modules-0.2.8 pydantic-1.9.0 python-multipart-0.0.5 requests-2.27.1 requests-oauthlib-1.3.1 rsa-4.8 six-1.16.0 starlette-0.14.2 tensorboard-2.8.0 tensorboard-data-server-0.6.1 tensorboard-plugin-wit-1.8.1 tensorflow-cpu-2.8.0 tensorflow-io-gcs-filesystem-0.24.0 termcolor-1.1.0 tf-estimator-nightly-2.8.0.dev2021122109 typing-extensions-4.1.1 urllib3-1.26.9 uvicorn-0.15.0 werkzeug-2.1.1 wrapt-1.14.0\u001b[K\n",
            "remote: -----> Discovering process types\u001b[K\n",
            "remote:        Procfile declares types -> web\u001b[K\n",
            "remote: \n",
            "remote: -----> Compressing...\u001b[K\n",
            "remote:        Done: 318.9M\u001b[K\n",
            "remote: -----> Launching...\u001b[K\n",
            "remote:  !     Warning: Your slug size (318 MB) exceeds our soft limit (300 MB) which may affect boot time.\u001b[K\n",
            "remote:        Released v3\u001b[K\n",
            "remote:        https://warm-wave-73221.herokuapp.com/ deployed to Heroku\u001b[K\n",
            "remote: \n",
            "remote: Verifying deploy... done.\u001b[K\n",
            "To https://git.heroku.com/warm-wave-73221.git\n",
            " * [new branch]      master -> master\n"
          ]
        }
      ]
    },
    {
      "cell_type": "markdown",
      "metadata": {
        "id": "X7dk-7NohCHW"
      },
      "source": [
        "Используйте эту же команду всякий раз, когда хотите развернуть последнюю зафиксированную версию вашего кода в **Heroku**.\n",
        "\n",
        "Обратите внимание, что **Heroku** развертывает только тот код, который вы отправляете в ветку **master** или **main**. Перенос кода в другую ветку удаленного репозитория **Heroku** не даст никакого эффекта."
      ]
    },
    {
      "cell_type": "markdown",
      "metadata": {
        "id": "-FdHqb7C-eyg"
      },
      "source": [
        "## Проверка результа"
      ]
    },
    {
      "cell_type": "markdown",
      "metadata": {
        "id": "J2B-9JGVgOVZ"
      },
      "source": [
        "Отправим запрос с изображением на удаленный сервер. Укажем в запросе URL, полученный на предыдущем шаге:"
      ]
    },
    {
      "cell_type": "code",
      "metadata": {
        "id": "_iobNhIleN-V",
        "colab": {
          "base_uri": "https://localhost:8080/"
        },
        "outputId": "c1336aff-9d4b-4aa9-9586-e1b7e3c7b212"
      },
      "source": [
        "files = {'file': open('auto.jpg','rb')}\n",
        "r = requests.post('https://warm-wave-73221.herokuapp.com/predict', files=files)\n",
        "print(r.status_code)"
      ],
      "execution_count": null,
      "outputs": [
        {
          "output_type": "stream",
          "name": "stdout",
          "text": [
            "200\n"
          ]
        }
      ]
    },
    {
      "cell_type": "markdown",
      "metadata": {
        "id": "vtA04YH34ESb"
      },
      "source": [
        "Проверим результат предсказания:"
      ]
    },
    {
      "cell_type": "code",
      "metadata": {
        "colab": {
          "base_uri": "https://localhost:8080/"
        },
        "id": "_eOpRkAvg8hn",
        "outputId": "2c4874bd-db20-4525-a050-ce1724626278"
      },
      "source": [
        "r.json()"
      ],
      "execution_count": null,
      "outputs": [
        {
          "output_type": "execute_result",
          "data": {
            "text/plain": [
              "{'result': '[0.0, 1.0, 0.0]'}"
            ]
          },
          "metadata": {},
          "execution_count": 39
        }
      ]
    },
    {
      "cell_type": "markdown",
      "metadata": {
        "id": "oPnuKJCIA3cv"
      },
      "source": [
        "Поздравляем!\n",
        "Вы создали веб-сервис с собственным API и разместили его в интернете!"
      ]
    }
  ]
}