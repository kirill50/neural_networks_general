{
  "nbformat": 4,
  "nbformat_minor": 0,
  "metadata": {
    "colab": {
      "provenance": []
    },
    "kernelspec": {
      "name": "python3",
      "display_name": "Python 3"
    },
    "language_info": {
      "name": "python"
    }
  },
  "cells": [
    {
      "cell_type": "markdown",
      "metadata": {
        "id": "py_WZFuBkE-e"
      },
      "source": [
        "**Содержание темы**\n",
        "\n",
        "1. [Теория](https://colab.research.google.com/drive/1J63iIsxX-cFs7Er_F-ibZKC37rMq-iAO?usp=sharing)\n",
        "\n",
        "2. Практика 1 \n",
        "\n",
        "3. [Практика 2](https://colab.research.google.com/drive/1u-C4YluObVMEcjeOk8WnqQGm5AueaK_i?usp=sharing)\n"
      ]
    },
    {
      "cell_type": "markdown",
      "metadata": {
        "id": "KvFqYU6s715z"
      },
      "source": [
        "## Алгоритм K-Means"
      ]
    },
    {
      "cell_type": "markdown",
      "metadata": {
        "id": "fQDRF90-jUii"
      },
      "source": [
        "Перейдем к практической части урока по кластеризации данных. Для этого используем набор данных цветков ирисов  Фишера (*iris*) - это классический и очень простой датасет для многоклассовой классификации из библиотеки **sklearn**.\n",
        "\n",
        "Ирисы Фишера состоят из данных о 150 экземплярах ириса, по 50 экземпляров из трёх видов — Ирис щетинистый (Iris setosa), Ирис виргинский (Iris virginica) и Ирис разноцветный (Iris versicolor). Для каждого экземпляра измерялись четыре характеристики (в сантиметрах):\n",
        "\n",
        "- Длина наружной доли околоцветника (англ. *sepal length*);\n",
        "- Ширина наружной доли околоцветника (англ. *sepal width*);\n",
        "- Длина внутренней доли околоцветника (англ. *petal length*);\n",
        "- Ширина внутренней доли околоцветника (англ. *petal width*).\n",
        "\n",
        "Попробуем применить изученные алгоритмы кластеризации для этого датасета. Начнем с *K-Means*, разберем его подробнее.\n",
        "\n",
        "Импортируем необходимые библиотеки:"
      ]
    },
    {
      "cell_type": "code",
      "metadata": {
        "id": "X6TCXcCblWks"
      },
      "source": [
        "# Импорт датасета из библиотеки sklearn\n",
        "from sklearn.datasets import load_iris\n",
        "\n",
        "# Подключение библиотеки отображения графиков\n",
        "import matplotlib.pyplot as plt\n",
        "\n",
        "# Подключение библиотеки для работы с таблицами\n",
        "import pandas as pd\n",
        "\n",
        "# Импорт алгоритмов кластеризации\n",
        "from sklearn.cluster import KMeans, AgglomerativeClustering, DBSCAN\n",
        "\n",
        "# Импорт метрики качества кластеризации\n",
        "from sklearn.metrics.cluster import adjusted_rand_score"
      ],
      "execution_count": null,
      "outputs": []
    },
    {
      "cell_type": "markdown",
      "metadata": {
        "id": "rxrhPYX0A-VT"
      },
      "source": [
        "Загрузим данные, посмотрим их формат:"
      ]
    },
    {
      "cell_type": "code",
      "metadata": {
        "colab": {
          "base_uri": "https://localhost:8080/"
        },
        "id": "YkoPoTOYlhlX",
        "outputId": "6e327c7b-ec9f-42a8-f8bd-d637e7196921"
      },
      "source": [
        "# Загрузка датасета \n",
        "iris = load_iris()\n",
        "\n",
        "# Вывод признаков классов\n",
        "print(iris.feature_names)\n",
        "\n",
        "# Вывод меток классов\n",
        "print(iris.target)\n",
        "\n",
        "# Вывод названий классов\n",
        "print(iris.target_names)"
      ],
      "execution_count": null,
      "outputs": [
        {
          "output_type": "stream",
          "name": "stdout",
          "text": [
            "['sepal length (cm)', 'sepal width (cm)', 'petal length (cm)', 'petal width (cm)']\n",
            "[0 0 0 0 0 0 0 0 0 0 0 0 0 0 0 0 0 0 0 0 0 0 0 0 0 0 0 0 0 0 0 0 0 0 0 0 0\n",
            " 0 0 0 0 0 0 0 0 0 0 0 0 0 1 1 1 1 1 1 1 1 1 1 1 1 1 1 1 1 1 1 1 1 1 1 1 1\n",
            " 1 1 1 1 1 1 1 1 1 1 1 1 1 1 1 1 1 1 1 1 1 1 1 1 1 1 2 2 2 2 2 2 2 2 2 2 2\n",
            " 2 2 2 2 2 2 2 2 2 2 2 2 2 2 2 2 2 2 2 2 2 2 2 2 2 2 2 2 2 2 2 2 2 2 2 2 2\n",
            " 2 2]\n",
            "['setosa' 'versicolor' 'virginica']\n"
          ]
        }
      ]
    },
    {
      "cell_type": "markdown",
      "metadata": {
        "id": "tZDcWUIs7hUg"
      },
      "source": [
        "Теперь создадим и обучим модель алгоритма K-Means. \n",
        "\n",
        "Основные характеристики:\n",
        "- 11 параметров\n",
        "- по умолчанию: 10 начальных запусков, кластеризация на 8 групп\n",
        "\n",
        "Основные параметры: \n",
        "- **n_clusters** - Количество кластеров, которые нужно сформировать, а также количество центроидов, которые необходимо создать.\n",
        "- **init: ‘k-means+’, ‘random’, ndarray** - начальное\n",
        "приближение\n",
        "- **max_iter** - кол-во итераций\n",
        "\n",
        "Основные методы:\n",
        "\n",
        "- **fit** - вычисление кластеризации\n",
        "- **predict** - прогноз ближайшего кластера, к которому принадлежит каждый образец.\n",
        "- **fit_predict** - вычисление центров кластеров и прогноз индексов кластера для каждой выборки \n",
        "- **transform** - преобразование в пространство кластерных расстояний \n",
        "- **fit_transform** - вычисление кластеризации и преобразование в пространство кластерных расстояний\n",
        "\n"
      ]
    },
    {
      "cell_type": "code",
      "metadata": {
        "colab": {
          "base_uri": "https://localhost:8080/"
        },
        "id": "NPvzlTys7ZiZ",
        "outputId": "017a5761-3570-4596-d1a2-04fbf0a0302e"
      },
      "source": [
        "# Создание модели алгоритма K-Means для деления на три кластера                                                                    \n",
        "model = KMeans(n_clusters=3)\n",
        "\n",
        "# Вычисление кластеризации \n",
        "model.fit(iris.data)\n",
        "\n",
        "# Результат кластеризации\n",
        "predictions = model.predict(iris.data)\n",
        "\n",
        "# Вывод результатов кластеризации\n",
        "print(predictions)"
      ],
      "execution_count": null,
      "outputs": [
        {
          "output_type": "stream",
          "name": "stdout",
          "text": [
            "[1 1 1 1 1 1 1 1 1 1 1 1 1 1 1 1 1 1 1 1 1 1 1 1 1 1 1 1 1 1 1 1 1 1 1 1 1\n",
            " 1 1 1 1 1 1 1 1 1 1 1 1 1 2 2 0 2 2 2 2 2 2 2 2 2 2 2 2 2 2 2 2 2 2 2 2 2\n",
            " 2 2 2 0 2 2 2 2 2 2 2 2 2 2 2 2 2 2 2 2 2 2 2 2 2 2 0 2 0 0 0 0 2 0 0 0 0\n",
            " 0 0 2 2 0 0 0 0 2 0 2 0 2 0 0 2 2 0 0 0 0 0 2 0 0 0 0 2 0 0 0 2 0 0 0 2 0\n",
            " 0 2]\n"
          ]
        }
      ]
    },
    {
      "cell_type": "markdown",
      "metadata": {
        "id": "AeEKHhRBFNrp"
      },
      "source": [
        "На данном наборе данных, учитывая то, что названия классов не важны, можно заметить, что один класс был выделен в отдельный кластер со 100% совпадением с исходными метками, остальные же два класса выделены неверно. \n",
        "\n",
        "Оценим качество кластеризации с помощью метрики **ARI**, так как нам известны метки реальных классов:"
      ]
    },
    {
      "cell_type": "code",
      "metadata": {
        "colab": {
          "base_uri": "https://localhost:8080/"
        },
        "id": "VSiAEZNhBN1p",
        "outputId": "806162ce-1144-4c33-d260-8a12990ccfda"
      },
      "source": [
        "# Оценка качества кластеризации с помощью метрики ARI\n",
        "adjusted_rand_score(predictions, iris.target)"
      ],
      "execution_count": null,
      "outputs": [
        {
          "output_type": "execute_result",
          "data": {
            "text/plain": [
              "0.7302382722834697"
            ]
          },
          "metadata": {},
          "execution_count": 137
        }
      ]
    },
    {
      "cell_type": "markdown",
      "metadata": {
        "id": "sdNhbnl4H0PE"
      },
      "source": [
        "Судя по метрике, алгоритм кластеризовал данные верно на 73%. Посмотрим, как справится с той же задачей алгоритм *Agglomerative Clastering*."
      ]
    },
    {
      "cell_type": "markdown",
      "metadata": {
        "id": "pp_aZfkxIbRZ"
      },
      "source": [
        "##  Алгоритм Agglomerative Clastering"
      ]
    },
    {
      "cell_type": "markdown",
      "metadata": {
        "id": "SrPI7qrdIjnb"
      },
      "source": [
        "Рассмотрим подробнее класс *Agglomerative Clustering*:\n",
        "\n",
        "Основные параметры:\n",
        "- **n_clusters** - количество кластеров \n",
        "- **linkage: «ward», «complete», «average»** - критерий связи, определяет, какое расстояние использовать между наборами точек\n",
        "- **affinity: “euclidean”, “l1”, “l2”, “manhattan”, “cosine”, «precomputed»** (для `linkage = «ward»` доступно только евклидово) - метрика для вычисления связи\n",
        "- **connectivity** - матрица связности.\n",
        "\n",
        "Основные методы:\n",
        "- **fit** - иерархическая кластеризация объектов\n",
        "- **fit_predict** - подбор и определение результата кластеризации"
      ]
    },
    {
      "cell_type": "code",
      "metadata": {
        "id": "gxKtdnH8JP0o",
        "colab": {
          "base_uri": "https://localhost:8080/"
        },
        "outputId": "b4e01a67-2ebc-411f-a2c3-cc74e8916124"
      },
      "source": [
        "# Создание модели алгоритма AgglomerativeClustering для деления на три кластера                                                                    \n",
        "model1 = AgglomerativeClustering(n_clusters=3)\n",
        "\n",
        "# Вычисление и результат кластеризации\n",
        "predictions1 = model1.fit_predict(iris.data)\n",
        "\n",
        "# Вывод результатов кластеризации\n",
        "print(predictions1)"
      ],
      "execution_count": null,
      "outputs": [
        {
          "output_type": "stream",
          "name": "stdout",
          "text": [
            "[1 1 1 1 1 1 1 1 1 1 1 1 1 1 1 1 1 1 1 1 1 1 1 1 1 1 1 1 1 1 1 1 1 1 1 1 1\n",
            " 1 1 1 1 1 1 1 1 1 1 1 1 1 0 0 0 0 0 0 0 0 0 0 0 0 0 0 0 0 0 0 0 0 0 0 0 0\n",
            " 0 0 0 2 0 0 0 0 0 0 0 0 0 0 0 0 0 0 0 0 0 0 0 0 0 0 2 0 2 2 2 2 0 2 2 2 2\n",
            " 2 2 0 0 2 2 2 2 0 2 0 2 0 2 2 0 0 2 2 2 2 2 0 0 2 2 2 0 2 2 2 0 2 2 2 0 2\n",
            " 2 0]\n"
          ]
        }
      ]
    },
    {
      "cell_type": "markdown",
      "metadata": {
        "id": "YWMcqGFlLhkW"
      },
      "source": [
        "Видим, что первый класс также выделен правильно, точность выделения второго и третьего класса очень похожа на результаты кластеризации K-Means. Проверим наши выводы с помощью метрики:"
      ]
    },
    {
      "cell_type": "code",
      "metadata": {
        "colab": {
          "base_uri": "https://localhost:8080/"
        },
        "id": "zUvrg6soL1kD",
        "outputId": "34c0e56d-bbf8-4e40-fedc-59438ee97857"
      },
      "source": [
        "# Оценка качества кластеризации с помощью метрики ARI\n",
        "adjusted_rand_score(predictions1, iris.target)"
      ],
      "execution_count": null,
      "outputs": [
        {
          "output_type": "execute_result",
          "data": {
            "text/plain": [
              "0.7311985567707745"
            ]
          },
          "metadata": {},
          "execution_count": 42
        }
      ]
    },
    {
      "cell_type": "markdown",
      "metadata": {
        "id": "5JpgwdD-MfqZ"
      },
      "source": [
        "Метрика показывает правильность кластеризации 73%, т.е. результат почти такой же, как и в первом алгоритме.\n",
        "\n",
        "Есть ещё один способ визуализации результатов иерархической кластеризации - это дендрограмма из библиотеки **SciPy**. \n",
        "\n",
        "Реализуем её для нашего результата:"
      ]
    },
    {
      "cell_type": "code",
      "metadata": {
        "id": "TCOqk-qzQDoU"
      },
      "source": [
        "# Импорт дендрограммы и функции кластеризации ward \n",
        "from scipy.cluster.hierarchy import dendrogram, ward, linkage"
      ],
      "execution_count": null,
      "outputs": []
    },
    {
      "cell_type": "code",
      "metadata": {
        "colab": {
          "base_uri": "https://localhost:8080/",
          "height": 265
        },
        "id": "yDt-O3VrQj1A",
        "outputId": "a7a8eaeb-c1c5-4d5b-8cc3-0bcb0c4f3c7e"
      },
      "source": [
        "# Получение массива расстояний, вычисленных в ходе аггломеративной кластеризации\n",
        "linkage_array = ward(iris.data)\n",
        "\n",
        "# Строим дендрограмму, указав параметры удобные для отображения\n",
        "dn = dendrogram(linkage_array)"
      ],
      "execution_count": null,
      "outputs": [
        {
          "output_type": "display_data",
          "data": {
            "image/png": "[encoded data removed]",
            "text/plain": [
              "<Figure size 432x288 with 1 Axes>"
            ]
          },
          "metadata": {
            "needs_background": "light"
          }
        }
      ]
    },
    {
      "cell_type": "markdown",
      "metadata": {
        "id": "TB5_m7iMWu0-"
      },
      "source": [
        "Получившаяся дендрограмма показывает, что выделение первого кластера (зеленые линии) происходит более определенно, чем выделение соседних двух, которые, по сути, могут быть объединены в один кластер."
      ]
    },
    {
      "cell_type": "markdown",
      "metadata": {
        "id": "9e5hU7OOPh6v"
      },
      "source": [
        "Попробуем ещё один рассмотренный нами алгоритм - DBSCAN."
      ]
    },
    {
      "cell_type": "markdown",
      "metadata": {
        "id": "OWcDPbX1M0zZ"
      },
      "source": [
        "## Алгоритм DBSCAN\n",
        "\n"
      ]
    },
    {
      "cell_type": "markdown",
      "metadata": {
        "id": "0piBOsTVNzoT"
      },
      "source": [
        "Напомним, что основное отличие алгоритма DBSCAN от двух предыдущих заключается в том, что для его работы не требуется информация о количестве кластеров.\n",
        "\n",
        "Основные параметры:\n",
        "- **eps** - размер окрестности\n",
        "- **min_samples** - кол-во точек в окрестности ядра\n",
        "\n",
        "Основные методы:\n",
        "- **fit** - кластеризация DBSCAN по объектам или матрице расстояний\n",
        "- **fit_predict** - вычисление кластеров из матрицы данных или расстояний и прогноз меток"
      ]
    },
    {
      "cell_type": "markdown",
      "metadata": {
        "id": "loXshQISX3fd"
      },
      "source": [
        "Так как для данного алгоритма мы не можем задать количество кластеров, а количество точек каждого кластера примерно одинаково, с помощью цикла попробуем подобрать оптимальные параметры **eps**:"
      ]
    },
    {
      "cell_type": "code",
      "metadata": {
        "colab": {
          "base_uri": "https://localhost:8080/"
        },
        "id": "G1OwvaysNig0",
        "outputId": "b5984a8f-c91b-4449-a0e7-3576cdc7c9cf"
      },
      "source": [
        "# Импорт библиотеки для работы с массивами\n",
        "import numpy as np\n",
        "\n",
        "# Перебор значений окрестности от 0.1 до 2.0 с шагом 0.1\n",
        "for i in np.arange(0.1, 2.0, 0.1):\n",
        "\n",
        "    # Создание модели алгоритма DBSCAN                                                                    \n",
        "    model2 = DBSCAN(eps=i, min_samples=2)\n",
        "\n",
        "    # Вычисление и результат кластеризации\n",
        "    predictions2 = model2.fit_predict(iris.data)\n",
        "\n",
        "    # Вывод оценки качества для заданного значения\n",
        "    print(f'eps:{i}, ARI: {adjusted_rand_score(predictions2, iris.target)}')"
      ],
      "execution_count": null,
      "outputs": [
        {
          "output_type": "stream",
          "name": "stdout",
          "text": [
            "eps:0.1, ARI: 0.002668329648317235\n",
            "eps:0.2, ARI: 0.06275140148244816\n",
            "eps:0.30000000000000004, ARI: 0.2737404855411581\n",
            "eps:0.4, ARI: 0.7048053311544831\n",
            "eps:0.5, ARI: 0.5232609135042579\n",
            "eps:0.6, ARI: 0.539513868348372\n",
            "eps:0.7000000000000001, ARI: 0.5617321312902849\n",
            "eps:0.8, ARI: 0.5637510205230709\n",
            "eps:0.9, ARI: 0.5681159420289855\n",
            "eps:1.0, ARI: 0.5681159420289855\n",
            "eps:1.1, ARI: 0.5681159420289855\n",
            "eps:1.2000000000000002, ARI: 0.5681159420289855\n",
            "eps:1.3000000000000003, ARI: 0.5681159420289855\n",
            "eps:1.4000000000000001, ARI: 0.5681159420289855\n",
            "eps:1.5000000000000002, ARI: 0.5681159420289855\n",
            "eps:1.6, ARI: 0.5681159420289855\n",
            "eps:1.7000000000000002, ARI: 0.0\n",
            "eps:1.8000000000000003, ARI: 0.0\n",
            "eps:1.9000000000000001, ARI: 0.0\n"
          ]
        }
      ]
    },
    {
      "cell_type": "markdown",
      "metadata": {
        "id": "RL0nv_p7Z_HJ"
      },
      "source": [
        "По результатам видно, что максимальная точность получилась при радиусе окрестности 0.4, выведем полученные метки:"
      ]
    },
    {
      "cell_type": "code",
      "metadata": {
        "colab": {
          "base_uri": "https://localhost:8080/"
        },
        "id": "wqiJeSe7NkhJ",
        "outputId": "61d20b87-af16-44c5-d490-9a797070f956"
      },
      "source": [
        "# Создание модели алгоритма DBSCAN                                                                    \n",
        "model2 = DBSCAN(eps=0.4, min_samples=2)\n",
        "\n",
        "# Вычисление и результат кластеризации\n",
        "predictions2 = model2.fit_predict(iris.data)\n",
        "\n",
        "# Вывод результатов кластеризации\n",
        "print(predictions2)"
      ],
      "execution_count": null,
      "outputs": [
        {
          "output_type": "stream",
          "name": "stdout",
          "text": [
            "[ 0  0  0  0  0  0  0  0  0  0  0  0  0  0 -1  0  0  0  0  0  0  0 -1  0\n",
            "  0  0  0  0  0  0  0  0  0  0  0  0  0  0  0  0  0 -1  0  0  0  0  0  0\n",
            "  0  0  1  1  1  1  1  1  1  2  1  1  2  1 -1  1 -1  1  1  1  3  1  4  1\n",
            "  4  1  1  1  1  1  1  1  1  1  1  4  1  1  1  3  1  1  1  1  1  2  1  1\n",
            "  1  1  2  1 -1  4  4  4  4  5 -1  6 -1 -1  4  4  4  4 -1  4  4 -1 -1 -1\n",
            "  4  4  5  4  4  4  4  4  4  4  6 -1  4  4 -1 -1  4  4  4  4  4  4  4  4\n",
            "  4  4  4  4  4  4]\n"
          ]
        }
      ]
    },
    {
      "cell_type": "markdown",
      "metadata": {
        "id": "ZqPV2Frmar8n"
      },
      "source": [
        "По меткам видно, что многие экземпляры были отнесены алгоритмом к классу выбросов (-1), остальные поделены на семь классов, четыре из которых очень малы, основная же масса также состоит из трех классов, поэтому и достигнута точность в 70%."
      ]
    },
    {
      "cell_type": "markdown",
      "metadata": {
        "id": "_vRceBVWbfpd"
      },
      "source": [
        "**Вывод:**\n",
        "\n",
        "При сравнении трёх алгоритмов кластеризации на наборе данных ирисов были получены приблизительно равные результаты и ни один из них не превысил 75%. По результатам кластеризации можно видеть, что характеристики для первого класса значительно отличаются от двух других, пересекающихся между собой."
      ]
    },
    {
      "cell_type": "markdown",
      "metadata": {
        "id": "a6jaq2cor1BB"
      },
      "source": [
        "**Содержание темы**\n",
        "1. [Теория](https://colab.research.google.com/drive/1J63iIsxX-cFs7Er_F-ibZKC37rMq-iAO?usp=sharing)\n",
        "\n",
        "2. Практика 1 \n",
        "\n",
        "3. [Практика 2](https://colab.research.google.com/drive/1u-C4YluObVMEcjeOk8WnqQGm5AueaK_i?usp=sharing)\n"
      ]
    }
  ]
}